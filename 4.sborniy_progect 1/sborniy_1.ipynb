{
 "cells": [
  {
   "cell_type": "markdown",
   "id": "6e907c3a",
   "metadata": {},
   "source": [
    "# План рекламных кампаний для магазина компьютерных игр\n",
    "\n",
    "Описание проекта\n",
    "\n",
    "Интернет-магазин продаёт компьютерные игры по всему миру. Нам доступны исторические данные о продажах игр, оценки пользователей и экспертов, жанры и платформы (например, Xbox или PlayStation). Необходимо выявить определяющие успешность игры закономерности. Это позволит сделать ставку на потенциально популярный продукт и спланировать рекламные кампании.\n",
    "\n",
    "Перед нами данные до 2016 года. Представим, что сейчас декабрь 2016 г., и мы планируем кампанию на 2017-й.\n",
    "\n",
    "\n",
    "\n",
    "Оглавление проекта:\n",
    "\n",
    "1.Откроем файл с данными и изучим общую информацию\n",
    "2.Подготовим данные\n",
    "3.Проведем исследовательский анализ данных\n",
    "4.Составим портрет пользователя каждого региона\n",
    "5.Проверим гипотезы\n",
    "6.Общий вывод\n"
   ]
  },
  {
   "cell_type": "code",
   "execution_count": 52,
   "id": "2e83a83a",
   "metadata": {},
   "outputs": [
    {
     "name": "stdout",
     "output_type": "stream",
     "text": [
      "<class 'pandas.core.frame.DataFrame'>\n",
      "RangeIndex: 16715 entries, 0 to 16714\n",
      "Data columns (total 11 columns):\n",
      "Name               16713 non-null object\n",
      "Platform           16715 non-null object\n",
      "Year_of_Release    16446 non-null float64\n",
      "Genre              16713 non-null object\n",
      "NA_sales           16715 non-null float64\n",
      "EU_sales           16715 non-null float64\n",
      "JP_sales           16715 non-null float64\n",
      "Other_sales        16715 non-null float64\n",
      "Critic_Score       8137 non-null float64\n",
      "User_Score         10014 non-null object\n",
      "Rating             9949 non-null object\n",
      "dtypes: float64(6), object(5)\n",
      "memory usage: 1.4+ MB\n"
     ]
    }
   ],
   "source": [
    "import pandas as pd\n",
    "from datetime import datetime\n",
    "import seaborn as sns\n",
    "import matplotlib.pyplot as plt\n",
    "from scipy import stats as st\n",
    "import plotly.express as px\n",
    "games = pd.read_csv('/datasets/games.csv')\n",
    "games.info()"
   ]
  },
  {
   "cell_type": "code",
   "execution_count": 3,
   "id": "f1877d3f",
   "metadata": {},
   "outputs": [
    {
     "data": {
      "text/html": [
       "<div>\n",
       "<style scoped>\n",
       "    .dataframe tbody tr th:only-of-type {\n",
       "        vertical-align: middle;\n",
       "    }\n",
       "\n",
       "    .dataframe tbody tr th {\n",
       "        vertical-align: top;\n",
       "    }\n",
       "\n",
       "    .dataframe thead th {\n",
       "        text-align: right;\n",
       "    }\n",
       "</style>\n",
       "<table border=\"1\" class=\"dataframe\">\n",
       "  <thead>\n",
       "    <tr style=\"text-align: right;\">\n",
       "      <th></th>\n",
       "      <th>Name</th>\n",
       "      <th>Platform</th>\n",
       "      <th>Year_of_Release</th>\n",
       "      <th>Genre</th>\n",
       "      <th>NA_sales</th>\n",
       "      <th>EU_sales</th>\n",
       "      <th>JP_sales</th>\n",
       "      <th>Other_sales</th>\n",
       "      <th>Critic_Score</th>\n",
       "      <th>User_Score</th>\n",
       "      <th>Rating</th>\n",
       "    </tr>\n",
       "  </thead>\n",
       "  <tbody>\n",
       "    <tr>\n",
       "      <td>0</td>\n",
       "      <td>Wii Sports</td>\n",
       "      <td>Wii</td>\n",
       "      <td>2006.0</td>\n",
       "      <td>Sports</td>\n",
       "      <td>41.36</td>\n",
       "      <td>28.96</td>\n",
       "      <td>3.77</td>\n",
       "      <td>8.45</td>\n",
       "      <td>76.0</td>\n",
       "      <td>8</td>\n",
       "      <td>E</td>\n",
       "    </tr>\n",
       "    <tr>\n",
       "      <td>1</td>\n",
       "      <td>Super Mario Bros.</td>\n",
       "      <td>NES</td>\n",
       "      <td>1985.0</td>\n",
       "      <td>Platform</td>\n",
       "      <td>29.08</td>\n",
       "      <td>3.58</td>\n",
       "      <td>6.81</td>\n",
       "      <td>0.77</td>\n",
       "      <td>NaN</td>\n",
       "      <td>NaN</td>\n",
       "      <td>NaN</td>\n",
       "    </tr>\n",
       "    <tr>\n",
       "      <td>2</td>\n",
       "      <td>Mario Kart Wii</td>\n",
       "      <td>Wii</td>\n",
       "      <td>2008.0</td>\n",
       "      <td>Racing</td>\n",
       "      <td>15.68</td>\n",
       "      <td>12.76</td>\n",
       "      <td>3.79</td>\n",
       "      <td>3.29</td>\n",
       "      <td>82.0</td>\n",
       "      <td>8.3</td>\n",
       "      <td>E</td>\n",
       "    </tr>\n",
       "  </tbody>\n",
       "</table>\n",
       "</div>"
      ],
      "text/plain": [
       "                Name Platform  Year_of_Release     Genre  NA_sales  EU_sales  \\\n",
       "0         Wii Sports      Wii           2006.0    Sports     41.36     28.96   \n",
       "1  Super Mario Bros.      NES           1985.0  Platform     29.08      3.58   \n",
       "2     Mario Kart Wii      Wii           2008.0    Racing     15.68     12.76   \n",
       "\n",
       "   JP_sales  Other_sales  Critic_Score User_Score Rating  \n",
       "0      3.77         8.45          76.0          8      E  \n",
       "1      6.81         0.77           NaN        NaN    NaN  \n",
       "2      3.79         3.29          82.0        8.3      E  "
      ]
     },
     "execution_count": 3,
     "metadata": {},
     "output_type": "execute_result"
    }
   ],
   "source": [
    "games.head(3)"
   ]
  },
  {
   "cell_type": "code",
   "execution_count": 4,
   "id": "7e0e0bc0",
   "metadata": {},
   "outputs": [],
   "source": [
    "#Приведем к нижнему регистру\n",
    "\n",
    "games['Name'] = games['Name'].str.lower()\n",
    "games['Genre'] = games['Genre'].str.lower()\n"
   ]
  },
  {
   "cell_type": "code",
   "execution_count": 5,
   "id": "2038025a",
   "metadata": {
    "scrolled": true
   },
   "outputs": [
    {
     "data": {
      "text/plain": [
       "array(['E', nan, 'M', 'T', 'E10+', 'K-A', 'AO', 'EC', 'RP'], dtype=object)"
      ]
     },
     "execution_count": 5,
     "metadata": {},
     "output_type": "execute_result"
    }
   ],
   "source": [
    "games['Rating'].unique()"
   ]
  },
  {
   "cell_type": "code",
   "execution_count": 6,
   "id": "6cb5f522",
   "metadata": {},
   "outputs": [],
   "source": [
    "#Переименовали столбцы\n",
    "games = games.rename(columns = {'Name':'name','Platform':'platform','Year_of_Release':'year_of_release','Genre':'genre','NA_sales':'na_sales','EU_sales':'eu_sales','JP_sales':'jp_sales','Other_sales':'other_sales','Critic_Score':'critic_score','User_Score':'user_score','Rating':'rating'})"
   ]
  },
  {
   "cell_type": "code",
   "execution_count": 7,
   "id": "b4f04826",
   "metadata": {},
   "outputs": [],
   "source": [
    "#удалили пропущеные значения\n",
    "games.dropna(subset = ['name'], inplace = True)"
   ]
  },
  {
   "cell_type": "code",
   "execution_count": null,
   "id": "080c3281",
   "metadata": {},
   "outputs": [],
   "source": [
    "#удалили пропущеные значения\n",
    "games = games.dropna(subset = ['name'])"
   ]
  },
  {
   "cell_type": "markdown",
   "id": "1c3c9b04",
   "metadata": {},
   "source": [
    "В столбце user_score имеются значения tbd (to be determined) с английского можно перевести как будет определен позднее, то есть, для этих наблюдений оценка пользователей еще не определена. Заменили эти значения на -1.\n",
    "\n"
   ]
  },
  {
   "cell_type": "code",
   "execution_count": 8,
   "id": "a03d6d36",
   "metadata": {},
   "outputs": [],
   "source": [
    "\n",
    "games['user_score'] = games['user_score'].replace('tbd', -1)\n",
    "\n",
    "games['user_score'] = pd.to_numeric(games['user_score'])"
   ]
  },
  {
   "cell_type": "code",
   "execution_count": 9,
   "id": "be39e5ea",
   "metadata": {},
   "outputs": [],
   "source": [
    "#Преобразуйте данные в нужные типы: Год к годам,оценку пользователей к числам с плавающей запятой.\n",
    "games['year_of_release'] = games['year_of_release'].fillna(-1).astype(int)\n",
    "games['user_score'] = games['user_score'].fillna(-1).astype(float)"
   ]
  },
  {
   "cell_type": "code",
   "execution_count": 10,
   "id": "d009f997",
   "metadata": {},
   "outputs": [],
   "source": [
    "games.dropna(subset = ['name'], inplace = True)"
   ]
  },
  {
   "cell_type": "code",
   "execution_count": 11,
   "id": "9b415bc4",
   "metadata": {},
   "outputs": [
    {
     "data": {
      "text/plain": [
       "array([ 8. , -1. ,  8.3,  8.5,  6.6,  8.4,  8.6,  7.7,  6.3,  7.4,  8.2,\n",
       "        9. ,  7.9,  8.1,  8.7,  7.1,  3.4,  5.3,  4.8,  3.2,  8.9,  6.4,\n",
       "        7.8,  7.5,  2.6,  7.2,  9.2,  7. ,  7.3,  4.3,  7.6,  5.7,  5. ,\n",
       "        9.1,  6.5,  8.8,  6.9,  9.4,  6.8,  6.1,  6.7,  5.4,  4. ,  4.9,\n",
       "        4.5,  9.3,  6.2,  4.2,  6. ,  3.7,  4.1,  5.8,  5.6,  5.5,  4.4,\n",
       "        4.6,  5.9,  3.9,  3.1,  2.9,  5.2,  3.3,  4.7,  5.1,  3.5,  2.5,\n",
       "        1.9,  3. ,  2.7,  2.2,  2. ,  9.5,  2.1,  3.6,  2.8,  1.8,  3.8,\n",
       "        0. ,  1.6,  9.6,  2.4,  1.7,  1.1,  0.3,  1.5,  0.7,  1.2,  2.3,\n",
       "        0.5,  1.3,  0.2,  0.6,  1.4,  0.9,  1. ,  9.7])"
      ]
     },
     "execution_count": 11,
     "metadata": {},
     "output_type": "execute_result"
    }
   ],
   "source": [
    "games['user_score'].unique()"
   ]
  },
  {
   "cell_type": "code",
   "execution_count": 51,
   "id": "a5defb60",
   "metadata": {},
   "outputs": [
    {
     "data": {
      "text/html": [
       "<div>\n",
       "<style scoped>\n",
       "    .dataframe tbody tr th:only-of-type {\n",
       "        vertical-align: middle;\n",
       "    }\n",
       "\n",
       "    .dataframe tbody tr th {\n",
       "        vertical-align: top;\n",
       "    }\n",
       "\n",
       "    .dataframe thead th {\n",
       "        text-align: right;\n",
       "    }\n",
       "</style>\n",
       "<table border=\"1\" class=\"dataframe\">\n",
       "  <thead>\n",
       "    <tr style=\"text-align: right;\">\n",
       "      <th></th>\n",
       "      <th>name</th>\n",
       "      <th>platform</th>\n",
       "      <th>year_of_release</th>\n",
       "      <th>genre</th>\n",
       "      <th>na_sales</th>\n",
       "      <th>eu_sales</th>\n",
       "      <th>jp_sales</th>\n",
       "      <th>other_sales</th>\n",
       "      <th>critic_score</th>\n",
       "      <th>user_score</th>\n",
       "      <th>rating</th>\n",
       "      <th>total_sales</th>\n",
       "    </tr>\n",
       "  </thead>\n",
       "  <tbody>\n",
       "    <tr>\n",
       "      <td>0</td>\n",
       "      <td>wii sports</td>\n",
       "      <td>Wii</td>\n",
       "      <td>2006</td>\n",
       "      <td>sports</td>\n",
       "      <td>41.36</td>\n",
       "      <td>28.96</td>\n",
       "      <td>3.77</td>\n",
       "      <td>8.45</td>\n",
       "      <td>76.0</td>\n",
       "      <td>8.0</td>\n",
       "      <td>E</td>\n",
       "      <td>82.54</td>\n",
       "    </tr>\n",
       "    <tr>\n",
       "      <td>1</td>\n",
       "      <td>super mario bros.</td>\n",
       "      <td>NES</td>\n",
       "      <td>1985</td>\n",
       "      <td>platform</td>\n",
       "      <td>29.08</td>\n",
       "      <td>3.58</td>\n",
       "      <td>6.81</td>\n",
       "      <td>0.77</td>\n",
       "      <td>NaN</td>\n",
       "      <td>-1.0</td>\n",
       "      <td>NaN</td>\n",
       "      <td>40.24</td>\n",
       "    </tr>\n",
       "    <tr>\n",
       "      <td>2</td>\n",
       "      <td>mario kart wii</td>\n",
       "      <td>Wii</td>\n",
       "      <td>2008</td>\n",
       "      <td>racing</td>\n",
       "      <td>15.68</td>\n",
       "      <td>12.76</td>\n",
       "      <td>3.79</td>\n",
       "      <td>3.29</td>\n",
       "      <td>82.0</td>\n",
       "      <td>8.3</td>\n",
       "      <td>E</td>\n",
       "      <td>35.52</td>\n",
       "    </tr>\n",
       "    <tr>\n",
       "      <td>3</td>\n",
       "      <td>wii sports resort</td>\n",
       "      <td>Wii</td>\n",
       "      <td>2009</td>\n",
       "      <td>sports</td>\n",
       "      <td>15.61</td>\n",
       "      <td>10.93</td>\n",
       "      <td>3.28</td>\n",
       "      <td>2.95</td>\n",
       "      <td>80.0</td>\n",
       "      <td>8.0</td>\n",
       "      <td>E</td>\n",
       "      <td>32.77</td>\n",
       "    </tr>\n",
       "    <tr>\n",
       "      <td>4</td>\n",
       "      <td>pokemon red/pokemon blue</td>\n",
       "      <td>GB</td>\n",
       "      <td>1996</td>\n",
       "      <td>role-playing</td>\n",
       "      <td>11.27</td>\n",
       "      <td>8.89</td>\n",
       "      <td>10.22</td>\n",
       "      <td>1.00</td>\n",
       "      <td>NaN</td>\n",
       "      <td>-1.0</td>\n",
       "      <td>NaN</td>\n",
       "      <td>31.38</td>\n",
       "    </tr>\n",
       "  </tbody>\n",
       "</table>\n",
       "</div>"
      ],
      "text/plain": [
       "                       name platform  year_of_release         genre  na_sales  \\\n",
       "0                wii sports      Wii             2006        sports     41.36   \n",
       "1         super mario bros.      NES             1985      platform     29.08   \n",
       "2            mario kart wii      Wii             2008        racing     15.68   \n",
       "3         wii sports resort      Wii             2009        sports     15.61   \n",
       "4  pokemon red/pokemon blue       GB             1996  role-playing     11.27   \n",
       "\n",
       "   eu_sales  jp_sales  other_sales  critic_score  user_score rating  \\\n",
       "0     28.96      3.77         8.45          76.0         8.0      E   \n",
       "1      3.58      6.81         0.77           NaN        -1.0    NaN   \n",
       "2     12.76      3.79         3.29          82.0         8.3      E   \n",
       "3     10.93      3.28         2.95          80.0         8.0      E   \n",
       "4      8.89     10.22         1.00           NaN        -1.0    NaN   \n",
       "\n",
       "   total_sales  \n",
       "0        82.54  \n",
       "1        40.24  \n",
       "2        35.52  \n",
       "3        32.77  \n",
       "4        31.38  "
      ]
     },
     "execution_count": 51,
     "metadata": {},
     "output_type": "execute_result"
    }
   ],
   "source": [
    "#•\tПосчитайте суммарные продажи во всех регионах и запишите их в отдельный столбец\n",
    "games['total_sales'] = games['na_sales'] + games['eu_sales'] + games['jp_sales'] + games['other_sales']\n",
    "games.head(5)"
   ]
  },
  {
   "cell_type": "markdown",
   "id": "dd140a39",
   "metadata": {},
   "source": [
    "Посмотрим, сколько игр выпускалось в разные годы.\n",
    "Для проведения исследования нам необходимы только актуальные данные. Обратим внимание на изменение продаж у платформ, начиная с 2000 года и определим промежуток времени, который будем исследовать в дальнейшем."
   ]
  },
  {
   "cell_type": "code",
   "execution_count": 13,
   "id": "98f38417",
   "metadata": {},
   "outputs": [
    {
     "data": {
      "text/plain": [
       "Text(0.5, 0, 'Год выпуска')"
      ]
     },
     "execution_count": 13,
     "metadata": {},
     "output_type": "execute_result"
    },
    {
     "data": {
      "image/png": "[encoded data removed]",
      "text/plain": [
       "<Figure size 432x432 with 1 Axes>"
      ]
     },
     "metadata": {
      "needs_background": "light"
     },
     "output_type": "display_data"
    }
   ],
   "source": [
    "count_year = games.query('year_of_release >= 2000').groupby('year_of_release')['name'].count()\n",
    "count_year.plot(figsize=(6, 6), title='Кол-во выпущенных игр по годам')\n",
    "ax = plt.gca()\n",
    "ax.set_ylabel('Игры, шт.')\n",
    "ax.set_xlabel('Год выпуска')"
   ]
  },
  {
   "cell_type": "markdown",
   "id": "455c0c6e",
   "metadata": {},
   "source": [
    "Видим, что основная масса новых игр приходится на 2006-2012 годы, после этого периода количество выпускающихся игр идет на спад."
   ]
  },
  {
   "cell_type": "code",
   "execution_count": 14,
   "id": "e39c3d66",
   "metadata": {},
   "outputs": [
    {
     "data": {
      "text/html": [
       "<div>\n",
       "<style scoped>\n",
       "    .dataframe tbody tr th:only-of-type {\n",
       "        vertical-align: middle;\n",
       "    }\n",
       "\n",
       "    .dataframe tbody tr th {\n",
       "        vertical-align: top;\n",
       "    }\n",
       "\n",
       "    .dataframe thead th {\n",
       "        text-align: right;\n",
       "    }\n",
       "</style>\n",
       "<table border=\"1\" class=\"dataframe\">\n",
       "  <thead>\n",
       "    <tr style=\"text-align: right;\">\n",
       "      <th>year_of_release</th>\n",
       "      <th>2001</th>\n",
       "      <th>2002</th>\n",
       "      <th>2003</th>\n",
       "      <th>2004</th>\n",
       "      <th>2005</th>\n",
       "      <th>2006</th>\n",
       "      <th>2007</th>\n",
       "      <th>2008</th>\n",
       "      <th>2009</th>\n",
       "      <th>2010</th>\n",
       "      <th>2011</th>\n",
       "      <th>2012</th>\n",
       "      <th>2013</th>\n",
       "      <th>2014</th>\n",
       "      <th>2015</th>\n",
       "      <th>2016</th>\n",
       "    </tr>\n",
       "    <tr>\n",
       "      <th>platform</th>\n",
       "      <th></th>\n",
       "      <th></th>\n",
       "      <th></th>\n",
       "      <th></th>\n",
       "      <th></th>\n",
       "      <th></th>\n",
       "      <th></th>\n",
       "      <th></th>\n",
       "      <th></th>\n",
       "      <th></th>\n",
       "      <th></th>\n",
       "      <th></th>\n",
       "      <th></th>\n",
       "      <th></th>\n",
       "      <th></th>\n",
       "      <th></th>\n",
       "    </tr>\n",
       "  </thead>\n",
       "  <tbody>\n",
       "    <tr>\n",
       "      <td>3DS</td>\n",
       "      <td>-</td>\n",
       "      <td>-</td>\n",
       "      <td>-</td>\n",
       "      <td>-</td>\n",
       "      <td>-</td>\n",
       "      <td>-</td>\n",
       "      <td>-</td>\n",
       "      <td>-</td>\n",
       "      <td>-</td>\n",
       "      <td>-</td>\n",
       "      <td>116</td>\n",
       "      <td>93</td>\n",
       "      <td>91</td>\n",
       "      <td>80</td>\n",
       "      <td>86</td>\n",
       "      <td>46</td>\n",
       "    </tr>\n",
       "    <tr>\n",
       "      <td>DC</td>\n",
       "      <td>8</td>\n",
       "      <td>1</td>\n",
       "      <td>-</td>\n",
       "      <td>-</td>\n",
       "      <td>-</td>\n",
       "      <td>-</td>\n",
       "      <td>1</td>\n",
       "      <td>1</td>\n",
       "      <td>-</td>\n",
       "      <td>-</td>\n",
       "      <td>-</td>\n",
       "      <td>-</td>\n",
       "      <td>-</td>\n",
       "      <td>-</td>\n",
       "      <td>-</td>\n",
       "      <td>-</td>\n",
       "    </tr>\n",
       "    <tr>\n",
       "      <td>DS</td>\n",
       "      <td>-</td>\n",
       "      <td>-</td>\n",
       "      <td>-</td>\n",
       "      <td>23</td>\n",
       "      <td>118</td>\n",
       "      <td>201</td>\n",
       "      <td>376</td>\n",
       "      <td>492</td>\n",
       "      <td>403</td>\n",
       "      <td>323</td>\n",
       "      <td>153</td>\n",
       "      <td>23</td>\n",
       "      <td>8</td>\n",
       "      <td>-</td>\n",
       "      <td>-</td>\n",
       "      <td>-</td>\n",
       "    </tr>\n",
       "    <tr>\n",
       "      <td>GB</td>\n",
       "      <td>10</td>\n",
       "      <td>-</td>\n",
       "      <td>-</td>\n",
       "      <td>-</td>\n",
       "      <td>-</td>\n",
       "      <td>-</td>\n",
       "      <td>-</td>\n",
       "      <td>-</td>\n",
       "      <td>-</td>\n",
       "      <td>-</td>\n",
       "      <td>-</td>\n",
       "      <td>-</td>\n",
       "      <td>-</td>\n",
       "      <td>-</td>\n",
       "      <td>-</td>\n",
       "      <td>-</td>\n",
       "    </tr>\n",
       "    <tr>\n",
       "      <td>GBA</td>\n",
       "      <td>107</td>\n",
       "      <td>198</td>\n",
       "      <td>150</td>\n",
       "      <td>175</td>\n",
       "      <td>135</td>\n",
       "      <td>39</td>\n",
       "      <td>6</td>\n",
       "      <td>-</td>\n",
       "      <td>-</td>\n",
       "      <td>-</td>\n",
       "      <td>-</td>\n",
       "      <td>-</td>\n",
       "      <td>-</td>\n",
       "      <td>-</td>\n",
       "      <td>-</td>\n",
       "      <td>-</td>\n",
       "    </tr>\n",
       "    <tr>\n",
       "      <td>GC</td>\n",
       "      <td>22</td>\n",
       "      <td>152</td>\n",
       "      <td>144</td>\n",
       "      <td>83</td>\n",
       "      <td>97</td>\n",
       "      <td>40</td>\n",
       "      <td>4</td>\n",
       "      <td>-</td>\n",
       "      <td>-</td>\n",
       "      <td>-</td>\n",
       "      <td>-</td>\n",
       "      <td>-</td>\n",
       "      <td>-</td>\n",
       "      <td>-</td>\n",
       "      <td>-</td>\n",
       "      <td>-</td>\n",
       "    </tr>\n",
       "    <tr>\n",
       "      <td>N64</td>\n",
       "      <td>9</td>\n",
       "      <td>1</td>\n",
       "      <td>-</td>\n",
       "      <td>-</td>\n",
       "      <td>-</td>\n",
       "      <td>-</td>\n",
       "      <td>-</td>\n",
       "      <td>-</td>\n",
       "      <td>-</td>\n",
       "      <td>-</td>\n",
       "      <td>-</td>\n",
       "      <td>-</td>\n",
       "      <td>-</td>\n",
       "      <td>-</td>\n",
       "      <td>-</td>\n",
       "      <td>-</td>\n",
       "    </tr>\n",
       "    <tr>\n",
       "      <td>PC</td>\n",
       "      <td>15</td>\n",
       "      <td>19</td>\n",
       "      <td>33</td>\n",
       "      <td>30</td>\n",
       "      <td>37</td>\n",
       "      <td>52</td>\n",
       "      <td>62</td>\n",
       "      <td>76</td>\n",
       "      <td>107</td>\n",
       "      <td>90</td>\n",
       "      <td>139</td>\n",
       "      <td>61</td>\n",
       "      <td>38</td>\n",
       "      <td>47</td>\n",
       "      <td>50</td>\n",
       "      <td>54</td>\n",
       "    </tr>\n",
       "    <tr>\n",
       "      <td>PS</td>\n",
       "      <td>91</td>\n",
       "      <td>20</td>\n",
       "      <td>3</td>\n",
       "      <td>-</td>\n",
       "      <td>-</td>\n",
       "      <td>-</td>\n",
       "      <td>-</td>\n",
       "      <td>-</td>\n",
       "      <td>-</td>\n",
       "      <td>-</td>\n",
       "      <td>-</td>\n",
       "      <td>-</td>\n",
       "      <td>-</td>\n",
       "      <td>-</td>\n",
       "      <td>-</td>\n",
       "      <td>-</td>\n",
       "    </tr>\n",
       "    <tr>\n",
       "      <td>PS2</td>\n",
       "      <td>185</td>\n",
       "      <td>280</td>\n",
       "      <td>256</td>\n",
       "      <td>259</td>\n",
       "      <td>260</td>\n",
       "      <td>259</td>\n",
       "      <td>214</td>\n",
       "      <td>191</td>\n",
       "      <td>96</td>\n",
       "      <td>38</td>\n",
       "      <td>7</td>\n",
       "      <td>-</td>\n",
       "      <td>-</td>\n",
       "      <td>-</td>\n",
       "      <td>-</td>\n",
       "      <td>-</td>\n",
       "    </tr>\n",
       "    <tr>\n",
       "      <td>PS3</td>\n",
       "      <td>-</td>\n",
       "      <td>-</td>\n",
       "      <td>-</td>\n",
       "      <td>-</td>\n",
       "      <td>-</td>\n",
       "      <td>27</td>\n",
       "      <td>90</td>\n",
       "      <td>138</td>\n",
       "      <td>162</td>\n",
       "      <td>181</td>\n",
       "      <td>215</td>\n",
       "      <td>148</td>\n",
       "      <td>126</td>\n",
       "      <td>108</td>\n",
       "      <td>73</td>\n",
       "      <td>38</td>\n",
       "    </tr>\n",
       "    <tr>\n",
       "      <td>PS4</td>\n",
       "      <td>-</td>\n",
       "      <td>-</td>\n",
       "      <td>-</td>\n",
       "      <td>-</td>\n",
       "      <td>-</td>\n",
       "      <td>-</td>\n",
       "      <td>-</td>\n",
       "      <td>-</td>\n",
       "      <td>-</td>\n",
       "      <td>-</td>\n",
       "      <td>-</td>\n",
       "      <td>-</td>\n",
       "      <td>16</td>\n",
       "      <td>75</td>\n",
       "      <td>137</td>\n",
       "      <td>164</td>\n",
       "    </tr>\n",
       "    <tr>\n",
       "      <td>PSP</td>\n",
       "      <td>-</td>\n",
       "      <td>-</td>\n",
       "      <td>-</td>\n",
       "      <td>15</td>\n",
       "      <td>95</td>\n",
       "      <td>189</td>\n",
       "      <td>133</td>\n",
       "      <td>100</td>\n",
       "      <td>161</td>\n",
       "      <td>188</td>\n",
       "      <td>139</td>\n",
       "      <td>106</td>\n",
       "      <td>54</td>\n",
       "      <td>10</td>\n",
       "      <td>3</td>\n",
       "      <td>-</td>\n",
       "    </tr>\n",
       "    <tr>\n",
       "      <td>PSV</td>\n",
       "      <td>-</td>\n",
       "      <td>-</td>\n",
       "      <td>-</td>\n",
       "      <td>-</td>\n",
       "      <td>-</td>\n",
       "      <td>-</td>\n",
       "      <td>-</td>\n",
       "      <td>-</td>\n",
       "      <td>-</td>\n",
       "      <td>-</td>\n",
       "      <td>18</td>\n",
       "      <td>53</td>\n",
       "      <td>63</td>\n",
       "      <td>100</td>\n",
       "      <td>110</td>\n",
       "      <td>85</td>\n",
       "    </tr>\n",
       "    <tr>\n",
       "      <td>WS</td>\n",
       "      <td>2</td>\n",
       "      <td>-</td>\n",
       "      <td>-</td>\n",
       "      <td>-</td>\n",
       "      <td>-</td>\n",
       "      <td>-</td>\n",
       "      <td>-</td>\n",
       "      <td>-</td>\n",
       "      <td>-</td>\n",
       "      <td>-</td>\n",
       "      <td>-</td>\n",
       "      <td>-</td>\n",
       "      <td>-</td>\n",
       "      <td>-</td>\n",
       "      <td>-</td>\n",
       "      <td>-</td>\n",
       "    </tr>\n",
       "    <tr>\n",
       "      <td>Wii</td>\n",
       "      <td>-</td>\n",
       "      <td>-</td>\n",
       "      <td>-</td>\n",
       "      <td>-</td>\n",
       "      <td>-</td>\n",
       "      <td>44</td>\n",
       "      <td>185</td>\n",
       "      <td>282</td>\n",
       "      <td>325</td>\n",
       "      <td>253</td>\n",
       "      <td>143</td>\n",
       "      <td>31</td>\n",
       "      <td>12</td>\n",
       "      <td>6</td>\n",
       "      <td>4</td>\n",
       "      <td>1</td>\n",
       "    </tr>\n",
       "    <tr>\n",
       "      <td>WiiU</td>\n",
       "      <td>-</td>\n",
       "      <td>-</td>\n",
       "      <td>-</td>\n",
       "      <td>-</td>\n",
       "      <td>-</td>\n",
       "      <td>-</td>\n",
       "      <td>-</td>\n",
       "      <td>-</td>\n",
       "      <td>-</td>\n",
       "      <td>-</td>\n",
       "      <td>-</td>\n",
       "      <td>32</td>\n",
       "      <td>42</td>\n",
       "      <td>31</td>\n",
       "      <td>28</td>\n",
       "      <td>14</td>\n",
       "    </tr>\n",
       "    <tr>\n",
       "      <td>X360</td>\n",
       "      <td>-</td>\n",
       "      <td>-</td>\n",
       "      <td>-</td>\n",
       "      <td>-</td>\n",
       "      <td>18</td>\n",
       "      <td>93</td>\n",
       "      <td>123</td>\n",
       "      <td>146</td>\n",
       "      <td>172</td>\n",
       "      <td>182</td>\n",
       "      <td>206</td>\n",
       "      <td>106</td>\n",
       "      <td>75</td>\n",
       "      <td>63</td>\n",
       "      <td>35</td>\n",
       "      <td>13</td>\n",
       "    </tr>\n",
       "    <tr>\n",
       "      <td>XB</td>\n",
       "      <td>33</td>\n",
       "      <td>158</td>\n",
       "      <td>189</td>\n",
       "      <td>177</td>\n",
       "      <td>179</td>\n",
       "      <td>62</td>\n",
       "      <td>3</td>\n",
       "      <td>1</td>\n",
       "      <td>-</td>\n",
       "      <td>-</td>\n",
       "      <td>-</td>\n",
       "      <td>-</td>\n",
       "      <td>-</td>\n",
       "      <td>-</td>\n",
       "      <td>-</td>\n",
       "      <td>-</td>\n",
       "    </tr>\n",
       "    <tr>\n",
       "      <td>XOne</td>\n",
       "      <td>-</td>\n",
       "      <td>-</td>\n",
       "      <td>-</td>\n",
       "      <td>-</td>\n",
       "      <td>-</td>\n",
       "      <td>-</td>\n",
       "      <td>-</td>\n",
       "      <td>-</td>\n",
       "      <td>-</td>\n",
       "      <td>-</td>\n",
       "      <td>-</td>\n",
       "      <td>-</td>\n",
       "      <td>19</td>\n",
       "      <td>61</td>\n",
       "      <td>80</td>\n",
       "      <td>87</td>\n",
       "    </tr>\n",
       "  </tbody>\n",
       "</table>\n",
       "</div>"
      ],
      "text/plain": [
       "year_of_release 2001 2002 2003 2004 2005 2006 2007 2008 2009 2010 2011 2012  \\\n",
       "platform                                                                      \n",
       "3DS                -    -    -    -    -    -    -    -    -    -  116   93   \n",
       "DC                 8    1    -    -    -    -    1    1    -    -    -    -   \n",
       "DS                 -    -    -   23  118  201  376  492  403  323  153   23   \n",
       "GB                10    -    -    -    -    -    -    -    -    -    -    -   \n",
       "GBA              107  198  150  175  135   39    6    -    -    -    -    -   \n",
       "GC                22  152  144   83   97   40    4    -    -    -    -    -   \n",
       "N64                9    1    -    -    -    -    -    -    -    -    -    -   \n",
       "PC                15   19   33   30   37   52   62   76  107   90  139   61   \n",
       "PS                91   20    3    -    -    -    -    -    -    -    -    -   \n",
       "PS2              185  280  256  259  260  259  214  191   96   38    7    -   \n",
       "PS3                -    -    -    -    -   27   90  138  162  181  215  148   \n",
       "PS4                -    -    -    -    -    -    -    -    -    -    -    -   \n",
       "PSP                -    -    -   15   95  189  133  100  161  188  139  106   \n",
       "PSV                -    -    -    -    -    -    -    -    -    -   18   53   \n",
       "WS                 2    -    -    -    -    -    -    -    -    -    -    -   \n",
       "Wii                -    -    -    -    -   44  185  282  325  253  143   31   \n",
       "WiiU               -    -    -    -    -    -    -    -    -    -    -   32   \n",
       "X360               -    -    -    -   18   93  123  146  172  182  206  106   \n",
       "XB                33  158  189  177  179   62    3    1    -    -    -    -   \n",
       "XOne               -    -    -    -    -    -    -    -    -    -    -    -   \n",
       "\n",
       "year_of_release 2013 2014 2015 2016  \n",
       "platform                             \n",
       "3DS               91   80   86   46  \n",
       "DC                 -    -    -    -  \n",
       "DS                 8    -    -    -  \n",
       "GB                 -    -    -    -  \n",
       "GBA                -    -    -    -  \n",
       "GC                 -    -    -    -  \n",
       "N64                -    -    -    -  \n",
       "PC                38   47   50   54  \n",
       "PS                 -    -    -    -  \n",
       "PS2                -    -    -    -  \n",
       "PS3              126  108   73   38  \n",
       "PS4               16   75  137  164  \n",
       "PSP               54   10    3    -  \n",
       "PSV               63  100  110   85  \n",
       "WS                 -    -    -    -  \n",
       "Wii               12    6    4    1  \n",
       "WiiU              42   31   28   14  \n",
       "X360              75   63   35   13  \n",
       "XB                 -    -    -    -  \n",
       "XOne              19   61   80   87  "
      ]
     },
     "execution_count": 14,
     "metadata": {},
     "output_type": "execute_result"
    }
   ],
   "source": [
    "#Посмотрим, как менялись продажи по платформам и ответим на вопрос:\n",
    "#За какой характерный срок появляются новые и исчезают старые платформы?\n",
    "\n",
    "games.query('year_of_release > 2000').pivot_table(index='platform', columns='year_of_release', values='name', aggfunc='count', fill_value='-')"
   ]
  },
  {
   "cell_type": "markdown",
   "id": "25a60591",
   "metadata": {},
   "source": [
    "По распределению можно заметить, что примерно в 2006 году рынок платформ меняется и на замену старым приходят новые.\n",
    "\n",
    "Для дальнейшего исследования нам будет достаточно последних 10 лет.\n",
    "Оставим данные с 2006 года по 2016 включительно."
   ]
  },
  {
   "cell_type": "code",
   "execution_count": 15,
   "id": "66989219",
   "metadata": {},
   "outputs": [],
   "source": [
    "games_new = games.query('year_of_release > 2006')"
   ]
  },
  {
   "cell_type": "code",
   "execution_count": 16,
   "id": "ca328e2f",
   "metadata": {},
   "outputs": [
    {
     "data": {
      "text/html": [
       "<div>\n",
       "<style scoped>\n",
       "    .dataframe tbody tr th:only-of-type {\n",
       "        vertical-align: middle;\n",
       "    }\n",
       "\n",
       "    .dataframe tbody tr th {\n",
       "        vertical-align: top;\n",
       "    }\n",
       "\n",
       "    .dataframe thead th {\n",
       "        text-align: right;\n",
       "    }\n",
       "</style>\n",
       "<table border=\"1\" class=\"dataframe\">\n",
       "  <thead>\n",
       "    <tr style=\"text-align: right;\">\n",
       "      <th></th>\n",
       "      <th>platform</th>\n",
       "      <th>total_sales</th>\n",
       "    </tr>\n",
       "  </thead>\n",
       "  <tbody>\n",
       "    <tr>\n",
       "      <td>0</td>\n",
       "      <td>PS3</td>\n",
       "      <td>910.38</td>\n",
       "    </tr>\n",
       "    <tr>\n",
       "      <td>1</td>\n",
       "      <td>X360</td>\n",
       "      <td>901.37</td>\n",
       "    </tr>\n",
       "    <tr>\n",
       "      <td>2</td>\n",
       "      <td>Wii</td>\n",
       "      <td>754.03</td>\n",
       "    </tr>\n",
       "    <tr>\n",
       "      <td>3</td>\n",
       "      <td>DS</td>\n",
       "      <td>535.54</td>\n",
       "    </tr>\n",
       "    <tr>\n",
       "      <td>4</td>\n",
       "      <td>PS4</td>\n",
       "      <td>314.14</td>\n",
       "    </tr>\n",
       "    <tr>\n",
       "      <td>5</td>\n",
       "      <td>3DS</td>\n",
       "      <td>257.81</td>\n",
       "    </tr>\n",
       "    <tr>\n",
       "      <td>6</td>\n",
       "      <td>PSP</td>\n",
       "      <td>183.31</td>\n",
       "    </tr>\n",
       "    <tr>\n",
       "      <td>7</td>\n",
       "      <td>PS2</td>\n",
       "      <td>162.38</td>\n",
       "    </tr>\n",
       "    <tr>\n",
       "      <td>8</td>\n",
       "      <td>PC</td>\n",
       "      <td>160.57</td>\n",
       "    </tr>\n",
       "    <tr>\n",
       "      <td>9</td>\n",
       "      <td>XOne</td>\n",
       "      <td>159.32</td>\n",
       "    </tr>\n",
       "  </tbody>\n",
       "</table>\n",
       "</div>"
      ],
      "text/plain": [
       "  platform  total_sales\n",
       "0      PS3       910.38\n",
       "1     X360       901.37\n",
       "2      Wii       754.03\n",
       "3       DS       535.54\n",
       "4      PS4       314.14\n",
       "5      3DS       257.81\n",
       "6      PSP       183.31\n",
       "7      PS2       162.38\n",
       "8       PC       160.57\n",
       "9     XOne       159.32"
      ]
     },
     "execution_count": 16,
     "metadata": {},
     "output_type": "execute_result"
    }
   ],
   "source": [
    "#найдем платформы с наибольшими суммарными продажами\n",
    "platform_sales = games_new.groupby('platform')['total_sales'].sum().sort_values(ascending=False).reset_index()\n",
    "platform_sales.head(10)"
   ]
  },
  {
   "cell_type": "code",
   "execution_count": 17,
   "id": "fa45b817",
   "metadata": {
    "scrolled": true
   },
   "outputs": [
    {
     "data": {
      "text/plain": [
       "['PS3',\n",
       " 'X360',\n",
       " 'Wii',\n",
       " 'DS',\n",
       " 'PS4',\n",
       " '3DS',\n",
       " 'PSP',\n",
       " 'PS2',\n",
       " 'PC',\n",
       " 'XOne',\n",
       " 'WiiU',\n",
       " 'PSV',\n",
       " 'GBA',\n",
       " 'XB',\n",
       " 'GC',\n",
       " 'DC']"
      ]
     },
     "execution_count": 17,
     "metadata": {},
     "output_type": "execute_result"
    }
   ],
   "source": [
    "#Какие платформы лидируют по продажам, растут или падают? Выберите несколько потенциально прибыльных платформ.\n",
    "top_platforms = platform_sales['platform'].to_list()\n",
    "top_platforms"
   ]
  },
  {
   "cell_type": "code",
   "execution_count": 18,
   "id": "da2f908e",
   "metadata": {},
   "outputs": [
    {
     "data": {
      "text/plain": [
       "Text(0.5, 0, 'Выручка, млн дол.')"
      ]
     },
     "execution_count": 18,
     "metadata": {},
     "output_type": "execute_result"
    },
    {
     "data": {
      "image/png": "[encoded data removed]",
      "text/plain": [
       "<Figure size 432x288 with 1 Axes>"
      ]
     },
     "metadata": {
      "needs_background": "light"
     },
     "output_type": "display_data"
    }
   ],
   "source": [
    "#Постройте график «ящик с усами» по глобальным продажам игр в разбивке по платформам. \n",
    "#берем только те игры, общие продажи которых больше 1 млн долларов\n",
    "g = games_new.query('total_sales > -1')\n",
    "ax = sns.boxplot('total_sales', data= g)\n",
    "ax.set_title('Глобальные сборы по играм')\n",
    "ax.set_xlabel('Выручка, млн дол.')"
   ]
  },
  {
   "cell_type": "markdown",
   "id": "c87254af",
   "metadata": {},
   "source": [
    "Разница в продажах игр очень велика. Нормальные значения продаж не превышают 6-7 миллионов долларов, но при этом на графике очень много выбросов (больших значений), и есть даже такие игры, продажи которых принесли 35 млн долларов."
   ]
  },
  {
   "cell_type": "markdown",
   "id": "b63ea51d",
   "metadata": {},
   "source": [
    "•\tПосмотрите, как влияют на продажи внутри одной популярной платформы отзывы пользователей и критиков. Постройте диаграмму рассеяния и посчитайте корреляцию между отзывами и продажами"
   ]
  },
  {
   "cell_type": "code",
   "execution_count": 19,
   "id": "a09044cc",
   "metadata": {},
   "outputs": [
    {
     "data": {
      "text/plain": [
       "Text(0, 0.5, '')"
      ]
     },
     "execution_count": 19,
     "metadata": {},
     "output_type": "execute_result"
    },
    {
     "data": {
      "image/png": "[encoded data removed]",
      "text/plain": [
       "<Figure size 648x648 with 1 Axes>"
      ]
     },
     "metadata": {},
     "output_type": "display_data"
    }
   ],
   "source": [
    "#посмотрим на среднюю выручку платформ по годам за выбранный период\n",
    "revenue_mean = games_new.groupby('platform')['total_sales'].mean()\n",
    "revenue_mean.plot(kind='pie', figsize=(9, 9), autopct='%1.0f%%', shadow=True, title='Доля выручки платформ за 2006-2016 гг.')\n",
    "ax = plt.gca()\n",
    "ax.set_ylabel('')"
   ]
  },
  {
   "cell_type": "markdown",
   "id": "0c2361bf",
   "metadata": {},
   "source": [
    "За выбранный период есть несколько лидеров по средним продажам - PS4, X360, PS3, Wii и XOne."
   ]
  },
  {
   "cell_type": "code",
   "execution_count": 20,
   "id": "729a550a",
   "metadata": {},
   "outputs": [],
   "source": [
    "#выделим в отдельную таблицу продажи по PS4\n",
    "games_stat_ps4 = games_new.query('platform == \"PS4\" and user_score != -1 and critic_score != -1')\n"
   ]
  },
  {
   "cell_type": "code",
   "execution_count": 21,
   "id": "3344bb5c",
   "metadata": {},
   "outputs": [
    {
     "data": {
      "text/plain": [
       "Text(0.5, 0, 'Оценка пользователей')"
      ]
     },
     "execution_count": 21,
     "metadata": {},
     "output_type": "execute_result"
    },
    {
     "data": {
      "image/png": "[encoded data removed]",
      "text/plain": [
       "<Figure size 432x288 with 1 Axes>"
      ]
     },
     "metadata": {
      "needs_background": "light"
     },
     "output_type": "display_data"
    }
   ],
   "source": [
    "games_stat_ps4.plot(y='total_sales', x='user_score', kind='scatter', alpha=0.5, title='Зависимость выручки PS4 от оценки пользователей')\n",
    "ax = plt.gca()\n",
    "ax.set_ylabel('Выручка, млн дол.')\n",
    "ax.set_xlabel('Оценка пользователей')"
   ]
  },
  {
   "cell_type": "code",
   "execution_count": 22,
   "id": "e6fa3e4b",
   "metadata": {},
   "outputs": [
    {
     "data": {
      "text/plain": [
       "-0.031957110204556424"
      ]
     },
     "execution_count": 22,
     "metadata": {},
     "output_type": "execute_result"
    }
   ],
   "source": [
    "games_stat_ps4['total_sales'].corr(games_stat_ps4['user_score'])"
   ]
  },
  {
   "cell_type": "code",
   "execution_count": 23,
   "id": "c310abcd",
   "metadata": {},
   "outputs": [
    {
     "data": {
      "text/plain": [
       "Text(0.5, 0, 'Оценка критиков')"
      ]
     },
     "execution_count": 23,
     "metadata": {},
     "output_type": "execute_result"
    },
    {
     "data": {
      "image/png": "[encoded data removed]",
      "text/plain": [
       "<Figure size 432x288 with 1 Axes>"
      ]
     },
     "metadata": {
      "needs_background": "light"
     },
     "output_type": "display_data"
    }
   ],
   "source": [
    "games_stat_ps4.plot(y='total_sales', x='critic_score', kind='scatter', alpha=0.5, title='Зависимость выручки PS4 от оценки критиков')\n",
    "ax = plt.gca()\n",
    "ax.set_ylabel('Выручка, млн дол.')\n",
    "ax.set_xlabel('Оценка критиков')"
   ]
  },
  {
   "cell_type": "code",
   "execution_count": 24,
   "id": "ddf83d6a",
   "metadata": {},
   "outputs": [
    {
     "data": {
      "text/plain": [
       "0.40589480145836687"
      ]
     },
     "execution_count": 24,
     "metadata": {},
     "output_type": "execute_result"
    }
   ],
   "source": [
    "games_stat_ps4['total_sales'].corr(games_stat_ps4['critic_score'])"
   ]
  },
  {
   "cell_type": "markdown",
   "id": "625a56a1",
   "metadata": {},
   "source": [
    "И по графикам, и по значению корреляции видим, что отзывы критиков в большей степени влияют на продажи, чем отзывы пользователей. Больше всего выручка при оценке критиков 70 и выше."
   ]
  },
  {
   "cell_type": "code",
   "execution_count": 25,
   "id": "02e0d9a6",
   "metadata": {},
   "outputs": [
    {
     "data": {
      "text/plain": [
       "Text(0.5, 0, 'Оценка пользователей')"
      ]
     },
     "execution_count": 25,
     "metadata": {},
     "output_type": "execute_result"
    },
    {
     "data": {
      "image/png": "[encoded data removed]",
      "text/plain": [
       "<Figure size 432x288 with 1 Axes>"
      ]
     },
     "metadata": {
      "needs_background": "light"
     },
     "output_type": "display_data"
    }
   ],
   "source": [
    "#Посмотрим, как графики и корреляция будут выглядеть для всех десяти платформ.\n",
    "\n",
    "\n",
    "games_stat_new_filtered = games_new.query('user_score != -1 and critic_score != -1')\n",
    "games_stat_new_filtered.plot(y='total_sales', x='user_score', kind='scatter', alpha=0.5, title='Зависимость выручки всех платформ от оценки пользователей')\n",
    "ax = plt.gca()\n",
    "ax.set_ylabel('Выручка, млн дол.')\n",
    "ax.set_xlabel('Оценка пользователей')"
   ]
  },
  {
   "cell_type": "code",
   "execution_count": 26,
   "id": "da6d169c",
   "metadata": {},
   "outputs": [
    {
     "data": {
      "text/plain": [
       "0.0942143295746426"
      ]
     },
     "execution_count": 26,
     "metadata": {},
     "output_type": "execute_result"
    }
   ],
   "source": [
    "games_stat_new_filtered['total_sales'].corr(games_stat_new_filtered['user_score'])"
   ]
  },
  {
   "cell_type": "code",
   "execution_count": 27,
   "id": "b48c5974",
   "metadata": {},
   "outputs": [
    {
     "data": {
      "text/plain": [
       "Text(0.5, 0, 'Оценка критиков')"
      ]
     },
     "execution_count": 27,
     "metadata": {},
     "output_type": "execute_result"
    },
    {
     "data": {
      "image/png": "[encoded data removed]",
      "text/plain": [
       "<Figure size 432x288 with 1 Axes>"
      ]
     },
     "metadata": {
      "needs_background": "light"
     },
     "output_type": "display_data"
    }
   ],
   "source": [
    "games_stat_new_filtered.plot(y='total_sales', x='critic_score', kind='scatter', alpha=0.5, title='Зависимость выручки всех платформ от оценки критиков')\n",
    "ax = plt.gca()\n",
    "ax.set_ylabel('Выручка, млн дол.')\n",
    "ax.set_xlabel('Оценка критиков')"
   ]
  },
  {
   "cell_type": "code",
   "execution_count": 28,
   "id": "fd60862b",
   "metadata": {},
   "outputs": [
    {
     "data": {
      "text/plain": [
       "0.2846687147932142"
      ]
     },
     "execution_count": 28,
     "metadata": {},
     "output_type": "execute_result"
    }
   ],
   "source": [
    "games_stat_new_filtered['total_sales'].corr(games_stat_new_filtered['critic_score'])"
   ]
  },
  {
   "cell_type": "markdown",
   "id": "d9f55342",
   "metadata": {},
   "source": [
    "При взгляде на два последних графика можно заметить, что разница в корреляции оценка критика/выручка и оценка пользователя/выручка совсем небольшая. Для платформы PS4 она заметнее, а корреляция оценка критика/выручка сильнее."
   ]
  },
  {
   "cell_type": "code",
   "execution_count": 29,
   "id": "4ba308e9",
   "metadata": {},
   "outputs": [
    {
     "data": {
      "text/html": [
       "<div>\n",
       "<style scoped>\n",
       "    .dataframe tbody tr th:only-of-type {\n",
       "        vertical-align: middle;\n",
       "    }\n",
       "\n",
       "    .dataframe tbody tr th {\n",
       "        vertical-align: top;\n",
       "    }\n",
       "\n",
       "    .dataframe thead th {\n",
       "        text-align: right;\n",
       "    }\n",
       "</style>\n",
       "<table border=\"1\" class=\"dataframe\">\n",
       "  <thead>\n",
       "    <tr style=\"text-align: right;\">\n",
       "      <th></th>\n",
       "      <th>total_sales</th>\n",
       "    </tr>\n",
       "    <tr>\n",
       "      <th>genre</th>\n",
       "      <th></th>\n",
       "    </tr>\n",
       "  </thead>\n",
       "  <tbody>\n",
       "    <tr>\n",
       "      <td>action</td>\n",
       "      <td>1050.59</td>\n",
       "    </tr>\n",
       "    <tr>\n",
       "      <td>shooter</td>\n",
       "      <td>678.80</td>\n",
       "    </tr>\n",
       "    <tr>\n",
       "      <td>sports</td>\n",
       "      <td>658.07</td>\n",
       "    </tr>\n",
       "    <tr>\n",
       "      <td>misc</td>\n",
       "      <td>487.89</td>\n",
       "    </tr>\n",
       "    <tr>\n",
       "      <td>role-playing</td>\n",
       "      <td>465.03</td>\n",
       "    </tr>\n",
       "    <tr>\n",
       "      <td>racing</td>\n",
       "      <td>265.19</td>\n",
       "    </tr>\n",
       "    <tr>\n",
       "      <td>platform</td>\n",
       "      <td>230.45</td>\n",
       "    </tr>\n",
       "    <tr>\n",
       "      <td>simulation</td>\n",
       "      <td>199.13</td>\n",
       "    </tr>\n",
       "    <tr>\n",
       "      <td>fighting</td>\n",
       "      <td>166.00</td>\n",
       "    </tr>\n",
       "    <tr>\n",
       "      <td>adventure</td>\n",
       "      <td>129.99</td>\n",
       "    </tr>\n",
       "    <tr>\n",
       "      <td>puzzle</td>\n",
       "      <td>79.18</td>\n",
       "    </tr>\n",
       "    <tr>\n",
       "      <td>strategy</td>\n",
       "      <td>68.99</td>\n",
       "    </tr>\n",
       "  </tbody>\n",
       "</table>\n",
       "</div>"
      ],
      "text/plain": [
       "              total_sales\n",
       "genre                    \n",
       "action            1050.59\n",
       "shooter            678.80\n",
       "sports             658.07\n",
       "misc               487.89\n",
       "role-playing       465.03\n",
       "racing             265.19\n",
       "platform           230.45\n",
       "simulation         199.13\n",
       "fighting           166.00\n",
       "adventure          129.99\n",
       "puzzle              79.18\n",
       "strategy            68.99"
      ]
     },
     "execution_count": 29,
     "metadata": {},
     "output_type": "execute_result"
    }
   ],
   "source": [
    "#Посмотрим на общее распределение игр по жанрам.\n",
    "\n",
    "games_new.pivot_table(index='genre', values='total_sales', aggfunc='sum').sort_values(by='total_sales', ascending=False)"
   ]
  },
  {
   "cell_type": "markdown",
   "id": "05abbbf7",
   "metadata": {},
   "source": [
    "С большим отрывом по продажам лидируют игры жанра Action, за ними идут жанры Sports и Shooter. Самые низкие сборы у жанров Adventure, Puzzle и Strategy."
   ]
  },
  {
   "cell_type": "markdown",
   "id": "107e08e0",
   "metadata": {},
   "source": [
    "Определите для пользователя каждого региона (NA, EU, JP):\n",
    "•\tСамые популярные платформы (топ-5). \n",
    "•\tСамые популярные жанры (топ-5). \n",
    "•\tВлияет ли рейтинг ESRB на продажи в отдельном регионе?\n"
   ]
  },
  {
   "cell_type": "markdown",
   "id": "5c50323a",
   "metadata": {},
   "source": [
    "Северная Америка"
   ]
  },
  {
   "cell_type": "code",
   "execution_count": 30,
   "id": "6a074c9f",
   "metadata": {},
   "outputs": [
    {
     "data": {
      "text/html": [
       "<div>\n",
       "<style scoped>\n",
       "    .dataframe tbody tr th:only-of-type {\n",
       "        vertical-align: middle;\n",
       "    }\n",
       "\n",
       "    .dataframe tbody tr th {\n",
       "        vertical-align: top;\n",
       "    }\n",
       "\n",
       "    .dataframe thead th {\n",
       "        text-align: right;\n",
       "    }\n",
       "</style>\n",
       "<table border=\"1\" class=\"dataframe\">\n",
       "  <thead>\n",
       "    <tr style=\"text-align: right;\">\n",
       "      <th></th>\n",
       "      <th>platform</th>\n",
       "      <th>na_sales</th>\n",
       "    </tr>\n",
       "  </thead>\n",
       "  <tbody>\n",
       "    <tr>\n",
       "      <td>13</td>\n",
       "      <td>X360</td>\n",
       "      <td>553.68</td>\n",
       "    </tr>\n",
       "    <tr>\n",
       "      <td>11</td>\n",
       "      <td>Wii</td>\n",
       "      <td>416.01</td>\n",
       "    </tr>\n",
       "    <tr>\n",
       "      <td>7</td>\n",
       "      <td>PS3</td>\n",
       "      <td>381.29</td>\n",
       "    </tr>\n",
       "    <tr>\n",
       "      <td>2</td>\n",
       "      <td>DS</td>\n",
       "      <td>273.98</td>\n",
       "    </tr>\n",
       "    <tr>\n",
       "      <td>8</td>\n",
       "      <td>PS4</td>\n",
       "      <td>108.74</td>\n",
       "    </tr>\n",
       "  </tbody>\n",
       "</table>\n",
       "</div>"
      ],
      "text/plain": [
       "   platform  na_sales\n",
       "13     X360    553.68\n",
       "11      Wii    416.01\n",
       "7       PS3    381.29\n",
       "2        DS    273.98\n",
       "8       PS4    108.74"
      ]
     },
     "execution_count": 30,
     "metadata": {},
     "output_type": "execute_result"
    }
   ],
   "source": [
    "(games_new\n",
    " .groupby('platform')['na_sales']\n",
    " .sum()\n",
    " .reset_index()\n",
    " .sort_values(by='na_sales', ascending=False)\n",
    " .head(5)\n",
    ")\n",
    "\n",
    "#топ 5 в северной америки"
   ]
  },
  {
   "cell_type": "code",
   "execution_count": 95,
   "id": "1fbcb563",
   "metadata": {},
   "outputs": [
    {
     "data": {
      "application/vnd.plotly.v1+json": {
       "config": {
        "plotlyServerURL": "https://plot.ly"
       },
       "data": [
        {
         "alignmentgroup": "True",
         "hoverlabel": {
          "namelength": 0
         },
         "hovertemplate": "platform=%{x}<br>na_sales=%{y}",
         "legendgroup": "",
         "marker": {
          "color": "#636efa"
         },
         "name": "",
         "offsetgroup": "",
         "orientation": "v",
         "showlegend": false,
         "textposition": "auto",
         "type": "bar",
         "x": [
          "Wii",
          "Wii",
          "X360",
          "Wii",
          "X360",
          "X360",
          "X360",
          "Wii",
          "Wii",
          "X360",
          "X360",
          "X360",
          "X360",
          "PS3",
          "X360",
          "X360",
          "X360",
          "Wii",
          "Wii",
          "PS4",
          "PS3",
          "Wii",
          "X360",
          "Wii",
          "X360",
          "PS3",
          "DS",
          "3DS",
          "X360",
          "3DS",
          "PS3",
          "PS3",
          "3DS",
          "X360",
          "PS3",
          "XOne",
          "X360",
          "DS",
          "3DS",
          "DS",
          "X360",
          "X360",
          "PS3",
          "X360",
          "Wii",
          "PS4",
          "X360",
          "Wii",
          "X360",
          "3DS",
          "X360",
          "Wii",
          "Wii",
          "PS2",
          "Wii",
          "Wii",
          "X360",
          "X360",
          "PS3",
          "3DS",
          "XOne",
          "X360",
          "Wii",
          "WiiU",
          "X360",
          "PS3",
          "X360",
          "Wii",
          "Wii",
          "PS4",
          "X360",
          "X360",
          "3DS",
          "PS3",
          "X360",
          "PS3",
          "DS",
          "XOne",
          "PS4",
          "PS3",
          "DS",
          "PS3",
          "XOne",
          "PS3",
          "X360",
          "DS",
          "PS3",
          "PS3",
          "PS3",
          "X360",
          "X360",
          "X360",
          "Wii",
          "PS3",
          "PS3",
          "XOne",
          "WiiU",
          "X360",
          "PC",
          "Wii"
         ],
         "xaxis": "x",
         "y": [
          15.68,
          15.61,
          15,
          14.44,
          9.7,
          9.66,
          9.04,
          9.01,
          8.92,
          8.52,
          8.25,
          7.97,
          7.04,
          7.02,
          6.76,
          6.73,
          6.65,
          6.62,
          6.06,
          6.03,
          5.99,
          5.95,
          5.93,
          5.8,
          5.7,
          5.54,
          5.51,
          5.28,
          5.05,
          5.03,
          4.99,
          4.99,
          4.89,
          4.81,
          4.76,
          4.59,
          4.46,
          4.4,
          4.35,
          4.34,
          4.34,
          4.15,
          4.1,
          4.05,
          4.05,
          3.96,
          3.92,
          3.74,
          3.7,
          3.66,
          3.59,
          3.57,
          3.56,
          3.49,
          3.48,
          3.45,
          3.4,
          3.28,
          3.27,
          3.27,
          3.22,
          3.19,
          3.17,
          3.15,
          3.13,
          3.11,
          3.11,
          3.05,
          3.04,
          2.99,
          2.99,
          2.99,
          2.98,
          2.96,
          2.85,
          2.85,
          2.83,
          2.81,
          2.81,
          2.8,
          2.79,
          2.79,
          2.78,
          2.77,
          2.77,
          2.76,
          2.74,
          2.73,
          2.71,
          2.67,
          2.66,
          2.66,
          2.64,
          2.64,
          2.63,
          2.61,
          2.6,
          2.6,
          2.57,
          2.57
         ],
         "yaxis": "y"
        }
       ],
       "layout": {
        "barmode": "relative",
        "height": 600,
        "legend": {
         "tracegroupgap": 0
        },
        "margin": {
         "t": 60
        },
        "template": {
         "data": {
          "bar": [
           {
            "error_x": {
             "color": "#2a3f5f"
            },
            "error_y": {
             "color": "#2a3f5f"
            },
            "marker": {
             "line": {
              "color": "#E5ECF6",
              "width": 0.5
             }
            },
            "type": "bar"
           }
          ],
          "barpolar": [
           {
            "marker": {
             "line": {
              "color": "#E5ECF6",
              "width": 0.5
             }
            },
            "type": "barpolar"
           }
          ],
          "carpet": [
           {
            "aaxis": {
             "endlinecolor": "#2a3f5f",
             "gridcolor": "white",
             "linecolor": "white",
             "minorgridcolor": "white",
             "startlinecolor": "#2a3f5f"
            },
            "baxis": {
             "endlinecolor": "#2a3f5f",
             "gridcolor": "white",
             "linecolor": "white",
             "minorgridcolor": "white",
             "startlinecolor": "#2a3f5f"
            },
            "type": "carpet"
           }
          ],
          "choropleth": [
           {
            "colorbar": {
             "outlinewidth": 0,
             "ticks": ""
            },
            "type": "choropleth"
           }
          ],
          "contour": [
           {
            "colorbar": {
             "outlinewidth": 0,
             "ticks": ""
            },
            "colorscale": [
             [
              0,
              "#0d0887"
             ],
             [
              0.1111111111,
              "#46039f"
             ],
             [
              0.2222222222,
              "#7201a8"
             ],
             [
              0.3333333333,
              "#9c179e"
             ],
             [
              0.4444444444,
              "#bd3786"
             ],
             [
              0.5555555556,
              "#d8576b"
             ],
             [
              0.6666666667,
              "#ed7953"
             ],
             [
              0.7777777778,
              "#fb9f3a"
             ],
             [
              0.8888888889,
              "#fdca26"
             ],
             [
              1,
              "#f0f921"
             ]
            ],
            "type": "contour"
           }
          ],
          "contourcarpet": [
           {
            "colorbar": {
             "outlinewidth": 0,
             "ticks": ""
            },
            "type": "contourcarpet"
           }
          ],
          "heatmap": [
           {
            "colorbar": {
             "outlinewidth": 0,
             "ticks": ""
            },
            "colorscale": [
             [
              0,
              "#0d0887"
             ],
             [
              0.1111111111,
              "#46039f"
             ],
             [
              0.2222222222,
              "#7201a8"
             ],
             [
              0.3333333333,
              "#9c179e"
             ],
             [
              0.4444444444,
              "#bd3786"
             ],
             [
              0.5555555556,
              "#d8576b"
             ],
             [
              0.6666666667,
              "#ed7953"
             ],
             [
              0.7777777778,
              "#fb9f3a"
             ],
             [
              0.8888888889,
              "#fdca26"
             ],
             [
              1,
              "#f0f921"
             ]
            ],
            "type": "heatmap"
           }
          ],
          "heatmapgl": [
           {
            "colorbar": {
             "outlinewidth": 0,
             "ticks": ""
            },
            "colorscale": [
             [
              0,
              "#0d0887"
             ],
             [
              0.1111111111,
              "#46039f"
             ],
             [
              0.2222222222,
              "#7201a8"
             ],
             [
              0.3333333333,
              "#9c179e"
             ],
             [
              0.4444444444,
              "#bd3786"
             ],
             [
              0.5555555556,
              "#d8576b"
             ],
             [
              0.6666666667,
              "#ed7953"
             ],
             [
              0.7777777778,
              "#fb9f3a"
             ],
             [
              0.8888888889,
              "#fdca26"
             ],
             [
              1,
              "#f0f921"
             ]
            ],
            "type": "heatmapgl"
           }
          ],
          "histogram": [
           {
            "marker": {
             "colorbar": {
              "outlinewidth": 0,
              "ticks": ""
             }
            },
            "type": "histogram"
           }
          ],
          "histogram2d": [
           {
            "colorbar": {
             "outlinewidth": 0,
             "ticks": ""
            },
            "colorscale": [
             [
              0,
              "#0d0887"
             ],
             [
              0.1111111111,
              "#46039f"
             ],
             [
              0.2222222222,
              "#7201a8"
             ],
             [
              0.3333333333,
              "#9c179e"
             ],
             [
              0.4444444444,
              "#bd3786"
             ],
             [
              0.5555555556,
              "#d8576b"
             ],
             [
              0.6666666667,
              "#ed7953"
             ],
             [
              0.7777777778,
              "#fb9f3a"
             ],
             [
              0.8888888889,
              "#fdca26"
             ],
             [
              1,
              "#f0f921"
             ]
            ],
            "type": "histogram2d"
           }
          ],
          "histogram2dcontour": [
           {
            "colorbar": {
             "outlinewidth": 0,
             "ticks": ""
            },
            "colorscale": [
             [
              0,
              "#0d0887"
             ],
             [
              0.1111111111,
              "#46039f"
             ],
             [
              0.2222222222,
              "#7201a8"
             ],
             [
              0.3333333333,
              "#9c179e"
             ],
             [
              0.4444444444,
              "#bd3786"
             ],
             [
              0.5555555556,
              "#d8576b"
             ],
             [
              0.6666666667,
              "#ed7953"
             ],
             [
              0.7777777778,
              "#fb9f3a"
             ],
             [
              0.8888888889,
              "#fdca26"
             ],
             [
              1,
              "#f0f921"
             ]
            ],
            "type": "histogram2dcontour"
           }
          ],
          "mesh3d": [
           {
            "colorbar": {
             "outlinewidth": 0,
             "ticks": ""
            },
            "type": "mesh3d"
           }
          ],
          "parcoords": [
           {
            "line": {
             "colorbar": {
              "outlinewidth": 0,
              "ticks": ""
             }
            },
            "type": "parcoords"
           }
          ],
          "scatter": [
           {
            "marker": {
             "colorbar": {
              "outlinewidth": 0,
              "ticks": ""
             }
            },
            "type": "scatter"
           }
          ],
          "scatter3d": [
           {
            "line": {
             "colorbar": {
              "outlinewidth": 0,
              "ticks": ""
             }
            },
            "marker": {
             "colorbar": {
              "outlinewidth": 0,
              "ticks": ""
             }
            },
            "type": "scatter3d"
           }
          ],
          "scattercarpet": [
           {
            "marker": {
             "colorbar": {
              "outlinewidth": 0,
              "ticks": ""
             }
            },
            "type": "scattercarpet"
           }
          ],
          "scattergeo": [
           {
            "marker": {
             "colorbar": {
              "outlinewidth": 0,
              "ticks": ""
             }
            },
            "type": "scattergeo"
           }
          ],
          "scattergl": [
           {
            "marker": {
             "colorbar": {
              "outlinewidth": 0,
              "ticks": ""
             }
            },
            "type": "scattergl"
           }
          ],
          "scattermapbox": [
           {
            "marker": {
             "colorbar": {
              "outlinewidth": 0,
              "ticks": ""
             }
            },
            "type": "scattermapbox"
           }
          ],
          "scatterpolar": [
           {
            "marker": {
             "colorbar": {
              "outlinewidth": 0,
              "ticks": ""
             }
            },
            "type": "scatterpolar"
           }
          ],
          "scatterpolargl": [
           {
            "marker": {
             "colorbar": {
              "outlinewidth": 0,
              "ticks": ""
             }
            },
            "type": "scatterpolargl"
           }
          ],
          "scatterternary": [
           {
            "marker": {
             "colorbar": {
              "outlinewidth": 0,
              "ticks": ""
             }
            },
            "type": "scatterternary"
           }
          ],
          "surface": [
           {
            "colorbar": {
             "outlinewidth": 0,
             "ticks": ""
            },
            "colorscale": [
             [
              0,
              "#0d0887"
             ],
             [
              0.1111111111,
              "#46039f"
             ],
             [
              0.2222222222,
              "#7201a8"
             ],
             [
              0.3333333333,
              "#9c179e"
             ],
             [
              0.4444444444,
              "#bd3786"
             ],
             [
              0.5555555556,
              "#d8576b"
             ],
             [
              0.6666666667,
              "#ed7953"
             ],
             [
              0.7777777778,
              "#fb9f3a"
             ],
             [
              0.8888888889,
              "#fdca26"
             ],
             [
              1,
              "#f0f921"
             ]
            ],
            "type": "surface"
           }
          ],
          "table": [
           {
            "cells": {
             "fill": {
              "color": "#EBF0F8"
             },
             "line": {
              "color": "white"
             }
            },
            "header": {
             "fill": {
              "color": "#C8D4E3"
             },
             "line": {
              "color": "white"
             }
            },
            "type": "table"
           }
          ]
         },
         "layout": {
          "annotationdefaults": {
           "arrowcolor": "#2a3f5f",
           "arrowhead": 0,
           "arrowwidth": 1
          },
          "colorscale": {
           "diverging": [
            [
             0,
             "#8e0152"
            ],
            [
             0.1,
             "#c51b7d"
            ],
            [
             0.2,
             "#de77ae"
            ],
            [
             0.3,
             "#f1b6da"
            ],
            [
             0.4,
             "#fde0ef"
            ],
            [
             0.5,
             "#f7f7f7"
            ],
            [
             0.6,
             "#e6f5d0"
            ],
            [
             0.7,
             "#b8e186"
            ],
            [
             0.8,
             "#7fbc41"
            ],
            [
             0.9,
             "#4d9221"
            ],
            [
             1,
             "#276419"
            ]
           ],
           "sequential": [
            [
             0,
             "#0d0887"
            ],
            [
             0.1111111111,
             "#46039f"
            ],
            [
             0.2222222222,
             "#7201a8"
            ],
            [
             0.3333333333,
             "#9c179e"
            ],
            [
             0.4444444444,
             "#bd3786"
            ],
            [
             0.5555555556,
             "#d8576b"
            ],
            [
             0.6666666667,
             "#ed7953"
            ],
            [
             0.7777777778,
             "#fb9f3a"
            ],
            [
             0.8888888889,
             "#fdca26"
            ],
            [
             1,
             "#f0f921"
            ]
           ],
           "sequentialminus": [
            [
             0,
             "#0d0887"
            ],
            [
             0.1111111111,
             "#46039f"
            ],
            [
             0.2222222222,
             "#7201a8"
            ],
            [
             0.3333333333,
             "#9c179e"
            ],
            [
             0.4444444444,
             "#bd3786"
            ],
            [
             0.5555555556,
             "#d8576b"
            ],
            [
             0.6666666667,
             "#ed7953"
            ],
            [
             0.7777777778,
             "#fb9f3a"
            ],
            [
             0.8888888889,
             "#fdca26"
            ],
            [
             1,
             "#f0f921"
            ]
           ]
          },
          "colorway": [
           "#636efa",
           "#EF553B",
           "#00cc96",
           "#ab63fa",
           "#FFA15A",
           "#19d3f3",
           "#FF6692",
           "#B6E880",
           "#FF97FF",
           "#FECB52"
          ],
          "font": {
           "color": "#2a3f5f"
          },
          "geo": {
           "bgcolor": "white",
           "lakecolor": "white",
           "landcolor": "#E5ECF6",
           "showlakes": true,
           "showland": true,
           "subunitcolor": "white"
          },
          "hoverlabel": {
           "align": "left"
          },
          "hovermode": "closest",
          "mapbox": {
           "style": "light"
          },
          "paper_bgcolor": "white",
          "plot_bgcolor": "#E5ECF6",
          "polar": {
           "angularaxis": {
            "gridcolor": "white",
            "linecolor": "white",
            "ticks": ""
           },
           "bgcolor": "#E5ECF6",
           "radialaxis": {
            "gridcolor": "white",
            "linecolor": "white",
            "ticks": ""
           }
          },
          "scene": {
           "xaxis": {
            "backgroundcolor": "#E5ECF6",
            "gridcolor": "white",
            "gridwidth": 2,
            "linecolor": "white",
            "showbackground": true,
            "ticks": "",
            "zerolinecolor": "white"
           },
           "yaxis": {
            "backgroundcolor": "#E5ECF6",
            "gridcolor": "white",
            "gridwidth": 2,
            "linecolor": "white",
            "showbackground": true,
            "ticks": "",
            "zerolinecolor": "white"
           },
           "zaxis": {
            "backgroundcolor": "#E5ECF6",
            "gridcolor": "white",
            "gridwidth": 2,
            "linecolor": "white",
            "showbackground": true,
            "ticks": "",
            "zerolinecolor": "white"
           }
          },
          "shapedefaults": {
           "line": {
            "color": "#2a3f5f"
           }
          },
          "ternary": {
           "aaxis": {
            "gridcolor": "white",
            "linecolor": "white",
            "ticks": ""
           },
           "baxis": {
            "gridcolor": "white",
            "linecolor": "white",
            "ticks": ""
           },
           "bgcolor": "#E5ECF6",
           "caxis": {
            "gridcolor": "white",
            "linecolor": "white",
            "ticks": ""
           }
          },
          "title": {
           "x": 0.05
          },
          "xaxis": {
           "automargin": true,
           "gridcolor": "white",
           "linecolor": "white",
           "ticks": "",
           "zerolinecolor": "white",
           "zerolinewidth": 2
          },
          "yaxis": {
           "automargin": true,
           "gridcolor": "white",
           "linecolor": "white",
           "ticks": "",
           "zerolinecolor": "white",
           "zerolinewidth": 2
          }
         }
        },
        "xaxis": {
         "anchor": "y",
         "domain": [
          0,
          0.98
         ],
         "title": {
          "text": "platform"
         }
        },
        "yaxis": {
         "anchor": "x",
         "domain": [
          0,
          1
         ],
         "title": {
          "text": "na_sales"
         }
        }
       }
      },
      "text/html": [
       "<div>\n",
       "        \n",
       "        \n",
       "            <div id=\"95d2d163-a534-45df-b270-e7326c32176f\" class=\"plotly-graph-div\" style=\"height:600px; width:100%;\"></div>\n",
       "            <script type=\"text/javascript\">\n",
       "                require([\"plotly\"], function(Plotly) {\n",
       "                    window.PLOTLYENV=window.PLOTLYENV || {};\n",
       "                    \n",
       "                if (document.getElementById(\"95d2d163-a534-45df-b270-e7326c32176f\")) {\n",
       "                    Plotly.newPlot(\n",
       "                        '95d2d163-a534-45df-b270-e7326c32176f',\n",
       "                        [{\"alignmentgroup\": \"True\", \"hoverlabel\": {\"namelength\": 0}, \"hovertemplate\": \"platform=%{x}<br>na_sales=%{y}\", \"legendgroup\": \"\", \"marker\": {\"color\": \"#636efa\"}, \"name\": \"\", \"offsetgroup\": \"\", \"orientation\": \"v\", \"showlegend\": false, \"textposition\": \"auto\", \"type\": \"bar\", \"x\": [\"Wii\", \"Wii\", \"X360\", \"Wii\", \"X360\", \"X360\", \"X360\", \"Wii\", \"Wii\", \"X360\", \"X360\", \"X360\", \"X360\", \"PS3\", \"X360\", \"X360\", \"X360\", \"Wii\", \"Wii\", \"PS4\", \"PS3\", \"Wii\", \"X360\", \"Wii\", \"X360\", \"PS3\", \"DS\", \"3DS\", \"X360\", \"3DS\", \"PS3\", \"PS3\", \"3DS\", \"X360\", \"PS3\", \"XOne\", \"X360\", \"DS\", \"3DS\", \"DS\", \"X360\", \"X360\", \"PS3\", \"X360\", \"Wii\", \"PS4\", \"X360\", \"Wii\", \"X360\", \"3DS\", \"X360\", \"Wii\", \"Wii\", \"PS2\", \"Wii\", \"Wii\", \"X360\", \"X360\", \"PS3\", \"3DS\", \"XOne\", \"X360\", \"Wii\", \"WiiU\", \"X360\", \"PS3\", \"X360\", \"Wii\", \"Wii\", \"PS4\", \"X360\", \"X360\", \"3DS\", \"PS3\", \"X360\", \"PS3\", \"DS\", \"XOne\", \"PS4\", \"PS3\", \"DS\", \"PS3\", \"XOne\", \"PS3\", \"X360\", \"DS\", \"PS3\", \"PS3\", \"PS3\", \"X360\", \"X360\", \"X360\", \"Wii\", \"PS3\", \"PS3\", \"XOne\", \"WiiU\", \"X360\", \"PC\", \"Wii\"], \"xaxis\": \"x\", \"y\": [15.68, 15.61, 15.0, 14.44, 9.7, 9.66, 9.04, 9.01, 8.92, 8.52, 8.25, 7.97, 7.04, 7.02, 6.76, 6.73, 6.65, 6.62, 6.06, 6.03, 5.99, 5.95, 5.93, 5.8, 5.7, 5.54, 5.51, 5.28, 5.05, 5.03, 4.99, 4.99, 4.89, 4.81, 4.76, 4.59, 4.46, 4.4, 4.35, 4.34, 4.34, 4.15, 4.1, 4.05, 4.05, 3.96, 3.92, 3.74, 3.7, 3.66, 3.59, 3.57, 3.56, 3.49, 3.48, 3.45, 3.4, 3.28, 3.27, 3.27, 3.22, 3.19, 3.17, 3.15, 3.13, 3.11, 3.11, 3.05, 3.04, 2.99, 2.99, 2.99, 2.98, 2.96, 2.85, 2.85, 2.83, 2.81, 2.81, 2.8, 2.79, 2.79, 2.78, 2.77, 2.77, 2.76, 2.74, 2.73, 2.71, 2.67, 2.66, 2.66, 2.64, 2.64, 2.63, 2.61, 2.6, 2.6, 2.57, 2.57], \"yaxis\": \"y\"}],\n",
       "                        {\"barmode\": \"relative\", \"height\": 600, \"legend\": {\"tracegroupgap\": 0}, \"margin\": {\"t\": 60}, \"template\": {\"data\": {\"bar\": [{\"error_x\": {\"color\": \"#2a3f5f\"}, \"error_y\": {\"color\": \"#2a3f5f\"}, \"marker\": {\"line\": {\"color\": \"#E5ECF6\", \"width\": 0.5}}, \"type\": \"bar\"}], \"barpolar\": [{\"marker\": {\"line\": {\"color\": \"#E5ECF6\", \"width\": 0.5}}, \"type\": \"barpolar\"}], \"carpet\": [{\"aaxis\": {\"endlinecolor\": \"#2a3f5f\", \"gridcolor\": \"white\", \"linecolor\": \"white\", \"minorgridcolor\": \"white\", \"startlinecolor\": \"#2a3f5f\"}, \"baxis\": {\"endlinecolor\": \"#2a3f5f\", \"gridcolor\": \"white\", \"linecolor\": \"white\", \"minorgridcolor\": \"white\", \"startlinecolor\": \"#2a3f5f\"}, \"type\": \"carpet\"}], \"choropleth\": [{\"colorbar\": {\"outlinewidth\": 0, \"ticks\": \"\"}, \"type\": \"choropleth\"}], \"contour\": [{\"colorbar\": {\"outlinewidth\": 0, \"ticks\": \"\"}, \"colorscale\": [[0.0, \"#0d0887\"], [0.1111111111111111, \"#46039f\"], [0.2222222222222222, \"#7201a8\"], [0.3333333333333333, \"#9c179e\"], [0.4444444444444444, \"#bd3786\"], [0.5555555555555556, \"#d8576b\"], [0.6666666666666666, \"#ed7953\"], [0.7777777777777778, \"#fb9f3a\"], [0.8888888888888888, \"#fdca26\"], [1.0, \"#f0f921\"]], \"type\": \"contour\"}], \"contourcarpet\": [{\"colorbar\": {\"outlinewidth\": 0, \"ticks\": \"\"}, \"type\": \"contourcarpet\"}], \"heatmap\": [{\"colorbar\": {\"outlinewidth\": 0, \"ticks\": \"\"}, \"colorscale\": [[0.0, \"#0d0887\"], [0.1111111111111111, \"#46039f\"], [0.2222222222222222, \"#7201a8\"], [0.3333333333333333, \"#9c179e\"], [0.4444444444444444, \"#bd3786\"], [0.5555555555555556, \"#d8576b\"], [0.6666666666666666, \"#ed7953\"], [0.7777777777777778, \"#fb9f3a\"], [0.8888888888888888, \"#fdca26\"], [1.0, \"#f0f921\"]], \"type\": \"heatmap\"}], \"heatmapgl\": [{\"colorbar\": {\"outlinewidth\": 0, \"ticks\": \"\"}, \"colorscale\": [[0.0, \"#0d0887\"], [0.1111111111111111, \"#46039f\"], [0.2222222222222222, \"#7201a8\"], [0.3333333333333333, \"#9c179e\"], [0.4444444444444444, \"#bd3786\"], [0.5555555555555556, \"#d8576b\"], [0.6666666666666666, \"#ed7953\"], [0.7777777777777778, \"#fb9f3a\"], [0.8888888888888888, \"#fdca26\"], [1.0, \"#f0f921\"]], \"type\": \"heatmapgl\"}], \"histogram\": [{\"marker\": {\"colorbar\": {\"outlinewidth\": 0, \"ticks\": \"\"}}, \"type\": \"histogram\"}], \"histogram2d\": [{\"colorbar\": {\"outlinewidth\": 0, \"ticks\": \"\"}, \"colorscale\": [[0.0, \"#0d0887\"], [0.1111111111111111, \"#46039f\"], [0.2222222222222222, \"#7201a8\"], [0.3333333333333333, \"#9c179e\"], [0.4444444444444444, \"#bd3786\"], [0.5555555555555556, \"#d8576b\"], [0.6666666666666666, \"#ed7953\"], [0.7777777777777778, \"#fb9f3a\"], [0.8888888888888888, \"#fdca26\"], [1.0, \"#f0f921\"]], \"type\": \"histogram2d\"}], \"histogram2dcontour\": [{\"colorbar\": {\"outlinewidth\": 0, \"ticks\": \"\"}, \"colorscale\": [[0.0, \"#0d0887\"], [0.1111111111111111, \"#46039f\"], [0.2222222222222222, \"#7201a8\"], [0.3333333333333333, \"#9c179e\"], [0.4444444444444444, \"#bd3786\"], [0.5555555555555556, \"#d8576b\"], [0.6666666666666666, \"#ed7953\"], [0.7777777777777778, \"#fb9f3a\"], [0.8888888888888888, \"#fdca26\"], [1.0, \"#f0f921\"]], \"type\": \"histogram2dcontour\"}], \"mesh3d\": [{\"colorbar\": {\"outlinewidth\": 0, \"ticks\": \"\"}, \"type\": \"mesh3d\"}], \"parcoords\": [{\"line\": {\"colorbar\": {\"outlinewidth\": 0, \"ticks\": \"\"}}, \"type\": \"parcoords\"}], \"scatter\": [{\"marker\": {\"colorbar\": {\"outlinewidth\": 0, \"ticks\": \"\"}}, \"type\": \"scatter\"}], \"scatter3d\": [{\"line\": {\"colorbar\": {\"outlinewidth\": 0, \"ticks\": \"\"}}, \"marker\": {\"colorbar\": {\"outlinewidth\": 0, \"ticks\": \"\"}}, \"type\": \"scatter3d\"}], \"scattercarpet\": [{\"marker\": {\"colorbar\": {\"outlinewidth\": 0, \"ticks\": \"\"}}, \"type\": \"scattercarpet\"}], \"scattergeo\": [{\"marker\": {\"colorbar\": {\"outlinewidth\": 0, \"ticks\": \"\"}}, \"type\": \"scattergeo\"}], \"scattergl\": [{\"marker\": {\"colorbar\": {\"outlinewidth\": 0, \"ticks\": \"\"}}, \"type\": \"scattergl\"}], \"scattermapbox\": [{\"marker\": {\"colorbar\": {\"outlinewidth\": 0, \"ticks\": \"\"}}, \"type\": \"scattermapbox\"}], \"scatterpolar\": [{\"marker\": {\"colorbar\": {\"outlinewidth\": 0, \"ticks\": \"\"}}, \"type\": \"scatterpolar\"}], \"scatterpolargl\": [{\"marker\": {\"colorbar\": {\"outlinewidth\": 0, \"ticks\": \"\"}}, \"type\": \"scatterpolargl\"}], \"scatterternary\": [{\"marker\": {\"colorbar\": {\"outlinewidth\": 0, \"ticks\": \"\"}}, \"type\": \"scatterternary\"}], \"surface\": [{\"colorbar\": {\"outlinewidth\": 0, \"ticks\": \"\"}, \"colorscale\": [[0.0, \"#0d0887\"], [0.1111111111111111, \"#46039f\"], [0.2222222222222222, \"#7201a8\"], [0.3333333333333333, \"#9c179e\"], [0.4444444444444444, \"#bd3786\"], [0.5555555555555556, \"#d8576b\"], [0.6666666666666666, \"#ed7953\"], [0.7777777777777778, \"#fb9f3a\"], [0.8888888888888888, \"#fdca26\"], [1.0, \"#f0f921\"]], \"type\": \"surface\"}], \"table\": [{\"cells\": {\"fill\": {\"color\": \"#EBF0F8\"}, \"line\": {\"color\": \"white\"}}, \"header\": {\"fill\": {\"color\": \"#C8D4E3\"}, \"line\": {\"color\": \"white\"}}, \"type\": \"table\"}]}, \"layout\": {\"annotationdefaults\": {\"arrowcolor\": \"#2a3f5f\", \"arrowhead\": 0, \"arrowwidth\": 1}, \"colorscale\": {\"diverging\": [[0, \"#8e0152\"], [0.1, \"#c51b7d\"], [0.2, \"#de77ae\"], [0.3, \"#f1b6da\"], [0.4, \"#fde0ef\"], [0.5, \"#f7f7f7\"], [0.6, \"#e6f5d0\"], [0.7, \"#b8e186\"], [0.8, \"#7fbc41\"], [0.9, \"#4d9221\"], [1, \"#276419\"]], \"sequential\": [[0.0, \"#0d0887\"], [0.1111111111111111, \"#46039f\"], [0.2222222222222222, \"#7201a8\"], [0.3333333333333333, \"#9c179e\"], [0.4444444444444444, \"#bd3786\"], [0.5555555555555556, \"#d8576b\"], [0.6666666666666666, \"#ed7953\"], [0.7777777777777778, \"#fb9f3a\"], [0.8888888888888888, \"#fdca26\"], [1.0, \"#f0f921\"]], \"sequentialminus\": [[0.0, \"#0d0887\"], [0.1111111111111111, \"#46039f\"], [0.2222222222222222, \"#7201a8\"], [0.3333333333333333, \"#9c179e\"], [0.4444444444444444, \"#bd3786\"], [0.5555555555555556, \"#d8576b\"], [0.6666666666666666, \"#ed7953\"], [0.7777777777777778, \"#fb9f3a\"], [0.8888888888888888, \"#fdca26\"], [1.0, \"#f0f921\"]]}, \"colorway\": [\"#636efa\", \"#EF553B\", \"#00cc96\", \"#ab63fa\", \"#FFA15A\", \"#19d3f3\", \"#FF6692\", \"#B6E880\", \"#FF97FF\", \"#FECB52\"], \"font\": {\"color\": \"#2a3f5f\"}, \"geo\": {\"bgcolor\": \"white\", \"lakecolor\": \"white\", \"landcolor\": \"#E5ECF6\", \"showlakes\": true, \"showland\": true, \"subunitcolor\": \"white\"}, \"hoverlabel\": {\"align\": \"left\"}, \"hovermode\": \"closest\", \"mapbox\": {\"style\": \"light\"}, \"paper_bgcolor\": \"white\", \"plot_bgcolor\": \"#E5ECF6\", \"polar\": {\"angularaxis\": {\"gridcolor\": \"white\", \"linecolor\": \"white\", \"ticks\": \"\"}, \"bgcolor\": \"#E5ECF6\", \"radialaxis\": {\"gridcolor\": \"white\", \"linecolor\": \"white\", \"ticks\": \"\"}}, \"scene\": {\"xaxis\": {\"backgroundcolor\": \"#E5ECF6\", \"gridcolor\": \"white\", \"gridwidth\": 2, \"linecolor\": \"white\", \"showbackground\": true, \"ticks\": \"\", \"zerolinecolor\": \"white\"}, \"yaxis\": {\"backgroundcolor\": \"#E5ECF6\", \"gridcolor\": \"white\", \"gridwidth\": 2, \"linecolor\": \"white\", \"showbackground\": true, \"ticks\": \"\", \"zerolinecolor\": \"white\"}, \"zaxis\": {\"backgroundcolor\": \"#E5ECF6\", \"gridcolor\": \"white\", \"gridwidth\": 2, \"linecolor\": \"white\", \"showbackground\": true, \"ticks\": \"\", \"zerolinecolor\": \"white\"}}, \"shapedefaults\": {\"line\": {\"color\": \"#2a3f5f\"}}, \"ternary\": {\"aaxis\": {\"gridcolor\": \"white\", \"linecolor\": \"white\", \"ticks\": \"\"}, \"baxis\": {\"gridcolor\": \"white\", \"linecolor\": \"white\", \"ticks\": \"\"}, \"bgcolor\": \"#E5ECF6\", \"caxis\": {\"gridcolor\": \"white\", \"linecolor\": \"white\", \"ticks\": \"\"}}, \"title\": {\"x\": 0.05}, \"xaxis\": {\"automargin\": true, \"gridcolor\": \"white\", \"linecolor\": \"white\", \"ticks\": \"\", \"zerolinecolor\": \"white\", \"zerolinewidth\": 2}, \"yaxis\": {\"automargin\": true, \"gridcolor\": \"white\", \"linecolor\": \"white\", \"ticks\": \"\", \"zerolinecolor\": \"white\", \"zerolinewidth\": 2}}}, \"xaxis\": {\"anchor\": \"y\", \"domain\": [0.0, 0.98], \"title\": {\"text\": \"platform\"}}, \"yaxis\": {\"anchor\": \"x\", \"domain\": [0.0, 1.0], \"title\": {\"text\": \"na_sales\"}}},\n",
       "                        {\"responsive\": true}\n",
       "                    ).then(function(){\n",
       "                            \n",
       "var gd = document.getElementById('95d2d163-a534-45df-b270-e7326c32176f');\n",
       "var x = new MutationObserver(function (mutations, observer) {{\n",
       "        var display = window.getComputedStyle(gd).display;\n",
       "        if (!display || display === 'none') {{\n",
       "            console.log([gd, 'removed!']);\n",
       "            Plotly.purge(gd);\n",
       "            observer.disconnect();\n",
       "        }}\n",
       "}});\n",
       "\n",
       "// Listen for the removal of the full notebook cells\n",
       "var notebookContainer = gd.closest('#notebook-container');\n",
       "if (notebookContainer) {{\n",
       "    x.observe(notebookContainer, {childList: true});\n",
       "}}\n",
       "\n",
       "// Listen for the clearing of the current output cell\n",
       "var outputEl = gd.closest('.output');\n",
       "if (outputEl) {{\n",
       "    x.observe(outputEl, {childList: true});\n",
       "}}\n",
       "\n",
       "                        })\n",
       "                };\n",
       "                });\n",
       "            </script>\n",
       "        </div>"
      ]
     },
     "metadata": {},
     "output_type": "display_data"
    }
   ],
   "source": [
    "\n",
    "top_platform = games_new.sort_values(by='na_sales', axis=0, ascending=False)[:100]\n",
    "\n",
    "fig = px.bar(top_platform , \n",
    "             x='platform', \n",
    "             y='na_sales',\n",
    "            )\n",
    "\n",
    "fig.show()"
   ]
  },
  {
   "cell_type": "code",
   "execution_count": 31,
   "id": "fced9ed0",
   "metadata": {},
   "outputs": [
    {
     "data": {
      "text/html": [
       "<div>\n",
       "<style scoped>\n",
       "    .dataframe tbody tr th:only-of-type {\n",
       "        vertical-align: middle;\n",
       "    }\n",
       "\n",
       "    .dataframe tbody tr th {\n",
       "        vertical-align: top;\n",
       "    }\n",
       "\n",
       "    .dataframe thead th {\n",
       "        text-align: right;\n",
       "    }\n",
       "</style>\n",
       "<table border=\"1\" class=\"dataframe\">\n",
       "  <thead>\n",
       "    <tr style=\"text-align: right;\">\n",
       "      <th></th>\n",
       "      <th>genre</th>\n",
       "      <th>na_sales</th>\n",
       "    </tr>\n",
       "  </thead>\n",
       "  <tbody>\n",
       "    <tr>\n",
       "      <td>0</td>\n",
       "      <td>action</td>\n",
       "      <td>492.17</td>\n",
       "    </tr>\n",
       "    <tr>\n",
       "      <td>8</td>\n",
       "      <td>shooter</td>\n",
       "      <td>350.11</td>\n",
       "    </tr>\n",
       "    <tr>\n",
       "      <td>10</td>\n",
       "      <td>sports</td>\n",
       "      <td>323.86</td>\n",
       "    </tr>\n",
       "    <tr>\n",
       "      <td>3</td>\n",
       "      <td>misc</td>\n",
       "      <td>259.16</td>\n",
       "    </tr>\n",
       "    <tr>\n",
       "      <td>7</td>\n",
       "      <td>role-playing</td>\n",
       "      <td>175.41</td>\n",
       "    </tr>\n",
       "  </tbody>\n",
       "</table>\n",
       "</div>"
      ],
      "text/plain": [
       "           genre  na_sales\n",
       "0         action    492.17\n",
       "8        shooter    350.11\n",
       "10        sports    323.86\n",
       "3           misc    259.16\n",
       "7   role-playing    175.41"
      ]
     },
     "execution_count": 31,
     "metadata": {},
     "output_type": "execute_result"
    }
   ],
   "source": [
    "(games_new\n",
    " .groupby('genre')['na_sales']\n",
    " .sum()\n",
    " .reset_index()\n",
    " .sort_values(by='na_sales', ascending=False)\n",
    " .head(5)\n",
    ")\n",
    "\n",
    "#топ 5 жанров "
   ]
  },
  {
   "cell_type": "code",
   "execution_count": 96,
   "id": "4d456a43",
   "metadata": {},
   "outputs": [
    {
     "data": {
      "application/vnd.plotly.v1+json": {
       "config": {
        "plotlyServerURL": "https://plot.ly"
       },
       "data": [
        {
         "alignmentgroup": "True",
         "hoverlabel": {
          "namelength": 0
         },
         "hovertemplate": "genre=%{x}<br>na_sales=%{y}",
         "legendgroup": "",
         "marker": {
          "color": "#636efa"
         },
         "name": "",
         "offsetgroup": "",
         "orientation": "v",
         "showlegend": false,
         "textposition": "auto",
         "type": "bar",
         "x": [
          "racing",
          "sports",
          "misc",
          "platform",
          "shooter",
          "action",
          "shooter",
          "sports",
          "sports",
          "shooter",
          "shooter",
          "shooter",
          "shooter",
          "action",
          "action",
          "shooter",
          "shooter",
          "fighting",
          "platform",
          "shooter",
          "shooter",
          "misc",
          "shooter",
          "misc",
          "misc",
          "shooter",
          "role-playing",
          "role-playing",
          "role-playing",
          "racing",
          "shooter",
          "shooter",
          "platform",
          "shooter",
          "action",
          "shooter",
          "shooter",
          "misc",
          "role-playing",
          "action",
          "shooter",
          "shooter",
          "shooter",
          "shooter",
          "misc",
          "action",
          "sports",
          "misc",
          "action",
          "platform",
          "role-playing",
          "action",
          "platform",
          "misc",
          "misc",
          "sports",
          "role-playing",
          "adventure",
          "action",
          "fighting",
          "shooter",
          "misc",
          "platform",
          "racing",
          "action",
          "shooter",
          "action",
          "shooter",
          "misc",
          "shooter",
          "racing",
          "action",
          "role-playing",
          "racing",
          "action",
          "shooter",
          "action",
          "action",
          "shooter",
          "platform",
          "role-playing",
          "action",
          "shooter",
          "action",
          "shooter",
          "role-playing",
          "action",
          "shooter",
          "action",
          "shooter",
          "shooter",
          "role-playing",
          "misc",
          "action",
          "action",
          "shooter",
          "fighting",
          "sports",
          "strategy",
          "sports"
         ],
         "xaxis": "x",
         "y": [
          15.68,
          15.61,
          15,
          14.44,
          9.7,
          9.66,
          9.04,
          9.01,
          8.92,
          8.52,
          8.25,
          7.97,
          7.04,
          7.02,
          6.76,
          6.73,
          6.65,
          6.62,
          6.06,
          6.03,
          5.99,
          5.95,
          5.93,
          5.8,
          5.7,
          5.54,
          5.51,
          5.28,
          5.05,
          5.03,
          4.99,
          4.99,
          4.89,
          4.81,
          4.76,
          4.59,
          4.46,
          4.4,
          4.35,
          4.34,
          4.34,
          4.15,
          4.1,
          4.05,
          4.05,
          3.96,
          3.92,
          3.74,
          3.7,
          3.66,
          3.59,
          3.57,
          3.56,
          3.49,
          3.48,
          3.45,
          3.4,
          3.28,
          3.27,
          3.27,
          3.22,
          3.19,
          3.17,
          3.15,
          3.13,
          3.11,
          3.11,
          3.05,
          3.04,
          2.99,
          2.99,
          2.99,
          2.98,
          2.96,
          2.85,
          2.85,
          2.83,
          2.81,
          2.81,
          2.8,
          2.79,
          2.79,
          2.78,
          2.77,
          2.77,
          2.76,
          2.74,
          2.73,
          2.71,
          2.67,
          2.66,
          2.66,
          2.64,
          2.64,
          2.63,
          2.61,
          2.6,
          2.6,
          2.57,
          2.57
         ],
         "yaxis": "y"
        }
       ],
       "layout": {
        "barmode": "relative",
        "height": 600,
        "legend": {
         "tracegroupgap": 0
        },
        "margin": {
         "t": 60
        },
        "template": {
         "data": {
          "bar": [
           {
            "error_x": {
             "color": "#2a3f5f"
            },
            "error_y": {
             "color": "#2a3f5f"
            },
            "marker": {
             "line": {
              "color": "#E5ECF6",
              "width": 0.5
             }
            },
            "type": "bar"
           }
          ],
          "barpolar": [
           {
            "marker": {
             "line": {
              "color": "#E5ECF6",
              "width": 0.5
             }
            },
            "type": "barpolar"
           }
          ],
          "carpet": [
           {
            "aaxis": {
             "endlinecolor": "#2a3f5f",
             "gridcolor": "white",
             "linecolor": "white",
             "minorgridcolor": "white",
             "startlinecolor": "#2a3f5f"
            },
            "baxis": {
             "endlinecolor": "#2a3f5f",
             "gridcolor": "white",
             "linecolor": "white",
             "minorgridcolor": "white",
             "startlinecolor": "#2a3f5f"
            },
            "type": "carpet"
           }
          ],
          "choropleth": [
           {
            "colorbar": {
             "outlinewidth": 0,
             "ticks": ""
            },
            "type": "choropleth"
           }
          ],
          "contour": [
           {
            "colorbar": {
             "outlinewidth": 0,
             "ticks": ""
            },
            "colorscale": [
             [
              0,
              "#0d0887"
             ],
             [
              0.1111111111,
              "#46039f"
             ],
             [
              0.2222222222,
              "#7201a8"
             ],
             [
              0.3333333333,
              "#9c179e"
             ],
             [
              0.4444444444,
              "#bd3786"
             ],
             [
              0.5555555556,
              "#d8576b"
             ],
             [
              0.6666666667,
              "#ed7953"
             ],
             [
              0.7777777778,
              "#fb9f3a"
             ],
             [
              0.8888888889,
              "#fdca26"
             ],
             [
              1,
              "#f0f921"
             ]
            ],
            "type": "contour"
           }
          ],
          "contourcarpet": [
           {
            "colorbar": {
             "outlinewidth": 0,
             "ticks": ""
            },
            "type": "contourcarpet"
           }
          ],
          "heatmap": [
           {
            "colorbar": {
             "outlinewidth": 0,
             "ticks": ""
            },
            "colorscale": [
             [
              0,
              "#0d0887"
             ],
             [
              0.1111111111,
              "#46039f"
             ],
             [
              0.2222222222,
              "#7201a8"
             ],
             [
              0.3333333333,
              "#9c179e"
             ],
             [
              0.4444444444,
              "#bd3786"
             ],
             [
              0.5555555556,
              "#d8576b"
             ],
             [
              0.6666666667,
              "#ed7953"
             ],
             [
              0.7777777778,
              "#fb9f3a"
             ],
             [
              0.8888888889,
              "#fdca26"
             ],
             [
              1,
              "#f0f921"
             ]
            ],
            "type": "heatmap"
           }
          ],
          "heatmapgl": [
           {
            "colorbar": {
             "outlinewidth": 0,
             "ticks": ""
            },
            "colorscale": [
             [
              0,
              "#0d0887"
             ],
             [
              0.1111111111,
              "#46039f"
             ],
             [
              0.2222222222,
              "#7201a8"
             ],
             [
              0.3333333333,
              "#9c179e"
             ],
             [
              0.4444444444,
              "#bd3786"
             ],
             [
              0.5555555556,
              "#d8576b"
             ],
             [
              0.6666666667,
              "#ed7953"
             ],
             [
              0.7777777778,
              "#fb9f3a"
             ],
             [
              0.8888888889,
              "#fdca26"
             ],
             [
              1,
              "#f0f921"
             ]
            ],
            "type": "heatmapgl"
           }
          ],
          "histogram": [
           {
            "marker": {
             "colorbar": {
              "outlinewidth": 0,
              "ticks": ""
             }
            },
            "type": "histogram"
           }
          ],
          "histogram2d": [
           {
            "colorbar": {
             "outlinewidth": 0,
             "ticks": ""
            },
            "colorscale": [
             [
              0,
              "#0d0887"
             ],
             [
              0.1111111111,
              "#46039f"
             ],
             [
              0.2222222222,
              "#7201a8"
             ],
             [
              0.3333333333,
              "#9c179e"
             ],
             [
              0.4444444444,
              "#bd3786"
             ],
             [
              0.5555555556,
              "#d8576b"
             ],
             [
              0.6666666667,
              "#ed7953"
             ],
             [
              0.7777777778,
              "#fb9f3a"
             ],
             [
              0.8888888889,
              "#fdca26"
             ],
             [
              1,
              "#f0f921"
             ]
            ],
            "type": "histogram2d"
           }
          ],
          "histogram2dcontour": [
           {
            "colorbar": {
             "outlinewidth": 0,
             "ticks": ""
            },
            "colorscale": [
             [
              0,
              "#0d0887"
             ],
             [
              0.1111111111,
              "#46039f"
             ],
             [
              0.2222222222,
              "#7201a8"
             ],
             [
              0.3333333333,
              "#9c179e"
             ],
             [
              0.4444444444,
              "#bd3786"
             ],
             [
              0.5555555556,
              "#d8576b"
             ],
             [
              0.6666666667,
              "#ed7953"
             ],
             [
              0.7777777778,
              "#fb9f3a"
             ],
             [
              0.8888888889,
              "#fdca26"
             ],
             [
              1,
              "#f0f921"
             ]
            ],
            "type": "histogram2dcontour"
           }
          ],
          "mesh3d": [
           {
            "colorbar": {
             "outlinewidth": 0,
             "ticks": ""
            },
            "type": "mesh3d"
           }
          ],
          "parcoords": [
           {
            "line": {
             "colorbar": {
              "outlinewidth": 0,
              "ticks": ""
             }
            },
            "type": "parcoords"
           }
          ],
          "scatter": [
           {
            "marker": {
             "colorbar": {
              "outlinewidth": 0,
              "ticks": ""
             }
            },
            "type": "scatter"
           }
          ],
          "scatter3d": [
           {
            "line": {
             "colorbar": {
              "outlinewidth": 0,
              "ticks": ""
             }
            },
            "marker": {
             "colorbar": {
              "outlinewidth": 0,
              "ticks": ""
             }
            },
            "type": "scatter3d"
           }
          ],
          "scattercarpet": [
           {
            "marker": {
             "colorbar": {
              "outlinewidth": 0,
              "ticks": ""
             }
            },
            "type": "scattercarpet"
           }
          ],
          "scattergeo": [
           {
            "marker": {
             "colorbar": {
              "outlinewidth": 0,
              "ticks": ""
             }
            },
            "type": "scattergeo"
           }
          ],
          "scattergl": [
           {
            "marker": {
             "colorbar": {
              "outlinewidth": 0,
              "ticks": ""
             }
            },
            "type": "scattergl"
           }
          ],
          "scattermapbox": [
           {
            "marker": {
             "colorbar": {
              "outlinewidth": 0,
              "ticks": ""
             }
            },
            "type": "scattermapbox"
           }
          ],
          "scatterpolar": [
           {
            "marker": {
             "colorbar": {
              "outlinewidth": 0,
              "ticks": ""
             }
            },
            "type": "scatterpolar"
           }
          ],
          "scatterpolargl": [
           {
            "marker": {
             "colorbar": {
              "outlinewidth": 0,
              "ticks": ""
             }
            },
            "type": "scatterpolargl"
           }
          ],
          "scatterternary": [
           {
            "marker": {
             "colorbar": {
              "outlinewidth": 0,
              "ticks": ""
             }
            },
            "type": "scatterternary"
           }
          ],
          "surface": [
           {
            "colorbar": {
             "outlinewidth": 0,
             "ticks": ""
            },
            "colorscale": [
             [
              0,
              "#0d0887"
             ],
             [
              0.1111111111,
              "#46039f"
             ],
             [
              0.2222222222,
              "#7201a8"
             ],
             [
              0.3333333333,
              "#9c179e"
             ],
             [
              0.4444444444,
              "#bd3786"
             ],
             [
              0.5555555556,
              "#d8576b"
             ],
             [
              0.6666666667,
              "#ed7953"
             ],
             [
              0.7777777778,
              "#fb9f3a"
             ],
             [
              0.8888888889,
              "#fdca26"
             ],
             [
              1,
              "#f0f921"
             ]
            ],
            "type": "surface"
           }
          ],
          "table": [
           {
            "cells": {
             "fill": {
              "color": "#EBF0F8"
             },
             "line": {
              "color": "white"
             }
            },
            "header": {
             "fill": {
              "color": "#C8D4E3"
             },
             "line": {
              "color": "white"
             }
            },
            "type": "table"
           }
          ]
         },
         "layout": {
          "annotationdefaults": {
           "arrowcolor": "#2a3f5f",
           "arrowhead": 0,
           "arrowwidth": 1
          },
          "colorscale": {
           "diverging": [
            [
             0,
             "#8e0152"
            ],
            [
             0.1,
             "#c51b7d"
            ],
            [
             0.2,
             "#de77ae"
            ],
            [
             0.3,
             "#f1b6da"
            ],
            [
             0.4,
             "#fde0ef"
            ],
            [
             0.5,
             "#f7f7f7"
            ],
            [
             0.6,
             "#e6f5d0"
            ],
            [
             0.7,
             "#b8e186"
            ],
            [
             0.8,
             "#7fbc41"
            ],
            [
             0.9,
             "#4d9221"
            ],
            [
             1,
             "#276419"
            ]
           ],
           "sequential": [
            [
             0,
             "#0d0887"
            ],
            [
             0.1111111111,
             "#46039f"
            ],
            [
             0.2222222222,
             "#7201a8"
            ],
            [
             0.3333333333,
             "#9c179e"
            ],
            [
             0.4444444444,
             "#bd3786"
            ],
            [
             0.5555555556,
             "#d8576b"
            ],
            [
             0.6666666667,
             "#ed7953"
            ],
            [
             0.7777777778,
             "#fb9f3a"
            ],
            [
             0.8888888889,
             "#fdca26"
            ],
            [
             1,
             "#f0f921"
            ]
           ],
           "sequentialminus": [
            [
             0,
             "#0d0887"
            ],
            [
             0.1111111111,
             "#46039f"
            ],
            [
             0.2222222222,
             "#7201a8"
            ],
            [
             0.3333333333,
             "#9c179e"
            ],
            [
             0.4444444444,
             "#bd3786"
            ],
            [
             0.5555555556,
             "#d8576b"
            ],
            [
             0.6666666667,
             "#ed7953"
            ],
            [
             0.7777777778,
             "#fb9f3a"
            ],
            [
             0.8888888889,
             "#fdca26"
            ],
            [
             1,
             "#f0f921"
            ]
           ]
          },
          "colorway": [
           "#636efa",
           "#EF553B",
           "#00cc96",
           "#ab63fa",
           "#FFA15A",
           "#19d3f3",
           "#FF6692",
           "#B6E880",
           "#FF97FF",
           "#FECB52"
          ],
          "font": {
           "color": "#2a3f5f"
          },
          "geo": {
           "bgcolor": "white",
           "lakecolor": "white",
           "landcolor": "#E5ECF6",
           "showlakes": true,
           "showland": true,
           "subunitcolor": "white"
          },
          "hoverlabel": {
           "align": "left"
          },
          "hovermode": "closest",
          "mapbox": {
           "style": "light"
          },
          "paper_bgcolor": "white",
          "plot_bgcolor": "#E5ECF6",
          "polar": {
           "angularaxis": {
            "gridcolor": "white",
            "linecolor": "white",
            "ticks": ""
           },
           "bgcolor": "#E5ECF6",
           "radialaxis": {
            "gridcolor": "white",
            "linecolor": "white",
            "ticks": ""
           }
          },
          "scene": {
           "xaxis": {
            "backgroundcolor": "#E5ECF6",
            "gridcolor": "white",
            "gridwidth": 2,
            "linecolor": "white",
            "showbackground": true,
            "ticks": "",
            "zerolinecolor": "white"
           },
           "yaxis": {
            "backgroundcolor": "#E5ECF6",
            "gridcolor": "white",
            "gridwidth": 2,
            "linecolor": "white",
            "showbackground": true,
            "ticks": "",
            "zerolinecolor": "white"
           },
           "zaxis": {
            "backgroundcolor": "#E5ECF6",
            "gridcolor": "white",
            "gridwidth": 2,
            "linecolor": "white",
            "showbackground": true,
            "ticks": "",
            "zerolinecolor": "white"
           }
          },
          "shapedefaults": {
           "line": {
            "color": "#2a3f5f"
           }
          },
          "ternary": {
           "aaxis": {
            "gridcolor": "white",
            "linecolor": "white",
            "ticks": ""
           },
           "baxis": {
            "gridcolor": "white",
            "linecolor": "white",
            "ticks": ""
           },
           "bgcolor": "#E5ECF6",
           "caxis": {
            "gridcolor": "white",
            "linecolor": "white",
            "ticks": ""
           }
          },
          "title": {
           "x": 0.05
          },
          "xaxis": {
           "automargin": true,
           "gridcolor": "white",
           "linecolor": "white",
           "ticks": "",
           "zerolinecolor": "white",
           "zerolinewidth": 2
          },
          "yaxis": {
           "automargin": true,
           "gridcolor": "white",
           "linecolor": "white",
           "ticks": "",
           "zerolinecolor": "white",
           "zerolinewidth": 2
          }
         }
        },
        "xaxis": {
         "anchor": "y",
         "domain": [
          0,
          0.98
         ],
         "title": {
          "text": "genre"
         }
        },
        "yaxis": {
         "anchor": "x",
         "domain": [
          0,
          1
         ],
         "title": {
          "text": "na_sales"
         }
        }
       }
      },
      "text/html": [
       "<div>\n",
       "        \n",
       "        \n",
       "            <div id=\"03404aee-fbb4-44d2-90ce-e5f0c0a1eaba\" class=\"plotly-graph-div\" style=\"height:600px; width:100%;\"></div>\n",
       "            <script type=\"text/javascript\">\n",
       "                require([\"plotly\"], function(Plotly) {\n",
       "                    window.PLOTLYENV=window.PLOTLYENV || {};\n",
       "                    \n",
       "                if (document.getElementById(\"03404aee-fbb4-44d2-90ce-e5f0c0a1eaba\")) {\n",
       "                    Plotly.newPlot(\n",
       "                        '03404aee-fbb4-44d2-90ce-e5f0c0a1eaba',\n",
       "                        [{\"alignmentgroup\": \"True\", \"hoverlabel\": {\"namelength\": 0}, \"hovertemplate\": \"genre=%{x}<br>na_sales=%{y}\", \"legendgroup\": \"\", \"marker\": {\"color\": \"#636efa\"}, \"name\": \"\", \"offsetgroup\": \"\", \"orientation\": \"v\", \"showlegend\": false, \"textposition\": \"auto\", \"type\": \"bar\", \"x\": [\"racing\", \"sports\", \"misc\", \"platform\", \"shooter\", \"action\", \"shooter\", \"sports\", \"sports\", \"shooter\", \"shooter\", \"shooter\", \"shooter\", \"action\", \"action\", \"shooter\", \"shooter\", \"fighting\", \"platform\", \"shooter\", \"shooter\", \"misc\", \"shooter\", \"misc\", \"misc\", \"shooter\", \"role-playing\", \"role-playing\", \"role-playing\", \"racing\", \"shooter\", \"shooter\", \"platform\", \"shooter\", \"action\", \"shooter\", \"shooter\", \"misc\", \"role-playing\", \"action\", \"shooter\", \"shooter\", \"shooter\", \"shooter\", \"misc\", \"action\", \"sports\", \"misc\", \"action\", \"platform\", \"role-playing\", \"action\", \"platform\", \"misc\", \"misc\", \"sports\", \"role-playing\", \"adventure\", \"action\", \"fighting\", \"shooter\", \"misc\", \"platform\", \"racing\", \"action\", \"shooter\", \"action\", \"shooter\", \"misc\", \"shooter\", \"racing\", \"action\", \"role-playing\", \"racing\", \"action\", \"shooter\", \"action\", \"action\", \"shooter\", \"platform\", \"role-playing\", \"action\", \"shooter\", \"action\", \"shooter\", \"role-playing\", \"action\", \"shooter\", \"action\", \"shooter\", \"shooter\", \"role-playing\", \"misc\", \"action\", \"action\", \"shooter\", \"fighting\", \"sports\", \"strategy\", \"sports\"], \"xaxis\": \"x\", \"y\": [15.68, 15.61, 15.0, 14.44, 9.7, 9.66, 9.04, 9.01, 8.92, 8.52, 8.25, 7.97, 7.04, 7.02, 6.76, 6.73, 6.65, 6.62, 6.06, 6.03, 5.99, 5.95, 5.93, 5.8, 5.7, 5.54, 5.51, 5.28, 5.05, 5.03, 4.99, 4.99, 4.89, 4.81, 4.76, 4.59, 4.46, 4.4, 4.35, 4.34, 4.34, 4.15, 4.1, 4.05, 4.05, 3.96, 3.92, 3.74, 3.7, 3.66, 3.59, 3.57, 3.56, 3.49, 3.48, 3.45, 3.4, 3.28, 3.27, 3.27, 3.22, 3.19, 3.17, 3.15, 3.13, 3.11, 3.11, 3.05, 3.04, 2.99, 2.99, 2.99, 2.98, 2.96, 2.85, 2.85, 2.83, 2.81, 2.81, 2.8, 2.79, 2.79, 2.78, 2.77, 2.77, 2.76, 2.74, 2.73, 2.71, 2.67, 2.66, 2.66, 2.64, 2.64, 2.63, 2.61, 2.6, 2.6, 2.57, 2.57], \"yaxis\": \"y\"}],\n",
       "                        {\"barmode\": \"relative\", \"height\": 600, \"legend\": {\"tracegroupgap\": 0}, \"margin\": {\"t\": 60}, \"template\": {\"data\": {\"bar\": [{\"error_x\": {\"color\": \"#2a3f5f\"}, \"error_y\": {\"color\": \"#2a3f5f\"}, \"marker\": {\"line\": {\"color\": \"#E5ECF6\", \"width\": 0.5}}, \"type\": \"bar\"}], \"barpolar\": [{\"marker\": {\"line\": {\"color\": \"#E5ECF6\", \"width\": 0.5}}, \"type\": \"barpolar\"}], \"carpet\": [{\"aaxis\": {\"endlinecolor\": \"#2a3f5f\", \"gridcolor\": \"white\", \"linecolor\": \"white\", \"minorgridcolor\": \"white\", \"startlinecolor\": \"#2a3f5f\"}, \"baxis\": {\"endlinecolor\": \"#2a3f5f\", \"gridcolor\": \"white\", \"linecolor\": \"white\", \"minorgridcolor\": \"white\", \"startlinecolor\": \"#2a3f5f\"}, \"type\": \"carpet\"}], \"choropleth\": [{\"colorbar\": {\"outlinewidth\": 0, \"ticks\": \"\"}, \"type\": \"choropleth\"}], \"contour\": [{\"colorbar\": {\"outlinewidth\": 0, \"ticks\": \"\"}, \"colorscale\": [[0.0, \"#0d0887\"], [0.1111111111111111, \"#46039f\"], [0.2222222222222222, \"#7201a8\"], [0.3333333333333333, \"#9c179e\"], [0.4444444444444444, \"#bd3786\"], [0.5555555555555556, \"#d8576b\"], [0.6666666666666666, \"#ed7953\"], [0.7777777777777778, \"#fb9f3a\"], [0.8888888888888888, \"#fdca26\"], [1.0, \"#f0f921\"]], \"type\": \"contour\"}], \"contourcarpet\": [{\"colorbar\": {\"outlinewidth\": 0, \"ticks\": \"\"}, \"type\": \"contourcarpet\"}], \"heatmap\": [{\"colorbar\": {\"outlinewidth\": 0, \"ticks\": \"\"}, \"colorscale\": [[0.0, \"#0d0887\"], [0.1111111111111111, \"#46039f\"], [0.2222222222222222, \"#7201a8\"], [0.3333333333333333, \"#9c179e\"], [0.4444444444444444, \"#bd3786\"], [0.5555555555555556, \"#d8576b\"], [0.6666666666666666, \"#ed7953\"], [0.7777777777777778, \"#fb9f3a\"], [0.8888888888888888, \"#fdca26\"], [1.0, \"#f0f921\"]], \"type\": \"heatmap\"}], \"heatmapgl\": [{\"colorbar\": {\"outlinewidth\": 0, \"ticks\": \"\"}, \"colorscale\": [[0.0, \"#0d0887\"], [0.1111111111111111, \"#46039f\"], [0.2222222222222222, \"#7201a8\"], [0.3333333333333333, \"#9c179e\"], [0.4444444444444444, \"#bd3786\"], [0.5555555555555556, \"#d8576b\"], [0.6666666666666666, \"#ed7953\"], [0.7777777777777778, \"#fb9f3a\"], [0.8888888888888888, \"#fdca26\"], [1.0, \"#f0f921\"]], \"type\": \"heatmapgl\"}], \"histogram\": [{\"marker\": {\"colorbar\": {\"outlinewidth\": 0, \"ticks\": \"\"}}, \"type\": \"histogram\"}], \"histogram2d\": [{\"colorbar\": {\"outlinewidth\": 0, \"ticks\": \"\"}, \"colorscale\": [[0.0, \"#0d0887\"], [0.1111111111111111, \"#46039f\"], [0.2222222222222222, \"#7201a8\"], [0.3333333333333333, \"#9c179e\"], [0.4444444444444444, \"#bd3786\"], [0.5555555555555556, \"#d8576b\"], [0.6666666666666666, \"#ed7953\"], [0.7777777777777778, \"#fb9f3a\"], [0.8888888888888888, \"#fdca26\"], [1.0, \"#f0f921\"]], \"type\": \"histogram2d\"}], \"histogram2dcontour\": [{\"colorbar\": {\"outlinewidth\": 0, \"ticks\": \"\"}, \"colorscale\": [[0.0, \"#0d0887\"], [0.1111111111111111, \"#46039f\"], [0.2222222222222222, \"#7201a8\"], [0.3333333333333333, \"#9c179e\"], [0.4444444444444444, \"#bd3786\"], [0.5555555555555556, \"#d8576b\"], [0.6666666666666666, \"#ed7953\"], [0.7777777777777778, \"#fb9f3a\"], [0.8888888888888888, \"#fdca26\"], [1.0, \"#f0f921\"]], \"type\": \"histogram2dcontour\"}], \"mesh3d\": [{\"colorbar\": {\"outlinewidth\": 0, \"ticks\": \"\"}, \"type\": \"mesh3d\"}], \"parcoords\": [{\"line\": {\"colorbar\": {\"outlinewidth\": 0, \"ticks\": \"\"}}, \"type\": \"parcoords\"}], \"scatter\": [{\"marker\": {\"colorbar\": {\"outlinewidth\": 0, \"ticks\": \"\"}}, \"type\": \"scatter\"}], \"scatter3d\": [{\"line\": {\"colorbar\": {\"outlinewidth\": 0, \"ticks\": \"\"}}, \"marker\": {\"colorbar\": {\"outlinewidth\": 0, \"ticks\": \"\"}}, \"type\": \"scatter3d\"}], \"scattercarpet\": [{\"marker\": {\"colorbar\": {\"outlinewidth\": 0, \"ticks\": \"\"}}, \"type\": \"scattercarpet\"}], \"scattergeo\": [{\"marker\": {\"colorbar\": {\"outlinewidth\": 0, \"ticks\": \"\"}}, \"type\": \"scattergeo\"}], \"scattergl\": [{\"marker\": {\"colorbar\": {\"outlinewidth\": 0, \"ticks\": \"\"}}, \"type\": \"scattergl\"}], \"scattermapbox\": [{\"marker\": {\"colorbar\": {\"outlinewidth\": 0, \"ticks\": \"\"}}, \"type\": \"scattermapbox\"}], \"scatterpolar\": [{\"marker\": {\"colorbar\": {\"outlinewidth\": 0, \"ticks\": \"\"}}, \"type\": \"scatterpolar\"}], \"scatterpolargl\": [{\"marker\": {\"colorbar\": {\"outlinewidth\": 0, \"ticks\": \"\"}}, \"type\": \"scatterpolargl\"}], \"scatterternary\": [{\"marker\": {\"colorbar\": {\"outlinewidth\": 0, \"ticks\": \"\"}}, \"type\": \"scatterternary\"}], \"surface\": [{\"colorbar\": {\"outlinewidth\": 0, \"ticks\": \"\"}, \"colorscale\": [[0.0, \"#0d0887\"], [0.1111111111111111, \"#46039f\"], [0.2222222222222222, \"#7201a8\"], [0.3333333333333333, \"#9c179e\"], [0.4444444444444444, \"#bd3786\"], [0.5555555555555556, \"#d8576b\"], [0.6666666666666666, \"#ed7953\"], [0.7777777777777778, \"#fb9f3a\"], [0.8888888888888888, \"#fdca26\"], [1.0, \"#f0f921\"]], \"type\": \"surface\"}], \"table\": [{\"cells\": {\"fill\": {\"color\": \"#EBF0F8\"}, \"line\": {\"color\": \"white\"}}, \"header\": {\"fill\": {\"color\": \"#C8D4E3\"}, \"line\": {\"color\": \"white\"}}, \"type\": \"table\"}]}, \"layout\": {\"annotationdefaults\": {\"arrowcolor\": \"#2a3f5f\", \"arrowhead\": 0, \"arrowwidth\": 1}, \"colorscale\": {\"diverging\": [[0, \"#8e0152\"], [0.1, \"#c51b7d\"], [0.2, \"#de77ae\"], [0.3, \"#f1b6da\"], [0.4, \"#fde0ef\"], [0.5, \"#f7f7f7\"], [0.6, \"#e6f5d0\"], [0.7, \"#b8e186\"], [0.8, \"#7fbc41\"], [0.9, \"#4d9221\"], [1, \"#276419\"]], \"sequential\": [[0.0, \"#0d0887\"], [0.1111111111111111, \"#46039f\"], [0.2222222222222222, \"#7201a8\"], [0.3333333333333333, \"#9c179e\"], [0.4444444444444444, \"#bd3786\"], [0.5555555555555556, \"#d8576b\"], [0.6666666666666666, \"#ed7953\"], [0.7777777777777778, \"#fb9f3a\"], [0.8888888888888888, \"#fdca26\"], [1.0, \"#f0f921\"]], \"sequentialminus\": [[0.0, \"#0d0887\"], [0.1111111111111111, \"#46039f\"], [0.2222222222222222, \"#7201a8\"], [0.3333333333333333, \"#9c179e\"], [0.4444444444444444, \"#bd3786\"], [0.5555555555555556, \"#d8576b\"], [0.6666666666666666, \"#ed7953\"], [0.7777777777777778, \"#fb9f3a\"], [0.8888888888888888, \"#fdca26\"], [1.0, \"#f0f921\"]]}, \"colorway\": [\"#636efa\", \"#EF553B\", \"#00cc96\", \"#ab63fa\", \"#FFA15A\", \"#19d3f3\", \"#FF6692\", \"#B6E880\", \"#FF97FF\", \"#FECB52\"], \"font\": {\"color\": \"#2a3f5f\"}, \"geo\": {\"bgcolor\": \"white\", \"lakecolor\": \"white\", \"landcolor\": \"#E5ECF6\", \"showlakes\": true, \"showland\": true, \"subunitcolor\": \"white\"}, \"hoverlabel\": {\"align\": \"left\"}, \"hovermode\": \"closest\", \"mapbox\": {\"style\": \"light\"}, \"paper_bgcolor\": \"white\", \"plot_bgcolor\": \"#E5ECF6\", \"polar\": {\"angularaxis\": {\"gridcolor\": \"white\", \"linecolor\": \"white\", \"ticks\": \"\"}, \"bgcolor\": \"#E5ECF6\", \"radialaxis\": {\"gridcolor\": \"white\", \"linecolor\": \"white\", \"ticks\": \"\"}}, \"scene\": {\"xaxis\": {\"backgroundcolor\": \"#E5ECF6\", \"gridcolor\": \"white\", \"gridwidth\": 2, \"linecolor\": \"white\", \"showbackground\": true, \"ticks\": \"\", \"zerolinecolor\": \"white\"}, \"yaxis\": {\"backgroundcolor\": \"#E5ECF6\", \"gridcolor\": \"white\", \"gridwidth\": 2, \"linecolor\": \"white\", \"showbackground\": true, \"ticks\": \"\", \"zerolinecolor\": \"white\"}, \"zaxis\": {\"backgroundcolor\": \"#E5ECF6\", \"gridcolor\": \"white\", \"gridwidth\": 2, \"linecolor\": \"white\", \"showbackground\": true, \"ticks\": \"\", \"zerolinecolor\": \"white\"}}, \"shapedefaults\": {\"line\": {\"color\": \"#2a3f5f\"}}, \"ternary\": {\"aaxis\": {\"gridcolor\": \"white\", \"linecolor\": \"white\", \"ticks\": \"\"}, \"baxis\": {\"gridcolor\": \"white\", \"linecolor\": \"white\", \"ticks\": \"\"}, \"bgcolor\": \"#E5ECF6\", \"caxis\": {\"gridcolor\": \"white\", \"linecolor\": \"white\", \"ticks\": \"\"}}, \"title\": {\"x\": 0.05}, \"xaxis\": {\"automargin\": true, \"gridcolor\": \"white\", \"linecolor\": \"white\", \"ticks\": \"\", \"zerolinecolor\": \"white\", \"zerolinewidth\": 2}, \"yaxis\": {\"automargin\": true, \"gridcolor\": \"white\", \"linecolor\": \"white\", \"ticks\": \"\", \"zerolinecolor\": \"white\", \"zerolinewidth\": 2}}}, \"xaxis\": {\"anchor\": \"y\", \"domain\": [0.0, 0.98], \"title\": {\"text\": \"genre\"}}, \"yaxis\": {\"anchor\": \"x\", \"domain\": [0.0, 1.0], \"title\": {\"text\": \"na_sales\"}}},\n",
       "                        {\"responsive\": true}\n",
       "                    ).then(function(){\n",
       "                            \n",
       "var gd = document.getElementById('03404aee-fbb4-44d2-90ce-e5f0c0a1eaba');\n",
       "var x = new MutationObserver(function (mutations, observer) {{\n",
       "        var display = window.getComputedStyle(gd).display;\n",
       "        if (!display || display === 'none') {{\n",
       "            console.log([gd, 'removed!']);\n",
       "            Plotly.purge(gd);\n",
       "            observer.disconnect();\n",
       "        }}\n",
       "}});\n",
       "\n",
       "// Listen for the removal of the full notebook cells\n",
       "var notebookContainer = gd.closest('#notebook-container');\n",
       "if (notebookContainer) {{\n",
       "    x.observe(notebookContainer, {childList: true});\n",
       "}}\n",
       "\n",
       "// Listen for the clearing of the current output cell\n",
       "var outputEl = gd.closest('.output');\n",
       "if (outputEl) {{\n",
       "    x.observe(outputEl, {childList: true});\n",
       "}}\n",
       "\n",
       "                        })\n",
       "                };\n",
       "                });\n",
       "            </script>\n",
       "        </div>"
      ]
     },
     "metadata": {},
     "output_type": "display_data"
    }
   ],
   "source": [
    "top_genre = games_new.sort_values(by='na_sales', axis=0, ascending=False)[:100]\n",
    "\n",
    "fig = px.bar(top_platform , \n",
    "             x='genre', \n",
    "             y='na_sales',\n",
    "            )\n",
    "\n",
    "fig.show()\n"
   ]
  },
  {
   "cell_type": "code",
   "execution_count": 32,
   "id": "a9e206eb",
   "metadata": {},
   "outputs": [
    {
     "data": {
      "text/html": [
       "<div>\n",
       "<style scoped>\n",
       "    .dataframe tbody tr th:only-of-type {\n",
       "        vertical-align: middle;\n",
       "    }\n",
       "\n",
       "    .dataframe tbody tr th {\n",
       "        vertical-align: top;\n",
       "    }\n",
       "\n",
       "    .dataframe thead th {\n",
       "        text-align: right;\n",
       "    }\n",
       "</style>\n",
       "<table border=\"1\" class=\"dataframe\">\n",
       "  <thead>\n",
       "    <tr style=\"text-align: right;\">\n",
       "      <th></th>\n",
       "      <th>rating</th>\n",
       "      <th>na_sales</th>\n",
       "    </tr>\n",
       "  </thead>\n",
       "  <tbody>\n",
       "    <tr>\n",
       "      <td>0</td>\n",
       "      <td>E</td>\n",
       "      <td>663.99</td>\n",
       "    </tr>\n",
       "    <tr>\n",
       "      <td>3</td>\n",
       "      <td>M</td>\n",
       "      <td>546.55</td>\n",
       "    </tr>\n",
       "    <tr>\n",
       "      <td>5</td>\n",
       "      <td>T</td>\n",
       "      <td>371.32</td>\n",
       "    </tr>\n",
       "    <tr>\n",
       "      <td>1</td>\n",
       "      <td>E10+</td>\n",
       "      <td>287.61</td>\n",
       "    </tr>\n",
       "    <tr>\n",
       "      <td>2</td>\n",
       "      <td>EC</td>\n",
       "      <td>1.32</td>\n",
       "    </tr>\n",
       "  </tbody>\n",
       "</table>\n",
       "</div>"
      ],
      "text/plain": [
       "  rating  na_sales\n",
       "0      E    663.99\n",
       "3      M    546.55\n",
       "5      T    371.32\n",
       "1   E10+    287.61\n",
       "2     EC      1.32"
      ]
     },
     "execution_count": 32,
     "metadata": {},
     "output_type": "execute_result"
    }
   ],
   "source": [
    "(games_new\n",
    " .query('rating != 1')\n",
    " .groupby('rating')['na_sales']\n",
    " .sum()\n",
    " .reset_index()\n",
    " .sort_values(by='na_sales', ascending=False)\n",
    " .head(5)\n",
    ")\n",
    "#Рейтинг в севеной америки"
   ]
  },
  {
   "cell_type": "code",
   "execution_count": 102,
   "id": "f298e26b",
   "metadata": {},
   "outputs": [
    {
     "data": {
      "application/vnd.plotly.v1+json": {
       "config": {
        "plotlyServerURL": "https://plot.ly"
       },
       "data": [
        {
         "alignmentgroup": "True",
         "hoverlabel": {
          "namelength": 0
         },
         "hovertemplate": "rating=%{x}<br>na_sales=%{y}",
         "legendgroup": "",
         "marker": {
          "color": "#636efa"
         },
         "name": "",
         "offsetgroup": "",
         "orientation": "v",
         "showlegend": false,
         "textposition": "auto",
         "type": "bar",
         "x": [
          "E",
          "E",
          "E",
          "E",
          "M",
          "M",
          "M",
          "E",
          "E",
          "M",
          "M",
          "M",
          "M",
          "M",
          "M",
          "M",
          "M",
          "T",
          "E",
          null,
          "M",
          "E10+",
          "M",
          "E10+",
          null,
          "M",
          null,
          null,
          "M",
          "E",
          "M",
          "M",
          "E",
          "M",
          "M",
          null,
          "M",
          "E",
          null,
          null,
          "M",
          "M",
          "M",
          "M",
          "E10+",
          "M",
          "E10+",
          "E",
          "M",
          "E",
          "M",
          "E10+",
          "E",
          "T",
          "E10+",
          "E",
          "M",
          "M",
          "T",
          null,
          "M",
          "T",
          "E",
          "E",
          "M",
          "M",
          "M",
          "T",
          "T",
          null,
          "E",
          "T",
          null,
          "E",
          "M",
          "M",
          "E",
          "M",
          "M",
          "E",
          null,
          "M",
          "T",
          "T",
          "M",
          "E",
          "M",
          "M",
          "T",
          "M",
          "M",
          "M",
          "E10+",
          "M",
          "M",
          "M",
          null,
          "E",
          "T",
          null
         ],
         "xaxis": "x",
         "y": [
          15.68,
          15.61,
          15,
          14.44,
          9.7,
          9.66,
          9.04,
          9.01,
          8.92,
          8.52,
          8.25,
          7.97,
          7.04,
          7.02,
          6.76,
          6.73,
          6.65,
          6.62,
          6.06,
          6.03,
          5.99,
          5.95,
          5.93,
          5.8,
          5.7,
          5.54,
          5.51,
          5.28,
          5.05,
          5.03,
          4.99,
          4.99,
          4.89,
          4.81,
          4.76,
          4.59,
          4.46,
          4.4,
          4.35,
          4.34,
          4.34,
          4.15,
          4.1,
          4.05,
          4.05,
          3.96,
          3.92,
          3.74,
          3.7,
          3.66,
          3.59,
          3.57,
          3.56,
          3.49,
          3.48,
          3.45,
          3.4,
          3.28,
          3.27,
          3.27,
          3.22,
          3.19,
          3.17,
          3.15,
          3.13,
          3.11,
          3.11,
          3.05,
          3.04,
          2.99,
          2.99,
          2.99,
          2.98,
          2.96,
          2.85,
          2.85,
          2.83,
          2.81,
          2.81,
          2.8,
          2.79,
          2.79,
          2.78,
          2.77,
          2.77,
          2.76,
          2.74,
          2.73,
          2.71,
          2.67,
          2.66,
          2.66,
          2.64,
          2.64,
          2.63,
          2.61,
          2.6,
          2.6,
          2.57,
          2.57
         ],
         "yaxis": "y"
        }
       ],
       "layout": {
        "barmode": "relative",
        "height": 600,
        "legend": {
         "tracegroupgap": 0
        },
        "margin": {
         "t": 60
        },
        "template": {
         "data": {
          "bar": [
           {
            "error_x": {
             "color": "#2a3f5f"
            },
            "error_y": {
             "color": "#2a3f5f"
            },
            "marker": {
             "line": {
              "color": "#E5ECF6",
              "width": 0.5
             }
            },
            "type": "bar"
           }
          ],
          "barpolar": [
           {
            "marker": {
             "line": {
              "color": "#E5ECF6",
              "width": 0.5
             }
            },
            "type": "barpolar"
           }
          ],
          "carpet": [
           {
            "aaxis": {
             "endlinecolor": "#2a3f5f",
             "gridcolor": "white",
             "linecolor": "white",
             "minorgridcolor": "white",
             "startlinecolor": "#2a3f5f"
            },
            "baxis": {
             "endlinecolor": "#2a3f5f",
             "gridcolor": "white",
             "linecolor": "white",
             "minorgridcolor": "white",
             "startlinecolor": "#2a3f5f"
            },
            "type": "carpet"
           }
          ],
          "choropleth": [
           {
            "colorbar": {
             "outlinewidth": 0,
             "ticks": ""
            },
            "type": "choropleth"
           }
          ],
          "contour": [
           {
            "colorbar": {
             "outlinewidth": 0,
             "ticks": ""
            },
            "colorscale": [
             [
              0,
              "#0d0887"
             ],
             [
              0.1111111111,
              "#46039f"
             ],
             [
              0.2222222222,
              "#7201a8"
             ],
             [
              0.3333333333,
              "#9c179e"
             ],
             [
              0.4444444444,
              "#bd3786"
             ],
             [
              0.5555555556,
              "#d8576b"
             ],
             [
              0.6666666667,
              "#ed7953"
             ],
             [
              0.7777777778,
              "#fb9f3a"
             ],
             [
              0.8888888889,
              "#fdca26"
             ],
             [
              1,
              "#f0f921"
             ]
            ],
            "type": "contour"
           }
          ],
          "contourcarpet": [
           {
            "colorbar": {
             "outlinewidth": 0,
             "ticks": ""
            },
            "type": "contourcarpet"
           }
          ],
          "heatmap": [
           {
            "colorbar": {
             "outlinewidth": 0,
             "ticks": ""
            },
            "colorscale": [
             [
              0,
              "#0d0887"
             ],
             [
              0.1111111111,
              "#46039f"
             ],
             [
              0.2222222222,
              "#7201a8"
             ],
             [
              0.3333333333,
              "#9c179e"
             ],
             [
              0.4444444444,
              "#bd3786"
             ],
             [
              0.5555555556,
              "#d8576b"
             ],
             [
              0.6666666667,
              "#ed7953"
             ],
             [
              0.7777777778,
              "#fb9f3a"
             ],
             [
              0.8888888889,
              "#fdca26"
             ],
             [
              1,
              "#f0f921"
             ]
            ],
            "type": "heatmap"
           }
          ],
          "heatmapgl": [
           {
            "colorbar": {
             "outlinewidth": 0,
             "ticks": ""
            },
            "colorscale": [
             [
              0,
              "#0d0887"
             ],
             [
              0.1111111111,
              "#46039f"
             ],
             [
              0.2222222222,
              "#7201a8"
             ],
             [
              0.3333333333,
              "#9c179e"
             ],
             [
              0.4444444444,
              "#bd3786"
             ],
             [
              0.5555555556,
              "#d8576b"
             ],
             [
              0.6666666667,
              "#ed7953"
             ],
             [
              0.7777777778,
              "#fb9f3a"
             ],
             [
              0.8888888889,
              "#fdca26"
             ],
             [
              1,
              "#f0f921"
             ]
            ],
            "type": "heatmapgl"
           }
          ],
          "histogram": [
           {
            "marker": {
             "colorbar": {
              "outlinewidth": 0,
              "ticks": ""
             }
            },
            "type": "histogram"
           }
          ],
          "histogram2d": [
           {
            "colorbar": {
             "outlinewidth": 0,
             "ticks": ""
            },
            "colorscale": [
             [
              0,
              "#0d0887"
             ],
             [
              0.1111111111,
              "#46039f"
             ],
             [
              0.2222222222,
              "#7201a8"
             ],
             [
              0.3333333333,
              "#9c179e"
             ],
             [
              0.4444444444,
              "#bd3786"
             ],
             [
              0.5555555556,
              "#d8576b"
             ],
             [
              0.6666666667,
              "#ed7953"
             ],
             [
              0.7777777778,
              "#fb9f3a"
             ],
             [
              0.8888888889,
              "#fdca26"
             ],
             [
              1,
              "#f0f921"
             ]
            ],
            "type": "histogram2d"
           }
          ],
          "histogram2dcontour": [
           {
            "colorbar": {
             "outlinewidth": 0,
             "ticks": ""
            },
            "colorscale": [
             [
              0,
              "#0d0887"
             ],
             [
              0.1111111111,
              "#46039f"
             ],
             [
              0.2222222222,
              "#7201a8"
             ],
             [
              0.3333333333,
              "#9c179e"
             ],
             [
              0.4444444444,
              "#bd3786"
             ],
             [
              0.5555555556,
              "#d8576b"
             ],
             [
              0.6666666667,
              "#ed7953"
             ],
             [
              0.7777777778,
              "#fb9f3a"
             ],
             [
              0.8888888889,
              "#fdca26"
             ],
             [
              1,
              "#f0f921"
             ]
            ],
            "type": "histogram2dcontour"
           }
          ],
          "mesh3d": [
           {
            "colorbar": {
             "outlinewidth": 0,
             "ticks": ""
            },
            "type": "mesh3d"
           }
          ],
          "parcoords": [
           {
            "line": {
             "colorbar": {
              "outlinewidth": 0,
              "ticks": ""
             }
            },
            "type": "parcoords"
           }
          ],
          "scatter": [
           {
            "marker": {
             "colorbar": {
              "outlinewidth": 0,
              "ticks": ""
             }
            },
            "type": "scatter"
           }
          ],
          "scatter3d": [
           {
            "line": {
             "colorbar": {
              "outlinewidth": 0,
              "ticks": ""
             }
            },
            "marker": {
             "colorbar": {
              "outlinewidth": 0,
              "ticks": ""
             }
            },
            "type": "scatter3d"
           }
          ],
          "scattercarpet": [
           {
            "marker": {
             "colorbar": {
              "outlinewidth": 0,
              "ticks": ""
             }
            },
            "type": "scattercarpet"
           }
          ],
          "scattergeo": [
           {
            "marker": {
             "colorbar": {
              "outlinewidth": 0,
              "ticks": ""
             }
            },
            "type": "scattergeo"
           }
          ],
          "scattergl": [
           {
            "marker": {
             "colorbar": {
              "outlinewidth": 0,
              "ticks": ""
             }
            },
            "type": "scattergl"
           }
          ],
          "scattermapbox": [
           {
            "marker": {
             "colorbar": {
              "outlinewidth": 0,
              "ticks": ""
             }
            },
            "type": "scattermapbox"
           }
          ],
          "scatterpolar": [
           {
            "marker": {
             "colorbar": {
              "outlinewidth": 0,
              "ticks": ""
             }
            },
            "type": "scatterpolar"
           }
          ],
          "scatterpolargl": [
           {
            "marker": {
             "colorbar": {
              "outlinewidth": 0,
              "ticks": ""
             }
            },
            "type": "scatterpolargl"
           }
          ],
          "scatterternary": [
           {
            "marker": {
             "colorbar": {
              "outlinewidth": 0,
              "ticks": ""
             }
            },
            "type": "scatterternary"
           }
          ],
          "surface": [
           {
            "colorbar": {
             "outlinewidth": 0,
             "ticks": ""
            },
            "colorscale": [
             [
              0,
              "#0d0887"
             ],
             [
              0.1111111111,
              "#46039f"
             ],
             [
              0.2222222222,
              "#7201a8"
             ],
             [
              0.3333333333,
              "#9c179e"
             ],
             [
              0.4444444444,
              "#bd3786"
             ],
             [
              0.5555555556,
              "#d8576b"
             ],
             [
              0.6666666667,
              "#ed7953"
             ],
             [
              0.7777777778,
              "#fb9f3a"
             ],
             [
              0.8888888889,
              "#fdca26"
             ],
             [
              1,
              "#f0f921"
             ]
            ],
            "type": "surface"
           }
          ],
          "table": [
           {
            "cells": {
             "fill": {
              "color": "#EBF0F8"
             },
             "line": {
              "color": "white"
             }
            },
            "header": {
             "fill": {
              "color": "#C8D4E3"
             },
             "line": {
              "color": "white"
             }
            },
            "type": "table"
           }
          ]
         },
         "layout": {
          "annotationdefaults": {
           "arrowcolor": "#2a3f5f",
           "arrowhead": 0,
           "arrowwidth": 1
          },
          "colorscale": {
           "diverging": [
            [
             0,
             "#8e0152"
            ],
            [
             0.1,
             "#c51b7d"
            ],
            [
             0.2,
             "#de77ae"
            ],
            [
             0.3,
             "#f1b6da"
            ],
            [
             0.4,
             "#fde0ef"
            ],
            [
             0.5,
             "#f7f7f7"
            ],
            [
             0.6,
             "#e6f5d0"
            ],
            [
             0.7,
             "#b8e186"
            ],
            [
             0.8,
             "#7fbc41"
            ],
            [
             0.9,
             "#4d9221"
            ],
            [
             1,
             "#276419"
            ]
           ],
           "sequential": [
            [
             0,
             "#0d0887"
            ],
            [
             0.1111111111,
             "#46039f"
            ],
            [
             0.2222222222,
             "#7201a8"
            ],
            [
             0.3333333333,
             "#9c179e"
            ],
            [
             0.4444444444,
             "#bd3786"
            ],
            [
             0.5555555556,
             "#d8576b"
            ],
            [
             0.6666666667,
             "#ed7953"
            ],
            [
             0.7777777778,
             "#fb9f3a"
            ],
            [
             0.8888888889,
             "#fdca26"
            ],
            [
             1,
             "#f0f921"
            ]
           ],
           "sequentialminus": [
            [
             0,
             "#0d0887"
            ],
            [
             0.1111111111,
             "#46039f"
            ],
            [
             0.2222222222,
             "#7201a8"
            ],
            [
             0.3333333333,
             "#9c179e"
            ],
            [
             0.4444444444,
             "#bd3786"
            ],
            [
             0.5555555556,
             "#d8576b"
            ],
            [
             0.6666666667,
             "#ed7953"
            ],
            [
             0.7777777778,
             "#fb9f3a"
            ],
            [
             0.8888888889,
             "#fdca26"
            ],
            [
             1,
             "#f0f921"
            ]
           ]
          },
          "colorway": [
           "#636efa",
           "#EF553B",
           "#00cc96",
           "#ab63fa",
           "#FFA15A",
           "#19d3f3",
           "#FF6692",
           "#B6E880",
           "#FF97FF",
           "#FECB52"
          ],
          "font": {
           "color": "#2a3f5f"
          },
          "geo": {
           "bgcolor": "white",
           "lakecolor": "white",
           "landcolor": "#E5ECF6",
           "showlakes": true,
           "showland": true,
           "subunitcolor": "white"
          },
          "hoverlabel": {
           "align": "left"
          },
          "hovermode": "closest",
          "mapbox": {
           "style": "light"
          },
          "paper_bgcolor": "white",
          "plot_bgcolor": "#E5ECF6",
          "polar": {
           "angularaxis": {
            "gridcolor": "white",
            "linecolor": "white",
            "ticks": ""
           },
           "bgcolor": "#E5ECF6",
           "radialaxis": {
            "gridcolor": "white",
            "linecolor": "white",
            "ticks": ""
           }
          },
          "scene": {
           "xaxis": {
            "backgroundcolor": "#E5ECF6",
            "gridcolor": "white",
            "gridwidth": 2,
            "linecolor": "white",
            "showbackground": true,
            "ticks": "",
            "zerolinecolor": "white"
           },
           "yaxis": {
            "backgroundcolor": "#E5ECF6",
            "gridcolor": "white",
            "gridwidth": 2,
            "linecolor": "white",
            "showbackground": true,
            "ticks": "",
            "zerolinecolor": "white"
           },
           "zaxis": {
            "backgroundcolor": "#E5ECF6",
            "gridcolor": "white",
            "gridwidth": 2,
            "linecolor": "white",
            "showbackground": true,
            "ticks": "",
            "zerolinecolor": "white"
           }
          },
          "shapedefaults": {
           "line": {
            "color": "#2a3f5f"
           }
          },
          "ternary": {
           "aaxis": {
            "gridcolor": "white",
            "linecolor": "white",
            "ticks": ""
           },
           "baxis": {
            "gridcolor": "white",
            "linecolor": "white",
            "ticks": ""
           },
           "bgcolor": "#E5ECF6",
           "caxis": {
            "gridcolor": "white",
            "linecolor": "white",
            "ticks": ""
           }
          },
          "title": {
           "x": 0.05
          },
          "xaxis": {
           "automargin": true,
           "gridcolor": "white",
           "linecolor": "white",
           "ticks": "",
           "zerolinecolor": "white",
           "zerolinewidth": 2
          },
          "yaxis": {
           "automargin": true,
           "gridcolor": "white",
           "linecolor": "white",
           "ticks": "",
           "zerolinecolor": "white",
           "zerolinewidth": 2
          }
         }
        },
        "xaxis": {
         "anchor": "y",
         "domain": [
          0,
          0.98
         ],
         "title": {
          "text": "rating"
         }
        },
        "yaxis": {
         "anchor": "x",
         "domain": [
          0,
          1
         ],
         "title": {
          "text": "na_sales"
         }
        }
       }
      },
      "text/html": [
       "<div>\n",
       "        \n",
       "        \n",
       "            <div id=\"430321e8-4480-4c34-bbc3-1603474303b1\" class=\"plotly-graph-div\" style=\"height:600px; width:100%;\"></div>\n",
       "            <script type=\"text/javascript\">\n",
       "                require([\"plotly\"], function(Plotly) {\n",
       "                    window.PLOTLYENV=window.PLOTLYENV || {};\n",
       "                    \n",
       "                if (document.getElementById(\"430321e8-4480-4c34-bbc3-1603474303b1\")) {\n",
       "                    Plotly.newPlot(\n",
       "                        '430321e8-4480-4c34-bbc3-1603474303b1',\n",
       "                        [{\"alignmentgroup\": \"True\", \"hoverlabel\": {\"namelength\": 0}, \"hovertemplate\": \"rating=%{x}<br>na_sales=%{y}\", \"legendgroup\": \"\", \"marker\": {\"color\": \"#636efa\"}, \"name\": \"\", \"offsetgroup\": \"\", \"orientation\": \"v\", \"showlegend\": false, \"textposition\": \"auto\", \"type\": \"bar\", \"x\": [\"E\", \"E\", \"E\", \"E\", \"M\", \"M\", \"M\", \"E\", \"E\", \"M\", \"M\", \"M\", \"M\", \"M\", \"M\", \"M\", \"M\", \"T\", \"E\", null, \"M\", \"E10+\", \"M\", \"E10+\", null, \"M\", null, null, \"M\", \"E\", \"M\", \"M\", \"E\", \"M\", \"M\", null, \"M\", \"E\", null, null, \"M\", \"M\", \"M\", \"M\", \"E10+\", \"M\", \"E10+\", \"E\", \"M\", \"E\", \"M\", \"E10+\", \"E\", \"T\", \"E10+\", \"E\", \"M\", \"M\", \"T\", null, \"M\", \"T\", \"E\", \"E\", \"M\", \"M\", \"M\", \"T\", \"T\", null, \"E\", \"T\", null, \"E\", \"M\", \"M\", \"E\", \"M\", \"M\", \"E\", null, \"M\", \"T\", \"T\", \"M\", \"E\", \"M\", \"M\", \"T\", \"M\", \"M\", \"M\", \"E10+\", \"M\", \"M\", \"M\", null, \"E\", \"T\", null], \"xaxis\": \"x\", \"y\": [15.68, 15.61, 15.0, 14.44, 9.7, 9.66, 9.04, 9.01, 8.92, 8.52, 8.25, 7.97, 7.04, 7.02, 6.76, 6.73, 6.65, 6.62, 6.06, 6.03, 5.99, 5.95, 5.93, 5.8, 5.7, 5.54, 5.51, 5.28, 5.05, 5.03, 4.99, 4.99, 4.89, 4.81, 4.76, 4.59, 4.46, 4.4, 4.35, 4.34, 4.34, 4.15, 4.1, 4.05, 4.05, 3.96, 3.92, 3.74, 3.7, 3.66, 3.59, 3.57, 3.56, 3.49, 3.48, 3.45, 3.4, 3.28, 3.27, 3.27, 3.22, 3.19, 3.17, 3.15, 3.13, 3.11, 3.11, 3.05, 3.04, 2.99, 2.99, 2.99, 2.98, 2.96, 2.85, 2.85, 2.83, 2.81, 2.81, 2.8, 2.79, 2.79, 2.78, 2.77, 2.77, 2.76, 2.74, 2.73, 2.71, 2.67, 2.66, 2.66, 2.64, 2.64, 2.63, 2.61, 2.6, 2.6, 2.57, 2.57], \"yaxis\": \"y\"}],\n",
       "                        {\"barmode\": \"relative\", \"height\": 600, \"legend\": {\"tracegroupgap\": 0}, \"margin\": {\"t\": 60}, \"template\": {\"data\": {\"bar\": [{\"error_x\": {\"color\": \"#2a3f5f\"}, \"error_y\": {\"color\": \"#2a3f5f\"}, \"marker\": {\"line\": {\"color\": \"#E5ECF6\", \"width\": 0.5}}, \"type\": \"bar\"}], \"barpolar\": [{\"marker\": {\"line\": {\"color\": \"#E5ECF6\", \"width\": 0.5}}, \"type\": \"barpolar\"}], \"carpet\": [{\"aaxis\": {\"endlinecolor\": \"#2a3f5f\", \"gridcolor\": \"white\", \"linecolor\": \"white\", \"minorgridcolor\": \"white\", \"startlinecolor\": \"#2a3f5f\"}, \"baxis\": {\"endlinecolor\": \"#2a3f5f\", \"gridcolor\": \"white\", \"linecolor\": \"white\", \"minorgridcolor\": \"white\", \"startlinecolor\": \"#2a3f5f\"}, \"type\": \"carpet\"}], \"choropleth\": [{\"colorbar\": {\"outlinewidth\": 0, \"ticks\": \"\"}, \"type\": \"choropleth\"}], \"contour\": [{\"colorbar\": {\"outlinewidth\": 0, \"ticks\": \"\"}, \"colorscale\": [[0.0, \"#0d0887\"], [0.1111111111111111, \"#46039f\"], [0.2222222222222222, \"#7201a8\"], [0.3333333333333333, \"#9c179e\"], [0.4444444444444444, \"#bd3786\"], [0.5555555555555556, \"#d8576b\"], [0.6666666666666666, \"#ed7953\"], [0.7777777777777778, \"#fb9f3a\"], [0.8888888888888888, \"#fdca26\"], [1.0, \"#f0f921\"]], \"type\": \"contour\"}], \"contourcarpet\": [{\"colorbar\": {\"outlinewidth\": 0, \"ticks\": \"\"}, \"type\": \"contourcarpet\"}], \"heatmap\": [{\"colorbar\": {\"outlinewidth\": 0, \"ticks\": \"\"}, \"colorscale\": [[0.0, \"#0d0887\"], [0.1111111111111111, \"#46039f\"], [0.2222222222222222, \"#7201a8\"], [0.3333333333333333, \"#9c179e\"], [0.4444444444444444, \"#bd3786\"], [0.5555555555555556, \"#d8576b\"], [0.6666666666666666, \"#ed7953\"], [0.7777777777777778, \"#fb9f3a\"], [0.8888888888888888, \"#fdca26\"], [1.0, \"#f0f921\"]], \"type\": \"heatmap\"}], \"heatmapgl\": [{\"colorbar\": {\"outlinewidth\": 0, \"ticks\": \"\"}, \"colorscale\": [[0.0, \"#0d0887\"], [0.1111111111111111, \"#46039f\"], [0.2222222222222222, \"#7201a8\"], [0.3333333333333333, \"#9c179e\"], [0.4444444444444444, \"#bd3786\"], [0.5555555555555556, \"#d8576b\"], [0.6666666666666666, \"#ed7953\"], [0.7777777777777778, \"#fb9f3a\"], [0.8888888888888888, \"#fdca26\"], [1.0, \"#f0f921\"]], \"type\": \"heatmapgl\"}], \"histogram\": [{\"marker\": {\"colorbar\": {\"outlinewidth\": 0, \"ticks\": \"\"}}, \"type\": \"histogram\"}], \"histogram2d\": [{\"colorbar\": {\"outlinewidth\": 0, \"ticks\": \"\"}, \"colorscale\": [[0.0, \"#0d0887\"], [0.1111111111111111, \"#46039f\"], [0.2222222222222222, \"#7201a8\"], [0.3333333333333333, \"#9c179e\"], [0.4444444444444444, \"#bd3786\"], [0.5555555555555556, \"#d8576b\"], [0.6666666666666666, \"#ed7953\"], [0.7777777777777778, \"#fb9f3a\"], [0.8888888888888888, \"#fdca26\"], [1.0, \"#f0f921\"]], \"type\": \"histogram2d\"}], \"histogram2dcontour\": [{\"colorbar\": {\"outlinewidth\": 0, \"ticks\": \"\"}, \"colorscale\": [[0.0, \"#0d0887\"], [0.1111111111111111, \"#46039f\"], [0.2222222222222222, \"#7201a8\"], [0.3333333333333333, \"#9c179e\"], [0.4444444444444444, \"#bd3786\"], [0.5555555555555556, \"#d8576b\"], [0.6666666666666666, \"#ed7953\"], [0.7777777777777778, \"#fb9f3a\"], [0.8888888888888888, \"#fdca26\"], [1.0, \"#f0f921\"]], \"type\": \"histogram2dcontour\"}], \"mesh3d\": [{\"colorbar\": {\"outlinewidth\": 0, \"ticks\": \"\"}, \"type\": \"mesh3d\"}], \"parcoords\": [{\"line\": {\"colorbar\": {\"outlinewidth\": 0, \"ticks\": \"\"}}, \"type\": \"parcoords\"}], \"scatter\": [{\"marker\": {\"colorbar\": {\"outlinewidth\": 0, \"ticks\": \"\"}}, \"type\": \"scatter\"}], \"scatter3d\": [{\"line\": {\"colorbar\": {\"outlinewidth\": 0, \"ticks\": \"\"}}, \"marker\": {\"colorbar\": {\"outlinewidth\": 0, \"ticks\": \"\"}}, \"type\": \"scatter3d\"}], \"scattercarpet\": [{\"marker\": {\"colorbar\": {\"outlinewidth\": 0, \"ticks\": \"\"}}, \"type\": \"scattercarpet\"}], \"scattergeo\": [{\"marker\": {\"colorbar\": {\"outlinewidth\": 0, \"ticks\": \"\"}}, \"type\": \"scattergeo\"}], \"scattergl\": [{\"marker\": {\"colorbar\": {\"outlinewidth\": 0, \"ticks\": \"\"}}, \"type\": \"scattergl\"}], \"scattermapbox\": [{\"marker\": {\"colorbar\": {\"outlinewidth\": 0, \"ticks\": \"\"}}, \"type\": \"scattermapbox\"}], \"scatterpolar\": [{\"marker\": {\"colorbar\": {\"outlinewidth\": 0, \"ticks\": \"\"}}, \"type\": \"scatterpolar\"}], \"scatterpolargl\": [{\"marker\": {\"colorbar\": {\"outlinewidth\": 0, \"ticks\": \"\"}}, \"type\": \"scatterpolargl\"}], \"scatterternary\": [{\"marker\": {\"colorbar\": {\"outlinewidth\": 0, \"ticks\": \"\"}}, \"type\": \"scatterternary\"}], \"surface\": [{\"colorbar\": {\"outlinewidth\": 0, \"ticks\": \"\"}, \"colorscale\": [[0.0, \"#0d0887\"], [0.1111111111111111, \"#46039f\"], [0.2222222222222222, \"#7201a8\"], [0.3333333333333333, \"#9c179e\"], [0.4444444444444444, \"#bd3786\"], [0.5555555555555556, \"#d8576b\"], [0.6666666666666666, \"#ed7953\"], [0.7777777777777778, \"#fb9f3a\"], [0.8888888888888888, \"#fdca26\"], [1.0, \"#f0f921\"]], \"type\": \"surface\"}], \"table\": [{\"cells\": {\"fill\": {\"color\": \"#EBF0F8\"}, \"line\": {\"color\": \"white\"}}, \"header\": {\"fill\": {\"color\": \"#C8D4E3\"}, \"line\": {\"color\": \"white\"}}, \"type\": \"table\"}]}, \"layout\": {\"annotationdefaults\": {\"arrowcolor\": \"#2a3f5f\", \"arrowhead\": 0, \"arrowwidth\": 1}, \"colorscale\": {\"diverging\": [[0, \"#8e0152\"], [0.1, \"#c51b7d\"], [0.2, \"#de77ae\"], [0.3, \"#f1b6da\"], [0.4, \"#fde0ef\"], [0.5, \"#f7f7f7\"], [0.6, \"#e6f5d0\"], [0.7, \"#b8e186\"], [0.8, \"#7fbc41\"], [0.9, \"#4d9221\"], [1, \"#276419\"]], \"sequential\": [[0.0, \"#0d0887\"], [0.1111111111111111, \"#46039f\"], [0.2222222222222222, \"#7201a8\"], [0.3333333333333333, \"#9c179e\"], [0.4444444444444444, \"#bd3786\"], [0.5555555555555556, \"#d8576b\"], [0.6666666666666666, \"#ed7953\"], [0.7777777777777778, \"#fb9f3a\"], [0.8888888888888888, \"#fdca26\"], [1.0, \"#f0f921\"]], \"sequentialminus\": [[0.0, \"#0d0887\"], [0.1111111111111111, \"#46039f\"], [0.2222222222222222, \"#7201a8\"], [0.3333333333333333, \"#9c179e\"], [0.4444444444444444, \"#bd3786\"], [0.5555555555555556, \"#d8576b\"], [0.6666666666666666, \"#ed7953\"], [0.7777777777777778, \"#fb9f3a\"], [0.8888888888888888, \"#fdca26\"], [1.0, \"#f0f921\"]]}, \"colorway\": [\"#636efa\", \"#EF553B\", \"#00cc96\", \"#ab63fa\", \"#FFA15A\", \"#19d3f3\", \"#FF6692\", \"#B6E880\", \"#FF97FF\", \"#FECB52\"], \"font\": {\"color\": \"#2a3f5f\"}, \"geo\": {\"bgcolor\": \"white\", \"lakecolor\": \"white\", \"landcolor\": \"#E5ECF6\", \"showlakes\": true, \"showland\": true, \"subunitcolor\": \"white\"}, \"hoverlabel\": {\"align\": \"left\"}, \"hovermode\": \"closest\", \"mapbox\": {\"style\": \"light\"}, \"paper_bgcolor\": \"white\", \"plot_bgcolor\": \"#E5ECF6\", \"polar\": {\"angularaxis\": {\"gridcolor\": \"white\", \"linecolor\": \"white\", \"ticks\": \"\"}, \"bgcolor\": \"#E5ECF6\", \"radialaxis\": {\"gridcolor\": \"white\", \"linecolor\": \"white\", \"ticks\": \"\"}}, \"scene\": {\"xaxis\": {\"backgroundcolor\": \"#E5ECF6\", \"gridcolor\": \"white\", \"gridwidth\": 2, \"linecolor\": \"white\", \"showbackground\": true, \"ticks\": \"\", \"zerolinecolor\": \"white\"}, \"yaxis\": {\"backgroundcolor\": \"#E5ECF6\", \"gridcolor\": \"white\", \"gridwidth\": 2, \"linecolor\": \"white\", \"showbackground\": true, \"ticks\": \"\", \"zerolinecolor\": \"white\"}, \"zaxis\": {\"backgroundcolor\": \"#E5ECF6\", \"gridcolor\": \"white\", \"gridwidth\": 2, \"linecolor\": \"white\", \"showbackground\": true, \"ticks\": \"\", \"zerolinecolor\": \"white\"}}, \"shapedefaults\": {\"line\": {\"color\": \"#2a3f5f\"}}, \"ternary\": {\"aaxis\": {\"gridcolor\": \"white\", \"linecolor\": \"white\", \"ticks\": \"\"}, \"baxis\": {\"gridcolor\": \"white\", \"linecolor\": \"white\", \"ticks\": \"\"}, \"bgcolor\": \"#E5ECF6\", \"caxis\": {\"gridcolor\": \"white\", \"linecolor\": \"white\", \"ticks\": \"\"}}, \"title\": {\"x\": 0.05}, \"xaxis\": {\"automargin\": true, \"gridcolor\": \"white\", \"linecolor\": \"white\", \"ticks\": \"\", \"zerolinecolor\": \"white\", \"zerolinewidth\": 2}, \"yaxis\": {\"automargin\": true, \"gridcolor\": \"white\", \"linecolor\": \"white\", \"ticks\": \"\", \"zerolinecolor\": \"white\", \"zerolinewidth\": 2}}}, \"xaxis\": {\"anchor\": \"y\", \"domain\": [0.0, 0.98], \"title\": {\"text\": \"rating\"}}, \"yaxis\": {\"anchor\": \"x\", \"domain\": [0.0, 1.0], \"title\": {\"text\": \"na_sales\"}}},\n",
       "                        {\"responsive\": true}\n",
       "                    ).then(function(){\n",
       "                            \n",
       "var gd = document.getElementById('430321e8-4480-4c34-bbc3-1603474303b1');\n",
       "var x = new MutationObserver(function (mutations, observer) {{\n",
       "        var display = window.getComputedStyle(gd).display;\n",
       "        if (!display || display === 'none') {{\n",
       "            console.log([gd, 'removed!']);\n",
       "            Plotly.purge(gd);\n",
       "            observer.disconnect();\n",
       "        }}\n",
       "}});\n",
       "\n",
       "// Listen for the removal of the full notebook cells\n",
       "var notebookContainer = gd.closest('#notebook-container');\n",
       "if (notebookContainer) {{\n",
       "    x.observe(notebookContainer, {childList: true});\n",
       "}}\n",
       "\n",
       "// Listen for the clearing of the current output cell\n",
       "var outputEl = gd.closest('.output');\n",
       "if (outputEl) {{\n",
       "    x.observe(outputEl, {childList: true});\n",
       "}}\n",
       "\n",
       "                        })\n",
       "                };\n",
       "                });\n",
       "            </script>\n",
       "        </div>"
      ]
     },
     "metadata": {},
     "output_type": "display_data"
    }
   ],
   "source": [
    "top_genre = games_new.sort_values(by='rating', axis=0, ascending=False)[:200]\n",
    "\n",
    "fig = px.bar(top_platform , \n",
    "             x='rating', \n",
    "             y='na_sales',\n",
    "            )\n",
    "\n",
    "fig.show()"
   ]
  },
  {
   "cell_type": "markdown",
   "id": "80098827",
   "metadata": {},
   "source": [
    "ЕВРОПА"
   ]
  },
  {
   "cell_type": "code",
   "execution_count": 33,
   "id": "3044437a",
   "metadata": {},
   "outputs": [
    {
     "data": {
      "text/html": [
       "<div>\n",
       "<style scoped>\n",
       "    .dataframe tbody tr th:only-of-type {\n",
       "        vertical-align: middle;\n",
       "    }\n",
       "\n",
       "    .dataframe tbody tr th {\n",
       "        vertical-align: top;\n",
       "    }\n",
       "\n",
       "    .dataframe thead th {\n",
       "        text-align: right;\n",
       "    }\n",
       "</style>\n",
       "<table border=\"1\" class=\"dataframe\">\n",
       "  <thead>\n",
       "    <tr style=\"text-align: right;\">\n",
       "      <th></th>\n",
       "      <th>platform</th>\n",
       "      <th>eu_sales</th>\n",
       "    </tr>\n",
       "  </thead>\n",
       "  <tbody>\n",
       "    <tr>\n",
       "      <td>7</td>\n",
       "      <td>PS3</td>\n",
       "      <td>319.83</td>\n",
       "    </tr>\n",
       "    <tr>\n",
       "      <td>13</td>\n",
       "      <td>X360</td>\n",
       "      <td>257.05</td>\n",
       "    </tr>\n",
       "    <tr>\n",
       "      <td>11</td>\n",
       "      <td>Wii</td>\n",
       "      <td>214.70</td>\n",
       "    </tr>\n",
       "    <tr>\n",
       "      <td>8</td>\n",
       "      <td>PS4</td>\n",
       "      <td>141.09</td>\n",
       "    </tr>\n",
       "    <tr>\n",
       "      <td>2</td>\n",
       "      <td>DS</td>\n",
       "      <td>119.92</td>\n",
       "    </tr>\n",
       "  </tbody>\n",
       "</table>\n",
       "</div>"
      ],
      "text/plain": [
       "   platform  eu_sales\n",
       "7       PS3    319.83\n",
       "13     X360    257.05\n",
       "11      Wii    214.70\n",
       "8       PS4    141.09\n",
       "2        DS    119.92"
      ]
     },
     "execution_count": 33,
     "metadata": {},
     "output_type": "execute_result"
    }
   ],
   "source": [
    "(games_new\n",
    " .groupby('platform')['eu_sales']\n",
    " .sum()\n",
    " .reset_index()\n",
    " .sort_values(by='eu_sales', ascending=False)\n",
    " .head(5)\n",
    ")\n",
    "\n",
    "#топ 5 в европе"
   ]
  },
  {
   "cell_type": "code",
   "execution_count": 78,
   "id": "f0e80427",
   "metadata": {},
   "outputs": [
    {
     "data": {
      "application/vnd.plotly.v1+json": {
       "config": {
        "plotlyServerURL": "https://plot.ly"
       },
       "data": [
        {
         "alignmentgroup": "True",
         "hoverlabel": {
          "namelength": 0
         },
         "hovertemplate": "platform=%{x}<br>eu_sales=%{y}",
         "legendgroup": "",
         "marker": {
          "color": "#636efa"
         },
         "name": "",
         "offsetgroup": "",
         "orientation": "v",
         "showlegend": false,
         "textposition": "auto",
         "type": "bar",
         "x": [
          "Wii",
          "Wii",
          "PS3",
          "Wii",
          "Wii",
          "Wii",
          "PC",
          "PS4",
          "PS4",
          "PS4",
          "PS4",
          "PS3",
          "PS3",
          "X360",
          "PS3",
          "X360",
          "PS3",
          "PS3",
          "PS4",
          "PS3",
          "X360",
          "PS3",
          "X360",
          "3DS",
          "3DS",
          "Wii",
          "PS3",
          "X360",
          "PS3",
          "PS3",
          "X360",
          "PS4",
          "3DS",
          "PS4",
          "X360",
          "Wii",
          "Wii",
          "PS3",
          "PS4",
          "DS",
          "3DS",
          "Wii",
          "X360",
          "PS3",
          "3DS",
          "Wii",
          "PS3",
          "X360",
          "Wii",
          "X360",
          "X360",
          "X360",
          "PS3",
          "DS",
          "X360",
          "PS3",
          "Wii",
          "X360",
          "Wii",
          "PS3",
          "PS3",
          "PS4",
          "PS3",
          "DS",
          "DS",
          "X360",
          "PS3",
          "3DS",
          "X360",
          "Wii",
          "X360",
          "PS3",
          "Wii",
          "PS3",
          "XOne",
          "PS3",
          "PS4",
          "Wii",
          "PC",
          "PS4",
          "WiiU",
          "PS4",
          "XOne",
          "PC",
          "X360",
          "XOne",
          "3DS",
          "PS4",
          "PS4",
          "XOne",
          "PS4",
          "PS3",
          "PS3",
          "PS4",
          "PS4",
          "PS4",
          "PS3",
          "X360",
          "Wii",
          "X360",
          "X360",
          "PS3",
          "PS3",
          "X360",
          "Wii",
          "X360",
          "X360",
          "PS4",
          "X360",
          "Wii",
          "DS",
          "PS4",
          "PS3",
          "PS3",
          "PS3",
          "PC",
          "PS3",
          "DS",
          "X360",
          "Wii",
          "DS",
          "X360",
          "DS",
          "DS",
          "PS3",
          "PS4",
          "PS3",
          "PS4",
          "PS3",
          "PS4",
          "X360",
          "PC",
          "PS3",
          "PS3",
          "DS",
          "X360",
          "PS3",
          "DS",
          "X360",
          "DS",
          "PSP",
          "DS",
          "DS",
          "X360",
          "XOne",
          "Wii",
          "PS4",
          "PC",
          "PS4",
          "DS",
          "DS",
          "Wii",
          "X360",
          "PS3",
          "3DS",
          "PS4",
          "PC",
          "PS4",
          "PS3",
          "XOne",
          "PS3",
          "3DS",
          "PS3",
          "Wii",
          "PSP",
          "3DS",
          "DS",
          "PS4",
          "3DS",
          "PS4",
          "Wii",
          "X360",
          "WiiU",
          "Wii",
          "PS4",
          "PS3",
          "PS3",
          "X360",
          "XOne",
          "3DS",
          "PS3",
          "PS4",
          "PS3",
          "XOne",
          "X360",
          "X360",
          "PS3",
          "X360",
          "XOne",
          "DS",
          "PS3",
          "DS",
          "X360",
          "PS4",
          "X360",
          "PS3",
          "X360",
          "PSP",
          "PS3",
          "PS3",
          "DS",
          "PS4",
          "DS",
          "Wii",
          "WiiU",
          "Wii",
          "PS3",
          "Wii",
          "WiiU",
          "PC",
          "PC",
          "X360",
          "PC",
          "PS3",
          "Wii",
          "DS",
          "PS3",
          "PC",
          "PC",
          "Wii",
          "Wii",
          "WiiU",
          "Wii",
          "X360",
          "Wii",
          "X360",
          "PS3",
          "PS3",
          "PS3",
          "Wii",
          "WiiU",
          "PS2",
          "PS4",
          "X360",
          "Wii",
          "PS4",
          "PC",
          "PC",
          "PS3",
          "PS3",
          "PS3",
          "PS3",
          "Wii",
          "PC",
          "PS3",
          "PS3",
          "PS3",
          "PS3",
          "PS3",
          "Wii",
          "PS4",
          "X360",
          "3DS",
          "Wii",
          "X360",
          "PSP",
          "X360",
          "DS",
          "DS",
          "X360",
          "X360",
          "3DS",
          "PC",
          "PC",
          "XOne",
          "PSP",
          "PS3",
          "DS",
          "X360",
          "PC",
          "PS4",
          "PS4",
          "PS3",
          "DS",
          "3DS",
          "PC",
          "PS3",
          "X360",
          "X360",
          "PS3",
          "Wii",
          "DS",
          "X360",
          "PC",
          "DS",
          "PS3",
          "PS4",
          "PS4",
          "Wii",
          "X360",
          "X360",
          "X360",
          "XOne",
          "X360",
          "PS3",
          "PS4",
          "DS",
          "DS",
          "X360",
          "PS3",
          "PS3",
          "Wii",
          "PS4",
          "XOne",
          "XOne",
          "DS",
          "X360",
          "XOne",
          "PS3",
          "DS",
          "PS3",
          "WiiU",
          "PS3",
          "X360",
          "PC",
          "PS3",
          "PS4",
          "X360",
          "X360",
          "X360",
          "PS3",
          "X360",
          "PC",
          "PC",
          "PS4",
          "X360",
          "PS3",
          "Wii",
          "PS3",
          "PS2",
          "PS4",
          "Wii",
          "PS3",
          "Wii",
          "X360",
          "X360",
          "Wii",
          "X360",
          "X360",
          "PS3",
          "X360",
          "Wii",
          "X360",
          "PC",
          "Wii",
          "DS",
          "Wii",
          "DS",
          "DS",
          "DS",
          "X360",
          "X360",
          "PS4",
          "PC",
          "X360",
          "PS3",
          "DS",
          "XOne",
          "PS4",
          "X360",
          "PS3",
          "X360",
          "PS4",
          "PS3",
          "PS4",
          "X360",
          "XOne",
          "X360",
          "PC",
          "X360",
          "PS4",
          "PC",
          "X360",
          "DS",
          "X360",
          "PS4",
          "XOne",
          "3DS",
          "DS",
          "Wii",
          "PC",
          "XOne",
          "X360",
          "XOne",
          "PS4",
          "PSP",
          "PS4",
          "X360",
          "X360",
          "PC",
          "PS3",
          "PS4",
          "DS",
          "PS3",
          "PS3",
          "Wii",
          "Wii",
          "Wii",
          "Wii",
          "XOne",
          "PS3",
          "PSP",
          "PS3",
          "DS",
          "PS3",
          "PS3",
          "PS3",
          "Wii",
          "X360",
          "X360",
          "DS",
          "X360",
          "Wii",
          "PS4",
          "XOne",
          "X360",
          "X360",
          "PS3",
          "PC",
          "Wii",
          "PC",
          "PC",
          "PS3",
          "X360",
          "PS3",
          "PS4",
          "XOne",
          "PS3",
          "X360",
          "PSP",
          "PS3",
          "Wii",
          "Wii",
          "PS4",
          "XOne",
          "PS3",
          "Wii",
          "PS3",
          "Wii",
          "PC",
          "Wii",
          "Wii",
          "Wii",
          "X360",
          "DS",
          "PSP",
          "PS4",
          "PSP",
          "PSV",
          "Wii",
          "PS2",
          "PS3",
          "3DS",
          "PC",
          "PS4",
          "Wii",
          "XOne",
          "PS3",
          "PS3",
          "PS3",
          "PS4",
          "DS",
          "Wii",
          "Wii",
          "DS",
          "Wii",
          "PS3",
          "PC",
          "Wii",
          "PS4",
          "3DS",
          "3DS",
          "Wii",
          "PSV",
          "Wii",
          "PS3",
          "PS3",
          "X360",
          "Wii",
          "DS",
          "PS3",
          "Wii",
          "PC",
          "Wii",
          "PS3",
          "WiiU",
          "X360",
          "X360",
          "X360",
          "DS",
          "Wii",
          "PS3",
          "3DS",
          "X360",
          "PSV",
          "PS3",
          "PS3",
          "X360",
          "X360",
          "X360",
          "PS3",
          "PC",
          "PS4",
          "Wii",
          "Wii",
          "WiiU",
          "PS3",
          "PS2",
          "DS",
          "DS",
          "X360",
          "DS",
          "PC",
          "Wii",
          "PS4",
          "PS3",
          "PSP",
          "PS4",
          "PS3",
          "Wii",
          "PS4",
          "PS3",
          "X360",
          "PS3",
          "XOne",
          "3DS",
          "PC",
          "PS3",
          "XOne",
          "DS",
          "X360",
          "DS",
          "PS3",
          "PSP",
          "PS4",
          "PS3",
          "Wii",
          "PS4",
          "X360",
          "PS3",
          "PS3",
          "PS3",
          "PS3",
          "PS3",
          "X360",
          "Wii",
          "WiiU",
          "Wii",
          "XOne",
          "PC",
          "X360",
          "PS3",
          "PS3",
          "DS",
          "DS",
          "Wii",
          "PS3",
          "PS3",
          "PS3",
          "PS3",
          "PS3",
          "XOne",
          "PS3",
          "Wii",
          "WiiU",
          "3DS",
          "PSP",
          "X360",
          "X360",
          "PC",
          "Wii",
          "Wii",
          "X360",
          "DS",
          "PS3",
          "Wii",
          "PS4",
          "X360",
          "PS3",
          "PSP",
          "X360",
          "PS3",
          "3DS",
          "PS3",
          "PC",
          "PC",
          "PSP",
          "PS3",
          "X360",
          "DS",
          "X360",
          "PS4",
          "PS3",
          "PC",
          "PC",
          "PS3",
          "XOne",
          "PC",
          "WiiU",
          "PS3",
          "Wii",
          "X360",
          "X360",
          "PS3",
          "PS3",
          "PS4",
          "PC",
          "DS",
          "PS3",
          "X360",
          "Wii",
          "PS3",
          "Wii",
          "DS",
          "Wii",
          "DS",
          "PS3",
          "X360",
          "DS",
          "X360",
          "DS",
          "Wii",
          "DS",
          "X360",
          "PC",
          "PS3",
          "PS3",
          "PS2",
          "XOne",
          "Wii",
          "PSP",
          "Wii",
          "X360",
          "PSP",
          "X360",
          "PS3",
          "DS",
          "X360",
          "X360",
          "X360",
          "X360",
          "XOne",
          "PS3",
          "DS",
          "PS3",
          "PS3",
          "PS3",
          "PSP",
          "PS3",
          "PS3",
          "X360",
          "Wii",
          "Wii",
          "PS3",
          "DS",
          "X360",
          "PS3",
          "DS",
          "X360",
          "PS4",
          "Wii",
          "PS3",
          "X360",
          "PS3",
          "DS",
          "PSV",
          "DS",
          "PC",
          "PS3",
          "PSP",
          "PS3",
          "3DS",
          "DS",
          "X360",
          "Wii",
          "Wii",
          "3DS",
          "PS3",
          "PC",
          "Wii",
          "Wii",
          "X360",
          "Wii",
          "PSP",
          "DS",
          "GBA",
          "PSP",
          "XOne",
          "PS3",
          "X360",
          "PS3",
          "PS4",
          "PS3",
          "DS",
          "3DS",
          "X360",
          "PSP",
          "WiiU",
          "DS",
          "PC",
          "Wii",
          "PS3",
          "PC",
          "PS3",
          "PSP",
          "Wii",
          "DS",
          "Wii",
          "X360",
          "PS3",
          "X360",
          "DS",
          "PS3",
          "PS3",
          "PSP",
          "Wii",
          "Wii",
          "PS3",
          "PS3",
          "Wii",
          "PS3",
          "PS3",
          "X360",
          "Wii",
          "3DS",
          "Wii",
          "PC",
          "PS4",
          "Wii",
          "PS4",
          "PS3",
          "PC",
          "X360",
          "PS4",
          "PC",
          "PS3",
          "PC",
          "PS3",
          "XOne",
          "X360",
          "PC",
          "PS3",
          "X360",
          "PC",
          "3DS",
          "PS4",
          "PSV",
          "X360",
          "Wii",
          "XOne",
          "PS3",
          "X360",
          "3DS",
          "PS3",
          "Wii",
          "X360",
          "PS3",
          "X360",
          "PS3",
          "PC",
          "X360",
          "X360",
          "PC",
          "PC",
          "Wii",
          "PSP",
          "X360",
          "DS",
          "PS3",
          "Wii",
          "Wii",
          "X360",
          "DS",
          "X360",
          "PS3",
          "3DS",
          "PSV",
          "Wii",
          "X360",
          "PS3",
          "PS4",
          "Wii",
          "X360",
          "XOne",
          "Wii",
          "PS3",
          "Wii",
          "PS3",
          "PS3",
          "PS3",
          "PS4",
          "DS",
          "PC",
          "Wii",
          "DS",
          "X360",
          "WiiU",
          "Wii",
          "PS3",
          "DS",
          "PS3",
          "PS3",
          "WiiU",
          "PS4",
          "PS3",
          "X360",
          "PS3",
          "PC",
          "3DS",
          "PS4",
          "PS3",
          "PS3",
          "PC",
          "Wii",
          "PS3",
          "X360",
          "PS4",
          "PSP",
          "PSP",
          "PS3",
          "DS",
          "PS3",
          "X360",
          "X360",
          "X360",
          "X360",
          "PS3",
          "DS",
          "X360",
          "PS3",
          "DS",
          "X360",
          "DS",
          "PS3",
          "XOne",
          "Wii",
          "X360",
          "PS3",
          "PS3",
          "X360",
          "X360",
          "Wii",
          "PS3",
          "X360",
          "Wii",
          "PSP",
          "PS4",
          "PS3",
          "X360",
          "X360",
          "Wii",
          "Wii",
          "Wii",
          "PSV",
          "X360",
          "X360",
          "X360",
          "XOne",
          "PS3",
          "PS3",
          "Wii",
          "PS3",
          "PS3",
          "X360",
          "PC",
          "Wii",
          "PS3",
          "X360",
          "Wii",
          "X360",
          "PS3",
          "DS",
          "X360",
          "X360",
          "PS3",
          "PS3",
          "Wii",
          "PSP",
          "PS3",
          "PS3",
          "Wii",
          "X360",
          "Wii",
          "PS3",
          "PC",
          "WiiU",
          "PS4",
          "DS",
          "X360",
          "X360",
          "PC",
          "PC",
          "X360",
          "PS4",
          "Wii",
          "PS4",
          "Wii",
          "PSP",
          "X360",
          "Wii",
          "XOne",
          "PS3",
          "PC",
          "Wii",
          "X360",
          "PS4",
          "Wii",
          "PS3",
          "PS3",
          "Wii",
          "X360",
          "PSP",
          "X360",
          "DS",
          "PS3",
          "DS",
          "Wii",
          "Wii",
          "DS",
          "3DS",
          "DS",
          "XOne",
          "X360",
          "3DS",
          "X360",
          "Wii",
          "X360",
          "X360",
          "PS4",
          "PS2",
          "X360",
          "PS3",
          "PS3",
          "X360",
          "3DS",
          "PSP",
          "PS3",
          "Wii",
          "PC",
          "Wii",
          "WiiU",
          "PS3",
          "PS3",
          "DS",
          "PS3",
          "X360",
          "3DS",
          "PS3",
          "Wii",
          "Wii",
          "PS3",
          "PC",
          "PS3",
          "PC",
          "PS3",
          "PS3",
          "DS",
          "X360",
          "XOne",
          "X360",
          "DS",
          "PSP",
          "PS3",
          "WiiU",
          "X360",
          "PS4",
          "PS3",
          "PS3",
          "3DS",
          "XOne",
          "DS",
          "PS3",
          "PSP",
          "DS",
          "PS3",
          "PSV",
          "X360",
          "PS3",
          "3DS",
          "DS",
          "3DS",
          "X360",
          "DS",
          "PS3",
          "X360",
          "DS",
          "X360",
          "X360",
          "PC",
          "DS",
          "PC",
          "X360",
          "PS3",
          "XOne",
          "PS3",
          "X360",
          "X360",
          "X360",
          "3DS",
          "X360"
         ],
         "xaxis": "x",
         "y": [
          12.76,
          10.93,
          9.09,
          8.49,
          8.03,
          6.94,
          6.42,
          6.31,
          6.12,
          5.86,
          5.75,
          5.73,
          5.73,
          5.14,
          5.01,
          4.89,
          4.82,
          4.37,
          4.33,
          4.3,
          4.24,
          4.24,
          4.24,
          4.19,
          4.02,
          3.86,
          3.69,
          3.68,
          3.64,
          3.63,
          3.59,
          3.49,
          3.49,
          3.48,
          3.47,
          3.47,
          3.35,
          3.28,
          3.27,
          3.17,
          3.14,
          3.11,
          3.07,
          3.02,
          3,
          2.99,
          2.89,
          2.89,
          2.85,
          2.81,
          2.79,
          2.78,
          2.75,
          2.71,
          2.65,
          2.6,
          2.59,
          2.56,
          2.55,
          2.53,
          2.52,
          2.5,
          2.45,
          2.45,
          2.43,
          2.39,
          2.37,
          2.36,
          2.36,
          2.35,
          2.28,
          2.26,
          2.24,
          2.2,
          2.19,
          2.18,
          2.18,
          2.16,
          2.16,
          2.15,
          2.15,
          2.13,
          2.12,
          2.12,
          2.11,
          2.11,
          2.11,
          2.07,
          2.07,
          2.05,
          2.02,
          2.01,
          2,
          2,
          2,
          1.99,
          1.98,
          1.97,
          1.96,
          1.95,
          1.95,
          1.93,
          1.93,
          1.92,
          1.91,
          1.9,
          1.9,
          1.9,
          1.88,
          1.87,
          1.85,
          1.85,
          1.85,
          1.84,
          1.83,
          1.82,
          1.82,
          1.8,
          1.79,
          1.79,
          1.76,
          1.73,
          1.72,
          1.72,
          1.72,
          1.71,
          1.71,
          1.7,
          1.7,
          1.69,
          1.69,
          1.68,
          1.68,
          1.67,
          1.65,
          1.64,
          1.63,
          1.62,
          1.59,
          1.59,
          1.58,
          1.57,
          1.56,
          1.55,
          1.55,
          1.55,
          1.55,
          1.52,
          1.5,
          1.49,
          1.48,
          1.47,
          1.47,
          1.46,
          1.45,
          1.43,
          1.43,
          1.43,
          1.42,
          1.42,
          1.41,
          1.41,
          1.4,
          1.39,
          1.39,
          1.39,
          1.39,
          1.38,
          1.37,
          1.36,
          1.35,
          1.34,
          1.34,
          1.33,
          1.33,
          1.33,
          1.33,
          1.32,
          1.32,
          1.31,
          1.31,
          1.31,
          1.29,
          1.28,
          1.28,
          1.27,
          1.27,
          1.27,
          1.27,
          1.27,
          1.26,
          1.26,
          1.26,
          1.25,
          1.24,
          1.23,
          1.22,
          1.22,
          1.21,
          1.21,
          1.19,
          1.19,
          1.19,
          1.19,
          1.18,
          1.17,
          1.17,
          1.16,
          1.16,
          1.16,
          1.14,
          1.14,
          1.13,
          1.13,
          1.13,
          1.12,
          1.12,
          1.12,
          1.12,
          1.12,
          1.12,
          1.11,
          1.11,
          1.11,
          1.11,
          1.11,
          1.1,
          1.1,
          1.1,
          1.09,
          1.08,
          1.08,
          1.08,
          1.08,
          1.08,
          1.08,
          1.07,
          1.06,
          1.06,
          1.06,
          1.05,
          1.05,
          1.05,
          1.04,
          1.04,
          1.04,
          1.04,
          1.04,
          1.03,
          1.03,
          1.03,
          1.03,
          1.02,
          1.02,
          1.02,
          1.02,
          1.01,
          1.01,
          1.01,
          1.01,
          1.01,
          1.01,
          1.01,
          1.01,
          1,
          1,
          1,
          0.99,
          0.99,
          0.98,
          0.98,
          0.98,
          0.97,
          0.97,
          0.97,
          0.97,
          0.96,
          0.96,
          0.96,
          0.96,
          0.96,
          0.96,
          0.95,
          0.95,
          0.94,
          0.94,
          0.94,
          0.93,
          0.93,
          0.93,
          0.93,
          0.93,
          0.92,
          0.92,
          0.92,
          0.92,
          0.91,
          0.91,
          0.91,
          0.91,
          0.9,
          0.9,
          0.9,
          0.9,
          0.9,
          0.9,
          0.9,
          0.9,
          0.89,
          0.89,
          0.89,
          0.89,
          0.89,
          0.89,
          0.88,
          0.88,
          0.88,
          0.88,
          0.88,
          0.88,
          0.87,
          0.87,
          0.87,
          0.87,
          0.86,
          0.86,
          0.86,
          0.86,
          0.85,
          0.85,
          0.85,
          0.85,
          0.85,
          0.85,
          0.85,
          0.84,
          0.84,
          0.84,
          0.84,
          0.84,
          0.84,
          0.83,
          0.83,
          0.83,
          0.83,
          0.82,
          0.82,
          0.82,
          0.82,
          0.82,
          0.81,
          0.81,
          0.81,
          0.81,
          0.81,
          0.81,
          0.81,
          0.8,
          0.8,
          0.8,
          0.8,
          0.8,
          0.8,
          0.8,
          0.79,
          0.79,
          0.79,
          0.79,
          0.79,
          0.79,
          0.79,
          0.79,
          0.79,
          0.78,
          0.78,
          0.78,
          0.78,
          0.77,
          0.77,
          0.77,
          0.77,
          0.77,
          0.77,
          0.77,
          0.76,
          0.76,
          0.76,
          0.76,
          0.76,
          0.76,
          0.76,
          0.76,
          0.76,
          0.75,
          0.75,
          0.75,
          0.75,
          0.74,
          0.74,
          0.74,
          0.74,
          0.73,
          0.73,
          0.73,
          0.73,
          0.72,
          0.72,
          0.72,
          0.72,
          0.71,
          0.71,
          0.7,
          0.7,
          0.7,
          0.7,
          0.7,
          0.7,
          0.69,
          0.69,
          0.69,
          0.69,
          0.69,
          0.69,
          0.69,
          0.69,
          0.69,
          0.69,
          0.69,
          0.69,
          0.69,
          0.69,
          0.69,
          0.69,
          0.68,
          0.68,
          0.68,
          0.68,
          0.68,
          0.67,
          0.67,
          0.67,
          0.67,
          0.67,
          0.67,
          0.67,
          0.67,
          0.67,
          0.67,
          0.66,
          0.66,
          0.66,
          0.66,
          0.66,
          0.66,
          0.66,
          0.66,
          0.66,
          0.66,
          0.65,
          0.65,
          0.65,
          0.65,
          0.65,
          0.65,
          0.65,
          0.65,
          0.64,
          0.64,
          0.64,
          0.64,
          0.64,
          0.64,
          0.64,
          0.64,
          0.63,
          0.63,
          0.63,
          0.63,
          0.63,
          0.63,
          0.63,
          0.62,
          0.62,
          0.62,
          0.62,
          0.62,
          0.62,
          0.62,
          0.62,
          0.62,
          0.62,
          0.62,
          0.62,
          0.61,
          0.61,
          0.6,
          0.6,
          0.6,
          0.6,
          0.6,
          0.6,
          0.6,
          0.6,
          0.6,
          0.6,
          0.6,
          0.6,
          0.59,
          0.59,
          0.59,
          0.59,
          0.59,
          0.59,
          0.59,
          0.59,
          0.59,
          0.59,
          0.59,
          0.58,
          0.58,
          0.58,
          0.58,
          0.58,
          0.58,
          0.58,
          0.58,
          0.58,
          0.58,
          0.58,
          0.57,
          0.57,
          0.57,
          0.57,
          0.57,
          0.57,
          0.57,
          0.57,
          0.57,
          0.57,
          0.57,
          0.56,
          0.56,
          0.56,
          0.56,
          0.56,
          0.56,
          0.56,
          0.56,
          0.56,
          0.56,
          0.56,
          0.56,
          0.56,
          0.56,
          0.56,
          0.56,
          0.56,
          0.55,
          0.55,
          0.55,
          0.55,
          0.55,
          0.55,
          0.55,
          0.55,
          0.55,
          0.55,
          0.55,
          0.55,
          0.54,
          0.54,
          0.54,
          0.54,
          0.54,
          0.54,
          0.54,
          0.54,
          0.54,
          0.54,
          0.54,
          0.53,
          0.53,
          0.53,
          0.53,
          0.53,
          0.53,
          0.53,
          0.53,
          0.53,
          0.53,
          0.53,
          0.53,
          0.53,
          0.53,
          0.53,
          0.53,
          0.53,
          0.53,
          0.53,
          0.52,
          0.52,
          0.52,
          0.52,
          0.52,
          0.52,
          0.52,
          0.52,
          0.52,
          0.52,
          0.52,
          0.52,
          0.52,
          0.52,
          0.52,
          0.51,
          0.51,
          0.51,
          0.51,
          0.51,
          0.51,
          0.51,
          0.51,
          0.51,
          0.51,
          0.51,
          0.51,
          0.51,
          0.5,
          0.5,
          0.5,
          0.5,
          0.5,
          0.5,
          0.5,
          0.5,
          0.5,
          0.5,
          0.5,
          0.5,
          0.5,
          0.5,
          0.5,
          0.5,
          0.5,
          0.5,
          0.49,
          0.49,
          0.49,
          0.49,
          0.49,
          0.49,
          0.49,
          0.49,
          0.49,
          0.49,
          0.49,
          0.49,
          0.49,
          0.49,
          0.49,
          0.49,
          0.49,
          0.49,
          0.48,
          0.48,
          0.48,
          0.48,
          0.48,
          0.48,
          0.48,
          0.48,
          0.48,
          0.48,
          0.48,
          0.48,
          0.48,
          0.48,
          0.48,
          0.48,
          0.47,
          0.47,
          0.47,
          0.47,
          0.47,
          0.47,
          0.47,
          0.47,
          0.47,
          0.47,
          0.47,
          0.47,
          0.47,
          0.47,
          0.47,
          0.47,
          0.47,
          0.47,
          0.47,
          0.47,
          0.46,
          0.46,
          0.46,
          0.46,
          0.46,
          0.46,
          0.46,
          0.46,
          0.46,
          0.46,
          0.46,
          0.46,
          0.46,
          0.46,
          0.46,
          0.46,
          0.46,
          0.46,
          0.46,
          0.46,
          0.46,
          0.46,
          0.46,
          0.46,
          0.46,
          0.45,
          0.45,
          0.45,
          0.45,
          0.45,
          0.45,
          0.45,
          0.45,
          0.45,
          0.45,
          0.45,
          0.45,
          0.45,
          0.45,
          0.45,
          0.45,
          0.45,
          0.45,
          0.45,
          0.45,
          0.45,
          0.45,
          0.45,
          0.45,
          0.45,
          0.44,
          0.44,
          0.44,
          0.44,
          0.44,
          0.44,
          0.44,
          0.44,
          0.44,
          0.44,
          0.44,
          0.44,
          0.44,
          0.44,
          0.44,
          0.44,
          0.44,
          0.44,
          0.43,
          0.43,
          0.43,
          0.43,
          0.43,
          0.43,
          0.43,
          0.43,
          0.43,
          0.43,
          0.43,
          0.43,
          0.43,
          0.43,
          0.43,
          0.43,
          0.43,
          0.43,
          0.43,
          0.43,
          0.42,
          0.42,
          0.42,
          0.42,
          0.42,
          0.42,
          0.42,
          0.42,
          0.42,
          0.42,
          0.42,
          0.42,
          0.42,
          0.42,
          0.42,
          0.42,
          0.42,
          0.42,
          0.42,
          0.42,
          0.41,
          0.41,
          0.41,
          0.41,
          0.41,
          0.41,
          0.41,
          0.41,
          0.41,
          0.41,
          0.41,
          0.41,
          0.41,
          0.41,
          0.41,
          0.41,
          0.41,
          0.41,
          0.4,
          0.4,
          0.4,
          0.4,
          0.4,
          0.4,
          0.4,
          0.4,
          0.4,
          0.4,
          0.4,
          0.4,
          0.4,
          0.4,
          0.4,
          0.4,
          0.4,
          0.4,
          0.4,
          0.4,
          0.4,
          0.4,
          0.4,
          0.4,
          0.4,
          0.4,
          0.4,
          0.4,
          0.39,
          0.39,
          0.39,
          0.39,
          0.39,
          0.39,
          0.39,
          0.39,
          0.39,
          0.39,
          0.39,
          0.39,
          0.39,
          0.39,
          0.39,
          0.39,
          0.39,
          0.39,
          0.39,
          0.39,
          0.39,
          0.39,
          0.39,
          0.39,
          0.39,
          0.39,
          0.39,
          0.39,
          0.39,
          0.39,
          0.39,
          0.39,
          0.38,
          0.38,
          0.38,
          0.38,
          0.38,
          0.38,
          0.38,
          0.38,
          0.38,
          0.38,
          0.38,
          0.38,
          0.38,
          0.38,
          0.38,
          0.38,
          0.38,
          0.38,
          0.37,
          0.37,
          0.37,
          0.37,
          0.37,
          0.37,
          0.37,
          0.37,
          0.37,
          0.37,
          0.37,
          0.37,
          0.37,
          0.37,
          0.37,
          0.37,
          0.37,
          0.37,
          0.37,
          0.37,
          0.37,
          0.37,
          0.37,
          0.37,
          0.37,
          0.37,
          0.37,
          0.37,
          0.36,
          0.36,
          0.36,
          0.36,
          0.36,
          0.36,
          0.36,
          0.36,
          0.36,
          0.36,
          0.36,
          0.36,
          0.36,
          0.36,
          0.36,
          0.36,
          0.36,
          0.36,
          0.36,
          0.36,
          0.36,
          0.36,
          0.36,
          0.36,
          0.36,
          0.36,
          0.35,
          0.35,
          0.35,
          0.35,
          0.35,
          0.35,
          0.35,
          0.35,
          0.35,
          0.35,
          0.35,
          0.35,
          0.35,
          0.35,
          0.35,
          0.35,
          0.35,
          0.35,
          0.35,
          0.35,
          0.35,
          0.35,
          0.35,
          0.35,
          0.35,
          0.35,
          0.35,
          0.35,
          0.35,
          0.34,
          0.34,
          0.34,
          0.34,
          0.34,
          0.34,
          0.34,
          0.34,
          0.34,
          0.34,
          0.34,
          0.34,
          0.34,
          0.34
         ],
         "yaxis": "y"
        }
       ],
       "layout": {
        "barmode": "relative",
        "height": 600,
        "legend": {
         "tracegroupgap": 0
        },
        "margin": {
         "t": 60
        },
        "template": {
         "data": {
          "bar": [
           {
            "error_x": {
             "color": "#2a3f5f"
            },
            "error_y": {
             "color": "#2a3f5f"
            },
            "marker": {
             "line": {
              "color": "#E5ECF6",
              "width": 0.5
             }
            },
            "type": "bar"
           }
          ],
          "barpolar": [
           {
            "marker": {
             "line": {
              "color": "#E5ECF6",
              "width": 0.5
             }
            },
            "type": "barpolar"
           }
          ],
          "carpet": [
           {
            "aaxis": {
             "endlinecolor": "#2a3f5f",
             "gridcolor": "white",
             "linecolor": "white",
             "minorgridcolor": "white",
             "startlinecolor": "#2a3f5f"
            },
            "baxis": {
             "endlinecolor": "#2a3f5f",
             "gridcolor": "white",
             "linecolor": "white",
             "minorgridcolor": "white",
             "startlinecolor": "#2a3f5f"
            },
            "type": "carpet"
           }
          ],
          "choropleth": [
           {
            "colorbar": {
             "outlinewidth": 0,
             "ticks": ""
            },
            "type": "choropleth"
           }
          ],
          "contour": [
           {
            "colorbar": {
             "outlinewidth": 0,
             "ticks": ""
            },
            "colorscale": [
             [
              0,
              "#0d0887"
             ],
             [
              0.1111111111,
              "#46039f"
             ],
             [
              0.2222222222,
              "#7201a8"
             ],
             [
              0.3333333333,
              "#9c179e"
             ],
             [
              0.4444444444,
              "#bd3786"
             ],
             [
              0.5555555556,
              "#d8576b"
             ],
             [
              0.6666666667,
              "#ed7953"
             ],
             [
              0.7777777778,
              "#fb9f3a"
             ],
             [
              0.8888888889,
              "#fdca26"
             ],
             [
              1,
              "#f0f921"
             ]
            ],
            "type": "contour"
           }
          ],
          "contourcarpet": [
           {
            "colorbar": {
             "outlinewidth": 0,
             "ticks": ""
            },
            "type": "contourcarpet"
           }
          ],
          "heatmap": [
           {
            "colorbar": {
             "outlinewidth": 0,
             "ticks": ""
            },
            "colorscale": [
             [
              0,
              "#0d0887"
             ],
             [
              0.1111111111,
              "#46039f"
             ],
             [
              0.2222222222,
              "#7201a8"
             ],
             [
              0.3333333333,
              "#9c179e"
             ],
             [
              0.4444444444,
              "#bd3786"
             ],
             [
              0.5555555556,
              "#d8576b"
             ],
             [
              0.6666666667,
              "#ed7953"
             ],
             [
              0.7777777778,
              "#fb9f3a"
             ],
             [
              0.8888888889,
              "#fdca26"
             ],
             [
              1,
              "#f0f921"
             ]
            ],
            "type": "heatmap"
           }
          ],
          "heatmapgl": [
           {
            "colorbar": {
             "outlinewidth": 0,
             "ticks": ""
            },
            "colorscale": [
             [
              0,
              "#0d0887"
             ],
             [
              0.1111111111,
              "#46039f"
             ],
             [
              0.2222222222,
              "#7201a8"
             ],
             [
              0.3333333333,
              "#9c179e"
             ],
             [
              0.4444444444,
              "#bd3786"
             ],
             [
              0.5555555556,
              "#d8576b"
             ],
             [
              0.6666666667,
              "#ed7953"
             ],
             [
              0.7777777778,
              "#fb9f3a"
             ],
             [
              0.8888888889,
              "#fdca26"
             ],
             [
              1,
              "#f0f921"
             ]
            ],
            "type": "heatmapgl"
           }
          ],
          "histogram": [
           {
            "marker": {
             "colorbar": {
              "outlinewidth": 0,
              "ticks": ""
             }
            },
            "type": "histogram"
           }
          ],
          "histogram2d": [
           {
            "colorbar": {
             "outlinewidth": 0,
             "ticks": ""
            },
            "colorscale": [
             [
              0,
              "#0d0887"
             ],
             [
              0.1111111111,
              "#46039f"
             ],
             [
              0.2222222222,
              "#7201a8"
             ],
             [
              0.3333333333,
              "#9c179e"
             ],
             [
              0.4444444444,
              "#bd3786"
             ],
             [
              0.5555555556,
              "#d8576b"
             ],
             [
              0.6666666667,
              "#ed7953"
             ],
             [
              0.7777777778,
              "#fb9f3a"
             ],
             [
              0.8888888889,
              "#fdca26"
             ],
             [
              1,
              "#f0f921"
             ]
            ],
            "type": "histogram2d"
           }
          ],
          "histogram2dcontour": [
           {
            "colorbar": {
             "outlinewidth": 0,
             "ticks": ""
            },
            "colorscale": [
             [
              0,
              "#0d0887"
             ],
             [
              0.1111111111,
              "#46039f"
             ],
             [
              0.2222222222,
              "#7201a8"
             ],
             [
              0.3333333333,
              "#9c179e"
             ],
             [
              0.4444444444,
              "#bd3786"
             ],
             [
              0.5555555556,
              "#d8576b"
             ],
             [
              0.6666666667,
              "#ed7953"
             ],
             [
              0.7777777778,
              "#fb9f3a"
             ],
             [
              0.8888888889,
              "#fdca26"
             ],
             [
              1,
              "#f0f921"
             ]
            ],
            "type": "histogram2dcontour"
           }
          ],
          "mesh3d": [
           {
            "colorbar": {
             "outlinewidth": 0,
             "ticks": ""
            },
            "type": "mesh3d"
           }
          ],
          "parcoords": [
           {
            "line": {
             "colorbar": {
              "outlinewidth": 0,
              "ticks": ""
             }
            },
            "type": "parcoords"
           }
          ],
          "scatter": [
           {
            "marker": {
             "colorbar": {
              "outlinewidth": 0,
              "ticks": ""
             }
            },
            "type": "scatter"
           }
          ],
          "scatter3d": [
           {
            "line": {
             "colorbar": {
              "outlinewidth": 0,
              "ticks": ""
             }
            },
            "marker": {
             "colorbar": {
              "outlinewidth": 0,
              "ticks": ""
             }
            },
            "type": "scatter3d"
           }
          ],
          "scattercarpet": [
           {
            "marker": {
             "colorbar": {
              "outlinewidth": 0,
              "ticks": ""
             }
            },
            "type": "scattercarpet"
           }
          ],
          "scattergeo": [
           {
            "marker": {
             "colorbar": {
              "outlinewidth": 0,
              "ticks": ""
             }
            },
            "type": "scattergeo"
           }
          ],
          "scattergl": [
           {
            "marker": {
             "colorbar": {
              "outlinewidth": 0,
              "ticks": ""
             }
            },
            "type": "scattergl"
           }
          ],
          "scattermapbox": [
           {
            "marker": {
             "colorbar": {
              "outlinewidth": 0,
              "ticks": ""
             }
            },
            "type": "scattermapbox"
           }
          ],
          "scatterpolar": [
           {
            "marker": {
             "colorbar": {
              "outlinewidth": 0,
              "ticks": ""
             }
            },
            "type": "scatterpolar"
           }
          ],
          "scatterpolargl": [
           {
            "marker": {
             "colorbar": {
              "outlinewidth": 0,
              "ticks": ""
             }
            },
            "type": "scatterpolargl"
           }
          ],
          "scatterternary": [
           {
            "marker": {
             "colorbar": {
              "outlinewidth": 0,
              "ticks": ""
             }
            },
            "type": "scatterternary"
           }
          ],
          "surface": [
           {
            "colorbar": {
             "outlinewidth": 0,
             "ticks": ""
            },
            "colorscale": [
             [
              0,
              "#0d0887"
             ],
             [
              0.1111111111,
              "#46039f"
             ],
             [
              0.2222222222,
              "#7201a8"
             ],
             [
              0.3333333333,
              "#9c179e"
             ],
             [
              0.4444444444,
              "#bd3786"
             ],
             [
              0.5555555556,
              "#d8576b"
             ],
             [
              0.6666666667,
              "#ed7953"
             ],
             [
              0.7777777778,
              "#fb9f3a"
             ],
             [
              0.8888888889,
              "#fdca26"
             ],
             [
              1,
              "#f0f921"
             ]
            ],
            "type": "surface"
           }
          ],
          "table": [
           {
            "cells": {
             "fill": {
              "color": "#EBF0F8"
             },
             "line": {
              "color": "white"
             }
            },
            "header": {
             "fill": {
              "color": "#C8D4E3"
             },
             "line": {
              "color": "white"
             }
            },
            "type": "table"
           }
          ]
         },
         "layout": {
          "annotationdefaults": {
           "arrowcolor": "#2a3f5f",
           "arrowhead": 0,
           "arrowwidth": 1
          },
          "colorscale": {
           "diverging": [
            [
             0,
             "#8e0152"
            ],
            [
             0.1,
             "#c51b7d"
            ],
            [
             0.2,
             "#de77ae"
            ],
            [
             0.3,
             "#f1b6da"
            ],
            [
             0.4,
             "#fde0ef"
            ],
            [
             0.5,
             "#f7f7f7"
            ],
            [
             0.6,
             "#e6f5d0"
            ],
            [
             0.7,
             "#b8e186"
            ],
            [
             0.8,
             "#7fbc41"
            ],
            [
             0.9,
             "#4d9221"
            ],
            [
             1,
             "#276419"
            ]
           ],
           "sequential": [
            [
             0,
             "#0d0887"
            ],
            [
             0.1111111111,
             "#46039f"
            ],
            [
             0.2222222222,
             "#7201a8"
            ],
            [
             0.3333333333,
             "#9c179e"
            ],
            [
             0.4444444444,
             "#bd3786"
            ],
            [
             0.5555555556,
             "#d8576b"
            ],
            [
             0.6666666667,
             "#ed7953"
            ],
            [
             0.7777777778,
             "#fb9f3a"
            ],
            [
             0.8888888889,
             "#fdca26"
            ],
            [
             1,
             "#f0f921"
            ]
           ],
           "sequentialminus": [
            [
             0,
             "#0d0887"
            ],
            [
             0.1111111111,
             "#46039f"
            ],
            [
             0.2222222222,
             "#7201a8"
            ],
            [
             0.3333333333,
             "#9c179e"
            ],
            [
             0.4444444444,
             "#bd3786"
            ],
            [
             0.5555555556,
             "#d8576b"
            ],
            [
             0.6666666667,
             "#ed7953"
            ],
            [
             0.7777777778,
             "#fb9f3a"
            ],
            [
             0.8888888889,
             "#fdca26"
            ],
            [
             1,
             "#f0f921"
            ]
           ]
          },
          "colorway": [
           "#636efa",
           "#EF553B",
           "#00cc96",
           "#ab63fa",
           "#FFA15A",
           "#19d3f3",
           "#FF6692",
           "#B6E880",
           "#FF97FF",
           "#FECB52"
          ],
          "font": {
           "color": "#2a3f5f"
          },
          "geo": {
           "bgcolor": "white",
           "lakecolor": "white",
           "landcolor": "#E5ECF6",
           "showlakes": true,
           "showland": true,
           "subunitcolor": "white"
          },
          "hoverlabel": {
           "align": "left"
          },
          "hovermode": "closest",
          "mapbox": {
           "style": "light"
          },
          "paper_bgcolor": "white",
          "plot_bgcolor": "#E5ECF6",
          "polar": {
           "angularaxis": {
            "gridcolor": "white",
            "linecolor": "white",
            "ticks": ""
           },
           "bgcolor": "#E5ECF6",
           "radialaxis": {
            "gridcolor": "white",
            "linecolor": "white",
            "ticks": ""
           }
          },
          "scene": {
           "xaxis": {
            "backgroundcolor": "#E5ECF6",
            "gridcolor": "white",
            "gridwidth": 2,
            "linecolor": "white",
            "showbackground": true,
            "ticks": "",
            "zerolinecolor": "white"
           },
           "yaxis": {
            "backgroundcolor": "#E5ECF6",
            "gridcolor": "white",
            "gridwidth": 2,
            "linecolor": "white",
            "showbackground": true,
            "ticks": "",
            "zerolinecolor": "white"
           },
           "zaxis": {
            "backgroundcolor": "#E5ECF6",
            "gridcolor": "white",
            "gridwidth": 2,
            "linecolor": "white",
            "showbackground": true,
            "ticks": "",
            "zerolinecolor": "white"
           }
          },
          "shapedefaults": {
           "line": {
            "color": "#2a3f5f"
           }
          },
          "ternary": {
           "aaxis": {
            "gridcolor": "white",
            "linecolor": "white",
            "ticks": ""
           },
           "baxis": {
            "gridcolor": "white",
            "linecolor": "white",
            "ticks": ""
           },
           "bgcolor": "#E5ECF6",
           "caxis": {
            "gridcolor": "white",
            "linecolor": "white",
            "ticks": ""
           }
          },
          "title": {
           "x": 0.05
          },
          "xaxis": {
           "automargin": true,
           "gridcolor": "white",
           "linecolor": "white",
           "ticks": "",
           "zerolinecolor": "white",
           "zerolinewidth": 2
          },
          "yaxis": {
           "automargin": true,
           "gridcolor": "white",
           "linecolor": "white",
           "ticks": "",
           "zerolinecolor": "white",
           "zerolinewidth": 2
          }
         }
        },
        "xaxis": {
         "anchor": "y",
         "domain": [
          0,
          0.98
         ],
         "title": {
          "text": "platform"
         }
        },
        "yaxis": {
         "anchor": "x",
         "domain": [
          0,
          1
         ],
         "title": {
          "text": "eu_sales"
         }
        }
       }
      },
      "text/html": [
       "<div>\n",
       "        \n",
       "        \n",
       "            <div id=\"828b38b2-5766-45d2-8fcd-d40512ab0e26\" class=\"plotly-graph-div\" style=\"height:600px; width:100%;\"></div>\n",
       "            <script type=\"text/javascript\">\n",
       "                require([\"plotly\"], function(Plotly) {\n",
       "                    window.PLOTLYENV=window.PLOTLYENV || {};\n",
       "                    \n",
       "                if (document.getElementById(\"828b38b2-5766-45d2-8fcd-d40512ab0e26\")) {\n",
       "                    Plotly.newPlot(\n",
       "                        '828b38b2-5766-45d2-8fcd-d40512ab0e26',\n",
       "                        [{\"alignmentgroup\": \"True\", \"hoverlabel\": {\"namelength\": 0}, \"hovertemplate\": \"platform=%{x}<br>eu_sales=%{y}\", \"legendgroup\": \"\", \"marker\": {\"color\": \"#636efa\"}, \"name\": \"\", \"offsetgroup\": \"\", \"orientation\": \"v\", \"showlegend\": false, \"textposition\": \"auto\", \"type\": \"bar\", \"x\": [\"Wii\", \"Wii\", \"PS3\", \"Wii\", \"Wii\", \"Wii\", \"PC\", \"PS4\", \"PS4\", \"PS4\", \"PS4\", \"PS3\", \"PS3\", \"X360\", \"PS3\", \"X360\", \"PS3\", \"PS3\", \"PS4\", \"PS3\", \"X360\", \"PS3\", \"X360\", \"3DS\", \"3DS\", \"Wii\", \"PS3\", \"X360\", \"PS3\", \"PS3\", \"X360\", \"PS4\", \"3DS\", \"PS4\", \"X360\", \"Wii\", \"Wii\", \"PS3\", \"PS4\", \"DS\", \"3DS\", \"Wii\", \"X360\", \"PS3\", \"3DS\", \"Wii\", \"PS3\", \"X360\", \"Wii\", \"X360\", \"X360\", \"X360\", \"PS3\", \"DS\", \"X360\", \"PS3\", \"Wii\", \"X360\", \"Wii\", \"PS3\", \"PS3\", \"PS4\", \"PS3\", \"DS\", \"DS\", \"X360\", \"PS3\", \"3DS\", \"X360\", \"Wii\", \"X360\", \"PS3\", \"Wii\", \"PS3\", \"XOne\", \"PS3\", \"PS4\", \"Wii\", \"PC\", \"PS4\", \"WiiU\", \"PS4\", \"XOne\", \"PC\", \"X360\", \"XOne\", \"3DS\", \"PS4\", \"PS4\", \"XOne\", \"PS4\", \"PS3\", \"PS3\", \"PS4\", \"PS4\", \"PS4\", \"PS3\", \"X360\", \"Wii\", \"X360\", \"X360\", \"PS3\", \"PS3\", \"X360\", \"Wii\", \"X360\", \"X360\", \"PS4\", \"X360\", \"Wii\", \"DS\", \"PS4\", \"PS3\", \"PS3\", \"PS3\", \"PC\", \"PS3\", \"DS\", \"X360\", \"Wii\", \"DS\", \"X360\", \"DS\", \"DS\", \"PS3\", \"PS4\", \"PS3\", \"PS4\", \"PS3\", \"PS4\", \"X360\", \"PC\", \"PS3\", \"PS3\", \"DS\", \"X360\", \"PS3\", \"DS\", \"X360\", \"DS\", \"PSP\", \"DS\", \"DS\", \"X360\", \"XOne\", \"Wii\", \"PS4\", \"PC\", \"PS4\", \"DS\", \"DS\", \"Wii\", \"X360\", \"PS3\", \"3DS\", \"PS4\", \"PC\", \"PS4\", \"PS3\", \"XOne\", \"PS3\", \"3DS\", \"PS3\", \"Wii\", \"PSP\", \"3DS\", \"DS\", \"PS4\", \"3DS\", \"PS4\", \"Wii\", \"X360\", \"WiiU\", \"Wii\", \"PS4\", \"PS3\", \"PS3\", \"X360\", \"XOne\", \"3DS\", \"PS3\", \"PS4\", \"PS3\", \"XOne\", \"X360\", \"X360\", \"PS3\", \"X360\", \"XOne\", \"DS\", \"PS3\", \"DS\", \"X360\", \"PS4\", \"X360\", \"PS3\", \"X360\", \"PSP\", \"PS3\", \"PS3\", \"DS\", \"PS4\", \"DS\", \"Wii\", \"WiiU\", \"Wii\", \"PS3\", \"Wii\", \"WiiU\", \"PC\", \"PC\", \"X360\", \"PC\", \"PS3\", \"Wii\", \"DS\", \"PS3\", \"PC\", \"PC\", \"Wii\", \"Wii\", \"WiiU\", \"Wii\", \"X360\", \"Wii\", \"X360\", \"PS3\", \"PS3\", \"PS3\", \"Wii\", \"WiiU\", \"PS2\", \"PS4\", \"X360\", \"Wii\", \"PS4\", \"PC\", \"PC\", \"PS3\", \"PS3\", \"PS3\", \"PS3\", \"Wii\", \"PC\", \"PS3\", \"PS3\", \"PS3\", \"PS3\", \"PS3\", \"Wii\", \"PS4\", \"X360\", \"3DS\", \"Wii\", \"X360\", \"PSP\", \"X360\", \"DS\", \"DS\", \"X360\", \"X360\", \"3DS\", \"PC\", \"PC\", \"XOne\", \"PSP\", \"PS3\", \"DS\", \"X360\", \"PC\", \"PS4\", \"PS4\", \"PS3\", \"DS\", \"3DS\", \"PC\", \"PS3\", \"X360\", \"X360\", \"PS3\", \"Wii\", \"DS\", \"X360\", \"PC\", \"DS\", \"PS3\", \"PS4\", \"PS4\", \"Wii\", \"X360\", \"X360\", \"X360\", \"XOne\", \"X360\", \"PS3\", \"PS4\", \"DS\", \"DS\", \"X360\", \"PS3\", \"PS3\", \"Wii\", \"PS4\", \"XOne\", \"XOne\", \"DS\", \"X360\", \"XOne\", \"PS3\", \"DS\", \"PS3\", \"WiiU\", \"PS3\", \"X360\", \"PC\", \"PS3\", \"PS4\", \"X360\", \"X360\", \"X360\", \"PS3\", \"X360\", \"PC\", \"PC\", \"PS4\", \"X360\", \"PS3\", \"Wii\", \"PS3\", \"PS2\", \"PS4\", \"Wii\", \"PS3\", \"Wii\", \"X360\", \"X360\", \"Wii\", \"X360\", \"X360\", \"PS3\", \"X360\", \"Wii\", \"X360\", \"PC\", \"Wii\", \"DS\", \"Wii\", \"DS\", \"DS\", \"DS\", \"X360\", \"X360\", \"PS4\", \"PC\", \"X360\", \"PS3\", \"DS\", \"XOne\", \"PS4\", \"X360\", \"PS3\", \"X360\", \"PS4\", \"PS3\", \"PS4\", \"X360\", \"XOne\", \"X360\", \"PC\", \"X360\", \"PS4\", \"PC\", \"X360\", \"DS\", \"X360\", \"PS4\", \"XOne\", \"3DS\", \"DS\", \"Wii\", \"PC\", \"XOne\", \"X360\", \"XOne\", \"PS4\", \"PSP\", \"PS4\", \"X360\", \"X360\", \"PC\", \"PS3\", \"PS4\", \"DS\", \"PS3\", \"PS3\", \"Wii\", \"Wii\", \"Wii\", \"Wii\", \"XOne\", \"PS3\", \"PSP\", \"PS3\", \"DS\", \"PS3\", \"PS3\", \"PS3\", \"Wii\", \"X360\", \"X360\", \"DS\", \"X360\", \"Wii\", \"PS4\", \"XOne\", \"X360\", \"X360\", \"PS3\", \"PC\", \"Wii\", \"PC\", \"PC\", \"PS3\", \"X360\", \"PS3\", \"PS4\", \"XOne\", \"PS3\", \"X360\", \"PSP\", \"PS3\", \"Wii\", \"Wii\", \"PS4\", \"XOne\", \"PS3\", \"Wii\", \"PS3\", \"Wii\", \"PC\", \"Wii\", \"Wii\", \"Wii\", \"X360\", \"DS\", \"PSP\", \"PS4\", \"PSP\", \"PSV\", \"Wii\", \"PS2\", \"PS3\", \"3DS\", \"PC\", \"PS4\", \"Wii\", \"XOne\", \"PS3\", \"PS3\", \"PS3\", \"PS4\", \"DS\", \"Wii\", \"Wii\", \"DS\", \"Wii\", \"PS3\", \"PC\", \"Wii\", \"PS4\", \"3DS\", \"3DS\", \"Wii\", \"PSV\", \"Wii\", \"PS3\", \"PS3\", \"X360\", \"Wii\", \"DS\", \"PS3\", \"Wii\", \"PC\", \"Wii\", \"PS3\", \"WiiU\", \"X360\", \"X360\", \"X360\", \"DS\", \"Wii\", \"PS3\", \"3DS\", \"X360\", \"PSV\", \"PS3\", \"PS3\", \"X360\", \"X360\", \"X360\", \"PS3\", \"PC\", \"PS4\", \"Wii\", \"Wii\", \"WiiU\", \"PS3\", \"PS2\", \"DS\", \"DS\", \"X360\", \"DS\", \"PC\", \"Wii\", \"PS4\", \"PS3\", \"PSP\", \"PS4\", \"PS3\", \"Wii\", \"PS4\", \"PS3\", \"X360\", \"PS3\", \"XOne\", \"3DS\", \"PC\", \"PS3\", \"XOne\", \"DS\", \"X360\", \"DS\", \"PS3\", \"PSP\", \"PS4\", \"PS3\", \"Wii\", \"PS4\", \"X360\", \"PS3\", \"PS3\", \"PS3\", \"PS3\", \"PS3\", \"X360\", \"Wii\", \"WiiU\", \"Wii\", \"XOne\", \"PC\", \"X360\", \"PS3\", \"PS3\", \"DS\", \"DS\", \"Wii\", \"PS3\", \"PS3\", \"PS3\", \"PS3\", \"PS3\", \"XOne\", \"PS3\", \"Wii\", \"WiiU\", \"3DS\", \"PSP\", \"X360\", \"X360\", \"PC\", \"Wii\", \"Wii\", \"X360\", \"DS\", \"PS3\", \"Wii\", \"PS4\", \"X360\", \"PS3\", \"PSP\", \"X360\", \"PS3\", \"3DS\", \"PS3\", \"PC\", \"PC\", \"PSP\", \"PS3\", \"X360\", \"DS\", \"X360\", \"PS4\", \"PS3\", \"PC\", \"PC\", \"PS3\", \"XOne\", \"PC\", \"WiiU\", \"PS3\", \"Wii\", \"X360\", \"X360\", \"PS3\", \"PS3\", \"PS4\", \"PC\", \"DS\", \"PS3\", \"X360\", \"Wii\", \"PS3\", \"Wii\", \"DS\", \"Wii\", \"DS\", \"PS3\", \"X360\", \"DS\", \"X360\", \"DS\", \"Wii\", \"DS\", \"X360\", \"PC\", \"PS3\", \"PS3\", \"PS2\", \"XOne\", \"Wii\", \"PSP\", \"Wii\", \"X360\", \"PSP\", \"X360\", \"PS3\", \"DS\", \"X360\", \"X360\", \"X360\", \"X360\", \"XOne\", \"PS3\", \"DS\", \"PS3\", \"PS3\", \"PS3\", \"PSP\", \"PS3\", \"PS3\", \"X360\", \"Wii\", \"Wii\", \"PS3\", \"DS\", \"X360\", \"PS3\", \"DS\", \"X360\", \"PS4\", \"Wii\", \"PS3\", \"X360\", \"PS3\", \"DS\", \"PSV\", \"DS\", \"PC\", \"PS3\", \"PSP\", \"PS3\", \"3DS\", \"DS\", \"X360\", \"Wii\", \"Wii\", \"3DS\", \"PS3\", \"PC\", \"Wii\", \"Wii\", \"X360\", \"Wii\", \"PSP\", \"DS\", \"GBA\", \"PSP\", \"XOne\", \"PS3\", \"X360\", \"PS3\", \"PS4\", \"PS3\", \"DS\", \"3DS\", \"X360\", \"PSP\", \"WiiU\", \"DS\", \"PC\", \"Wii\", \"PS3\", \"PC\", \"PS3\", \"PSP\", \"Wii\", \"DS\", \"Wii\", \"X360\", \"PS3\", \"X360\", \"DS\", \"PS3\", \"PS3\", \"PSP\", \"Wii\", \"Wii\", \"PS3\", \"PS3\", \"Wii\", \"PS3\", \"PS3\", \"X360\", \"Wii\", \"3DS\", \"Wii\", \"PC\", \"PS4\", \"Wii\", \"PS4\", \"PS3\", \"PC\", \"X360\", \"PS4\", \"PC\", \"PS3\", \"PC\", \"PS3\", \"XOne\", \"X360\", \"PC\", \"PS3\", \"X360\", \"PC\", \"3DS\", \"PS4\", \"PSV\", \"X360\", \"Wii\", \"XOne\", \"PS3\", \"X360\", \"3DS\", \"PS3\", \"Wii\", \"X360\", \"PS3\", \"X360\", \"PS3\", \"PC\", \"X360\", \"X360\", \"PC\", \"PC\", \"Wii\", \"PSP\", \"X360\", \"DS\", \"PS3\", \"Wii\", \"Wii\", \"X360\", \"DS\", \"X360\", \"PS3\", \"3DS\", \"PSV\", \"Wii\", \"X360\", \"PS3\", \"PS4\", \"Wii\", \"X360\", \"XOne\", \"Wii\", \"PS3\", \"Wii\", \"PS3\", \"PS3\", \"PS3\", \"PS4\", \"DS\", \"PC\", \"Wii\", \"DS\", \"X360\", \"WiiU\", \"Wii\", \"PS3\", \"DS\", \"PS3\", \"PS3\", \"WiiU\", \"PS4\", \"PS3\", \"X360\", \"PS3\", \"PC\", \"3DS\", \"PS4\", \"PS3\", \"PS3\", \"PC\", \"Wii\", \"PS3\", \"X360\", \"PS4\", \"PSP\", \"PSP\", \"PS3\", \"DS\", \"PS3\", \"X360\", \"X360\", \"X360\", \"X360\", \"PS3\", \"DS\", \"X360\", \"PS3\", \"DS\", \"X360\", \"DS\", \"PS3\", \"XOne\", \"Wii\", \"X360\", \"PS3\", \"PS3\", \"X360\", \"X360\", \"Wii\", \"PS3\", \"X360\", \"Wii\", \"PSP\", \"PS4\", \"PS3\", \"X360\", \"X360\", \"Wii\", \"Wii\", \"Wii\", \"PSV\", \"X360\", \"X360\", \"X360\", \"XOne\", \"PS3\", \"PS3\", \"Wii\", \"PS3\", \"PS3\", \"X360\", \"PC\", \"Wii\", \"PS3\", \"X360\", \"Wii\", \"X360\", \"PS3\", \"DS\", \"X360\", \"X360\", \"PS3\", \"PS3\", \"Wii\", \"PSP\", \"PS3\", \"PS3\", \"Wii\", \"X360\", \"Wii\", \"PS3\", \"PC\", \"WiiU\", \"PS4\", \"DS\", \"X360\", \"X360\", \"PC\", \"PC\", \"X360\", \"PS4\", \"Wii\", \"PS4\", \"Wii\", \"PSP\", \"X360\", \"Wii\", \"XOne\", \"PS3\", \"PC\", \"Wii\", \"X360\", \"PS4\", \"Wii\", \"PS3\", \"PS3\", \"Wii\", \"X360\", \"PSP\", \"X360\", \"DS\", \"PS3\", \"DS\", \"Wii\", \"Wii\", \"DS\", \"3DS\", \"DS\", \"XOne\", \"X360\", \"3DS\", \"X360\", \"Wii\", \"X360\", \"X360\", \"PS4\", \"PS2\", \"X360\", \"PS3\", \"PS3\", \"X360\", \"3DS\", \"PSP\", \"PS3\", \"Wii\", \"PC\", \"Wii\", \"WiiU\", \"PS3\", \"PS3\", \"DS\", \"PS3\", \"X360\", \"3DS\", \"PS3\", \"Wii\", \"Wii\", \"PS3\", \"PC\", \"PS3\", \"PC\", \"PS3\", \"PS3\", \"DS\", \"X360\", \"XOne\", \"X360\", \"DS\", \"PSP\", \"PS3\", \"WiiU\", \"X360\", \"PS4\", \"PS3\", \"PS3\", \"3DS\", \"XOne\", \"DS\", \"PS3\", \"PSP\", \"DS\", \"PS3\", \"PSV\", \"X360\", \"PS3\", \"3DS\", \"DS\", \"3DS\", \"X360\", \"DS\", \"PS3\", \"X360\", \"DS\", \"X360\", \"X360\", \"PC\", \"DS\", \"PC\", \"X360\", \"PS3\", \"XOne\", \"PS3\", \"X360\", \"X360\", \"X360\", \"3DS\", \"X360\"], \"xaxis\": \"x\", \"y\": [12.76, 10.93, 9.09, 8.49, 8.03, 6.94, 6.42, 6.31, 6.12, 5.86, 5.75, 5.73, 5.73, 5.14, 5.01, 4.89, 4.82, 4.37, 4.33, 4.3, 4.24, 4.24, 4.24, 4.19, 4.02, 3.86, 3.69, 3.68, 3.64, 3.63, 3.59, 3.49, 3.49, 3.48, 3.47, 3.47, 3.35, 3.28, 3.27, 3.17, 3.14, 3.11, 3.07, 3.02, 3.0, 2.99, 2.89, 2.89, 2.85, 2.81, 2.79, 2.78, 2.75, 2.71, 2.65, 2.6, 2.59, 2.56, 2.55, 2.53, 2.52, 2.5, 2.45, 2.45, 2.43, 2.39, 2.37, 2.36, 2.36, 2.35, 2.28, 2.26, 2.24, 2.2, 2.19, 2.18, 2.18, 2.16, 2.16, 2.15, 2.15, 2.13, 2.12, 2.12, 2.11, 2.11, 2.11, 2.07, 2.07, 2.05, 2.02, 2.01, 2.0, 2.0, 2.0, 1.99, 1.98, 1.97, 1.96, 1.95, 1.95, 1.93, 1.93, 1.92, 1.91, 1.9, 1.9, 1.9, 1.88, 1.87, 1.85, 1.85, 1.85, 1.84, 1.83, 1.82, 1.82, 1.8, 1.79, 1.79, 1.76, 1.73, 1.72, 1.72, 1.72, 1.71, 1.71, 1.7, 1.7, 1.69, 1.69, 1.68, 1.68, 1.67, 1.65, 1.64, 1.63, 1.62, 1.59, 1.59, 1.58, 1.57, 1.56, 1.55, 1.55, 1.55, 1.55, 1.52, 1.5, 1.49, 1.48, 1.47, 1.47, 1.46, 1.45, 1.43, 1.43, 1.43, 1.42, 1.42, 1.41, 1.41, 1.4, 1.39, 1.39, 1.39, 1.39, 1.38, 1.37, 1.36, 1.35, 1.34, 1.34, 1.33, 1.33, 1.33, 1.33, 1.32, 1.32, 1.31, 1.31, 1.31, 1.29, 1.28, 1.28, 1.27, 1.27, 1.27, 1.27, 1.27, 1.26, 1.26, 1.26, 1.25, 1.24, 1.23, 1.22, 1.22, 1.21, 1.21, 1.19, 1.19, 1.19, 1.19, 1.18, 1.17, 1.17, 1.16, 1.16, 1.16, 1.14, 1.14, 1.13, 1.13, 1.13, 1.12, 1.12, 1.12, 1.12, 1.12, 1.12, 1.11, 1.11, 1.11, 1.11, 1.11, 1.1, 1.1, 1.1, 1.09, 1.08, 1.08, 1.08, 1.08, 1.08, 1.08, 1.07, 1.06, 1.06, 1.06, 1.05, 1.05, 1.05, 1.04, 1.04, 1.04, 1.04, 1.04, 1.03, 1.03, 1.03, 1.03, 1.02, 1.02, 1.02, 1.02, 1.01, 1.01, 1.01, 1.01, 1.01, 1.01, 1.01, 1.01, 1.0, 1.0, 1.0, 0.99, 0.99, 0.98, 0.98, 0.98, 0.97, 0.97, 0.97, 0.97, 0.96, 0.96, 0.96, 0.96, 0.96, 0.96, 0.95, 0.95, 0.94, 0.94, 0.94, 0.93, 0.93, 0.93, 0.93, 0.93, 0.92, 0.92, 0.92, 0.92, 0.91, 0.91, 0.91, 0.91, 0.9, 0.9, 0.9, 0.9, 0.9, 0.9, 0.9, 0.9, 0.89, 0.89, 0.89, 0.89, 0.89, 0.89, 0.88, 0.88, 0.88, 0.88, 0.88, 0.88, 0.87, 0.87, 0.87, 0.87, 0.86, 0.86, 0.86, 0.86, 0.85, 0.85, 0.85, 0.85, 0.85, 0.85, 0.85, 0.84, 0.84, 0.84, 0.84, 0.84, 0.84, 0.83, 0.83, 0.83, 0.83, 0.82, 0.82, 0.82, 0.82, 0.82, 0.81, 0.81, 0.81, 0.81, 0.81, 0.81, 0.81, 0.8, 0.8, 0.8, 0.8, 0.8, 0.8, 0.8, 0.79, 0.79, 0.79, 0.79, 0.79, 0.79, 0.79, 0.79, 0.79, 0.78, 0.78, 0.78, 0.78, 0.77, 0.77, 0.77, 0.77, 0.77, 0.77, 0.77, 0.76, 0.76, 0.76, 0.76, 0.76, 0.76, 0.76, 0.76, 0.76, 0.75, 0.75, 0.75, 0.75, 0.74, 0.74, 0.74, 0.74, 0.73, 0.73, 0.73, 0.73, 0.72, 0.72, 0.72, 0.72, 0.71, 0.71, 0.7, 0.7, 0.7, 0.7, 0.7, 0.7, 0.69, 0.69, 0.69, 0.69, 0.69, 0.69, 0.69, 0.69, 0.69, 0.69, 0.69, 0.69, 0.69, 0.69, 0.69, 0.69, 0.68, 0.68, 0.68, 0.68, 0.68, 0.67, 0.67, 0.67, 0.67, 0.67, 0.67, 0.67, 0.67, 0.67, 0.67, 0.66, 0.66, 0.66, 0.66, 0.66, 0.66, 0.66, 0.66, 0.66, 0.66, 0.65, 0.65, 0.65, 0.65, 0.65, 0.65, 0.65, 0.65, 0.64, 0.64, 0.64, 0.64, 0.64, 0.64, 0.64, 0.64, 0.63, 0.63, 0.63, 0.63, 0.63, 0.63, 0.63, 0.62, 0.62, 0.62, 0.62, 0.62, 0.62, 0.62, 0.62, 0.62, 0.62, 0.62, 0.62, 0.61, 0.61, 0.6, 0.6, 0.6, 0.6, 0.6, 0.6, 0.6, 0.6, 0.6, 0.6, 0.6, 0.6, 0.59, 0.59, 0.59, 0.59, 0.59, 0.59, 0.59, 0.59, 0.59, 0.59, 0.59, 0.58, 0.58, 0.58, 0.58, 0.58, 0.58, 0.58, 0.58, 0.58, 0.58, 0.58, 0.57, 0.57, 0.57, 0.57, 0.57, 0.57, 0.57, 0.57, 0.57, 0.57, 0.57, 0.56, 0.56, 0.56, 0.56, 0.56, 0.56, 0.56, 0.56, 0.56, 0.56, 0.56, 0.56, 0.56, 0.56, 0.56, 0.56, 0.56, 0.55, 0.55, 0.55, 0.55, 0.55, 0.55, 0.55, 0.55, 0.55, 0.55, 0.55, 0.55, 0.54, 0.54, 0.54, 0.54, 0.54, 0.54, 0.54, 0.54, 0.54, 0.54, 0.54, 0.53, 0.53, 0.53, 0.53, 0.53, 0.53, 0.53, 0.53, 0.53, 0.53, 0.53, 0.53, 0.53, 0.53, 0.53, 0.53, 0.53, 0.53, 0.53, 0.52, 0.52, 0.52, 0.52, 0.52, 0.52, 0.52, 0.52, 0.52, 0.52, 0.52, 0.52, 0.52, 0.52, 0.52, 0.51, 0.51, 0.51, 0.51, 0.51, 0.51, 0.51, 0.51, 0.51, 0.51, 0.51, 0.51, 0.51, 0.5, 0.5, 0.5, 0.5, 0.5, 0.5, 0.5, 0.5, 0.5, 0.5, 0.5, 0.5, 0.5, 0.5, 0.5, 0.5, 0.5, 0.5, 0.49, 0.49, 0.49, 0.49, 0.49, 0.49, 0.49, 0.49, 0.49, 0.49, 0.49, 0.49, 0.49, 0.49, 0.49, 0.49, 0.49, 0.49, 0.48, 0.48, 0.48, 0.48, 0.48, 0.48, 0.48, 0.48, 0.48, 0.48, 0.48, 0.48, 0.48, 0.48, 0.48, 0.48, 0.47, 0.47, 0.47, 0.47, 0.47, 0.47, 0.47, 0.47, 0.47, 0.47, 0.47, 0.47, 0.47, 0.47, 0.47, 0.47, 0.47, 0.47, 0.47, 0.47, 0.46, 0.46, 0.46, 0.46, 0.46, 0.46, 0.46, 0.46, 0.46, 0.46, 0.46, 0.46, 0.46, 0.46, 0.46, 0.46, 0.46, 0.46, 0.46, 0.46, 0.46, 0.46, 0.46, 0.46, 0.46, 0.45, 0.45, 0.45, 0.45, 0.45, 0.45, 0.45, 0.45, 0.45, 0.45, 0.45, 0.45, 0.45, 0.45, 0.45, 0.45, 0.45, 0.45, 0.45, 0.45, 0.45, 0.45, 0.45, 0.45, 0.45, 0.44, 0.44, 0.44, 0.44, 0.44, 0.44, 0.44, 0.44, 0.44, 0.44, 0.44, 0.44, 0.44, 0.44, 0.44, 0.44, 0.44, 0.44, 0.43, 0.43, 0.43, 0.43, 0.43, 0.43, 0.43, 0.43, 0.43, 0.43, 0.43, 0.43, 0.43, 0.43, 0.43, 0.43, 0.43, 0.43, 0.43, 0.43, 0.42, 0.42, 0.42, 0.42, 0.42, 0.42, 0.42, 0.42, 0.42, 0.42, 0.42, 0.42, 0.42, 0.42, 0.42, 0.42, 0.42, 0.42, 0.42, 0.42, 0.41, 0.41, 0.41, 0.41, 0.41, 0.41, 0.41, 0.41, 0.41, 0.41, 0.41, 0.41, 0.41, 0.41, 0.41, 0.41, 0.41, 0.41, 0.4, 0.4, 0.4, 0.4, 0.4, 0.4, 0.4, 0.4, 0.4, 0.4, 0.4, 0.4, 0.4, 0.4, 0.4, 0.4, 0.4, 0.4, 0.4, 0.4, 0.4, 0.4, 0.4, 0.4, 0.4, 0.4, 0.4, 0.4, 0.39, 0.39, 0.39, 0.39, 0.39, 0.39, 0.39, 0.39, 0.39, 0.39, 0.39, 0.39, 0.39, 0.39, 0.39, 0.39, 0.39, 0.39, 0.39, 0.39, 0.39, 0.39, 0.39, 0.39, 0.39, 0.39, 0.39, 0.39, 0.39, 0.39, 0.39, 0.39, 0.38, 0.38, 0.38, 0.38, 0.38, 0.38, 0.38, 0.38, 0.38, 0.38, 0.38, 0.38, 0.38, 0.38, 0.38, 0.38, 0.38, 0.38, 0.37, 0.37, 0.37, 0.37, 0.37, 0.37, 0.37, 0.37, 0.37, 0.37, 0.37, 0.37, 0.37, 0.37, 0.37, 0.37, 0.37, 0.37, 0.37, 0.37, 0.37, 0.37, 0.37, 0.37, 0.37, 0.37, 0.37, 0.37, 0.36, 0.36, 0.36, 0.36, 0.36, 0.36, 0.36, 0.36, 0.36, 0.36, 0.36, 0.36, 0.36, 0.36, 0.36, 0.36, 0.36, 0.36, 0.36, 0.36, 0.36, 0.36, 0.36, 0.36, 0.36, 0.36, 0.35, 0.35, 0.35, 0.35, 0.35, 0.35, 0.35, 0.35, 0.35, 0.35, 0.35, 0.35, 0.35, 0.35, 0.35, 0.35, 0.35, 0.35, 0.35, 0.35, 0.35, 0.35, 0.35, 0.35, 0.35, 0.35, 0.35, 0.35, 0.35, 0.34, 0.34, 0.34, 0.34, 0.34, 0.34, 0.34, 0.34, 0.34, 0.34, 0.34, 0.34, 0.34, 0.34], \"yaxis\": \"y\"}],\n",
       "                        {\"barmode\": \"relative\", \"height\": 600, \"legend\": {\"tracegroupgap\": 0}, \"margin\": {\"t\": 60}, \"template\": {\"data\": {\"bar\": [{\"error_x\": {\"color\": \"#2a3f5f\"}, \"error_y\": {\"color\": \"#2a3f5f\"}, \"marker\": {\"line\": {\"color\": \"#E5ECF6\", \"width\": 0.5}}, \"type\": \"bar\"}], \"barpolar\": [{\"marker\": {\"line\": {\"color\": \"#E5ECF6\", \"width\": 0.5}}, \"type\": \"barpolar\"}], \"carpet\": [{\"aaxis\": {\"endlinecolor\": \"#2a3f5f\", \"gridcolor\": \"white\", \"linecolor\": \"white\", \"minorgridcolor\": \"white\", \"startlinecolor\": \"#2a3f5f\"}, \"baxis\": {\"endlinecolor\": \"#2a3f5f\", \"gridcolor\": \"white\", \"linecolor\": \"white\", \"minorgridcolor\": \"white\", \"startlinecolor\": \"#2a3f5f\"}, \"type\": \"carpet\"}], \"choropleth\": [{\"colorbar\": {\"outlinewidth\": 0, \"ticks\": \"\"}, \"type\": \"choropleth\"}], \"contour\": [{\"colorbar\": {\"outlinewidth\": 0, \"ticks\": \"\"}, \"colorscale\": [[0.0, \"#0d0887\"], [0.1111111111111111, \"#46039f\"], [0.2222222222222222, \"#7201a8\"], [0.3333333333333333, \"#9c179e\"], [0.4444444444444444, \"#bd3786\"], [0.5555555555555556, \"#d8576b\"], [0.6666666666666666, \"#ed7953\"], [0.7777777777777778, \"#fb9f3a\"], [0.8888888888888888, \"#fdca26\"], [1.0, \"#f0f921\"]], \"type\": \"contour\"}], \"contourcarpet\": [{\"colorbar\": {\"outlinewidth\": 0, \"ticks\": \"\"}, \"type\": \"contourcarpet\"}], \"heatmap\": [{\"colorbar\": {\"outlinewidth\": 0, \"ticks\": \"\"}, \"colorscale\": [[0.0, \"#0d0887\"], [0.1111111111111111, \"#46039f\"], [0.2222222222222222, \"#7201a8\"], [0.3333333333333333, \"#9c179e\"], [0.4444444444444444, \"#bd3786\"], [0.5555555555555556, \"#d8576b\"], [0.6666666666666666, \"#ed7953\"], [0.7777777777777778, \"#fb9f3a\"], [0.8888888888888888, \"#fdca26\"], [1.0, \"#f0f921\"]], \"type\": \"heatmap\"}], \"heatmapgl\": [{\"colorbar\": {\"outlinewidth\": 0, \"ticks\": \"\"}, \"colorscale\": [[0.0, \"#0d0887\"], [0.1111111111111111, \"#46039f\"], [0.2222222222222222, \"#7201a8\"], [0.3333333333333333, \"#9c179e\"], [0.4444444444444444, \"#bd3786\"], [0.5555555555555556, \"#d8576b\"], [0.6666666666666666, \"#ed7953\"], [0.7777777777777778, \"#fb9f3a\"], [0.8888888888888888, \"#fdca26\"], [1.0, \"#f0f921\"]], \"type\": \"heatmapgl\"}], \"histogram\": [{\"marker\": {\"colorbar\": {\"outlinewidth\": 0, \"ticks\": \"\"}}, \"type\": \"histogram\"}], \"histogram2d\": [{\"colorbar\": {\"outlinewidth\": 0, \"ticks\": \"\"}, \"colorscale\": [[0.0, \"#0d0887\"], [0.1111111111111111, \"#46039f\"], [0.2222222222222222, \"#7201a8\"], [0.3333333333333333, \"#9c179e\"], [0.4444444444444444, \"#bd3786\"], [0.5555555555555556, \"#d8576b\"], [0.6666666666666666, \"#ed7953\"], [0.7777777777777778, \"#fb9f3a\"], [0.8888888888888888, \"#fdca26\"], [1.0, \"#f0f921\"]], \"type\": \"histogram2d\"}], \"histogram2dcontour\": [{\"colorbar\": {\"outlinewidth\": 0, \"ticks\": \"\"}, \"colorscale\": [[0.0, \"#0d0887\"], [0.1111111111111111, \"#46039f\"], [0.2222222222222222, \"#7201a8\"], [0.3333333333333333, \"#9c179e\"], [0.4444444444444444, \"#bd3786\"], [0.5555555555555556, \"#d8576b\"], [0.6666666666666666, \"#ed7953\"], [0.7777777777777778, \"#fb9f3a\"], [0.8888888888888888, \"#fdca26\"], [1.0, \"#f0f921\"]], \"type\": \"histogram2dcontour\"}], \"mesh3d\": [{\"colorbar\": {\"outlinewidth\": 0, \"ticks\": \"\"}, \"type\": \"mesh3d\"}], \"parcoords\": [{\"line\": {\"colorbar\": {\"outlinewidth\": 0, \"ticks\": \"\"}}, \"type\": \"parcoords\"}], \"scatter\": [{\"marker\": {\"colorbar\": {\"outlinewidth\": 0, \"ticks\": \"\"}}, \"type\": \"scatter\"}], \"scatter3d\": [{\"line\": {\"colorbar\": {\"outlinewidth\": 0, \"ticks\": \"\"}}, \"marker\": {\"colorbar\": {\"outlinewidth\": 0, \"ticks\": \"\"}}, \"type\": \"scatter3d\"}], \"scattercarpet\": [{\"marker\": {\"colorbar\": {\"outlinewidth\": 0, \"ticks\": \"\"}}, \"type\": \"scattercarpet\"}], \"scattergeo\": [{\"marker\": {\"colorbar\": {\"outlinewidth\": 0, \"ticks\": \"\"}}, \"type\": \"scattergeo\"}], \"scattergl\": [{\"marker\": {\"colorbar\": {\"outlinewidth\": 0, \"ticks\": \"\"}}, \"type\": \"scattergl\"}], \"scattermapbox\": [{\"marker\": {\"colorbar\": {\"outlinewidth\": 0, \"ticks\": \"\"}}, \"type\": \"scattermapbox\"}], \"scatterpolar\": [{\"marker\": {\"colorbar\": {\"outlinewidth\": 0, \"ticks\": \"\"}}, \"type\": \"scatterpolar\"}], \"scatterpolargl\": [{\"marker\": {\"colorbar\": {\"outlinewidth\": 0, \"ticks\": \"\"}}, \"type\": \"scatterpolargl\"}], \"scatterternary\": [{\"marker\": {\"colorbar\": {\"outlinewidth\": 0, \"ticks\": \"\"}}, \"type\": \"scatterternary\"}], \"surface\": [{\"colorbar\": {\"outlinewidth\": 0, \"ticks\": \"\"}, \"colorscale\": [[0.0, \"#0d0887\"], [0.1111111111111111, \"#46039f\"], [0.2222222222222222, \"#7201a8\"], [0.3333333333333333, \"#9c179e\"], [0.4444444444444444, \"#bd3786\"], [0.5555555555555556, \"#d8576b\"], [0.6666666666666666, \"#ed7953\"], [0.7777777777777778, \"#fb9f3a\"], [0.8888888888888888, \"#fdca26\"], [1.0, \"#f0f921\"]], \"type\": \"surface\"}], \"table\": [{\"cells\": {\"fill\": {\"color\": \"#EBF0F8\"}, \"line\": {\"color\": \"white\"}}, \"header\": {\"fill\": {\"color\": \"#C8D4E3\"}, \"line\": {\"color\": \"white\"}}, \"type\": \"table\"}]}, \"layout\": {\"annotationdefaults\": {\"arrowcolor\": \"#2a3f5f\", \"arrowhead\": 0, \"arrowwidth\": 1}, \"colorscale\": {\"diverging\": [[0, \"#8e0152\"], [0.1, \"#c51b7d\"], [0.2, \"#de77ae\"], [0.3, \"#f1b6da\"], [0.4, \"#fde0ef\"], [0.5, \"#f7f7f7\"], [0.6, \"#e6f5d0\"], [0.7, \"#b8e186\"], [0.8, \"#7fbc41\"], [0.9, \"#4d9221\"], [1, \"#276419\"]], \"sequential\": [[0.0, \"#0d0887\"], [0.1111111111111111, \"#46039f\"], [0.2222222222222222, \"#7201a8\"], [0.3333333333333333, \"#9c179e\"], [0.4444444444444444, \"#bd3786\"], [0.5555555555555556, \"#d8576b\"], [0.6666666666666666, \"#ed7953\"], [0.7777777777777778, \"#fb9f3a\"], [0.8888888888888888, \"#fdca26\"], [1.0, \"#f0f921\"]], \"sequentialminus\": [[0.0, \"#0d0887\"], [0.1111111111111111, \"#46039f\"], [0.2222222222222222, \"#7201a8\"], [0.3333333333333333, \"#9c179e\"], [0.4444444444444444, \"#bd3786\"], [0.5555555555555556, \"#d8576b\"], [0.6666666666666666, \"#ed7953\"], [0.7777777777777778, \"#fb9f3a\"], [0.8888888888888888, \"#fdca26\"], [1.0, \"#f0f921\"]]}, \"colorway\": [\"#636efa\", \"#EF553B\", \"#00cc96\", \"#ab63fa\", \"#FFA15A\", \"#19d3f3\", \"#FF6692\", \"#B6E880\", \"#FF97FF\", \"#FECB52\"], \"font\": {\"color\": \"#2a3f5f\"}, \"geo\": {\"bgcolor\": \"white\", \"lakecolor\": \"white\", \"landcolor\": \"#E5ECF6\", \"showlakes\": true, \"showland\": true, \"subunitcolor\": \"white\"}, \"hoverlabel\": {\"align\": \"left\"}, \"hovermode\": \"closest\", \"mapbox\": {\"style\": \"light\"}, \"paper_bgcolor\": \"white\", \"plot_bgcolor\": \"#E5ECF6\", \"polar\": {\"angularaxis\": {\"gridcolor\": \"white\", \"linecolor\": \"white\", \"ticks\": \"\"}, \"bgcolor\": \"#E5ECF6\", \"radialaxis\": {\"gridcolor\": \"white\", \"linecolor\": \"white\", \"ticks\": \"\"}}, \"scene\": {\"xaxis\": {\"backgroundcolor\": \"#E5ECF6\", \"gridcolor\": \"white\", \"gridwidth\": 2, \"linecolor\": \"white\", \"showbackground\": true, \"ticks\": \"\", \"zerolinecolor\": \"white\"}, \"yaxis\": {\"backgroundcolor\": \"#E5ECF6\", \"gridcolor\": \"white\", \"gridwidth\": 2, \"linecolor\": \"white\", \"showbackground\": true, \"ticks\": \"\", \"zerolinecolor\": \"white\"}, \"zaxis\": {\"backgroundcolor\": \"#E5ECF6\", \"gridcolor\": \"white\", \"gridwidth\": 2, \"linecolor\": \"white\", \"showbackground\": true, \"ticks\": \"\", \"zerolinecolor\": \"white\"}}, \"shapedefaults\": {\"line\": {\"color\": \"#2a3f5f\"}}, \"ternary\": {\"aaxis\": {\"gridcolor\": \"white\", \"linecolor\": \"white\", \"ticks\": \"\"}, \"baxis\": {\"gridcolor\": \"white\", \"linecolor\": \"white\", \"ticks\": \"\"}, \"bgcolor\": \"#E5ECF6\", \"caxis\": {\"gridcolor\": \"white\", \"linecolor\": \"white\", \"ticks\": \"\"}}, \"title\": {\"x\": 0.05}, \"xaxis\": {\"automargin\": true, \"gridcolor\": \"white\", \"linecolor\": \"white\", \"ticks\": \"\", \"zerolinecolor\": \"white\", \"zerolinewidth\": 2}, \"yaxis\": {\"automargin\": true, \"gridcolor\": \"white\", \"linecolor\": \"white\", \"ticks\": \"\", \"zerolinecolor\": \"white\", \"zerolinewidth\": 2}}}, \"xaxis\": {\"anchor\": \"y\", \"domain\": [0.0, 0.98], \"title\": {\"text\": \"platform\"}}, \"yaxis\": {\"anchor\": \"x\", \"domain\": [0.0, 1.0], \"title\": {\"text\": \"eu_sales\"}}},\n",
       "                        {\"responsive\": true}\n",
       "                    ).then(function(){\n",
       "                            \n",
       "var gd = document.getElementById('828b38b2-5766-45d2-8fcd-d40512ab0e26');\n",
       "var x = new MutationObserver(function (mutations, observer) {{\n",
       "        var display = window.getComputedStyle(gd).display;\n",
       "        if (!display || display === 'none') {{\n",
       "            console.log([gd, 'removed!']);\n",
       "            Plotly.purge(gd);\n",
       "            observer.disconnect();\n",
       "        }}\n",
       "}});\n",
       "\n",
       "// Listen for the removal of the full notebook cells\n",
       "var notebookContainer = gd.closest('#notebook-container');\n",
       "if (notebookContainer) {{\n",
       "    x.observe(notebookContainer, {childList: true});\n",
       "}}\n",
       "\n",
       "// Listen for the clearing of the current output cell\n",
       "var outputEl = gd.closest('.output');\n",
       "if (outputEl) {{\n",
       "    x.observe(outputEl, {childList: true});\n",
       "}}\n",
       "\n",
       "                        })\n",
       "                };\n",
       "                });\n",
       "            </script>\n",
       "        </div>"
      ]
     },
     "metadata": {},
     "output_type": "display_data"
    }
   ],
   "source": [
    "\n",
    "top_platform = games_new.sort_values(by='eu_sales', axis=0, ascending=False)[:1000]\n",
    "\n",
    "fig = px.bar(top_platform , \n",
    "             x='platform', \n",
    "             y='eu_sales',\n",
    "            )\n",
    "\n",
    "fig.show()"
   ]
  },
  {
   "cell_type": "code",
   "execution_count": 34,
   "id": "5795547a",
   "metadata": {},
   "outputs": [
    {
     "data": {
      "text/html": [
       "<div>\n",
       "<style scoped>\n",
       "    .dataframe tbody tr th:only-of-type {\n",
       "        vertical-align: middle;\n",
       "    }\n",
       "\n",
       "    .dataframe tbody tr th {\n",
       "        vertical-align: top;\n",
       "    }\n",
       "\n",
       "    .dataframe thead th {\n",
       "        text-align: right;\n",
       "    }\n",
       "</style>\n",
       "<table border=\"1\" class=\"dataframe\">\n",
       "  <thead>\n",
       "    <tr style=\"text-align: right;\">\n",
       "      <th></th>\n",
       "      <th>genre</th>\n",
       "      <th>eu_sales</th>\n",
       "    </tr>\n",
       "  </thead>\n",
       "  <tbody>\n",
       "    <tr>\n",
       "      <td>0</td>\n",
       "      <td>action</td>\n",
       "      <td>335.67</td>\n",
       "    </tr>\n",
       "    <tr>\n",
       "      <td>8</td>\n",
       "      <td>shooter</td>\n",
       "      <td>230.16</td>\n",
       "    </tr>\n",
       "    <tr>\n",
       "      <td>10</td>\n",
       "      <td>sports</td>\n",
       "      <td>211.49</td>\n",
       "    </tr>\n",
       "    <tr>\n",
       "      <td>3</td>\n",
       "      <td>misc</td>\n",
       "      <td>127.62</td>\n",
       "    </tr>\n",
       "    <tr>\n",
       "      <td>6</td>\n",
       "      <td>racing</td>\n",
       "      <td>104.63</td>\n",
       "    </tr>\n",
       "  </tbody>\n",
       "</table>\n",
       "</div>"
      ],
      "text/plain": [
       "      genre  eu_sales\n",
       "0    action    335.67\n",
       "8   shooter    230.16\n",
       "10   sports    211.49\n",
       "3      misc    127.62\n",
       "6    racing    104.63"
      ]
     },
     "execution_count": 34,
     "metadata": {},
     "output_type": "execute_result"
    }
   ],
   "source": [
    "(games_new\n",
    " .groupby('genre')['eu_sales']\n",
    " .sum()\n",
    " .reset_index()\n",
    " .sort_values(by='eu_sales', ascending=False)\n",
    " .head(5)\n",
    ")\n",
    "\n",
    "#топ 5 жанров в европе"
   ]
  },
  {
   "cell_type": "code",
   "execution_count": 97,
   "id": "95273690",
   "metadata": {},
   "outputs": [
    {
     "data": {
      "application/vnd.plotly.v1+json": {
       "config": {
        "plotlyServerURL": "https://plot.ly"
       },
       "data": [
        {
         "alignmentgroup": "True",
         "hoverlabel": {
          "namelength": 0
         },
         "hovertemplate": "genre=%{x}<br>eu_sales=%{y}",
         "legendgroup": "",
         "marker": {
          "color": "#636efa"
         },
         "name": "",
         "offsetgroup": "",
         "orientation": "v",
         "showlegend": false,
         "textposition": "auto",
         "type": "bar",
         "x": [
          "racing",
          "sports",
          "misc",
          "platform",
          "shooter",
          "action",
          "shooter",
          "sports",
          "sports",
          "shooter",
          "shooter",
          "shooter",
          "shooter",
          "action",
          "action",
          "shooter",
          "shooter",
          "fighting",
          "platform",
          "shooter",
          "shooter",
          "misc",
          "shooter",
          "misc",
          "misc",
          "shooter",
          "role-playing",
          "role-playing",
          "role-playing",
          "racing",
          "shooter",
          "shooter",
          "platform",
          "shooter",
          "action",
          "shooter",
          "shooter",
          "misc",
          "role-playing",
          "action",
          "shooter",
          "shooter",
          "shooter",
          "shooter",
          "misc",
          "action",
          "sports",
          "misc",
          "action",
          "platform",
          "role-playing",
          "action",
          "platform",
          "misc",
          "misc",
          "sports",
          "role-playing",
          "adventure",
          "action",
          "fighting",
          "shooter",
          "misc",
          "platform",
          "racing",
          "action",
          "shooter",
          "action",
          "shooter",
          "misc",
          "shooter",
          "racing",
          "action",
          "role-playing",
          "racing",
          "action",
          "shooter",
          "action",
          "action",
          "shooter",
          "platform",
          "role-playing",
          "action",
          "shooter",
          "action",
          "shooter",
          "role-playing",
          "action",
          "shooter",
          "action",
          "shooter",
          "shooter",
          "role-playing",
          "misc",
          "action",
          "action",
          "shooter",
          "fighting",
          "sports",
          "strategy",
          "sports"
         ],
         "xaxis": "x",
         "y": [
          12.76,
          10.93,
          4.89,
          6.94,
          3.68,
          5.14,
          4.24,
          8.49,
          8.03,
          3.59,
          4.24,
          2.81,
          1.95,
          9.09,
          3.07,
          2.56,
          2.28,
          2.55,
          3.35,
          5.86,
          4.37,
          3.11,
          2.36,
          2.85,
          2.65,
          5.73,
          3.17,
          4.19,
          2.79,
          4.02,
          3.64,
          5.73,
          3,
          1.88,
          3.69,
          2.11,
          2.11,
          1.85,
          3.49,
          2.71,
          1.34,
          1.9,
          3.63,
          1.59,
          2.16,
          6.31,
          1.73,
          2.24,
          1.95,
          3.14,
          1.08,
          1.55,
          2.35,
          0.01,
          2.99,
          2.59,
          0.99,
          1.64,
          2.2,
          1.37,
          1.55,
          0.91,
          1.79,
          2.15,
          1.69,
          2.26,
          1.55,
          1.17,
          1.11,
          3.49,
          1.9,
          1.27,
          1.45,
          4.82,
          0.38,
          2.89,
          1.48,
          2.19,
          3.48,
          1.98,
          1.72,
          2.53,
          1.27,
          2.75,
          1.11,
          1.72,
          1.33,
          1.83,
          1.85,
          0.87,
          0.49,
          1.03,
          1.33,
          2.52,
          1.71,
          0.33,
          1.08,
          0.2,
          1.68,
          3.86
         ],
         "yaxis": "y"
        }
       ],
       "layout": {
        "barmode": "relative",
        "height": 600,
        "legend": {
         "tracegroupgap": 0
        },
        "margin": {
         "t": 60
        },
        "template": {
         "data": {
          "bar": [
           {
            "error_x": {
             "color": "#2a3f5f"
            },
            "error_y": {
             "color": "#2a3f5f"
            },
            "marker": {
             "line": {
              "color": "#E5ECF6",
              "width": 0.5
             }
            },
            "type": "bar"
           }
          ],
          "barpolar": [
           {
            "marker": {
             "line": {
              "color": "#E5ECF6",
              "width": 0.5
             }
            },
            "type": "barpolar"
           }
          ],
          "carpet": [
           {
            "aaxis": {
             "endlinecolor": "#2a3f5f",
             "gridcolor": "white",
             "linecolor": "white",
             "minorgridcolor": "white",
             "startlinecolor": "#2a3f5f"
            },
            "baxis": {
             "endlinecolor": "#2a3f5f",
             "gridcolor": "white",
             "linecolor": "white",
             "minorgridcolor": "white",
             "startlinecolor": "#2a3f5f"
            },
            "type": "carpet"
           }
          ],
          "choropleth": [
           {
            "colorbar": {
             "outlinewidth": 0,
             "ticks": ""
            },
            "type": "choropleth"
           }
          ],
          "contour": [
           {
            "colorbar": {
             "outlinewidth": 0,
             "ticks": ""
            },
            "colorscale": [
             [
              0,
              "#0d0887"
             ],
             [
              0.1111111111,
              "#46039f"
             ],
             [
              0.2222222222,
              "#7201a8"
             ],
             [
              0.3333333333,
              "#9c179e"
             ],
             [
              0.4444444444,
              "#bd3786"
             ],
             [
              0.5555555556,
              "#d8576b"
             ],
             [
              0.6666666667,
              "#ed7953"
             ],
             [
              0.7777777778,
              "#fb9f3a"
             ],
             [
              0.8888888889,
              "#fdca26"
             ],
             [
              1,
              "#f0f921"
             ]
            ],
            "type": "contour"
           }
          ],
          "contourcarpet": [
           {
            "colorbar": {
             "outlinewidth": 0,
             "ticks": ""
            },
            "type": "contourcarpet"
           }
          ],
          "heatmap": [
           {
            "colorbar": {
             "outlinewidth": 0,
             "ticks": ""
            },
            "colorscale": [
             [
              0,
              "#0d0887"
             ],
             [
              0.1111111111,
              "#46039f"
             ],
             [
              0.2222222222,
              "#7201a8"
             ],
             [
              0.3333333333,
              "#9c179e"
             ],
             [
              0.4444444444,
              "#bd3786"
             ],
             [
              0.5555555556,
              "#d8576b"
             ],
             [
              0.6666666667,
              "#ed7953"
             ],
             [
              0.7777777778,
              "#fb9f3a"
             ],
             [
              0.8888888889,
              "#fdca26"
             ],
             [
              1,
              "#f0f921"
             ]
            ],
            "type": "heatmap"
           }
          ],
          "heatmapgl": [
           {
            "colorbar": {
             "outlinewidth": 0,
             "ticks": ""
            },
            "colorscale": [
             [
              0,
              "#0d0887"
             ],
             [
              0.1111111111,
              "#46039f"
             ],
             [
              0.2222222222,
              "#7201a8"
             ],
             [
              0.3333333333,
              "#9c179e"
             ],
             [
              0.4444444444,
              "#bd3786"
             ],
             [
              0.5555555556,
              "#d8576b"
             ],
             [
              0.6666666667,
              "#ed7953"
             ],
             [
              0.7777777778,
              "#fb9f3a"
             ],
             [
              0.8888888889,
              "#fdca26"
             ],
             [
              1,
              "#f0f921"
             ]
            ],
            "type": "heatmapgl"
           }
          ],
          "histogram": [
           {
            "marker": {
             "colorbar": {
              "outlinewidth": 0,
              "ticks": ""
             }
            },
            "type": "histogram"
           }
          ],
          "histogram2d": [
           {
            "colorbar": {
             "outlinewidth": 0,
             "ticks": ""
            },
            "colorscale": [
             [
              0,
              "#0d0887"
             ],
             [
              0.1111111111,
              "#46039f"
             ],
             [
              0.2222222222,
              "#7201a8"
             ],
             [
              0.3333333333,
              "#9c179e"
             ],
             [
              0.4444444444,
              "#bd3786"
             ],
             [
              0.5555555556,
              "#d8576b"
             ],
             [
              0.6666666667,
              "#ed7953"
             ],
             [
              0.7777777778,
              "#fb9f3a"
             ],
             [
              0.8888888889,
              "#fdca26"
             ],
             [
              1,
              "#f0f921"
             ]
            ],
            "type": "histogram2d"
           }
          ],
          "histogram2dcontour": [
           {
            "colorbar": {
             "outlinewidth": 0,
             "ticks": ""
            },
            "colorscale": [
             [
              0,
              "#0d0887"
             ],
             [
              0.1111111111,
              "#46039f"
             ],
             [
              0.2222222222,
              "#7201a8"
             ],
             [
              0.3333333333,
              "#9c179e"
             ],
             [
              0.4444444444,
              "#bd3786"
             ],
             [
              0.5555555556,
              "#d8576b"
             ],
             [
              0.6666666667,
              "#ed7953"
             ],
             [
              0.7777777778,
              "#fb9f3a"
             ],
             [
              0.8888888889,
              "#fdca26"
             ],
             [
              1,
              "#f0f921"
             ]
            ],
            "type": "histogram2dcontour"
           }
          ],
          "mesh3d": [
           {
            "colorbar": {
             "outlinewidth": 0,
             "ticks": ""
            },
            "type": "mesh3d"
           }
          ],
          "parcoords": [
           {
            "line": {
             "colorbar": {
              "outlinewidth": 0,
              "ticks": ""
             }
            },
            "type": "parcoords"
           }
          ],
          "scatter": [
           {
            "marker": {
             "colorbar": {
              "outlinewidth": 0,
              "ticks": ""
             }
            },
            "type": "scatter"
           }
          ],
          "scatter3d": [
           {
            "line": {
             "colorbar": {
              "outlinewidth": 0,
              "ticks": ""
             }
            },
            "marker": {
             "colorbar": {
              "outlinewidth": 0,
              "ticks": ""
             }
            },
            "type": "scatter3d"
           }
          ],
          "scattercarpet": [
           {
            "marker": {
             "colorbar": {
              "outlinewidth": 0,
              "ticks": ""
             }
            },
            "type": "scattercarpet"
           }
          ],
          "scattergeo": [
           {
            "marker": {
             "colorbar": {
              "outlinewidth": 0,
              "ticks": ""
             }
            },
            "type": "scattergeo"
           }
          ],
          "scattergl": [
           {
            "marker": {
             "colorbar": {
              "outlinewidth": 0,
              "ticks": ""
             }
            },
            "type": "scattergl"
           }
          ],
          "scattermapbox": [
           {
            "marker": {
             "colorbar": {
              "outlinewidth": 0,
              "ticks": ""
             }
            },
            "type": "scattermapbox"
           }
          ],
          "scatterpolar": [
           {
            "marker": {
             "colorbar": {
              "outlinewidth": 0,
              "ticks": ""
             }
            },
            "type": "scatterpolar"
           }
          ],
          "scatterpolargl": [
           {
            "marker": {
             "colorbar": {
              "outlinewidth": 0,
              "ticks": ""
             }
            },
            "type": "scatterpolargl"
           }
          ],
          "scatterternary": [
           {
            "marker": {
             "colorbar": {
              "outlinewidth": 0,
              "ticks": ""
             }
            },
            "type": "scatterternary"
           }
          ],
          "surface": [
           {
            "colorbar": {
             "outlinewidth": 0,
             "ticks": ""
            },
            "colorscale": [
             [
              0,
              "#0d0887"
             ],
             [
              0.1111111111,
              "#46039f"
             ],
             [
              0.2222222222,
              "#7201a8"
             ],
             [
              0.3333333333,
              "#9c179e"
             ],
             [
              0.4444444444,
              "#bd3786"
             ],
             [
              0.5555555556,
              "#d8576b"
             ],
             [
              0.6666666667,
              "#ed7953"
             ],
             [
              0.7777777778,
              "#fb9f3a"
             ],
             [
              0.8888888889,
              "#fdca26"
             ],
             [
              1,
              "#f0f921"
             ]
            ],
            "type": "surface"
           }
          ],
          "table": [
           {
            "cells": {
             "fill": {
              "color": "#EBF0F8"
             },
             "line": {
              "color": "white"
             }
            },
            "header": {
             "fill": {
              "color": "#C8D4E3"
             },
             "line": {
              "color": "white"
             }
            },
            "type": "table"
           }
          ]
         },
         "layout": {
          "annotationdefaults": {
           "arrowcolor": "#2a3f5f",
           "arrowhead": 0,
           "arrowwidth": 1
          },
          "colorscale": {
           "diverging": [
            [
             0,
             "#8e0152"
            ],
            [
             0.1,
             "#c51b7d"
            ],
            [
             0.2,
             "#de77ae"
            ],
            [
             0.3,
             "#f1b6da"
            ],
            [
             0.4,
             "#fde0ef"
            ],
            [
             0.5,
             "#f7f7f7"
            ],
            [
             0.6,
             "#e6f5d0"
            ],
            [
             0.7,
             "#b8e186"
            ],
            [
             0.8,
             "#7fbc41"
            ],
            [
             0.9,
             "#4d9221"
            ],
            [
             1,
             "#276419"
            ]
           ],
           "sequential": [
            [
             0,
             "#0d0887"
            ],
            [
             0.1111111111,
             "#46039f"
            ],
            [
             0.2222222222,
             "#7201a8"
            ],
            [
             0.3333333333,
             "#9c179e"
            ],
            [
             0.4444444444,
             "#bd3786"
            ],
            [
             0.5555555556,
             "#d8576b"
            ],
            [
             0.6666666667,
             "#ed7953"
            ],
            [
             0.7777777778,
             "#fb9f3a"
            ],
            [
             0.8888888889,
             "#fdca26"
            ],
            [
             1,
             "#f0f921"
            ]
           ],
           "sequentialminus": [
            [
             0,
             "#0d0887"
            ],
            [
             0.1111111111,
             "#46039f"
            ],
            [
             0.2222222222,
             "#7201a8"
            ],
            [
             0.3333333333,
             "#9c179e"
            ],
            [
             0.4444444444,
             "#bd3786"
            ],
            [
             0.5555555556,
             "#d8576b"
            ],
            [
             0.6666666667,
             "#ed7953"
            ],
            [
             0.7777777778,
             "#fb9f3a"
            ],
            [
             0.8888888889,
             "#fdca26"
            ],
            [
             1,
             "#f0f921"
            ]
           ]
          },
          "colorway": [
           "#636efa",
           "#EF553B",
           "#00cc96",
           "#ab63fa",
           "#FFA15A",
           "#19d3f3",
           "#FF6692",
           "#B6E880",
           "#FF97FF",
           "#FECB52"
          ],
          "font": {
           "color": "#2a3f5f"
          },
          "geo": {
           "bgcolor": "white",
           "lakecolor": "white",
           "landcolor": "#E5ECF6",
           "showlakes": true,
           "showland": true,
           "subunitcolor": "white"
          },
          "hoverlabel": {
           "align": "left"
          },
          "hovermode": "closest",
          "mapbox": {
           "style": "light"
          },
          "paper_bgcolor": "white",
          "plot_bgcolor": "#E5ECF6",
          "polar": {
           "angularaxis": {
            "gridcolor": "white",
            "linecolor": "white",
            "ticks": ""
           },
           "bgcolor": "#E5ECF6",
           "radialaxis": {
            "gridcolor": "white",
            "linecolor": "white",
            "ticks": ""
           }
          },
          "scene": {
           "xaxis": {
            "backgroundcolor": "#E5ECF6",
            "gridcolor": "white",
            "gridwidth": 2,
            "linecolor": "white",
            "showbackground": true,
            "ticks": "",
            "zerolinecolor": "white"
           },
           "yaxis": {
            "backgroundcolor": "#E5ECF6",
            "gridcolor": "white",
            "gridwidth": 2,
            "linecolor": "white",
            "showbackground": true,
            "ticks": "",
            "zerolinecolor": "white"
           },
           "zaxis": {
            "backgroundcolor": "#E5ECF6",
            "gridcolor": "white",
            "gridwidth": 2,
            "linecolor": "white",
            "showbackground": true,
            "ticks": "",
            "zerolinecolor": "white"
           }
          },
          "shapedefaults": {
           "line": {
            "color": "#2a3f5f"
           }
          },
          "ternary": {
           "aaxis": {
            "gridcolor": "white",
            "linecolor": "white",
            "ticks": ""
           },
           "baxis": {
            "gridcolor": "white",
            "linecolor": "white",
            "ticks": ""
           },
           "bgcolor": "#E5ECF6",
           "caxis": {
            "gridcolor": "white",
            "linecolor": "white",
            "ticks": ""
           }
          },
          "title": {
           "x": 0.05
          },
          "xaxis": {
           "automargin": true,
           "gridcolor": "white",
           "linecolor": "white",
           "ticks": "",
           "zerolinecolor": "white",
           "zerolinewidth": 2
          },
          "yaxis": {
           "automargin": true,
           "gridcolor": "white",
           "linecolor": "white",
           "ticks": "",
           "zerolinecolor": "white",
           "zerolinewidth": 2
          }
         }
        },
        "xaxis": {
         "anchor": "y",
         "domain": [
          0,
          0.98
         ],
         "title": {
          "text": "genre"
         }
        },
        "yaxis": {
         "anchor": "x",
         "domain": [
          0,
          1
         ],
         "title": {
          "text": "eu_sales"
         }
        }
       }
      },
      "text/html": [
       "<div>\n",
       "        \n",
       "        \n",
       "            <div id=\"c4d3d16f-8183-4af8-9c59-011a88e353ea\" class=\"plotly-graph-div\" style=\"height:600px; width:100%;\"></div>\n",
       "            <script type=\"text/javascript\">\n",
       "                require([\"plotly\"], function(Plotly) {\n",
       "                    window.PLOTLYENV=window.PLOTLYENV || {};\n",
       "                    \n",
       "                if (document.getElementById(\"c4d3d16f-8183-4af8-9c59-011a88e353ea\")) {\n",
       "                    Plotly.newPlot(\n",
       "                        'c4d3d16f-8183-4af8-9c59-011a88e353ea',\n",
       "                        [{\"alignmentgroup\": \"True\", \"hoverlabel\": {\"namelength\": 0}, \"hovertemplate\": \"genre=%{x}<br>eu_sales=%{y}\", \"legendgroup\": \"\", \"marker\": {\"color\": \"#636efa\"}, \"name\": \"\", \"offsetgroup\": \"\", \"orientation\": \"v\", \"showlegend\": false, \"textposition\": \"auto\", \"type\": \"bar\", \"x\": [\"racing\", \"sports\", \"misc\", \"platform\", \"shooter\", \"action\", \"shooter\", \"sports\", \"sports\", \"shooter\", \"shooter\", \"shooter\", \"shooter\", \"action\", \"action\", \"shooter\", \"shooter\", \"fighting\", \"platform\", \"shooter\", \"shooter\", \"misc\", \"shooter\", \"misc\", \"misc\", \"shooter\", \"role-playing\", \"role-playing\", \"role-playing\", \"racing\", \"shooter\", \"shooter\", \"platform\", \"shooter\", \"action\", \"shooter\", \"shooter\", \"misc\", \"role-playing\", \"action\", \"shooter\", \"shooter\", \"shooter\", \"shooter\", \"misc\", \"action\", \"sports\", \"misc\", \"action\", \"platform\", \"role-playing\", \"action\", \"platform\", \"misc\", \"misc\", \"sports\", \"role-playing\", \"adventure\", \"action\", \"fighting\", \"shooter\", \"misc\", \"platform\", \"racing\", \"action\", \"shooter\", \"action\", \"shooter\", \"misc\", \"shooter\", \"racing\", \"action\", \"role-playing\", \"racing\", \"action\", \"shooter\", \"action\", \"action\", \"shooter\", \"platform\", \"role-playing\", \"action\", \"shooter\", \"action\", \"shooter\", \"role-playing\", \"action\", \"shooter\", \"action\", \"shooter\", \"shooter\", \"role-playing\", \"misc\", \"action\", \"action\", \"shooter\", \"fighting\", \"sports\", \"strategy\", \"sports\"], \"xaxis\": \"x\", \"y\": [12.76, 10.93, 4.89, 6.94, 3.68, 5.14, 4.24, 8.49, 8.03, 3.59, 4.24, 2.81, 1.95, 9.09, 3.07, 2.56, 2.28, 2.55, 3.35, 5.86, 4.37, 3.11, 2.36, 2.85, 2.65, 5.73, 3.17, 4.19, 2.79, 4.02, 3.64, 5.73, 3.0, 1.88, 3.69, 2.11, 2.11, 1.85, 3.49, 2.71, 1.34, 1.9, 3.63, 1.59, 2.16, 6.31, 1.73, 2.24, 1.95, 3.14, 1.08, 1.55, 2.35, 0.01, 2.99, 2.59, 0.99, 1.64, 2.2, 1.37, 1.55, 0.91, 1.79, 2.15, 1.69, 2.26, 1.55, 1.17, 1.11, 3.49, 1.9, 1.27, 1.45, 4.82, 0.38, 2.89, 1.48, 2.19, 3.48, 1.98, 1.72, 2.53, 1.27, 2.75, 1.11, 1.72, 1.33, 1.83, 1.85, 0.87, 0.49, 1.03, 1.33, 2.52, 1.71, 0.33, 1.08, 0.2, 1.68, 3.86], \"yaxis\": \"y\"}],\n",
       "                        {\"barmode\": \"relative\", \"height\": 600, \"legend\": {\"tracegroupgap\": 0}, \"margin\": {\"t\": 60}, \"template\": {\"data\": {\"bar\": [{\"error_x\": {\"color\": \"#2a3f5f\"}, \"error_y\": {\"color\": \"#2a3f5f\"}, \"marker\": {\"line\": {\"color\": \"#E5ECF6\", \"width\": 0.5}}, \"type\": \"bar\"}], \"barpolar\": [{\"marker\": {\"line\": {\"color\": \"#E5ECF6\", \"width\": 0.5}}, \"type\": \"barpolar\"}], \"carpet\": [{\"aaxis\": {\"endlinecolor\": \"#2a3f5f\", \"gridcolor\": \"white\", \"linecolor\": \"white\", \"minorgridcolor\": \"white\", \"startlinecolor\": \"#2a3f5f\"}, \"baxis\": {\"endlinecolor\": \"#2a3f5f\", \"gridcolor\": \"white\", \"linecolor\": \"white\", \"minorgridcolor\": \"white\", \"startlinecolor\": \"#2a3f5f\"}, \"type\": \"carpet\"}], \"choropleth\": [{\"colorbar\": {\"outlinewidth\": 0, \"ticks\": \"\"}, \"type\": \"choropleth\"}], \"contour\": [{\"colorbar\": {\"outlinewidth\": 0, \"ticks\": \"\"}, \"colorscale\": [[0.0, \"#0d0887\"], [0.1111111111111111, \"#46039f\"], [0.2222222222222222, \"#7201a8\"], [0.3333333333333333, \"#9c179e\"], [0.4444444444444444, \"#bd3786\"], [0.5555555555555556, \"#d8576b\"], [0.6666666666666666, \"#ed7953\"], [0.7777777777777778, \"#fb9f3a\"], [0.8888888888888888, \"#fdca26\"], [1.0, \"#f0f921\"]], \"type\": \"contour\"}], \"contourcarpet\": [{\"colorbar\": {\"outlinewidth\": 0, \"ticks\": \"\"}, \"type\": \"contourcarpet\"}], \"heatmap\": [{\"colorbar\": {\"outlinewidth\": 0, \"ticks\": \"\"}, \"colorscale\": [[0.0, \"#0d0887\"], [0.1111111111111111, \"#46039f\"], [0.2222222222222222, \"#7201a8\"], [0.3333333333333333, \"#9c179e\"], [0.4444444444444444, \"#bd3786\"], [0.5555555555555556, \"#d8576b\"], [0.6666666666666666, \"#ed7953\"], [0.7777777777777778, \"#fb9f3a\"], [0.8888888888888888, \"#fdca26\"], [1.0, \"#f0f921\"]], \"type\": \"heatmap\"}], \"heatmapgl\": [{\"colorbar\": {\"outlinewidth\": 0, \"ticks\": \"\"}, \"colorscale\": [[0.0, \"#0d0887\"], [0.1111111111111111, \"#46039f\"], [0.2222222222222222, \"#7201a8\"], [0.3333333333333333, \"#9c179e\"], [0.4444444444444444, \"#bd3786\"], [0.5555555555555556, \"#d8576b\"], [0.6666666666666666, \"#ed7953\"], [0.7777777777777778, \"#fb9f3a\"], [0.8888888888888888, \"#fdca26\"], [1.0, \"#f0f921\"]], \"type\": \"heatmapgl\"}], \"histogram\": [{\"marker\": {\"colorbar\": {\"outlinewidth\": 0, \"ticks\": \"\"}}, \"type\": \"histogram\"}], \"histogram2d\": [{\"colorbar\": {\"outlinewidth\": 0, \"ticks\": \"\"}, \"colorscale\": [[0.0, \"#0d0887\"], [0.1111111111111111, \"#46039f\"], [0.2222222222222222, \"#7201a8\"], [0.3333333333333333, \"#9c179e\"], [0.4444444444444444, \"#bd3786\"], [0.5555555555555556, \"#d8576b\"], [0.6666666666666666, \"#ed7953\"], [0.7777777777777778, \"#fb9f3a\"], [0.8888888888888888, \"#fdca26\"], [1.0, \"#f0f921\"]], \"type\": \"histogram2d\"}], \"histogram2dcontour\": [{\"colorbar\": {\"outlinewidth\": 0, \"ticks\": \"\"}, \"colorscale\": [[0.0, \"#0d0887\"], [0.1111111111111111, \"#46039f\"], [0.2222222222222222, \"#7201a8\"], [0.3333333333333333, \"#9c179e\"], [0.4444444444444444, \"#bd3786\"], [0.5555555555555556, \"#d8576b\"], [0.6666666666666666, \"#ed7953\"], [0.7777777777777778, \"#fb9f3a\"], [0.8888888888888888, \"#fdca26\"], [1.0, \"#f0f921\"]], \"type\": \"histogram2dcontour\"}], \"mesh3d\": [{\"colorbar\": {\"outlinewidth\": 0, \"ticks\": \"\"}, \"type\": \"mesh3d\"}], \"parcoords\": [{\"line\": {\"colorbar\": {\"outlinewidth\": 0, \"ticks\": \"\"}}, \"type\": \"parcoords\"}], \"scatter\": [{\"marker\": {\"colorbar\": {\"outlinewidth\": 0, \"ticks\": \"\"}}, \"type\": \"scatter\"}], \"scatter3d\": [{\"line\": {\"colorbar\": {\"outlinewidth\": 0, \"ticks\": \"\"}}, \"marker\": {\"colorbar\": {\"outlinewidth\": 0, \"ticks\": \"\"}}, \"type\": \"scatter3d\"}], \"scattercarpet\": [{\"marker\": {\"colorbar\": {\"outlinewidth\": 0, \"ticks\": \"\"}}, \"type\": \"scattercarpet\"}], \"scattergeo\": [{\"marker\": {\"colorbar\": {\"outlinewidth\": 0, \"ticks\": \"\"}}, \"type\": \"scattergeo\"}], \"scattergl\": [{\"marker\": {\"colorbar\": {\"outlinewidth\": 0, \"ticks\": \"\"}}, \"type\": \"scattergl\"}], \"scattermapbox\": [{\"marker\": {\"colorbar\": {\"outlinewidth\": 0, \"ticks\": \"\"}}, \"type\": \"scattermapbox\"}], \"scatterpolar\": [{\"marker\": {\"colorbar\": {\"outlinewidth\": 0, \"ticks\": \"\"}}, \"type\": \"scatterpolar\"}], \"scatterpolargl\": [{\"marker\": {\"colorbar\": {\"outlinewidth\": 0, \"ticks\": \"\"}}, \"type\": \"scatterpolargl\"}], \"scatterternary\": [{\"marker\": {\"colorbar\": {\"outlinewidth\": 0, \"ticks\": \"\"}}, \"type\": \"scatterternary\"}], \"surface\": [{\"colorbar\": {\"outlinewidth\": 0, \"ticks\": \"\"}, \"colorscale\": [[0.0, \"#0d0887\"], [0.1111111111111111, \"#46039f\"], [0.2222222222222222, \"#7201a8\"], [0.3333333333333333, \"#9c179e\"], [0.4444444444444444, \"#bd3786\"], [0.5555555555555556, \"#d8576b\"], [0.6666666666666666, \"#ed7953\"], [0.7777777777777778, \"#fb9f3a\"], [0.8888888888888888, \"#fdca26\"], [1.0, \"#f0f921\"]], \"type\": \"surface\"}], \"table\": [{\"cells\": {\"fill\": {\"color\": \"#EBF0F8\"}, \"line\": {\"color\": \"white\"}}, \"header\": {\"fill\": {\"color\": \"#C8D4E3\"}, \"line\": {\"color\": \"white\"}}, \"type\": \"table\"}]}, \"layout\": {\"annotationdefaults\": {\"arrowcolor\": \"#2a3f5f\", \"arrowhead\": 0, \"arrowwidth\": 1}, \"colorscale\": {\"diverging\": [[0, \"#8e0152\"], [0.1, \"#c51b7d\"], [0.2, \"#de77ae\"], [0.3, \"#f1b6da\"], [0.4, \"#fde0ef\"], [0.5, \"#f7f7f7\"], [0.6, \"#e6f5d0\"], [0.7, \"#b8e186\"], [0.8, \"#7fbc41\"], [0.9, \"#4d9221\"], [1, \"#276419\"]], \"sequential\": [[0.0, \"#0d0887\"], [0.1111111111111111, \"#46039f\"], [0.2222222222222222, \"#7201a8\"], [0.3333333333333333, \"#9c179e\"], [0.4444444444444444, \"#bd3786\"], [0.5555555555555556, \"#d8576b\"], [0.6666666666666666, \"#ed7953\"], [0.7777777777777778, \"#fb9f3a\"], [0.8888888888888888, \"#fdca26\"], [1.0, \"#f0f921\"]], \"sequentialminus\": [[0.0, \"#0d0887\"], [0.1111111111111111, \"#46039f\"], [0.2222222222222222, \"#7201a8\"], [0.3333333333333333, \"#9c179e\"], [0.4444444444444444, \"#bd3786\"], [0.5555555555555556, \"#d8576b\"], [0.6666666666666666, \"#ed7953\"], [0.7777777777777778, \"#fb9f3a\"], [0.8888888888888888, \"#fdca26\"], [1.0, \"#f0f921\"]]}, \"colorway\": [\"#636efa\", \"#EF553B\", \"#00cc96\", \"#ab63fa\", \"#FFA15A\", \"#19d3f3\", \"#FF6692\", \"#B6E880\", \"#FF97FF\", \"#FECB52\"], \"font\": {\"color\": \"#2a3f5f\"}, \"geo\": {\"bgcolor\": \"white\", \"lakecolor\": \"white\", \"landcolor\": \"#E5ECF6\", \"showlakes\": true, \"showland\": true, \"subunitcolor\": \"white\"}, \"hoverlabel\": {\"align\": \"left\"}, \"hovermode\": \"closest\", \"mapbox\": {\"style\": \"light\"}, \"paper_bgcolor\": \"white\", \"plot_bgcolor\": \"#E5ECF6\", \"polar\": {\"angularaxis\": {\"gridcolor\": \"white\", \"linecolor\": \"white\", \"ticks\": \"\"}, \"bgcolor\": \"#E5ECF6\", \"radialaxis\": {\"gridcolor\": \"white\", \"linecolor\": \"white\", \"ticks\": \"\"}}, \"scene\": {\"xaxis\": {\"backgroundcolor\": \"#E5ECF6\", \"gridcolor\": \"white\", \"gridwidth\": 2, \"linecolor\": \"white\", \"showbackground\": true, \"ticks\": \"\", \"zerolinecolor\": \"white\"}, \"yaxis\": {\"backgroundcolor\": \"#E5ECF6\", \"gridcolor\": \"white\", \"gridwidth\": 2, \"linecolor\": \"white\", \"showbackground\": true, \"ticks\": \"\", \"zerolinecolor\": \"white\"}, \"zaxis\": {\"backgroundcolor\": \"#E5ECF6\", \"gridcolor\": \"white\", \"gridwidth\": 2, \"linecolor\": \"white\", \"showbackground\": true, \"ticks\": \"\", \"zerolinecolor\": \"white\"}}, \"shapedefaults\": {\"line\": {\"color\": \"#2a3f5f\"}}, \"ternary\": {\"aaxis\": {\"gridcolor\": \"white\", \"linecolor\": \"white\", \"ticks\": \"\"}, \"baxis\": {\"gridcolor\": \"white\", \"linecolor\": \"white\", \"ticks\": \"\"}, \"bgcolor\": \"#E5ECF6\", \"caxis\": {\"gridcolor\": \"white\", \"linecolor\": \"white\", \"ticks\": \"\"}}, \"title\": {\"x\": 0.05}, \"xaxis\": {\"automargin\": true, \"gridcolor\": \"white\", \"linecolor\": \"white\", \"ticks\": \"\", \"zerolinecolor\": \"white\", \"zerolinewidth\": 2}, \"yaxis\": {\"automargin\": true, \"gridcolor\": \"white\", \"linecolor\": \"white\", \"ticks\": \"\", \"zerolinecolor\": \"white\", \"zerolinewidth\": 2}}}, \"xaxis\": {\"anchor\": \"y\", \"domain\": [0.0, 0.98], \"title\": {\"text\": \"genre\"}}, \"yaxis\": {\"anchor\": \"x\", \"domain\": [0.0, 1.0], \"title\": {\"text\": \"eu_sales\"}}},\n",
       "                        {\"responsive\": true}\n",
       "                    ).then(function(){\n",
       "                            \n",
       "var gd = document.getElementById('c4d3d16f-8183-4af8-9c59-011a88e353ea');\n",
       "var x = new MutationObserver(function (mutations, observer) {{\n",
       "        var display = window.getComputedStyle(gd).display;\n",
       "        if (!display || display === 'none') {{\n",
       "            console.log([gd, 'removed!']);\n",
       "            Plotly.purge(gd);\n",
       "            observer.disconnect();\n",
       "        }}\n",
       "}});\n",
       "\n",
       "// Listen for the removal of the full notebook cells\n",
       "var notebookContainer = gd.closest('#notebook-container');\n",
       "if (notebookContainer) {{\n",
       "    x.observe(notebookContainer, {childList: true});\n",
       "}}\n",
       "\n",
       "// Listen for the clearing of the current output cell\n",
       "var outputEl = gd.closest('.output');\n",
       "if (outputEl) {{\n",
       "    x.observe(outputEl, {childList: true});\n",
       "}}\n",
       "\n",
       "                        })\n",
       "                };\n",
       "                });\n",
       "            </script>\n",
       "        </div>"
      ]
     },
     "metadata": {},
     "output_type": "display_data"
    }
   ],
   "source": [
    "top_genre = games_new.sort_values(by='eu_sales', axis=0, ascending=False)[:100]\n",
    "\n",
    "fig = px.bar(top_platform , \n",
    "             x='genre', \n",
    "             y='eu_sales',\n",
    "            )\n",
    "\n",
    "fig.show()"
   ]
  },
  {
   "cell_type": "code",
   "execution_count": 103,
   "id": "7179e12e",
   "metadata": {},
   "outputs": [
    {
     "data": {
      "text/html": [
       "<div>\n",
       "<style scoped>\n",
       "    .dataframe tbody tr th:only-of-type {\n",
       "        vertical-align: middle;\n",
       "    }\n",
       "\n",
       "    .dataframe tbody tr th {\n",
       "        vertical-align: top;\n",
       "    }\n",
       "\n",
       "    .dataframe thead th {\n",
       "        text-align: right;\n",
       "    }\n",
       "</style>\n",
       "<table border=\"1\" class=\"dataframe\">\n",
       "  <thead>\n",
       "    <tr style=\"text-align: right;\">\n",
       "      <th></th>\n",
       "      <th>rating</th>\n",
       "      <th>eu_sales</th>\n",
       "    </tr>\n",
       "  </thead>\n",
       "  <tbody>\n",
       "    <tr>\n",
       "      <td>0</td>\n",
       "      <td>E</td>\n",
       "      <td>393.08</td>\n",
       "    </tr>\n",
       "    <tr>\n",
       "      <td>3</td>\n",
       "      <td>M</td>\n",
       "      <td>385.86</td>\n",
       "    </tr>\n",
       "    <tr>\n",
       "      <td>5</td>\n",
       "      <td>T</td>\n",
       "      <td>217.89</td>\n",
       "    </tr>\n",
       "    <tr>\n",
       "      <td>1</td>\n",
       "      <td>E10+</td>\n",
       "      <td>162.75</td>\n",
       "    </tr>\n",
       "    <tr>\n",
       "      <td>4</td>\n",
       "      <td>RP</td>\n",
       "      <td>0.03</td>\n",
       "    </tr>\n",
       "  </tbody>\n",
       "</table>\n",
       "</div>"
      ],
      "text/plain": [
       "  rating  eu_sales\n",
       "0      E    393.08\n",
       "3      M    385.86\n",
       "5      T    217.89\n",
       "1   E10+    162.75\n",
       "4     RP      0.03"
      ]
     },
     "execution_count": 103,
     "metadata": {},
     "output_type": "execute_result"
    }
   ],
   "source": [
    "(games_new\n",
    " .query('rating != 1')\n",
    " .groupby('rating')['eu_sales']\n",
    " .sum()\n",
    " .reset_index()\n",
    " .sort_values(by='eu_sales', ascending=False)\n",
    " .head(5)\n",
    ")\n",
    "#Рейтинг в европе"
   ]
  },
  {
   "cell_type": "code",
   "execution_count": 106,
   "id": "63f5076e",
   "metadata": {},
   "outputs": [
    {
     "data": {
      "application/vnd.plotly.v1+json": {
       "config": {
        "plotlyServerURL": "https://plot.ly"
       },
       "data": [
        {
         "alignmentgroup": "True",
         "hoverlabel": {
          "namelength": 0
         },
         "hovertemplate": "rating=%{x}<br>eu_sales=%{y}",
         "legendgroup": "",
         "marker": {
          "color": "#636efa"
         },
         "name": "",
         "offsetgroup": "",
         "orientation": "v",
         "showlegend": false,
         "textposition": "auto",
         "type": "bar",
         "x": [
          "E",
          "E",
          "E",
          "E",
          "M",
          "M",
          "M",
          "E",
          "E",
          "M",
          "M",
          "M",
          "M",
          "M",
          "M",
          "M",
          "M",
          "T",
          "E",
          null,
          "M",
          "E10+",
          "M",
          "E10+",
          null,
          "M",
          null,
          null,
          "M",
          "E",
          "M",
          "M",
          "E",
          "M",
          "M",
          null,
          "M",
          "E",
          null,
          null,
          "M",
          "M",
          "M",
          "M",
          "E10+",
          "M",
          "E10+",
          "E",
          "M",
          "E",
          "M",
          "E10+",
          "E",
          "T",
          "E10+",
          "E",
          "M",
          "M",
          "T",
          null,
          "M",
          "T",
          "E",
          "E",
          "M",
          "M",
          "M",
          "T",
          "T",
          null,
          "E",
          "T",
          null,
          "E",
          "M",
          "M",
          "E",
          "M",
          "M",
          "E",
          null,
          "M",
          "T",
          "T",
          "M",
          "E",
          "M",
          "M",
          "T",
          "M",
          "M",
          "M",
          "E10+",
          "M",
          "M",
          "M",
          null,
          "E",
          "T",
          null
         ],
         "xaxis": "x",
         "y": [
          12.76,
          10.93,
          4.89,
          6.94,
          3.68,
          5.14,
          4.24,
          8.49,
          8.03,
          3.59,
          4.24,
          2.81,
          1.95,
          9.09,
          3.07,
          2.56,
          2.28,
          2.55,
          3.35,
          5.86,
          4.37,
          3.11,
          2.36,
          2.85,
          2.65,
          5.73,
          3.17,
          4.19,
          2.79,
          4.02,
          3.64,
          5.73,
          3,
          1.88,
          3.69,
          2.11,
          2.11,
          1.85,
          3.49,
          2.71,
          1.34,
          1.9,
          3.63,
          1.59,
          2.16,
          6.31,
          1.73,
          2.24,
          1.95,
          3.14,
          1.08,
          1.55,
          2.35,
          0.01,
          2.99,
          2.59,
          0.99,
          1.64,
          2.2,
          1.37,
          1.55,
          0.91,
          1.79,
          2.15,
          1.69,
          2.26,
          1.55,
          1.17,
          1.11,
          3.49,
          1.9,
          1.27,
          1.45,
          4.82,
          0.38,
          2.89,
          1.48,
          2.19,
          3.48,
          1.98,
          1.72,
          2.53,
          1.27,
          2.75,
          1.11,
          1.72,
          1.33,
          1.83,
          1.85,
          0.87,
          0.49,
          1.03,
          1.33,
          2.52,
          1.71,
          0.33,
          1.08,
          0.2,
          1.68,
          3.86
         ],
         "yaxis": "y"
        }
       ],
       "layout": {
        "barmode": "relative",
        "height": 600,
        "legend": {
         "tracegroupgap": 0
        },
        "margin": {
         "t": 60
        },
        "template": {
         "data": {
          "bar": [
           {
            "error_x": {
             "color": "#2a3f5f"
            },
            "error_y": {
             "color": "#2a3f5f"
            },
            "marker": {
             "line": {
              "color": "#E5ECF6",
              "width": 0.5
             }
            },
            "type": "bar"
           }
          ],
          "barpolar": [
           {
            "marker": {
             "line": {
              "color": "#E5ECF6",
              "width": 0.5
             }
            },
            "type": "barpolar"
           }
          ],
          "carpet": [
           {
            "aaxis": {
             "endlinecolor": "#2a3f5f",
             "gridcolor": "white",
             "linecolor": "white",
             "minorgridcolor": "white",
             "startlinecolor": "#2a3f5f"
            },
            "baxis": {
             "endlinecolor": "#2a3f5f",
             "gridcolor": "white",
             "linecolor": "white",
             "minorgridcolor": "white",
             "startlinecolor": "#2a3f5f"
            },
            "type": "carpet"
           }
          ],
          "choropleth": [
           {
            "colorbar": {
             "outlinewidth": 0,
             "ticks": ""
            },
            "type": "choropleth"
           }
          ],
          "contour": [
           {
            "colorbar": {
             "outlinewidth": 0,
             "ticks": ""
            },
            "colorscale": [
             [
              0,
              "#0d0887"
             ],
             [
              0.1111111111,
              "#46039f"
             ],
             [
              0.2222222222,
              "#7201a8"
             ],
             [
              0.3333333333,
              "#9c179e"
             ],
             [
              0.4444444444,
              "#bd3786"
             ],
             [
              0.5555555556,
              "#d8576b"
             ],
             [
              0.6666666667,
              "#ed7953"
             ],
             [
              0.7777777778,
              "#fb9f3a"
             ],
             [
              0.8888888889,
              "#fdca26"
             ],
             [
              1,
              "#f0f921"
             ]
            ],
            "type": "contour"
           }
          ],
          "contourcarpet": [
           {
            "colorbar": {
             "outlinewidth": 0,
             "ticks": ""
            },
            "type": "contourcarpet"
           }
          ],
          "heatmap": [
           {
            "colorbar": {
             "outlinewidth": 0,
             "ticks": ""
            },
            "colorscale": [
             [
              0,
              "#0d0887"
             ],
             [
              0.1111111111,
              "#46039f"
             ],
             [
              0.2222222222,
              "#7201a8"
             ],
             [
              0.3333333333,
              "#9c179e"
             ],
             [
              0.4444444444,
              "#bd3786"
             ],
             [
              0.5555555556,
              "#d8576b"
             ],
             [
              0.6666666667,
              "#ed7953"
             ],
             [
              0.7777777778,
              "#fb9f3a"
             ],
             [
              0.8888888889,
              "#fdca26"
             ],
             [
              1,
              "#f0f921"
             ]
            ],
            "type": "heatmap"
           }
          ],
          "heatmapgl": [
           {
            "colorbar": {
             "outlinewidth": 0,
             "ticks": ""
            },
            "colorscale": [
             [
              0,
              "#0d0887"
             ],
             [
              0.1111111111,
              "#46039f"
             ],
             [
              0.2222222222,
              "#7201a8"
             ],
             [
              0.3333333333,
              "#9c179e"
             ],
             [
              0.4444444444,
              "#bd3786"
             ],
             [
              0.5555555556,
              "#d8576b"
             ],
             [
              0.6666666667,
              "#ed7953"
             ],
             [
              0.7777777778,
              "#fb9f3a"
             ],
             [
              0.8888888889,
              "#fdca26"
             ],
             [
              1,
              "#f0f921"
             ]
            ],
            "type": "heatmapgl"
           }
          ],
          "histogram": [
           {
            "marker": {
             "colorbar": {
              "outlinewidth": 0,
              "ticks": ""
             }
            },
            "type": "histogram"
           }
          ],
          "histogram2d": [
           {
            "colorbar": {
             "outlinewidth": 0,
             "ticks": ""
            },
            "colorscale": [
             [
              0,
              "#0d0887"
             ],
             [
              0.1111111111,
              "#46039f"
             ],
             [
              0.2222222222,
              "#7201a8"
             ],
             [
              0.3333333333,
              "#9c179e"
             ],
             [
              0.4444444444,
              "#bd3786"
             ],
             [
              0.5555555556,
              "#d8576b"
             ],
             [
              0.6666666667,
              "#ed7953"
             ],
             [
              0.7777777778,
              "#fb9f3a"
             ],
             [
              0.8888888889,
              "#fdca26"
             ],
             [
              1,
              "#f0f921"
             ]
            ],
            "type": "histogram2d"
           }
          ],
          "histogram2dcontour": [
           {
            "colorbar": {
             "outlinewidth": 0,
             "ticks": ""
            },
            "colorscale": [
             [
              0,
              "#0d0887"
             ],
             [
              0.1111111111,
              "#46039f"
             ],
             [
              0.2222222222,
              "#7201a8"
             ],
             [
              0.3333333333,
              "#9c179e"
             ],
             [
              0.4444444444,
              "#bd3786"
             ],
             [
              0.5555555556,
              "#d8576b"
             ],
             [
              0.6666666667,
              "#ed7953"
             ],
             [
              0.7777777778,
              "#fb9f3a"
             ],
             [
              0.8888888889,
              "#fdca26"
             ],
             [
              1,
              "#f0f921"
             ]
            ],
            "type": "histogram2dcontour"
           }
          ],
          "mesh3d": [
           {
            "colorbar": {
             "outlinewidth": 0,
             "ticks": ""
            },
            "type": "mesh3d"
           }
          ],
          "parcoords": [
           {
            "line": {
             "colorbar": {
              "outlinewidth": 0,
              "ticks": ""
             }
            },
            "type": "parcoords"
           }
          ],
          "scatter": [
           {
            "marker": {
             "colorbar": {
              "outlinewidth": 0,
              "ticks": ""
             }
            },
            "type": "scatter"
           }
          ],
          "scatter3d": [
           {
            "line": {
             "colorbar": {
              "outlinewidth": 0,
              "ticks": ""
             }
            },
            "marker": {
             "colorbar": {
              "outlinewidth": 0,
              "ticks": ""
             }
            },
            "type": "scatter3d"
           }
          ],
          "scattercarpet": [
           {
            "marker": {
             "colorbar": {
              "outlinewidth": 0,
              "ticks": ""
             }
            },
            "type": "scattercarpet"
           }
          ],
          "scattergeo": [
           {
            "marker": {
             "colorbar": {
              "outlinewidth": 0,
              "ticks": ""
             }
            },
            "type": "scattergeo"
           }
          ],
          "scattergl": [
           {
            "marker": {
             "colorbar": {
              "outlinewidth": 0,
              "ticks": ""
             }
            },
            "type": "scattergl"
           }
          ],
          "scattermapbox": [
           {
            "marker": {
             "colorbar": {
              "outlinewidth": 0,
              "ticks": ""
             }
            },
            "type": "scattermapbox"
           }
          ],
          "scatterpolar": [
           {
            "marker": {
             "colorbar": {
              "outlinewidth": 0,
              "ticks": ""
             }
            },
            "type": "scatterpolar"
           }
          ],
          "scatterpolargl": [
           {
            "marker": {
             "colorbar": {
              "outlinewidth": 0,
              "ticks": ""
             }
            },
            "type": "scatterpolargl"
           }
          ],
          "scatterternary": [
           {
            "marker": {
             "colorbar": {
              "outlinewidth": 0,
              "ticks": ""
             }
            },
            "type": "scatterternary"
           }
          ],
          "surface": [
           {
            "colorbar": {
             "outlinewidth": 0,
             "ticks": ""
            },
            "colorscale": [
             [
              0,
              "#0d0887"
             ],
             [
              0.1111111111,
              "#46039f"
             ],
             [
              0.2222222222,
              "#7201a8"
             ],
             [
              0.3333333333,
              "#9c179e"
             ],
             [
              0.4444444444,
              "#bd3786"
             ],
             [
              0.5555555556,
              "#d8576b"
             ],
             [
              0.6666666667,
              "#ed7953"
             ],
             [
              0.7777777778,
              "#fb9f3a"
             ],
             [
              0.8888888889,
              "#fdca26"
             ],
             [
              1,
              "#f0f921"
             ]
            ],
            "type": "surface"
           }
          ],
          "table": [
           {
            "cells": {
             "fill": {
              "color": "#EBF0F8"
             },
             "line": {
              "color": "white"
             }
            },
            "header": {
             "fill": {
              "color": "#C8D4E3"
             },
             "line": {
              "color": "white"
             }
            },
            "type": "table"
           }
          ]
         },
         "layout": {
          "annotationdefaults": {
           "arrowcolor": "#2a3f5f",
           "arrowhead": 0,
           "arrowwidth": 1
          },
          "colorscale": {
           "diverging": [
            [
             0,
             "#8e0152"
            ],
            [
             0.1,
             "#c51b7d"
            ],
            [
             0.2,
             "#de77ae"
            ],
            [
             0.3,
             "#f1b6da"
            ],
            [
             0.4,
             "#fde0ef"
            ],
            [
             0.5,
             "#f7f7f7"
            ],
            [
             0.6,
             "#e6f5d0"
            ],
            [
             0.7,
             "#b8e186"
            ],
            [
             0.8,
             "#7fbc41"
            ],
            [
             0.9,
             "#4d9221"
            ],
            [
             1,
             "#276419"
            ]
           ],
           "sequential": [
            [
             0,
             "#0d0887"
            ],
            [
             0.1111111111,
             "#46039f"
            ],
            [
             0.2222222222,
             "#7201a8"
            ],
            [
             0.3333333333,
             "#9c179e"
            ],
            [
             0.4444444444,
             "#bd3786"
            ],
            [
             0.5555555556,
             "#d8576b"
            ],
            [
             0.6666666667,
             "#ed7953"
            ],
            [
             0.7777777778,
             "#fb9f3a"
            ],
            [
             0.8888888889,
             "#fdca26"
            ],
            [
             1,
             "#f0f921"
            ]
           ],
           "sequentialminus": [
            [
             0,
             "#0d0887"
            ],
            [
             0.1111111111,
             "#46039f"
            ],
            [
             0.2222222222,
             "#7201a8"
            ],
            [
             0.3333333333,
             "#9c179e"
            ],
            [
             0.4444444444,
             "#bd3786"
            ],
            [
             0.5555555556,
             "#d8576b"
            ],
            [
             0.6666666667,
             "#ed7953"
            ],
            [
             0.7777777778,
             "#fb9f3a"
            ],
            [
             0.8888888889,
             "#fdca26"
            ],
            [
             1,
             "#f0f921"
            ]
           ]
          },
          "colorway": [
           "#636efa",
           "#EF553B",
           "#00cc96",
           "#ab63fa",
           "#FFA15A",
           "#19d3f3",
           "#FF6692",
           "#B6E880",
           "#FF97FF",
           "#FECB52"
          ],
          "font": {
           "color": "#2a3f5f"
          },
          "geo": {
           "bgcolor": "white",
           "lakecolor": "white",
           "landcolor": "#E5ECF6",
           "showlakes": true,
           "showland": true,
           "subunitcolor": "white"
          },
          "hoverlabel": {
           "align": "left"
          },
          "hovermode": "closest",
          "mapbox": {
           "style": "light"
          },
          "paper_bgcolor": "white",
          "plot_bgcolor": "#E5ECF6",
          "polar": {
           "angularaxis": {
            "gridcolor": "white",
            "linecolor": "white",
            "ticks": ""
           },
           "bgcolor": "#E5ECF6",
           "radialaxis": {
            "gridcolor": "white",
            "linecolor": "white",
            "ticks": ""
           }
          },
          "scene": {
           "xaxis": {
            "backgroundcolor": "#E5ECF6",
            "gridcolor": "white",
            "gridwidth": 2,
            "linecolor": "white",
            "showbackground": true,
            "ticks": "",
            "zerolinecolor": "white"
           },
           "yaxis": {
            "backgroundcolor": "#E5ECF6",
            "gridcolor": "white",
            "gridwidth": 2,
            "linecolor": "white",
            "showbackground": true,
            "ticks": "",
            "zerolinecolor": "white"
           },
           "zaxis": {
            "backgroundcolor": "#E5ECF6",
            "gridcolor": "white",
            "gridwidth": 2,
            "linecolor": "white",
            "showbackground": true,
            "ticks": "",
            "zerolinecolor": "white"
           }
          },
          "shapedefaults": {
           "line": {
            "color": "#2a3f5f"
           }
          },
          "ternary": {
           "aaxis": {
            "gridcolor": "white",
            "linecolor": "white",
            "ticks": ""
           },
           "baxis": {
            "gridcolor": "white",
            "linecolor": "white",
            "ticks": ""
           },
           "bgcolor": "#E5ECF6",
           "caxis": {
            "gridcolor": "white",
            "linecolor": "white",
            "ticks": ""
           }
          },
          "title": {
           "x": 0.05
          },
          "xaxis": {
           "automargin": true,
           "gridcolor": "white",
           "linecolor": "white",
           "ticks": "",
           "zerolinecolor": "white",
           "zerolinewidth": 2
          },
          "yaxis": {
           "automargin": true,
           "gridcolor": "white",
           "linecolor": "white",
           "ticks": "",
           "zerolinecolor": "white",
           "zerolinewidth": 2
          }
         }
        },
        "xaxis": {
         "anchor": "y",
         "domain": [
          0,
          0.98
         ],
         "title": {
          "text": "rating"
         }
        },
        "yaxis": {
         "anchor": "x",
         "domain": [
          0,
          1
         ],
         "title": {
          "text": "eu_sales"
         }
        }
       }
      },
      "text/html": [
       "<div>\n",
       "        \n",
       "        \n",
       "            <div id=\"e8bfb81e-9b02-4879-9fe5-ee15657a231d\" class=\"plotly-graph-div\" style=\"height:600px; width:100%;\"></div>\n",
       "            <script type=\"text/javascript\">\n",
       "                require([\"plotly\"], function(Plotly) {\n",
       "                    window.PLOTLYENV=window.PLOTLYENV || {};\n",
       "                    \n",
       "                if (document.getElementById(\"e8bfb81e-9b02-4879-9fe5-ee15657a231d\")) {\n",
       "                    Plotly.newPlot(\n",
       "                        'e8bfb81e-9b02-4879-9fe5-ee15657a231d',\n",
       "                        [{\"alignmentgroup\": \"True\", \"hoverlabel\": {\"namelength\": 0}, \"hovertemplate\": \"rating=%{x}<br>eu_sales=%{y}\", \"legendgroup\": \"\", \"marker\": {\"color\": \"#636efa\"}, \"name\": \"\", \"offsetgroup\": \"\", \"orientation\": \"v\", \"showlegend\": false, \"textposition\": \"auto\", \"type\": \"bar\", \"x\": [\"E\", \"E\", \"E\", \"E\", \"M\", \"M\", \"M\", \"E\", \"E\", \"M\", \"M\", \"M\", \"M\", \"M\", \"M\", \"M\", \"M\", \"T\", \"E\", null, \"M\", \"E10+\", \"M\", \"E10+\", null, \"M\", null, null, \"M\", \"E\", \"M\", \"M\", \"E\", \"M\", \"M\", null, \"M\", \"E\", null, null, \"M\", \"M\", \"M\", \"M\", \"E10+\", \"M\", \"E10+\", \"E\", \"M\", \"E\", \"M\", \"E10+\", \"E\", \"T\", \"E10+\", \"E\", \"M\", \"M\", \"T\", null, \"M\", \"T\", \"E\", \"E\", \"M\", \"M\", \"M\", \"T\", \"T\", null, \"E\", \"T\", null, \"E\", \"M\", \"M\", \"E\", \"M\", \"M\", \"E\", null, \"M\", \"T\", \"T\", \"M\", \"E\", \"M\", \"M\", \"T\", \"M\", \"M\", \"M\", \"E10+\", \"M\", \"M\", \"M\", null, \"E\", \"T\", null], \"xaxis\": \"x\", \"y\": [12.76, 10.93, 4.89, 6.94, 3.68, 5.14, 4.24, 8.49, 8.03, 3.59, 4.24, 2.81, 1.95, 9.09, 3.07, 2.56, 2.28, 2.55, 3.35, 5.86, 4.37, 3.11, 2.36, 2.85, 2.65, 5.73, 3.17, 4.19, 2.79, 4.02, 3.64, 5.73, 3.0, 1.88, 3.69, 2.11, 2.11, 1.85, 3.49, 2.71, 1.34, 1.9, 3.63, 1.59, 2.16, 6.31, 1.73, 2.24, 1.95, 3.14, 1.08, 1.55, 2.35, 0.01, 2.99, 2.59, 0.99, 1.64, 2.2, 1.37, 1.55, 0.91, 1.79, 2.15, 1.69, 2.26, 1.55, 1.17, 1.11, 3.49, 1.9, 1.27, 1.45, 4.82, 0.38, 2.89, 1.48, 2.19, 3.48, 1.98, 1.72, 2.53, 1.27, 2.75, 1.11, 1.72, 1.33, 1.83, 1.85, 0.87, 0.49, 1.03, 1.33, 2.52, 1.71, 0.33, 1.08, 0.2, 1.68, 3.86], \"yaxis\": \"y\"}],\n",
       "                        {\"barmode\": \"relative\", \"height\": 600, \"legend\": {\"tracegroupgap\": 0}, \"margin\": {\"t\": 60}, \"template\": {\"data\": {\"bar\": [{\"error_x\": {\"color\": \"#2a3f5f\"}, \"error_y\": {\"color\": \"#2a3f5f\"}, \"marker\": {\"line\": {\"color\": \"#E5ECF6\", \"width\": 0.5}}, \"type\": \"bar\"}], \"barpolar\": [{\"marker\": {\"line\": {\"color\": \"#E5ECF6\", \"width\": 0.5}}, \"type\": \"barpolar\"}], \"carpet\": [{\"aaxis\": {\"endlinecolor\": \"#2a3f5f\", \"gridcolor\": \"white\", \"linecolor\": \"white\", \"minorgridcolor\": \"white\", \"startlinecolor\": \"#2a3f5f\"}, \"baxis\": {\"endlinecolor\": \"#2a3f5f\", \"gridcolor\": \"white\", \"linecolor\": \"white\", \"minorgridcolor\": \"white\", \"startlinecolor\": \"#2a3f5f\"}, \"type\": \"carpet\"}], \"choropleth\": [{\"colorbar\": {\"outlinewidth\": 0, \"ticks\": \"\"}, \"type\": \"choropleth\"}], \"contour\": [{\"colorbar\": {\"outlinewidth\": 0, \"ticks\": \"\"}, \"colorscale\": [[0.0, \"#0d0887\"], [0.1111111111111111, \"#46039f\"], [0.2222222222222222, \"#7201a8\"], [0.3333333333333333, \"#9c179e\"], [0.4444444444444444, \"#bd3786\"], [0.5555555555555556, \"#d8576b\"], [0.6666666666666666, \"#ed7953\"], [0.7777777777777778, \"#fb9f3a\"], [0.8888888888888888, \"#fdca26\"], [1.0, \"#f0f921\"]], \"type\": \"contour\"}], \"contourcarpet\": [{\"colorbar\": {\"outlinewidth\": 0, \"ticks\": \"\"}, \"type\": \"contourcarpet\"}], \"heatmap\": [{\"colorbar\": {\"outlinewidth\": 0, \"ticks\": \"\"}, \"colorscale\": [[0.0, \"#0d0887\"], [0.1111111111111111, \"#46039f\"], [0.2222222222222222, \"#7201a8\"], [0.3333333333333333, \"#9c179e\"], [0.4444444444444444, \"#bd3786\"], [0.5555555555555556, \"#d8576b\"], [0.6666666666666666, \"#ed7953\"], [0.7777777777777778, \"#fb9f3a\"], [0.8888888888888888, \"#fdca26\"], [1.0, \"#f0f921\"]], \"type\": \"heatmap\"}], \"heatmapgl\": [{\"colorbar\": {\"outlinewidth\": 0, \"ticks\": \"\"}, \"colorscale\": [[0.0, \"#0d0887\"], [0.1111111111111111, \"#46039f\"], [0.2222222222222222, \"#7201a8\"], [0.3333333333333333, \"#9c179e\"], [0.4444444444444444, \"#bd3786\"], [0.5555555555555556, \"#d8576b\"], [0.6666666666666666, \"#ed7953\"], [0.7777777777777778, \"#fb9f3a\"], [0.8888888888888888, \"#fdca26\"], [1.0, \"#f0f921\"]], \"type\": \"heatmapgl\"}], \"histogram\": [{\"marker\": {\"colorbar\": {\"outlinewidth\": 0, \"ticks\": \"\"}}, \"type\": \"histogram\"}], \"histogram2d\": [{\"colorbar\": {\"outlinewidth\": 0, \"ticks\": \"\"}, \"colorscale\": [[0.0, \"#0d0887\"], [0.1111111111111111, \"#46039f\"], [0.2222222222222222, \"#7201a8\"], [0.3333333333333333, \"#9c179e\"], [0.4444444444444444, \"#bd3786\"], [0.5555555555555556, \"#d8576b\"], [0.6666666666666666, \"#ed7953\"], [0.7777777777777778, \"#fb9f3a\"], [0.8888888888888888, \"#fdca26\"], [1.0, \"#f0f921\"]], \"type\": \"histogram2d\"}], \"histogram2dcontour\": [{\"colorbar\": {\"outlinewidth\": 0, \"ticks\": \"\"}, \"colorscale\": [[0.0, \"#0d0887\"], [0.1111111111111111, \"#46039f\"], [0.2222222222222222, \"#7201a8\"], [0.3333333333333333, \"#9c179e\"], [0.4444444444444444, \"#bd3786\"], [0.5555555555555556, \"#d8576b\"], [0.6666666666666666, \"#ed7953\"], [0.7777777777777778, \"#fb9f3a\"], [0.8888888888888888, \"#fdca26\"], [1.0, \"#f0f921\"]], \"type\": \"histogram2dcontour\"}], \"mesh3d\": [{\"colorbar\": {\"outlinewidth\": 0, \"ticks\": \"\"}, \"type\": \"mesh3d\"}], \"parcoords\": [{\"line\": {\"colorbar\": {\"outlinewidth\": 0, \"ticks\": \"\"}}, \"type\": \"parcoords\"}], \"scatter\": [{\"marker\": {\"colorbar\": {\"outlinewidth\": 0, \"ticks\": \"\"}}, \"type\": \"scatter\"}], \"scatter3d\": [{\"line\": {\"colorbar\": {\"outlinewidth\": 0, \"ticks\": \"\"}}, \"marker\": {\"colorbar\": {\"outlinewidth\": 0, \"ticks\": \"\"}}, \"type\": \"scatter3d\"}], \"scattercarpet\": [{\"marker\": {\"colorbar\": {\"outlinewidth\": 0, \"ticks\": \"\"}}, \"type\": \"scattercarpet\"}], \"scattergeo\": [{\"marker\": {\"colorbar\": {\"outlinewidth\": 0, \"ticks\": \"\"}}, \"type\": \"scattergeo\"}], \"scattergl\": [{\"marker\": {\"colorbar\": {\"outlinewidth\": 0, \"ticks\": \"\"}}, \"type\": \"scattergl\"}], \"scattermapbox\": [{\"marker\": {\"colorbar\": {\"outlinewidth\": 0, \"ticks\": \"\"}}, \"type\": \"scattermapbox\"}], \"scatterpolar\": [{\"marker\": {\"colorbar\": {\"outlinewidth\": 0, \"ticks\": \"\"}}, \"type\": \"scatterpolar\"}], \"scatterpolargl\": [{\"marker\": {\"colorbar\": {\"outlinewidth\": 0, \"ticks\": \"\"}}, \"type\": \"scatterpolargl\"}], \"scatterternary\": [{\"marker\": {\"colorbar\": {\"outlinewidth\": 0, \"ticks\": \"\"}}, \"type\": \"scatterternary\"}], \"surface\": [{\"colorbar\": {\"outlinewidth\": 0, \"ticks\": \"\"}, \"colorscale\": [[0.0, \"#0d0887\"], [0.1111111111111111, \"#46039f\"], [0.2222222222222222, \"#7201a8\"], [0.3333333333333333, \"#9c179e\"], [0.4444444444444444, \"#bd3786\"], [0.5555555555555556, \"#d8576b\"], [0.6666666666666666, \"#ed7953\"], [0.7777777777777778, \"#fb9f3a\"], [0.8888888888888888, \"#fdca26\"], [1.0, \"#f0f921\"]], \"type\": \"surface\"}], \"table\": [{\"cells\": {\"fill\": {\"color\": \"#EBF0F8\"}, \"line\": {\"color\": \"white\"}}, \"header\": {\"fill\": {\"color\": \"#C8D4E3\"}, \"line\": {\"color\": \"white\"}}, \"type\": \"table\"}]}, \"layout\": {\"annotationdefaults\": {\"arrowcolor\": \"#2a3f5f\", \"arrowhead\": 0, \"arrowwidth\": 1}, \"colorscale\": {\"diverging\": [[0, \"#8e0152\"], [0.1, \"#c51b7d\"], [0.2, \"#de77ae\"], [0.3, \"#f1b6da\"], [0.4, \"#fde0ef\"], [0.5, \"#f7f7f7\"], [0.6, \"#e6f5d0\"], [0.7, \"#b8e186\"], [0.8, \"#7fbc41\"], [0.9, \"#4d9221\"], [1, \"#276419\"]], \"sequential\": [[0.0, \"#0d0887\"], [0.1111111111111111, \"#46039f\"], [0.2222222222222222, \"#7201a8\"], [0.3333333333333333, \"#9c179e\"], [0.4444444444444444, \"#bd3786\"], [0.5555555555555556, \"#d8576b\"], [0.6666666666666666, \"#ed7953\"], [0.7777777777777778, \"#fb9f3a\"], [0.8888888888888888, \"#fdca26\"], [1.0, \"#f0f921\"]], \"sequentialminus\": [[0.0, \"#0d0887\"], [0.1111111111111111, \"#46039f\"], [0.2222222222222222, \"#7201a8\"], [0.3333333333333333, \"#9c179e\"], [0.4444444444444444, \"#bd3786\"], [0.5555555555555556, \"#d8576b\"], [0.6666666666666666, \"#ed7953\"], [0.7777777777777778, \"#fb9f3a\"], [0.8888888888888888, \"#fdca26\"], [1.0, \"#f0f921\"]]}, \"colorway\": [\"#636efa\", \"#EF553B\", \"#00cc96\", \"#ab63fa\", \"#FFA15A\", \"#19d3f3\", \"#FF6692\", \"#B6E880\", \"#FF97FF\", \"#FECB52\"], \"font\": {\"color\": \"#2a3f5f\"}, \"geo\": {\"bgcolor\": \"white\", \"lakecolor\": \"white\", \"landcolor\": \"#E5ECF6\", \"showlakes\": true, \"showland\": true, \"subunitcolor\": \"white\"}, \"hoverlabel\": {\"align\": \"left\"}, \"hovermode\": \"closest\", \"mapbox\": {\"style\": \"light\"}, \"paper_bgcolor\": \"white\", \"plot_bgcolor\": \"#E5ECF6\", \"polar\": {\"angularaxis\": {\"gridcolor\": \"white\", \"linecolor\": \"white\", \"ticks\": \"\"}, \"bgcolor\": \"#E5ECF6\", \"radialaxis\": {\"gridcolor\": \"white\", \"linecolor\": \"white\", \"ticks\": \"\"}}, \"scene\": {\"xaxis\": {\"backgroundcolor\": \"#E5ECF6\", \"gridcolor\": \"white\", \"gridwidth\": 2, \"linecolor\": \"white\", \"showbackground\": true, \"ticks\": \"\", \"zerolinecolor\": \"white\"}, \"yaxis\": {\"backgroundcolor\": \"#E5ECF6\", \"gridcolor\": \"white\", \"gridwidth\": 2, \"linecolor\": \"white\", \"showbackground\": true, \"ticks\": \"\", \"zerolinecolor\": \"white\"}, \"zaxis\": {\"backgroundcolor\": \"#E5ECF6\", \"gridcolor\": \"white\", \"gridwidth\": 2, \"linecolor\": \"white\", \"showbackground\": true, \"ticks\": \"\", \"zerolinecolor\": \"white\"}}, \"shapedefaults\": {\"line\": {\"color\": \"#2a3f5f\"}}, \"ternary\": {\"aaxis\": {\"gridcolor\": \"white\", \"linecolor\": \"white\", \"ticks\": \"\"}, \"baxis\": {\"gridcolor\": \"white\", \"linecolor\": \"white\", \"ticks\": \"\"}, \"bgcolor\": \"#E5ECF6\", \"caxis\": {\"gridcolor\": \"white\", \"linecolor\": \"white\", \"ticks\": \"\"}}, \"title\": {\"x\": 0.05}, \"xaxis\": {\"automargin\": true, \"gridcolor\": \"white\", \"linecolor\": \"white\", \"ticks\": \"\", \"zerolinecolor\": \"white\", \"zerolinewidth\": 2}, \"yaxis\": {\"automargin\": true, \"gridcolor\": \"white\", \"linecolor\": \"white\", \"ticks\": \"\", \"zerolinecolor\": \"white\", \"zerolinewidth\": 2}}}, \"xaxis\": {\"anchor\": \"y\", \"domain\": [0.0, 0.98], \"title\": {\"text\": \"rating\"}}, \"yaxis\": {\"anchor\": \"x\", \"domain\": [0.0, 1.0], \"title\": {\"text\": \"eu_sales\"}}},\n",
       "                        {\"responsive\": true}\n",
       "                    ).then(function(){\n",
       "                            \n",
       "var gd = document.getElementById('e8bfb81e-9b02-4879-9fe5-ee15657a231d');\n",
       "var x = new MutationObserver(function (mutations, observer) {{\n",
       "        var display = window.getComputedStyle(gd).display;\n",
       "        if (!display || display === 'none') {{\n",
       "            console.log([gd, 'removed!']);\n",
       "            Plotly.purge(gd);\n",
       "            observer.disconnect();\n",
       "        }}\n",
       "}});\n",
       "\n",
       "// Listen for the removal of the full notebook cells\n",
       "var notebookContainer = gd.closest('#notebook-container');\n",
       "if (notebookContainer) {{\n",
       "    x.observe(notebookContainer, {childList: true});\n",
       "}}\n",
       "\n",
       "// Listen for the clearing of the current output cell\n",
       "var outputEl = gd.closest('.output');\n",
       "if (outputEl) {{\n",
       "    x.observe(outputEl, {childList: true});\n",
       "}}\n",
       "\n",
       "                        })\n",
       "                };\n",
       "                });\n",
       "            </script>\n",
       "        </div>"
      ]
     },
     "metadata": {},
     "output_type": "display_data"
    }
   ],
   "source": [
    "top_genre = games_new.sort_values(by='rating', axis=0, ascending=False)[:1000]\n",
    "\n",
    "fig = px.bar(top_platform , \n",
    "             x='rating', \n",
    "             y='eu_sales',\n",
    "            )\n",
    "\n",
    "fig.show()"
   ]
  },
  {
   "cell_type": "markdown",
   "id": "3fbe8b6e",
   "metadata": {},
   "source": [
    "ЯПОНИЯ"
   ]
  },
  {
   "cell_type": "code",
   "execution_count": 36,
   "id": "3d7dd5a2",
   "metadata": {},
   "outputs": [
    {
     "data": {
      "text/html": [
       "<div>\n",
       "<style scoped>\n",
       "    .dataframe tbody tr th:only-of-type {\n",
       "        vertical-align: middle;\n",
       "    }\n",
       "\n",
       "    .dataframe tbody tr th {\n",
       "        vertical-align: top;\n",
       "    }\n",
       "\n",
       "    .dataframe thead th {\n",
       "        text-align: right;\n",
       "    }\n",
       "</style>\n",
       "<table border=\"1\" class=\"dataframe\">\n",
       "  <thead>\n",
       "    <tr style=\"text-align: right;\">\n",
       "      <th></th>\n",
       "      <th>platform</th>\n",
       "      <th>jp_sales</th>\n",
       "    </tr>\n",
       "  </thead>\n",
       "  <tbody>\n",
       "    <tr>\n",
       "      <td>2</td>\n",
       "      <td>DS</td>\n",
       "      <td>102.93</td>\n",
       "    </tr>\n",
       "    <tr>\n",
       "      <td>0</td>\n",
       "      <td>3DS</td>\n",
       "      <td>100.62</td>\n",
       "    </tr>\n",
       "    <tr>\n",
       "      <td>7</td>\n",
       "      <td>PS3</td>\n",
       "      <td>78.33</td>\n",
       "    </tr>\n",
       "    <tr>\n",
       "      <td>9</td>\n",
       "      <td>PSP</td>\n",
       "      <td>66.24</td>\n",
       "    </tr>\n",
       "    <tr>\n",
       "      <td>11</td>\n",
       "      <td>Wii</td>\n",
       "      <td>59.13</td>\n",
       "    </tr>\n",
       "  </tbody>\n",
       "</table>\n",
       "</div>"
      ],
      "text/plain": [
       "   platform  jp_sales\n",
       "2        DS    102.93\n",
       "0       3DS    100.62\n",
       "7       PS3     78.33\n",
       "9       PSP     66.24\n",
       "11      Wii     59.13"
      ]
     },
     "execution_count": 36,
     "metadata": {},
     "output_type": "execute_result"
    }
   ],
   "source": [
    "(games_new\n",
    " .groupby('platform')['jp_sales']\n",
    " .sum()\n",
    " .reset_index()\n",
    " .sort_values(by='jp_sales',ascending=False)\n",
    " .head(5)\n",
    ")\n",
    "\n",
    "#топ 5 в японии"
   ]
  },
  {
   "cell_type": "code",
   "execution_count": 79,
   "id": "0da0b424",
   "metadata": {},
   "outputs": [
    {
     "data": {
      "application/vnd.plotly.v1+json": {
       "config": {
        "plotlyServerURL": "https://plot.ly"
       },
       "data": [
        {
         "alignmentgroup": "True",
         "hoverlabel": {
          "namelength": 0
         },
         "hovertemplate": "platform=%{x}<br>jp_sales=%{y}",
         "legendgroup": "",
         "marker": {
          "color": "#636efa"
         },
         "name": "",
         "offsetgroup": "",
         "orientation": "v",
         "showlegend": false,
         "textposition": "auto",
         "type": "bar",
         "x": [
          "DS",
          "PSP",
          "Wii",
          "3DS",
          "DS",
          "3DS",
          "PSP",
          "DS",
          "Wii",
          "DS",
          "Wii",
          "3DS",
          "Wii",
          "3DS",
          "DS",
          "3DS",
          "3DS",
          "DS",
          "3DS",
          "3DS",
          "Wii",
          "3DS",
          "Wii",
          "Wii",
          "3DS",
          "3DS",
          "3DS",
          "3DS",
          "3DS",
          "DS",
          "3DS",
          "DS",
          "3DS",
          "PS3",
          "PSP",
          "Wii",
          "DS",
          "3DS",
          "WiiU",
          "3DS",
          "DS",
          "DS",
          "3DS",
          "3DS",
          "Wii",
          "3DS",
          "WiiU",
          "WiiU",
          "DS",
          "DS",
          "Wii",
          "DS",
          "DS",
          "3DS",
          "PS3",
          "DS",
          "Wii",
          "Wii",
          "DS",
          "Wii",
          "PS3",
          "DS",
          "3DS",
          "PSP",
          "Wii",
          "DS",
          "WiiU",
          "DS",
          "Wii",
          "DS",
          "PSP",
          "PSV",
          "PS3",
          "PS3",
          "3DS",
          "3DS",
          "PS3",
          "WiiU",
          "PS3",
          "DS",
          "PS3",
          "WiiU",
          "DS",
          "PSP",
          "PSP",
          "3DS",
          "3DS",
          "Wii",
          "PS2",
          "PS3",
          "Wii",
          "PSP",
          "DS",
          "3DS",
          "WiiU",
          "Wii",
          "DS",
          "PSP",
          "3DS",
          "PS3",
          "DS",
          "PS3",
          "Wii",
          "Wii",
          "DS",
          "Wii",
          "DS",
          "PS3",
          "3DS",
          "PS2",
          "DS",
          "PS2",
          "3DS",
          "Wii",
          "PSP",
          "3DS",
          "3DS",
          "PSP",
          "PSP",
          "DS",
          "PS3",
          "3DS",
          "DS",
          "DS",
          "DS",
          "PSP",
          "PS3",
          "Wii",
          "PS3",
          "DS",
          "PS3",
          "PS3",
          "3DS",
          "DS",
          "PS3",
          "PS3",
          "3DS",
          "3DS",
          "PS3",
          "PS3",
          "DS",
          "PS3",
          "DS",
          "3DS",
          "3DS",
          "DS",
          "3DS",
          "PS3",
          "DS",
          "PS3",
          "Wii",
          "PS3",
          "PS2",
          "PS3",
          "DS",
          "PS3",
          "3DS",
          "PS4",
          "PS3",
          "PS3",
          "DS",
          "3DS",
          "3DS",
          "3DS",
          "Wii",
          "DS",
          "3DS",
          "WiiU",
          "PS3",
          "Wii",
          "PS3",
          "PSP",
          "3DS",
          "3DS",
          "3DS",
          "PSV",
          "PS3",
          "Wii",
          "PS3",
          "PS3",
          "PS3",
          "PS3",
          "PS3",
          "DS",
          "DS",
          "DS",
          "PS2",
          "PSP",
          "3DS",
          "DS",
          "PS3",
          "PS4",
          "PS3",
          "PS3",
          "DS",
          "PSP",
          "Wii",
          "PSP",
          "DS",
          "Wii",
          "3DS",
          "WiiU",
          "DS",
          "PSP",
          "PS3",
          "PSP",
          "Wii",
          "PS3",
          "PS3",
          "Wii",
          "PS2",
          "PSP",
          "PS3",
          "PS3",
          "PSP",
          "Wii",
          "PS4",
          "PSP",
          "PSV",
          "PS3",
          "3DS",
          "PS3",
          "PS3",
          "PSP",
          "DS",
          "PS2",
          "Wii",
          "DS",
          "PSV",
          "DS",
          "PSP",
          "3DS",
          "PS4",
          "PS4",
          "PS4",
          "PS3",
          "3DS",
          "PS3",
          "3DS",
          "PS2",
          "PS3",
          "DS",
          "PSP",
          "PS3",
          "PSP",
          "3DS",
          "PS3",
          "DS",
          "3DS",
          "PS3",
          "DS",
          "PSP",
          "PS3",
          "3DS",
          "PSP",
          "DS",
          "DS",
          "PS4",
          "3DS",
          "3DS",
          "PS3",
          "3DS",
          "Wii",
          "DS",
          "DS",
          "Wii",
          "PS3",
          "DS",
          "Wii",
          "PSP",
          "PSP",
          "PS2",
          "PSV",
          "DS",
          "PSP",
          "DS",
          "Wii",
          "PS3",
          "3DS",
          "DS",
          "PS3",
          "PS3",
          "Wii",
          "DS",
          "PSP",
          "PS3",
          "PSP",
          "DS",
          "PS2",
          "PS2",
          "PSP",
          "PSP",
          "PS2",
          "3DS",
          "PS3",
          "3DS",
          "PSP",
          "DS",
          "PS3",
          "DS",
          "Wii",
          "DS",
          "PSV",
          "3DS",
          "PSV",
          "3DS",
          "DS",
          "PS2",
          "DS",
          "3DS",
          "DS",
          "DS",
          "DS",
          "PSP",
          "Wii",
          "DS",
          "Wii",
          "3DS",
          "DS",
          "Wii",
          "Wii",
          "PSP",
          "WiiU",
          "Wii",
          "PSP",
          "PS3",
          "3DS",
          "3DS",
          "PS3",
          "PS4",
          "PS3",
          "PSP",
          "3DS",
          "PS2",
          "3DS",
          "3DS",
          "Wii",
          "PS3",
          "PSP",
          "PSV",
          "PSP",
          "PSP",
          "PSP",
          "PS3",
          "DS",
          "3DS",
          "3DS",
          "PS3",
          "PSP",
          "DS",
          "DS",
          "3DS",
          "3DS",
          "3DS",
          "PS3",
          "PS3",
          "DS",
          "3DS",
          "PS3",
          "PS3",
          "Wii",
          "DS",
          "DS",
          "Wii",
          "DS",
          "PS2",
          "PS4",
          "PSP",
          "PS3",
          "PS3",
          "PSP",
          "DS",
          "PS3",
          "PSP",
          "3DS",
          "PS3",
          "PSP",
          "PS3",
          "DS",
          "PS3",
          "PS2",
          "3DS",
          "DS",
          "3DS",
          "Wii",
          "DS",
          "PS3",
          "PS2",
          "PS3",
          "3DS",
          "3DS",
          "DS",
          "PS3",
          "Wii",
          "Wii",
          "PSP",
          "Wii",
          "PSV",
          "PS2",
          "PSV",
          "Wii",
          "DS",
          "PS3",
          "DS",
          "DS",
          "X360",
          "PSP",
          "Wii",
          "Wii",
          "PS3",
          "DS",
          "PS3",
          "PSP",
          "PS3",
          "WiiU",
          "PS4",
          "PS3",
          "PS3",
          "PS2",
          "PSP",
          "PSV",
          "PS3",
          "PS3",
          "DS",
          "PSV",
          "PSP",
          "3DS",
          "DS",
          "DS",
          "PS3",
          "PSP",
          "PSV",
          "3DS",
          "PSP",
          "PS3",
          "PS4",
          "PS4",
          "PSP",
          "PSP",
          "PSP",
          "3DS",
          "PS3",
          "PS3",
          "PSP",
          "Wii",
          "PS4",
          "WiiU",
          "PSP",
          "PS3",
          "DS",
          "DS",
          "Wii",
          "PS2",
          "PSP",
          "DS",
          "DS",
          "PS3",
          "PSV",
          "3DS",
          "PS4",
          "PS3",
          "PS3",
          "DS",
          "PS3",
          "PS3",
          "X360",
          "DS",
          "3DS",
          "DS",
          "3DS",
          "PS3",
          "DS",
          "WiiU",
          "PSP",
          "3DS",
          "PS3",
          "PS3",
          "PS4",
          "PS2",
          "PSP",
          "PS3",
          "PS3",
          "PS3",
          "3DS",
          "DS",
          "X360",
          "DS",
          "PS3",
          "PS3",
          "PSP",
          "PS3",
          "PS3",
          "DS",
          "PS2",
          "3DS",
          "PSP",
          "PSP",
          "PSP",
          "PSP",
          "3DS",
          "PSP",
          "PS3",
          "PSP",
          "PSP",
          "PS3",
          "PSP",
          "PSP",
          "PSP",
          "PS3",
          "PSP",
          "3DS",
          "Wii",
          "DS",
          "DS",
          "Wii",
          "DS",
          "3DS",
          "PS3",
          "3DS",
          "DS",
          "PS4",
          "PS3",
          "DS",
          "PSP",
          "PSP",
          "PSP",
          "DS",
          "DS",
          "PSP",
          "PS2",
          "X360",
          "PS3",
          "PS3",
          "PSV",
          "WiiU",
          "PSV",
          "DS",
          "PSP",
          "DS",
          "3DS",
          "PSP",
          "PSV",
          "Wii",
          "PS3",
          "3DS",
          "Wii",
          "PS3",
          "WiiU",
          "3DS",
          "PSV",
          "Wii",
          "DS",
          "PS3",
          "DS",
          "PS3",
          "PS3",
          "Wii",
          "PSP",
          "PS3",
          "3DS",
          "PS2",
          "3DS",
          "PSV",
          "DS",
          "PSP",
          "PS3",
          "Wii",
          "PS3",
          "PS2",
          "PS3",
          "Wii",
          "X360",
          "3DS",
          "PSP",
          "PSP",
          "PSP",
          "3DS",
          "DS",
          "PSV",
          "3DS",
          "3DS",
          "DS",
          "WiiU",
          "3DS",
          "PS3",
          "PSP",
          "PS3",
          "PSP",
          "PS3",
          "WiiU",
          "PSP",
          "DS",
          "PSP",
          "PSV",
          "PSV",
          "PSV",
          "PS2",
          "PS4",
          "PS4",
          "Wii",
          "3DS",
          "PS3",
          "PSV",
          "3DS",
          "PS2",
          "DS",
          "Wii",
          "DS",
          "Wii",
          "PS3",
          "PS3",
          "PS2",
          "3DS",
          "PSP",
          "WiiU",
          "PSP",
          "DS",
          "PSP",
          "PSP",
          "PSP",
          "DS",
          "DS",
          "DS",
          "PSP",
          "PS3",
          "3DS",
          "DS",
          "PS4",
          "PS4",
          "PS2",
          "PS3",
          "DS",
          "PSP",
          "Wii",
          "PS3",
          "3DS",
          "PSP",
          "PSP",
          "DS",
          "PSP",
          "3DS",
          "PS4",
          "PSP",
          "DS",
          "PSP",
          "DS",
          "3DS",
          "PS3",
          "PSP",
          "PSV",
          "3DS",
          "PS3",
          "PSP",
          "3DS",
          "DS",
          "DS",
          "PS3",
          "PS4",
          "WiiU",
          "3DS",
          "DS",
          "PSV",
          "DS",
          "PS2",
          "PSP",
          "PS3",
          "PSV",
          "PSV",
          "PSP",
          "Wii",
          "PS3",
          "PS4",
          "Wii",
          "PS4",
          "PSP",
          "PS4",
          "DS",
          "PS3",
          "PSV",
          "PS3",
          "PS4",
          "3DS",
          "DS",
          "PS3",
          "PS3",
          "3DS",
          "X360",
          "Wii",
          "PSV",
          "PSP",
          "3DS",
          "PS4",
          "PSP",
          "3DS",
          "PS3",
          "PS3",
          "PS3",
          "3DS",
          "PS3",
          "PSV",
          "PSP",
          "PSP",
          "PS2",
          "PSV",
          "PS3",
          "PSV",
          "PSP",
          "PS3",
          "PS4",
          "PSP",
          "DS",
          "X360",
          "DS",
          "DS",
          "DS",
          "DS",
          "3DS",
          "3DS",
          "Wii",
          "DS",
          "PS3",
          "PS3",
          "PS3",
          "PS3",
          "DS",
          "3DS",
          "PSP",
          "PSP",
          "3DS",
          "DS",
          "PSP",
          "PSP",
          "DS",
          "PSP",
          "PSP",
          "PS2",
          "PS3",
          "PS3",
          "3DS",
          "PSP",
          "PS3",
          "3DS",
          "DS",
          "PS3",
          "PS4",
          "PS3",
          "PS4",
          "PSP",
          "Wii",
          "PS3",
          "DS",
          "DS",
          "PSP",
          "WiiU",
          "PS3",
          "PSP",
          "PS3",
          "WiiU",
          "PSV",
          "X360",
          "WiiU",
          "Wii",
          "3DS",
          "DS",
          "PS3",
          "PS4",
          "PS4",
          "PS3",
          "Wii",
          "PS3",
          "3DS",
          "3DS",
          "PSP",
          "PSP",
          "PSV",
          "PS3",
          "3DS",
          "PSP",
          "PSP",
          "DS",
          "DS",
          "PS3",
          "PSP",
          "PS3",
          "3DS",
          "X360",
          "3DS",
          "3DS",
          "PSP",
          "WiiU",
          "Wii",
          "PS3",
          "Wii",
          "3DS",
          "WiiU",
          "PS3",
          "DS",
          "X360",
          "DS",
          "PS4",
          "PS3",
          "3DS",
          "PS2",
          "PSP",
          "PS3",
          "PS2",
          "3DS",
          "DS",
          "DS",
          "X360",
          "DS",
          "3DS",
          "PSP",
          "3DS",
          "PSP",
          "X360",
          "PSP",
          "PS2",
          "PS3",
          "DS",
          "DS",
          "PS3",
          "PS3",
          "PSV",
          "PSP",
          "DS",
          "Wii",
          "PS3",
          "PS2",
          "PSP",
          "PSV",
          "PS2",
          "DS",
          "Wii",
          "PS3",
          "DS",
          "PSV",
          "PSV",
          "PS3",
          "WiiU",
          "3DS",
          "PS2",
          "PSV",
          "3DS",
          "DS",
          "Wii",
          "WiiU",
          "PS3",
          "DS",
          "PS3",
          "PSP",
          "DS",
          "PS3",
          "PSV",
          "PS3",
          "PSP",
          "PS2",
          "PSP",
          "3DS",
          "PSV",
          "X360",
          "PS3",
          "3DS",
          "3DS",
          "3DS",
          "PSP",
          "WiiU",
          "PSP",
          "DS",
          "PS3",
          "DS",
          "3DS",
          "3DS",
          "DS",
          "DS",
          "PS3",
          "PSV",
          "DS",
          "DS",
          "DS",
          "PS2",
          "DS",
          "PS3",
          "PSP",
          "DS",
          "PSP",
          "PSV",
          "DS",
          "PSV",
          "Wii",
          "PSV",
          "PSV",
          "PS4",
          "PS3",
          "DS",
          "DS",
          "3DS",
          "X360",
          "PS3",
          "PSP",
          "PSP",
          "PSP",
          "DS",
          "PSP",
          "PSP",
          "PS3",
          "DS",
          "PS3",
          "DS",
          "PS2",
          "PS4",
          "PSP",
          "DS",
          "PSV",
          "PSP",
          "PSV",
          "Wii",
          "PSP",
          "PS4",
          "PSV",
          "DS",
          "PSV",
          "X360",
          "PSP",
          "3DS",
          "PSP",
          "WiiU",
          "DS",
          "PS3",
          "DS",
          "PS2",
          "DS",
          "3DS",
          "PSP",
          "DS",
          "DS",
          "PSP",
          "3DS",
          "PS2",
          "PSP",
          "X360",
          "PSP",
          "PS3",
          "PS3",
          "Wii",
          "PSP",
          "PS3",
          "3DS",
          "3DS",
          "PSP",
          "PSP",
          "PSP",
          "PSP",
          "PSP",
          "PSP",
          "PSP",
          "DS",
          "3DS",
          "PSP",
          "DS",
          "PS3",
          "3DS",
          "Wii",
          "PS3",
          "PS2",
          "PS3",
          "WiiU",
          "PS4",
          "PSP",
          "PS2",
          "DS",
          "PS3",
          "PS3",
          "PS3",
          "PSV",
          "WiiU",
          "PS3",
          "PS3",
          "DS",
          "Wii",
          "PS3",
          "PS4",
          "DS",
          "PS4",
          "PS4",
          "PS4",
          "PS3",
          "Wii",
          "PS3",
          "PS4",
          "PS3",
          "PS3",
          "Wii",
          "Wii",
          "3DS",
          "PS3",
          "Wii",
          "3DS",
          "PS2",
          "Wii"
         ],
         "xaxis": "x",
         "y": [
          5.65,
          4.87,
          4.7,
          4.39,
          4.35,
          4.35,
          4.13,
          3.96,
          3.79,
          3.67,
          3.6,
          3.44,
          3.28,
          3.18,
          3.14,
          3.1,
          2.79,
          2.69,
          2.69,
          2.68,
          2.66,
          2.62,
          2.53,
          2.49,
          2.47,
          2.43,
          2.29,
          2.26,
          2.14,
          1.98,
          1.96,
          1.93,
          1.9,
          1.87,
          1.75,
          1.58,
          1.54,
          1.51,
          1.46,
          1.4,
          1.36,
          1.35,
          1.33,
          1.33,
          1.32,
          1.3,
          1.28,
          1.27,
          1.27,
          1.24,
          1.2,
          1.19,
          1.18,
          1.11,
          1.08,
          1.05,
          1.05,
          1.03,
          1.03,
          0.98,
          0.98,
          0.96,
          0.96,
          0.96,
          0.96,
          0.95,
          0.94,
          0.93,
          0.92,
          0.92,
          0.91,
          0.9,
          0.89,
          0.88,
          0.87,
          0.86,
          0.86,
          0.84,
          0.83,
          0.82,
          0.81,
          0.81,
          0.81,
          0.81,
          0.8,
          0.79,
          0.79,
          0.79,
          0.76,
          0.76,
          0.76,
          0.75,
          0.74,
          0.73,
          0.73,
          0.73,
          0.73,
          0.72,
          0.72,
          0.72,
          0.68,
          0.67,
          0.67,
          0.66,
          0.66,
          0.66,
          0.65,
          0.65,
          0.64,
          0.64,
          0.64,
          0.64,
          0.63,
          0.63,
          0.63,
          0.63,
          0.62,
          0.62,
          0.62,
          0.62,
          0.62,
          0.62,
          0.62,
          0.62,
          0.61,
          0.6,
          0.59,
          0.59,
          0.58,
          0.58,
          0.57,
          0.57,
          0.56,
          0.56,
          0.55,
          0.55,
          0.55,
          0.54,
          0.54,
          0.54,
          0.54,
          0.54,
          0.54,
          0.53,
          0.53,
          0.53,
          0.52,
          0.51,
          0.51,
          0.5,
          0.5,
          0.5,
          0.5,
          0.49,
          0.49,
          0.49,
          0.49,
          0.49,
          0.49,
          0.48,
          0.48,
          0.48,
          0.47,
          0.47,
          0.47,
          0.47,
          0.47,
          0.46,
          0.46,
          0.46,
          0.46,
          0.46,
          0.46,
          0.46,
          0.46,
          0.45,
          0.45,
          0.45,
          0.45,
          0.45,
          0.45,
          0.44,
          0.44,
          0.44,
          0.44,
          0.44,
          0.44,
          0.42,
          0.42,
          0.42,
          0.42,
          0.42,
          0.42,
          0.42,
          0.42,
          0.42,
          0.42,
          0.41,
          0.41,
          0.41,
          0.41,
          0.41,
          0.41,
          0.41,
          0.41,
          0.41,
          0.41,
          0.4,
          0.4,
          0.4,
          0.4,
          0.4,
          0.4,
          0.4,
          0.39,
          0.39,
          0.38,
          0.38,
          0.38,
          0.38,
          0.38,
          0.38,
          0.38,
          0.38,
          0.38,
          0.38,
          0.37,
          0.37,
          0.37,
          0.37,
          0.37,
          0.37,
          0.37,
          0.37,
          0.36,
          0.36,
          0.36,
          0.36,
          0.36,
          0.36,
          0.36,
          0.36,
          0.36,
          0.36,
          0.36,
          0.35,
          0.35,
          0.35,
          0.35,
          0.35,
          0.35,
          0.34,
          0.34,
          0.34,
          0.34,
          0.34,
          0.34,
          0.34,
          0.34,
          0.34,
          0.34,
          0.34,
          0.33,
          0.33,
          0.33,
          0.33,
          0.33,
          0.33,
          0.33,
          0.33,
          0.33,
          0.33,
          0.32,
          0.32,
          0.32,
          0.32,
          0.32,
          0.32,
          0.32,
          0.32,
          0.32,
          0.32,
          0.32,
          0.31,
          0.31,
          0.31,
          0.31,
          0.31,
          0.31,
          0.31,
          0.31,
          0.31,
          0.31,
          0.31,
          0.3,
          0.3,
          0.3,
          0.3,
          0.3,
          0.3,
          0.3,
          0.3,
          0.3,
          0.3,
          0.3,
          0.3,
          0.3,
          0.3,
          0.3,
          0.3,
          0.3,
          0.3,
          0.29,
          0.29,
          0.29,
          0.29,
          0.29,
          0.29,
          0.29,
          0.29,
          0.29,
          0.29,
          0.29,
          0.29,
          0.29,
          0.28,
          0.28,
          0.28,
          0.28,
          0.28,
          0.28,
          0.28,
          0.28,
          0.28,
          0.28,
          0.28,
          0.28,
          0.28,
          0.28,
          0.28,
          0.27,
          0.27,
          0.27,
          0.27,
          0.27,
          0.27,
          0.27,
          0.27,
          0.27,
          0.27,
          0.27,
          0.27,
          0.27,
          0.27,
          0.27,
          0.27,
          0.27,
          0.27,
          0.27,
          0.27,
          0.27,
          0.27,
          0.27,
          0.27,
          0.26,
          0.26,
          0.26,
          0.26,
          0.26,
          0.26,
          0.26,
          0.26,
          0.26,
          0.26,
          0.26,
          0.26,
          0.26,
          0.26,
          0.26,
          0.26,
          0.26,
          0.26,
          0.26,
          0.26,
          0.26,
          0.26,
          0.26,
          0.25,
          0.25,
          0.25,
          0.25,
          0.25,
          0.25,
          0.25,
          0.25,
          0.25,
          0.25,
          0.25,
          0.25,
          0.25,
          0.25,
          0.25,
          0.25,
          0.24,
          0.24,
          0.24,
          0.24,
          0.24,
          0.24,
          0.24,
          0.24,
          0.24,
          0.24,
          0.24,
          0.24,
          0.24,
          0.24,
          0.24,
          0.24,
          0.24,
          0.23,
          0.23,
          0.23,
          0.23,
          0.23,
          0.23,
          0.23,
          0.23,
          0.23,
          0.23,
          0.23,
          0.23,
          0.23,
          0.23,
          0.23,
          0.23,
          0.23,
          0.22,
          0.22,
          0.22,
          0.22,
          0.22,
          0.22,
          0.22,
          0.22,
          0.22,
          0.22,
          0.22,
          0.22,
          0.22,
          0.22,
          0.22,
          0.22,
          0.22,
          0.22,
          0.22,
          0.22,
          0.22,
          0.22,
          0.22,
          0.22,
          0.22,
          0.22,
          0.22,
          0.22,
          0.22,
          0.21,
          0.21,
          0.21,
          0.21,
          0.21,
          0.21,
          0.21,
          0.21,
          0.21,
          0.21,
          0.21,
          0.21,
          0.21,
          0.21,
          0.21,
          0.21,
          0.21,
          0.21,
          0.21,
          0.21,
          0.21,
          0.21,
          0.21,
          0.2,
          0.2,
          0.2,
          0.2,
          0.2,
          0.2,
          0.2,
          0.2,
          0.2,
          0.2,
          0.2,
          0.2,
          0.2,
          0.2,
          0.2,
          0.2,
          0.2,
          0.2,
          0.2,
          0.2,
          0.2,
          0.2,
          0.2,
          0.2,
          0.2,
          0.2,
          0.2,
          0.2,
          0.2,
          0.19,
          0.19,
          0.19,
          0.19,
          0.19,
          0.19,
          0.19,
          0.19,
          0.19,
          0.19,
          0.19,
          0.19,
          0.19,
          0.19,
          0.19,
          0.19,
          0.19,
          0.19,
          0.19,
          0.19,
          0.19,
          0.19,
          0.19,
          0.19,
          0.19,
          0.19,
          0.19,
          0.19,
          0.19,
          0.19,
          0.19,
          0.19,
          0.19,
          0.19,
          0.19,
          0.19,
          0.19,
          0.19,
          0.19,
          0.19,
          0.19,
          0.19,
          0.19,
          0.19,
          0.19,
          0.19,
          0.18,
          0.18,
          0.18,
          0.18,
          0.18,
          0.18,
          0.18,
          0.18,
          0.18,
          0.18,
          0.18,
          0.18,
          0.18,
          0.18,
          0.18,
          0.18,
          0.18,
          0.18,
          0.18,
          0.18,
          0.18,
          0.18,
          0.18,
          0.18,
          0.18,
          0.18,
          0.18,
          0.18,
          0.18,
          0.17,
          0.17,
          0.17,
          0.17,
          0.17,
          0.17,
          0.17,
          0.17,
          0.17,
          0.17,
          0.17,
          0.17,
          0.17,
          0.17,
          0.17,
          0.17,
          0.17,
          0.17,
          0.17,
          0.17,
          0.17,
          0.17,
          0.17,
          0.17,
          0.17,
          0.17,
          0.17,
          0.17,
          0.17,
          0.17,
          0.17,
          0.17,
          0.17,
          0.17,
          0.17,
          0.17,
          0.17,
          0.17,
          0.17,
          0.16,
          0.16,
          0.16,
          0.16,
          0.16,
          0.16,
          0.16,
          0.16,
          0.16,
          0.16,
          0.16,
          0.16,
          0.16,
          0.16,
          0.16,
          0.16,
          0.16,
          0.16,
          0.16,
          0.16,
          0.16,
          0.16,
          0.16,
          0.16,
          0.16,
          0.16,
          0.16,
          0.16,
          0.16,
          0.16,
          0.16,
          0.16,
          0.16,
          0.16,
          0.16,
          0.16,
          0.15,
          0.15,
          0.15,
          0.15,
          0.15,
          0.15,
          0.15,
          0.15,
          0.15,
          0.15,
          0.15,
          0.15,
          0.15,
          0.15,
          0.15,
          0.15,
          0.15,
          0.15,
          0.15,
          0.15,
          0.15,
          0.15,
          0.15,
          0.15,
          0.15,
          0.15,
          0.15,
          0.15,
          0.15,
          0.15,
          0.15,
          0.15,
          0.15,
          0.15,
          0.15,
          0.15,
          0.15,
          0.15,
          0.15,
          0.15,
          0.15,
          0.15,
          0.15,
          0.15,
          0.15,
          0.15,
          0.15,
          0.14,
          0.14,
          0.14,
          0.14,
          0.14,
          0.14,
          0.14,
          0.14,
          0.14,
          0.14,
          0.14,
          0.14,
          0.14,
          0.14,
          0.14,
          0.14,
          0.14,
          0.14,
          0.14,
          0.14,
          0.14,
          0.14,
          0.14,
          0.14,
          0.14,
          0.14,
          0.14,
          0.14,
          0.14,
          0.14,
          0.14,
          0.14,
          0.14,
          0.14,
          0.14,
          0.14,
          0.14,
          0.14,
          0.14,
          0.14,
          0.14,
          0.14,
          0.14,
          0.14,
          0.14,
          0.14,
          0.14,
          0.14,
          0.14,
          0.14,
          0.14,
          0.14,
          0.14,
          0.14,
          0.14,
          0.14,
          0.14,
          0.13,
          0.13,
          0.13,
          0.13,
          0.13,
          0.13,
          0.13,
          0.13,
          0.13,
          0.13,
          0.13,
          0.13,
          0.13,
          0.13,
          0.13,
          0.13,
          0.13,
          0.13,
          0.13,
          0.13,
          0.13,
          0.13,
          0.13,
          0.13,
          0.13,
          0.13,
          0.13,
          0.13,
          0.13,
          0.13,
          0.13,
          0.13,
          0.13,
          0.13,
          0.13,
          0.13,
          0.13,
          0.13,
          0.13,
          0.13,
          0.13,
          0.13,
          0.13,
          0.13,
          0.13,
          0.13,
          0.13,
          0.13,
          0.13,
          0.13,
          0.13,
          0.13,
          0.13,
          0.13,
          0.13,
          0.13,
          0.13,
          0.13,
          0.13,
          0.13,
          0.13,
          0.13,
          0.13,
          0.13,
          0.13,
          0.13,
          0.13,
          0.13,
          0.13,
          0.13,
          0.13,
          0.13,
          0.13,
          0.12,
          0.12,
          0.12,
          0.12,
          0.12,
          0.12,
          0.12,
          0.12,
          0.12,
          0.12,
          0.12,
          0.12,
          0.12,
          0.12,
          0.12,
          0.12,
          0.12,
          0.12,
          0.12,
          0.12,
          0.12,
          0.12,
          0.12,
          0.12,
          0.12,
          0.12,
          0.12,
          0.12,
          0.12,
          0.12,
          0.12,
          0.12,
          0.12,
          0.12,
          0.12,
          0.12,
          0.12,
          0.12,
          0.12,
          0.12,
          0.12,
          0.12,
          0.12,
          0.12,
          0.12,
          0.12,
          0.12,
          0.12,
          0.12,
          0.12,
          0.12,
          0.12,
          0.12,
          0.12,
          0.12,
          0.12,
          0.12,
          0.12,
          0.12,
          0.12,
          0.12,
          0.12,
          0.12,
          0.12,
          0.12,
          0.12,
          0.12,
          0.12,
          0.12,
          0.12,
          0.12,
          0.12,
          0.12,
          0.11,
          0.11,
          0.11,
          0.11,
          0.11,
          0.11,
          0.11,
          0.11,
          0.11,
          0.11,
          0.11,
          0.11,
          0.11,
          0.11,
          0.11,
          0.11,
          0.11,
          0.11,
          0.11,
          0.11,
          0.11,
          0.11,
          0.11,
          0.11,
          0.11,
          0.11,
          0.11,
          0.11,
          0.11,
          0.11,
          0.11,
          0.11,
          0.11,
          0.11,
          0.11,
          0.11,
          0.11,
          0.11,
          0.11,
          0.11,
          0.11,
          0.11,
          0.11,
          0.11,
          0.11,
          0.11,
          0.11,
          0.11,
          0.11,
          0.11,
          0.11,
          0.11,
          0.11,
          0.11,
          0.11,
          0.11,
          0.11,
          0.11,
          0.11,
          0.11,
          0.11,
          0.11,
          0.11,
          0.11,
          0.11,
          0.11,
          0.11,
          0.11,
          0.11,
          0.11,
          0.11,
          0.11,
          0.11,
          0.11,
          0.11,
          0.11,
          0.11,
          0.11,
          0.11,
          0.11,
          0.11,
          0.11
         ],
         "yaxis": "y"
        }
       ],
       "layout": {
        "barmode": "relative",
        "height": 600,
        "legend": {
         "tracegroupgap": 0
        },
        "margin": {
         "t": 60
        },
        "template": {
         "data": {
          "bar": [
           {
            "error_x": {
             "color": "#2a3f5f"
            },
            "error_y": {
             "color": "#2a3f5f"
            },
            "marker": {
             "line": {
              "color": "#E5ECF6",
              "width": 0.5
             }
            },
            "type": "bar"
           }
          ],
          "barpolar": [
           {
            "marker": {
             "line": {
              "color": "#E5ECF6",
              "width": 0.5
             }
            },
            "type": "barpolar"
           }
          ],
          "carpet": [
           {
            "aaxis": {
             "endlinecolor": "#2a3f5f",
             "gridcolor": "white",
             "linecolor": "white",
             "minorgridcolor": "white",
             "startlinecolor": "#2a3f5f"
            },
            "baxis": {
             "endlinecolor": "#2a3f5f",
             "gridcolor": "white",
             "linecolor": "white",
             "minorgridcolor": "white",
             "startlinecolor": "#2a3f5f"
            },
            "type": "carpet"
           }
          ],
          "choropleth": [
           {
            "colorbar": {
             "outlinewidth": 0,
             "ticks": ""
            },
            "type": "choropleth"
           }
          ],
          "contour": [
           {
            "colorbar": {
             "outlinewidth": 0,
             "ticks": ""
            },
            "colorscale": [
             [
              0,
              "#0d0887"
             ],
             [
              0.1111111111,
              "#46039f"
             ],
             [
              0.2222222222,
              "#7201a8"
             ],
             [
              0.3333333333,
              "#9c179e"
             ],
             [
              0.4444444444,
              "#bd3786"
             ],
             [
              0.5555555556,
              "#d8576b"
             ],
             [
              0.6666666667,
              "#ed7953"
             ],
             [
              0.7777777778,
              "#fb9f3a"
             ],
             [
              0.8888888889,
              "#fdca26"
             ],
             [
              1,
              "#f0f921"
             ]
            ],
            "type": "contour"
           }
          ],
          "contourcarpet": [
           {
            "colorbar": {
             "outlinewidth": 0,
             "ticks": ""
            },
            "type": "contourcarpet"
           }
          ],
          "heatmap": [
           {
            "colorbar": {
             "outlinewidth": 0,
             "ticks": ""
            },
            "colorscale": [
             [
              0,
              "#0d0887"
             ],
             [
              0.1111111111,
              "#46039f"
             ],
             [
              0.2222222222,
              "#7201a8"
             ],
             [
              0.3333333333,
              "#9c179e"
             ],
             [
              0.4444444444,
              "#bd3786"
             ],
             [
              0.5555555556,
              "#d8576b"
             ],
             [
              0.6666666667,
              "#ed7953"
             ],
             [
              0.7777777778,
              "#fb9f3a"
             ],
             [
              0.8888888889,
              "#fdca26"
             ],
             [
              1,
              "#f0f921"
             ]
            ],
            "type": "heatmap"
           }
          ],
          "heatmapgl": [
           {
            "colorbar": {
             "outlinewidth": 0,
             "ticks": ""
            },
            "colorscale": [
             [
              0,
              "#0d0887"
             ],
             [
              0.1111111111,
              "#46039f"
             ],
             [
              0.2222222222,
              "#7201a8"
             ],
             [
              0.3333333333,
              "#9c179e"
             ],
             [
              0.4444444444,
              "#bd3786"
             ],
             [
              0.5555555556,
              "#d8576b"
             ],
             [
              0.6666666667,
              "#ed7953"
             ],
             [
              0.7777777778,
              "#fb9f3a"
             ],
             [
              0.8888888889,
              "#fdca26"
             ],
             [
              1,
              "#f0f921"
             ]
            ],
            "type": "heatmapgl"
           }
          ],
          "histogram": [
           {
            "marker": {
             "colorbar": {
              "outlinewidth": 0,
              "ticks": ""
             }
            },
            "type": "histogram"
           }
          ],
          "histogram2d": [
           {
            "colorbar": {
             "outlinewidth": 0,
             "ticks": ""
            },
            "colorscale": [
             [
              0,
              "#0d0887"
             ],
             [
              0.1111111111,
              "#46039f"
             ],
             [
              0.2222222222,
              "#7201a8"
             ],
             [
              0.3333333333,
              "#9c179e"
             ],
             [
              0.4444444444,
              "#bd3786"
             ],
             [
              0.5555555556,
              "#d8576b"
             ],
             [
              0.6666666667,
              "#ed7953"
             ],
             [
              0.7777777778,
              "#fb9f3a"
             ],
             [
              0.8888888889,
              "#fdca26"
             ],
             [
              1,
              "#f0f921"
             ]
            ],
            "type": "histogram2d"
           }
          ],
          "histogram2dcontour": [
           {
            "colorbar": {
             "outlinewidth": 0,
             "ticks": ""
            },
            "colorscale": [
             [
              0,
              "#0d0887"
             ],
             [
              0.1111111111,
              "#46039f"
             ],
             [
              0.2222222222,
              "#7201a8"
             ],
             [
              0.3333333333,
              "#9c179e"
             ],
             [
              0.4444444444,
              "#bd3786"
             ],
             [
              0.5555555556,
              "#d8576b"
             ],
             [
              0.6666666667,
              "#ed7953"
             ],
             [
              0.7777777778,
              "#fb9f3a"
             ],
             [
              0.8888888889,
              "#fdca26"
             ],
             [
              1,
              "#f0f921"
             ]
            ],
            "type": "histogram2dcontour"
           }
          ],
          "mesh3d": [
           {
            "colorbar": {
             "outlinewidth": 0,
             "ticks": ""
            },
            "type": "mesh3d"
           }
          ],
          "parcoords": [
           {
            "line": {
             "colorbar": {
              "outlinewidth": 0,
              "ticks": ""
             }
            },
            "type": "parcoords"
           }
          ],
          "scatter": [
           {
            "marker": {
             "colorbar": {
              "outlinewidth": 0,
              "ticks": ""
             }
            },
            "type": "scatter"
           }
          ],
          "scatter3d": [
           {
            "line": {
             "colorbar": {
              "outlinewidth": 0,
              "ticks": ""
             }
            },
            "marker": {
             "colorbar": {
              "outlinewidth": 0,
              "ticks": ""
             }
            },
            "type": "scatter3d"
           }
          ],
          "scattercarpet": [
           {
            "marker": {
             "colorbar": {
              "outlinewidth": 0,
              "ticks": ""
             }
            },
            "type": "scattercarpet"
           }
          ],
          "scattergeo": [
           {
            "marker": {
             "colorbar": {
              "outlinewidth": 0,
              "ticks": ""
             }
            },
            "type": "scattergeo"
           }
          ],
          "scattergl": [
           {
            "marker": {
             "colorbar": {
              "outlinewidth": 0,
              "ticks": ""
             }
            },
            "type": "scattergl"
           }
          ],
          "scattermapbox": [
           {
            "marker": {
             "colorbar": {
              "outlinewidth": 0,
              "ticks": ""
             }
            },
            "type": "scattermapbox"
           }
          ],
          "scatterpolar": [
           {
            "marker": {
             "colorbar": {
              "outlinewidth": 0,
              "ticks": ""
             }
            },
            "type": "scatterpolar"
           }
          ],
          "scatterpolargl": [
           {
            "marker": {
             "colorbar": {
              "outlinewidth": 0,
              "ticks": ""
             }
            },
            "type": "scatterpolargl"
           }
          ],
          "scatterternary": [
           {
            "marker": {
             "colorbar": {
              "outlinewidth": 0,
              "ticks": ""
             }
            },
            "type": "scatterternary"
           }
          ],
          "surface": [
           {
            "colorbar": {
             "outlinewidth": 0,
             "ticks": ""
            },
            "colorscale": [
             [
              0,
              "#0d0887"
             ],
             [
              0.1111111111,
              "#46039f"
             ],
             [
              0.2222222222,
              "#7201a8"
             ],
             [
              0.3333333333,
              "#9c179e"
             ],
             [
              0.4444444444,
              "#bd3786"
             ],
             [
              0.5555555556,
              "#d8576b"
             ],
             [
              0.6666666667,
              "#ed7953"
             ],
             [
              0.7777777778,
              "#fb9f3a"
             ],
             [
              0.8888888889,
              "#fdca26"
             ],
             [
              1,
              "#f0f921"
             ]
            ],
            "type": "surface"
           }
          ],
          "table": [
           {
            "cells": {
             "fill": {
              "color": "#EBF0F8"
             },
             "line": {
              "color": "white"
             }
            },
            "header": {
             "fill": {
              "color": "#C8D4E3"
             },
             "line": {
              "color": "white"
             }
            },
            "type": "table"
           }
          ]
         },
         "layout": {
          "annotationdefaults": {
           "arrowcolor": "#2a3f5f",
           "arrowhead": 0,
           "arrowwidth": 1
          },
          "colorscale": {
           "diverging": [
            [
             0,
             "#8e0152"
            ],
            [
             0.1,
             "#c51b7d"
            ],
            [
             0.2,
             "#de77ae"
            ],
            [
             0.3,
             "#f1b6da"
            ],
            [
             0.4,
             "#fde0ef"
            ],
            [
             0.5,
             "#f7f7f7"
            ],
            [
             0.6,
             "#e6f5d0"
            ],
            [
             0.7,
             "#b8e186"
            ],
            [
             0.8,
             "#7fbc41"
            ],
            [
             0.9,
             "#4d9221"
            ],
            [
             1,
             "#276419"
            ]
           ],
           "sequential": [
            [
             0,
             "#0d0887"
            ],
            [
             0.1111111111,
             "#46039f"
            ],
            [
             0.2222222222,
             "#7201a8"
            ],
            [
             0.3333333333,
             "#9c179e"
            ],
            [
             0.4444444444,
             "#bd3786"
            ],
            [
             0.5555555556,
             "#d8576b"
            ],
            [
             0.6666666667,
             "#ed7953"
            ],
            [
             0.7777777778,
             "#fb9f3a"
            ],
            [
             0.8888888889,
             "#fdca26"
            ],
            [
             1,
             "#f0f921"
            ]
           ],
           "sequentialminus": [
            [
             0,
             "#0d0887"
            ],
            [
             0.1111111111,
             "#46039f"
            ],
            [
             0.2222222222,
             "#7201a8"
            ],
            [
             0.3333333333,
             "#9c179e"
            ],
            [
             0.4444444444,
             "#bd3786"
            ],
            [
             0.5555555556,
             "#d8576b"
            ],
            [
             0.6666666667,
             "#ed7953"
            ],
            [
             0.7777777778,
             "#fb9f3a"
            ],
            [
             0.8888888889,
             "#fdca26"
            ],
            [
             1,
             "#f0f921"
            ]
           ]
          },
          "colorway": [
           "#636efa",
           "#EF553B",
           "#00cc96",
           "#ab63fa",
           "#FFA15A",
           "#19d3f3",
           "#FF6692",
           "#B6E880",
           "#FF97FF",
           "#FECB52"
          ],
          "font": {
           "color": "#2a3f5f"
          },
          "geo": {
           "bgcolor": "white",
           "lakecolor": "white",
           "landcolor": "#E5ECF6",
           "showlakes": true,
           "showland": true,
           "subunitcolor": "white"
          },
          "hoverlabel": {
           "align": "left"
          },
          "hovermode": "closest",
          "mapbox": {
           "style": "light"
          },
          "paper_bgcolor": "white",
          "plot_bgcolor": "#E5ECF6",
          "polar": {
           "angularaxis": {
            "gridcolor": "white",
            "linecolor": "white",
            "ticks": ""
           },
           "bgcolor": "#E5ECF6",
           "radialaxis": {
            "gridcolor": "white",
            "linecolor": "white",
            "ticks": ""
           }
          },
          "scene": {
           "xaxis": {
            "backgroundcolor": "#E5ECF6",
            "gridcolor": "white",
            "gridwidth": 2,
            "linecolor": "white",
            "showbackground": true,
            "ticks": "",
            "zerolinecolor": "white"
           },
           "yaxis": {
            "backgroundcolor": "#E5ECF6",
            "gridcolor": "white",
            "gridwidth": 2,
            "linecolor": "white",
            "showbackground": true,
            "ticks": "",
            "zerolinecolor": "white"
           },
           "zaxis": {
            "backgroundcolor": "#E5ECF6",
            "gridcolor": "white",
            "gridwidth": 2,
            "linecolor": "white",
            "showbackground": true,
            "ticks": "",
            "zerolinecolor": "white"
           }
          },
          "shapedefaults": {
           "line": {
            "color": "#2a3f5f"
           }
          },
          "ternary": {
           "aaxis": {
            "gridcolor": "white",
            "linecolor": "white",
            "ticks": ""
           },
           "baxis": {
            "gridcolor": "white",
            "linecolor": "white",
            "ticks": ""
           },
           "bgcolor": "#E5ECF6",
           "caxis": {
            "gridcolor": "white",
            "linecolor": "white",
            "ticks": ""
           }
          },
          "title": {
           "x": 0.05
          },
          "xaxis": {
           "automargin": true,
           "gridcolor": "white",
           "linecolor": "white",
           "ticks": "",
           "zerolinecolor": "white",
           "zerolinewidth": 2
          },
          "yaxis": {
           "automargin": true,
           "gridcolor": "white",
           "linecolor": "white",
           "ticks": "",
           "zerolinecolor": "white",
           "zerolinewidth": 2
          }
         }
        },
        "xaxis": {
         "anchor": "y",
         "domain": [
          0,
          0.98
         ],
         "title": {
          "text": "platform"
         }
        },
        "yaxis": {
         "anchor": "x",
         "domain": [
          0,
          1
         ],
         "title": {
          "text": "jp_sales"
         }
        }
       }
      },
      "text/html": [
       "<div>\n",
       "        \n",
       "        \n",
       "            <div id=\"09430690-c78c-4c26-876d-7b4acae1be41\" class=\"plotly-graph-div\" style=\"height:600px; width:100%;\"></div>\n",
       "            <script type=\"text/javascript\">\n",
       "                require([\"plotly\"], function(Plotly) {\n",
       "                    window.PLOTLYENV=window.PLOTLYENV || {};\n",
       "                    \n",
       "                if (document.getElementById(\"09430690-c78c-4c26-876d-7b4acae1be41\")) {\n",
       "                    Plotly.newPlot(\n",
       "                        '09430690-c78c-4c26-876d-7b4acae1be41',\n",
       "                        [{\"alignmentgroup\": \"True\", \"hoverlabel\": {\"namelength\": 0}, \"hovertemplate\": \"platform=%{x}<br>jp_sales=%{y}\", \"legendgroup\": \"\", \"marker\": {\"color\": \"#636efa\"}, \"name\": \"\", \"offsetgroup\": \"\", \"orientation\": \"v\", \"showlegend\": false, \"textposition\": \"auto\", \"type\": \"bar\", \"x\": [\"DS\", \"PSP\", \"Wii\", \"3DS\", \"DS\", \"3DS\", \"PSP\", \"DS\", \"Wii\", \"DS\", \"Wii\", \"3DS\", \"Wii\", \"3DS\", \"DS\", \"3DS\", \"3DS\", \"DS\", \"3DS\", \"3DS\", \"Wii\", \"3DS\", \"Wii\", \"Wii\", \"3DS\", \"3DS\", \"3DS\", \"3DS\", \"3DS\", \"DS\", \"3DS\", \"DS\", \"3DS\", \"PS3\", \"PSP\", \"Wii\", \"DS\", \"3DS\", \"WiiU\", \"3DS\", \"DS\", \"DS\", \"3DS\", \"3DS\", \"Wii\", \"3DS\", \"WiiU\", \"WiiU\", \"DS\", \"DS\", \"Wii\", \"DS\", \"DS\", \"3DS\", \"PS3\", \"DS\", \"Wii\", \"Wii\", \"DS\", \"Wii\", \"PS3\", \"DS\", \"3DS\", \"PSP\", \"Wii\", \"DS\", \"WiiU\", \"DS\", \"Wii\", \"DS\", \"PSP\", \"PSV\", \"PS3\", \"PS3\", \"3DS\", \"3DS\", \"PS3\", \"WiiU\", \"PS3\", \"DS\", \"PS3\", \"WiiU\", \"DS\", \"PSP\", \"PSP\", \"3DS\", \"3DS\", \"Wii\", \"PS2\", \"PS3\", \"Wii\", \"PSP\", \"DS\", \"3DS\", \"WiiU\", \"Wii\", \"DS\", \"PSP\", \"3DS\", \"PS3\", \"DS\", \"PS3\", \"Wii\", \"Wii\", \"DS\", \"Wii\", \"DS\", \"PS3\", \"3DS\", \"PS2\", \"DS\", \"PS2\", \"3DS\", \"Wii\", \"PSP\", \"3DS\", \"3DS\", \"PSP\", \"PSP\", \"DS\", \"PS3\", \"3DS\", \"DS\", \"DS\", \"DS\", \"PSP\", \"PS3\", \"Wii\", \"PS3\", \"DS\", \"PS3\", \"PS3\", \"3DS\", \"DS\", \"PS3\", \"PS3\", \"3DS\", \"3DS\", \"PS3\", \"PS3\", \"DS\", \"PS3\", \"DS\", \"3DS\", \"3DS\", \"DS\", \"3DS\", \"PS3\", \"DS\", \"PS3\", \"Wii\", \"PS3\", \"PS2\", \"PS3\", \"DS\", \"PS3\", \"3DS\", \"PS4\", \"PS3\", \"PS3\", \"DS\", \"3DS\", \"3DS\", \"3DS\", \"Wii\", \"DS\", \"3DS\", \"WiiU\", \"PS3\", \"Wii\", \"PS3\", \"PSP\", \"3DS\", \"3DS\", \"3DS\", \"PSV\", \"PS3\", \"Wii\", \"PS3\", \"PS3\", \"PS3\", \"PS3\", \"PS3\", \"DS\", \"DS\", \"DS\", \"PS2\", \"PSP\", \"3DS\", \"DS\", \"PS3\", \"PS4\", \"PS3\", \"PS3\", \"DS\", \"PSP\", \"Wii\", \"PSP\", \"DS\", \"Wii\", \"3DS\", \"WiiU\", \"DS\", \"PSP\", \"PS3\", \"PSP\", \"Wii\", \"PS3\", \"PS3\", \"Wii\", \"PS2\", \"PSP\", \"PS3\", \"PS3\", \"PSP\", \"Wii\", \"PS4\", \"PSP\", \"PSV\", \"PS3\", \"3DS\", \"PS3\", \"PS3\", \"PSP\", \"DS\", \"PS2\", \"Wii\", \"DS\", \"PSV\", \"DS\", \"PSP\", \"3DS\", \"PS4\", \"PS4\", \"PS4\", \"PS3\", \"3DS\", \"PS3\", \"3DS\", \"PS2\", \"PS3\", \"DS\", \"PSP\", \"PS3\", \"PSP\", \"3DS\", \"PS3\", \"DS\", \"3DS\", \"PS3\", \"DS\", \"PSP\", \"PS3\", \"3DS\", \"PSP\", \"DS\", \"DS\", \"PS4\", \"3DS\", \"3DS\", \"PS3\", \"3DS\", \"Wii\", \"DS\", \"DS\", \"Wii\", \"PS3\", \"DS\", \"Wii\", \"PSP\", \"PSP\", \"PS2\", \"PSV\", \"DS\", \"PSP\", \"DS\", \"Wii\", \"PS3\", \"3DS\", \"DS\", \"PS3\", \"PS3\", \"Wii\", \"DS\", \"PSP\", \"PS3\", \"PSP\", \"DS\", \"PS2\", \"PS2\", \"PSP\", \"PSP\", \"PS2\", \"3DS\", \"PS3\", \"3DS\", \"PSP\", \"DS\", \"PS3\", \"DS\", \"Wii\", \"DS\", \"PSV\", \"3DS\", \"PSV\", \"3DS\", \"DS\", \"PS2\", \"DS\", \"3DS\", \"DS\", \"DS\", \"DS\", \"PSP\", \"Wii\", \"DS\", \"Wii\", \"3DS\", \"DS\", \"Wii\", \"Wii\", \"PSP\", \"WiiU\", \"Wii\", \"PSP\", \"PS3\", \"3DS\", \"3DS\", \"PS3\", \"PS4\", \"PS3\", \"PSP\", \"3DS\", \"PS2\", \"3DS\", \"3DS\", \"Wii\", \"PS3\", \"PSP\", \"PSV\", \"PSP\", \"PSP\", \"PSP\", \"PS3\", \"DS\", \"3DS\", \"3DS\", \"PS3\", \"PSP\", \"DS\", \"DS\", \"3DS\", \"3DS\", \"3DS\", \"PS3\", \"PS3\", \"DS\", \"3DS\", \"PS3\", \"PS3\", \"Wii\", \"DS\", \"DS\", \"Wii\", \"DS\", \"PS2\", \"PS4\", \"PSP\", \"PS3\", \"PS3\", \"PSP\", \"DS\", \"PS3\", \"PSP\", \"3DS\", \"PS3\", \"PSP\", \"PS3\", \"DS\", \"PS3\", \"PS2\", \"3DS\", \"DS\", \"3DS\", \"Wii\", \"DS\", \"PS3\", \"PS2\", \"PS3\", \"3DS\", \"3DS\", \"DS\", \"PS3\", \"Wii\", \"Wii\", \"PSP\", \"Wii\", \"PSV\", \"PS2\", \"PSV\", \"Wii\", \"DS\", \"PS3\", \"DS\", \"DS\", \"X360\", \"PSP\", \"Wii\", \"Wii\", \"PS3\", \"DS\", \"PS3\", \"PSP\", \"PS3\", \"WiiU\", \"PS4\", \"PS3\", \"PS3\", \"PS2\", \"PSP\", \"PSV\", \"PS3\", \"PS3\", \"DS\", \"PSV\", \"PSP\", \"3DS\", \"DS\", \"DS\", \"PS3\", \"PSP\", \"PSV\", \"3DS\", \"PSP\", \"PS3\", \"PS4\", \"PS4\", \"PSP\", \"PSP\", \"PSP\", \"3DS\", \"PS3\", \"PS3\", \"PSP\", \"Wii\", \"PS4\", \"WiiU\", \"PSP\", \"PS3\", \"DS\", \"DS\", \"Wii\", \"PS2\", \"PSP\", \"DS\", \"DS\", \"PS3\", \"PSV\", \"3DS\", \"PS4\", \"PS3\", \"PS3\", \"DS\", \"PS3\", \"PS3\", \"X360\", \"DS\", \"3DS\", \"DS\", \"3DS\", \"PS3\", \"DS\", \"WiiU\", \"PSP\", \"3DS\", \"PS3\", \"PS3\", \"PS4\", \"PS2\", \"PSP\", \"PS3\", \"PS3\", \"PS3\", \"3DS\", \"DS\", \"X360\", \"DS\", \"PS3\", \"PS3\", \"PSP\", \"PS3\", \"PS3\", \"DS\", \"PS2\", \"3DS\", \"PSP\", \"PSP\", \"PSP\", \"PSP\", \"3DS\", \"PSP\", \"PS3\", \"PSP\", \"PSP\", \"PS3\", \"PSP\", \"PSP\", \"PSP\", \"PS3\", \"PSP\", \"3DS\", \"Wii\", \"DS\", \"DS\", \"Wii\", \"DS\", \"3DS\", \"PS3\", \"3DS\", \"DS\", \"PS4\", \"PS3\", \"DS\", \"PSP\", \"PSP\", \"PSP\", \"DS\", \"DS\", \"PSP\", \"PS2\", \"X360\", \"PS3\", \"PS3\", \"PSV\", \"WiiU\", \"PSV\", \"DS\", \"PSP\", \"DS\", \"3DS\", \"PSP\", \"PSV\", \"Wii\", \"PS3\", \"3DS\", \"Wii\", \"PS3\", \"WiiU\", \"3DS\", \"PSV\", \"Wii\", \"DS\", \"PS3\", \"DS\", \"PS3\", \"PS3\", \"Wii\", \"PSP\", \"PS3\", \"3DS\", \"PS2\", \"3DS\", \"PSV\", \"DS\", \"PSP\", \"PS3\", \"Wii\", \"PS3\", \"PS2\", \"PS3\", \"Wii\", \"X360\", \"3DS\", \"PSP\", \"PSP\", \"PSP\", \"3DS\", \"DS\", \"PSV\", \"3DS\", \"3DS\", \"DS\", \"WiiU\", \"3DS\", \"PS3\", \"PSP\", \"PS3\", \"PSP\", \"PS3\", \"WiiU\", \"PSP\", \"DS\", \"PSP\", \"PSV\", \"PSV\", \"PSV\", \"PS2\", \"PS4\", \"PS4\", \"Wii\", \"3DS\", \"PS3\", \"PSV\", \"3DS\", \"PS2\", \"DS\", \"Wii\", \"DS\", \"Wii\", \"PS3\", \"PS3\", \"PS2\", \"3DS\", \"PSP\", \"WiiU\", \"PSP\", \"DS\", \"PSP\", \"PSP\", \"PSP\", \"DS\", \"DS\", \"DS\", \"PSP\", \"PS3\", \"3DS\", \"DS\", \"PS4\", \"PS4\", \"PS2\", \"PS3\", \"DS\", \"PSP\", \"Wii\", \"PS3\", \"3DS\", \"PSP\", \"PSP\", \"DS\", \"PSP\", \"3DS\", \"PS4\", \"PSP\", \"DS\", \"PSP\", \"DS\", \"3DS\", \"PS3\", \"PSP\", \"PSV\", \"3DS\", \"PS3\", \"PSP\", \"3DS\", \"DS\", \"DS\", \"PS3\", \"PS4\", \"WiiU\", \"3DS\", \"DS\", \"PSV\", \"DS\", \"PS2\", \"PSP\", \"PS3\", \"PSV\", \"PSV\", \"PSP\", \"Wii\", \"PS3\", \"PS4\", \"Wii\", \"PS4\", \"PSP\", \"PS4\", \"DS\", \"PS3\", \"PSV\", \"PS3\", \"PS4\", \"3DS\", \"DS\", \"PS3\", \"PS3\", \"3DS\", \"X360\", \"Wii\", \"PSV\", \"PSP\", \"3DS\", \"PS4\", \"PSP\", \"3DS\", \"PS3\", \"PS3\", \"PS3\", \"3DS\", \"PS3\", \"PSV\", \"PSP\", \"PSP\", \"PS2\", \"PSV\", \"PS3\", \"PSV\", \"PSP\", \"PS3\", \"PS4\", \"PSP\", \"DS\", \"X360\", \"DS\", \"DS\", \"DS\", \"DS\", \"3DS\", \"3DS\", \"Wii\", \"DS\", \"PS3\", \"PS3\", \"PS3\", \"PS3\", \"DS\", \"3DS\", \"PSP\", \"PSP\", \"3DS\", \"DS\", \"PSP\", \"PSP\", \"DS\", \"PSP\", \"PSP\", \"PS2\", \"PS3\", \"PS3\", \"3DS\", \"PSP\", \"PS3\", \"3DS\", \"DS\", \"PS3\", \"PS4\", \"PS3\", \"PS4\", \"PSP\", \"Wii\", \"PS3\", \"DS\", \"DS\", \"PSP\", \"WiiU\", \"PS3\", \"PSP\", \"PS3\", \"WiiU\", \"PSV\", \"X360\", \"WiiU\", \"Wii\", \"3DS\", \"DS\", \"PS3\", \"PS4\", \"PS4\", \"PS3\", \"Wii\", \"PS3\", \"3DS\", \"3DS\", \"PSP\", \"PSP\", \"PSV\", \"PS3\", \"3DS\", \"PSP\", \"PSP\", \"DS\", \"DS\", \"PS3\", \"PSP\", \"PS3\", \"3DS\", \"X360\", \"3DS\", \"3DS\", \"PSP\", \"WiiU\", \"Wii\", \"PS3\", \"Wii\", \"3DS\", \"WiiU\", \"PS3\", \"DS\", \"X360\", \"DS\", \"PS4\", \"PS3\", \"3DS\", \"PS2\", \"PSP\", \"PS3\", \"PS2\", \"3DS\", \"DS\", \"DS\", \"X360\", \"DS\", \"3DS\", \"PSP\", \"3DS\", \"PSP\", \"X360\", \"PSP\", \"PS2\", \"PS3\", \"DS\", \"DS\", \"PS3\", \"PS3\", \"PSV\", \"PSP\", \"DS\", \"Wii\", \"PS3\", \"PS2\", \"PSP\", \"PSV\", \"PS2\", \"DS\", \"Wii\", \"PS3\", \"DS\", \"PSV\", \"PSV\", \"PS3\", \"WiiU\", \"3DS\", \"PS2\", \"PSV\", \"3DS\", \"DS\", \"Wii\", \"WiiU\", \"PS3\", \"DS\", \"PS3\", \"PSP\", \"DS\", \"PS3\", \"PSV\", \"PS3\", \"PSP\", \"PS2\", \"PSP\", \"3DS\", \"PSV\", \"X360\", \"PS3\", \"3DS\", \"3DS\", \"3DS\", \"PSP\", \"WiiU\", \"PSP\", \"DS\", \"PS3\", \"DS\", \"3DS\", \"3DS\", \"DS\", \"DS\", \"PS3\", \"PSV\", \"DS\", \"DS\", \"DS\", \"PS2\", \"DS\", \"PS3\", \"PSP\", \"DS\", \"PSP\", \"PSV\", \"DS\", \"PSV\", \"Wii\", \"PSV\", \"PSV\", \"PS4\", \"PS3\", \"DS\", \"DS\", \"3DS\", \"X360\", \"PS3\", \"PSP\", \"PSP\", \"PSP\", \"DS\", \"PSP\", \"PSP\", \"PS3\", \"DS\", \"PS3\", \"DS\", \"PS2\", \"PS4\", \"PSP\", \"DS\", \"PSV\", \"PSP\", \"PSV\", \"Wii\", \"PSP\", \"PS4\", \"PSV\", \"DS\", \"PSV\", \"X360\", \"PSP\", \"3DS\", \"PSP\", \"WiiU\", \"DS\", \"PS3\", \"DS\", \"PS2\", \"DS\", \"3DS\", \"PSP\", \"DS\", \"DS\", \"PSP\", \"3DS\", \"PS2\", \"PSP\", \"X360\", \"PSP\", \"PS3\", \"PS3\", \"Wii\", \"PSP\", \"PS3\", \"3DS\", \"3DS\", \"PSP\", \"PSP\", \"PSP\", \"PSP\", \"PSP\", \"PSP\", \"PSP\", \"DS\", \"3DS\", \"PSP\", \"DS\", \"PS3\", \"3DS\", \"Wii\", \"PS3\", \"PS2\", \"PS3\", \"WiiU\", \"PS4\", \"PSP\", \"PS2\", \"DS\", \"PS3\", \"PS3\", \"PS3\", \"PSV\", \"WiiU\", \"PS3\", \"PS3\", \"DS\", \"Wii\", \"PS3\", \"PS4\", \"DS\", \"PS4\", \"PS4\", \"PS4\", \"PS3\", \"Wii\", \"PS3\", \"PS4\", \"PS3\", \"PS3\", \"Wii\", \"Wii\", \"3DS\", \"PS3\", \"Wii\", \"3DS\", \"PS2\", \"Wii\"], \"xaxis\": \"x\", \"y\": [5.65, 4.87, 4.7, 4.39, 4.35, 4.35, 4.13, 3.96, 3.79, 3.67, 3.6, 3.44, 3.28, 3.18, 3.14, 3.1, 2.79, 2.69, 2.69, 2.68, 2.66, 2.62, 2.53, 2.49, 2.47, 2.43, 2.29, 2.26, 2.14, 1.98, 1.96, 1.93, 1.9, 1.87, 1.75, 1.58, 1.54, 1.51, 1.46, 1.4, 1.36, 1.35, 1.33, 1.33, 1.32, 1.3, 1.28, 1.27, 1.27, 1.24, 1.2, 1.19, 1.18, 1.11, 1.08, 1.05, 1.05, 1.03, 1.03, 0.98, 0.98, 0.96, 0.96, 0.96, 0.96, 0.95, 0.94, 0.93, 0.92, 0.92, 0.91, 0.9, 0.89, 0.88, 0.87, 0.86, 0.86, 0.84, 0.83, 0.82, 0.81, 0.81, 0.81, 0.81, 0.8, 0.79, 0.79, 0.79, 0.76, 0.76, 0.76, 0.75, 0.74, 0.73, 0.73, 0.73, 0.73, 0.72, 0.72, 0.72, 0.68, 0.67, 0.67, 0.66, 0.66, 0.66, 0.65, 0.65, 0.64, 0.64, 0.64, 0.64, 0.63, 0.63, 0.63, 0.63, 0.62, 0.62, 0.62, 0.62, 0.62, 0.62, 0.62, 0.62, 0.61, 0.6, 0.59, 0.59, 0.58, 0.58, 0.57, 0.57, 0.56, 0.56, 0.55, 0.55, 0.55, 0.54, 0.54, 0.54, 0.54, 0.54, 0.54, 0.53, 0.53, 0.53, 0.52, 0.51, 0.51, 0.5, 0.5, 0.5, 0.5, 0.49, 0.49, 0.49, 0.49, 0.49, 0.49, 0.48, 0.48, 0.48, 0.47, 0.47, 0.47, 0.47, 0.47, 0.46, 0.46, 0.46, 0.46, 0.46, 0.46, 0.46, 0.46, 0.45, 0.45, 0.45, 0.45, 0.45, 0.45, 0.44, 0.44, 0.44, 0.44, 0.44, 0.44, 0.42, 0.42, 0.42, 0.42, 0.42, 0.42, 0.42, 0.42, 0.42, 0.42, 0.41, 0.41, 0.41, 0.41, 0.41, 0.41, 0.41, 0.41, 0.41, 0.41, 0.4, 0.4, 0.4, 0.4, 0.4, 0.4, 0.4, 0.39, 0.39, 0.38, 0.38, 0.38, 0.38, 0.38, 0.38, 0.38, 0.38, 0.38, 0.38, 0.37, 0.37, 0.37, 0.37, 0.37, 0.37, 0.37, 0.37, 0.36, 0.36, 0.36, 0.36, 0.36, 0.36, 0.36, 0.36, 0.36, 0.36, 0.36, 0.35, 0.35, 0.35, 0.35, 0.35, 0.35, 0.34, 0.34, 0.34, 0.34, 0.34, 0.34, 0.34, 0.34, 0.34, 0.34, 0.34, 0.33, 0.33, 0.33, 0.33, 0.33, 0.33, 0.33, 0.33, 0.33, 0.33, 0.32, 0.32, 0.32, 0.32, 0.32, 0.32, 0.32, 0.32, 0.32, 0.32, 0.32, 0.31, 0.31, 0.31, 0.31, 0.31, 0.31, 0.31, 0.31, 0.31, 0.31, 0.31, 0.3, 0.3, 0.3, 0.3, 0.3, 0.3, 0.3, 0.3, 0.3, 0.3, 0.3, 0.3, 0.3, 0.3, 0.3, 0.3, 0.3, 0.3, 0.29, 0.29, 0.29, 0.29, 0.29, 0.29, 0.29, 0.29, 0.29, 0.29, 0.29, 0.29, 0.29, 0.28, 0.28, 0.28, 0.28, 0.28, 0.28, 0.28, 0.28, 0.28, 0.28, 0.28, 0.28, 0.28, 0.28, 0.28, 0.27, 0.27, 0.27, 0.27, 0.27, 0.27, 0.27, 0.27, 0.27, 0.27, 0.27, 0.27, 0.27, 0.27, 0.27, 0.27, 0.27, 0.27, 0.27, 0.27, 0.27, 0.27, 0.27, 0.27, 0.26, 0.26, 0.26, 0.26, 0.26, 0.26, 0.26, 0.26, 0.26, 0.26, 0.26, 0.26, 0.26, 0.26, 0.26, 0.26, 0.26, 0.26, 0.26, 0.26, 0.26, 0.26, 0.26, 0.25, 0.25, 0.25, 0.25, 0.25, 0.25, 0.25, 0.25, 0.25, 0.25, 0.25, 0.25, 0.25, 0.25, 0.25, 0.25, 0.24, 0.24, 0.24, 0.24, 0.24, 0.24, 0.24, 0.24, 0.24, 0.24, 0.24, 0.24, 0.24, 0.24, 0.24, 0.24, 0.24, 0.23, 0.23, 0.23, 0.23, 0.23, 0.23, 0.23, 0.23, 0.23, 0.23, 0.23, 0.23, 0.23, 0.23, 0.23, 0.23, 0.23, 0.22, 0.22, 0.22, 0.22, 0.22, 0.22, 0.22, 0.22, 0.22, 0.22, 0.22, 0.22, 0.22, 0.22, 0.22, 0.22, 0.22, 0.22, 0.22, 0.22, 0.22, 0.22, 0.22, 0.22, 0.22, 0.22, 0.22, 0.22, 0.22, 0.21, 0.21, 0.21, 0.21, 0.21, 0.21, 0.21, 0.21, 0.21, 0.21, 0.21, 0.21, 0.21, 0.21, 0.21, 0.21, 0.21, 0.21, 0.21, 0.21, 0.21, 0.21, 0.21, 0.2, 0.2, 0.2, 0.2, 0.2, 0.2, 0.2, 0.2, 0.2, 0.2, 0.2, 0.2, 0.2, 0.2, 0.2, 0.2, 0.2, 0.2, 0.2, 0.2, 0.2, 0.2, 0.2, 0.2, 0.2, 0.2, 0.2, 0.2, 0.2, 0.19, 0.19, 0.19, 0.19, 0.19, 0.19, 0.19, 0.19, 0.19, 0.19, 0.19, 0.19, 0.19, 0.19, 0.19, 0.19, 0.19, 0.19, 0.19, 0.19, 0.19, 0.19, 0.19, 0.19, 0.19, 0.19, 0.19, 0.19, 0.19, 0.19, 0.19, 0.19, 0.19, 0.19, 0.19, 0.19, 0.19, 0.19, 0.19, 0.19, 0.19, 0.19, 0.19, 0.19, 0.19, 0.19, 0.18, 0.18, 0.18, 0.18, 0.18, 0.18, 0.18, 0.18, 0.18, 0.18, 0.18, 0.18, 0.18, 0.18, 0.18, 0.18, 0.18, 0.18, 0.18, 0.18, 0.18, 0.18, 0.18, 0.18, 0.18, 0.18, 0.18, 0.18, 0.18, 0.17, 0.17, 0.17, 0.17, 0.17, 0.17, 0.17, 0.17, 0.17, 0.17, 0.17, 0.17, 0.17, 0.17, 0.17, 0.17, 0.17, 0.17, 0.17, 0.17, 0.17, 0.17, 0.17, 0.17, 0.17, 0.17, 0.17, 0.17, 0.17, 0.17, 0.17, 0.17, 0.17, 0.17, 0.17, 0.17, 0.17, 0.17, 0.17, 0.16, 0.16, 0.16, 0.16, 0.16, 0.16, 0.16, 0.16, 0.16, 0.16, 0.16, 0.16, 0.16, 0.16, 0.16, 0.16, 0.16, 0.16, 0.16, 0.16, 0.16, 0.16, 0.16, 0.16, 0.16, 0.16, 0.16, 0.16, 0.16, 0.16, 0.16, 0.16, 0.16, 0.16, 0.16, 0.16, 0.15, 0.15, 0.15, 0.15, 0.15, 0.15, 0.15, 0.15, 0.15, 0.15, 0.15, 0.15, 0.15, 0.15, 0.15, 0.15, 0.15, 0.15, 0.15, 0.15, 0.15, 0.15, 0.15, 0.15, 0.15, 0.15, 0.15, 0.15, 0.15, 0.15, 0.15, 0.15, 0.15, 0.15, 0.15, 0.15, 0.15, 0.15, 0.15, 0.15, 0.15, 0.15, 0.15, 0.15, 0.15, 0.15, 0.15, 0.14, 0.14, 0.14, 0.14, 0.14, 0.14, 0.14, 0.14, 0.14, 0.14, 0.14, 0.14, 0.14, 0.14, 0.14, 0.14, 0.14, 0.14, 0.14, 0.14, 0.14, 0.14, 0.14, 0.14, 0.14, 0.14, 0.14, 0.14, 0.14, 0.14, 0.14, 0.14, 0.14, 0.14, 0.14, 0.14, 0.14, 0.14, 0.14, 0.14, 0.14, 0.14, 0.14, 0.14, 0.14, 0.14, 0.14, 0.14, 0.14, 0.14, 0.14, 0.14, 0.14, 0.14, 0.14, 0.14, 0.14, 0.13, 0.13, 0.13, 0.13, 0.13, 0.13, 0.13, 0.13, 0.13, 0.13, 0.13, 0.13, 0.13, 0.13, 0.13, 0.13, 0.13, 0.13, 0.13, 0.13, 0.13, 0.13, 0.13, 0.13, 0.13, 0.13, 0.13, 0.13, 0.13, 0.13, 0.13, 0.13, 0.13, 0.13, 0.13, 0.13, 0.13, 0.13, 0.13, 0.13, 0.13, 0.13, 0.13, 0.13, 0.13, 0.13, 0.13, 0.13, 0.13, 0.13, 0.13, 0.13, 0.13, 0.13, 0.13, 0.13, 0.13, 0.13, 0.13, 0.13, 0.13, 0.13, 0.13, 0.13, 0.13, 0.13, 0.13, 0.13, 0.13, 0.13, 0.13, 0.13, 0.13, 0.12, 0.12, 0.12, 0.12, 0.12, 0.12, 0.12, 0.12, 0.12, 0.12, 0.12, 0.12, 0.12, 0.12, 0.12, 0.12, 0.12, 0.12, 0.12, 0.12, 0.12, 0.12, 0.12, 0.12, 0.12, 0.12, 0.12, 0.12, 0.12, 0.12, 0.12, 0.12, 0.12, 0.12, 0.12, 0.12, 0.12, 0.12, 0.12, 0.12, 0.12, 0.12, 0.12, 0.12, 0.12, 0.12, 0.12, 0.12, 0.12, 0.12, 0.12, 0.12, 0.12, 0.12, 0.12, 0.12, 0.12, 0.12, 0.12, 0.12, 0.12, 0.12, 0.12, 0.12, 0.12, 0.12, 0.12, 0.12, 0.12, 0.12, 0.12, 0.12, 0.12, 0.11, 0.11, 0.11, 0.11, 0.11, 0.11, 0.11, 0.11, 0.11, 0.11, 0.11, 0.11, 0.11, 0.11, 0.11, 0.11, 0.11, 0.11, 0.11, 0.11, 0.11, 0.11, 0.11, 0.11, 0.11, 0.11, 0.11, 0.11, 0.11, 0.11, 0.11, 0.11, 0.11, 0.11, 0.11, 0.11, 0.11, 0.11, 0.11, 0.11, 0.11, 0.11, 0.11, 0.11, 0.11, 0.11, 0.11, 0.11, 0.11, 0.11, 0.11, 0.11, 0.11, 0.11, 0.11, 0.11, 0.11, 0.11, 0.11, 0.11, 0.11, 0.11, 0.11, 0.11, 0.11, 0.11, 0.11, 0.11, 0.11, 0.11, 0.11, 0.11, 0.11, 0.11, 0.11, 0.11, 0.11, 0.11, 0.11, 0.11, 0.11, 0.11], \"yaxis\": \"y\"}],\n",
       "                        {\"barmode\": \"relative\", \"height\": 600, \"legend\": {\"tracegroupgap\": 0}, \"margin\": {\"t\": 60}, \"template\": {\"data\": {\"bar\": [{\"error_x\": {\"color\": \"#2a3f5f\"}, \"error_y\": {\"color\": \"#2a3f5f\"}, \"marker\": {\"line\": {\"color\": \"#E5ECF6\", \"width\": 0.5}}, \"type\": \"bar\"}], \"barpolar\": [{\"marker\": {\"line\": {\"color\": \"#E5ECF6\", \"width\": 0.5}}, \"type\": \"barpolar\"}], \"carpet\": [{\"aaxis\": {\"endlinecolor\": \"#2a3f5f\", \"gridcolor\": \"white\", \"linecolor\": \"white\", \"minorgridcolor\": \"white\", \"startlinecolor\": \"#2a3f5f\"}, \"baxis\": {\"endlinecolor\": \"#2a3f5f\", \"gridcolor\": \"white\", \"linecolor\": \"white\", \"minorgridcolor\": \"white\", \"startlinecolor\": \"#2a3f5f\"}, \"type\": \"carpet\"}], \"choropleth\": [{\"colorbar\": {\"outlinewidth\": 0, \"ticks\": \"\"}, \"type\": \"choropleth\"}], \"contour\": [{\"colorbar\": {\"outlinewidth\": 0, \"ticks\": \"\"}, \"colorscale\": [[0.0, \"#0d0887\"], [0.1111111111111111, \"#46039f\"], [0.2222222222222222, \"#7201a8\"], [0.3333333333333333, \"#9c179e\"], [0.4444444444444444, \"#bd3786\"], [0.5555555555555556, \"#d8576b\"], [0.6666666666666666, \"#ed7953\"], [0.7777777777777778, \"#fb9f3a\"], [0.8888888888888888, \"#fdca26\"], [1.0, \"#f0f921\"]], \"type\": \"contour\"}], \"contourcarpet\": [{\"colorbar\": {\"outlinewidth\": 0, \"ticks\": \"\"}, \"type\": \"contourcarpet\"}], \"heatmap\": [{\"colorbar\": {\"outlinewidth\": 0, \"ticks\": \"\"}, \"colorscale\": [[0.0, \"#0d0887\"], [0.1111111111111111, \"#46039f\"], [0.2222222222222222, \"#7201a8\"], [0.3333333333333333, \"#9c179e\"], [0.4444444444444444, \"#bd3786\"], [0.5555555555555556, \"#d8576b\"], [0.6666666666666666, \"#ed7953\"], [0.7777777777777778, \"#fb9f3a\"], [0.8888888888888888, \"#fdca26\"], [1.0, \"#f0f921\"]], \"type\": \"heatmap\"}], \"heatmapgl\": [{\"colorbar\": {\"outlinewidth\": 0, \"ticks\": \"\"}, \"colorscale\": [[0.0, \"#0d0887\"], [0.1111111111111111, \"#46039f\"], [0.2222222222222222, \"#7201a8\"], [0.3333333333333333, \"#9c179e\"], [0.4444444444444444, \"#bd3786\"], [0.5555555555555556, \"#d8576b\"], [0.6666666666666666, \"#ed7953\"], [0.7777777777777778, \"#fb9f3a\"], [0.8888888888888888, \"#fdca26\"], [1.0, \"#f0f921\"]], \"type\": \"heatmapgl\"}], \"histogram\": [{\"marker\": {\"colorbar\": {\"outlinewidth\": 0, \"ticks\": \"\"}}, \"type\": \"histogram\"}], \"histogram2d\": [{\"colorbar\": {\"outlinewidth\": 0, \"ticks\": \"\"}, \"colorscale\": [[0.0, \"#0d0887\"], [0.1111111111111111, \"#46039f\"], [0.2222222222222222, \"#7201a8\"], [0.3333333333333333, \"#9c179e\"], [0.4444444444444444, \"#bd3786\"], [0.5555555555555556, \"#d8576b\"], [0.6666666666666666, \"#ed7953\"], [0.7777777777777778, \"#fb9f3a\"], [0.8888888888888888, \"#fdca26\"], [1.0, \"#f0f921\"]], \"type\": \"histogram2d\"}], \"histogram2dcontour\": [{\"colorbar\": {\"outlinewidth\": 0, \"ticks\": \"\"}, \"colorscale\": [[0.0, \"#0d0887\"], [0.1111111111111111, \"#46039f\"], [0.2222222222222222, \"#7201a8\"], [0.3333333333333333, \"#9c179e\"], [0.4444444444444444, \"#bd3786\"], [0.5555555555555556, \"#d8576b\"], [0.6666666666666666, \"#ed7953\"], [0.7777777777777778, \"#fb9f3a\"], [0.8888888888888888, \"#fdca26\"], [1.0, \"#f0f921\"]], \"type\": \"histogram2dcontour\"}], \"mesh3d\": [{\"colorbar\": {\"outlinewidth\": 0, \"ticks\": \"\"}, \"type\": \"mesh3d\"}], \"parcoords\": [{\"line\": {\"colorbar\": {\"outlinewidth\": 0, \"ticks\": \"\"}}, \"type\": \"parcoords\"}], \"scatter\": [{\"marker\": {\"colorbar\": {\"outlinewidth\": 0, \"ticks\": \"\"}}, \"type\": \"scatter\"}], \"scatter3d\": [{\"line\": {\"colorbar\": {\"outlinewidth\": 0, \"ticks\": \"\"}}, \"marker\": {\"colorbar\": {\"outlinewidth\": 0, \"ticks\": \"\"}}, \"type\": \"scatter3d\"}], \"scattercarpet\": [{\"marker\": {\"colorbar\": {\"outlinewidth\": 0, \"ticks\": \"\"}}, \"type\": \"scattercarpet\"}], \"scattergeo\": [{\"marker\": {\"colorbar\": {\"outlinewidth\": 0, \"ticks\": \"\"}}, \"type\": \"scattergeo\"}], \"scattergl\": [{\"marker\": {\"colorbar\": {\"outlinewidth\": 0, \"ticks\": \"\"}}, \"type\": \"scattergl\"}], \"scattermapbox\": [{\"marker\": {\"colorbar\": {\"outlinewidth\": 0, \"ticks\": \"\"}}, \"type\": \"scattermapbox\"}], \"scatterpolar\": [{\"marker\": {\"colorbar\": {\"outlinewidth\": 0, \"ticks\": \"\"}}, \"type\": \"scatterpolar\"}], \"scatterpolargl\": [{\"marker\": {\"colorbar\": {\"outlinewidth\": 0, \"ticks\": \"\"}}, \"type\": \"scatterpolargl\"}], \"scatterternary\": [{\"marker\": {\"colorbar\": {\"outlinewidth\": 0, \"ticks\": \"\"}}, \"type\": \"scatterternary\"}], \"surface\": [{\"colorbar\": {\"outlinewidth\": 0, \"ticks\": \"\"}, \"colorscale\": [[0.0, \"#0d0887\"], [0.1111111111111111, \"#46039f\"], [0.2222222222222222, \"#7201a8\"], [0.3333333333333333, \"#9c179e\"], [0.4444444444444444, \"#bd3786\"], [0.5555555555555556, \"#d8576b\"], [0.6666666666666666, \"#ed7953\"], [0.7777777777777778, \"#fb9f3a\"], [0.8888888888888888, \"#fdca26\"], [1.0, \"#f0f921\"]], \"type\": \"surface\"}], \"table\": [{\"cells\": {\"fill\": {\"color\": \"#EBF0F8\"}, \"line\": {\"color\": \"white\"}}, \"header\": {\"fill\": {\"color\": \"#C8D4E3\"}, \"line\": {\"color\": \"white\"}}, \"type\": \"table\"}]}, \"layout\": {\"annotationdefaults\": {\"arrowcolor\": \"#2a3f5f\", \"arrowhead\": 0, \"arrowwidth\": 1}, \"colorscale\": {\"diverging\": [[0, \"#8e0152\"], [0.1, \"#c51b7d\"], [0.2, \"#de77ae\"], [0.3, \"#f1b6da\"], [0.4, \"#fde0ef\"], [0.5, \"#f7f7f7\"], [0.6, \"#e6f5d0\"], [0.7, \"#b8e186\"], [0.8, \"#7fbc41\"], [0.9, \"#4d9221\"], [1, \"#276419\"]], \"sequential\": [[0.0, \"#0d0887\"], [0.1111111111111111, \"#46039f\"], [0.2222222222222222, \"#7201a8\"], [0.3333333333333333, \"#9c179e\"], [0.4444444444444444, \"#bd3786\"], [0.5555555555555556, \"#d8576b\"], [0.6666666666666666, \"#ed7953\"], [0.7777777777777778, \"#fb9f3a\"], [0.8888888888888888, \"#fdca26\"], [1.0, \"#f0f921\"]], \"sequentialminus\": [[0.0, \"#0d0887\"], [0.1111111111111111, \"#46039f\"], [0.2222222222222222, \"#7201a8\"], [0.3333333333333333, \"#9c179e\"], [0.4444444444444444, \"#bd3786\"], [0.5555555555555556, \"#d8576b\"], [0.6666666666666666, \"#ed7953\"], [0.7777777777777778, \"#fb9f3a\"], [0.8888888888888888, \"#fdca26\"], [1.0, \"#f0f921\"]]}, \"colorway\": [\"#636efa\", \"#EF553B\", \"#00cc96\", \"#ab63fa\", \"#FFA15A\", \"#19d3f3\", \"#FF6692\", \"#B6E880\", \"#FF97FF\", \"#FECB52\"], \"font\": {\"color\": \"#2a3f5f\"}, \"geo\": {\"bgcolor\": \"white\", \"lakecolor\": \"white\", \"landcolor\": \"#E5ECF6\", \"showlakes\": true, \"showland\": true, \"subunitcolor\": \"white\"}, \"hoverlabel\": {\"align\": \"left\"}, \"hovermode\": \"closest\", \"mapbox\": {\"style\": \"light\"}, \"paper_bgcolor\": \"white\", \"plot_bgcolor\": \"#E5ECF6\", \"polar\": {\"angularaxis\": {\"gridcolor\": \"white\", \"linecolor\": \"white\", \"ticks\": \"\"}, \"bgcolor\": \"#E5ECF6\", \"radialaxis\": {\"gridcolor\": \"white\", \"linecolor\": \"white\", \"ticks\": \"\"}}, \"scene\": {\"xaxis\": {\"backgroundcolor\": \"#E5ECF6\", \"gridcolor\": \"white\", \"gridwidth\": 2, \"linecolor\": \"white\", \"showbackground\": true, \"ticks\": \"\", \"zerolinecolor\": \"white\"}, \"yaxis\": {\"backgroundcolor\": \"#E5ECF6\", \"gridcolor\": \"white\", \"gridwidth\": 2, \"linecolor\": \"white\", \"showbackground\": true, \"ticks\": \"\", \"zerolinecolor\": \"white\"}, \"zaxis\": {\"backgroundcolor\": \"#E5ECF6\", \"gridcolor\": \"white\", \"gridwidth\": 2, \"linecolor\": \"white\", \"showbackground\": true, \"ticks\": \"\", \"zerolinecolor\": \"white\"}}, \"shapedefaults\": {\"line\": {\"color\": \"#2a3f5f\"}}, \"ternary\": {\"aaxis\": {\"gridcolor\": \"white\", \"linecolor\": \"white\", \"ticks\": \"\"}, \"baxis\": {\"gridcolor\": \"white\", \"linecolor\": \"white\", \"ticks\": \"\"}, \"bgcolor\": \"#E5ECF6\", \"caxis\": {\"gridcolor\": \"white\", \"linecolor\": \"white\", \"ticks\": \"\"}}, \"title\": {\"x\": 0.05}, \"xaxis\": {\"automargin\": true, \"gridcolor\": \"white\", \"linecolor\": \"white\", \"ticks\": \"\", \"zerolinecolor\": \"white\", \"zerolinewidth\": 2}, \"yaxis\": {\"automargin\": true, \"gridcolor\": \"white\", \"linecolor\": \"white\", \"ticks\": \"\", \"zerolinecolor\": \"white\", \"zerolinewidth\": 2}}}, \"xaxis\": {\"anchor\": \"y\", \"domain\": [0.0, 0.98], \"title\": {\"text\": \"platform\"}}, \"yaxis\": {\"anchor\": \"x\", \"domain\": [0.0, 1.0], \"title\": {\"text\": \"jp_sales\"}}},\n",
       "                        {\"responsive\": true}\n",
       "                    ).then(function(){\n",
       "                            \n",
       "var gd = document.getElementById('09430690-c78c-4c26-876d-7b4acae1be41');\n",
       "var x = new MutationObserver(function (mutations, observer) {{\n",
       "        var display = window.getComputedStyle(gd).display;\n",
       "        if (!display || display === 'none') {{\n",
       "            console.log([gd, 'removed!']);\n",
       "            Plotly.purge(gd);\n",
       "            observer.disconnect();\n",
       "        }}\n",
       "}});\n",
       "\n",
       "// Listen for the removal of the full notebook cells\n",
       "var notebookContainer = gd.closest('#notebook-container');\n",
       "if (notebookContainer) {{\n",
       "    x.observe(notebookContainer, {childList: true});\n",
       "}}\n",
       "\n",
       "// Listen for the clearing of the current output cell\n",
       "var outputEl = gd.closest('.output');\n",
       "if (outputEl) {{\n",
       "    x.observe(outputEl, {childList: true});\n",
       "}}\n",
       "\n",
       "                        })\n",
       "                };\n",
       "                });\n",
       "            </script>\n",
       "        </div>"
      ]
     },
     "metadata": {},
     "output_type": "display_data"
    }
   ],
   "source": [
    "\n",
    "top_platform = games_new.sort_values(by='jp_sales', axis=0, ascending=False)[:1000]\n",
    "\n",
    "fig = px.bar(top_platform , \n",
    "             x='platform', \n",
    "             y='jp_sales',\n",
    "            )\n",
    "\n",
    "fig.show()"
   ]
  },
  {
   "cell_type": "code",
   "execution_count": 37,
   "id": "0c0cca40",
   "metadata": {},
   "outputs": [
    {
     "data": {
      "text/html": [
       "<div>\n",
       "<style scoped>\n",
       "    .dataframe tbody tr th:only-of-type {\n",
       "        vertical-align: middle;\n",
       "    }\n",
       "\n",
       "    .dataframe tbody tr th {\n",
       "        vertical-align: top;\n",
       "    }\n",
       "\n",
       "    .dataframe thead th {\n",
       "        text-align: right;\n",
       "    }\n",
       "</style>\n",
       "<table border=\"1\" class=\"dataframe\">\n",
       "  <thead>\n",
       "    <tr style=\"text-align: right;\">\n",
       "      <th></th>\n",
       "      <th>genre</th>\n",
       "      <th>jp_sales</th>\n",
       "    </tr>\n",
       "  </thead>\n",
       "  <tbody>\n",
       "    <tr>\n",
       "      <td>7</td>\n",
       "      <td>role-playing</td>\n",
       "      <td>150.55</td>\n",
       "    </tr>\n",
       "    <tr>\n",
       "      <td>0</td>\n",
       "      <td>action</td>\n",
       "      <td>96.29</td>\n",
       "    </tr>\n",
       "    <tr>\n",
       "      <td>3</td>\n",
       "      <td>misc</td>\n",
       "      <td>48.79</td>\n",
       "    </tr>\n",
       "    <tr>\n",
       "      <td>10</td>\n",
       "      <td>sports</td>\n",
       "      <td>40.28</td>\n",
       "    </tr>\n",
       "    <tr>\n",
       "      <td>1</td>\n",
       "      <td>adventure</td>\n",
       "      <td>26.91</td>\n",
       "    </tr>\n",
       "  </tbody>\n",
       "</table>\n",
       "</div>"
      ],
      "text/plain": [
       "           genre  jp_sales\n",
       "7   role-playing    150.55\n",
       "0         action     96.29\n",
       "3           misc     48.79\n",
       "10        sports     40.28\n",
       "1      adventure     26.91"
      ]
     },
     "execution_count": 37,
     "metadata": {},
     "output_type": "execute_result"
    }
   ],
   "source": [
    "(games_new\n",
    " .groupby('genre')['jp_sales']\n",
    " .sum()\n",
    " .reset_index()\n",
    " .sort_values(by='jp_sales', ascending=False)\n",
    " .head(5)\n",
    ")\n",
    "\n",
    "#топ 5 жанров в японии"
   ]
  },
  {
   "cell_type": "code",
   "execution_count": 99,
   "id": "03ae3f08",
   "metadata": {},
   "outputs": [
    {
     "data": {
      "application/vnd.plotly.v1+json": {
       "config": {
        "plotlyServerURL": "https://plot.ly"
       },
       "data": [
        {
         "alignmentgroup": "True",
         "hoverlabel": {
          "namelength": 0
         },
         "hovertemplate": "genre=%{x}<br>jp_sales=%{y}",
         "legendgroup": "",
         "marker": {
          "color": "#636efa"
         },
         "name": "",
         "offsetgroup": "",
         "orientation": "v",
         "showlegend": false,
         "textposition": "auto",
         "type": "bar",
         "x": [
          "racing",
          "sports",
          "misc",
          "platform",
          "shooter",
          "action",
          "shooter",
          "sports",
          "sports",
          "shooter",
          "shooter",
          "shooter",
          "shooter",
          "action",
          "action",
          "shooter",
          "shooter",
          "fighting",
          "platform",
          "shooter",
          "shooter",
          "misc",
          "shooter",
          "misc",
          "misc",
          "shooter",
          "role-playing",
          "role-playing",
          "role-playing",
          "racing",
          "shooter",
          "shooter",
          "platform",
          "shooter",
          "action",
          "shooter",
          "shooter",
          "misc",
          "role-playing",
          "action",
          "shooter",
          "shooter",
          "shooter",
          "shooter",
          "misc",
          "action",
          "sports",
          "misc",
          "action",
          "platform",
          "role-playing",
          "action",
          "platform",
          "misc",
          "misc",
          "sports",
          "role-playing",
          "adventure",
          "action",
          "fighting",
          "shooter",
          "misc",
          "platform",
          "racing",
          "action",
          "shooter",
          "action",
          "shooter",
          "misc",
          "shooter",
          "racing",
          "action",
          "role-playing",
          "racing",
          "action",
          "shooter",
          "action",
          "action",
          "shooter",
          "platform",
          "role-playing",
          "action",
          "shooter",
          "action",
          "shooter",
          "role-playing",
          "action",
          "shooter",
          "action",
          "shooter",
          "shooter",
          "role-playing",
          "misc",
          "action",
          "action",
          "shooter",
          "fighting",
          "sports",
          "strategy",
          "sports"
         ],
         "xaxis": "x",
         "y": [
          3.79,
          3.28,
          0.24,
          4.7,
          0.11,
          0.06,
          0.13,
          2.53,
          3.6,
          0.08,
          0.07,
          0.13,
          0.08,
          0.98,
          0.14,
          0.04,
          0.04,
          2.66,
          1.2,
          0.36,
          0.48,
          0,
          0.13,
          0.01,
          0.02,
          0.49,
          5.65,
          4.35,
          0.1,
          2.69,
          0.38,
          0.65,
          2.14,
          0,
          0.44,
          0.01,
          0.06,
          1.98,
          3.1,
          3.96,
          0.06,
          0.06,
          0.38,
          0.07,
          0,
          0.38,
          0.03,
          1.58,
          0.09,
          2.47,
          0.05,
          0,
          0.98,
          0.01,
          0,
          0,
          0.09,
          0.07,
          0.21,
          2.43,
          0.01,
          0.01,
          1.03,
          1.28,
          0.03,
          0.28,
          0.08,
          0.29,
          0,
          0.22,
          0.1,
          0.04,
          2.26,
          0.81,
          0.03,
          0.35,
          0,
          0,
          0.14,
          0.17,
          3.14,
          0.17,
          0.03,
          0.19,
          0,
          2.69,
          0.12,
          0,
          0.11,
          0.05,
          0.05,
          0.04,
          0.01,
          0.16,
          0.83,
          0,
          0.81,
          0.01,
          0,
          0.66
         ],
         "yaxis": "y"
        }
       ],
       "layout": {
        "barmode": "relative",
        "height": 600,
        "legend": {
         "tracegroupgap": 0
        },
        "margin": {
         "t": 60
        },
        "template": {
         "data": {
          "bar": [
           {
            "error_x": {
             "color": "#2a3f5f"
            },
            "error_y": {
             "color": "#2a3f5f"
            },
            "marker": {
             "line": {
              "color": "#E5ECF6",
              "width": 0.5
             }
            },
            "type": "bar"
           }
          ],
          "barpolar": [
           {
            "marker": {
             "line": {
              "color": "#E5ECF6",
              "width": 0.5
             }
            },
            "type": "barpolar"
           }
          ],
          "carpet": [
           {
            "aaxis": {
             "endlinecolor": "#2a3f5f",
             "gridcolor": "white",
             "linecolor": "white",
             "minorgridcolor": "white",
             "startlinecolor": "#2a3f5f"
            },
            "baxis": {
             "endlinecolor": "#2a3f5f",
             "gridcolor": "white",
             "linecolor": "white",
             "minorgridcolor": "white",
             "startlinecolor": "#2a3f5f"
            },
            "type": "carpet"
           }
          ],
          "choropleth": [
           {
            "colorbar": {
             "outlinewidth": 0,
             "ticks": ""
            },
            "type": "choropleth"
           }
          ],
          "contour": [
           {
            "colorbar": {
             "outlinewidth": 0,
             "ticks": ""
            },
            "colorscale": [
             [
              0,
              "#0d0887"
             ],
             [
              0.1111111111,
              "#46039f"
             ],
             [
              0.2222222222,
              "#7201a8"
             ],
             [
              0.3333333333,
              "#9c179e"
             ],
             [
              0.4444444444,
              "#bd3786"
             ],
             [
              0.5555555556,
              "#d8576b"
             ],
             [
              0.6666666667,
              "#ed7953"
             ],
             [
              0.7777777778,
              "#fb9f3a"
             ],
             [
              0.8888888889,
              "#fdca26"
             ],
             [
              1,
              "#f0f921"
             ]
            ],
            "type": "contour"
           }
          ],
          "contourcarpet": [
           {
            "colorbar": {
             "outlinewidth": 0,
             "ticks": ""
            },
            "type": "contourcarpet"
           }
          ],
          "heatmap": [
           {
            "colorbar": {
             "outlinewidth": 0,
             "ticks": ""
            },
            "colorscale": [
             [
              0,
              "#0d0887"
             ],
             [
              0.1111111111,
              "#46039f"
             ],
             [
              0.2222222222,
              "#7201a8"
             ],
             [
              0.3333333333,
              "#9c179e"
             ],
             [
              0.4444444444,
              "#bd3786"
             ],
             [
              0.5555555556,
              "#d8576b"
             ],
             [
              0.6666666667,
              "#ed7953"
             ],
             [
              0.7777777778,
              "#fb9f3a"
             ],
             [
              0.8888888889,
              "#fdca26"
             ],
             [
              1,
              "#f0f921"
             ]
            ],
            "type": "heatmap"
           }
          ],
          "heatmapgl": [
           {
            "colorbar": {
             "outlinewidth": 0,
             "ticks": ""
            },
            "colorscale": [
             [
              0,
              "#0d0887"
             ],
             [
              0.1111111111,
              "#46039f"
             ],
             [
              0.2222222222,
              "#7201a8"
             ],
             [
              0.3333333333,
              "#9c179e"
             ],
             [
              0.4444444444,
              "#bd3786"
             ],
             [
              0.5555555556,
              "#d8576b"
             ],
             [
              0.6666666667,
              "#ed7953"
             ],
             [
              0.7777777778,
              "#fb9f3a"
             ],
             [
              0.8888888889,
              "#fdca26"
             ],
             [
              1,
              "#f0f921"
             ]
            ],
            "type": "heatmapgl"
           }
          ],
          "histogram": [
           {
            "marker": {
             "colorbar": {
              "outlinewidth": 0,
              "ticks": ""
             }
            },
            "type": "histogram"
           }
          ],
          "histogram2d": [
           {
            "colorbar": {
             "outlinewidth": 0,
             "ticks": ""
            },
            "colorscale": [
             [
              0,
              "#0d0887"
             ],
             [
              0.1111111111,
              "#46039f"
             ],
             [
              0.2222222222,
              "#7201a8"
             ],
             [
              0.3333333333,
              "#9c179e"
             ],
             [
              0.4444444444,
              "#bd3786"
             ],
             [
              0.5555555556,
              "#d8576b"
             ],
             [
              0.6666666667,
              "#ed7953"
             ],
             [
              0.7777777778,
              "#fb9f3a"
             ],
             [
              0.8888888889,
              "#fdca26"
             ],
             [
              1,
              "#f0f921"
             ]
            ],
            "type": "histogram2d"
           }
          ],
          "histogram2dcontour": [
           {
            "colorbar": {
             "outlinewidth": 0,
             "ticks": ""
            },
            "colorscale": [
             [
              0,
              "#0d0887"
             ],
             [
              0.1111111111,
              "#46039f"
             ],
             [
              0.2222222222,
              "#7201a8"
             ],
             [
              0.3333333333,
              "#9c179e"
             ],
             [
              0.4444444444,
              "#bd3786"
             ],
             [
              0.5555555556,
              "#d8576b"
             ],
             [
              0.6666666667,
              "#ed7953"
             ],
             [
              0.7777777778,
              "#fb9f3a"
             ],
             [
              0.8888888889,
              "#fdca26"
             ],
             [
              1,
              "#f0f921"
             ]
            ],
            "type": "histogram2dcontour"
           }
          ],
          "mesh3d": [
           {
            "colorbar": {
             "outlinewidth": 0,
             "ticks": ""
            },
            "type": "mesh3d"
           }
          ],
          "parcoords": [
           {
            "line": {
             "colorbar": {
              "outlinewidth": 0,
              "ticks": ""
             }
            },
            "type": "parcoords"
           }
          ],
          "scatter": [
           {
            "marker": {
             "colorbar": {
              "outlinewidth": 0,
              "ticks": ""
             }
            },
            "type": "scatter"
           }
          ],
          "scatter3d": [
           {
            "line": {
             "colorbar": {
              "outlinewidth": 0,
              "ticks": ""
             }
            },
            "marker": {
             "colorbar": {
              "outlinewidth": 0,
              "ticks": ""
             }
            },
            "type": "scatter3d"
           }
          ],
          "scattercarpet": [
           {
            "marker": {
             "colorbar": {
              "outlinewidth": 0,
              "ticks": ""
             }
            },
            "type": "scattercarpet"
           }
          ],
          "scattergeo": [
           {
            "marker": {
             "colorbar": {
              "outlinewidth": 0,
              "ticks": ""
             }
            },
            "type": "scattergeo"
           }
          ],
          "scattergl": [
           {
            "marker": {
             "colorbar": {
              "outlinewidth": 0,
              "ticks": ""
             }
            },
            "type": "scattergl"
           }
          ],
          "scattermapbox": [
           {
            "marker": {
             "colorbar": {
              "outlinewidth": 0,
              "ticks": ""
             }
            },
            "type": "scattermapbox"
           }
          ],
          "scatterpolar": [
           {
            "marker": {
             "colorbar": {
              "outlinewidth": 0,
              "ticks": ""
             }
            },
            "type": "scatterpolar"
           }
          ],
          "scatterpolargl": [
           {
            "marker": {
             "colorbar": {
              "outlinewidth": 0,
              "ticks": ""
             }
            },
            "type": "scatterpolargl"
           }
          ],
          "scatterternary": [
           {
            "marker": {
             "colorbar": {
              "outlinewidth": 0,
              "ticks": ""
             }
            },
            "type": "scatterternary"
           }
          ],
          "surface": [
           {
            "colorbar": {
             "outlinewidth": 0,
             "ticks": ""
            },
            "colorscale": [
             [
              0,
              "#0d0887"
             ],
             [
              0.1111111111,
              "#46039f"
             ],
             [
              0.2222222222,
              "#7201a8"
             ],
             [
              0.3333333333,
              "#9c179e"
             ],
             [
              0.4444444444,
              "#bd3786"
             ],
             [
              0.5555555556,
              "#d8576b"
             ],
             [
              0.6666666667,
              "#ed7953"
             ],
             [
              0.7777777778,
              "#fb9f3a"
             ],
             [
              0.8888888889,
              "#fdca26"
             ],
             [
              1,
              "#f0f921"
             ]
            ],
            "type": "surface"
           }
          ],
          "table": [
           {
            "cells": {
             "fill": {
              "color": "#EBF0F8"
             },
             "line": {
              "color": "white"
             }
            },
            "header": {
             "fill": {
              "color": "#C8D4E3"
             },
             "line": {
              "color": "white"
             }
            },
            "type": "table"
           }
          ]
         },
         "layout": {
          "annotationdefaults": {
           "arrowcolor": "#2a3f5f",
           "arrowhead": 0,
           "arrowwidth": 1
          },
          "colorscale": {
           "diverging": [
            [
             0,
             "#8e0152"
            ],
            [
             0.1,
             "#c51b7d"
            ],
            [
             0.2,
             "#de77ae"
            ],
            [
             0.3,
             "#f1b6da"
            ],
            [
             0.4,
             "#fde0ef"
            ],
            [
             0.5,
             "#f7f7f7"
            ],
            [
             0.6,
             "#e6f5d0"
            ],
            [
             0.7,
             "#b8e186"
            ],
            [
             0.8,
             "#7fbc41"
            ],
            [
             0.9,
             "#4d9221"
            ],
            [
             1,
             "#276419"
            ]
           ],
           "sequential": [
            [
             0,
             "#0d0887"
            ],
            [
             0.1111111111,
             "#46039f"
            ],
            [
             0.2222222222,
             "#7201a8"
            ],
            [
             0.3333333333,
             "#9c179e"
            ],
            [
             0.4444444444,
             "#bd3786"
            ],
            [
             0.5555555556,
             "#d8576b"
            ],
            [
             0.6666666667,
             "#ed7953"
            ],
            [
             0.7777777778,
             "#fb9f3a"
            ],
            [
             0.8888888889,
             "#fdca26"
            ],
            [
             1,
             "#f0f921"
            ]
           ],
           "sequentialminus": [
            [
             0,
             "#0d0887"
            ],
            [
             0.1111111111,
             "#46039f"
            ],
            [
             0.2222222222,
             "#7201a8"
            ],
            [
             0.3333333333,
             "#9c179e"
            ],
            [
             0.4444444444,
             "#bd3786"
            ],
            [
             0.5555555556,
             "#d8576b"
            ],
            [
             0.6666666667,
             "#ed7953"
            ],
            [
             0.7777777778,
             "#fb9f3a"
            ],
            [
             0.8888888889,
             "#fdca26"
            ],
            [
             1,
             "#f0f921"
            ]
           ]
          },
          "colorway": [
           "#636efa",
           "#EF553B",
           "#00cc96",
           "#ab63fa",
           "#FFA15A",
           "#19d3f3",
           "#FF6692",
           "#B6E880",
           "#FF97FF",
           "#FECB52"
          ],
          "font": {
           "color": "#2a3f5f"
          },
          "geo": {
           "bgcolor": "white",
           "lakecolor": "white",
           "landcolor": "#E5ECF6",
           "showlakes": true,
           "showland": true,
           "subunitcolor": "white"
          },
          "hoverlabel": {
           "align": "left"
          },
          "hovermode": "closest",
          "mapbox": {
           "style": "light"
          },
          "paper_bgcolor": "white",
          "plot_bgcolor": "#E5ECF6",
          "polar": {
           "angularaxis": {
            "gridcolor": "white",
            "linecolor": "white",
            "ticks": ""
           },
           "bgcolor": "#E5ECF6",
           "radialaxis": {
            "gridcolor": "white",
            "linecolor": "white",
            "ticks": ""
           }
          },
          "scene": {
           "xaxis": {
            "backgroundcolor": "#E5ECF6",
            "gridcolor": "white",
            "gridwidth": 2,
            "linecolor": "white",
            "showbackground": true,
            "ticks": "",
            "zerolinecolor": "white"
           },
           "yaxis": {
            "backgroundcolor": "#E5ECF6",
            "gridcolor": "white",
            "gridwidth": 2,
            "linecolor": "white",
            "showbackground": true,
            "ticks": "",
            "zerolinecolor": "white"
           },
           "zaxis": {
            "backgroundcolor": "#E5ECF6",
            "gridcolor": "white",
            "gridwidth": 2,
            "linecolor": "white",
            "showbackground": true,
            "ticks": "",
            "zerolinecolor": "white"
           }
          },
          "shapedefaults": {
           "line": {
            "color": "#2a3f5f"
           }
          },
          "ternary": {
           "aaxis": {
            "gridcolor": "white",
            "linecolor": "white",
            "ticks": ""
           },
           "baxis": {
            "gridcolor": "white",
            "linecolor": "white",
            "ticks": ""
           },
           "bgcolor": "#E5ECF6",
           "caxis": {
            "gridcolor": "white",
            "linecolor": "white",
            "ticks": ""
           }
          },
          "title": {
           "x": 0.05
          },
          "xaxis": {
           "automargin": true,
           "gridcolor": "white",
           "linecolor": "white",
           "ticks": "",
           "zerolinecolor": "white",
           "zerolinewidth": 2
          },
          "yaxis": {
           "automargin": true,
           "gridcolor": "white",
           "linecolor": "white",
           "ticks": "",
           "zerolinecolor": "white",
           "zerolinewidth": 2
          }
         }
        },
        "xaxis": {
         "anchor": "y",
         "domain": [
          0,
          0.98
         ],
         "title": {
          "text": "genre"
         }
        },
        "yaxis": {
         "anchor": "x",
         "domain": [
          0,
          1
         ],
         "title": {
          "text": "jp_sales"
         }
        }
       }
      },
      "text/html": [
       "<div>\n",
       "        \n",
       "        \n",
       "            <div id=\"1839ead6-84eb-4493-8652-702fd9633c86\" class=\"plotly-graph-div\" style=\"height:600px; width:100%;\"></div>\n",
       "            <script type=\"text/javascript\">\n",
       "                require([\"plotly\"], function(Plotly) {\n",
       "                    window.PLOTLYENV=window.PLOTLYENV || {};\n",
       "                    \n",
       "                if (document.getElementById(\"1839ead6-84eb-4493-8652-702fd9633c86\")) {\n",
       "                    Plotly.newPlot(\n",
       "                        '1839ead6-84eb-4493-8652-702fd9633c86',\n",
       "                        [{\"alignmentgroup\": \"True\", \"hoverlabel\": {\"namelength\": 0}, \"hovertemplate\": \"genre=%{x}<br>jp_sales=%{y}\", \"legendgroup\": \"\", \"marker\": {\"color\": \"#636efa\"}, \"name\": \"\", \"offsetgroup\": \"\", \"orientation\": \"v\", \"showlegend\": false, \"textposition\": \"auto\", \"type\": \"bar\", \"x\": [\"racing\", \"sports\", \"misc\", \"platform\", \"shooter\", \"action\", \"shooter\", \"sports\", \"sports\", \"shooter\", \"shooter\", \"shooter\", \"shooter\", \"action\", \"action\", \"shooter\", \"shooter\", \"fighting\", \"platform\", \"shooter\", \"shooter\", \"misc\", \"shooter\", \"misc\", \"misc\", \"shooter\", \"role-playing\", \"role-playing\", \"role-playing\", \"racing\", \"shooter\", \"shooter\", \"platform\", \"shooter\", \"action\", \"shooter\", \"shooter\", \"misc\", \"role-playing\", \"action\", \"shooter\", \"shooter\", \"shooter\", \"shooter\", \"misc\", \"action\", \"sports\", \"misc\", \"action\", \"platform\", \"role-playing\", \"action\", \"platform\", \"misc\", \"misc\", \"sports\", \"role-playing\", \"adventure\", \"action\", \"fighting\", \"shooter\", \"misc\", \"platform\", \"racing\", \"action\", \"shooter\", \"action\", \"shooter\", \"misc\", \"shooter\", \"racing\", \"action\", \"role-playing\", \"racing\", \"action\", \"shooter\", \"action\", \"action\", \"shooter\", \"platform\", \"role-playing\", \"action\", \"shooter\", \"action\", \"shooter\", \"role-playing\", \"action\", \"shooter\", \"action\", \"shooter\", \"shooter\", \"role-playing\", \"misc\", \"action\", \"action\", \"shooter\", \"fighting\", \"sports\", \"strategy\", \"sports\"], \"xaxis\": \"x\", \"y\": [3.79, 3.28, 0.24, 4.7, 0.11, 0.06, 0.13, 2.53, 3.6, 0.08, 0.07, 0.13, 0.08, 0.98, 0.14, 0.04, 0.04, 2.66, 1.2, 0.36, 0.48, 0.0, 0.13, 0.01, 0.02, 0.49, 5.65, 4.35, 0.1, 2.69, 0.38, 0.65, 2.14, 0.0, 0.44, 0.01, 0.06, 1.98, 3.1, 3.96, 0.06, 0.06, 0.38, 0.07, 0.0, 0.38, 0.03, 1.58, 0.09, 2.47, 0.05, 0.0, 0.98, 0.01, 0.0, 0.0, 0.09, 0.07, 0.21, 2.43, 0.01, 0.01, 1.03, 1.28, 0.03, 0.28, 0.08, 0.29, 0.0, 0.22, 0.1, 0.04, 2.26, 0.81, 0.03, 0.35, 0.0, 0.0, 0.14, 0.17, 3.14, 0.17, 0.03, 0.19, 0.0, 2.69, 0.12, 0.0, 0.11, 0.05, 0.05, 0.04, 0.01, 0.16, 0.83, 0.0, 0.81, 0.01, 0.0, 0.66], \"yaxis\": \"y\"}],\n",
       "                        {\"barmode\": \"relative\", \"height\": 600, \"legend\": {\"tracegroupgap\": 0}, \"margin\": {\"t\": 60}, \"template\": {\"data\": {\"bar\": [{\"error_x\": {\"color\": \"#2a3f5f\"}, \"error_y\": {\"color\": \"#2a3f5f\"}, \"marker\": {\"line\": {\"color\": \"#E5ECF6\", \"width\": 0.5}}, \"type\": \"bar\"}], \"barpolar\": [{\"marker\": {\"line\": {\"color\": \"#E5ECF6\", \"width\": 0.5}}, \"type\": \"barpolar\"}], \"carpet\": [{\"aaxis\": {\"endlinecolor\": \"#2a3f5f\", \"gridcolor\": \"white\", \"linecolor\": \"white\", \"minorgridcolor\": \"white\", \"startlinecolor\": \"#2a3f5f\"}, \"baxis\": {\"endlinecolor\": \"#2a3f5f\", \"gridcolor\": \"white\", \"linecolor\": \"white\", \"minorgridcolor\": \"white\", \"startlinecolor\": \"#2a3f5f\"}, \"type\": \"carpet\"}], \"choropleth\": [{\"colorbar\": {\"outlinewidth\": 0, \"ticks\": \"\"}, \"type\": \"choropleth\"}], \"contour\": [{\"colorbar\": {\"outlinewidth\": 0, \"ticks\": \"\"}, \"colorscale\": [[0.0, \"#0d0887\"], [0.1111111111111111, \"#46039f\"], [0.2222222222222222, \"#7201a8\"], [0.3333333333333333, \"#9c179e\"], [0.4444444444444444, \"#bd3786\"], [0.5555555555555556, \"#d8576b\"], [0.6666666666666666, \"#ed7953\"], [0.7777777777777778, \"#fb9f3a\"], [0.8888888888888888, \"#fdca26\"], [1.0, \"#f0f921\"]], \"type\": \"contour\"}], \"contourcarpet\": [{\"colorbar\": {\"outlinewidth\": 0, \"ticks\": \"\"}, \"type\": \"contourcarpet\"}], \"heatmap\": [{\"colorbar\": {\"outlinewidth\": 0, \"ticks\": \"\"}, \"colorscale\": [[0.0, \"#0d0887\"], [0.1111111111111111, \"#46039f\"], [0.2222222222222222, \"#7201a8\"], [0.3333333333333333, \"#9c179e\"], [0.4444444444444444, \"#bd3786\"], [0.5555555555555556, \"#d8576b\"], [0.6666666666666666, \"#ed7953\"], [0.7777777777777778, \"#fb9f3a\"], [0.8888888888888888, \"#fdca26\"], [1.0, \"#f0f921\"]], \"type\": \"heatmap\"}], \"heatmapgl\": [{\"colorbar\": {\"outlinewidth\": 0, \"ticks\": \"\"}, \"colorscale\": [[0.0, \"#0d0887\"], [0.1111111111111111, \"#46039f\"], [0.2222222222222222, \"#7201a8\"], [0.3333333333333333, \"#9c179e\"], [0.4444444444444444, \"#bd3786\"], [0.5555555555555556, \"#d8576b\"], [0.6666666666666666, \"#ed7953\"], [0.7777777777777778, \"#fb9f3a\"], [0.8888888888888888, \"#fdca26\"], [1.0, \"#f0f921\"]], \"type\": \"heatmapgl\"}], \"histogram\": [{\"marker\": {\"colorbar\": {\"outlinewidth\": 0, \"ticks\": \"\"}}, \"type\": \"histogram\"}], \"histogram2d\": [{\"colorbar\": {\"outlinewidth\": 0, \"ticks\": \"\"}, \"colorscale\": [[0.0, \"#0d0887\"], [0.1111111111111111, \"#46039f\"], [0.2222222222222222, \"#7201a8\"], [0.3333333333333333, \"#9c179e\"], [0.4444444444444444, \"#bd3786\"], [0.5555555555555556, \"#d8576b\"], [0.6666666666666666, \"#ed7953\"], [0.7777777777777778, \"#fb9f3a\"], [0.8888888888888888, \"#fdca26\"], [1.0, \"#f0f921\"]], \"type\": \"histogram2d\"}], \"histogram2dcontour\": [{\"colorbar\": {\"outlinewidth\": 0, \"ticks\": \"\"}, \"colorscale\": [[0.0, \"#0d0887\"], [0.1111111111111111, \"#46039f\"], [0.2222222222222222, \"#7201a8\"], [0.3333333333333333, \"#9c179e\"], [0.4444444444444444, \"#bd3786\"], [0.5555555555555556, \"#d8576b\"], [0.6666666666666666, \"#ed7953\"], [0.7777777777777778, \"#fb9f3a\"], [0.8888888888888888, \"#fdca26\"], [1.0, \"#f0f921\"]], \"type\": \"histogram2dcontour\"}], \"mesh3d\": [{\"colorbar\": {\"outlinewidth\": 0, \"ticks\": \"\"}, \"type\": \"mesh3d\"}], \"parcoords\": [{\"line\": {\"colorbar\": {\"outlinewidth\": 0, \"ticks\": \"\"}}, \"type\": \"parcoords\"}], \"scatter\": [{\"marker\": {\"colorbar\": {\"outlinewidth\": 0, \"ticks\": \"\"}}, \"type\": \"scatter\"}], \"scatter3d\": [{\"line\": {\"colorbar\": {\"outlinewidth\": 0, \"ticks\": \"\"}}, \"marker\": {\"colorbar\": {\"outlinewidth\": 0, \"ticks\": \"\"}}, \"type\": \"scatter3d\"}], \"scattercarpet\": [{\"marker\": {\"colorbar\": {\"outlinewidth\": 0, \"ticks\": \"\"}}, \"type\": \"scattercarpet\"}], \"scattergeo\": [{\"marker\": {\"colorbar\": {\"outlinewidth\": 0, \"ticks\": \"\"}}, \"type\": \"scattergeo\"}], \"scattergl\": [{\"marker\": {\"colorbar\": {\"outlinewidth\": 0, \"ticks\": \"\"}}, \"type\": \"scattergl\"}], \"scattermapbox\": [{\"marker\": {\"colorbar\": {\"outlinewidth\": 0, \"ticks\": \"\"}}, \"type\": \"scattermapbox\"}], \"scatterpolar\": [{\"marker\": {\"colorbar\": {\"outlinewidth\": 0, \"ticks\": \"\"}}, \"type\": \"scatterpolar\"}], \"scatterpolargl\": [{\"marker\": {\"colorbar\": {\"outlinewidth\": 0, \"ticks\": \"\"}}, \"type\": \"scatterpolargl\"}], \"scatterternary\": [{\"marker\": {\"colorbar\": {\"outlinewidth\": 0, \"ticks\": \"\"}}, \"type\": \"scatterternary\"}], \"surface\": [{\"colorbar\": {\"outlinewidth\": 0, \"ticks\": \"\"}, \"colorscale\": [[0.0, \"#0d0887\"], [0.1111111111111111, \"#46039f\"], [0.2222222222222222, \"#7201a8\"], [0.3333333333333333, \"#9c179e\"], [0.4444444444444444, \"#bd3786\"], [0.5555555555555556, \"#d8576b\"], [0.6666666666666666, \"#ed7953\"], [0.7777777777777778, \"#fb9f3a\"], [0.8888888888888888, \"#fdca26\"], [1.0, \"#f0f921\"]], \"type\": \"surface\"}], \"table\": [{\"cells\": {\"fill\": {\"color\": \"#EBF0F8\"}, \"line\": {\"color\": \"white\"}}, \"header\": {\"fill\": {\"color\": \"#C8D4E3\"}, \"line\": {\"color\": \"white\"}}, \"type\": \"table\"}]}, \"layout\": {\"annotationdefaults\": {\"arrowcolor\": \"#2a3f5f\", \"arrowhead\": 0, \"arrowwidth\": 1}, \"colorscale\": {\"diverging\": [[0, \"#8e0152\"], [0.1, \"#c51b7d\"], [0.2, \"#de77ae\"], [0.3, \"#f1b6da\"], [0.4, \"#fde0ef\"], [0.5, \"#f7f7f7\"], [0.6, \"#e6f5d0\"], [0.7, \"#b8e186\"], [0.8, \"#7fbc41\"], [0.9, \"#4d9221\"], [1, \"#276419\"]], \"sequential\": [[0.0, \"#0d0887\"], [0.1111111111111111, \"#46039f\"], [0.2222222222222222, \"#7201a8\"], [0.3333333333333333, \"#9c179e\"], [0.4444444444444444, \"#bd3786\"], [0.5555555555555556, \"#d8576b\"], [0.6666666666666666, \"#ed7953\"], [0.7777777777777778, \"#fb9f3a\"], [0.8888888888888888, \"#fdca26\"], [1.0, \"#f0f921\"]], \"sequentialminus\": [[0.0, \"#0d0887\"], [0.1111111111111111, \"#46039f\"], [0.2222222222222222, \"#7201a8\"], [0.3333333333333333, \"#9c179e\"], [0.4444444444444444, \"#bd3786\"], [0.5555555555555556, \"#d8576b\"], [0.6666666666666666, \"#ed7953\"], [0.7777777777777778, \"#fb9f3a\"], [0.8888888888888888, \"#fdca26\"], [1.0, \"#f0f921\"]]}, \"colorway\": [\"#636efa\", \"#EF553B\", \"#00cc96\", \"#ab63fa\", \"#FFA15A\", \"#19d3f3\", \"#FF6692\", \"#B6E880\", \"#FF97FF\", \"#FECB52\"], \"font\": {\"color\": \"#2a3f5f\"}, \"geo\": {\"bgcolor\": \"white\", \"lakecolor\": \"white\", \"landcolor\": \"#E5ECF6\", \"showlakes\": true, \"showland\": true, \"subunitcolor\": \"white\"}, \"hoverlabel\": {\"align\": \"left\"}, \"hovermode\": \"closest\", \"mapbox\": {\"style\": \"light\"}, \"paper_bgcolor\": \"white\", \"plot_bgcolor\": \"#E5ECF6\", \"polar\": {\"angularaxis\": {\"gridcolor\": \"white\", \"linecolor\": \"white\", \"ticks\": \"\"}, \"bgcolor\": \"#E5ECF6\", \"radialaxis\": {\"gridcolor\": \"white\", \"linecolor\": \"white\", \"ticks\": \"\"}}, \"scene\": {\"xaxis\": {\"backgroundcolor\": \"#E5ECF6\", \"gridcolor\": \"white\", \"gridwidth\": 2, \"linecolor\": \"white\", \"showbackground\": true, \"ticks\": \"\", \"zerolinecolor\": \"white\"}, \"yaxis\": {\"backgroundcolor\": \"#E5ECF6\", \"gridcolor\": \"white\", \"gridwidth\": 2, \"linecolor\": \"white\", \"showbackground\": true, \"ticks\": \"\", \"zerolinecolor\": \"white\"}, \"zaxis\": {\"backgroundcolor\": \"#E5ECF6\", \"gridcolor\": \"white\", \"gridwidth\": 2, \"linecolor\": \"white\", \"showbackground\": true, \"ticks\": \"\", \"zerolinecolor\": \"white\"}}, \"shapedefaults\": {\"line\": {\"color\": \"#2a3f5f\"}}, \"ternary\": {\"aaxis\": {\"gridcolor\": \"white\", \"linecolor\": \"white\", \"ticks\": \"\"}, \"baxis\": {\"gridcolor\": \"white\", \"linecolor\": \"white\", \"ticks\": \"\"}, \"bgcolor\": \"#E5ECF6\", \"caxis\": {\"gridcolor\": \"white\", \"linecolor\": \"white\", \"ticks\": \"\"}}, \"title\": {\"x\": 0.05}, \"xaxis\": {\"automargin\": true, \"gridcolor\": \"white\", \"linecolor\": \"white\", \"ticks\": \"\", \"zerolinecolor\": \"white\", \"zerolinewidth\": 2}, \"yaxis\": {\"automargin\": true, \"gridcolor\": \"white\", \"linecolor\": \"white\", \"ticks\": \"\", \"zerolinecolor\": \"white\", \"zerolinewidth\": 2}}}, \"xaxis\": {\"anchor\": \"y\", \"domain\": [0.0, 0.98], \"title\": {\"text\": \"genre\"}}, \"yaxis\": {\"anchor\": \"x\", \"domain\": [0.0, 1.0], \"title\": {\"text\": \"jp_sales\"}}},\n",
       "                        {\"responsive\": true}\n",
       "                    ).then(function(){\n",
       "                            \n",
       "var gd = document.getElementById('1839ead6-84eb-4493-8652-702fd9633c86');\n",
       "var x = new MutationObserver(function (mutations, observer) {{\n",
       "        var display = window.getComputedStyle(gd).display;\n",
       "        if (!display || display === 'none') {{\n",
       "            console.log([gd, 'removed!']);\n",
       "            Plotly.purge(gd);\n",
       "            observer.disconnect();\n",
       "        }}\n",
       "}});\n",
       "\n",
       "// Listen for the removal of the full notebook cells\n",
       "var notebookContainer = gd.closest('#notebook-container');\n",
       "if (notebookContainer) {{\n",
       "    x.observe(notebookContainer, {childList: true});\n",
       "}}\n",
       "\n",
       "// Listen for the clearing of the current output cell\n",
       "var outputEl = gd.closest('.output');\n",
       "if (outputEl) {{\n",
       "    x.observe(outputEl, {childList: true});\n",
       "}}\n",
       "\n",
       "                        })\n",
       "                };\n",
       "                });\n",
       "            </script>\n",
       "        </div>"
      ]
     },
     "metadata": {},
     "output_type": "display_data"
    }
   ],
   "source": [
    "top_genre = games_new.sort_values(by='jp_sales', axis=0, ascending=False)[:200]\n",
    "\n",
    "fig = px.bar(top_platform , \n",
    "             x='genre', \n",
    "             y='jp_sales',\n",
    "            )\n",
    "\n",
    "fig.show()"
   ]
  },
  {
   "cell_type": "code",
   "execution_count": 38,
   "id": "140283c6",
   "metadata": {},
   "outputs": [
    {
     "data": {
      "text/html": [
       "<div>\n",
       "<style scoped>\n",
       "    .dataframe tbody tr th:only-of-type {\n",
       "        vertical-align: middle;\n",
       "    }\n",
       "\n",
       "    .dataframe tbody tr th {\n",
       "        vertical-align: top;\n",
       "    }\n",
       "\n",
       "    .dataframe thead th {\n",
       "        text-align: right;\n",
       "    }\n",
       "</style>\n",
       "<table border=\"1\" class=\"dataframe\">\n",
       "  <thead>\n",
       "    <tr style=\"text-align: right;\">\n",
       "      <th></th>\n",
       "      <th>rating</th>\n",
       "      <th>jp_sales</th>\n",
       "    </tr>\n",
       "  </thead>\n",
       "  <tbody>\n",
       "    <tr>\n",
       "      <td>0</td>\n",
       "      <td>E</td>\n",
       "      <td>95.06</td>\n",
       "    </tr>\n",
       "    <tr>\n",
       "      <td>5</td>\n",
       "      <td>T</td>\n",
       "      <td>74.74</td>\n",
       "    </tr>\n",
       "    <tr>\n",
       "      <td>3</td>\n",
       "      <td>M</td>\n",
       "      <td>41.09</td>\n",
       "    </tr>\n",
       "    <tr>\n",
       "      <td>1</td>\n",
       "      <td>E10+</td>\n",
       "      <td>31.91</td>\n",
       "    </tr>\n",
       "    <tr>\n",
       "      <td>2</td>\n",
       "      <td>EC</td>\n",
       "      <td>0.00</td>\n",
       "    </tr>\n",
       "  </tbody>\n",
       "</table>\n",
       "</div>"
      ],
      "text/plain": [
       "  rating  jp_sales\n",
       "0      E     95.06\n",
       "5      T     74.74\n",
       "3      M     41.09\n",
       "1   E10+     31.91\n",
       "2     EC      0.00"
      ]
     },
     "execution_count": 38,
     "metadata": {},
     "output_type": "execute_result"
    }
   ],
   "source": [
    "(games_new\n",
    " .query('rating != 1')\n",
    " .groupby('rating')['jp_sales']\n",
    " .sum()\n",
    " .reset_index()\n",
    " .sort_values(by='jp_sales', ascending=False)\n",
    " .head(5)\n",
    ")\n",
    "#Рейтинг в японии"
   ]
  },
  {
   "cell_type": "code",
   "execution_count": 112,
   "id": "2c4d0a3d",
   "metadata": {},
   "outputs": [
    {
     "data": {
      "application/vnd.plotly.v1+json": {
       "config": {
        "plotlyServerURL": "https://plot.ly"
       },
       "data": [
        {
         "alignmentgroup": "True",
         "hoverlabel": {
          "namelength": 0
         },
         "hovertemplate": "rating=%{x}<br>jp_sales=%{y}",
         "legendgroup": "",
         "marker": {
          "color": "#636efa"
         },
         "name": "",
         "offsetgroup": "",
         "orientation": "v",
         "showlegend": false,
         "textposition": "auto",
         "type": "bar",
         "x": [
          "E",
          "E",
          "E",
          "E",
          "M",
          "M",
          "M",
          "E",
          "E",
          "M",
          "M",
          "M",
          "M",
          "M",
          "M",
          "M",
          "M",
          "T",
          "E",
          null,
          "M",
          "E10+",
          "M",
          "E10+",
          null,
          "M",
          null,
          null,
          "M",
          "E",
          "M",
          "M",
          "E",
          "M",
          "M",
          null,
          "M",
          "E",
          null,
          null,
          "M",
          "M",
          "M",
          "M",
          "E10+",
          "M",
          "E10+",
          "E",
          "M",
          "E",
          "M",
          "E10+",
          "E",
          "T",
          "E10+",
          "E",
          "M",
          "M",
          "T",
          null,
          "M",
          "T",
          "E",
          "E",
          "M",
          "M",
          "M",
          "T",
          "T",
          null,
          "E",
          "T",
          null,
          "E",
          "M",
          "M",
          "E",
          "M",
          "M",
          "E",
          null,
          "M",
          "T",
          "T",
          "M",
          "E",
          "M",
          "M",
          "T",
          "M",
          "M",
          "M",
          "E10+",
          "M",
          "M",
          "M",
          null,
          "E",
          "T",
          null
         ],
         "xaxis": "x",
         "y": [
          3.79,
          3.28,
          0.24,
          4.7,
          0.11,
          0.06,
          0.13,
          2.53,
          3.6,
          0.08,
          0.07,
          0.13,
          0.08,
          0.98,
          0.14,
          0.04,
          0.04,
          2.66,
          1.2,
          0.36,
          0.48,
          0,
          0.13,
          0.01,
          0.02,
          0.49,
          5.65,
          4.35,
          0.1,
          2.69,
          0.38,
          0.65,
          2.14,
          0,
          0.44,
          0.01,
          0.06,
          1.98,
          3.1,
          3.96,
          0.06,
          0.06,
          0.38,
          0.07,
          0,
          0.38,
          0.03,
          1.58,
          0.09,
          2.47,
          0.05,
          0,
          0.98,
          0.01,
          0,
          0,
          0.09,
          0.07,
          0.21,
          2.43,
          0.01,
          0.01,
          1.03,
          1.28,
          0.03,
          0.28,
          0.08,
          0.29,
          0,
          0.22,
          0.1,
          0.04,
          2.26,
          0.81,
          0.03,
          0.35,
          0,
          0,
          0.14,
          0.17,
          3.14,
          0.17,
          0.03,
          0.19,
          0,
          2.69,
          0.12,
          0,
          0.11,
          0.05,
          0.05,
          0.04,
          0.01,
          0.16,
          0.83,
          0,
          0.81,
          0.01,
          0,
          0.66
         ],
         "yaxis": "y"
        }
       ],
       "layout": {
        "barmode": "relative",
        "height": 600,
        "legend": {
         "tracegroupgap": 0
        },
        "margin": {
         "t": 60
        },
        "template": {
         "data": {
          "bar": [
           {
            "error_x": {
             "color": "#2a3f5f"
            },
            "error_y": {
             "color": "#2a3f5f"
            },
            "marker": {
             "line": {
              "color": "#E5ECF6",
              "width": 0.5
             }
            },
            "type": "bar"
           }
          ],
          "barpolar": [
           {
            "marker": {
             "line": {
              "color": "#E5ECF6",
              "width": 0.5
             }
            },
            "type": "barpolar"
           }
          ],
          "carpet": [
           {
            "aaxis": {
             "endlinecolor": "#2a3f5f",
             "gridcolor": "white",
             "linecolor": "white",
             "minorgridcolor": "white",
             "startlinecolor": "#2a3f5f"
            },
            "baxis": {
             "endlinecolor": "#2a3f5f",
             "gridcolor": "white",
             "linecolor": "white",
             "minorgridcolor": "white",
             "startlinecolor": "#2a3f5f"
            },
            "type": "carpet"
           }
          ],
          "choropleth": [
           {
            "colorbar": {
             "outlinewidth": 0,
             "ticks": ""
            },
            "type": "choropleth"
           }
          ],
          "contour": [
           {
            "colorbar": {
             "outlinewidth": 0,
             "ticks": ""
            },
            "colorscale": [
             [
              0,
              "#0d0887"
             ],
             [
              0.1111111111,
              "#46039f"
             ],
             [
              0.2222222222,
              "#7201a8"
             ],
             [
              0.3333333333,
              "#9c179e"
             ],
             [
              0.4444444444,
              "#bd3786"
             ],
             [
              0.5555555556,
              "#d8576b"
             ],
             [
              0.6666666667,
              "#ed7953"
             ],
             [
              0.7777777778,
              "#fb9f3a"
             ],
             [
              0.8888888889,
              "#fdca26"
             ],
             [
              1,
              "#f0f921"
             ]
            ],
            "type": "contour"
           }
          ],
          "contourcarpet": [
           {
            "colorbar": {
             "outlinewidth": 0,
             "ticks": ""
            },
            "type": "contourcarpet"
           }
          ],
          "heatmap": [
           {
            "colorbar": {
             "outlinewidth": 0,
             "ticks": ""
            },
            "colorscale": [
             [
              0,
              "#0d0887"
             ],
             [
              0.1111111111,
              "#46039f"
             ],
             [
              0.2222222222,
              "#7201a8"
             ],
             [
              0.3333333333,
              "#9c179e"
             ],
             [
              0.4444444444,
              "#bd3786"
             ],
             [
              0.5555555556,
              "#d8576b"
             ],
             [
              0.6666666667,
              "#ed7953"
             ],
             [
              0.7777777778,
              "#fb9f3a"
             ],
             [
              0.8888888889,
              "#fdca26"
             ],
             [
              1,
              "#f0f921"
             ]
            ],
            "type": "heatmap"
           }
          ],
          "heatmapgl": [
           {
            "colorbar": {
             "outlinewidth": 0,
             "ticks": ""
            },
            "colorscale": [
             [
              0,
              "#0d0887"
             ],
             [
              0.1111111111,
              "#46039f"
             ],
             [
              0.2222222222,
              "#7201a8"
             ],
             [
              0.3333333333,
              "#9c179e"
             ],
             [
              0.4444444444,
              "#bd3786"
             ],
             [
              0.5555555556,
              "#d8576b"
             ],
             [
              0.6666666667,
              "#ed7953"
             ],
             [
              0.7777777778,
              "#fb9f3a"
             ],
             [
              0.8888888889,
              "#fdca26"
             ],
             [
              1,
              "#f0f921"
             ]
            ],
            "type": "heatmapgl"
           }
          ],
          "histogram": [
           {
            "marker": {
             "colorbar": {
              "outlinewidth": 0,
              "ticks": ""
             }
            },
            "type": "histogram"
           }
          ],
          "histogram2d": [
           {
            "colorbar": {
             "outlinewidth": 0,
             "ticks": ""
            },
            "colorscale": [
             [
              0,
              "#0d0887"
             ],
             [
              0.1111111111,
              "#46039f"
             ],
             [
              0.2222222222,
              "#7201a8"
             ],
             [
              0.3333333333,
              "#9c179e"
             ],
             [
              0.4444444444,
              "#bd3786"
             ],
             [
              0.5555555556,
              "#d8576b"
             ],
             [
              0.6666666667,
              "#ed7953"
             ],
             [
              0.7777777778,
              "#fb9f3a"
             ],
             [
              0.8888888889,
              "#fdca26"
             ],
             [
              1,
              "#f0f921"
             ]
            ],
            "type": "histogram2d"
           }
          ],
          "histogram2dcontour": [
           {
            "colorbar": {
             "outlinewidth": 0,
             "ticks": ""
            },
            "colorscale": [
             [
              0,
              "#0d0887"
             ],
             [
              0.1111111111,
              "#46039f"
             ],
             [
              0.2222222222,
              "#7201a8"
             ],
             [
              0.3333333333,
              "#9c179e"
             ],
             [
              0.4444444444,
              "#bd3786"
             ],
             [
              0.5555555556,
              "#d8576b"
             ],
             [
              0.6666666667,
              "#ed7953"
             ],
             [
              0.7777777778,
              "#fb9f3a"
             ],
             [
              0.8888888889,
              "#fdca26"
             ],
             [
              1,
              "#f0f921"
             ]
            ],
            "type": "histogram2dcontour"
           }
          ],
          "mesh3d": [
           {
            "colorbar": {
             "outlinewidth": 0,
             "ticks": ""
            },
            "type": "mesh3d"
           }
          ],
          "parcoords": [
           {
            "line": {
             "colorbar": {
              "outlinewidth": 0,
              "ticks": ""
             }
            },
            "type": "parcoords"
           }
          ],
          "scatter": [
           {
            "marker": {
             "colorbar": {
              "outlinewidth": 0,
              "ticks": ""
             }
            },
            "type": "scatter"
           }
          ],
          "scatter3d": [
           {
            "line": {
             "colorbar": {
              "outlinewidth": 0,
              "ticks": ""
             }
            },
            "marker": {
             "colorbar": {
              "outlinewidth": 0,
              "ticks": ""
             }
            },
            "type": "scatter3d"
           }
          ],
          "scattercarpet": [
           {
            "marker": {
             "colorbar": {
              "outlinewidth": 0,
              "ticks": ""
             }
            },
            "type": "scattercarpet"
           }
          ],
          "scattergeo": [
           {
            "marker": {
             "colorbar": {
              "outlinewidth": 0,
              "ticks": ""
             }
            },
            "type": "scattergeo"
           }
          ],
          "scattergl": [
           {
            "marker": {
             "colorbar": {
              "outlinewidth": 0,
              "ticks": ""
             }
            },
            "type": "scattergl"
           }
          ],
          "scattermapbox": [
           {
            "marker": {
             "colorbar": {
              "outlinewidth": 0,
              "ticks": ""
             }
            },
            "type": "scattermapbox"
           }
          ],
          "scatterpolar": [
           {
            "marker": {
             "colorbar": {
              "outlinewidth": 0,
              "ticks": ""
             }
            },
            "type": "scatterpolar"
           }
          ],
          "scatterpolargl": [
           {
            "marker": {
             "colorbar": {
              "outlinewidth": 0,
              "ticks": ""
             }
            },
            "type": "scatterpolargl"
           }
          ],
          "scatterternary": [
           {
            "marker": {
             "colorbar": {
              "outlinewidth": 0,
              "ticks": ""
             }
            },
            "type": "scatterternary"
           }
          ],
          "surface": [
           {
            "colorbar": {
             "outlinewidth": 0,
             "ticks": ""
            },
            "colorscale": [
             [
              0,
              "#0d0887"
             ],
             [
              0.1111111111,
              "#46039f"
             ],
             [
              0.2222222222,
              "#7201a8"
             ],
             [
              0.3333333333,
              "#9c179e"
             ],
             [
              0.4444444444,
              "#bd3786"
             ],
             [
              0.5555555556,
              "#d8576b"
             ],
             [
              0.6666666667,
              "#ed7953"
             ],
             [
              0.7777777778,
              "#fb9f3a"
             ],
             [
              0.8888888889,
              "#fdca26"
             ],
             [
              1,
              "#f0f921"
             ]
            ],
            "type": "surface"
           }
          ],
          "table": [
           {
            "cells": {
             "fill": {
              "color": "#EBF0F8"
             },
             "line": {
              "color": "white"
             }
            },
            "header": {
             "fill": {
              "color": "#C8D4E3"
             },
             "line": {
              "color": "white"
             }
            },
            "type": "table"
           }
          ]
         },
         "layout": {
          "annotationdefaults": {
           "arrowcolor": "#2a3f5f",
           "arrowhead": 0,
           "arrowwidth": 1
          },
          "colorscale": {
           "diverging": [
            [
             0,
             "#8e0152"
            ],
            [
             0.1,
             "#c51b7d"
            ],
            [
             0.2,
             "#de77ae"
            ],
            [
             0.3,
             "#f1b6da"
            ],
            [
             0.4,
             "#fde0ef"
            ],
            [
             0.5,
             "#f7f7f7"
            ],
            [
             0.6,
             "#e6f5d0"
            ],
            [
             0.7,
             "#b8e186"
            ],
            [
             0.8,
             "#7fbc41"
            ],
            [
             0.9,
             "#4d9221"
            ],
            [
             1,
             "#276419"
            ]
           ],
           "sequential": [
            [
             0,
             "#0d0887"
            ],
            [
             0.1111111111,
             "#46039f"
            ],
            [
             0.2222222222,
             "#7201a8"
            ],
            [
             0.3333333333,
             "#9c179e"
            ],
            [
             0.4444444444,
             "#bd3786"
            ],
            [
             0.5555555556,
             "#d8576b"
            ],
            [
             0.6666666667,
             "#ed7953"
            ],
            [
             0.7777777778,
             "#fb9f3a"
            ],
            [
             0.8888888889,
             "#fdca26"
            ],
            [
             1,
             "#f0f921"
            ]
           ],
           "sequentialminus": [
            [
             0,
             "#0d0887"
            ],
            [
             0.1111111111,
             "#46039f"
            ],
            [
             0.2222222222,
             "#7201a8"
            ],
            [
             0.3333333333,
             "#9c179e"
            ],
            [
             0.4444444444,
             "#bd3786"
            ],
            [
             0.5555555556,
             "#d8576b"
            ],
            [
             0.6666666667,
             "#ed7953"
            ],
            [
             0.7777777778,
             "#fb9f3a"
            ],
            [
             0.8888888889,
             "#fdca26"
            ],
            [
             1,
             "#f0f921"
            ]
           ]
          },
          "colorway": [
           "#636efa",
           "#EF553B",
           "#00cc96",
           "#ab63fa",
           "#FFA15A",
           "#19d3f3",
           "#FF6692",
           "#B6E880",
           "#FF97FF",
           "#FECB52"
          ],
          "font": {
           "color": "#2a3f5f"
          },
          "geo": {
           "bgcolor": "white",
           "lakecolor": "white",
           "landcolor": "#E5ECF6",
           "showlakes": true,
           "showland": true,
           "subunitcolor": "white"
          },
          "hoverlabel": {
           "align": "left"
          },
          "hovermode": "closest",
          "mapbox": {
           "style": "light"
          },
          "paper_bgcolor": "white",
          "plot_bgcolor": "#E5ECF6",
          "polar": {
           "angularaxis": {
            "gridcolor": "white",
            "linecolor": "white",
            "ticks": ""
           },
           "bgcolor": "#E5ECF6",
           "radialaxis": {
            "gridcolor": "white",
            "linecolor": "white",
            "ticks": ""
           }
          },
          "scene": {
           "xaxis": {
            "backgroundcolor": "#E5ECF6",
            "gridcolor": "white",
            "gridwidth": 2,
            "linecolor": "white",
            "showbackground": true,
            "ticks": "",
            "zerolinecolor": "white"
           },
           "yaxis": {
            "backgroundcolor": "#E5ECF6",
            "gridcolor": "white",
            "gridwidth": 2,
            "linecolor": "white",
            "showbackground": true,
            "ticks": "",
            "zerolinecolor": "white"
           },
           "zaxis": {
            "backgroundcolor": "#E5ECF6",
            "gridcolor": "white",
            "gridwidth": 2,
            "linecolor": "white",
            "showbackground": true,
            "ticks": "",
            "zerolinecolor": "white"
           }
          },
          "shapedefaults": {
           "line": {
            "color": "#2a3f5f"
           }
          },
          "ternary": {
           "aaxis": {
            "gridcolor": "white",
            "linecolor": "white",
            "ticks": ""
           },
           "baxis": {
            "gridcolor": "white",
            "linecolor": "white",
            "ticks": ""
           },
           "bgcolor": "#E5ECF6",
           "caxis": {
            "gridcolor": "white",
            "linecolor": "white",
            "ticks": ""
           }
          },
          "title": {
           "x": 0.05
          },
          "xaxis": {
           "automargin": true,
           "gridcolor": "white",
           "linecolor": "white",
           "ticks": "",
           "zerolinecolor": "white",
           "zerolinewidth": 2
          },
          "yaxis": {
           "automargin": true,
           "gridcolor": "white",
           "linecolor": "white",
           "ticks": "",
           "zerolinecolor": "white",
           "zerolinewidth": 2
          }
         }
        },
        "xaxis": {
         "anchor": "y",
         "domain": [
          0,
          0.98
         ],
         "title": {
          "text": "rating"
         }
        },
        "yaxis": {
         "anchor": "x",
         "domain": [
          0,
          1
         ],
         "title": {
          "text": "jp_sales"
         }
        }
       }
      },
      "text/html": [
       "<div>\n",
       "        \n",
       "        \n",
       "            <div id=\"3f2acf23-c95d-4521-9f77-6827c132bb5f\" class=\"plotly-graph-div\" style=\"height:600px; width:100%;\"></div>\n",
       "            <script type=\"text/javascript\">\n",
       "                require([\"plotly\"], function(Plotly) {\n",
       "                    window.PLOTLYENV=window.PLOTLYENV || {};\n",
       "                    \n",
       "                if (document.getElementById(\"3f2acf23-c95d-4521-9f77-6827c132bb5f\")) {\n",
       "                    Plotly.newPlot(\n",
       "                        '3f2acf23-c95d-4521-9f77-6827c132bb5f',\n",
       "                        [{\"alignmentgroup\": \"True\", \"hoverlabel\": {\"namelength\": 0}, \"hovertemplate\": \"rating=%{x}<br>jp_sales=%{y}\", \"legendgroup\": \"\", \"marker\": {\"color\": \"#636efa\"}, \"name\": \"\", \"offsetgroup\": \"\", \"orientation\": \"v\", \"showlegend\": false, \"textposition\": \"auto\", \"type\": \"bar\", \"x\": [\"E\", \"E\", \"E\", \"E\", \"M\", \"M\", \"M\", \"E\", \"E\", \"M\", \"M\", \"M\", \"M\", \"M\", \"M\", \"M\", \"M\", \"T\", \"E\", null, \"M\", \"E10+\", \"M\", \"E10+\", null, \"M\", null, null, \"M\", \"E\", \"M\", \"M\", \"E\", \"M\", \"M\", null, \"M\", \"E\", null, null, \"M\", \"M\", \"M\", \"M\", \"E10+\", \"M\", \"E10+\", \"E\", \"M\", \"E\", \"M\", \"E10+\", \"E\", \"T\", \"E10+\", \"E\", \"M\", \"M\", \"T\", null, \"M\", \"T\", \"E\", \"E\", \"M\", \"M\", \"M\", \"T\", \"T\", null, \"E\", \"T\", null, \"E\", \"M\", \"M\", \"E\", \"M\", \"M\", \"E\", null, \"M\", \"T\", \"T\", \"M\", \"E\", \"M\", \"M\", \"T\", \"M\", \"M\", \"M\", \"E10+\", \"M\", \"M\", \"M\", null, \"E\", \"T\", null], \"xaxis\": \"x\", \"y\": [3.79, 3.28, 0.24, 4.7, 0.11, 0.06, 0.13, 2.53, 3.6, 0.08, 0.07, 0.13, 0.08, 0.98, 0.14, 0.04, 0.04, 2.66, 1.2, 0.36, 0.48, 0.0, 0.13, 0.01, 0.02, 0.49, 5.65, 4.35, 0.1, 2.69, 0.38, 0.65, 2.14, 0.0, 0.44, 0.01, 0.06, 1.98, 3.1, 3.96, 0.06, 0.06, 0.38, 0.07, 0.0, 0.38, 0.03, 1.58, 0.09, 2.47, 0.05, 0.0, 0.98, 0.01, 0.0, 0.0, 0.09, 0.07, 0.21, 2.43, 0.01, 0.01, 1.03, 1.28, 0.03, 0.28, 0.08, 0.29, 0.0, 0.22, 0.1, 0.04, 2.26, 0.81, 0.03, 0.35, 0.0, 0.0, 0.14, 0.17, 3.14, 0.17, 0.03, 0.19, 0.0, 2.69, 0.12, 0.0, 0.11, 0.05, 0.05, 0.04, 0.01, 0.16, 0.83, 0.0, 0.81, 0.01, 0.0, 0.66], \"yaxis\": \"y\"}],\n",
       "                        {\"barmode\": \"relative\", \"height\": 600, \"legend\": {\"tracegroupgap\": 0}, \"margin\": {\"t\": 60}, \"template\": {\"data\": {\"bar\": [{\"error_x\": {\"color\": \"#2a3f5f\"}, \"error_y\": {\"color\": \"#2a3f5f\"}, \"marker\": {\"line\": {\"color\": \"#E5ECF6\", \"width\": 0.5}}, \"type\": \"bar\"}], \"barpolar\": [{\"marker\": {\"line\": {\"color\": \"#E5ECF6\", \"width\": 0.5}}, \"type\": \"barpolar\"}], \"carpet\": [{\"aaxis\": {\"endlinecolor\": \"#2a3f5f\", \"gridcolor\": \"white\", \"linecolor\": \"white\", \"minorgridcolor\": \"white\", \"startlinecolor\": \"#2a3f5f\"}, \"baxis\": {\"endlinecolor\": \"#2a3f5f\", \"gridcolor\": \"white\", \"linecolor\": \"white\", \"minorgridcolor\": \"white\", \"startlinecolor\": \"#2a3f5f\"}, \"type\": \"carpet\"}], \"choropleth\": [{\"colorbar\": {\"outlinewidth\": 0, \"ticks\": \"\"}, \"type\": \"choropleth\"}], \"contour\": [{\"colorbar\": {\"outlinewidth\": 0, \"ticks\": \"\"}, \"colorscale\": [[0.0, \"#0d0887\"], [0.1111111111111111, \"#46039f\"], [0.2222222222222222, \"#7201a8\"], [0.3333333333333333, \"#9c179e\"], [0.4444444444444444, \"#bd3786\"], [0.5555555555555556, \"#d8576b\"], [0.6666666666666666, \"#ed7953\"], [0.7777777777777778, \"#fb9f3a\"], [0.8888888888888888, \"#fdca26\"], [1.0, \"#f0f921\"]], \"type\": \"contour\"}], \"contourcarpet\": [{\"colorbar\": {\"outlinewidth\": 0, \"ticks\": \"\"}, \"type\": \"contourcarpet\"}], \"heatmap\": [{\"colorbar\": {\"outlinewidth\": 0, \"ticks\": \"\"}, \"colorscale\": [[0.0, \"#0d0887\"], [0.1111111111111111, \"#46039f\"], [0.2222222222222222, \"#7201a8\"], [0.3333333333333333, \"#9c179e\"], [0.4444444444444444, \"#bd3786\"], [0.5555555555555556, \"#d8576b\"], [0.6666666666666666, \"#ed7953\"], [0.7777777777777778, \"#fb9f3a\"], [0.8888888888888888, \"#fdca26\"], [1.0, \"#f0f921\"]], \"type\": \"heatmap\"}], \"heatmapgl\": [{\"colorbar\": {\"outlinewidth\": 0, \"ticks\": \"\"}, \"colorscale\": [[0.0, \"#0d0887\"], [0.1111111111111111, \"#46039f\"], [0.2222222222222222, \"#7201a8\"], [0.3333333333333333, \"#9c179e\"], [0.4444444444444444, \"#bd3786\"], [0.5555555555555556, \"#d8576b\"], [0.6666666666666666, \"#ed7953\"], [0.7777777777777778, \"#fb9f3a\"], [0.8888888888888888, \"#fdca26\"], [1.0, \"#f0f921\"]], \"type\": \"heatmapgl\"}], \"histogram\": [{\"marker\": {\"colorbar\": {\"outlinewidth\": 0, \"ticks\": \"\"}}, \"type\": \"histogram\"}], \"histogram2d\": [{\"colorbar\": {\"outlinewidth\": 0, \"ticks\": \"\"}, \"colorscale\": [[0.0, \"#0d0887\"], [0.1111111111111111, \"#46039f\"], [0.2222222222222222, \"#7201a8\"], [0.3333333333333333, \"#9c179e\"], [0.4444444444444444, \"#bd3786\"], [0.5555555555555556, \"#d8576b\"], [0.6666666666666666, \"#ed7953\"], [0.7777777777777778, \"#fb9f3a\"], [0.8888888888888888, \"#fdca26\"], [1.0, \"#f0f921\"]], \"type\": \"histogram2d\"}], \"histogram2dcontour\": [{\"colorbar\": {\"outlinewidth\": 0, \"ticks\": \"\"}, \"colorscale\": [[0.0, \"#0d0887\"], [0.1111111111111111, \"#46039f\"], [0.2222222222222222, \"#7201a8\"], [0.3333333333333333, \"#9c179e\"], [0.4444444444444444, \"#bd3786\"], [0.5555555555555556, \"#d8576b\"], [0.6666666666666666, \"#ed7953\"], [0.7777777777777778, \"#fb9f3a\"], [0.8888888888888888, \"#fdca26\"], [1.0, \"#f0f921\"]], \"type\": \"histogram2dcontour\"}], \"mesh3d\": [{\"colorbar\": {\"outlinewidth\": 0, \"ticks\": \"\"}, \"type\": \"mesh3d\"}], \"parcoords\": [{\"line\": {\"colorbar\": {\"outlinewidth\": 0, \"ticks\": \"\"}}, \"type\": \"parcoords\"}], \"scatter\": [{\"marker\": {\"colorbar\": {\"outlinewidth\": 0, \"ticks\": \"\"}}, \"type\": \"scatter\"}], \"scatter3d\": [{\"line\": {\"colorbar\": {\"outlinewidth\": 0, \"ticks\": \"\"}}, \"marker\": {\"colorbar\": {\"outlinewidth\": 0, \"ticks\": \"\"}}, \"type\": \"scatter3d\"}], \"scattercarpet\": [{\"marker\": {\"colorbar\": {\"outlinewidth\": 0, \"ticks\": \"\"}}, \"type\": \"scattercarpet\"}], \"scattergeo\": [{\"marker\": {\"colorbar\": {\"outlinewidth\": 0, \"ticks\": \"\"}}, \"type\": \"scattergeo\"}], \"scattergl\": [{\"marker\": {\"colorbar\": {\"outlinewidth\": 0, \"ticks\": \"\"}}, \"type\": \"scattergl\"}], \"scattermapbox\": [{\"marker\": {\"colorbar\": {\"outlinewidth\": 0, \"ticks\": \"\"}}, \"type\": \"scattermapbox\"}], \"scatterpolar\": [{\"marker\": {\"colorbar\": {\"outlinewidth\": 0, \"ticks\": \"\"}}, \"type\": \"scatterpolar\"}], \"scatterpolargl\": [{\"marker\": {\"colorbar\": {\"outlinewidth\": 0, \"ticks\": \"\"}}, \"type\": \"scatterpolargl\"}], \"scatterternary\": [{\"marker\": {\"colorbar\": {\"outlinewidth\": 0, \"ticks\": \"\"}}, \"type\": \"scatterternary\"}], \"surface\": [{\"colorbar\": {\"outlinewidth\": 0, \"ticks\": \"\"}, \"colorscale\": [[0.0, \"#0d0887\"], [0.1111111111111111, \"#46039f\"], [0.2222222222222222, \"#7201a8\"], [0.3333333333333333, \"#9c179e\"], [0.4444444444444444, \"#bd3786\"], [0.5555555555555556, \"#d8576b\"], [0.6666666666666666, \"#ed7953\"], [0.7777777777777778, \"#fb9f3a\"], [0.8888888888888888, \"#fdca26\"], [1.0, \"#f0f921\"]], \"type\": \"surface\"}], \"table\": [{\"cells\": {\"fill\": {\"color\": \"#EBF0F8\"}, \"line\": {\"color\": \"white\"}}, \"header\": {\"fill\": {\"color\": \"#C8D4E3\"}, \"line\": {\"color\": \"white\"}}, \"type\": \"table\"}]}, \"layout\": {\"annotationdefaults\": {\"arrowcolor\": \"#2a3f5f\", \"arrowhead\": 0, \"arrowwidth\": 1}, \"colorscale\": {\"diverging\": [[0, \"#8e0152\"], [0.1, \"#c51b7d\"], [0.2, \"#de77ae\"], [0.3, \"#f1b6da\"], [0.4, \"#fde0ef\"], [0.5, \"#f7f7f7\"], [0.6, \"#e6f5d0\"], [0.7, \"#b8e186\"], [0.8, \"#7fbc41\"], [0.9, \"#4d9221\"], [1, \"#276419\"]], \"sequential\": [[0.0, \"#0d0887\"], [0.1111111111111111, \"#46039f\"], [0.2222222222222222, \"#7201a8\"], [0.3333333333333333, \"#9c179e\"], [0.4444444444444444, \"#bd3786\"], [0.5555555555555556, \"#d8576b\"], [0.6666666666666666, \"#ed7953\"], [0.7777777777777778, \"#fb9f3a\"], [0.8888888888888888, \"#fdca26\"], [1.0, \"#f0f921\"]], \"sequentialminus\": [[0.0, \"#0d0887\"], [0.1111111111111111, \"#46039f\"], [0.2222222222222222, \"#7201a8\"], [0.3333333333333333, \"#9c179e\"], [0.4444444444444444, \"#bd3786\"], [0.5555555555555556, \"#d8576b\"], [0.6666666666666666, \"#ed7953\"], [0.7777777777777778, \"#fb9f3a\"], [0.8888888888888888, \"#fdca26\"], [1.0, \"#f0f921\"]]}, \"colorway\": [\"#636efa\", \"#EF553B\", \"#00cc96\", \"#ab63fa\", \"#FFA15A\", \"#19d3f3\", \"#FF6692\", \"#B6E880\", \"#FF97FF\", \"#FECB52\"], \"font\": {\"color\": \"#2a3f5f\"}, \"geo\": {\"bgcolor\": \"white\", \"lakecolor\": \"white\", \"landcolor\": \"#E5ECF6\", \"showlakes\": true, \"showland\": true, \"subunitcolor\": \"white\"}, \"hoverlabel\": {\"align\": \"left\"}, \"hovermode\": \"closest\", \"mapbox\": {\"style\": \"light\"}, \"paper_bgcolor\": \"white\", \"plot_bgcolor\": \"#E5ECF6\", \"polar\": {\"angularaxis\": {\"gridcolor\": \"white\", \"linecolor\": \"white\", \"ticks\": \"\"}, \"bgcolor\": \"#E5ECF6\", \"radialaxis\": {\"gridcolor\": \"white\", \"linecolor\": \"white\", \"ticks\": \"\"}}, \"scene\": {\"xaxis\": {\"backgroundcolor\": \"#E5ECF6\", \"gridcolor\": \"white\", \"gridwidth\": 2, \"linecolor\": \"white\", \"showbackground\": true, \"ticks\": \"\", \"zerolinecolor\": \"white\"}, \"yaxis\": {\"backgroundcolor\": \"#E5ECF6\", \"gridcolor\": \"white\", \"gridwidth\": 2, \"linecolor\": \"white\", \"showbackground\": true, \"ticks\": \"\", \"zerolinecolor\": \"white\"}, \"zaxis\": {\"backgroundcolor\": \"#E5ECF6\", \"gridcolor\": \"white\", \"gridwidth\": 2, \"linecolor\": \"white\", \"showbackground\": true, \"ticks\": \"\", \"zerolinecolor\": \"white\"}}, \"shapedefaults\": {\"line\": {\"color\": \"#2a3f5f\"}}, \"ternary\": {\"aaxis\": {\"gridcolor\": \"white\", \"linecolor\": \"white\", \"ticks\": \"\"}, \"baxis\": {\"gridcolor\": \"white\", \"linecolor\": \"white\", \"ticks\": \"\"}, \"bgcolor\": \"#E5ECF6\", \"caxis\": {\"gridcolor\": \"white\", \"linecolor\": \"white\", \"ticks\": \"\"}}, \"title\": {\"x\": 0.05}, \"xaxis\": {\"automargin\": true, \"gridcolor\": \"white\", \"linecolor\": \"white\", \"ticks\": \"\", \"zerolinecolor\": \"white\", \"zerolinewidth\": 2}, \"yaxis\": {\"automargin\": true, \"gridcolor\": \"white\", \"linecolor\": \"white\", \"ticks\": \"\", \"zerolinecolor\": \"white\", \"zerolinewidth\": 2}}}, \"xaxis\": {\"anchor\": \"y\", \"domain\": [0.0, 0.98], \"title\": {\"text\": \"rating\"}}, \"yaxis\": {\"anchor\": \"x\", \"domain\": [0.0, 1.0], \"title\": {\"text\": \"jp_sales\"}}},\n",
       "                        {\"responsive\": true}\n",
       "                    ).then(function(){\n",
       "                            \n",
       "var gd = document.getElementById('3f2acf23-c95d-4521-9f77-6827c132bb5f');\n",
       "var x = new MutationObserver(function (mutations, observer) {{\n",
       "        var display = window.getComputedStyle(gd).display;\n",
       "        if (!display || display === 'none') {{\n",
       "            console.log([gd, 'removed!']);\n",
       "            Plotly.purge(gd);\n",
       "            observer.disconnect();\n",
       "        }}\n",
       "}});\n",
       "\n",
       "// Listen for the removal of the full notebook cells\n",
       "var notebookContainer = gd.closest('#notebook-container');\n",
       "if (notebookContainer) {{\n",
       "    x.observe(notebookContainer, {childList: true});\n",
       "}}\n",
       "\n",
       "// Listen for the clearing of the current output cell\n",
       "var outputEl = gd.closest('.output');\n",
       "if (outputEl) {{\n",
       "    x.observe(outputEl, {childList: true});\n",
       "}}\n",
       "\n",
       "                        })\n",
       "                };\n",
       "                });\n",
       "            </script>\n",
       "        </div>"
      ]
     },
     "metadata": {},
     "output_type": "display_data"
    }
   ],
   "source": [
    "top_genre = games_new.sort_values(by='rating', axis=0, ascending=False)[:80]\n",
    "\n",
    "fig = px.bar(top_platform , \n",
    "             x='rating', \n",
    "             y='jp_sales',\n",
    "            )\n",
    "\n",
    "fig.show()"
   ]
  },
  {
   "cell_type": "markdown",
   "id": "8e4757a7",
   "metadata": {},
   "source": [
    "Вывод:"
   ]
  },
  {
   "cell_type": "markdown",
   "id": "60f55048",
   "metadata": {},
   "source": [
    "В северной Америке более популярны X360, Wii, PS4, PS3.\n",
    "Самые популярные жанры Спор и Шутер.\n",
    "Игры с рейтингом T и  M продавались лучше всего.\n",
    "\n",
    "В Европе более популярны  X360, Wii, PS4, PS3.\n",
    "Самые популярные жанры Спор и Шутер, так же в топе racing(в отличие от сша)\n",
    "Игры с рейтингом  T и  M продавались лучше всего.\n",
    "\n",
    "\n",
    "В Японии более популярны  Wii, PSP,PS3\n",
    "Самые популярные жанры Sports, role-playing\n",
    "Игры с рейтингом T и  M продавались лучше всего.\n",
    "\n",
    "В целом по жанру и платформам у Японии большое отличие от США и Европы."
   ]
  },
  {
   "cell_type": "markdown",
   "id": "c7405cb4",
   "metadata": {},
   "source": [
    "# Проверим гипотезу что средние пользовательские рейтинги платформ Xbox One и PC одинаковые;\n",
    "Проверим гипотезу что средние пользовательские рейтинги жанров Action и Sports разные.\n",
    "\n",
    "Сформулируем нулевую и альтернативную гипотезы. Нулевую гипотезу будем формулировать так, чтобы использовать знак равенства. Альтернативную гипотезу сформулируем оттакливаясь от нулевой гипотезы.\n",
    "\n",
    "H₀ - средние пользовательские рейтинги платформ Xbox One и PC равны\n",
    "H₁ - средние пользовательские рейтинги платформ Xbox One и PC не равны\n",
    "\n",
    "Зададим критический уровень статистической значимости\n",
    "alpha = .05"
   ]
  },
  {
   "cell_type": "code",
   "execution_count": 39,
   "id": "113bd92a",
   "metadata": {},
   "outputs": [
    {
     "data": {
      "text/plain": [
       "2        8.3\n",
       "3        8.0\n",
       "8        8.4\n",
       "13       7.7\n",
       "14       6.3\n",
       "        ... \n",
       "16660    6.7\n",
       "16692    7.6\n",
       "16696    5.8\n",
       "16702    7.2\n",
       "16705    5.8\n",
       "Name: user_score, Length: 4403, dtype: float64"
      ]
     },
     "execution_count": 39,
     "metadata": {},
     "output_type": "execute_result"
    }
   ],
   "source": [
    "games_stat_new_filtered['user_score']"
   ]
  },
  {
   "cell_type": "code",
   "execution_count": 40,
   "id": "186418f3",
   "metadata": {},
   "outputs": [],
   "source": [
    "xone = games_stat_new_filtered[(games_stat_new_filtered['platform'] == 'XOne') & (games_stat_new_filtered['user_score'] > 1)]['user_score']\n",
    "pc = games_stat_new_filtered[(games_stat_new_filtered['platform'] == 'PC') & (games_stat_new_filtered['user_score'] > 1)]['user_score']"
   ]
  },
  {
   "cell_type": "code",
   "execution_count": 41,
   "id": "2c6f6d9b",
   "metadata": {},
   "outputs": [],
   "source": [
    "alpha=0.05"
   ]
  },
  {
   "cell_type": "code",
   "execution_count": 47,
   "id": "3f82dbb9",
   "metadata": {},
   "outputs": [
    {
     "name": "stdout",
     "output_type": "stream",
     "text": [
      "p-значение: 0.12221124813861341\n",
      "Не получилось отвергнуть нулевую гипотезу\n"
     ]
    }
   ],
   "source": [
    "results = st.ttest_ind(\n",
    "    games_stat_new_filtered.query('platform == \"X360\"')['user_score'], \n",
    "    games_stat_new_filtered.query('platform == \"PC\"')['user_score'])\n",
    "\n",
    "print ('p-значение:', results.pvalue)\n",
    "\n",
    "if results.pvalue < alpha:\n",
    "    print(\"Отвергаем нулевую гипотезу\")\n",
    "else:\n",
    "    print(\"Не получилось отвергнуть нулевую гипотезу\")"
   ]
  },
  {
   "cell_type": "markdown",
   "id": "fba84994",
   "metadata": {},
   "source": [
    "\n",
    "\n",
    "H₀ - средние пользовательские рейтинги жанров Action и Sports равны\n",
    "H₁ - средние пользовательские рейтинги жанров Action и Sports не равны"
   ]
  },
  {
   "cell_type": "code",
   "execution_count": 43,
   "id": "415b06a4",
   "metadata": {},
   "outputs": [],
   "source": [
    "action = games_stat_new_filtered.query('genre == \"action\"')\n",
    "sports = games_stat_new_filtered.query('genre == \"sports\"')"
   ]
  },
  {
   "cell_type": "code",
   "execution_count": 48,
   "id": "042f3ac2",
   "metadata": {},
   "outputs": [
    {
     "name": "stdout",
     "output_type": "stream",
     "text": [
      "p-значение: 1.0894514919563483e-12\n",
      "Отвергаем нулевую гипотезу\n"
     ]
    }
   ],
   "source": [
    "results = st.ttest_ind(\n",
    "    games_stat_new_filtered.query('genre == \"action\"')['user_score'], \n",
    "    games_stat_new_filtered.query('genre == \"sports\"')['user_score'])\n",
    "\n",
    "print('p-значение:', results.pvalue)\n",
    "\n",
    "if results.pvalue < alpha:\n",
    "    print(\"Отвергаем нулевую гипотезу\")\n",
    "else:\n",
    "    print(\"Не получилось отвергнуть нулевую гипотезу\")"
   ]
  },
  {
   "cell_type": "markdown",
   "id": "ccae281a",
   "metadata": {},
   "source": [
    "Вывод: средние пользовательские рейтинги платформ Xbox One и PC не равны и средние пользовательские рейтинги жанров Action и Sports не равны."
   ]
  },
  {
   "cell_type": "markdown",
   "id": "dda66432",
   "metadata": {},
   "source": [
    "# Общий вывод:\n",
    "Можно сделать вывод что потенциально популярный продукт по которому нужно спланировать продажи и рекламные кампании это:\n",
    "\n",
    "Игоровые платформы  pc, ps3, ps4, wii, x360, xone\n",
    "Игровые жанры action, sports, shooter, отдельно для Японии role-playing\n",
    "Игры рейтинга  «T» («Teen») — «Подросткам» «M» («Mature») — «Для взрослых»\n",
    "Рейтинг пользователей и экспертов практически не влияет на продажи игры, но посматривать на него стоит.\n",
    "\n"
   ]
  },
  {
   "cell_type": "code",
   "execution_count": null,
   "id": "9e80ede1",
   "metadata": {},
   "outputs": [],
   "source": []
  },
  {
   "cell_type": "code",
   "execution_count": null,
   "id": "795b7971",
   "metadata": {},
   "outputs": [],
   "source": []
  },
  {
   "cell_type": "code",
   "execution_count": null,
   "id": "e4d0a9a1",
   "metadata": {},
   "outputs": [],
   "source": []
  },
  {
   "cell_type": "code",
   "execution_count": null,
   "id": "81d5827b",
   "metadata": {},
   "outputs": [],
   "source": []
  },
  {
   "cell_type": "code",
   "execution_count": null,
   "id": "5dbd4d55",
   "metadata": {},
   "outputs": [],
   "source": []
  },
  {
   "cell_type": "code",
   "execution_count": null,
   "id": "3876af7b",
   "metadata": {},
   "outputs": [],
   "source": []
  },
  {
   "cell_type": "code",
   "execution_count": null,
   "id": "790b017f",
   "metadata": {},
   "outputs": [],
   "source": []
  }
 ],
 "metadata": {
  "ExecuteTimeLog": [
   {
    "duration": 2836,
    "start_time": "2022-02-04T21:13:49.627Z"
   },
   {
    "duration": -14,
    "start_time": "2022-02-04T21:13:52.480Z"
   },
   {
    "duration": -16,
    "start_time": "2022-02-04T21:13:52.483Z"
   },
   {
    "duration": -17,
    "start_time": "2022-02-04T21:13:52.485Z"
   },
   {
    "duration": -49,
    "start_time": "2022-02-04T21:13:52.518Z"
   },
   {
    "duration": -58,
    "start_time": "2022-02-04T21:13:52.528Z"
   },
   {
    "duration": -59,
    "start_time": "2022-02-04T21:13:52.530Z"
   },
   {
    "duration": -60,
    "start_time": "2022-02-04T21:13:52.532Z"
   },
   {
    "duration": -61,
    "start_time": "2022-02-04T21:13:52.534Z"
   },
   {
    "duration": -61,
    "start_time": "2022-02-04T21:13:52.535Z"
   },
   {
    "duration": -62,
    "start_time": "2022-02-04T21:13:52.537Z"
   },
   {
    "duration": -71,
    "start_time": "2022-02-04T21:13:52.547Z"
   },
   {
    "duration": -72,
    "start_time": "2022-02-04T21:13:52.549Z"
   },
   {
    "duration": -73,
    "start_time": "2022-02-04T21:13:52.551Z"
   },
   {
    "duration": -74,
    "start_time": "2022-02-04T21:13:52.553Z"
   },
   {
    "duration": -74,
    "start_time": "2022-02-04T21:13:52.554Z"
   },
   {
    "duration": -82,
    "start_time": "2022-02-04T21:13:52.563Z"
   },
   {
    "duration": -83,
    "start_time": "2022-02-04T21:13:52.565Z"
   },
   {
    "duration": -84,
    "start_time": "2022-02-04T21:13:52.567Z"
   },
   {
    "duration": -85,
    "start_time": "2022-02-04T21:13:52.569Z"
   },
   {
    "duration": -85,
    "start_time": "2022-02-04T21:13:52.570Z"
   },
   {
    "duration": -93,
    "start_time": "2022-02-04T21:13:52.579Z"
   },
   {
    "duration": -94,
    "start_time": "2022-02-04T21:13:52.581Z"
   },
   {
    "duration": -96,
    "start_time": "2022-02-04T21:13:52.584Z"
   },
   {
    "duration": -96,
    "start_time": "2022-02-04T21:13:52.585Z"
   },
   {
    "duration": -97,
    "start_time": "2022-02-04T21:13:52.587Z"
   },
   {
    "duration": -105,
    "start_time": "2022-02-04T21:13:52.596Z"
   },
   {
    "duration": -106,
    "start_time": "2022-02-04T21:13:52.598Z"
   },
   {
    "duration": -107,
    "start_time": "2022-02-04T21:13:52.600Z"
   },
   {
    "duration": -108,
    "start_time": "2022-02-04T21:13:52.602Z"
   },
   {
    "duration": -109,
    "start_time": "2022-02-04T21:13:52.604Z"
   },
   {
    "duration": -116,
    "start_time": "2022-02-04T21:13:52.612Z"
   },
   {
    "duration": -117,
    "start_time": "2022-02-04T21:13:52.614Z"
   },
   {
    "duration": -118,
    "start_time": "2022-02-04T21:13:52.616Z"
   },
   {
    "duration": -119,
    "start_time": "2022-02-04T21:13:52.618Z"
   },
   {
    "duration": -119,
    "start_time": "2022-02-04T21:13:52.619Z"
   },
   {
    "duration": -120,
    "start_time": "2022-02-04T21:13:52.621Z"
   },
   {
    "duration": -129,
    "start_time": "2022-02-04T21:13:52.631Z"
   },
   {
    "duration": -74,
    "start_time": "2022-02-04T21:13:52.633Z"
   },
   {
    "duration": -75,
    "start_time": "2022-02-04T21:13:52.635Z"
   },
   {
    "duration": -75,
    "start_time": "2022-02-04T21:13:52.636Z"
   },
   {
    "duration": -84,
    "start_time": "2022-02-04T21:13:52.646Z"
   },
   {
    "duration": 46,
    "start_time": "2022-02-04T21:13:59.934Z"
   },
   {
    "duration": 15,
    "start_time": "2022-02-04T21:14:02.958Z"
   },
   {
    "duration": 15,
    "start_time": "2022-02-04T21:14:02.975Z"
   },
   {
    "duration": 4340,
    "start_time": "2022-02-04T21:14:02.992Z"
   },
   {
    "duration": 73,
    "start_time": "2022-02-04T21:14:07.262Z"
   },
   {
    "duration": 71,
    "start_time": "2022-02-04T21:14:07.265Z"
   },
   {
    "duration": 70,
    "start_time": "2022-02-04T21:14:07.267Z"
   },
   {
    "duration": 68,
    "start_time": "2022-02-04T21:14:07.269Z"
   },
   {
    "duration": 68,
    "start_time": "2022-02-04T21:14:07.271Z"
   },
   {
    "duration": 62,
    "start_time": "2022-02-04T21:14:07.278Z"
   },
   {
    "duration": 60,
    "start_time": "2022-02-04T21:14:07.280Z"
   },
   {
    "duration": 59,
    "start_time": "2022-02-04T21:14:07.282Z"
   },
   {
    "duration": 59,
    "start_time": "2022-02-04T21:14:07.283Z"
   },
   {
    "duration": 58,
    "start_time": "2022-02-04T21:14:07.285Z"
   },
   {
    "duration": 52,
    "start_time": "2022-02-04T21:14:07.292Z"
   },
   {
    "duration": 51,
    "start_time": "2022-02-04T21:14:07.294Z"
   },
   {
    "duration": 51,
    "start_time": "2022-02-04T21:14:07.295Z"
   },
   {
    "duration": 49,
    "start_time": "2022-02-04T21:14:07.297Z"
   },
   {
    "duration": 48,
    "start_time": "2022-02-04T21:14:07.299Z"
   },
   {
    "duration": 48,
    "start_time": "2022-02-04T21:14:07.301Z"
   },
   {
    "duration": 47,
    "start_time": "2022-02-04T21:14:07.303Z"
   },
   {
    "duration": 39,
    "start_time": "2022-02-04T21:14:07.312Z"
   },
   {
    "duration": 38,
    "start_time": "2022-02-04T21:14:07.314Z"
   },
   {
    "duration": 37,
    "start_time": "2022-02-04T21:14:07.316Z"
   },
   {
    "duration": 35,
    "start_time": "2022-02-04T21:14:07.319Z"
   },
   {
    "duration": 28,
    "start_time": "2022-02-04T21:14:07.327Z"
   },
   {
    "duration": 27,
    "start_time": "2022-02-04T21:14:07.329Z"
   },
   {
    "duration": 26,
    "start_time": "2022-02-04T21:14:07.331Z"
   },
   {
    "duration": 26,
    "start_time": "2022-02-04T21:14:07.332Z"
   },
   {
    "duration": 25,
    "start_time": "2022-02-04T21:14:07.334Z"
   },
   {
    "duration": 24,
    "start_time": "2022-02-04T21:14:07.336Z"
   },
   {
    "duration": 17,
    "start_time": "2022-02-04T21:14:07.344Z"
   },
   {
    "duration": 17,
    "start_time": "2022-02-04T21:14:07.345Z"
   },
   {
    "duration": 16,
    "start_time": "2022-02-04T21:14:07.347Z"
   },
   {
    "duration": 15,
    "start_time": "2022-02-04T21:14:07.349Z"
   },
   {
    "duration": 14,
    "start_time": "2022-02-04T21:14:07.351Z"
   },
   {
    "duration": 14,
    "start_time": "2022-02-04T21:14:07.352Z"
   },
   {
    "duration": 13,
    "start_time": "2022-02-04T21:14:07.354Z"
   },
   {
    "duration": 7,
    "start_time": "2022-02-04T21:14:07.361Z"
   },
   {
    "duration": 6,
    "start_time": "2022-02-04T21:14:07.363Z"
   },
   {
    "duration": 6,
    "start_time": "2022-02-04T21:14:07.364Z"
   },
   {
    "duration": 5,
    "start_time": "2022-02-04T21:14:07.366Z"
   },
   {
    "duration": 1125,
    "start_time": "2022-02-05T17:12:46.879Z"
   },
   {
    "duration": 14,
    "start_time": "2022-02-05T17:12:49.213Z"
   },
   {
    "duration": 13,
    "start_time": "2022-02-05T17:12:51.515Z"
   },
   {
    "duration": 6720,
    "start_time": "2022-02-05T17:12:52.287Z"
   },
   {
    "duration": 5,
    "start_time": "2022-02-05T17:13:07.204Z"
   },
   {
    "duration": 14,
    "start_time": "2022-02-05T17:13:11.670Z"
   },
   {
    "duration": 5,
    "start_time": "2022-02-05T17:13:12.138Z"
   },
   {
    "duration": 1455,
    "start_time": "2022-02-06T05:21:27.826Z"
   },
   {
    "duration": 23,
    "start_time": "2022-02-06T05:21:29.285Z"
   },
   {
    "duration": 42,
    "start_time": "2022-02-06T05:21:29.311Z"
   },
   {
    "duration": 7,
    "start_time": "2022-02-06T05:21:29.356Z"
   },
   {
    "duration": 9,
    "start_time": "2022-02-06T05:21:29.366Z"
   },
   {
    "duration": 10,
    "start_time": "2022-02-06T05:21:29.377Z"
   },
   {
    "duration": 11,
    "start_time": "2022-02-06T05:21:29.390Z"
   },
   {
    "duration": 50,
    "start_time": "2022-02-06T05:21:29.403Z"
   },
   {
    "duration": 15,
    "start_time": "2022-02-06T05:21:29.458Z"
   },
   {
    "duration": 9,
    "start_time": "2022-02-06T05:21:29.477Z"
   },
   {
    "duration": 25,
    "start_time": "2022-02-06T05:21:29.488Z"
   },
   {
    "duration": 351,
    "start_time": "2022-02-06T05:21:29.516Z"
   },
   {
    "duration": 59,
    "start_time": "2022-02-06T05:21:29.871Z"
   },
   {
    "duration": 11,
    "start_time": "2022-02-06T05:21:29.948Z"
   },
   {
    "duration": 19,
    "start_time": "2022-02-06T05:21:29.961Z"
   },
   {
    "duration": 7,
    "start_time": "2022-02-06T05:21:29.983Z"
   },
   {
    "duration": 277,
    "start_time": "2022-02-06T05:21:29.993Z"
   },
   {
    "duration": 358,
    "start_time": "2022-02-06T05:21:30.273Z"
   },
   {
    "duration": 21,
    "start_time": "2022-02-06T05:21:30.634Z"
   },
   {
    "duration": 406,
    "start_time": "2022-02-06T05:21:30.658Z"
   },
   {
    "duration": 7,
    "start_time": "2022-02-06T05:21:31.067Z"
   },
   {
    "duration": 399,
    "start_time": "2022-02-06T05:21:31.077Z"
   },
   {
    "duration": 7,
    "start_time": "2022-02-06T05:21:31.480Z"
   },
   {
    "duration": 489,
    "start_time": "2022-02-06T05:21:31.490Z"
   },
   {
    "duration": 8,
    "start_time": "2022-02-06T05:21:31.983Z"
   },
   {
    "duration": 566,
    "start_time": "2022-02-06T05:21:31.994Z"
   },
   {
    "duration": 6,
    "start_time": "2022-02-06T05:21:32.565Z"
   },
   {
    "duration": 21,
    "start_time": "2022-02-06T05:21:32.574Z"
   },
   {
    "duration": 15,
    "start_time": "2022-02-06T05:21:32.597Z"
   },
   {
    "duration": 16,
    "start_time": "2022-02-06T05:21:32.648Z"
   },
   {
    "duration": 20,
    "start_time": "2022-02-06T05:21:32.667Z"
   },
   {
    "duration": 14,
    "start_time": "2022-02-06T05:21:32.689Z"
   },
   {
    "duration": 52,
    "start_time": "2022-02-06T05:21:32.705Z"
   },
   {
    "duration": 20,
    "start_time": "2022-02-06T05:21:32.759Z"
   },
   {
    "duration": 14,
    "start_time": "2022-02-06T05:21:32.781Z"
   },
   {
    "duration": 13,
    "start_time": "2022-02-06T05:21:32.797Z"
   },
   {
    "duration": 52,
    "start_time": "2022-02-06T05:21:32.813Z"
   },
   {
    "duration": 6,
    "start_time": "2022-02-06T05:21:32.868Z"
   },
   {
    "duration": 15,
    "start_time": "2022-02-06T05:21:32.876Z"
   },
   {
    "duration": 414,
    "start_time": "2022-02-06T05:21:32.893Z"
   },
   {
    "duration": 61,
    "start_time": "2022-02-06T05:21:33.249Z"
   },
   {
    "duration": 54,
    "start_time": "2022-02-06T05:21:33.258Z"
   },
   {
    "duration": 3,
    "start_time": "2022-02-06T05:27:00.618Z"
   },
   {
    "duration": 14,
    "start_time": "2022-02-06T05:27:01.061Z"
   },
   {
    "duration": 11,
    "start_time": "2022-02-06T05:27:12.714Z"
   },
   {
    "duration": 13,
    "start_time": "2022-02-06T05:27:13.274Z"
   },
   {
    "duration": 388,
    "start_time": "2022-02-06T09:39:43.210Z"
   },
   {
    "duration": 1644,
    "start_time": "2022-02-06T09:39:55.323Z"
   },
   {
    "duration": 29,
    "start_time": "2022-02-06T09:39:56.970Z"
   },
   {
    "duration": 22,
    "start_time": "2022-02-06T09:39:57.003Z"
   },
   {
    "duration": 9,
    "start_time": "2022-02-06T09:39:58.180Z"
   },
   {
    "duration": 11,
    "start_time": "2022-02-06T09:39:59.451Z"
   },
   {
    "duration": 17,
    "start_time": "2022-02-06T09:39:59.775Z"
   },
   {
    "duration": 12,
    "start_time": "2022-02-06T09:40:00.237Z"
   },
   {
    "duration": 8,
    "start_time": "2022-02-06T09:40:00.386Z"
   },
   {
    "duration": 11,
    "start_time": "2022-02-06T09:40:00.730Z"
   },
   {
    "duration": 8,
    "start_time": "2022-02-06T09:40:00.901Z"
   },
   {
    "duration": 31,
    "start_time": "2022-02-06T09:40:01.044Z"
   },
   {
    "duration": 424,
    "start_time": "2022-02-06T09:40:01.529Z"
   },
   {
    "duration": 77,
    "start_time": "2022-02-06T09:40:02.036Z"
   },
   {
    "duration": 11,
    "start_time": "2022-02-06T09:40:02.521Z"
   },
   {
    "duration": 17,
    "start_time": "2022-02-06T09:40:02.681Z"
   },
   {
    "duration": 7,
    "start_time": "2022-02-06T09:40:02.857Z"
   },
   {
    "duration": 319,
    "start_time": "2022-02-06T09:40:03.009Z"
   },
   {
    "duration": 450,
    "start_time": "2022-02-06T09:40:03.712Z"
   },
   {
    "duration": 15,
    "start_time": "2022-02-06T09:40:04.169Z"
   },
   {
    "duration": 547,
    "start_time": "2022-02-06T09:40:04.211Z"
   },
   {
    "duration": 12,
    "start_time": "2022-02-06T09:40:04.761Z"
   },
   {
    "duration": 465,
    "start_time": "2022-02-06T09:40:04.777Z"
   },
   {
    "duration": 7,
    "start_time": "2022-02-06T09:40:05.244Z"
   },
   {
    "duration": 502,
    "start_time": "2022-02-06T09:40:05.253Z"
   },
   {
    "duration": 22,
    "start_time": "2022-02-06T09:40:05.758Z"
   },
   {
    "duration": 566,
    "start_time": "2022-02-06T09:40:05.783Z"
   },
   {
    "duration": 18,
    "start_time": "2022-02-06T09:40:06.351Z"
   },
   {
    "duration": 26,
    "start_time": "2022-02-06T09:40:06.376Z"
   },
   {
    "duration": 16,
    "start_time": "2022-02-06T09:40:06.930Z"
   },
   {
    "duration": 16,
    "start_time": "2022-02-06T09:40:07.101Z"
   },
   {
    "duration": 22,
    "start_time": "2022-02-06T09:40:07.292Z"
   },
   {
    "duration": 15,
    "start_time": "2022-02-06T09:40:07.636Z"
   },
   {
    "duration": 15,
    "start_time": "2022-02-06T09:40:07.801Z"
   },
   {
    "duration": 24,
    "start_time": "2022-02-06T09:40:07.976Z"
   },
   {
    "duration": 19,
    "start_time": "2022-02-06T09:40:08.310Z"
   },
   {
    "duration": 15,
    "start_time": "2022-02-06T09:40:08.491Z"
   },
   {
    "duration": 23,
    "start_time": "2022-02-06T09:40:08.658Z"
   },
   {
    "duration": 14,
    "start_time": "2022-02-06T09:40:09.876Z"
   },
   {
    "duration": 11,
    "start_time": "2022-02-06T09:40:10.054Z"
   },
   {
    "duration": 5,
    "start_time": "2022-02-06T09:40:10.219Z"
   },
   {
    "duration": 16,
    "start_time": "2022-02-06T09:40:10.385Z"
   },
   {
    "duration": 20,
    "start_time": "2022-02-06T09:40:11.070Z"
   },
   {
    "duration": 15,
    "start_time": "2022-02-06T09:40:11.231Z"
   },
   {
    "duration": 114,
    "start_time": "2022-02-06T09:40:31.982Z"
   },
   {
    "duration": 101,
    "start_time": "2022-02-06T09:40:36.275Z"
   },
   {
    "duration": 16,
    "start_time": "2022-02-06T09:40:49.468Z"
   },
   {
    "duration": 16,
    "start_time": "2022-02-06T09:40:58.458Z"
   },
   {
    "duration": 6,
    "start_time": "2022-02-06T09:48:51.271Z"
   },
   {
    "duration": 423,
    "start_time": "2022-02-06T09:51:06.445Z"
   },
   {
    "duration": 22,
    "start_time": "2022-02-06T09:51:17.847Z"
   },
   {
    "duration": 697,
    "start_time": "2022-02-06T10:00:26.941Z"
   },
   {
    "duration": 358,
    "start_time": "2022-02-06T10:02:20.329Z"
   },
   {
    "duration": 1004,
    "start_time": "2022-02-06T10:02:35.865Z"
   },
   {
    "duration": 532,
    "start_time": "2022-02-06T10:03:18.474Z"
   },
   {
    "duration": 397,
    "start_time": "2022-02-06T10:06:18.428Z"
   },
   {
    "duration": 563,
    "start_time": "2022-02-06T10:06:27.035Z"
   },
   {
    "duration": 419,
    "start_time": "2022-02-06T10:06:33.468Z"
   },
   {
    "duration": 394,
    "start_time": "2022-02-06T10:06:40.257Z"
   },
   {
    "duration": 652,
    "start_time": "2022-02-06T10:06:47.307Z"
   },
   {
    "duration": 404,
    "start_time": "2022-02-06T10:06:50.973Z"
   },
   {
    "duration": 558,
    "start_time": "2022-02-06T10:06:59.150Z"
   },
   {
    "duration": 385,
    "start_time": "2022-02-06T10:08:19.489Z"
   },
   {
    "duration": 553,
    "start_time": "2022-02-06T10:09:11.435Z"
   },
   {
    "duration": 382,
    "start_time": "2022-02-06T10:09:30.412Z"
   },
   {
    "duration": 374,
    "start_time": "2022-02-06T10:09:35.540Z"
   },
   {
    "duration": 559,
    "start_time": "2022-02-06T10:10:00.003Z"
   },
   {
    "duration": 376,
    "start_time": "2022-02-06T10:10:13.888Z"
   },
   {
    "duration": 532,
    "start_time": "2022-02-06T10:10:20.348Z"
   },
   {
    "duration": 374,
    "start_time": "2022-02-06T10:10:30.015Z"
   },
   {
    "duration": 548,
    "start_time": "2022-02-06T10:10:36.363Z"
   },
   {
    "duration": 380,
    "start_time": "2022-02-06T10:10:49.273Z"
   },
   {
    "duration": 548,
    "start_time": "2022-02-06T10:10:58.621Z"
   },
   {
    "duration": 401,
    "start_time": "2022-02-06T10:11:02.854Z"
   },
   {
    "duration": 391,
    "start_time": "2022-02-06T10:11:32.765Z"
   },
   {
    "duration": 389,
    "start_time": "2022-02-06T10:11:36.228Z"
   },
   {
    "duration": 589,
    "start_time": "2022-02-06T10:12:08.781Z"
   },
   {
    "duration": 398,
    "start_time": "2022-02-06T10:12:50.471Z"
   },
   {
    "duration": 657,
    "start_time": "2022-02-06T10:13:11.835Z"
   },
   {
    "duration": 392,
    "start_time": "2022-02-06T10:14:25.219Z"
   },
   {
    "duration": 379,
    "start_time": "2022-02-06T10:14:37.602Z"
   },
   {
    "duration": 570,
    "start_time": "2022-02-06T10:14:57.581Z"
   },
   {
    "duration": 435,
    "start_time": "2022-02-06T10:15:03.287Z"
   },
   {
    "duration": 701,
    "start_time": "2022-02-06T10:15:09.375Z"
   },
   {
    "duration": 525,
    "start_time": "2022-02-06T10:15:41.404Z"
   },
   {
    "duration": 298,
    "start_time": "2022-02-06T10:16:59.441Z"
   },
   {
    "duration": 298,
    "start_time": "2022-02-06T10:17:13.242Z"
   },
   {
    "duration": 319,
    "start_time": "2022-02-06T10:17:36.599Z"
   },
   {
    "duration": 323,
    "start_time": "2022-02-06T10:18:19.546Z"
   },
   {
    "duration": 336,
    "start_time": "2022-02-06T10:20:04.686Z"
   },
   {
    "duration": 337,
    "start_time": "2022-02-06T10:20:09.073Z"
   },
   {
    "duration": 532,
    "start_time": "2022-02-06T10:22:15.037Z"
   },
   {
    "duration": 394,
    "start_time": "2022-02-06T10:22:29.406Z"
   },
   {
    "duration": 602,
    "start_time": "2022-02-06T10:22:36.556Z"
   },
   {
    "duration": 377,
    "start_time": "2022-02-06T10:22:51.781Z"
   },
   {
    "duration": 548,
    "start_time": "2022-02-06T10:23:32.630Z"
   },
   {
    "duration": 372,
    "start_time": "2022-02-06T10:24:24.558Z"
   },
   {
    "duration": 373,
    "start_time": "2022-02-06T10:24:46.755Z"
   },
   {
    "duration": 549,
    "start_time": "2022-02-06T10:24:56.150Z"
   },
   {
    "duration": 375,
    "start_time": "2022-02-06T10:26:03.446Z"
   },
   {
    "duration": 540,
    "start_time": "2022-02-06T10:26:09.052Z"
   },
   {
    "duration": 369,
    "start_time": "2022-02-06T10:26:42.146Z"
   },
   {
    "duration": 21,
    "start_time": "2022-02-06T10:27:20.201Z"
   },
   {
    "duration": 539,
    "start_time": "2022-02-06T10:27:22.133Z"
   },
   {
    "duration": 386,
    "start_time": "2022-02-06T10:27:29.563Z"
   },
   {
    "duration": 551,
    "start_time": "2022-02-06T10:27:39.466Z"
   },
   {
    "duration": 370,
    "start_time": "2022-02-06T10:28:07.508Z"
   },
   {
    "duration": 372,
    "start_time": "2022-02-06T10:28:12.171Z"
   },
   {
    "duration": 563,
    "start_time": "2022-02-06T10:28:23.836Z"
   },
   {
    "duration": 374,
    "start_time": "2022-02-06T10:28:31.705Z"
   },
   {
    "duration": 700,
    "start_time": "2022-02-06T10:28:38.878Z"
   },
   {
    "duration": 451,
    "start_time": "2022-02-06T10:28:48.051Z"
   }
  ],
  "kernelspec": {
   "display_name": "Python 3",
   "language": "python",
   "name": "python3"
  },
  "language_info": {
   "codemirror_mode": {
    "name": "ipython",
    "version": 3
   },
   "file_extension": ".py",
   "mimetype": "text/x-python",
   "name": "python",
   "nbconvert_exporter": "python",
   "pygments_lexer": "ipython3",
   "version": "3.8.8"
  },
  "toc": {
   "base_numbering": 1,
   "nav_menu": {},
   "number_sections": true,
   "sideBar": true,
   "skip_h1_title": true,
   "title_cell": "Table of Contents",
   "title_sidebar": "Contents",
   "toc_cell": false,
   "toc_position": {
    "height": "calc(100% - 180px)",
    "left": "10px",
    "top": "150px",
    "width": "335px"
   },
   "toc_section_display": true,
   "toc_window_display": false
  }
 },
 "nbformat": 4,
 "nbformat_minor": 5
}
