{
 "cells": [
  {
   "cell_type": "markdown",
   "id": "88b4cb3a",
   "metadata": {},
   "source": [
    "<div style=\"border:solid green 2px; padding: 20px\">\n",
    "\n",
    "<b>Привет, Дмитрий! Поздравляю с выполнением основного проекта финального спринта, надеюсь тебе удалось выспаться, а то я проверил к следующему вечеру, надеюсь и этой ночью удастся поспать!</b>\n",
    "\n",
    "Меня зовут Петр Раздобреев и я буду проверять твою работу. Попробую помочь сделать тебе её еще лучше! В Практикуме принято общени на ты, но если это дискомфортно, то сообщи об этом)\n",
    "\n",
    "Ниже ты найдешь мои комментарии - пожалуйста, не перемещай, не изменяй и не удаляй их. Я буду использовать цветовую разметку:\n",
    "\n",
    "<div class=\"alert alert-danger\">\n",
    "<b>Комментарий ревьюера:</b>☁️Так выделены самые важные замечания. Без их отработки проект не будет принят. </div>\n",
    "\n",
    "<div class=\"alert alert-warning\">\n",
    "<b>Комментарий ревьюера:</b>⛅️ Так выделены небольшие замечания.Такие замечания в проекте допустимы, это пространство для улучшений в будущем.\n",
    "</div>\n",
    "\n",
    "<div class=\"alert alert-success\">\n",
    "<b>Комментарий ревьюера:</b>☀️Так я выделяю успешные идеи.</div>\n",
    "\n",
    "Давай работать над проектом в диалоге: если ты что-то меняешь в проекте или отвечаешь на мои комменатри — пиши об этом. Мне будет легче отследить изменения, если ты выделишь свои комментарии:\n",
    "<div class=\"alert alert-info\"> <b>Комментарий студента:</b> Например, вот так.</div>\n",
    "\n",
    "Всё это поможет выполнить повторную проверку твоего проекта оперативнее. \n",
    "    \n",
    "\n"
   ]
  },
  {
   "cell_type": "markdown",
   "id": "d76ba330",
   "metadata": {},
   "source": [
    "Привет!Отправляю проект без презентации и дашборда, что бы получить первые комментарии и учесть их дальше, тк я уверен что где то надо будет доработать.\n",
    "В то время пока вы проверяете проект, я посплю наконец то и успею сделать презентацию и дашборд. Слудующую версию отправлю исправленную и с нужными ссылками. Спасибо!"
   ]
  },
  {
   "cell_type": "markdown",
   "id": "4af4e099",
   "metadata": {},
   "source": [
    "# Игры — Анализ рекламных источников\n",
    "\n",
    "\n",
    "\n",
    "Проанализируйте поведения игроков в зависимости от источника перехода.\n",
    "\n",
    "- Проведите исследовательский анализ данных;\n",
    "- Проанализируйте влияние источника перехода в игру на поведение пользователя;\n",
    "- Проверьте статистические гипотезы\n",
    "    1. *Проверьте гипотезу: время завершения уровня различается в зависимости способа прохождения:*\n",
    "        - *через реализацию проекта,*\n",
    "        - *через победу над первым игроком.*\n",
    "    2. *Сформулируйте собственную статистическую гипотезу. Дополните её нулевой и альтернативной гипотезами. Проверьте гипотезу с помощью статистического теста.*\n",
    "\n",
    " **Описание датасетов:**\n",
    "\n",
    "Основной датасет содержит данные о событиях, совершенных в мобильной игре «Космические братья». В ней пользователи строят свою космическую программу и пытаются преуспеть в нелёгком деле колонизации галактики.\n",
    "\n",
    "Основная монетизация игры — только планируется. Но предполагается, что в приложении будет происходить показ рекламы на экране с выбором типа объекта для постройки.\n",
    "\n",
    "В датасете представлены данные по игре пользователей на первом уровне. Завершение первого уровня требует от игрока выполнения одного из двух условий:\n",
    "\n",
    "- Победа над первым врагом\n",
    "- Реализация проекта - разработка орбитальной сборки спутников\n",
    "\n",
    "В датасете содержатся данные первых пользователей приложения — когорты пользователей, которые начали пользоваться приложением в период с 4 по 10 мая включительно.\n",
    "\n",
    "Датасет *game_actions.csv*:\n",
    "\n",
    "- `event_datetime` — время события;\n",
    "- `event` — одно из трёх событий:\n",
    "    1. `building` — объект построен,\n",
    "    2. `finished_stage_1` — первый уровень завершён,\n",
    "    3. `project` — проект завершён;\n",
    "- `building_type` — один из трёх типов здания:\n",
    "    1. `assembly_shop` — сборочный цех,\n",
    "    2. `spaceport` — космопорт,\n",
    "    3. `research_center` — исследовательский центр;\n",
    "- `user_id` — идентификатор пользователя;\n",
    "- `project_type` — тип реализованного проекта;\n",
    "\n",
    "Помимо основного датасета есть два датасета с информацией о рекламных активностях. Они также помогут в решении задачи.\n",
    "\n",
    "Датасет *ad_cost.csv*:\n",
    "\n",
    "- `day` - день, в который был совершен клик по объявлению\n",
    "- `source` - источник трафика\n",
    "- `cost` - стоимость кликов\n",
    "\n",
    "Датасет user_source.csv содержит колонки:\n",
    "\n",
    "- `user_id` - идентификатор пользователя\n",
    "- `source` - источников, с которого пришёл пользователь, установивший приложение\n",
    "\n",
    "По итогам исследования подготовьте презентацию. Для создания презентации используйте любой удобный инструмент, но отправить презентацию нужно **обязательно** в формате **pdf,** прикрепив ссылку на файл в основном проекте."
   ]
  },
  {
   "cell_type": "markdown",
   "id": "f4dd3d2d",
   "metadata": {},
   "source": [
    "# Содержание\n",
    "0. [Загрузка необходимых библиотек](#libs)\n",
    "1. [Знакомство с данными и предобработка](#view)\n",
    "2. [Исследовательский анализ данных](#eda)\n",
    "   - 2.1 [Определить минимальную и максимальную даты привлечения пользователей](#eda1)\n",
    "   - 2.2 [количество пользователей за весь период](#eda2)\n",
    "   - 2.3 [количество событий за весь период](#eda3)\n",
    "   - 2.4 [количество пользователей завершивших игру](#eda4)\n",
    "   - 2.5 [количество реализованных проектов](#eda5)\n",
    "   - 2.6 [количество постороеных зданий за весь период](#eda6)\n",
    "   - 2.7 [количество использованных источников трафика за весь период](#eda7)\n",
    "   - 2.8 [стоимость кликов для каждого источника трафика за весь пеирод](#eda8)\n",
    "   - 2.9 [количество пользователей пришедших с каждого источника трафика](#eda9)\n",
    "   - 2.10  [Анализ влияния событий на совершение целевого события](#goal10)\n",
    "   - 2.11 [время прохождения уровня](#eda11)\n",
    "3. [Расчет метрик ](#goal)\n",
    "   - 3.1 [рассчитать Retention Rate](#goal1)\n",
    "4. [Проверка статистических гипотез](#check)\n",
    "   - 4.1 [Проверьте гипотезу: время завершения уровня различается в зависимости способа прохождения:через реализацию  проекта,через победу над первым игроком.](#check1)\n",
    "   - 4.2 [Гипотеза о способе прохождения уровня, не зависит от источника трафика](#check3)\n",
    "   - 4.3 [Гипотеза о возврате игроков в игру, не зависит от источника трафика](#check4)\n",
    "5. [Выводы и рекомендации](#result)\n",
    "6. [Дополнительные материалы](#result1)\n",
    "   - 6.1 [Презентация](#result2)\n",
    "   - 6.2 [Дашбоард](#result3)"
   ]
  },
  {
   "cell_type": "code",
   "execution_count": 1,
   "id": "cdffe4f0",
   "metadata": {},
   "outputs": [],
   "source": [
    "import pandas as pd\n",
    "import numpy as np\n",
    "import seaborn as sns\n",
    "from matplotlib import pyplot as plt\n",
    "import math as mth\n",
    "from scipy import stats as st\n",
    "\n",
    "#загружаем данные\n",
    "try:\n",
    "    costs = pd.read_csv('/datasets/ad_costs.csv',sep=',')\n",
    "    games = pd.read_csv('/datasets/game_actions.csv',sep=',')\n",
    "    users = pd.read_csv('/datasets/user_source.csv',sep=',')\n",
    "    \n",
    "except:\n",
    "    costs = pd.read_csv('/Users/dmitrii/final_project/ad_costs.csv',sep=',')\n",
    "    games = pd.read_csv('/Users/dmitrii/final_project/game_actions.csv',sep=',')\n",
    "    users = pd.read_csv('/Users/dmitrii/final_project/user_source.csv',sep=',')\n"
   ]
  },
  {
   "cell_type": "markdown",
   "id": "4a1b42ef",
   "metadata": {},
   "source": [
    "<div class=\"alert alert-success\">\n",
    "<b>Комментарий ревьюера:</b>☀️\n",
    "    \n",
    "Перед отправкой лучше нажимать `Kernel`/`Restart & Run All`, чтобы исключить возможность казусов с незапуском каких-то ячеек.  </div>\n"
   ]
  },
  {
   "cell_type": "markdown",
   "id": "311e7df9",
   "metadata": {},
   "source": [
    "<div class=\"alert alert-danger\">\n",
    "<b>Комментарий ревьюера:</b>☁️\n",
    "\n",
    "* Ну как же так с путями то случилось(. ЧТобы не путаться в будущем рекомендую использовать `try-except`, для корректного запуска проекта и локально и на платформе Практикума.\n",
    "    \n",
    "* Пробежавшись глазами, чтобы всё же вероятно уменьшить число наших взаимодействий и снизить с тебя нагрузку при следующих итерациях попрошу добавить распределение времени времени прохождения по стратегиям рядом с проверкой гипотезы, аналогично и по твоей авторской гипотезе. И ещё прошу вспомнить о множественном сравнении при проверке второй гипотезы \n",
    "</div>\n"
   ]
  },
  {
   "cell_type": "markdown",
   "id": "71a3e8c5",
   "metadata": {},
   "source": [
    "<div class=\"alert alert-info\"> <b>Комментарий студента:</b> Привет! Спасибо за проверку.По первому комментарию это конечно подстава :D\n",
    "Далее добавил визуализаци, вроде бы учел все комментарии, немного переделал концовку, дашборд и презентация готовы.</div>"
   ]
  },
  {
   "cell_type": "markdown",
   "id": "a3c6fefd",
   "metadata": {},
   "source": [
    "<div class=\"alert alert-success\">\n",
    "<b>Комментарий ревьюера v2:</b>☀️\n",
    "    \n",
    "Прости(, сейчас пробегусь по проекту\n",
    "</div>\n"
   ]
  },
  {
   "cell_type": "markdown",
   "id": "87534ff9",
   "metadata": {},
   "source": [
    "# 1.Знакомство с данными и предобработка<a name=\"view\"></a>"
   ]
  },
  {
   "cell_type": "code",
   "execution_count": 72,
   "id": "0e766cbe",
   "metadata": {},
   "outputs": [
    {
     "data": {
      "text/html": [
       "<div>\n",
       "<style scoped>\n",
       "    .dataframe tbody tr th:only-of-type {\n",
       "        vertical-align: middle;\n",
       "    }\n",
       "\n",
       "    .dataframe tbody tr th {\n",
       "        vertical-align: top;\n",
       "    }\n",
       "\n",
       "    .dataframe thead th {\n",
       "        text-align: right;\n",
       "    }\n",
       "</style>\n",
       "<table border=\"1\" class=\"dataframe\">\n",
       "  <thead>\n",
       "    <tr style=\"text-align: right;\">\n",
       "      <th></th>\n",
       "      <th>source</th>\n",
       "      <th>day</th>\n",
       "      <th>cost</th>\n",
       "    </tr>\n",
       "  </thead>\n",
       "  <tbody>\n",
       "    <tr>\n",
       "      <th>0</th>\n",
       "      <td>facebook_ads</td>\n",
       "      <td>2020-05-03</td>\n",
       "      <td>935.882786</td>\n",
       "    </tr>\n",
       "    <tr>\n",
       "      <th>1</th>\n",
       "      <td>facebook_ads</td>\n",
       "      <td>2020-05-04</td>\n",
       "      <td>548.354480</td>\n",
       "    </tr>\n",
       "    <tr>\n",
       "      <th>2</th>\n",
       "      <td>facebook_ads</td>\n",
       "      <td>2020-05-05</td>\n",
       "      <td>260.185754</td>\n",
       "    </tr>\n",
       "    <tr>\n",
       "      <th>3</th>\n",
       "      <td>facebook_ads</td>\n",
       "      <td>2020-05-06</td>\n",
       "      <td>177.982200</td>\n",
       "    </tr>\n",
       "    <tr>\n",
       "      <th>4</th>\n",
       "      <td>facebook_ads</td>\n",
       "      <td>2020-05-07</td>\n",
       "      <td>111.766796</td>\n",
       "    </tr>\n",
       "  </tbody>\n",
       "</table>\n",
       "</div>"
      ],
      "text/plain": [
       "         source        day        cost\n",
       "0  facebook_ads 2020-05-03  935.882786\n",
       "1  facebook_ads 2020-05-04  548.354480\n",
       "2  facebook_ads 2020-05-05  260.185754\n",
       "3  facebook_ads 2020-05-06  177.982200\n",
       "4  facebook_ads 2020-05-07  111.766796"
      ]
     },
     "metadata": {},
     "output_type": "display_data"
    },
    {
     "data": {
      "text/plain": [
       "(28, 3)"
      ]
     },
     "metadata": {},
     "output_type": "display_data"
    },
    {
     "name": "stdout",
     "output_type": "stream",
     "text": [
      "<class 'pandas.core.frame.DataFrame'>\n",
      "RangeIndex: 28 entries, 0 to 27\n",
      "Data columns (total 3 columns):\n",
      " #   Column  Non-Null Count  Dtype         \n",
      "---  ------  --------------  -----         \n",
      " 0   source  28 non-null     object        \n",
      " 1   day     28 non-null     datetime64[ns]\n",
      " 2   cost    28 non-null     float64       \n",
      "dtypes: datetime64[ns](1), float64(1), object(1)\n",
      "memory usage: 800.0+ bytes\n"
     ]
    }
   ],
   "source": [
    "display(costs.head())\n",
    "display(costs.shape)\n",
    "costs.info()\n"
   ]
  },
  {
   "cell_type": "markdown",
   "id": "5baf6f15",
   "metadata": {},
   "source": [
    "<div class=\"alert alert-warning\">\n",
    "<b>Комментарий ревьюера:</b>⛅️ \n",
    "    \n",
    "Для вывода `info` дополнительно необязательно писать `display`\n",
    "</div>"
   ]
  },
  {
   "cell_type": "markdown",
   "id": "afb4b34b",
   "metadata": {},
   "source": [
    "<div class=\"alert alert-info\">\n",
    "<b>Комментарий студента:</b>\n",
    "    \n",
    "Исправил\n",
    "</div>"
   ]
  },
  {
   "cell_type": "markdown",
   "id": "dfab5642",
   "metadata": {},
   "source": [
    "<div class=\"alert alert-success\">\n",
    "<b>Комментарий ревьюера v3:</b>☀️\n",
    "    \n",
    "На самом деле на основе этого можно выбирать иной порядок вызова методов для ознакомления с датафреймом\n",
    "</div>\n"
   ]
  },
  {
   "cell_type": "code",
   "execution_count": 73,
   "id": "0a178650",
   "metadata": {},
   "outputs": [
    {
     "data": {
      "text/html": [
       "<div>\n",
       "<style scoped>\n",
       "    .dataframe tbody tr th:only-of-type {\n",
       "        vertical-align: middle;\n",
       "    }\n",
       "\n",
       "    .dataframe tbody tr th {\n",
       "        vertical-align: top;\n",
       "    }\n",
       "\n",
       "    .dataframe thead th {\n",
       "        text-align: right;\n",
       "    }\n",
       "</style>\n",
       "<table border=\"1\" class=\"dataframe\">\n",
       "  <thead>\n",
       "    <tr style=\"text-align: right;\">\n",
       "      <th></th>\n",
       "      <th>event_datetime</th>\n",
       "      <th>event</th>\n",
       "      <th>building_type</th>\n",
       "      <th>user_id</th>\n",
       "      <th>project_type</th>\n",
       "      <th>event_date</th>\n",
       "      <th>session_week</th>\n",
       "      <th>session_date</th>\n",
       "    </tr>\n",
       "  </thead>\n",
       "  <tbody>\n",
       "    <tr>\n",
       "      <th>0</th>\n",
       "      <td>2020-05-04 00:00:01</td>\n",
       "      <td>building</td>\n",
       "      <td>assembly_shop</td>\n",
       "      <td>55e92310-cb8e-4754-b622-597e124b03de</td>\n",
       "      <td>none</td>\n",
       "      <td>2020-05-04</td>\n",
       "      <td>19</td>\n",
       "      <td>2020-05-04</td>\n",
       "    </tr>\n",
       "    <tr>\n",
       "      <th>1</th>\n",
       "      <td>2020-05-04 00:00:03</td>\n",
       "      <td>building</td>\n",
       "      <td>assembly_shop</td>\n",
       "      <td>c07b1c10-f477-44dc-81dc-ec82254b1347</td>\n",
       "      <td>none</td>\n",
       "      <td>2020-05-04</td>\n",
       "      <td>19</td>\n",
       "      <td>2020-05-04</td>\n",
       "    </tr>\n",
       "    <tr>\n",
       "      <th>2</th>\n",
       "      <td>2020-05-04 00:00:16</td>\n",
       "      <td>building</td>\n",
       "      <td>assembly_shop</td>\n",
       "      <td>6edd42cc-e753-4ff6-a947-2107cd560710</td>\n",
       "      <td>none</td>\n",
       "      <td>2020-05-04</td>\n",
       "      <td>19</td>\n",
       "      <td>2020-05-04</td>\n",
       "    </tr>\n",
       "    <tr>\n",
       "      <th>3</th>\n",
       "      <td>2020-05-04 00:00:16</td>\n",
       "      <td>building</td>\n",
       "      <td>assembly_shop</td>\n",
       "      <td>92c69003-d60a-444a-827f-8cc51bf6bf4c</td>\n",
       "      <td>none</td>\n",
       "      <td>2020-05-04</td>\n",
       "      <td>19</td>\n",
       "      <td>2020-05-04</td>\n",
       "    </tr>\n",
       "    <tr>\n",
       "      <th>4</th>\n",
       "      <td>2020-05-04 00:00:35</td>\n",
       "      <td>building</td>\n",
       "      <td>assembly_shop</td>\n",
       "      <td>cdc6bb92-0ccb-4490-9866-ef142f09139d</td>\n",
       "      <td>none</td>\n",
       "      <td>2020-05-04</td>\n",
       "      <td>19</td>\n",
       "      <td>2020-05-04</td>\n",
       "    </tr>\n",
       "  </tbody>\n",
       "</table>\n",
       "</div>"
      ],
      "text/plain": [
       "       event_datetime     event  building_type  \\\n",
       "0 2020-05-04 00:00:01  building  assembly_shop   \n",
       "1 2020-05-04 00:00:03  building  assembly_shop   \n",
       "2 2020-05-04 00:00:16  building  assembly_shop   \n",
       "3 2020-05-04 00:00:16  building  assembly_shop   \n",
       "4 2020-05-04 00:00:35  building  assembly_shop   \n",
       "\n",
       "                                user_id project_type event_date  session_week  \\\n",
       "0  55e92310-cb8e-4754-b622-597e124b03de         none 2020-05-04            19   \n",
       "1  c07b1c10-f477-44dc-81dc-ec82254b1347         none 2020-05-04            19   \n",
       "2  6edd42cc-e753-4ff6-a947-2107cd560710         none 2020-05-04            19   \n",
       "3  92c69003-d60a-444a-827f-8cc51bf6bf4c         none 2020-05-04            19   \n",
       "4  cdc6bb92-0ccb-4490-9866-ef142f09139d         none 2020-05-04            19   \n",
       "\n",
       "  session_date  \n",
       "0   2020-05-04  \n",
       "1   2020-05-04  \n",
       "2   2020-05-04  \n",
       "3   2020-05-04  \n",
       "4   2020-05-04  "
      ]
     },
     "metadata": {},
     "output_type": "display_data"
    },
    {
     "data": {
      "text/plain": [
       "(135639, 8)"
      ]
     },
     "metadata": {},
     "output_type": "display_data"
    },
    {
     "name": "stdout",
     "output_type": "stream",
     "text": [
      "<class 'pandas.core.frame.DataFrame'>\n",
      "Int64Index: 135639 entries, 0 to 135639\n",
      "Data columns (total 8 columns):\n",
      " #   Column          Non-Null Count   Dtype         \n",
      "---  ------          --------------   -----         \n",
      " 0   event_datetime  135639 non-null  datetime64[ns]\n",
      " 1   event           135639 non-null  object        \n",
      " 2   building_type   127956 non-null  object        \n",
      " 3   user_id         135639 non-null  object        \n",
      " 4   project_type    135639 non-null  object        \n",
      " 5   event_date      135639 non-null  datetime64[ns]\n",
      " 6   session_week    135639 non-null  int64         \n",
      " 7   session_date    135639 non-null  object        \n",
      "dtypes: datetime64[ns](2), int64(1), object(5)\n",
      "memory usage: 13.3+ MB\n"
     ]
    }
   ],
   "source": [
    "display(games.head())\n",
    "display(games.shape)\n",
    "games.info()"
   ]
  },
  {
   "cell_type": "code",
   "execution_count": 74,
   "id": "a6b0731f",
   "metadata": {},
   "outputs": [
    {
     "data": {
      "text/html": [
       "<div>\n",
       "<style scoped>\n",
       "    .dataframe tbody tr th:only-of-type {\n",
       "        vertical-align: middle;\n",
       "    }\n",
       "\n",
       "    .dataframe tbody tr th {\n",
       "        vertical-align: top;\n",
       "    }\n",
       "\n",
       "    .dataframe thead th {\n",
       "        text-align: right;\n",
       "    }\n",
       "</style>\n",
       "<table border=\"1\" class=\"dataframe\">\n",
       "  <thead>\n",
       "    <tr style=\"text-align: right;\">\n",
       "      <th></th>\n",
       "      <th>user_id</th>\n",
       "      <th>source</th>\n",
       "    </tr>\n",
       "  </thead>\n",
       "  <tbody>\n",
       "    <tr>\n",
       "      <th>0</th>\n",
       "      <td>0001f83c-c6ac-4621-b7f0-8a28b283ac30</td>\n",
       "      <td>facebook_ads</td>\n",
       "    </tr>\n",
       "    <tr>\n",
       "      <th>1</th>\n",
       "      <td>00151b4f-ba38-44a8-a650-d7cf130a0105</td>\n",
       "      <td>yandex_direct</td>\n",
       "    </tr>\n",
       "    <tr>\n",
       "      <th>2</th>\n",
       "      <td>001aaea6-3d14-43f1-8ca8-7f48820f17aa</td>\n",
       "      <td>youtube_channel_reklama</td>\n",
       "    </tr>\n",
       "    <tr>\n",
       "      <th>3</th>\n",
       "      <td>001d39dc-366c-4021-9604-6a3b9ff01e25</td>\n",
       "      <td>instagram_new_adverts</td>\n",
       "    </tr>\n",
       "    <tr>\n",
       "      <th>4</th>\n",
       "      <td>002f508f-67b6-479f-814b-b05f00d4e995</td>\n",
       "      <td>facebook_ads</td>\n",
       "    </tr>\n",
       "  </tbody>\n",
       "</table>\n",
       "</div>"
      ],
      "text/plain": [
       "                                user_id                   source\n",
       "0  0001f83c-c6ac-4621-b7f0-8a28b283ac30             facebook_ads\n",
       "1  00151b4f-ba38-44a8-a650-d7cf130a0105            yandex_direct\n",
       "2  001aaea6-3d14-43f1-8ca8-7f48820f17aa  youtube_channel_reklama\n",
       "3  001d39dc-366c-4021-9604-6a3b9ff01e25    instagram_new_adverts\n",
       "4  002f508f-67b6-479f-814b-b05f00d4e995             facebook_ads"
      ]
     },
     "metadata": {},
     "output_type": "display_data"
    },
    {
     "data": {
      "text/plain": [
       "(13576, 2)"
      ]
     },
     "metadata": {},
     "output_type": "display_data"
    },
    {
     "name": "stdout",
     "output_type": "stream",
     "text": [
      "<class 'pandas.core.frame.DataFrame'>\n",
      "RangeIndex: 13576 entries, 0 to 13575\n",
      "Data columns (total 2 columns):\n",
      " #   Column   Non-Null Count  Dtype \n",
      "---  ------   --------------  ----- \n",
      " 0   user_id  13576 non-null  object\n",
      " 1   source   13576 non-null  object\n",
      "dtypes: object(2)\n",
      "memory usage: 212.2+ KB\n"
     ]
    }
   ],
   "source": [
    "display(users.head())\n",
    "display(users.shape)\n",
    "users.info()"
   ]
  },
  {
   "cell_type": "markdown",
   "id": "c6fe2cd2",
   "metadata": {},
   "source": [
    "***Первые выводы:*** В наличии данные по действиям 13576 пользователей.\n",
    "Нужно привести переменные к нужному типу, обработать дубликат и пропущенные значения в games."
   ]
  },
  {
   "cell_type": "code",
   "execution_count": 5,
   "id": "4176b43f",
   "metadata": {},
   "outputs": [],
   "source": [
    "#приведем столбец с временем события к типу datetime\n",
    "games['event_datetime'] = pd.to_datetime(games['event_datetime'],format = '%Y-%m-%dT%H:%M:%S')\n",
    "costs['day'] = pd.to_datetime(costs['day'],format = '%Y-%m-%dT%H:%M:%S')\n",
    "games['event_date'] = games['event_datetime'].dt.date.astype('datetime64')"
   ]
  },
  {
   "cell_type": "code",
   "execution_count": 6,
   "id": "01deee6b",
   "metadata": {},
   "outputs": [],
   "source": [
    "# заполним пропуски\n",
    "games['project_type'] = games['project_type'].fillna('none')"
   ]
  },
  {
   "cell_type": "code",
   "execution_count": 7,
   "id": "f964b30b",
   "metadata": {},
   "outputs": [
    {
     "data": {
      "text/plain": [
       "array(['none', 'satellite_orbital_assembly'], dtype=object)"
      ]
     },
     "execution_count": 7,
     "metadata": {},
     "output_type": "execute_result"
    }
   ],
   "source": [
    "# проверяем значения колонки project_type\n",
    "games['project_type'].unique()\n",
    "#Тип проекта только постройка спутника, по какой то причине нет данных о победе над игроком."
   ]
  },
  {
   "cell_type": "code",
   "execution_count": 8,
   "id": "b956f8af",
   "metadata": {},
   "outputs": [
    {
     "name": "stdout",
     "output_type": "stream",
     "text": [
      "Дубликатов в таблице \"gamess\": 1\n",
      "Дубликатов в таблице \"costs\": 0\n",
      "Дубликатов в таблице \"users\": 0\n"
     ]
    }
   ],
   "source": [
    "#проверяем на наличие дубликатов\n",
    "print('Дубликатов в таблице \"gamess\":', games.duplicated().sum())\n",
    "print('Дубликатов в таблице \"costs\":', costs.duplicated().sum())\n",
    "print('Дубликатов в таблице \"users\":', users.duplicated().sum())"
   ]
  },
  {
   "cell_type": "code",
   "execution_count": 9,
   "id": "c02cbfdd",
   "metadata": {},
   "outputs": [
    {
     "data": {
      "text/html": [
       "<div>\n",
       "<style scoped>\n",
       "    .dataframe tbody tr th:only-of-type {\n",
       "        vertical-align: middle;\n",
       "    }\n",
       "\n",
       "    .dataframe tbody tr th {\n",
       "        vertical-align: top;\n",
       "    }\n",
       "\n",
       "    .dataframe thead th {\n",
       "        text-align: right;\n",
       "    }\n",
       "</style>\n",
       "<table border=\"1\" class=\"dataframe\">\n",
       "  <thead>\n",
       "    <tr style=\"text-align: right;\">\n",
       "      <th></th>\n",
       "      <th>event_datetime</th>\n",
       "      <th>event</th>\n",
       "      <th>building_type</th>\n",
       "      <th>user_id</th>\n",
       "      <th>project_type</th>\n",
       "      <th>event_date</th>\n",
       "    </tr>\n",
       "  </thead>\n",
       "  <tbody>\n",
       "    <tr>\n",
       "      <th>74890</th>\n",
       "      <td>2020-05-10 18:41:56</td>\n",
       "      <td>building</td>\n",
       "      <td>research_center</td>\n",
       "      <td>c9af55d2-b0ae-4bb4-b3d5-f32aa9ac03af</td>\n",
       "      <td>none</td>\n",
       "      <td>2020-05-10</td>\n",
       "    </tr>\n",
       "    <tr>\n",
       "      <th>74891</th>\n",
       "      <td>2020-05-10 18:41:56</td>\n",
       "      <td>building</td>\n",
       "      <td>research_center</td>\n",
       "      <td>c9af55d2-b0ae-4bb4-b3d5-f32aa9ac03af</td>\n",
       "      <td>none</td>\n",
       "      <td>2020-05-10</td>\n",
       "    </tr>\n",
       "  </tbody>\n",
       "</table>\n",
       "</div>"
      ],
      "text/plain": [
       "           event_datetime     event    building_type  \\\n",
       "74890 2020-05-10 18:41:56  building  research_center   \n",
       "74891 2020-05-10 18:41:56  building  research_center   \n",
       "\n",
       "                                    user_id project_type event_date  \n",
       "74890  c9af55d2-b0ae-4bb4-b3d5-f32aa9ac03af         none 2020-05-10  \n",
       "74891  c9af55d2-b0ae-4bb4-b3d5-f32aa9ac03af         none 2020-05-10  "
      ]
     },
     "execution_count": 9,
     "metadata": {},
     "output_type": "execute_result"
    }
   ],
   "source": [
    "games[games.duplicated(keep=False)]"
   ]
  },
  {
   "cell_type": "code",
   "execution_count": 10,
   "id": "577eed82",
   "metadata": {},
   "outputs": [],
   "source": [
    "games = games.drop_duplicates()"
   ]
  },
  {
   "cell_type": "markdown",
   "id": "cf31f91f",
   "metadata": {},
   "source": [
    "Привели переменные к нужному типу, обработали дубликаты и пропущенные значения в games.\n",
    "Можно переходить к дальнейшим расчетам."
   ]
  },
  {
   "cell_type": "markdown",
   "id": "a194882a",
   "metadata": {},
   "source": [
    "<div class=\"alert alert-success\">\n",
    "<b>Комментарий ревьюера v2:</b>☀️\n",
    "    \n",
    "Ты многократно писал очень схожие куски кода, но можно ведь сделать функции для первичного анализа датафреймов, смотреть распределение численных значений при помощи `describe`, анализировать какие строки наиболее частые при помощи `value_counts`, ну и `head` с `info` в эту же функцию первичного анализа стоит поместить, и при помощи нее можно получать первоначальную информацию о каждом датасете по вызову функции к каждому новому датасету, ну и такую функцию переносить из проекта в проект, чтобы максимально упрощать себе первичный анализ и оставлять больше сил и времени на исследования). \n",
    "    \n",
    "Безусловно в этом проекте нет необходимости в глубоком анализе данных, но например можно добавить переименование столбцов в неё\n",
    "</div>"
   ]
  },
  {
   "cell_type": "markdown",
   "id": "6072dd9e",
   "metadata": {},
   "source": [
    "<div class=\"alert alert-info\">\n",
    "<b>Комментарий студента:</b>\n",
    "    \n",
    "Честно говоря у меня это заняло бы больше времени, чем написать более просто код, а дед лайн горит, поэтому простой способ выбрал\n",
    "</div>"
   ]
  },
  {
   "cell_type": "markdown",
   "id": "cb2f0735",
   "metadata": {},
   "source": [
    "<div class=\"alert alert-success\">\n",
    "<b>Комментарий ревьюера v3:</b>☀️\n",
    "    \n",
    "Конечно, просто мысль на будущее)\n",
    "</div>\n"
   ]
  },
  {
   "cell_type": "markdown",
   "id": "7380717e",
   "metadata": {},
   "source": [
    "# 2.Исследовательский анализ данных<a name=\"eda\"></a>"
   ]
  },
  {
   "cell_type": "markdown",
   "id": "a1c6661f",
   "metadata": {},
   "source": [
    "### 2.1 Определим минимальную и максимальную даты привлечения пользователей<a name=\"eda1\"></a>"
   ]
  },
  {
   "cell_type": "code",
   "execution_count": 11,
   "id": "6710300e",
   "metadata": {},
   "outputs": [
    {
     "data": {
      "text/plain": [
       "Timestamp('2020-05-04 00:00:01')"
      ]
     },
     "metadata": {},
     "output_type": "display_data"
    },
    {
     "data": {
      "text/plain": [
       "Timestamp('2020-06-05 12:32:49')"
      ]
     },
     "metadata": {},
     "output_type": "display_data"
    }
   ],
   "source": [
    "display(games['event_datetime'].min())\n",
    "display(games['event_datetime'].max())"
   ]
  },
  {
   "cell_type": "code",
   "execution_count": 12,
   "id": "5afe71b4",
   "metadata": {},
   "outputs": [
    {
     "data": {
      "text/plain": [
       "Timestamp('2020-05-03 00:00:00')"
      ]
     },
     "metadata": {},
     "output_type": "display_data"
    },
    {
     "data": {
      "text/plain": [
       "Timestamp('2020-05-09 00:00:00')"
      ]
     },
     "metadata": {},
     "output_type": "display_data"
    }
   ],
   "source": [
    "display(costs['day'].min())\n",
    "display(costs['day'].max())"
   ]
  },
  {
   "cell_type": "markdown",
   "id": "41ab8e51",
   "metadata": {},
   "source": [
    "* Данные в таблице games представлены с 4 мая 2020 года по 5 июня 2020 года.\n",
    "* Данные в таблице costs представлены с 3 мая 2020 года по 9 мая 2020 года, реклама закупалась всего 6 дней. Судя по данным, реклама покупалась за день до предоставленных в таблице games логов, из-за чего потерян один день.\n",
    "\n"
   ]
  },
  {
   "cell_type": "markdown",
   "id": "8596ce57",
   "metadata": {},
   "source": [
    "<div class=\"alert alert-success\">\n",
    "<b>Комментарий ревьюера v2:</b>☀️\n",
    "    \n",
    "Именно так и было)</div>\n"
   ]
  },
  {
   "cell_type": "markdown",
   "id": "cf97892d",
   "metadata": {},
   "source": [
    "### 2.2 количество пользователей за весь период<a name=\"eda2\"></a>"
   ]
  },
  {
   "cell_type": "code",
   "execution_count": 13,
   "id": "0644d520",
   "metadata": {},
   "outputs": [
    {
     "data": {
      "text/plain": [
       "13576"
      ]
     },
     "execution_count": 13,
     "metadata": {},
     "output_type": "execute_result"
    }
   ],
   "source": [
    "games['user_id'].nunique()"
   ]
  },
  {
   "cell_type": "markdown",
   "id": "b9f010ab",
   "metadata": {},
   "source": [
    "### 2.3 количество событий за весь период<a name=\"eda3\"></a>"
   ]
  },
  {
   "cell_type": "code",
   "execution_count": 14,
   "id": "c8698778",
   "metadata": {},
   "outputs": [
    {
     "data": {
      "text/plain": [
       "135639"
      ]
     },
     "execution_count": 14,
     "metadata": {},
     "output_type": "execute_result"
    }
   ],
   "source": [
    "games['event'].nunique()\n",
    "games['event'].count()"
   ]
  },
  {
   "cell_type": "code",
   "execution_count": 76,
   "id": "cfdddaa7",
   "metadata": {},
   "outputs": [
    {
     "data": {
      "text/html": [
       "<div>\n",
       "<style scoped>\n",
       "    .dataframe tbody tr th:only-of-type {\n",
       "        vertical-align: middle;\n",
       "    }\n",
       "\n",
       "    .dataframe tbody tr th {\n",
       "        vertical-align: top;\n",
       "    }\n",
       "\n",
       "    .dataframe thead th {\n",
       "        text-align: right;\n",
       "    }\n",
       "</style>\n",
       "<table border=\"1\" class=\"dataframe\">\n",
       "  <thead>\n",
       "    <tr style=\"text-align: right;\">\n",
       "      <th></th>\n",
       "      <th>index</th>\n",
       "      <th>event_count</th>\n",
       "      <th>%_of_total</th>\n",
       "    </tr>\n",
       "  </thead>\n",
       "  <tbody>\n",
       "    <tr>\n",
       "      <th>0</th>\n",
       "      <td>building</td>\n",
       "      <td>127956</td>\n",
       "      <td>0.94</td>\n",
       "    </tr>\n",
       "    <tr>\n",
       "      <th>1</th>\n",
       "      <td>finished_stage_1</td>\n",
       "      <td>5817</td>\n",
       "      <td>0.04</td>\n",
       "    </tr>\n",
       "    <tr>\n",
       "      <th>2</th>\n",
       "      <td>project</td>\n",
       "      <td>1866</td>\n",
       "      <td>0.01</td>\n",
       "    </tr>\n",
       "  </tbody>\n",
       "</table>\n",
       "</div>"
      ],
      "text/plain": [
       "              index  event_count  %_of_total\n",
       "0          building       127956        0.94\n",
       "1  finished_stage_1         5817        0.04\n",
       "2           project         1866        0.01"
      ]
     },
     "metadata": {},
     "output_type": "display_data"
    },
    {
     "name": "stderr",
     "output_type": "stream",
     "text": [
      "/opt/conda/lib/python3.9/site-packages/seaborn/_decorators.py:36: FutureWarning: Pass the following variable as a keyword arg: x. From version 0.12, the only valid positional argument will be `data`, and passing other arguments without an explicit keyword will result in an error or misinterpretation.\n",
      "  warnings.warn(\n"
     ]
    },
    {
     "data": {
      "image/png": "[encoded data removed]",
      "text/plain": [
       "<Figure size 432x288 with 1 Axes>"
      ]
     },
     "metadata": {},
     "output_type": "display_data"
    }
   ],
   "source": [
    "event_count = games['event'].value_counts().reset_index().rename({'event':'event_count'}, axis=1)\n",
    "event_count['%_of_total'] = (event_count['event_count'] / event_count['event_count'].sum()).round(2)\n",
    "display(event_count)\n",
    "\n",
    "sns.set_style(\"darkgrid\")\n",
    "sns.countplot(games['event'])\n",
    "plt.title('Распределение событий')\n",
    "plt.ylabel('Кол-во пользователей')\n",
    "plt.xlabel('Название события');"
   ]
  },
  {
   "cell_type": "markdown",
   "id": "38aca519",
   "metadata": {},
   "source": [
    "<div class=\"alert alert-success\">\n",
    "<b>Комментарий ревьюера:</b>☀️\n",
    "    \n",
    "Для того, чтобы избавиться от назойливого вывода `Text(0.5, 0, 'Название события')` можно добавить `;` в конец строки\n",
    "    \n",
    "</div>"
   ]
  },
  {
   "cell_type": "markdown",
   "id": "638128e9",
   "metadata": {},
   "source": [
    "<div class=\"alert alert-info\">\n",
    "<b>Комментарий студента:</b>\n",
    "    \n",
    "Действительно! Исправил, спасибо.\n",
    "</div>"
   ]
  },
  {
   "cell_type": "markdown",
   "id": "77c9d6ea",
   "metadata": {},
   "source": [
    "### 2.4 количество пользователей завершивших игру<a name=\"eda4\"></a>"
   ]
  },
  {
   "cell_type": "code",
   "execution_count": 16,
   "id": "fb9b806a",
   "metadata": {},
   "outputs": [],
   "source": [
    "group_event = games.groupby(['event']).agg({'user_id':'nunique'})\n",
    "finish_game = group_event.loc['finished_stage_1', 'user_id']"
   ]
  },
  {
   "cell_type": "code",
   "execution_count": 17,
   "id": "35b8a9f9",
   "metadata": {},
   "outputs": [
    {
     "data": {
      "text/html": [
       "<div>\n",
       "<style scoped>\n",
       "    .dataframe tbody tr th:only-of-type {\n",
       "        vertical-align: middle;\n",
       "    }\n",
       "\n",
       "    .dataframe tbody tr th {\n",
       "        vertical-align: top;\n",
       "    }\n",
       "\n",
       "    .dataframe thead th {\n",
       "        text-align: right;\n",
       "    }\n",
       "</style>\n",
       "<table border=\"1\" class=\"dataframe\">\n",
       "  <thead>\n",
       "    <tr style=\"text-align: right;\">\n",
       "      <th></th>\n",
       "      <th>users</th>\n",
       "      <th>count</th>\n",
       "    </tr>\n",
       "  </thead>\n",
       "  <tbody>\n",
       "    <tr>\n",
       "      <th>0</th>\n",
       "      <td>завершил игру</td>\n",
       "      <td>5817</td>\n",
       "    </tr>\n",
       "    <tr>\n",
       "      <th>1</th>\n",
       "      <td>не завершил игру</td>\n",
       "      <td>7759</td>\n",
       "    </tr>\n",
       "    <tr>\n",
       "      <th>2</th>\n",
       "      <td>всего</td>\n",
       "      <td>13576</td>\n",
       "    </tr>\n",
       "  </tbody>\n",
       "</table>\n",
       "</div>"
      ],
      "text/plain": [
       "              users  count\n",
       "0     завершил игру   5817\n",
       "1  не завершил игру   7759\n",
       "2             всего  13576"
      ]
     },
     "execution_count": 17,
     "metadata": {},
     "output_type": "execute_result"
    }
   ],
   "source": [
    "user_games = pd.DataFrame({'users': ['завершил игру', 'не завершил игру', 'всего'],\n",
    "                           'count': [finish_game,\n",
    "                                     games['user_id'].nunique() - finish_game,\n",
    "                                     games['user_id'].nunique()]})\n",
    "user_games "
   ]
  },
  {
   "cell_type": "code",
   "execution_count": 18,
   "id": "19f6e1a0",
   "metadata": {
    "scrolled": true
   },
   "outputs": [
    {
     "data": {
      "image/png": "[encoded data removed]",
      "text/plain": [
       "<Figure size 720x720 with 1 Axes>"
      ]
     },
     "metadata": {},
     "output_type": "display_data"
    }
   ],
   "source": [
    "user_games.iloc[:2].set_index('users').plot.pie(autopct=\"%.0f%%\", subplots = True, figsize=(10, 10),\n",
    "                                                title='Процент прользователей к игре', fontsize=20)\n",
    "sns.set_style(\"whitegrid\")\n",
    "plt.show()"
   ]
  },
  {
   "cell_type": "markdown",
   "id": "a09cfe88",
   "metadata": {},
   "source": [
    "Всего лишь **43%** из **13576** пользователей завершают игру."
   ]
  },
  {
   "cell_type": "markdown",
   "id": "4f7ff680",
   "metadata": {},
   "source": [
    "### 2.5 количество реализованных проектов<a name=\"eda5\"></a>"
   ]
  },
  {
   "cell_type": "code",
   "execution_count": 19,
   "id": "b7b7766b",
   "metadata": {},
   "outputs": [
    {
     "data": {
      "text/plain": [
       "1"
      ]
     },
     "execution_count": 19,
     "metadata": {},
     "output_type": "execute_result"
    }
   ],
   "source": [
    "#Количество уникальных реализованных проектов\n",
    "games[games['project_type'] == 'satellite_orbital_assembly']['project_type'].nunique()"
   ]
  },
  {
   "cell_type": "code",
   "execution_count": 20,
   "id": "84929842",
   "metadata": {},
   "outputs": [
    {
     "data": {
      "text/plain": [
       "1866"
      ]
     },
     "execution_count": 20,
     "metadata": {},
     "output_type": "execute_result"
    }
   ],
   "source": [
    "#Количество пользователей реализовавших проект за весь период\n",
    "games[games['project_type'] == 'satellite_orbital_assembly']['user_id'].nunique()"
   ]
  },
  {
   "cell_type": "markdown",
   "id": "e68eb8c7",
   "metadata": {},
   "source": [
    "### 2.6 количество постороеных зданий за весь период<a name=\"eda6\"></a>"
   ]
  },
  {
   "cell_type": "code",
   "execution_count": 21,
   "id": "1916b2ee",
   "metadata": {},
   "outputs": [
    {
     "data": {
      "text/plain": [
       "3"
      ]
     },
     "execution_count": 21,
     "metadata": {},
     "output_type": "execute_result"
    }
   ],
   "source": [
    "#Количество уникальных объектов\n",
    "games[games['building_type'] != 'no_buildings']['building_type'].nunique()"
   ]
  },
  {
   "cell_type": "code",
   "execution_count": 22,
   "id": "dec1a661",
   "metadata": {},
   "outputs": [
    {
     "data": {
      "text/plain": [
       "127956"
      ]
     },
     "execution_count": 22,
     "metadata": {},
     "output_type": "execute_result"
    }
   ],
   "source": [
    "#Количество объектов за весь период\n",
    "games[games['building_type'] != 'no_buildings']['building_type'].count()"
   ]
  },
  {
   "cell_type": "code",
   "execution_count": 23,
   "id": "dd15da5d",
   "metadata": {},
   "outputs": [
    {
     "data": {
      "text/html": [
       "<div>\n",
       "<style scoped>\n",
       "    .dataframe tbody tr th:only-of-type {\n",
       "        vertical-align: middle;\n",
       "    }\n",
       "\n",
       "    .dataframe tbody tr th {\n",
       "        vertical-align: top;\n",
       "    }\n",
       "\n",
       "    .dataframe thead th {\n",
       "        text-align: right;\n",
       "    }\n",
       "</style>\n",
       "<table border=\"1\" class=\"dataframe\">\n",
       "  <thead>\n",
       "    <tr style=\"text-align: right;\">\n",
       "      <th></th>\n",
       "      <th>building_type</th>\n",
       "      <th>count</th>\n",
       "    </tr>\n",
       "  </thead>\n",
       "  <tbody>\n",
       "    <tr>\n",
       "      <th>0</th>\n",
       "      <td>assembly_shop</td>\n",
       "      <td>54494</td>\n",
       "    </tr>\n",
       "    <tr>\n",
       "      <th>1</th>\n",
       "      <td>research_center</td>\n",
       "      <td>14137</td>\n",
       "    </tr>\n",
       "    <tr>\n",
       "      <th>2</th>\n",
       "      <td>spaceport</td>\n",
       "      <td>59325</td>\n",
       "    </tr>\n",
       "  </tbody>\n",
       "</table>\n",
       "</div>"
      ],
      "text/plain": [
       "     building_type  count\n",
       "0    assembly_shop  54494\n",
       "1  research_center  14137\n",
       "2        spaceport  59325"
      ]
     },
     "execution_count": 23,
     "metadata": {},
     "output_type": "execute_result"
    }
   ],
   "source": [
    "building = (games[games['building_type'] != 'no_buildings']\n",
    "          .groupby('building_type')\n",
    "          .agg({'event':'count'})\n",
    "          .reset_index()\n",
    "          .rename(columns={'event':'count'}))\n",
    "building"
   ]
  },
  {
   "cell_type": "code",
   "execution_count": 24,
   "id": "0284dd50",
   "metadata": {
    "scrolled": true
   },
   "outputs": [
    {
     "data": {
      "image/png": "[encoded data removed]",
      "text/plain": [
       "<Figure size 1440x720 with 1 Axes>"
      ]
     },
     "metadata": {},
     "output_type": "display_data"
    }
   ],
   "source": [
    "building.iloc[:3].set_index('building_type').plot.pie(autopct=\"%.0f%%\", subplots = True, figsize=(20, 10),\n",
    "                                                title='Процент прользователей к игре', fontsize=15)\n",
    "sns.set_style(\"whitegrid\")\n",
    "plt.show()"
   ]
  },
  {
   "cell_type": "markdown",
   "id": "eb7a0fb3",
   "metadata": {},
   "source": [
    "Больше всего построенных обьектов **spaceport 46%**,следом **assembly_shop 43%** и **research_center 11%**"
   ]
  },
  {
   "cell_type": "markdown",
   "id": "1985481a",
   "metadata": {},
   "source": [
    "<div class=\"alert alert-success\">\n",
    "<b>Комментарий ревьюера v2:</b>☀️\n",
    "    \n",
    "Наглядная демонстрация некоторых значений, добавить и нечего)</div>\n"
   ]
  },
  {
   "cell_type": "markdown",
   "id": "ed238f72",
   "metadata": {},
   "source": [
    "### 2.7 количество использованных источников трафика за весь период<a name=\"eda7\"></a>"
   ]
  },
  {
   "cell_type": "code",
   "execution_count": 25,
   "id": "1f8587d9",
   "metadata": {},
   "outputs": [
    {
     "data": {
      "text/plain": [
       "4"
      ]
     },
     "execution_count": 25,
     "metadata": {},
     "output_type": "execute_result"
    }
   ],
   "source": [
    "costs['source'].nunique()"
   ]
  },
  {
   "cell_type": "markdown",
   "id": "01cad3f5",
   "metadata": {},
   "source": [
    "<div class=\"alert alert-warning\">\n",
    "<b>Комментарий ревьюера v2:</b>⛅️ \n",
    "\n",
    "Как будто бы это можно было бы убрать)\n",
    "</div>"
   ]
  },
  {
   "cell_type": "markdown",
   "id": "49896888",
   "metadata": {},
   "source": [
    "<div class=\"alert alert-info\">\n",
    "<b>Комментарий студента:</b>\n",
    "    \n",
    "Согласен,исправил.\n",
    "</div>"
   ]
  },
  {
   "cell_type": "code",
   "execution_count": 27,
   "id": "7be2fcdd",
   "metadata": {},
   "outputs": [
    {
     "data": {
      "text/html": [
       "<div>\n",
       "<style scoped>\n",
       "    .dataframe tbody tr th:only-of-type {\n",
       "        vertical-align: middle;\n",
       "    }\n",
       "\n",
       "    .dataframe tbody tr th {\n",
       "        vertical-align: top;\n",
       "    }\n",
       "\n",
       "    .dataframe thead th {\n",
       "        text-align: right;\n",
       "    }\n",
       "</style>\n",
       "<table border=\"1\" class=\"dataframe\">\n",
       "  <thead>\n",
       "    <tr style=\"text-align: right;\">\n",
       "      <th></th>\n",
       "      <th>source</th>\n",
       "      <th>cost</th>\n",
       "    </tr>\n",
       "  </thead>\n",
       "  <tbody>\n",
       "    <tr>\n",
       "      <th>0</th>\n",
       "      <td>yandex_direct</td>\n",
       "      <td>2233.111449</td>\n",
       "    </tr>\n",
       "    <tr>\n",
       "      <th>1</th>\n",
       "      <td>instagram_new_adverts</td>\n",
       "      <td>2161.441691</td>\n",
       "    </tr>\n",
       "    <tr>\n",
       "      <th>2</th>\n",
       "      <td>facebook_ads</td>\n",
       "      <td>2140.904643</td>\n",
       "    </tr>\n",
       "    <tr>\n",
       "      <th>3</th>\n",
       "      <td>youtube_channel_reklama</td>\n",
       "      <td>1068.119204</td>\n",
       "    </tr>\n",
       "  </tbody>\n",
       "</table>\n",
       "</div>"
      ],
      "text/plain": [
       "                    source         cost\n",
       "0            yandex_direct  2233.111449\n",
       "1    instagram_new_adverts  2161.441691\n",
       "2             facebook_ads  2140.904643\n",
       "3  youtube_channel_reklama  1068.119204"
      ]
     },
     "execution_count": 27,
     "metadata": {},
     "output_type": "execute_result"
    }
   ],
   "source": [
    "costs_1 = costs.groupby('source')['cost'].sum().sort_values(ascending=False).reset_index()\n",
    "costs_1.head(10)"
   ]
  },
  {
   "cell_type": "markdown",
   "id": "e3e3ec6f",
   "metadata": {},
   "source": [
    "Источники:\n",
    "facebook_ads\n",
    "instagram_new_adverts\n",
    "yandex_direct\n",
    "youtube_channel_reklama"
   ]
  },
  {
   "cell_type": "code",
   "execution_count": 28,
   "id": "c0748847",
   "metadata": {},
   "outputs": [
    {
     "data": {
      "text/html": [
       "<div>\n",
       "<style scoped>\n",
       "    .dataframe tbody tr th:only-of-type {\n",
       "        vertical-align: middle;\n",
       "    }\n",
       "\n",
       "    .dataframe tbody tr th {\n",
       "        vertical-align: top;\n",
       "    }\n",
       "\n",
       "    .dataframe thead th {\n",
       "        text-align: right;\n",
       "    }\n",
       "</style>\n",
       "<table border=\"1\" class=\"dataframe\">\n",
       "  <thead>\n",
       "    <tr style=\"text-align: right;\">\n",
       "      <th></th>\n",
       "      <th>source</th>\n",
       "      <th>count</th>\n",
       "    </tr>\n",
       "  </thead>\n",
       "  <tbody>\n",
       "    <tr>\n",
       "      <th>0</th>\n",
       "      <td>facebook_ads</td>\n",
       "      <td>7</td>\n",
       "    </tr>\n",
       "    <tr>\n",
       "      <th>1</th>\n",
       "      <td>instagram_new_adverts</td>\n",
       "      <td>7</td>\n",
       "    </tr>\n",
       "    <tr>\n",
       "      <th>2</th>\n",
       "      <td>yandex_direct</td>\n",
       "      <td>7</td>\n",
       "    </tr>\n",
       "    <tr>\n",
       "      <th>3</th>\n",
       "      <td>youtube_channel_reklama</td>\n",
       "      <td>7</td>\n",
       "    </tr>\n",
       "  </tbody>\n",
       "</table>\n",
       "</div>"
      ],
      "text/plain": [
       "                    source  count\n",
       "0             facebook_ads      7\n",
       "1    instagram_new_adverts      7\n",
       "2            yandex_direct      7\n",
       "3  youtube_channel_reklama      7"
      ]
     },
     "execution_count": 28,
     "metadata": {},
     "output_type": "execute_result"
    }
   ],
   "source": [
    "ads = (costs\n",
    "       .groupby('source')\n",
    "       .agg({'cost':'count'})\n",
    "       .reset_index()\n",
    "       .rename(columns={'cost':'count'}))\n",
    "ads "
   ]
  },
  {
   "cell_type": "markdown",
   "id": "0c7b0573",
   "metadata": {},
   "source": [
    "### 2.8 стоимость кликов для каждого источника трафика за весь пеирод<a name=\"eda8\"></a>"
   ]
  },
  {
   "cell_type": "code",
   "execution_count": 29,
   "id": "73dd5e79",
   "metadata": {},
   "outputs": [
    {
     "data": {
      "text/html": [
       "<div>\n",
       "<style scoped>\n",
       "    .dataframe tbody tr th:only-of-type {\n",
       "        vertical-align: middle;\n",
       "    }\n",
       "\n",
       "    .dataframe tbody tr th {\n",
       "        vertical-align: top;\n",
       "    }\n",
       "\n",
       "    .dataframe thead th {\n",
       "        text-align: right;\n",
       "    }\n",
       "</style>\n",
       "<table border=\"1\" class=\"dataframe\">\n",
       "  <thead>\n",
       "    <tr style=\"text-align: right;\">\n",
       "      <th></th>\n",
       "      <th>sum_cost</th>\n",
       "    </tr>\n",
       "    <tr>\n",
       "      <th>source</th>\n",
       "      <th></th>\n",
       "    </tr>\n",
       "  </thead>\n",
       "  <tbody>\n",
       "    <tr>\n",
       "      <th>facebook_ads</th>\n",
       "      <td>2140.90</td>\n",
       "    </tr>\n",
       "    <tr>\n",
       "      <th>instagram_new_adverts</th>\n",
       "      <td>2161.44</td>\n",
       "    </tr>\n",
       "    <tr>\n",
       "      <th>yandex_direct</th>\n",
       "      <td>2233.11</td>\n",
       "    </tr>\n",
       "    <tr>\n",
       "      <th>youtube_channel_reklama</th>\n",
       "      <td>1068.12</td>\n",
       "    </tr>\n",
       "  </tbody>\n",
       "</table>\n",
       "</div>"
      ],
      "text/plain": [
       "                         sum_cost\n",
       "source                           \n",
       "facebook_ads              2140.90\n",
       "instagram_new_adverts     2161.44\n",
       "yandex_direct             2233.11\n",
       "youtube_channel_reklama   1068.12"
      ]
     },
     "execution_count": 29,
     "metadata": {},
     "output_type": "execute_result"
    }
   ],
   "source": [
    "costs_total = (costs\n",
    "             .groupby('source')\n",
    "             .agg({'cost':'sum'})\n",
    "             .rename(columns={'cost':'sum_cost'})\n",
    "             .round({'sum_cost': 2})\n",
    "             )\n",
    "costs_total"
   ]
  },
  {
   "cell_type": "code",
   "execution_count": 30,
   "id": "d9d5f17d",
   "metadata": {},
   "outputs": [
    {
     "data": {
      "text/html": [
       "<div>\n",
       "<style scoped>\n",
       "    .dataframe tbody tr th:only-of-type {\n",
       "        vertical-align: middle;\n",
       "    }\n",
       "\n",
       "    .dataframe tbody tr th {\n",
       "        vertical-align: top;\n",
       "    }\n",
       "\n",
       "    .dataframe thead th {\n",
       "        text-align: right;\n",
       "    }\n",
       "</style>\n",
       "<table border=\"1\" class=\"dataframe\">\n",
       "  <thead>\n",
       "    <tr style=\"text-align: right;\">\n",
       "      <th></th>\n",
       "      <th>source</th>\n",
       "      <th>sum_cost</th>\n",
       "    </tr>\n",
       "  </thead>\n",
       "  <tbody>\n",
       "    <tr>\n",
       "      <th>0</th>\n",
       "      <td>yandex_direct</td>\n",
       "      <td>2233.11</td>\n",
       "    </tr>\n",
       "    <tr>\n",
       "      <th>1</th>\n",
       "      <td>instagram_new_adverts</td>\n",
       "      <td>2161.44</td>\n",
       "    </tr>\n",
       "    <tr>\n",
       "      <th>2</th>\n",
       "      <td>facebook_ads</td>\n",
       "      <td>2140.90</td>\n",
       "    </tr>\n",
       "    <tr>\n",
       "      <th>3</th>\n",
       "      <td>youtube_channel_reklama</td>\n",
       "      <td>1068.12</td>\n",
       "    </tr>\n",
       "  </tbody>\n",
       "</table>\n",
       "</div>"
      ],
      "text/plain": [
       "                    source  sum_cost\n",
       "0            yandex_direct   2233.11\n",
       "1    instagram_new_adverts   2161.44\n",
       "2             facebook_ads   2140.90\n",
       "3  youtube_channel_reklama   1068.12"
      ]
     },
     "execution_count": 30,
     "metadata": {},
     "output_type": "execute_result"
    }
   ],
   "source": [
    "costs_total['sum_cost'].sort_values(ascending=False).reset_index()"
   ]
  },
  {
   "cell_type": "markdown",
   "id": "1ed6471f",
   "metadata": {},
   "source": [
    "Наибольшие суммарные вложения у источника: **yandex_direct - 2233.11**\n",
    "Наименьшие суммарные вложения у источника: **youtube_channel_reklama - 1068.12**\n"
   ]
  },
  {
   "cell_type": "markdown",
   "id": "d6746a1f",
   "metadata": {},
   "source": [
    "<div class=\"alert alert-warning\">\n",
    "<b>Комментарий ревьюера v2:</b>⛅️ \n",
    "\n",
    "Это ведь не совсем стоимость клика, это суммарные вложения\n",
    "</div>"
   ]
  },
  {
   "cell_type": "markdown",
   "id": "09c1b4ae",
   "metadata": {},
   "source": [
    "<div class=\"alert alert-info\">\n",
    "<b>Комментарий студента:</b>\n",
    "    \n",
    "Согласен,исправил.\n",
    "</div>"
   ]
  },
  {
   "cell_type": "markdown",
   "id": "9b057cce",
   "metadata": {},
   "source": [
    "<div class=\"alert alert-success\">\n",
    "<b>Комментарий ревьюера v3:</b>☀️\n",
    "    \n",
    "Благодарю)\n",
    "</div>\n"
   ]
  },
  {
   "cell_type": "markdown",
   "id": "7afaed2f",
   "metadata": {},
   "source": [
    "### 2.9 количество пользователей пришедших с каждого источника трафика<a name=\"eda9\"></a>"
   ]
  },
  {
   "cell_type": "code",
   "execution_count": 31,
   "id": "f2008480",
   "metadata": {},
   "outputs": [
    {
     "data": {
      "text/html": [
       "<div>\n",
       "<style scoped>\n",
       "    .dataframe tbody tr th:only-of-type {\n",
       "        vertical-align: middle;\n",
       "    }\n",
       "\n",
       "    .dataframe tbody tr th {\n",
       "        vertical-align: top;\n",
       "    }\n",
       "\n",
       "    .dataframe thead th {\n",
       "        text-align: right;\n",
       "    }\n",
       "</style>\n",
       "<table border=\"1\" class=\"dataframe\">\n",
       "  <thead>\n",
       "    <tr style=\"text-align: right;\">\n",
       "      <th></th>\n",
       "      <th>source</th>\n",
       "      <th>users</th>\n",
       "    </tr>\n",
       "  </thead>\n",
       "  <tbody>\n",
       "    <tr>\n",
       "      <th>0</th>\n",
       "      <td>yandex_direct</td>\n",
       "      <td>4817</td>\n",
       "    </tr>\n",
       "    <tr>\n",
       "      <th>1</th>\n",
       "      <td>instagram_new_adverts</td>\n",
       "      <td>3347</td>\n",
       "    </tr>\n",
       "    <tr>\n",
       "      <th>2</th>\n",
       "      <td>facebook_ads</td>\n",
       "      <td>2726</td>\n",
       "    </tr>\n",
       "    <tr>\n",
       "      <th>3</th>\n",
       "      <td>youtube_channel_reklama</td>\n",
       "      <td>2686</td>\n",
       "    </tr>\n",
       "  </tbody>\n",
       "</table>\n",
       "</div>"
      ],
      "text/plain": [
       "                    source  users\n",
       "0            yandex_direct   4817\n",
       "1    instagram_new_adverts   3347\n",
       "2             facebook_ads   2726\n",
       "3  youtube_channel_reklama   2686"
      ]
     },
     "execution_count": 31,
     "metadata": {},
     "output_type": "execute_result"
    }
   ],
   "source": [
    "user_total = (users\n",
    "              .groupby('source')\n",
    "              .agg({'user_id':'nunique'})\n",
    "              .rename(columns={'user_id':'users'})\n",
    "              .round({'users': 2}))\n",
    "user_total['users'].sort_values(ascending=False).reset_index()"
   ]
  },
  {
   "cell_type": "markdown",
   "id": "9a2c1d32",
   "metadata": {},
   "source": [
    "## 2.10.Распределение времени прохождения по стратегиям <a name=\"eda10\"></a>"
   ]
  },
  {
   "cell_type": "markdown",
   "id": "c55ef8ac",
   "metadata": {},
   "source": [
    "Время, за которое пользователесь завершает уровень:"
   ]
  },
  {
   "cell_type": "code",
   "execution_count": 32,
   "id": "8b44c682",
   "metadata": {},
   "outputs": [],
   "source": [
    "#первое событие для пользователя\n",
    "first_user_event = games.groupby('user_id')['event_datetime'].min().reset_index().rename(columns={'event_datetime':'first_event'})\n",
    "#последнее событие для пользователя\n",
    "last_user_event = games.groupby('user_id')['event_datetime'].max().reset_index().rename(columns={'event_datetime':'last_event'})\n",
    "#таблицы для слияния\n",
    "events_for_users = games[['user_id', 'event_datetime', 'event']]\n",
    "user_project_type = games[['user_id', 'project_type']].query('project_type != \"none\"')"
   ]
  },
  {
   "cell_type": "code",
   "execution_count": 33,
   "id": "01221db4",
   "metadata": {},
   "outputs": [
    {
     "data": {
      "text/html": [
       "<div>\n",
       "<style scoped>\n",
       "    .dataframe tbody tr th:only-of-type {\n",
       "        vertical-align: middle;\n",
       "    }\n",
       "\n",
       "    .dataframe tbody tr th {\n",
       "        vertical-align: top;\n",
       "    }\n",
       "\n",
       "    .dataframe thead th {\n",
       "        text-align: right;\n",
       "    }\n",
       "</style>\n",
       "<table border=\"1\" class=\"dataframe\">\n",
       "  <thead>\n",
       "    <tr style=\"text-align: right;\">\n",
       "      <th></th>\n",
       "      <th>user_id</th>\n",
       "      <th>first_event</th>\n",
       "      <th>last_event</th>\n",
       "      <th>event</th>\n",
       "      <th>project_type</th>\n",
       "      <th>path_duration</th>\n",
       "      <th>path_days</th>\n",
       "    </tr>\n",
       "  </thead>\n",
       "  <tbody>\n",
       "    <tr>\n",
       "      <th>0</th>\n",
       "      <td>0001f83c-c6ac-4621-b7f0-8a28b283ac30</td>\n",
       "      <td>2020-05-06 01:07:37</td>\n",
       "      <td>2020-05-20 11:26:06</td>\n",
       "      <td>building</td>\n",
       "      <td>none</td>\n",
       "      <td>14 days 10:18:29</td>\n",
       "      <td>14</td>\n",
       "    </tr>\n",
       "    <tr>\n",
       "      <th>1</th>\n",
       "      <td>00151b4f-ba38-44a8-a650-d7cf130a0105</td>\n",
       "      <td>2020-05-06 03:09:12</td>\n",
       "      <td>2020-05-18 10:46:52</td>\n",
       "      <td>building</td>\n",
       "      <td>none</td>\n",
       "      <td>12 days 07:37:40</td>\n",
       "      <td>12</td>\n",
       "    </tr>\n",
       "    <tr>\n",
       "      <th>2</th>\n",
       "      <td>001aaea6-3d14-43f1-8ca8-7f48820f17aa</td>\n",
       "      <td>2020-05-05 18:08:52</td>\n",
       "      <td>2020-05-14 09:21:27</td>\n",
       "      <td>building</td>\n",
       "      <td>none</td>\n",
       "      <td>8 days 15:12:35</td>\n",
       "      <td>8</td>\n",
       "    </tr>\n",
       "    <tr>\n",
       "      <th>3</th>\n",
       "      <td>001d39dc-366c-4021-9604-6a3b9ff01e25</td>\n",
       "      <td>2020-05-05 21:02:05</td>\n",
       "      <td>2020-05-12 07:40:47</td>\n",
       "      <td>finished_stage_1</td>\n",
       "      <td>none</td>\n",
       "      <td>6 days 10:38:42</td>\n",
       "      <td>6</td>\n",
       "    </tr>\n",
       "    <tr>\n",
       "      <th>4</th>\n",
       "      <td>002f508f-67b6-479f-814b-b05f00d4e995</td>\n",
       "      <td>2020-05-05 13:49:58</td>\n",
       "      <td>2020-05-22 02:46:45</td>\n",
       "      <td>building</td>\n",
       "      <td>none</td>\n",
       "      <td>16 days 12:56:47</td>\n",
       "      <td>16</td>\n",
       "    </tr>\n",
       "  </tbody>\n",
       "</table>\n",
       "</div>"
      ],
      "text/plain": [
       "                                user_id         first_event  \\\n",
       "0  0001f83c-c6ac-4621-b7f0-8a28b283ac30 2020-05-06 01:07:37   \n",
       "1  00151b4f-ba38-44a8-a650-d7cf130a0105 2020-05-06 03:09:12   \n",
       "2  001aaea6-3d14-43f1-8ca8-7f48820f17aa 2020-05-05 18:08:52   \n",
       "3  001d39dc-366c-4021-9604-6a3b9ff01e25 2020-05-05 21:02:05   \n",
       "4  002f508f-67b6-479f-814b-b05f00d4e995 2020-05-05 13:49:58   \n",
       "\n",
       "           last_event             event project_type    path_duration  \\\n",
       "0 2020-05-20 11:26:06          building         none 14 days 10:18:29   \n",
       "1 2020-05-18 10:46:52          building         none 12 days 07:37:40   \n",
       "2 2020-05-14 09:21:27          building         none  8 days 15:12:35   \n",
       "3 2020-05-12 07:40:47  finished_stage_1         none  6 days 10:38:42   \n",
       "4 2020-05-22 02:46:45          building         none 16 days 12:56:47   \n",
       "\n",
       "   path_days  \n",
       "0         14  \n",
       "1         12  \n",
       "2          8  \n",
       "3          6  \n",
       "4         16  "
      ]
     },
     "execution_count": 33,
     "metadata": {},
     "output_type": "execute_result"
    }
   ],
   "source": [
    "#соединяем таблицы\n",
    "users_first_last_event = (first_user_event\n",
    "    .merge(last_user_event, how='left', on='user_id')\n",
    "    .merge(events_for_users, how='left', left_on=['user_id', 'last_event'], right_on=['user_id', 'event_datetime'])\n",
    "    .merge(user_project_type, how='left', on='user_id')\n",
    "    .drop('event_datetime', axis=1))\n",
    "\n",
    "#заполним пропуски\n",
    "users_first_last_event['project_type'] = users_first_last_event['project_type'].fillna('none')\n",
    "#выделим длительность между первым и последним действием\n",
    "users_first_last_event['path_duration'] = users_first_last_event['last_event'] - users_first_last_event['first_event']\n",
    "#переведем длительность в дни\n",
    "users_first_last_event['path_days'] = users_first_last_event['path_duration'].dt.days\n",
    "users_first_last_event.head()"
   ]
  },
  {
   "cell_type": "code",
   "execution_count": 34,
   "id": "32338d2a",
   "metadata": {},
   "outputs": [
    {
     "name": "stdout",
     "output_type": "stream",
     "text": [
      "Среднее время, за которое пользователь реализовывает проект: 13 дней\n",
      "Кол-во пользователей: 1866\n"
     ]
    }
   ],
   "source": [
    "#Пользователи, реализовавшие проект:\n",
    "made_project = users_first_last_event.query('project_type != \"none\"')\n",
    "print('Среднее время, за которое пользователь реализовывает проект:',round(made_project['path_days'].mean()), 'дней')\n",
    "print('Кол-во пользователей:', len(made_project))"
   ]
  },
  {
   "cell_type": "code",
   "execution_count": 35,
   "id": "397330fc",
   "metadata": {},
   "outputs": [
    {
     "name": "stdout",
     "output_type": "stream",
     "text": [
      "Среднее время, за которое пользователь совершает победу над другим игроком: 11 дней\n",
      "Кол-во пользователей: 3951\n"
     ]
    }
   ],
   "source": [
    "#Пользователи, победившие первого врага:\n",
    "made_victory = users_first_last_event.query('project_type == \"none\" and event == \"finished_stage_1\"')\n",
    "print('Среднее время, за которое пользователь совершает победу над другим игроком:',round(made_victory['path_days'].mean()), 'дней')\n",
    "print('Кол-во пользователей:', len(made_victory))"
   ]
  },
  {
   "cell_type": "code",
   "execution_count": 36,
   "id": "a27bfb51",
   "metadata": {},
   "outputs": [
    {
     "name": "stdout",
     "output_type": "stream",
     "text": [
      "Среднее время, за которое пользователь останавливается в прогрессе:  9 дней\n",
      "Кол-во пользователей: 7759\n"
     ]
    }
   ],
   "source": [
    "#Пользователи, непрошедшие первый уровень:\n",
    "still_building = users_first_last_event.query('event == \"building\"')\n",
    "print('Среднее время, за которое пользователь останавливается в прогрессе: ',round(still_building['path_days'].mean()), 'дней')\n",
    "print('Кол-во пользователей:', len(still_building) )"
   ]
  },
  {
   "cell_type": "markdown",
   "id": "5bc3e9cd",
   "metadata": {},
   "source": [
    "<div class=\"alert alert-success\">\n",
    "<b>Комментарий ревьюера v2:</b>☀️\n",
    "    \n",
    "Явный перекос в длительности жизни игрока в зависимости от стратегии</div>\n"
   ]
  },
  {
   "cell_type": "code",
   "execution_count": 37,
   "id": "b773bfc3",
   "metadata": {},
   "outputs": [],
   "source": [
    "#Сводная таблица:\n",
    "sb_pivot = (still_building\n",
    "             .pivot_table(index='event', values=['user_id', 'path_days'], aggfunc={'user_id':'count', 'path_days':'mean'})\n",
    "             .rename({'building':'Игрок построил здание'}, axis=0)\n",
    "             .reset_index())\n",
    "\n",
    "mv_pivot = (made_victory\n",
    "             .pivot_table(index='event', values=['user_id', 'path_days'], aggfunc={'user_id':'count', 'path_days':'mean'})\n",
    "             .rename({'finished_stage_1':'Игрок победил'}, axis=0)\n",
    "             .reset_index())\n",
    "\n",
    "mp_pivot = (made_project\n",
    "             .pivot_table(index='event', values=['user_id', 'path_days'], aggfunc={'user_id':'count', 'path_days':'mean'})\n",
    "             .rename({'finished_stage_1':'Игрок реализовал проект'}, axis=0)\n",
    "             .reset_index())\n",
    "\n",
    "concat = pd.concat([sb_pivot, mv_pivot, mp_pivot]).reset_index(drop=True)\n",
    "concat['path_days'] = round(concat['path_days'])\n",
    "concat['%_of_total'] = (concat['user_id'] / concat['user_id'].sum()).round(2)"
   ]
  },
  {
   "cell_type": "code",
   "execution_count": 38,
   "id": "3e2a7f67",
   "metadata": {},
   "outputs": [
    {
     "data": {
      "text/html": [
       "<div>\n",
       "<style scoped>\n",
       "    .dataframe tbody tr th:only-of-type {\n",
       "        vertical-align: middle;\n",
       "    }\n",
       "\n",
       "    .dataframe tbody tr th {\n",
       "        vertical-align: top;\n",
       "    }\n",
       "\n",
       "    .dataframe thead th {\n",
       "        text-align: right;\n",
       "    }\n",
       "</style>\n",
       "<table border=\"1\" class=\"dataframe\">\n",
       "  <thead>\n",
       "    <tr style=\"text-align: right;\">\n",
       "      <th></th>\n",
       "      <th>event</th>\n",
       "      <th>path_days</th>\n",
       "      <th>user_id</th>\n",
       "      <th>%_of_total</th>\n",
       "    </tr>\n",
       "  </thead>\n",
       "  <tbody>\n",
       "    <tr>\n",
       "      <th>0</th>\n",
       "      <td>Игрок построил здание</td>\n",
       "      <td>9.0</td>\n",
       "      <td>7759</td>\n",
       "      <td>0.57</td>\n",
       "    </tr>\n",
       "    <tr>\n",
       "      <th>1</th>\n",
       "      <td>Игрок победил</td>\n",
       "      <td>11.0</td>\n",
       "      <td>3951</td>\n",
       "      <td>0.29</td>\n",
       "    </tr>\n",
       "    <tr>\n",
       "      <th>2</th>\n",
       "      <td>Игрок реализовал проект</td>\n",
       "      <td>13.0</td>\n",
       "      <td>1866</td>\n",
       "      <td>0.14</td>\n",
       "    </tr>\n",
       "  </tbody>\n",
       "</table>\n",
       "</div>"
      ],
      "text/plain": [
       "                     event  path_days  user_id  %_of_total\n",
       "0    Игрок построил здание        9.0     7759        0.57\n",
       "1            Игрок победил       11.0     3951        0.29\n",
       "2  Игрок реализовал проект       13.0     1866        0.14"
      ]
     },
     "execution_count": 38,
     "metadata": {},
     "output_type": "execute_result"
    }
   ],
   "source": [
    "concat"
   ]
  },
  {
   "cell_type": "markdown",
   "id": "99db88ed",
   "metadata": {},
   "source": [
    "* Большинство пользователей (57%) остановились в прогрессе и не прошли первый уровень\n",
    "* 29% пользователей прошли первый уровень победой над врагом\n",
    "* 14% выбрали путь реализации проекта\n",
    "* 43% пользователей прошли первый уровень"
   ]
  },
  {
   "cell_type": "code",
   "execution_count": 39,
   "id": "d1a4d134",
   "metadata": {},
   "outputs": [
    {
     "data": {
      "text/plain": [
       "Text(0.5, 6.79999999999999, 'Дата постройки')"
      ]
     },
     "execution_count": 39,
     "metadata": {},
     "output_type": "execute_result"
    },
    {
     "data": {
      "image/png": "[encoded data removed]",
      "text/plain": [
       "<Figure size 926.375x360 with 1 Axes>"
      ]
     },
     "metadata": {},
     "output_type": "display_data"
    }
   ],
   "source": [
    "building_time = games.groupby(['event_date', 'building_type'])['user_id'].count().reset_index()\n",
    "sns.relplot(data=building_time, x='event_date', y='user_id', hue='building_type', kind='line', aspect=18/8)\n",
    "plt.title('Распределение построек по времени')\n",
    "plt.ylabel('Кол-во построек')\n",
    "plt.xlabel('Дата постройки')"
   ]
  },
  {
   "cell_type": "markdown",
   "id": "ba8ff6f4",
   "metadata": {},
   "source": [
    "Из графика можно увидеть, что первая постройка пользователей - **assembly_shop**, которая строится игроками первой и недолго, т.к. сразу же можно увидеть параллелно восходящий интерес к строительству объекта **spaceport**, на пике которого линия постройки **assembly_shop** обрывается. Это говорит о том, что возможно данную постройку больше нельзя построить после строительства **spaceport**.Далее **research_center** первые активные игроки построили спустя пару дней, большая часть сделала это спустя неделю. Также можно наблюдать спад активности строительства. Это может говорить о том, что либо пользователь остановился в прогрессе и ушел, либо перешел на следующий уровень."
   ]
  },
  {
   "cell_type": "code",
   "execution_count": 85,
   "id": "3bbb1071",
   "metadata": {},
   "outputs": [
    {
     "data": {
      "image/png": "[encoded data removed]",
      "text/plain": [
       "<Figure size 810x360 with 1 Axes>"
      ]
     },
     "metadata": {},
     "output_type": "display_data"
    }
   ],
   "source": [
    "building_time = games.groupby(['event_date'])['user_id'].count().reset_index()\n",
    "sns.relplot(data=building_time, x='event_date', y='user_id',  kind='line', aspect=18/8)\n",
    "plt.title('Распределение кол-во событий по дням ')\n",
    "plt.ylabel('Кол-во пользователей')\n",
    "plt.xlabel('Дата ');"
   ]
  },
  {
   "cell_type": "markdown",
   "id": "fea536dc",
   "metadata": {},
   "source": [
    "<div class=\"alert alert-success\">\n",
    "<b>Комментарий ревьюера v2:</b>☀️\n",
    "    \n",
    "Отличные находки, тут ещё бы вообще по числу действий, пользователей в игре график добавить и тогда падение на нём бы как раз объяснялось `assembly_shop` </div>\n"
   ]
  },
  {
   "cell_type": "markdown",
   "id": "40fe0146",
   "metadata": {},
   "source": [
    "<div class=\"alert alert-info\">\n",
    "<b>Комментарий студента:</b>\n",
    "    \n",
    "Сделал.\n",
    "</div>"
   ]
  },
  {
   "cell_type": "markdown",
   "id": "b08277c2",
   "metadata": {},
   "source": [
    "<div class=\"alert alert-success\">\n",
    "<b>Комментарий ревьюера v3:</b>☀️\n",
    "    \n",
    "Отлично, одну аномалию в данных объяснили)\n",
    "</div>\n"
   ]
  },
  {
   "cell_type": "code",
   "execution_count": 40,
   "id": "1244661a",
   "metadata": {},
   "outputs": [],
   "source": [
    "#Добавим к таблице users_first_last_event таблицу с рекламным источниками, с которых пришли пользователи:\n",
    "users_first_last_event = users_first_last_event.merge(users, on='user_id', how='left')\n"
   ]
  },
  {
   "cell_type": "code",
   "execution_count": 41,
   "id": "c8198aa6",
   "metadata": {},
   "outputs": [],
   "source": [
    "#Отфильтруем пользователей, прошедших первый уровень и сгруппируем по рекламному источнику:\n",
    "finished_by_source = users_first_last_event.query('event == \"finished_stage_1\"').groupby('source')['event'].count().reset_index()"
   ]
  },
  {
   "cell_type": "code",
   "execution_count": 42,
   "id": "df065bf6",
   "metadata": {},
   "outputs": [],
   "source": [
    "source_current = users.groupby('source').agg({'user_id':'nunique'})"
   ]
  },
  {
   "cell_type": "code",
   "execution_count": 43,
   "id": "7f2d25fd",
   "metadata": {},
   "outputs": [],
   "source": [
    "#Соединим таблицы finished_by_source и source_current:\n",
    "source_merge = (finished_by_source\n",
    "    .merge(source_current.reset_index(), on='source', how='left')\n",
    "    .rename(columns={'event':'finished_users', 'user_id':'attracted_users'}))"
   ]
  },
  {
   "cell_type": "code",
   "execution_count": 44,
   "id": "5aca30c0",
   "metadata": {},
   "outputs": [
    {
     "data": {
      "text/html": [
       "<div>\n",
       "<style scoped>\n",
       "    .dataframe tbody tr th:only-of-type {\n",
       "        vertical-align: middle;\n",
       "    }\n",
       "\n",
       "    .dataframe tbody tr th {\n",
       "        vertical-align: top;\n",
       "    }\n",
       "\n",
       "    .dataframe thead th {\n",
       "        text-align: right;\n",
       "    }\n",
       "</style>\n",
       "<table border=\"1\" class=\"dataframe\">\n",
       "  <thead>\n",
       "    <tr style=\"text-align: right;\">\n",
       "      <th></th>\n",
       "      <th>source</th>\n",
       "      <th>finished_users</th>\n",
       "      <th>attracted_users</th>\n",
       "      <th>%_of_finished</th>\n",
       "    </tr>\n",
       "  </thead>\n",
       "  <tbody>\n",
       "    <tr>\n",
       "      <th>2</th>\n",
       "      <td>yandex_direct</td>\n",
       "      <td>2042</td>\n",
       "      <td>4817</td>\n",
       "      <td>0.423915</td>\n",
       "    </tr>\n",
       "    <tr>\n",
       "      <th>1</th>\n",
       "      <td>instagram_new_adverts</td>\n",
       "      <td>1466</td>\n",
       "      <td>3347</td>\n",
       "      <td>0.438004</td>\n",
       "    </tr>\n",
       "    <tr>\n",
       "      <th>3</th>\n",
       "      <td>youtube_channel_reklama</td>\n",
       "      <td>1159</td>\n",
       "      <td>2686</td>\n",
       "      <td>0.431497</td>\n",
       "    </tr>\n",
       "    <tr>\n",
       "      <th>0</th>\n",
       "      <td>facebook_ads</td>\n",
       "      <td>1150</td>\n",
       "      <td>2726</td>\n",
       "      <td>0.421864</td>\n",
       "    </tr>\n",
       "  </tbody>\n",
       "</table>\n",
       "</div>"
      ],
      "text/plain": [
       "                    source  finished_users  attracted_users  %_of_finished\n",
       "2            yandex_direct            2042             4817       0.423915\n",
       "1    instagram_new_adverts            1466             3347       0.438004\n",
       "3  youtube_channel_reklama            1159             2686       0.431497\n",
       "0             facebook_ads            1150             2726       0.421864"
      ]
     },
     "execution_count": 44,
     "metadata": {},
     "output_type": "execute_result"
    }
   ],
   "source": [
    "source_merge['%_of_finished'] = source_merge['finished_users'] / source_merge['attracted_users']\n",
    "source_merge.sort_values(by='finished_users', ascending=False)"
   ]
  },
  {
   "cell_type": "markdown",
   "id": "53497780",
   "metadata": {},
   "source": [
    "Наибольшее количество пользователей пришло из **yandex_direct - 4817**, далее **instagram_new_adverts - 3347**, между источниками **youtube_channel_reklama** и **facebook_ads** почти разницы нет.\n",
    "С учетом затрат на каждый истоник, наиболее перспективными выглядят **yandex_direct**, **youtube_channel_reklama**.\n",
    "\n",
    "При этом можно сказать, что разницы в проценте прохождения уровня в зависимости от источника трафика нет. \n"
   ]
  },
  {
   "cell_type": "markdown",
   "id": "648e4b83",
   "metadata": {},
   "source": [
    "<div class=\"alert alert-danger\">\n",
    "<b>Комментарий ревьюера v2:</b>☁️\n",
    "\n",
    "Считаю, что здесь важно добавить именно разбивку по стратегиям, так как выше нам стало известно, что исследователи и воителя действуют по-разному\n",
    "</div>\n"
   ]
  },
  {
   "cell_type": "markdown",
   "id": "bd302601",
   "metadata": {},
   "source": [
    "<div class=\"alert alert-info\">\n",
    "<b>Комментарий студента:</b>\n",
    "    \n",
    "Так я же выше написал сколько дней занимает разная стратегия или ты имеешь ввиду что по каждой стратегии нужен график? или я вообще не в ту сторону смотрю?\n",
    "Направь меня плиз, сообразить не могу)\n",
    "</div>"
   ]
  },
  {
   "cell_type": "markdown",
   "id": "1d673a80",
   "metadata": {},
   "source": [
    "<div class=\"alert alert-success\">\n",
    "<b>Комментарий ревьюера v3:</b>☀️\n",
    "    \n",
    "Конкретизировать стоило, моя вина, я предлагал бы по каждому каналу ещё добавить различие в проценте выбирающих ту или иную стратегию\n",
    "</div>\n"
   ]
  },
  {
   "cell_type": "markdown",
   "id": "19fcd985",
   "metadata": {},
   "source": [
    "### 2.11 время прохождения уровня<a name=\"eda11\"></a>"
   ]
  },
  {
   "cell_type": "code",
   "execution_count": 45,
   "id": "ef19c827",
   "metadata": {},
   "outputs": [],
   "source": [
    "users_filter = games[games['project_type'] != 'not_finish_game']['user_id']"
   ]
  },
  {
   "cell_type": "code",
   "execution_count": 46,
   "id": "c16b4f7d",
   "metadata": {},
   "outputs": [],
   "source": [
    "level_time = (games\n",
    "              .query('user_id in @users_filter')\n",
    "              .groupby('user_id')\n",
    "              .agg({'event_datetime':['min','max']}))"
   ]
  },
  {
   "cell_type": "code",
   "execution_count": 47,
   "id": "0b0ea541",
   "metadata": {},
   "outputs": [],
   "source": [
    "level_time['level_time'] = level_time[('event_datetime', 'max')] - level_time[('event_datetime', 'min')]"
   ]
  },
  {
   "cell_type": "code",
   "execution_count": 48,
   "id": "5b2f70d8",
   "metadata": {},
   "outputs": [],
   "source": [
    "level_time.columns = level_time.columns.droplevel(1)"
   ]
  },
  {
   "cell_type": "code",
   "execution_count": 49,
   "id": "61a651cf",
   "metadata": {},
   "outputs": [],
   "source": [
    "level_time = level_time.reset_index().sort_values(by='level_time')"
   ]
  },
  {
   "cell_type": "code",
   "execution_count": 82,
   "id": "829d6ab5",
   "metadata": {},
   "outputs": [
    {
     "data": {
      "text/html": [
       "<div>\n",
       "<style scoped>\n",
       "    .dataframe tbody tr th:only-of-type {\n",
       "        vertical-align: middle;\n",
       "    }\n",
       "\n",
       "    .dataframe tbody tr th {\n",
       "        vertical-align: top;\n",
       "    }\n",
       "\n",
       "    .dataframe thead th {\n",
       "        text-align: right;\n",
       "    }\n",
       "</style>\n",
       "<table border=\"1\" class=\"dataframe\">\n",
       "  <thead>\n",
       "    <tr style=\"text-align: right;\">\n",
       "      <th></th>\n",
       "      <th>level_time</th>\n",
       "    </tr>\n",
       "  </thead>\n",
       "  <tbody>\n",
       "    <tr>\n",
       "      <th>count</th>\n",
       "      <td>13576</td>\n",
       "    </tr>\n",
       "    <tr>\n",
       "      <th>mean</th>\n",
       "      <td>10 days 16:13:07.579183853</td>\n",
       "    </tr>\n",
       "    <tr>\n",
       "      <th>std</th>\n",
       "      <td>4 days 08:24:40.691989837</td>\n",
       "    </tr>\n",
       "    <tr>\n",
       "      <th>min</th>\n",
       "      <td>0 days 00:00:00</td>\n",
       "    </tr>\n",
       "    <tr>\n",
       "      <th>25%</th>\n",
       "      <td>7 days 16:33:38.750000</td>\n",
       "    </tr>\n",
       "    <tr>\n",
       "      <th>50%</th>\n",
       "      <td>10 days 12:30:52.500000</td>\n",
       "    </tr>\n",
       "    <tr>\n",
       "      <th>75%</th>\n",
       "      <td>13 days 07:28:52</td>\n",
       "    </tr>\n",
       "    <tr>\n",
       "      <th>max</th>\n",
       "      <td>30 days 21:58:53</td>\n",
       "    </tr>\n",
       "  </tbody>\n",
       "</table>\n",
       "</div>"
      ],
      "text/plain": [
       "                       level_time\n",
       "count                       13576\n",
       "mean   10 days 16:13:07.579183853\n",
       "std     4 days 08:24:40.691989837\n",
       "min               0 days 00:00:00\n",
       "25%        7 days 16:33:38.750000\n",
       "50%       10 days 12:30:52.500000\n",
       "75%              13 days 07:28:52\n",
       "max              30 days 21:58:53"
      ]
     },
     "execution_count": 82,
     "metadata": {},
     "output_type": "execute_result"
    }
   ],
   "source": [
    "level_time.describe()"
   ]
  },
  {
   "cell_type": "markdown",
   "id": "ebb5d5c2",
   "metadata": {},
   "source": [
    "Самый быстрый игрок сумел завершить игру за один день,самый долгий за 30 дней что очень долго для первого уровня, в среднем игроки проходили уровень за 10 дней."
   ]
  },
  {
   "cell_type": "markdown",
   "id": "d5f4ffa7",
   "metadata": {},
   "source": [
    "<div class=\"alert alert-warning\">\n",
    "<b>Комментарий ревьюера v2:</b>⛅️ \n",
    "\n",
    "Последние несколько ячеек похожи на расписанный `describe`\n",
    "</div>"
   ]
  },
  {
   "cell_type": "markdown",
   "id": "03dcdcd7",
   "metadata": {},
   "source": [
    "<div class=\"alert alert-info\">\n",
    "<b>Комментарий студента:</b>\n",
    "    \n",
    "Согласен,исправил.\n",
    "</div>"
   ]
  },
  {
   "cell_type": "markdown",
   "id": "8758d52f",
   "metadata": {},
   "source": [
    "### 3. Расчет метрик<a name=\"goal\"></a>\n"
   ]
  },
  {
   "cell_type": "markdown",
   "id": "63f4de94",
   "metadata": {},
   "source": [
    "### 3.1 рассчитать Retention Rate<a name=\"goal1\"></a>\n",
    "Посмотреть показатели каждой когорты на тепловой карте, выяснить есть ли ежедневный рост и когда идет на убыль. "
   ]
  },
  {
   "cell_type": "code",
   "execution_count": 54,
   "id": "2c0dab22",
   "metadata": {},
   "outputs": [
    {
     "name": "stderr",
     "output_type": "stream",
     "text": [
      "/tmp/ipykernel_43/3341410814.py:2: FutureWarning: Series.dt.weekofyear and Series.dt.week have been deprecated.  Please use Series.dt.isocalendar().week instead.\n",
      "  games['session_week']  = games['event_datetime'].dt.week\n"
     ]
    }
   ],
   "source": [
    "# добавляем столбцы с неделей и днем\n",
    "games['session_week']  = games['event_datetime'].dt.week\n",
    "games['session_date'] = games['event_datetime'].dt.date"
   ]
  },
  {
   "cell_type": "code",
   "execution_count": 55,
   "id": "24313604",
   "metadata": {},
   "outputs": [],
   "source": [
    "# получаем активность пользователей\n",
    "activity = games[['user_id', 'session_date']].rename(columns={'session_date':'activity_date'}).copy()"
   ]
  },
  {
   "cell_type": "code",
   "execution_count": 56,
   "id": "f5d4b302",
   "metadata": {},
   "outputs": [
    {
     "data": {
      "text/html": [
       "<div>\n",
       "<style scoped>\n",
       "    .dataframe tbody tr th:only-of-type {\n",
       "        vertical-align: middle;\n",
       "    }\n",
       "\n",
       "    .dataframe tbody tr th {\n",
       "        vertical-align: top;\n",
       "    }\n",
       "\n",
       "    .dataframe thead th {\n",
       "        text-align: right;\n",
       "    }\n",
       "</style>\n",
       "<table border=\"1\" class=\"dataframe\">\n",
       "  <thead>\n",
       "    <tr style=\"text-align: right;\">\n",
       "      <th></th>\n",
       "      <th>user_id</th>\n",
       "      <th>activity_date</th>\n",
       "    </tr>\n",
       "  </thead>\n",
       "  <tbody>\n",
       "    <tr>\n",
       "      <th>0</th>\n",
       "      <td>55e92310-cb8e-4754-b622-597e124b03de</td>\n",
       "      <td>2020-05-04</td>\n",
       "    </tr>\n",
       "    <tr>\n",
       "      <th>1</th>\n",
       "      <td>c07b1c10-f477-44dc-81dc-ec82254b1347</td>\n",
       "      <td>2020-05-04</td>\n",
       "    </tr>\n",
       "    <tr>\n",
       "      <th>2</th>\n",
       "      <td>6edd42cc-e753-4ff6-a947-2107cd560710</td>\n",
       "      <td>2020-05-04</td>\n",
       "    </tr>\n",
       "    <tr>\n",
       "      <th>3</th>\n",
       "      <td>92c69003-d60a-444a-827f-8cc51bf6bf4c</td>\n",
       "      <td>2020-05-04</td>\n",
       "    </tr>\n",
       "    <tr>\n",
       "      <th>4</th>\n",
       "      <td>cdc6bb92-0ccb-4490-9866-ef142f09139d</td>\n",
       "      <td>2020-05-04</td>\n",
       "    </tr>\n",
       "    <tr>\n",
       "      <th>...</th>\n",
       "      <td>...</td>\n",
       "      <td>...</td>\n",
       "    </tr>\n",
       "    <tr>\n",
       "      <th>135635</th>\n",
       "      <td>f21d179f-1c4b-437e-b9c6-ab1976907195</td>\n",
       "      <td>2020-06-05</td>\n",
       "    </tr>\n",
       "    <tr>\n",
       "      <th>135636</th>\n",
       "      <td>515c1952-99aa-4bca-a7ea-d0449eb5385a</td>\n",
       "      <td>2020-06-05</td>\n",
       "    </tr>\n",
       "    <tr>\n",
       "      <th>135637</th>\n",
       "      <td>ed3e7d02-8a96-4be7-9998-e9813ff9c316</td>\n",
       "      <td>2020-06-05</td>\n",
       "    </tr>\n",
       "    <tr>\n",
       "      <th>135638</th>\n",
       "      <td>32572adb-900f-4b5d-a453-1eb1e6d88d8b</td>\n",
       "      <td>2020-06-05</td>\n",
       "    </tr>\n",
       "    <tr>\n",
       "      <th>135639</th>\n",
       "      <td>f21d179f-1c4b-437e-b9c6-ab1976907195</td>\n",
       "      <td>2020-06-05</td>\n",
       "    </tr>\n",
       "  </tbody>\n",
       "</table>\n",
       "<p>135639 rows × 2 columns</p>\n",
       "</div>"
      ],
      "text/plain": [
       "                                     user_id activity_date\n",
       "0       55e92310-cb8e-4754-b622-597e124b03de    2020-05-04\n",
       "1       c07b1c10-f477-44dc-81dc-ec82254b1347    2020-05-04\n",
       "2       6edd42cc-e753-4ff6-a947-2107cd560710    2020-05-04\n",
       "3       92c69003-d60a-444a-827f-8cc51bf6bf4c    2020-05-04\n",
       "4       cdc6bb92-0ccb-4490-9866-ef142f09139d    2020-05-04\n",
       "...                                      ...           ...\n",
       "135635  f21d179f-1c4b-437e-b9c6-ab1976907195    2020-06-05\n",
       "135636  515c1952-99aa-4bca-a7ea-d0449eb5385a    2020-06-05\n",
       "135637  ed3e7d02-8a96-4be7-9998-e9813ff9c316    2020-06-05\n",
       "135638  32572adb-900f-4b5d-a453-1eb1e6d88d8b    2020-06-05\n",
       "135639  f21d179f-1c4b-437e-b9c6-ab1976907195    2020-06-05\n",
       "\n",
       "[135639 rows x 2 columns]"
      ]
     },
     "execution_count": 56,
     "metadata": {},
     "output_type": "execute_result"
    }
   ],
   "source": [
    "activity"
   ]
  },
  {
   "cell_type": "code",
   "execution_count": 57,
   "id": "4339cbe0",
   "metadata": {},
   "outputs": [],
   "source": [
    "#дата первой активности\n",
    "first_date = activity.groupby(['user_id'])['activity_date'].min()\n",
    "first_date.name = 'first_activity_date'"
   ]
  },
  {
   "cell_type": "code",
   "execution_count": 58,
   "id": "7e18ee16",
   "metadata": {},
   "outputs": [
    {
     "data": {
      "text/html": [
       "<div>\n",
       "<style scoped>\n",
       "    .dataframe tbody tr th:only-of-type {\n",
       "        vertical-align: middle;\n",
       "    }\n",
       "\n",
       "    .dataframe tbody tr th {\n",
       "        vertical-align: top;\n",
       "    }\n",
       "\n",
       "    .dataframe thead th {\n",
       "        text-align: right;\n",
       "    }\n",
       "</style>\n",
       "<table border=\"1\" class=\"dataframe\">\n",
       "  <thead>\n",
       "    <tr style=\"text-align: right;\">\n",
       "      <th></th>\n",
       "      <th>user_id</th>\n",
       "      <th>activity_date</th>\n",
       "      <th>first_activity_date</th>\n",
       "    </tr>\n",
       "  </thead>\n",
       "  <tbody>\n",
       "    <tr>\n",
       "      <th>0</th>\n",
       "      <td>55e92310-cb8e-4754-b622-597e124b03de</td>\n",
       "      <td>2020-05-04</td>\n",
       "      <td>2020-05-04</td>\n",
       "    </tr>\n",
       "    <tr>\n",
       "      <th>1</th>\n",
       "      <td>c07b1c10-f477-44dc-81dc-ec82254b1347</td>\n",
       "      <td>2020-05-04</td>\n",
       "      <td>2020-05-04</td>\n",
       "    </tr>\n",
       "    <tr>\n",
       "      <th>2</th>\n",
       "      <td>6edd42cc-e753-4ff6-a947-2107cd560710</td>\n",
       "      <td>2020-05-04</td>\n",
       "      <td>2020-05-04</td>\n",
       "    </tr>\n",
       "    <tr>\n",
       "      <th>3</th>\n",
       "      <td>92c69003-d60a-444a-827f-8cc51bf6bf4c</td>\n",
       "      <td>2020-05-04</td>\n",
       "      <td>2020-05-04</td>\n",
       "    </tr>\n",
       "    <tr>\n",
       "      <th>4</th>\n",
       "      <td>cdc6bb92-0ccb-4490-9866-ef142f09139d</td>\n",
       "      <td>2020-05-04</td>\n",
       "      <td>2020-05-04</td>\n",
       "    </tr>\n",
       "    <tr>\n",
       "      <th>...</th>\n",
       "      <td>...</td>\n",
       "      <td>...</td>\n",
       "      <td>...</td>\n",
       "    </tr>\n",
       "    <tr>\n",
       "      <th>135635</th>\n",
       "      <td>f21d179f-1c4b-437e-b9c6-ab1976907195</td>\n",
       "      <td>2020-06-05</td>\n",
       "      <td>2020-05-06</td>\n",
       "    </tr>\n",
       "    <tr>\n",
       "      <th>135636</th>\n",
       "      <td>515c1952-99aa-4bca-a7ea-d0449eb5385a</td>\n",
       "      <td>2020-06-05</td>\n",
       "      <td>2020-05-07</td>\n",
       "    </tr>\n",
       "    <tr>\n",
       "      <th>135637</th>\n",
       "      <td>ed3e7d02-8a96-4be7-9998-e9813ff9c316</td>\n",
       "      <td>2020-06-05</td>\n",
       "      <td>2020-05-07</td>\n",
       "    </tr>\n",
       "    <tr>\n",
       "      <th>135638</th>\n",
       "      <td>32572adb-900f-4b5d-a453-1eb1e6d88d8b</td>\n",
       "      <td>2020-06-05</td>\n",
       "      <td>2020-05-07</td>\n",
       "    </tr>\n",
       "    <tr>\n",
       "      <th>135639</th>\n",
       "      <td>f21d179f-1c4b-437e-b9c6-ab1976907195</td>\n",
       "      <td>2020-06-05</td>\n",
       "      <td>2020-05-06</td>\n",
       "    </tr>\n",
       "  </tbody>\n",
       "</table>\n",
       "<p>135639 rows × 3 columns</p>\n",
       "</div>"
      ],
      "text/plain": [
       "                                     user_id activity_date first_activity_date\n",
       "0       55e92310-cb8e-4754-b622-597e124b03de    2020-05-04          2020-05-04\n",
       "1       c07b1c10-f477-44dc-81dc-ec82254b1347    2020-05-04          2020-05-04\n",
       "2       6edd42cc-e753-4ff6-a947-2107cd560710    2020-05-04          2020-05-04\n",
       "3       92c69003-d60a-444a-827f-8cc51bf6bf4c    2020-05-04          2020-05-04\n",
       "4       cdc6bb92-0ccb-4490-9866-ef142f09139d    2020-05-04          2020-05-04\n",
       "...                                      ...           ...                 ...\n",
       "135635  f21d179f-1c4b-437e-b9c6-ab1976907195    2020-06-05          2020-05-06\n",
       "135636  515c1952-99aa-4bca-a7ea-d0449eb5385a    2020-06-05          2020-05-07\n",
       "135637  ed3e7d02-8a96-4be7-9998-e9813ff9c316    2020-06-05          2020-05-07\n",
       "135638  32572adb-900f-4b5d-a453-1eb1e6d88d8b    2020-06-05          2020-05-07\n",
       "135639  f21d179f-1c4b-437e-b9c6-ab1976907195    2020-06-05          2020-05-06\n",
       "\n",
       "[135639 rows x 3 columns]"
      ]
     },
     "execution_count": 58,
     "metadata": {},
     "output_type": "execute_result"
    }
   ],
   "source": [
    "# объеденяем activity и first_date в одну таблицу\n",
    "activity = activity.join(first_date, on='user_id')\n",
    "activity"
   ]
  },
  {
   "cell_type": "code",
   "execution_count": 59,
   "id": "8cf6f74b",
   "metadata": {},
   "outputs": [],
   "source": [
    "# изменяем тип данных на date\n",
    "activity['activity_date'] = pd.to_datetime(activity['activity_date'])\n",
    "activity['first_activity_date'] = pd.to_datetime(activity['first_activity_date'])"
   ]
  },
  {
   "cell_type": "code",
   "execution_count": 60,
   "id": "50d8b5d0",
   "metadata": {},
   "outputs": [],
   "source": [
    "# создаем колонку с временем жизни когорты\n",
    "activity['cohort_life'] = activity['activity_date'] - activity['first_activity_date']\n",
    "activity['cohort_life'] = activity['cohort_life'] / np.timedelta64(1, 'D')\n",
    "activity['cohort_life'] = activity['cohort_life'].round().astype('int')"
   ]
  },
  {
   "cell_type": "code",
   "execution_count": 61,
   "id": "7685f6e4",
   "metadata": {},
   "outputs": [],
   "source": [
    "# создаем когорту\n",
    "cohorts = activity.groupby(['first_activity_date','cohort_life']).agg({'user_id':'nunique'}).reset_index()"
   ]
  },
  {
   "cell_type": "code",
   "execution_count": 62,
   "id": "02268e0d",
   "metadata": {},
   "outputs": [],
   "source": [
    "# находим исходное количество пользователей в когорте\n",
    "users_count = cohorts[cohorts['cohort_life'] == 0][['first_activity_date', 'user_id']]\n",
    "users_count = users_count.rename(columns={'user_id':'cohort_users'}) "
   ]
  },
  {
   "cell_type": "code",
   "execution_count": 63,
   "id": "00850a25",
   "metadata": {},
   "outputs": [],
   "source": [
    "# объеденяем cohorts и users_count\n",
    "cohorts = cohorts.merge(users_count,on='first_activity_date') \n"
   ]
  },
  {
   "cell_type": "code",
   "execution_count": 64,
   "id": "75e172e4",
   "metadata": {},
   "outputs": [],
   "source": [
    "# рассчитываем retention\n",
    "cohorts['retention'] = cohorts['user_id'] / cohorts['cohort_users'] "
   ]
  },
  {
   "cell_type": "code",
   "execution_count": 65,
   "id": "1d24407b",
   "metadata": {},
   "outputs": [],
   "source": [
    "cohorts['first_activity_date'] = cohorts['first_activity_date'].dt.strftime('%Y-%m-%d')"
   ]
  },
  {
   "cell_type": "code",
   "execution_count": 66,
   "id": "d8ffd328",
   "metadata": {},
   "outputs": [],
   "source": [
    "# создаем сводную таблицу\n",
    "retention_pivot = cohorts.pivot_table(\n",
    "    index='first_activity_date',\n",
    "    columns='cohort_life',\n",
    "    values='retention',\n",
    "    aggfunc='sum',\n",
    ") "
   ]
  },
  {
   "cell_type": "code",
   "execution_count": 67,
   "id": "9417df10",
   "metadata": {},
   "outputs": [
    {
     "data": {
      "image/png": "[encoded data removed]",
      "text/plain": [
       "<Figure size 3600x360 with 1 Axes>"
      ]
     },
     "metadata": {},
     "output_type": "display_data"
    }
   ],
   "source": [
    "# выводим тепловую карту\n",
    "plt.figure(figsize=(50, 5))\n",
    "plt.title('Удержание пользователей', size=20)\n",
    "ax = sns.heatmap(retention_pivot, annot=True, fmt='.1%', linewidths=1, linecolor='orange', cbar=0, square=True)\n",
    "plt.xlabel('Время когорты', size=20)\n",
    "plt.ylabel('Когорта', size=20)\n",
    "plt.show()"
   ]
  },
  {
   "cell_type": "markdown",
   "id": "1865fc58",
   "metadata": {},
   "source": [
    "<div class=\"alert alert-danger\">\n",
    "<b>Комментарий ревьюера v2:</b>☁️\n",
    "\n",
    "Это всё очень здорово, но формально цель игрока перейти на второй уровень, а при достижении этой цели люди перестаю отображаться в нашем наборе данных и попадают в отток, что ты на это скажешь?) \n",
    "</div>\n"
   ]
  },
  {
   "cell_type": "markdown",
   "id": "dcb5e04c",
   "metadata": {},
   "source": [
    "<div class=\"alert alert-info\">\n",
    "<b>Комментарий студента:</b>\n",
    "    \n",
    "Хм, в целом у нас нет точных данных за следующий уровень, т.е. мы не знаем кто перестал играть и ушел в отток а кто перешел на след уровень.Следовательно, мы можем предположить, что с 15 числа, когда все когорты стали падать, игроки ушли и в отток и перешли на следующий уровень.\n",
    "В пункте 2.10 были рассчеты, сколько игроков ушло на след уровень. Другой вопрос нужно ли это визуализировать и как.\n",
    "</div>"
   ]
  },
  {
   "cell_type": "markdown",
   "id": "f71fb0c4",
   "metadata": {},
   "source": [
    "<div class=\"alert alert-warning\">\n",
    "<b>Комментарий ревьюера v3:</b>⛅️ \n",
    "\n",
    "\n",
    "\n",
    "    \n",
    "Но ведь события перехода на второй уровень у нас есть)\n",
    "</div>\n"
   ]
  },
  {
   "cell_type": "markdown",
   "id": "0b084775",
   "metadata": {},
   "source": [
    "**Вывод:**\n",
    "\n",
    "* Большинство когорт в первый день имеет удержание около 50%. \n",
    "* В течении недели происхожит ежедневный рост на 3% - 7% в плоть до 6 числа, с 7 числа Retention пошел на убыль.\n",
    "* Показатели каждой последующей когорты, меньше предыдущей.\n",
    "* Начиная с 15 числа показатели Retention по всем когорам примерно одинаковые и продолжают стремительно падать."
   ]
  },
  {
   "cell_type": "markdown",
   "id": "b9c33e56",
   "metadata": {},
   "source": [
    "### 4. Проверка статистических гипотез<a name=\"check\"></a>\n",
    "Проверим несколько статистических гипотез."
   ]
  },
  {
   "cell_type": "markdown",
   "id": "a3cb7d31",
   "metadata": {},
   "source": [
    "### 4.1 Проверим гипотезу: время завершения уровня различается в зависимости способа прохождения:через реализацию  проекта,через победу над первым игроком.<a name=\"check1\"></a>"
   ]
  },
  {
   "cell_type": "markdown",
   "id": "725bc82c",
   "metadata": {},
   "source": [
    "\n",
    "* H0: Время завершения уровня не различается независимо от способа прохождения:\n",
    "\n",
    "* через реализацию проекта\n",
    "* через победу над первым игроком\n",
    "\n",
    "* H1: Время завершения уровня различается в зависимости от способа прохождения:\n",
    "\n",
    "* через реализацию проекта\n",
    "* через победу над первым игроком"
   ]
  },
  {
   "cell_type": "code",
   "execution_count": 68,
   "id": "d6756044",
   "metadata": {},
   "outputs": [
    {
     "name": "stdout",
     "output_type": "stream",
     "text": [
      "p-значение:  2.6237027268062713e-106\n",
      "Отвергаем нулевую гипотезу, различие между пользователями есть\n"
     ]
    }
   ],
   "source": [
    "alpha = 0.05\n",
    "\n",
    "results = st.ttest_ind(made_project['path_days'], made_victory['path_days'], equal_var = False)\n",
    "print('p-значение: ', results.pvalue)\n",
    "\n",
    "if (results.pvalue < alpha):\n",
    "    print(\"Отвергаем нулевую гипотезу, различие между пользователями есть\")\n",
    "else:\n",
    "    print(\"Не получилось отвергнуть нулевую гипотезу, различия между пользователями нет\")"
   ]
  },
  {
   "cell_type": "code",
   "execution_count": 69,
   "id": "10a32f13",
   "metadata": {},
   "outputs": [
    {
     "data": {
      "text/html": [
       "<div>\n",
       "<style scoped>\n",
       "    .dataframe tbody tr th:only-of-type {\n",
       "        vertical-align: middle;\n",
       "    }\n",
       "\n",
       "    .dataframe tbody tr th {\n",
       "        vertical-align: top;\n",
       "    }\n",
       "\n",
       "    .dataframe thead th {\n",
       "        text-align: right;\n",
       "    }\n",
       "</style>\n",
       "<table border=\"1\" class=\"dataframe\">\n",
       "  <thead>\n",
       "    <tr style=\"text-align: right;\">\n",
       "      <th></th>\n",
       "      <th>event</th>\n",
       "      <th>path_days</th>\n",
       "    </tr>\n",
       "  </thead>\n",
       "  <tbody>\n",
       "    <tr>\n",
       "      <th>1</th>\n",
       "      <td>Игрок победил</td>\n",
       "      <td>11.0</td>\n",
       "    </tr>\n",
       "    <tr>\n",
       "      <th>2</th>\n",
       "      <td>Игрок реализовал проект</td>\n",
       "      <td>13.0</td>\n",
       "    </tr>\n",
       "  </tbody>\n",
       "</table>\n",
       "</div>"
      ],
      "text/plain": [
       "                     event  path_days\n",
       "1            Игрок победил       11.0\n",
       "2  Игрок реализовал проект       13.0"
      ]
     },
     "execution_count": 69,
     "metadata": {},
     "output_type": "execute_result"
    }
   ],
   "source": [
    "concat.drop(0, axis=0).drop({'user_id', '%_of_total'}, axis=1)"
   ]
  },
  {
   "cell_type": "markdown",
   "id": "8129910d",
   "metadata": {},
   "source": [
    "**Вывод:** Скорость прохождения уровня зависит от способа, те кто выбирают пройти первый уровень путем реализации проекта - проходят его дольше на 2 дня в сравнении с теми, кто прошел уровень победив первого врага."
   ]
  },
  {
   "cell_type": "markdown",
   "id": "f965a6fa",
   "metadata": {},
   "source": [
    "<div class=\"alert alert-danger\">\n",
    "<b>Комментарий ревьюера v2: </b>☁️\n",
    "\n",
    "Здесь ещё прошу построить распределению времени по стратегиям, чтобы и визуально их сравнить, а не по одному значению\n",
    "</div>\n"
   ]
  },
  {
   "cell_type": "markdown",
   "id": "7bd3df87",
   "metadata": {},
   "source": [
    "<div class=\"alert alert-info\">\n",
    "<b>Комментарий студента:</b>\n",
    "    \n",
    "Кажется этот коммент был выше. Как пойму что делать добавлю его сюда.\n",
    "</div>"
   ]
  },
  {
   "cell_type": "markdown",
   "id": "81941385",
   "metadata": {},
   "source": [
    "<div class=\"alert alert-warning\">\n",
    "<b>Комментарий ревьюера v3:</b>⛅️ \n",
    "\n",
    "\n",
    "Ты вывел лишь средние значения длительностей для каждой стратегии, а я бы хотел видеть все распределения длительностей по стратегии. \n",
    "</div>\n"
   ]
  },
  {
   "cell_type": "markdown",
   "id": "2b03772c",
   "metadata": {},
   "source": [
    "### 4.2. Гипотеза о способе прохождения уровня, не зависит от источника трафика<a name=\"check3\"></a>"
   ]
  },
  {
   "cell_type": "markdown",
   "id": "0c05d13b",
   "metadata": {},
   "source": [
    "Гипотеза:\n",
    "\n",
    "* H0: Способ прохождения уровня не зависит от источника трафика\n",
    "* H1: Способ прохождения уровня зависит от источника трафика"
   ]
  },
  {
   "cell_type": "code",
   "execution_count": 70,
   "id": "ae5986ad",
   "metadata": {},
   "outputs": [],
   "source": [
    "yandex_direct = users_first_last_event[['source', 'path_days']].query('source == \"yandex_direct\"')\n",
    "youtube_channel_reklama = users_first_last_event[['source', 'path_days']].query('source == \"youtube_channel_reklama\"')"
   ]
  },
  {
   "cell_type": "code",
   "execution_count": 71,
   "id": "1ffca6ba",
   "metadata": {},
   "outputs": [
    {
     "name": "stdout",
     "output_type": "stream",
     "text": [
      "p-значение:  0.6933048123346999\n",
      "Не получилось отвергнуть нулевую гипотезу, различия между пользователями нет\n"
     ]
    }
   ],
   "source": [
    "alpha = 0.05\n",
    "\n",
    "results = st.ttest_ind(yandex_direct['path_days'], youtube_channel_reklama['path_days'], equal_var = False)\n",
    "print('p-значение: ', results.pvalue)\n",
    "\n",
    "if (results.pvalue < alpha):\n",
    "    print(\"Отвергаем нулевую гипотезу, различие между пользователями есть\")\n",
    "else:\n",
    "    print(\"Не получилось отвергнуть нулевую гипотезу, различия между пользователями нет\")"
   ]
  },
  {
   "cell_type": "markdown",
   "id": "e47eadeb",
   "metadata": {},
   "source": [
    "**Вывод:** Способ прохождения уровня не зависит от источника трафика"
   ]
  },
  {
   "cell_type": "markdown",
   "id": "db59fdfe",
   "metadata": {},
   "source": [
    "### 5. Вывод и рекомендации<a name=\"result\"></a>\n",
    "\n"
   ]
  },
  {
   "cell_type": "markdown",
   "id": "1ac59530",
   "metadata": {},
   "source": [
    "\n",
    "В ходе анализа рекламных источников для игры «Космические братья» было выявлено:\n",
    "\n",
    "**Исследовательский анализ:**\n",
    "\n",
    "* количество уникальных пользователей - 13576\n",
    "* количество событий - 135639\n",
    "* количество уникальных событий - 3\n",
    "* количество проектов реализовано - 1\n",
    "* количество пользователей реализовавших проект- 1866\n",
    "* количество поьлзователей завершили уровень победой над игроком - 3951\n",
    "* количество построеных зданий - 127956\n",
    "* количество уникальных построеных зданий - 3\n",
    "* количество использованных источников трафика - 4\n",
    "\n",
    "* Большинство пользователей (57%) остановились в прогрессе и не прошли первый уровень.\n",
    "* 29% пользователей прошли первый уровень победой над врагом. \n",
    "* 14% выбрали путь реализации проекта. \n",
    "* Только 43% пользователей прошли первый уровень\n",
    "\n",
    "\n",
    "* Наибольшее количество пользователей пришло из yandex_direct - 4817, далее instagram_new_adverts - 3347, между источниками youtube_channel_reklama и facebook_ads почти разницы нет.\n",
    "\n",
    "**Расчет метрик:**\n",
    "\n",
    "* За весь период в игру поиграло 13576 пользователей, ежедневно в игру заходит 2884.88, в неделю 6120, 47.14% регулярно возвращается в игру, что является хорошим показателем.\n",
    "\n",
    "* Хороший показатель Retention Rate. Не смотря на то, что в каждой когорте половина играков отсеивалась, но со временем они возвращались.\n",
    "\n",
    "**Гипотезы:**\n",
    "\n",
    "* Скорость прохождения уровня зависит от способа. \n",
    "* От источника трафика не зависит ни возврат игроков, ни способ прохождения уровня.\n",
    "\n",
    "\n",
    "**Предложения:**\n",
    "* Все источники интересны с точки зрения потока пользователей, но основными рекламными площадками рекомендуется выбрать youtube_channel_reklama, yandex_direct.\n",
    "\n",
    "* Время прохождения первого уровня долгое даже у самого быстрого игрока, необходимо сократить.\n",
    "\n",
    "* Для увеличения прибыли, сделать апгрейды здании и  например, добавить функции в базу или космопорты, по аналогии с Stellaris, где можно в здании строить различные строяния для получения очков/ресурсов,улучшение позвонилит увеличать посещаемость окна постройки объекта, а следовательно и показ рекламы в окне.\n",
    "\n",
    "* Ускорение строительства построек после просмотра рекламного баннера"
   ]
  },
  {
   "cell_type": "markdown",
   "id": "af367c02",
   "metadata": {},
   "source": [
    "<div class=\"alert alert-warning\">\n",
    "<b>Комментарий ревьюера v2:</b>⛅️ \n",
    "\n",
    "Предложения этих двух каналов связано с `yandex_direct привел большое количество пользователей, в то время как youtube_channel_reklama оказадся наименее затратным. Обе характеристики делают данные источники наиболее привлекательными для последующего маштабирования рекламы.`?\n",
    "</div>"
   ]
  },
  {
   "cell_type": "markdown",
   "id": "575d5a98",
   "metadata": {},
   "source": [
    "<div class=\"alert alert-info\">\n",
    "<b>Комментарий студента:</b>\n",
    "    \n",
    "Бес попутал, уже три раза вывод переписывал. Исправил)\n",
    "</div>"
   ]
  },
  {
   "cell_type": "markdown",
   "id": "67547cb6",
   "metadata": {},
   "source": [
    "### 6.Дополнительные материалы<a name=\"result1\"></a>\n"
   ]
  },
  {
   "cell_type": "markdown",
   "id": "1d798aab",
   "metadata": {},
   "source": [
    "### 6.1.Презентация<a name=\"result2\"></a>\n",
    "Презентация\n",
    "https://disk.yandex.ru/i/iQkqa3zVPvKI2g"
   ]
  },
  {
   "cell_type": "markdown",
   "id": "7b4b8410",
   "metadata": {},
   "source": [
    "### 6.2.Дашборд<a name=\"result3\"></a>\n",
    "Дашборд\n",
    "https://public.tableau.com/app/profile/dmitrii6633/viz/Final_Project_16537420434550/Dashboard1"
   ]
  },
  {
   "cell_type": "markdown",
   "id": "bd7367d7",
   "metadata": {},
   "source": [
    "<div class=\"alert alert-success\">\n",
    "<b>Комментарий ревьюера v2:</b>☀️\n",
    "    \n",
    "**По дашборду** вопросов нет, всё по тз, молодец\n",
    "    \n",
    "**Касательно презентации:** \n",
    "* Выводы в начале позволяют донести краткую выжимку, спасибо за них, за контекст от слайда с постановкой задачи\n",
    "    \n",
    "<br>\n",
    "    \n",
    "* Рекомендую добавить нумерацию слайдов, чтобы заказчики могли задать вопрос по твоей презентации не с \"верните на вон тот слайд с ...\", а просто по номеру слайда\n",
    "* Хотелось бы ссылок на источник информации\n",
    "* Рекомендую добавлять рамку для отделения графиков от остальной части презентации и их выравнивать от слайда к слайду, а сейчас при переключении есть ощущения, что графики всегда в разных местах\n",
    "   \n",
    "</div>"
   ]
  },
  {
   "cell_type": "markdown",
   "id": "39b6e8a6",
   "metadata": {},
   "source": [
    "<div class=\"alert alert-info\">\n",
    "<b>Комментарий студента:</b>\n",
    "    \n",
    "Пока что отправил проект без изменения в презентации, пока будет идти проверка проекта, займусь презой. \n",
    "По комментариям: ты оставил два красных и как будто бы ответ на них есть в пункте 2.10.\n",
    "Может мне имеет смысл вынести расчеты в пункт 2.12 например? Сделать визуализацию распределения по дням  и там же уже есть разбивка по стратегиям.\n",
    "В целом, честно говоря, я в своем проекте уже сам запутался тк есть ощущение что слишком долго его делаю.\n",
    "\n",
    "    \n",
    "Спасибо за пророверку, буду ждать ответа.\n",
    "</div>"
   ]
  },
  {
   "cell_type": "markdown",
   "id": "89edc1de",
   "metadata": {},
   "source": [
    "<div class=\"alert alert-success\">\n",
    "<b>Комментарий ревьюера v3:</b>☀️\n",
    "    \n",
    "Думал, отправлять ли на ещё итерацию или нет, про 2.10, хотелось бы не при помощи одного числа оценивать стратегии, а видеть всё распределение целиком. А про удержание, у нас ведь есть фактические знания о перешедших на второй уровень, возможно в данной задаче можно посчитать именно отток, Как тех, кто перестал заходить в игру в какой-то день. Удачи с дедлайнами)\n",
    "</div>\n"
   ]
  },
  {
   "cell_type": "code",
   "execution_count": null,
   "id": "f28fcd0a",
   "metadata": {},
   "outputs": [],
   "source": []
  }
 ],
 "metadata": {
  "ExecuteTimeLog": [
   {
    "duration": 1495,
    "start_time": "2022-05-26T19:14:34.113Z"
   },
   {
    "duration": 0,
    "start_time": "2022-05-26T19:14:35.612Z"
   },
   {
    "duration": 0,
    "start_time": "2022-05-26T19:14:35.613Z"
   },
   {
    "duration": 0,
    "start_time": "2022-05-26T19:14:35.614Z"
   },
   {
    "duration": 0,
    "start_time": "2022-05-26T19:14:35.616Z"
   },
   {
    "duration": 0,
    "start_time": "2022-05-26T19:14:35.617Z"
   },
   {
    "duration": 0,
    "start_time": "2022-05-26T19:14:35.618Z"
   },
   {
    "duration": 0,
    "start_time": "2022-05-26T19:14:35.619Z"
   },
   {
    "duration": 0,
    "start_time": "2022-05-26T19:14:35.620Z"
   },
   {
    "duration": 0,
    "start_time": "2022-05-26T19:14:35.622Z"
   },
   {
    "duration": 0,
    "start_time": "2022-05-26T19:14:35.622Z"
   },
   {
    "duration": 0,
    "start_time": "2022-05-26T19:14:35.623Z"
   },
   {
    "duration": 0,
    "start_time": "2022-05-26T19:14:35.625Z"
   },
   {
    "duration": 0,
    "start_time": "2022-05-26T19:14:35.626Z"
   },
   {
    "duration": 0,
    "start_time": "2022-05-26T19:14:35.627Z"
   },
   {
    "duration": 0,
    "start_time": "2022-05-26T19:14:35.628Z"
   },
   {
    "duration": 0,
    "start_time": "2022-05-26T19:14:35.629Z"
   },
   {
    "duration": 1,
    "start_time": "2022-05-26T19:14:35.630Z"
   },
   {
    "duration": 0,
    "start_time": "2022-05-26T19:14:35.631Z"
   },
   {
    "duration": 0,
    "start_time": "2022-05-26T19:14:35.632Z"
   },
   {
    "duration": 0,
    "start_time": "2022-05-26T19:14:35.634Z"
   },
   {
    "duration": 0,
    "start_time": "2022-05-26T19:14:35.635Z"
   },
   {
    "duration": 0,
    "start_time": "2022-05-26T19:14:35.636Z"
   },
   {
    "duration": 0,
    "start_time": "2022-05-26T19:14:35.637Z"
   },
   {
    "duration": 0,
    "start_time": "2022-05-26T19:14:35.638Z"
   },
   {
    "duration": 0,
    "start_time": "2022-05-26T19:14:35.639Z"
   },
   {
    "duration": 0,
    "start_time": "2022-05-26T19:14:35.639Z"
   },
   {
    "duration": 0,
    "start_time": "2022-05-26T19:14:35.640Z"
   },
   {
    "duration": 0,
    "start_time": "2022-05-26T19:14:35.683Z"
   },
   {
    "duration": 0,
    "start_time": "2022-05-26T19:14:35.685Z"
   },
   {
    "duration": 0,
    "start_time": "2022-05-26T19:14:35.687Z"
   },
   {
    "duration": 0,
    "start_time": "2022-05-26T19:14:35.688Z"
   },
   {
    "duration": 0,
    "start_time": "2022-05-26T19:14:35.689Z"
   },
   {
    "duration": 0,
    "start_time": "2022-05-26T19:14:35.690Z"
   },
   {
    "duration": 0,
    "start_time": "2022-05-26T19:14:35.691Z"
   },
   {
    "duration": 0,
    "start_time": "2022-05-26T19:14:35.692Z"
   },
   {
    "duration": 0,
    "start_time": "2022-05-26T19:14:35.693Z"
   },
   {
    "duration": 0,
    "start_time": "2022-05-26T19:14:35.694Z"
   },
   {
    "duration": 0,
    "start_time": "2022-05-26T19:14:35.696Z"
   },
   {
    "duration": 0,
    "start_time": "2022-05-26T19:14:35.697Z"
   },
   {
    "duration": 0,
    "start_time": "2022-05-26T19:14:35.698Z"
   },
   {
    "duration": 0,
    "start_time": "2022-05-26T19:14:35.699Z"
   },
   {
    "duration": 0,
    "start_time": "2022-05-26T19:14:35.700Z"
   },
   {
    "duration": 0,
    "start_time": "2022-05-26T19:14:35.701Z"
   },
   {
    "duration": 0,
    "start_time": "2022-05-26T19:14:35.703Z"
   },
   {
    "duration": 0,
    "start_time": "2022-05-26T19:14:35.704Z"
   },
   {
    "duration": 0,
    "start_time": "2022-05-26T19:14:35.705Z"
   },
   {
    "duration": 0,
    "start_time": "2022-05-26T19:14:35.706Z"
   },
   {
    "duration": 0,
    "start_time": "2022-05-26T19:14:35.707Z"
   },
   {
    "duration": 0,
    "start_time": "2022-05-26T19:14:35.708Z"
   },
   {
    "duration": 0,
    "start_time": "2022-05-26T19:14:35.709Z"
   },
   {
    "duration": 0,
    "start_time": "2022-05-26T19:14:35.710Z"
   },
   {
    "duration": 0,
    "start_time": "2022-05-26T19:14:35.712Z"
   },
   {
    "duration": 0,
    "start_time": "2022-05-26T19:14:35.713Z"
   },
   {
    "duration": 0,
    "start_time": "2022-05-26T19:14:35.714Z"
   },
   {
    "duration": 0,
    "start_time": "2022-05-26T19:14:35.715Z"
   },
   {
    "duration": 0,
    "start_time": "2022-05-26T19:14:35.716Z"
   },
   {
    "duration": 0,
    "start_time": "2022-05-26T19:14:35.717Z"
   },
   {
    "duration": 0,
    "start_time": "2022-05-26T19:14:35.719Z"
   },
   {
    "duration": 0,
    "start_time": "2022-05-26T19:14:35.784Z"
   },
   {
    "duration": 0,
    "start_time": "2022-05-26T19:14:35.786Z"
   },
   {
    "duration": 0,
    "start_time": "2022-05-26T19:14:35.787Z"
   },
   {
    "duration": 0,
    "start_time": "2022-05-26T19:14:35.789Z"
   },
   {
    "duration": 0,
    "start_time": "2022-05-26T19:14:35.791Z"
   },
   {
    "duration": 0,
    "start_time": "2022-05-26T19:14:35.792Z"
   },
   {
    "duration": 0,
    "start_time": "2022-05-26T19:14:35.794Z"
   },
   {
    "duration": 0,
    "start_time": "2022-05-26T19:14:35.795Z"
   },
   {
    "duration": 0,
    "start_time": "2022-05-26T19:14:35.797Z"
   },
   {
    "duration": 0,
    "start_time": "2022-05-26T19:14:35.798Z"
   },
   {
    "duration": 0,
    "start_time": "2022-05-26T19:14:35.800Z"
   },
   {
    "duration": 0,
    "start_time": "2022-05-26T19:14:35.802Z"
   },
   {
    "duration": 0,
    "start_time": "2022-05-26T19:14:35.803Z"
   },
   {
    "duration": 0,
    "start_time": "2022-05-26T19:14:35.805Z"
   },
   {
    "duration": 0,
    "start_time": "2022-05-26T19:14:35.807Z"
   },
   {
    "duration": 0,
    "start_time": "2022-05-26T19:14:35.808Z"
   },
   {
    "duration": 0,
    "start_time": "2022-05-26T19:14:35.809Z"
   },
   {
    "duration": 0,
    "start_time": "2022-05-26T19:14:35.811Z"
   },
   {
    "duration": 0,
    "start_time": "2022-05-26T19:14:35.812Z"
   },
   {
    "duration": 0,
    "start_time": "2022-05-26T19:14:35.814Z"
   },
   {
    "duration": 0,
    "start_time": "2022-05-26T19:14:35.815Z"
   },
   {
    "duration": 0,
    "start_time": "2022-05-26T19:14:35.816Z"
   },
   {
    "duration": 0,
    "start_time": "2022-05-26T19:14:35.817Z"
   },
   {
    "duration": 0,
    "start_time": "2022-05-26T19:14:35.819Z"
   },
   {
    "duration": 0,
    "start_time": "2022-05-26T19:14:35.821Z"
   },
   {
    "duration": 0,
    "start_time": "2022-05-26T19:14:35.883Z"
   },
   {
    "duration": 0,
    "start_time": "2022-05-26T19:14:35.885Z"
   },
   {
    "duration": 1471,
    "start_time": "2022-05-27T16:29:19.303Z"
   },
   {
    "duration": 19,
    "start_time": "2022-05-27T16:29:51.870Z"
   },
   {
    "duration": 35,
    "start_time": "2022-05-27T16:30:04.760Z"
   },
   {
    "duration": 46,
    "start_time": "2022-05-27T16:39:56.078Z"
   },
   {
    "duration": 23,
    "start_time": "2022-05-27T16:40:04.921Z"
   },
   {
    "duration": 24,
    "start_time": "2022-05-27T16:40:19.462Z"
   },
   {
    "duration": 53,
    "start_time": "2022-05-27T16:40:44.501Z"
   },
   {
    "duration": 22,
    "start_time": "2022-05-27T16:42:46.481Z"
   },
   {
    "duration": 27,
    "start_time": "2022-05-27T16:44:28.370Z"
   },
   {
    "duration": 33,
    "start_time": "2022-05-27T16:45:03.398Z"
   },
   {
    "duration": 37,
    "start_time": "2022-05-27T16:46:18.523Z"
   },
   {
    "duration": 41,
    "start_time": "2022-05-27T16:46:33.773Z"
   },
   {
    "duration": 48,
    "start_time": "2022-05-27T16:48:20.478Z"
   },
   {
    "duration": 48,
    "start_time": "2022-05-27T16:48:48.081Z"
   },
   {
    "duration": 217,
    "start_time": "2022-05-27T16:49:51.687Z"
   },
   {
    "duration": 52,
    "start_time": "2022-05-27T16:51:58.299Z"
   },
   {
    "duration": 42,
    "start_time": "2022-05-27T16:52:31.314Z"
   },
   {
    "duration": 38,
    "start_time": "2022-05-27T16:53:51.577Z"
   },
   {
    "duration": 935,
    "start_time": "2022-05-27T16:54:13.469Z"
   },
   {
    "duration": 14,
    "start_time": "2022-05-27T16:54:21.175Z"
   },
   {
    "duration": 1475,
    "start_time": "2022-05-27T16:54:40.293Z"
   },
   {
    "duration": 12,
    "start_time": "2022-05-27T16:54:41.770Z"
   },
   {
    "duration": 9,
    "start_time": "2022-05-27T16:54:41.783Z"
   },
   {
    "duration": 9,
    "start_time": "2022-05-27T16:54:41.795Z"
   },
   {
    "duration": 9,
    "start_time": "2022-05-27T16:54:41.805Z"
   },
   {
    "duration": 113,
    "start_time": "2022-05-27T16:54:41.816Z"
   },
   {
    "duration": 13,
    "start_time": "2022-05-27T16:54:41.931Z"
   },
   {
    "duration": 11,
    "start_time": "2022-05-27T16:54:41.946Z"
   },
   {
    "duration": 48,
    "start_time": "2022-05-27T16:54:41.959Z"
   },
   {
    "duration": 12,
    "start_time": "2022-05-27T16:54:42.010Z"
   },
   {
    "duration": 73,
    "start_time": "2022-05-27T16:54:42.024Z"
   },
   {
    "duration": 18,
    "start_time": "2022-05-27T16:54:42.099Z"
   },
   {
    "duration": 15,
    "start_time": "2022-05-27T16:54:42.119Z"
   },
   {
    "duration": 15,
    "start_time": "2022-05-27T16:54:42.136Z"
   },
   {
    "duration": 14,
    "start_time": "2022-05-27T16:54:42.153Z"
   },
   {
    "duration": 43,
    "start_time": "2022-05-27T16:54:42.169Z"
   },
   {
    "duration": 12,
    "start_time": "2022-05-27T16:54:42.214Z"
   },
   {
    "duration": 19,
    "start_time": "2022-05-27T16:54:42.228Z"
   },
   {
    "duration": 95,
    "start_time": "2022-05-27T16:54:42.249Z"
   },
   {
    "duration": 10,
    "start_time": "2022-05-27T16:54:42.346Z"
   },
   {
    "duration": 13,
    "start_time": "2022-05-27T16:54:42.359Z"
   },
   {
    "duration": 38,
    "start_time": "2022-05-27T16:54:42.374Z"
   },
   {
    "duration": 28,
    "start_time": "2022-05-27T16:54:42.415Z"
   },
   {
    "duration": 54,
    "start_time": "2022-05-27T16:54:42.445Z"
   },
   {
    "duration": 66,
    "start_time": "2022-05-27T16:54:42.501Z"
   },
   {
    "duration": 60,
    "start_time": "2022-05-27T16:54:42.569Z"
   },
   {
    "duration": 6,
    "start_time": "2022-05-27T16:54:42.631Z"
   },
   {
    "duration": 125,
    "start_time": "2022-05-27T16:54:42.641Z"
   },
   {
    "duration": 0,
    "start_time": "2022-05-27T16:54:42.768Z"
   },
   {
    "duration": 0,
    "start_time": "2022-05-27T16:54:42.770Z"
   },
   {
    "duration": 0,
    "start_time": "2022-05-27T16:54:42.771Z"
   },
   {
    "duration": 0,
    "start_time": "2022-05-27T16:54:42.773Z"
   },
   {
    "duration": 0,
    "start_time": "2022-05-27T16:54:42.774Z"
   },
   {
    "duration": 0,
    "start_time": "2022-05-27T16:54:42.775Z"
   },
   {
    "duration": 0,
    "start_time": "2022-05-27T16:54:42.777Z"
   },
   {
    "duration": 0,
    "start_time": "2022-05-27T16:54:42.778Z"
   },
   {
    "duration": 0,
    "start_time": "2022-05-27T16:54:42.794Z"
   },
   {
    "duration": 0,
    "start_time": "2022-05-27T16:54:42.797Z"
   },
   {
    "duration": 0,
    "start_time": "2022-05-27T16:54:42.798Z"
   },
   {
    "duration": 0,
    "start_time": "2022-05-27T16:54:42.799Z"
   },
   {
    "duration": 0,
    "start_time": "2022-05-27T16:54:42.801Z"
   },
   {
    "duration": 0,
    "start_time": "2022-05-27T16:54:42.802Z"
   },
   {
    "duration": 0,
    "start_time": "2022-05-27T16:54:42.803Z"
   },
   {
    "duration": 0,
    "start_time": "2022-05-27T16:54:42.804Z"
   },
   {
    "duration": 0,
    "start_time": "2022-05-27T16:54:42.806Z"
   },
   {
    "duration": 0,
    "start_time": "2022-05-27T16:54:42.806Z"
   },
   {
    "duration": 0,
    "start_time": "2022-05-27T16:54:42.808Z"
   },
   {
    "duration": 0,
    "start_time": "2022-05-27T16:54:42.809Z"
   },
   {
    "duration": 0,
    "start_time": "2022-05-27T16:54:42.810Z"
   },
   {
    "duration": 0,
    "start_time": "2022-05-27T16:54:42.811Z"
   },
   {
    "duration": 0,
    "start_time": "2022-05-27T16:54:42.813Z"
   },
   {
    "duration": 0,
    "start_time": "2022-05-27T16:54:42.814Z"
   },
   {
    "duration": 0,
    "start_time": "2022-05-27T16:54:42.815Z"
   },
   {
    "duration": 0,
    "start_time": "2022-05-27T16:54:42.816Z"
   },
   {
    "duration": 0,
    "start_time": "2022-05-27T16:54:42.817Z"
   },
   {
    "duration": 0,
    "start_time": "2022-05-27T16:54:42.819Z"
   },
   {
    "duration": 0,
    "start_time": "2022-05-27T16:54:42.821Z"
   },
   {
    "duration": 0,
    "start_time": "2022-05-27T16:54:42.822Z"
   },
   {
    "duration": 0,
    "start_time": "2022-05-27T16:54:42.823Z"
   },
   {
    "duration": 0,
    "start_time": "2022-05-27T16:54:42.824Z"
   },
   {
    "duration": 0,
    "start_time": "2022-05-27T16:54:42.825Z"
   },
   {
    "duration": 0,
    "start_time": "2022-05-27T16:54:42.825Z"
   },
   {
    "duration": 0,
    "start_time": "2022-05-27T16:54:42.826Z"
   },
   {
    "duration": 0,
    "start_time": "2022-05-27T16:54:42.827Z"
   },
   {
    "duration": 0,
    "start_time": "2022-05-27T16:54:42.828Z"
   },
   {
    "duration": 0,
    "start_time": "2022-05-27T16:54:42.829Z"
   },
   {
    "duration": 0,
    "start_time": "2022-05-27T16:54:42.830Z"
   },
   {
    "duration": 0,
    "start_time": "2022-05-27T16:54:42.894Z"
   },
   {
    "duration": 0,
    "start_time": "2022-05-27T16:54:42.896Z"
   },
   {
    "duration": 0,
    "start_time": "2022-05-27T16:54:42.897Z"
   },
   {
    "duration": 0,
    "start_time": "2022-05-27T16:54:42.898Z"
   },
   {
    "duration": 0,
    "start_time": "2022-05-27T16:54:42.898Z"
   },
   {
    "duration": 0,
    "start_time": "2022-05-27T16:54:42.900Z"
   },
   {
    "duration": 0,
    "start_time": "2022-05-27T16:54:42.901Z"
   },
   {
    "duration": 0,
    "start_time": "2022-05-27T16:54:42.902Z"
   },
   {
    "duration": 0,
    "start_time": "2022-05-27T16:54:42.903Z"
   },
   {
    "duration": 1,
    "start_time": "2022-05-27T16:54:42.903Z"
   },
   {
    "duration": 0,
    "start_time": "2022-05-27T16:54:42.905Z"
   },
   {
    "duration": 0,
    "start_time": "2022-05-27T16:54:42.906Z"
   },
   {
    "duration": 0,
    "start_time": "2022-05-27T16:54:42.907Z"
   },
   {
    "duration": 0,
    "start_time": "2022-05-27T16:54:42.908Z"
   },
   {
    "duration": 0,
    "start_time": "2022-05-27T16:54:42.909Z"
   },
   {
    "duration": 0,
    "start_time": "2022-05-27T16:54:42.910Z"
   },
   {
    "duration": 0,
    "start_time": "2022-05-27T16:54:42.912Z"
   },
   {
    "duration": 0,
    "start_time": "2022-05-27T16:54:42.912Z"
   },
   {
    "duration": 0,
    "start_time": "2022-05-27T16:54:42.913Z"
   },
   {
    "duration": 2290,
    "start_time": "2022-05-28T09:41:14.020Z"
   },
   {
    "duration": 11,
    "start_time": "2022-05-28T09:41:16.313Z"
   },
   {
    "duration": 9,
    "start_time": "2022-05-28T09:41:16.326Z"
   },
   {
    "duration": 12,
    "start_time": "2022-05-28T09:41:16.336Z"
   },
   {
    "duration": 12,
    "start_time": "2022-05-28T09:41:16.349Z"
   },
   {
    "duration": 97,
    "start_time": "2022-05-28T09:41:16.363Z"
   },
   {
    "duration": 18,
    "start_time": "2022-05-28T09:41:16.462Z"
   },
   {
    "duration": 16,
    "start_time": "2022-05-28T09:41:16.482Z"
   },
   {
    "duration": 30,
    "start_time": "2022-05-28T09:41:16.499Z"
   },
   {
    "duration": 30,
    "start_time": "2022-05-28T09:41:16.532Z"
   },
   {
    "duration": 34,
    "start_time": "2022-05-28T09:41:16.563Z"
   },
   {
    "duration": 16,
    "start_time": "2022-05-28T09:41:16.599Z"
   },
   {
    "duration": 11,
    "start_time": "2022-05-28T09:41:16.616Z"
   },
   {
    "duration": 33,
    "start_time": "2022-05-28T09:41:16.628Z"
   },
   {
    "duration": 15,
    "start_time": "2022-05-28T09:41:16.662Z"
   },
   {
    "duration": 21,
    "start_time": "2022-05-28T09:41:16.679Z"
   },
   {
    "duration": 9,
    "start_time": "2022-05-28T09:41:16.702Z"
   },
   {
    "duration": 10,
    "start_time": "2022-05-28T09:41:16.713Z"
   },
   {
    "duration": 83,
    "start_time": "2022-05-28T09:41:16.725Z"
   },
   {
    "duration": 5,
    "start_time": "2022-05-28T09:41:16.810Z"
   },
   {
    "duration": 8,
    "start_time": "2022-05-28T09:41:16.816Z"
   },
   {
    "duration": 40,
    "start_time": "2022-05-28T09:41:16.826Z"
   },
   {
    "duration": 34,
    "start_time": "2022-05-28T09:41:16.868Z"
   },
   {
    "duration": 20,
    "start_time": "2022-05-28T09:41:16.904Z"
   },
   {
    "duration": 60,
    "start_time": "2022-05-28T09:41:16.925Z"
   },
   {
    "duration": 43,
    "start_time": "2022-05-28T09:41:16.986Z"
   },
   {
    "duration": 6,
    "start_time": "2022-05-28T09:41:17.030Z"
   },
   {
    "duration": 130,
    "start_time": "2022-05-28T09:41:17.042Z"
   },
   {
    "duration": 0,
    "start_time": "2022-05-28T09:41:17.174Z"
   },
   {
    "duration": 0,
    "start_time": "2022-05-28T09:41:17.175Z"
   },
   {
    "duration": 0,
    "start_time": "2022-05-28T09:41:17.176Z"
   },
   {
    "duration": 1,
    "start_time": "2022-05-28T09:41:17.177Z"
   },
   {
    "duration": 0,
    "start_time": "2022-05-28T09:41:17.178Z"
   },
   {
    "duration": 0,
    "start_time": "2022-05-28T09:41:17.179Z"
   },
   {
    "duration": 1,
    "start_time": "2022-05-28T09:41:17.180Z"
   },
   {
    "duration": 0,
    "start_time": "2022-05-28T09:41:17.182Z"
   },
   {
    "duration": 0,
    "start_time": "2022-05-28T09:41:17.183Z"
   },
   {
    "duration": 0,
    "start_time": "2022-05-28T09:41:17.184Z"
   },
   {
    "duration": 0,
    "start_time": "2022-05-28T09:41:17.185Z"
   },
   {
    "duration": 0,
    "start_time": "2022-05-28T09:41:17.186Z"
   },
   {
    "duration": 0,
    "start_time": "2022-05-28T09:41:17.186Z"
   },
   {
    "duration": 0,
    "start_time": "2022-05-28T09:41:17.188Z"
   },
   {
    "duration": 0,
    "start_time": "2022-05-28T09:41:17.188Z"
   },
   {
    "duration": 1,
    "start_time": "2022-05-28T09:41:17.189Z"
   },
   {
    "duration": 0,
    "start_time": "2022-05-28T09:41:17.191Z"
   },
   {
    "duration": 0,
    "start_time": "2022-05-28T09:41:17.192Z"
   },
   {
    "duration": 0,
    "start_time": "2022-05-28T09:41:17.193Z"
   },
   {
    "duration": 0,
    "start_time": "2022-05-28T09:41:17.194Z"
   },
   {
    "duration": 0,
    "start_time": "2022-05-28T09:41:17.195Z"
   },
   {
    "duration": 0,
    "start_time": "2022-05-28T09:41:17.196Z"
   },
   {
    "duration": 0,
    "start_time": "2022-05-28T09:41:17.197Z"
   },
   {
    "duration": 0,
    "start_time": "2022-05-28T09:41:17.197Z"
   },
   {
    "duration": 0,
    "start_time": "2022-05-28T09:41:17.198Z"
   },
   {
    "duration": 0,
    "start_time": "2022-05-28T09:41:17.199Z"
   },
   {
    "duration": 0,
    "start_time": "2022-05-28T09:41:17.200Z"
   },
   {
    "duration": 0,
    "start_time": "2022-05-28T09:41:17.201Z"
   },
   {
    "duration": 0,
    "start_time": "2022-05-28T09:41:17.203Z"
   },
   {
    "duration": 0,
    "start_time": "2022-05-28T09:41:17.203Z"
   },
   {
    "duration": 0,
    "start_time": "2022-05-28T09:41:17.205Z"
   },
   {
    "duration": 0,
    "start_time": "2022-05-28T09:41:17.260Z"
   },
   {
    "duration": 0,
    "start_time": "2022-05-28T09:41:17.261Z"
   },
   {
    "duration": 0,
    "start_time": "2022-05-28T09:41:17.262Z"
   },
   {
    "duration": 0,
    "start_time": "2022-05-28T09:41:17.264Z"
   },
   {
    "duration": 0,
    "start_time": "2022-05-28T09:41:17.265Z"
   },
   {
    "duration": 0,
    "start_time": "2022-05-28T09:41:17.266Z"
   },
   {
    "duration": 0,
    "start_time": "2022-05-28T09:41:17.267Z"
   },
   {
    "duration": 0,
    "start_time": "2022-05-28T09:41:17.268Z"
   },
   {
    "duration": 0,
    "start_time": "2022-05-28T09:41:17.269Z"
   },
   {
    "duration": 0,
    "start_time": "2022-05-28T09:41:17.270Z"
   },
   {
    "duration": 0,
    "start_time": "2022-05-28T09:41:17.271Z"
   },
   {
    "duration": 0,
    "start_time": "2022-05-28T09:41:17.272Z"
   },
   {
    "duration": 0,
    "start_time": "2022-05-28T09:41:17.273Z"
   },
   {
    "duration": 0,
    "start_time": "2022-05-28T09:41:17.274Z"
   },
   {
    "duration": 0,
    "start_time": "2022-05-28T09:41:17.275Z"
   },
   {
    "duration": 0,
    "start_time": "2022-05-28T09:41:17.276Z"
   },
   {
    "duration": 0,
    "start_time": "2022-05-28T09:41:17.277Z"
   },
   {
    "duration": 0,
    "start_time": "2022-05-28T09:41:17.278Z"
   },
   {
    "duration": 0,
    "start_time": "2022-05-28T09:41:17.279Z"
   },
   {
    "duration": 0,
    "start_time": "2022-05-28T09:41:17.280Z"
   },
   {
    "duration": 0,
    "start_time": "2022-05-28T09:41:17.281Z"
   },
   {
    "duration": 0,
    "start_time": "2022-05-28T09:41:17.282Z"
   },
   {
    "duration": 0,
    "start_time": "2022-05-28T09:41:17.283Z"
   },
   {
    "duration": 0,
    "start_time": "2022-05-28T09:41:17.284Z"
   },
   {
    "duration": 0,
    "start_time": "2022-05-28T09:41:17.285Z"
   },
   {
    "duration": 0,
    "start_time": "2022-05-28T09:41:17.286Z"
   },
   {
    "duration": 0,
    "start_time": "2022-05-28T09:41:17.287Z"
   },
   {
    "duration": 10,
    "start_time": "2022-05-28T09:41:30.233Z"
   },
   {
    "duration": 6,
    "start_time": "2022-05-28T09:42:04.689Z"
   },
   {
    "duration": 7,
    "start_time": "2022-05-28T09:43:54.548Z"
   },
   {
    "duration": 6,
    "start_time": "2022-05-28T09:45:00.763Z"
   },
   {
    "duration": 228,
    "start_time": "2022-05-28T09:48:09.993Z"
   },
   {
    "duration": 165,
    "start_time": "2022-05-28T09:49:00.523Z"
   },
   {
    "duration": 124,
    "start_time": "2022-05-28T09:50:18.930Z"
   },
   {
    "duration": 112,
    "start_time": "2022-05-28T09:50:34.021Z"
   },
   {
    "duration": 29,
    "start_time": "2022-05-28T09:51:44.901Z"
   },
   {
    "duration": 217,
    "start_time": "2022-05-28T09:52:17.251Z"
   },
   {
    "duration": 214,
    "start_time": "2022-05-28T09:52:50.850Z"
   },
   {
    "duration": 213,
    "start_time": "2022-05-28T09:53:21.673Z"
   },
   {
    "duration": 935,
    "start_time": "2022-05-28T09:54:12.651Z"
   },
   {
    "duration": 543,
    "start_time": "2022-05-28T09:54:17.272Z"
   },
   {
    "duration": 248,
    "start_time": "2022-05-28T09:54:24.205Z"
   },
   {
    "duration": 201,
    "start_time": "2022-05-28T09:54:32.394Z"
   },
   {
    "duration": 10,
    "start_time": "2022-05-28T09:55:11.738Z"
   },
   {
    "duration": 75,
    "start_time": "2022-05-28T09:58:00.454Z"
   },
   {
    "duration": 125,
    "start_time": "2022-05-28T09:58:16.775Z"
   },
   {
    "duration": 517,
    "start_time": "2022-05-28T10:00:52.259Z"
   },
   {
    "duration": 10,
    "start_time": "2022-05-28T10:01:21.244Z"
   },
   {
    "duration": 12,
    "start_time": "2022-05-28T10:01:39.367Z"
   },
   {
    "duration": 10,
    "start_time": "2022-05-28T10:03:14.217Z"
   },
   {
    "duration": 1395,
    "start_time": "2022-05-28T10:03:51.245Z"
   },
   {
    "duration": 10,
    "start_time": "2022-05-28T10:03:52.642Z"
   },
   {
    "duration": 13,
    "start_time": "2022-05-28T10:03:52.653Z"
   },
   {
    "duration": 9,
    "start_time": "2022-05-28T10:03:52.669Z"
   },
   {
    "duration": 10,
    "start_time": "2022-05-28T10:03:52.680Z"
   },
   {
    "duration": 126,
    "start_time": "2022-05-28T10:03:52.692Z"
   },
   {
    "duration": 13,
    "start_time": "2022-05-28T10:03:52.820Z"
   },
   {
    "duration": 33,
    "start_time": "2022-05-28T10:03:52.835Z"
   },
   {
    "duration": 43,
    "start_time": "2022-05-28T10:03:52.871Z"
   },
   {
    "duration": 9,
    "start_time": "2022-05-28T10:03:52.917Z"
   },
   {
    "duration": 70,
    "start_time": "2022-05-28T10:03:52.928Z"
   },
   {
    "duration": 17,
    "start_time": "2022-05-28T10:03:53.000Z"
   },
   {
    "duration": 11,
    "start_time": "2022-05-28T10:03:53.019Z"
   },
   {
    "duration": 34,
    "start_time": "2022-05-28T10:03:53.032Z"
   },
   {
    "duration": 17,
    "start_time": "2022-05-28T10:03:53.069Z"
   },
   {
    "duration": 31,
    "start_time": "2022-05-28T10:03:53.087Z"
   },
   {
    "duration": 17,
    "start_time": "2022-05-28T10:03:53.120Z"
   },
   {
    "duration": 23,
    "start_time": "2022-05-28T10:03:53.138Z"
   },
   {
    "duration": 79,
    "start_time": "2022-05-28T10:03:53.164Z"
   },
   {
    "duration": 6,
    "start_time": "2022-05-28T10:03:53.244Z"
   },
   {
    "duration": 9,
    "start_time": "2022-05-28T10:03:53.260Z"
   },
   {
    "duration": 39,
    "start_time": "2022-05-28T10:03:53.272Z"
   },
   {
    "duration": 24,
    "start_time": "2022-05-28T10:03:53.312Z"
   },
   {
    "duration": 158,
    "start_time": "2022-05-28T10:03:53.338Z"
   },
   {
    "duration": 0,
    "start_time": "2022-05-28T10:03:53.499Z"
   },
   {
    "duration": 0,
    "start_time": "2022-05-28T10:03:53.500Z"
   },
   {
    "duration": 0,
    "start_time": "2022-05-28T10:03:53.502Z"
   },
   {
    "duration": 0,
    "start_time": "2022-05-28T10:03:53.504Z"
   },
   {
    "duration": 0,
    "start_time": "2022-05-28T10:03:53.505Z"
   },
   {
    "duration": 0,
    "start_time": "2022-05-28T10:03:53.507Z"
   },
   {
    "duration": 0,
    "start_time": "2022-05-28T10:03:53.508Z"
   },
   {
    "duration": 0,
    "start_time": "2022-05-28T10:03:53.509Z"
   },
   {
    "duration": 0,
    "start_time": "2022-05-28T10:03:53.510Z"
   },
   {
    "duration": 0,
    "start_time": "2022-05-28T10:03:53.512Z"
   },
   {
    "duration": 0,
    "start_time": "2022-05-28T10:03:53.513Z"
   },
   {
    "duration": 0,
    "start_time": "2022-05-28T10:03:53.515Z"
   },
   {
    "duration": 0,
    "start_time": "2022-05-28T10:03:53.516Z"
   },
   {
    "duration": 0,
    "start_time": "2022-05-28T10:03:53.517Z"
   },
   {
    "duration": 0,
    "start_time": "2022-05-28T10:03:53.519Z"
   },
   {
    "duration": 0,
    "start_time": "2022-05-28T10:03:53.520Z"
   },
   {
    "duration": 0,
    "start_time": "2022-05-28T10:03:53.560Z"
   },
   {
    "duration": 0,
    "start_time": "2022-05-28T10:03:53.562Z"
   },
   {
    "duration": 0,
    "start_time": "2022-05-28T10:03:53.564Z"
   },
   {
    "duration": 0,
    "start_time": "2022-05-28T10:03:53.565Z"
   },
   {
    "duration": 0,
    "start_time": "2022-05-28T10:03:53.567Z"
   },
   {
    "duration": 0,
    "start_time": "2022-05-28T10:03:53.570Z"
   },
   {
    "duration": 0,
    "start_time": "2022-05-28T10:03:53.571Z"
   },
   {
    "duration": 0,
    "start_time": "2022-05-28T10:03:53.573Z"
   },
   {
    "duration": 0,
    "start_time": "2022-05-28T10:03:53.575Z"
   },
   {
    "duration": 0,
    "start_time": "2022-05-28T10:03:53.577Z"
   },
   {
    "duration": 0,
    "start_time": "2022-05-28T10:03:53.581Z"
   },
   {
    "duration": 0,
    "start_time": "2022-05-28T10:03:53.583Z"
   },
   {
    "duration": 0,
    "start_time": "2022-05-28T10:03:53.584Z"
   },
   {
    "duration": 0,
    "start_time": "2022-05-28T10:03:53.586Z"
   },
   {
    "duration": 0,
    "start_time": "2022-05-28T10:03:53.586Z"
   },
   {
    "duration": 0,
    "start_time": "2022-05-28T10:03:53.588Z"
   },
   {
    "duration": 0,
    "start_time": "2022-05-28T10:03:53.589Z"
   },
   {
    "duration": 0,
    "start_time": "2022-05-28T10:03:53.589Z"
   },
   {
    "duration": 0,
    "start_time": "2022-05-28T10:03:53.591Z"
   },
   {
    "duration": 0,
    "start_time": "2022-05-28T10:03:53.592Z"
   },
   {
    "duration": 0,
    "start_time": "2022-05-28T10:03:53.593Z"
   },
   {
    "duration": 0,
    "start_time": "2022-05-28T10:03:53.594Z"
   },
   {
    "duration": 0,
    "start_time": "2022-05-28T10:03:53.595Z"
   },
   {
    "duration": 0,
    "start_time": "2022-05-28T10:03:53.596Z"
   },
   {
    "duration": 0,
    "start_time": "2022-05-28T10:03:53.597Z"
   },
   {
    "duration": 0,
    "start_time": "2022-05-28T10:03:53.598Z"
   },
   {
    "duration": 0,
    "start_time": "2022-05-28T10:03:53.599Z"
   },
   {
    "duration": 0,
    "start_time": "2022-05-28T10:03:53.659Z"
   },
   {
    "duration": 1,
    "start_time": "2022-05-28T10:03:53.660Z"
   },
   {
    "duration": 0,
    "start_time": "2022-05-28T10:03:53.662Z"
   },
   {
    "duration": 0,
    "start_time": "2022-05-28T10:03:53.663Z"
   },
   {
    "duration": 0,
    "start_time": "2022-05-28T10:03:53.664Z"
   },
   {
    "duration": 0,
    "start_time": "2022-05-28T10:03:53.665Z"
   },
   {
    "duration": 0,
    "start_time": "2022-05-28T10:03:53.666Z"
   },
   {
    "duration": 0,
    "start_time": "2022-05-28T10:03:53.667Z"
   },
   {
    "duration": 0,
    "start_time": "2022-05-28T10:03:53.668Z"
   },
   {
    "duration": 0,
    "start_time": "2022-05-28T10:03:53.678Z"
   },
   {
    "duration": 0,
    "start_time": "2022-05-28T10:03:53.680Z"
   },
   {
    "duration": 0,
    "start_time": "2022-05-28T10:03:53.681Z"
   },
   {
    "duration": 0,
    "start_time": "2022-05-28T10:03:53.682Z"
   },
   {
    "duration": 0,
    "start_time": "2022-05-28T10:03:53.684Z"
   },
   {
    "duration": 0,
    "start_time": "2022-05-28T10:03:53.685Z"
   },
   {
    "duration": 0,
    "start_time": "2022-05-28T10:03:53.686Z"
   },
   {
    "duration": 0,
    "start_time": "2022-05-28T10:03:53.687Z"
   },
   {
    "duration": 0,
    "start_time": "2022-05-28T10:03:53.688Z"
   },
   {
    "duration": 211,
    "start_time": "2022-05-28T10:04:11.271Z"
   },
   {
    "duration": 53,
    "start_time": "2022-05-28T10:04:19.946Z"
   },
   {
    "duration": 46,
    "start_time": "2022-05-28T10:04:20.792Z"
   },
   {
    "duration": 247,
    "start_time": "2022-05-28T10:04:21.553Z"
   },
   {
    "duration": 12,
    "start_time": "2022-05-28T10:04:27.285Z"
   },
   {
    "duration": 11,
    "start_time": "2022-05-28T10:04:29.030Z"
   },
   {
    "duration": 28,
    "start_time": "2022-05-28T10:04:40.482Z"
   },
   {
    "duration": 23,
    "start_time": "2022-05-28T10:04:41.037Z"
   },
   {
    "duration": 38,
    "start_time": "2022-05-28T10:04:41.550Z"
   },
   {
    "duration": 171,
    "start_time": "2022-05-28T10:04:41.954Z"
   },
   {
    "duration": 4,
    "start_time": "2022-05-28T10:08:02.551Z"
   },
   {
    "duration": 6,
    "start_time": "2022-05-28T10:08:02.970Z"
   },
   {
    "duration": 9,
    "start_time": "2022-05-28T10:08:03.439Z"
   },
   {
    "duration": 9,
    "start_time": "2022-05-28T10:10:23.323Z"
   },
   {
    "duration": 10,
    "start_time": "2022-05-28T10:10:23.640Z"
   },
   {
    "duration": 11,
    "start_time": "2022-05-28T10:10:23.957Z"
   },
   {
    "duration": 9,
    "start_time": "2022-05-28T10:10:24.098Z"
   },
   {
    "duration": 15,
    "start_time": "2022-05-28T10:10:24.564Z"
   },
   {
    "duration": 10,
    "start_time": "2022-05-28T10:10:25.038Z"
   },
   {
    "duration": 43,
    "start_time": "2022-05-28T10:10:25.204Z"
   },
   {
    "duration": 5,
    "start_time": "2022-05-28T10:10:25.383Z"
   },
   {
    "duration": 3,
    "start_time": "2022-05-28T10:10:25.538Z"
   },
   {
    "duration": 6,
    "start_time": "2022-05-28T10:10:25.713Z"
   },
   {
    "duration": 8,
    "start_time": "2022-05-28T10:10:25.870Z"
   },
   {
    "duration": 7,
    "start_time": "2022-05-28T10:10:26.034Z"
   },
   {
    "duration": 5,
    "start_time": "2022-05-28T10:10:26.202Z"
   },
   {
    "duration": 5,
    "start_time": "2022-05-28T10:10:26.368Z"
   },
   {
    "duration": 5,
    "start_time": "2022-05-28T10:10:26.548Z"
   },
   {
    "duration": 4,
    "start_time": "2022-05-28T10:10:26.705Z"
   },
   {
    "duration": 51,
    "start_time": "2022-05-28T10:10:27.357Z"
   },
   {
    "duration": 30,
    "start_time": "2022-05-28T10:10:27.530Z"
   },
   {
    "duration": 12,
    "start_time": "2022-05-28T10:10:27.701Z"
   },
   {
    "duration": 957,
    "start_time": "2022-05-28T10:10:27.851Z"
   },
   {
    "duration": 33,
    "start_time": "2022-05-28T10:10:28.810Z"
   },
   {
    "duration": 47,
    "start_time": "2022-05-28T10:10:28.845Z"
   },
   {
    "duration": 7,
    "start_time": "2022-05-28T10:10:28.894Z"
   },
   {
    "duration": 57,
    "start_time": "2022-05-28T10:10:28.902Z"
   },
   {
    "duration": 4,
    "start_time": "2022-05-28T10:10:28.961Z"
   },
   {
    "duration": 9,
    "start_time": "2022-05-28T10:10:28.967Z"
   },
   {
    "duration": 4,
    "start_time": "2022-05-28T10:10:29.068Z"
   },
   {
    "duration": 4,
    "start_time": "2022-05-28T10:10:29.219Z"
   },
   {
    "duration": 13,
    "start_time": "2022-05-28T10:10:29.389Z"
   },
   {
    "duration": 1356,
    "start_time": "2022-05-28T10:10:29.565Z"
   },
   {
    "duration": 19,
    "start_time": "2022-05-28T10:10:30.923Z"
   },
   {
    "duration": 20,
    "start_time": "2022-05-28T10:10:30.944Z"
   },
   {
    "duration": 13,
    "start_time": "2022-05-28T10:10:30.967Z"
   },
   {
    "duration": 12,
    "start_time": "2022-05-28T10:10:30.982Z"
   },
   {
    "duration": 8,
    "start_time": "2022-05-28T10:10:31.090Z"
   },
   {
    "duration": 9,
    "start_time": "2022-05-28T10:10:31.268Z"
   },
   {
    "duration": 77,
    "start_time": "2022-05-28T10:10:31.942Z"
   },
   {
    "duration": 66,
    "start_time": "2022-05-28T10:10:32.086Z"
   },
   {
    "duration": 3,
    "start_time": "2022-05-28T10:10:32.253Z"
   },
   {
    "duration": 17,
    "start_time": "2022-05-28T10:10:32.431Z"
   },
   {
    "duration": 9,
    "start_time": "2022-05-28T10:10:32.598Z"
   },
   {
    "duration": 2,
    "start_time": "2022-05-28T10:10:32.756Z"
   },
   {
    "duration": 3,
    "start_time": "2022-05-28T10:10:32.918Z"
   },
   {
    "duration": 20,
    "start_time": "2022-05-28T10:10:33.071Z"
   },
   {
    "duration": 6,
    "start_time": "2022-05-28T10:10:33.238Z"
   },
   {
    "duration": 5,
    "start_time": "2022-05-28T10:10:33.417Z"
   },
   {
    "duration": 5,
    "start_time": "2022-05-28T10:10:33.573Z"
   },
   {
    "duration": 5,
    "start_time": "2022-05-28T10:10:33.725Z"
   },
   {
    "duration": 101,
    "start_time": "2022-05-28T10:10:34.005Z"
   },
   {
    "duration": 30,
    "start_time": "2022-05-28T10:10:34.166Z"
   },
   {
    "duration": 9,
    "start_time": "2022-05-28T10:16:30.497Z"
   },
   {
    "duration": 9,
    "start_time": "2022-05-28T10:16:42.776Z"
   },
   {
    "duration": 9,
    "start_time": "2022-05-28T10:17:43.597Z"
   },
   {
    "duration": 12,
    "start_time": "2022-05-28T10:17:44.365Z"
   },
   {
    "duration": 8,
    "start_time": "2022-05-28T10:17:44.884Z"
   },
   {
    "duration": 7,
    "start_time": "2022-05-28T10:17:45.322Z"
   },
   {
    "duration": 168,
    "start_time": "2022-05-28T10:17:45.768Z"
   },
   {
    "duration": 20,
    "start_time": "2022-05-28T10:17:46.206Z"
   },
   {
    "duration": 10,
    "start_time": "2022-05-28T10:17:46.931Z"
   },
   {
    "duration": 52,
    "start_time": "2022-05-28T10:17:47.393Z"
   },
   {
    "duration": 14,
    "start_time": "2022-05-28T10:17:47.867Z"
   },
   {
    "duration": 16,
    "start_time": "2022-05-28T10:17:48.824Z"
   },
   {
    "duration": 17,
    "start_time": "2022-05-28T10:17:49.368Z"
   },
   {
    "duration": 11,
    "start_time": "2022-05-28T10:17:49.810Z"
   },
   {
    "duration": 11,
    "start_time": "2022-05-28T10:17:50.242Z"
   },
   {
    "duration": 11,
    "start_time": "2022-05-28T10:17:50.694Z"
   },
   {
    "duration": 16,
    "start_time": "2022-05-28T10:17:51.177Z"
   },
   {
    "duration": 17,
    "start_time": "2022-05-28T10:17:51.662Z"
   },
   {
    "duration": 16,
    "start_time": "2022-05-28T10:17:52.623Z"
   },
   {
    "duration": 102,
    "start_time": "2022-05-28T10:17:53.121Z"
   },
   {
    "duration": 9,
    "start_time": "2022-05-28T10:17:54.644Z"
   },
   {
    "duration": 7,
    "start_time": "2022-05-28T10:17:54.793Z"
   },
   {
    "duration": 36,
    "start_time": "2022-05-28T10:17:55.276Z"
   },
   {
    "duration": 34,
    "start_time": "2022-05-28T10:17:55.609Z"
   },
   {
    "duration": 204,
    "start_time": "2022-05-28T10:17:56.513Z"
   },
   {
    "duration": 34,
    "start_time": "2022-05-28T10:17:56.880Z"
   },
   {
    "duration": 57,
    "start_time": "2022-05-28T10:17:57.803Z"
   },
   {
    "duration": 162,
    "start_time": "2022-05-28T10:17:58.536Z"
   },
   {
    "duration": 21,
    "start_time": "2022-05-28T10:18:00.297Z"
   },
   {
    "duration": 16,
    "start_time": "2022-05-28T10:18:00.493Z"
   },
   {
    "duration": 56,
    "start_time": "2022-05-28T10:18:02.044Z"
   },
   {
    "duration": 46,
    "start_time": "2022-05-28T10:18:02.237Z"
   },
   {
    "duration": 53,
    "start_time": "2022-05-28T10:18:02.426Z"
   },
   {
    "duration": 190,
    "start_time": "2022-05-28T10:18:02.644Z"
   },
   {
    "duration": 5,
    "start_time": "2022-05-28T10:18:03.194Z"
   },
   {
    "duration": 5,
    "start_time": "2022-05-28T10:18:03.410Z"
   },
   {
    "duration": 16,
    "start_time": "2022-05-28T10:18:03.830Z"
   },
   {
    "duration": 11,
    "start_time": "2022-05-28T10:18:04.434Z"
   },
   {
    "duration": 14,
    "start_time": "2022-05-28T10:18:04.828Z"
   },
   {
    "duration": 12,
    "start_time": "2022-05-28T10:18:05.010Z"
   },
   {
    "duration": 22,
    "start_time": "2022-05-28T10:18:05.521Z"
   },
   {
    "duration": 13,
    "start_time": "2022-05-28T10:18:06.044Z"
   },
   {
    "duration": 51,
    "start_time": "2022-05-28T10:18:06.240Z"
   },
   {
    "duration": 6,
    "start_time": "2022-05-28T10:18:06.426Z"
   },
   {
    "duration": 4,
    "start_time": "2022-05-28T10:18:06.575Z"
   },
   {
    "duration": 6,
    "start_time": "2022-05-28T10:18:07.529Z"
   },
   {
    "duration": 9,
    "start_time": "2022-05-28T10:18:09.755Z"
   },
   {
    "duration": 9,
    "start_time": "2022-05-28T10:18:10.365Z"
   },
   {
    "duration": 7,
    "start_time": "2022-05-28T10:18:10.949Z"
   },
   {
    "duration": 6,
    "start_time": "2022-05-28T10:18:11.399Z"
   },
   {
    "duration": 6,
    "start_time": "2022-05-28T10:18:11.641Z"
   },
   {
    "duration": 7,
    "start_time": "2022-05-28T10:18:11.874Z"
   },
   {
    "duration": 58,
    "start_time": "2022-05-28T10:18:13.297Z"
   },
   {
    "duration": 8,
    "start_time": "2022-05-28T10:18:13.474Z"
   },
   {
    "duration": 10,
    "start_time": "2022-05-28T10:18:13.656Z"
   },
   {
    "duration": 1019,
    "start_time": "2022-05-28T10:18:14.364Z"
   },
   {
    "duration": 29,
    "start_time": "2022-05-28T10:18:15.385Z"
   },
   {
    "duration": 75,
    "start_time": "2022-05-28T10:18:15.416Z"
   },
   {
    "duration": 9,
    "start_time": "2022-05-28T10:18:15.494Z"
   },
   {
    "duration": 33,
    "start_time": "2022-05-28T10:18:15.506Z"
   },
   {
    "duration": 7,
    "start_time": "2022-05-28T10:18:16.265Z"
   },
   {
    "duration": 6,
    "start_time": "2022-05-28T10:18:16.914Z"
   },
   {
    "duration": 5,
    "start_time": "2022-05-28T10:18:17.397Z"
   },
   {
    "duration": 10,
    "start_time": "2022-05-28T10:18:17.781Z"
   },
   {
    "duration": 19,
    "start_time": "2022-05-28T10:18:18.280Z"
   },
   {
    "duration": 1590,
    "start_time": "2022-05-28T10:18:18.966Z"
   },
   {
    "duration": 20,
    "start_time": "2022-05-28T10:18:22.765Z"
   },
   {
    "duration": 25,
    "start_time": "2022-05-28T10:18:23.349Z"
   },
   {
    "duration": 20,
    "start_time": "2022-05-28T10:18:23.968Z"
   },
   {
    "duration": 10,
    "start_time": "2022-05-28T10:18:24.529Z"
   },
   {
    "duration": 10,
    "start_time": "2022-05-28T10:18:25.045Z"
   },
   {
    "duration": 9,
    "start_time": "2022-05-28T10:18:25.933Z"
   },
   {
    "duration": 62,
    "start_time": "2022-05-28T10:18:29.552Z"
   },
   {
    "duration": 99,
    "start_time": "2022-05-28T10:18:30.184Z"
   },
   {
    "duration": 5,
    "start_time": "2022-05-28T10:18:30.863Z"
   },
   {
    "duration": 29,
    "start_time": "2022-05-28T10:18:31.650Z"
   },
   {
    "duration": 561,
    "start_time": "2022-05-28T10:18:32.167Z"
   },
   {
    "duration": 3,
    "start_time": "2022-05-28T10:18:32.849Z"
   },
   {
    "duration": 5,
    "start_time": "2022-05-28T10:18:33.433Z"
   },
   {
    "duration": 52,
    "start_time": "2022-05-28T10:18:34.083Z"
   },
   {
    "duration": 6,
    "start_time": "2022-05-28T10:18:34.674Z"
   },
   {
    "duration": 7,
    "start_time": "2022-05-28T10:18:35.367Z"
   },
   {
    "duration": 7,
    "start_time": "2022-05-28T10:18:35.896Z"
   },
   {
    "duration": 7,
    "start_time": "2022-05-28T10:18:36.108Z"
   },
   {
    "duration": 483,
    "start_time": "2022-05-28T10:18:36.481Z"
   },
   {
    "duration": 0,
    "start_time": "2022-05-28T10:18:36.966Z"
   },
   {
    "duration": 2538,
    "start_time": "2022-05-29T04:11:18.584Z"
   },
   {
    "duration": 23,
    "start_time": "2022-05-29T04:11:21.124Z"
   },
   {
    "duration": 37,
    "start_time": "2022-05-29T04:11:21.148Z"
   },
   {
    "duration": 42,
    "start_time": "2022-05-29T04:11:21.187Z"
   },
   {
    "duration": 103,
    "start_time": "2022-05-29T04:11:21.230Z"
   },
   {
    "duration": 9,
    "start_time": "2022-05-29T04:11:21.335Z"
   },
   {
    "duration": 13,
    "start_time": "2022-05-29T04:11:21.346Z"
   },
   {
    "duration": 72,
    "start_time": "2022-05-29T04:11:21.360Z"
   },
   {
    "duration": 63,
    "start_time": "2022-05-29T04:11:21.433Z"
   },
   {
    "duration": 78,
    "start_time": "2022-05-29T04:11:21.498Z"
   },
   {
    "duration": 6,
    "start_time": "2022-05-29T04:11:21.578Z"
   },
   {
    "duration": 21,
    "start_time": "2022-05-29T04:11:21.587Z"
   },
   {
    "duration": 32,
    "start_time": "2022-05-29T04:11:21.610Z"
   },
   {
    "duration": 19,
    "start_time": "2022-05-29T04:11:21.644Z"
   },
   {
    "duration": 219,
    "start_time": "2022-05-29T04:11:21.665Z"
   },
   {
    "duration": 50,
    "start_time": "2022-05-29T04:11:21.886Z"
   },
   {
    "duration": 47,
    "start_time": "2022-05-29T04:11:21.938Z"
   },
   {
    "duration": 237,
    "start_time": "2022-05-29T04:11:21.987Z"
   },
   {
    "duration": 13,
    "start_time": "2022-05-29T04:11:22.226Z"
   },
   {
    "duration": 15,
    "start_time": "2022-05-29T04:11:22.241Z"
   },
   {
    "duration": 29,
    "start_time": "2022-05-29T04:11:22.258Z"
   },
   {
    "duration": 43,
    "start_time": "2022-05-29T04:11:22.289Z"
   },
   {
    "duration": 35,
    "start_time": "2022-05-29T04:11:22.333Z"
   },
   {
    "duration": 188,
    "start_time": "2022-05-29T04:11:22.369Z"
   },
   {
    "duration": 4,
    "start_time": "2022-05-29T04:11:22.559Z"
   },
   {
    "duration": 7,
    "start_time": "2022-05-29T04:11:22.565Z"
   },
   {
    "duration": 11,
    "start_time": "2022-05-29T04:11:22.574Z"
   },
   {
    "duration": 10,
    "start_time": "2022-05-29T04:11:22.588Z"
   },
   {
    "duration": 34,
    "start_time": "2022-05-29T04:11:22.599Z"
   },
   {
    "duration": 15,
    "start_time": "2022-05-29T04:11:22.634Z"
   },
   {
    "duration": 16,
    "start_time": "2022-05-29T04:11:22.651Z"
   },
   {
    "duration": 83,
    "start_time": "2022-05-29T04:11:22.668Z"
   },
   {
    "duration": 77,
    "start_time": "2022-05-29T04:11:22.753Z"
   },
   {
    "duration": 8,
    "start_time": "2022-05-29T04:11:22.831Z"
   },
   {
    "duration": 9,
    "start_time": "2022-05-29T04:11:22.841Z"
   },
   {
    "duration": 10,
    "start_time": "2022-05-29T04:11:22.851Z"
   },
   {
    "duration": 17,
    "start_time": "2022-05-29T04:11:22.862Z"
   },
   {
    "duration": 68,
    "start_time": "2022-05-29T04:11:22.881Z"
   },
   {
    "duration": 8,
    "start_time": "2022-05-29T04:11:22.950Z"
   },
   {
    "duration": 938,
    "start_time": "2022-05-29T04:11:22.960Z"
   },
   {
    "duration": 31,
    "start_time": "2022-05-29T04:11:23.900Z"
   },
   {
    "duration": 11,
    "start_time": "2022-05-29T04:11:23.933Z"
   },
   {
    "duration": 10,
    "start_time": "2022-05-29T04:11:23.945Z"
   },
   {
    "duration": 12,
    "start_time": "2022-05-29T04:11:23.957Z"
   },
   {
    "duration": 13,
    "start_time": "2022-05-29T04:11:23.971Z"
   },
   {
    "duration": 46,
    "start_time": "2022-05-29T04:11:23.986Z"
   },
   {
    "duration": 56,
    "start_time": "2022-05-29T04:11:24.034Z"
   },
   {
    "duration": 5,
    "start_time": "2022-05-29T04:11:24.092Z"
   },
   {
    "duration": 6,
    "start_time": "2022-05-29T04:11:24.098Z"
   },
   {
    "duration": 38,
    "start_time": "2022-05-29T04:11:24.105Z"
   },
   {
    "duration": 5,
    "start_time": "2022-05-29T04:11:24.145Z"
   },
   {
    "duration": 5,
    "start_time": "2022-05-29T04:11:24.152Z"
   },
   {
    "duration": 6,
    "start_time": "2022-05-29T04:11:24.159Z"
   },
   {
    "duration": 6,
    "start_time": "2022-05-29T04:11:24.166Z"
   },
   {
    "duration": 77,
    "start_time": "2022-05-29T04:11:24.173Z"
   },
   {
    "duration": 28,
    "start_time": "2022-05-29T04:11:24.251Z"
   },
   {
    "duration": 9,
    "start_time": "2022-05-29T04:11:24.281Z"
   },
   {
    "duration": 1180,
    "start_time": "2022-05-29T04:11:24.291Z"
   },
   {
    "duration": 35,
    "start_time": "2022-05-29T04:11:25.473Z"
   },
   {
    "duration": 47,
    "start_time": "2022-05-29T04:11:25.510Z"
   },
   {
    "duration": 8,
    "start_time": "2022-05-29T04:11:25.559Z"
   },
   {
    "duration": 67,
    "start_time": "2022-05-29T04:11:25.569Z"
   },
   {
    "duration": 7,
    "start_time": "2022-05-29T04:11:25.639Z"
   },
   {
    "duration": 7,
    "start_time": "2022-05-29T04:11:25.647Z"
   },
   {
    "duration": 6,
    "start_time": "2022-05-29T04:11:25.656Z"
   },
   {
    "duration": 8,
    "start_time": "2022-05-29T04:11:25.663Z"
   },
   {
    "duration": 16,
    "start_time": "2022-05-29T04:11:25.672Z"
   },
   {
    "duration": 1649,
    "start_time": "2022-05-29T04:11:25.689Z"
   },
   {
    "duration": 7,
    "start_time": "2022-05-29T04:11:27.339Z"
   },
   {
    "duration": 22,
    "start_time": "2022-05-29T04:11:27.348Z"
   },
   {
    "duration": 17,
    "start_time": "2022-05-29T04:11:27.372Z"
   },
   {
    "duration": 7,
    "start_time": "2022-05-29T04:11:27.391Z"
   },
   {
    "duration": 2275,
    "start_time": "2022-05-29T07:35:12.857Z"
   },
   {
    "duration": 25,
    "start_time": "2022-05-29T07:35:15.134Z"
   },
   {
    "duration": 48,
    "start_time": "2022-05-29T07:35:15.161Z"
   },
   {
    "duration": 15,
    "start_time": "2022-05-29T07:35:15.211Z"
   },
   {
    "duration": 117,
    "start_time": "2022-05-29T07:35:15.228Z"
   },
   {
    "duration": 9,
    "start_time": "2022-05-29T07:35:15.347Z"
   },
   {
    "duration": 13,
    "start_time": "2022-05-29T07:35:15.357Z"
   },
   {
    "duration": 82,
    "start_time": "2022-05-29T07:35:15.371Z"
   },
   {
    "duration": 74,
    "start_time": "2022-05-29T07:35:15.456Z"
   },
   {
    "duration": 70,
    "start_time": "2022-05-29T07:35:15.532Z"
   },
   {
    "duration": 6,
    "start_time": "2022-05-29T07:35:15.604Z"
   },
   {
    "duration": 6,
    "start_time": "2022-05-29T07:35:15.611Z"
   },
   {
    "duration": 27,
    "start_time": "2022-05-29T07:35:15.618Z"
   },
   {
    "duration": 52,
    "start_time": "2022-05-29T07:35:15.647Z"
   },
   {
    "duration": 243,
    "start_time": "2022-05-29T07:35:15.700Z"
   },
   {
    "duration": 55,
    "start_time": "2022-05-29T07:35:15.945Z"
   },
   {
    "duration": 45,
    "start_time": "2022-05-29T07:35:16.001Z"
   },
   {
    "duration": 252,
    "start_time": "2022-05-29T07:35:16.047Z"
   },
   {
    "duration": 13,
    "start_time": "2022-05-29T07:35:16.301Z"
   },
   {
    "duration": 20,
    "start_time": "2022-05-29T07:35:16.316Z"
   },
   {
    "duration": 55,
    "start_time": "2022-05-29T07:35:16.337Z"
   },
   {
    "duration": 21,
    "start_time": "2022-05-29T07:35:16.393Z"
   },
   {
    "duration": 33,
    "start_time": "2022-05-29T07:35:16.415Z"
   },
   {
    "duration": 197,
    "start_time": "2022-05-29T07:35:16.450Z"
   },
   {
    "duration": 5,
    "start_time": "2022-05-29T07:35:16.649Z"
   },
   {
    "duration": 24,
    "start_time": "2022-05-29T07:35:16.656Z"
   },
   {
    "duration": 22,
    "start_time": "2022-05-29T07:35:16.685Z"
   },
   {
    "duration": 15,
    "start_time": "2022-05-29T07:35:16.713Z"
   },
   {
    "duration": 16,
    "start_time": "2022-05-29T07:35:16.730Z"
   },
   {
    "duration": 15,
    "start_time": "2022-05-29T07:35:16.747Z"
   },
   {
    "duration": 31,
    "start_time": "2022-05-29T07:35:16.764Z"
   },
   {
    "duration": 67,
    "start_time": "2022-05-29T07:35:16.796Z"
   },
   {
    "duration": 99,
    "start_time": "2022-05-29T07:35:16.864Z"
   },
   {
    "duration": 28,
    "start_time": "2022-05-29T07:35:16.965Z"
   },
   {
    "duration": 16,
    "start_time": "2022-05-29T07:35:16.995Z"
   },
   {
    "duration": 15,
    "start_time": "2022-05-29T07:35:17.012Z"
   },
   {
    "duration": 39,
    "start_time": "2022-05-29T07:35:17.029Z"
   },
   {
    "duration": 12,
    "start_time": "2022-05-29T07:35:17.070Z"
   },
   {
    "duration": 881,
    "start_time": "2022-05-29T07:35:17.090Z"
   },
   {
    "duration": 26,
    "start_time": "2022-05-29T07:35:17.974Z"
   },
   {
    "duration": 9,
    "start_time": "2022-05-29T07:35:18.001Z"
   },
   {
    "duration": 9,
    "start_time": "2022-05-29T07:35:18.012Z"
   },
   {
    "duration": 6,
    "start_time": "2022-05-29T07:35:18.023Z"
   },
   {
    "duration": 11,
    "start_time": "2022-05-29T07:35:18.030Z"
   },
   {
    "duration": 38,
    "start_time": "2022-05-29T07:35:18.042Z"
   },
   {
    "duration": 83,
    "start_time": "2022-05-29T07:35:18.081Z"
   },
   {
    "duration": 15,
    "start_time": "2022-05-29T07:35:18.165Z"
   },
   {
    "duration": 11,
    "start_time": "2022-05-29T07:35:18.182Z"
   },
   {
    "duration": 13,
    "start_time": "2022-05-29T07:35:18.197Z"
   },
   {
    "duration": 6,
    "start_time": "2022-05-29T07:35:18.212Z"
   },
   {
    "duration": 6,
    "start_time": "2022-05-29T07:35:18.219Z"
   },
   {
    "duration": 13,
    "start_time": "2022-05-29T07:35:18.226Z"
   },
   {
    "duration": 6,
    "start_time": "2022-05-29T07:35:18.240Z"
   },
   {
    "duration": 75,
    "start_time": "2022-05-29T07:35:18.248Z"
   },
   {
    "duration": 27,
    "start_time": "2022-05-29T07:35:18.325Z"
   },
   {
    "duration": 30,
    "start_time": "2022-05-29T07:35:18.353Z"
   },
   {
    "duration": 984,
    "start_time": "2022-05-29T07:35:18.385Z"
   },
   {
    "duration": 40,
    "start_time": "2022-05-29T07:35:19.370Z"
   },
   {
    "duration": 35,
    "start_time": "2022-05-29T07:35:19.412Z"
   },
   {
    "duration": 10,
    "start_time": "2022-05-29T07:35:19.449Z"
   },
   {
    "duration": 58,
    "start_time": "2022-05-29T07:35:19.477Z"
   },
   {
    "duration": 5,
    "start_time": "2022-05-29T07:35:19.536Z"
   },
   {
    "duration": 28,
    "start_time": "2022-05-29T07:35:19.543Z"
   },
   {
    "duration": 22,
    "start_time": "2022-05-29T07:35:19.573Z"
   },
   {
    "duration": 28,
    "start_time": "2022-05-29T07:35:19.597Z"
   },
   {
    "duration": 21,
    "start_time": "2022-05-29T07:35:19.627Z"
   },
   {
    "duration": 1515,
    "start_time": "2022-05-29T07:35:19.650Z"
   },
   {
    "duration": 6,
    "start_time": "2022-05-29T07:35:21.167Z"
   },
   {
    "duration": 24,
    "start_time": "2022-05-29T07:35:21.178Z"
   },
   {
    "duration": 11,
    "start_time": "2022-05-29T07:35:21.203Z"
   },
   {
    "duration": 6,
    "start_time": "2022-05-29T07:35:21.215Z"
   },
   {
    "duration": 21,
    "start_time": "2022-05-29T07:38:10.305Z"
   },
   {
    "duration": 56,
    "start_time": "2022-05-29T07:38:27.298Z"
   },
   {
    "duration": 21,
    "start_time": "2022-05-29T07:38:35.992Z"
   },
   {
    "duration": 39,
    "start_time": "2022-05-29T07:38:59.801Z"
   },
   {
    "duration": 230,
    "start_time": "2022-05-29T07:42:03.635Z"
   },
   {
    "duration": 48,
    "start_time": "2022-05-29T07:43:34.404Z"
   },
   {
    "duration": 112,
    "start_time": "2022-05-29T08:41:10.798Z"
   },
   {
    "duration": 435,
    "start_time": "2022-05-29T08:41:33.599Z"
   },
   {
    "duration": 12,
    "start_time": "2022-05-29T08:59:12.574Z"
   },
   {
    "duration": 8,
    "start_time": "2022-05-29T08:59:23.300Z"
   },
   {
    "duration": 12,
    "start_time": "2022-05-29T08:59:51.722Z"
   },
   {
    "duration": 31,
    "start_time": "2022-05-29T09:39:57.705Z"
   },
   {
    "duration": 558,
    "start_time": "2022-05-29T09:40:17.849Z"
   },
   {
    "duration": 522,
    "start_time": "2022-05-29T09:40:22.068Z"
   },
   {
    "duration": 34,
    "start_time": "2022-05-29T09:41:05.111Z"
   },
   {
    "duration": 36,
    "start_time": "2022-05-29T09:43:14.801Z"
   },
   {
    "duration": 400,
    "start_time": "2022-05-29T09:45:53.410Z"
   },
   {
    "duration": 51,
    "start_time": "2022-05-29T10:04:15.306Z"
   }
  ],
  "kernelspec": {
   "display_name": "Python 3 (ipykernel)",
   "language": "python",
   "name": "python3"
  },
  "language_info": {
   "codemirror_mode": {
    "name": "ipython",
    "version": 3
   },
   "file_extension": ".py",
   "mimetype": "text/x-python",
   "name": "python",
   "nbconvert_exporter": "python",
   "pygments_lexer": "ipython3",
   "version": "3.9.12"
  },
  "toc": {
   "base_numbering": 1,
   "nav_menu": {},
   "number_sections": true,
   "sideBar": true,
   "skip_h1_title": true,
   "title_cell": "Table of Contents",
   "title_sidebar": "Contents",
   "toc_cell": false,
   "toc_position": {},
   "toc_section_display": true,
   "toc_window_display": true
  }
 },
 "nbformat": 4,
 "nbformat_minor": 5
}
