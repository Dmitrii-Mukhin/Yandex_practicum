{
 "cells": [
  {
   "cell_type": "markdown",
   "metadata": {
    "id": "E0vqbgi9ay0H"
   },
   "source": [
    "# Яндекс.Музыка"
   ]
  },
  {
   "cell_type": "markdown",
   "metadata": {
    "id": "VUC88oWjTJw2"
   },
   "source": [
    "\n",
    "\n",
    "**Цель исследования** — проверьте три гипотезы:\n",
    "1. Активность пользователей зависит от дня недели. Причём в Москве и Петербурге это проявляется по-разному.\n",
    "2. В понедельник утром в Москве преобладают одни жанры, а в Петербурге — другие. Так же и вечером пятницы преобладают разные жанры — в зависимости от города. \n",
    "3. Москва и Петербург предпочитают разные жанры музыки. В Москве чаще слушают поп-музыку, в Петербурге — русский рэп.\n",
    "\n",
    "**Ход исследования**\n",
    "\n",
    "Исследование пройдёт в три этапа:\n",
    " 1. Обзор данных.\n",
    " 2. Предобработка данных.\n",
    " 3. Проверка гипотез.\n",
    "\n"
   ]
  },
  {
   "cell_type": "markdown",
   "metadata": {
    "id": "Ml1hmfXC_Zcs"
   },
   "source": [
    "## Обзор данных\n",
    "\n",
    "Составим первое представление о данных Яндекс.Музыки.\n",
    "\n",
    "\n"
   ]
  },
  {
   "cell_type": "code",
   "execution_count": 4,
   "metadata": {
    "id": "AXN7PHPN_Zcs"
   },
   "outputs": [],
   "source": [
    "import pandas as pd"
   ]
  },
  {
   "cell_type": "code",
   "execution_count": 5,
   "metadata": {
    "id": "fFVu7vqh_Zct"
   },
   "outputs": [],
   "source": [
    "df = pd.read_csv('/datasets/yandex_music_project.csv')"
   ]
  },
  {
   "cell_type": "code",
   "execution_count": 6,
   "metadata": {
    "id": "oWTVX3gW_Zct"
   },
   "outputs": [
    {
     "data": {
      "text/html": [
       "<div>\n",
       "<style scoped>\n",
       "    .dataframe tbody tr th:only-of-type {\n",
       "        vertical-align: middle;\n",
       "    }\n",
       "\n",
       "    .dataframe tbody tr th {\n",
       "        vertical-align: top;\n",
       "    }\n",
       "\n",
       "    .dataframe thead th {\n",
       "        text-align: right;\n",
       "    }\n",
       "</style>\n",
       "<table border=\"1\" class=\"dataframe\">\n",
       "  <thead>\n",
       "    <tr style=\"text-align: right;\">\n",
       "      <th></th>\n",
       "      <th>userID</th>\n",
       "      <th>Track</th>\n",
       "      <th>artist</th>\n",
       "      <th>genre</th>\n",
       "      <th>City</th>\n",
       "      <th>time</th>\n",
       "      <th>Day</th>\n",
       "    </tr>\n",
       "  </thead>\n",
       "  <tbody>\n",
       "    <tr>\n",
       "      <td>0</td>\n",
       "      <td>FFB692EC</td>\n",
       "      <td>Kamigata To Boots</td>\n",
       "      <td>The Mass Missile</td>\n",
       "      <td>rock</td>\n",
       "      <td>Saint-Petersburg</td>\n",
       "      <td>20:28:33</td>\n",
       "      <td>Wednesday</td>\n",
       "    </tr>\n",
       "    <tr>\n",
       "      <td>1</td>\n",
       "      <td>55204538</td>\n",
       "      <td>Delayed Because of Accident</td>\n",
       "      <td>Andreas Rönnberg</td>\n",
       "      <td>rock</td>\n",
       "      <td>Moscow</td>\n",
       "      <td>14:07:09</td>\n",
       "      <td>Friday</td>\n",
       "    </tr>\n",
       "    <tr>\n",
       "      <td>2</td>\n",
       "      <td>20EC38</td>\n",
       "      <td>Funiculì funiculà</td>\n",
       "      <td>Mario Lanza</td>\n",
       "      <td>pop</td>\n",
       "      <td>Saint-Petersburg</td>\n",
       "      <td>20:58:07</td>\n",
       "      <td>Wednesday</td>\n",
       "    </tr>\n",
       "    <tr>\n",
       "      <td>3</td>\n",
       "      <td>A3DD03C9</td>\n",
       "      <td>Dragons in the Sunset</td>\n",
       "      <td>Fire + Ice</td>\n",
       "      <td>folk</td>\n",
       "      <td>Saint-Petersburg</td>\n",
       "      <td>08:37:09</td>\n",
       "      <td>Monday</td>\n",
       "    </tr>\n",
       "    <tr>\n",
       "      <td>4</td>\n",
       "      <td>E2DC1FAE</td>\n",
       "      <td>Soul People</td>\n",
       "      <td>Space Echo</td>\n",
       "      <td>dance</td>\n",
       "      <td>Moscow</td>\n",
       "      <td>08:34:34</td>\n",
       "      <td>Monday</td>\n",
       "    </tr>\n",
       "    <tr>\n",
       "      <td>5</td>\n",
       "      <td>842029A1</td>\n",
       "      <td>Преданная</td>\n",
       "      <td>IMPERVTOR</td>\n",
       "      <td>rusrap</td>\n",
       "      <td>Saint-Petersburg</td>\n",
       "      <td>13:09:41</td>\n",
       "      <td>Friday</td>\n",
       "    </tr>\n",
       "    <tr>\n",
       "      <td>6</td>\n",
       "      <td>4CB90AA5</td>\n",
       "      <td>True</td>\n",
       "      <td>Roman Messer</td>\n",
       "      <td>dance</td>\n",
       "      <td>Moscow</td>\n",
       "      <td>13:00:07</td>\n",
       "      <td>Wednesday</td>\n",
       "    </tr>\n",
       "    <tr>\n",
       "      <td>7</td>\n",
       "      <td>F03E1C1F</td>\n",
       "      <td>Feeling This Way</td>\n",
       "      <td>Polina Griffith</td>\n",
       "      <td>dance</td>\n",
       "      <td>Moscow</td>\n",
       "      <td>20:47:49</td>\n",
       "      <td>Wednesday</td>\n",
       "    </tr>\n",
       "    <tr>\n",
       "      <td>8</td>\n",
       "      <td>8FA1D3BE</td>\n",
       "      <td>И вновь продолжается бой</td>\n",
       "      <td>NaN</td>\n",
       "      <td>ruspop</td>\n",
       "      <td>Moscow</td>\n",
       "      <td>09:17:40</td>\n",
       "      <td>Friday</td>\n",
       "    </tr>\n",
       "    <tr>\n",
       "      <td>9</td>\n",
       "      <td>E772D5C0</td>\n",
       "      <td>Pessimist</td>\n",
       "      <td>NaN</td>\n",
       "      <td>dance</td>\n",
       "      <td>Saint-Petersburg</td>\n",
       "      <td>21:20:49</td>\n",
       "      <td>Wednesday</td>\n",
       "    </tr>\n",
       "  </tbody>\n",
       "</table>\n",
       "</div>"
      ],
      "text/plain": [
       "     userID                        Track            artist   genre  \\\n",
       "0  FFB692EC            Kamigata To Boots  The Mass Missile    rock   \n",
       "1  55204538  Delayed Because of Accident  Andreas Rönnberg    rock   \n",
       "2    20EC38            Funiculì funiculà       Mario Lanza     pop   \n",
       "3  A3DD03C9        Dragons in the Sunset        Fire + Ice    folk   \n",
       "4  E2DC1FAE                  Soul People        Space Echo   dance   \n",
       "5  842029A1                    Преданная         IMPERVTOR  rusrap   \n",
       "6  4CB90AA5                         True      Roman Messer   dance   \n",
       "7  F03E1C1F             Feeling This Way   Polina Griffith   dance   \n",
       "8  8FA1D3BE     И вновь продолжается бой               NaN  ruspop   \n",
       "9  E772D5C0                    Pessimist               NaN   dance   \n",
       "\n",
       "             City        time        Day  \n",
       "0  Saint-Petersburg  20:28:33  Wednesday  \n",
       "1            Moscow  14:07:09     Friday  \n",
       "2  Saint-Petersburg  20:58:07  Wednesday  \n",
       "3  Saint-Petersburg  08:37:09     Monday  \n",
       "4            Moscow  08:34:34     Monday  \n",
       "5  Saint-Petersburg  13:09:41     Friday  \n",
       "6            Moscow  13:00:07  Wednesday  \n",
       "7            Moscow  20:47:49  Wednesday  \n",
       "8            Moscow  09:17:40     Friday  \n",
       "9  Saint-Petersburg  21:20:49  Wednesday  "
      ]
     },
     "execution_count": 6,
     "metadata": {},
     "output_type": "execute_result"
    }
   ],
   "source": [
    "df.head(10)"
   ]
  },
  {
   "cell_type": "code",
   "execution_count": 7,
   "metadata": {
    "id": "DSf2kIb-_Zct"
   },
   "outputs": [
    {
     "name": "stdout",
     "output_type": "stream",
     "text": [
      "<class 'pandas.core.frame.DataFrame'>\n",
      "RangeIndex: 65079 entries, 0 to 65078\n",
      "Data columns (total 7 columns):\n",
      "  userID    65079 non-null object\n",
      "Track       63848 non-null object\n",
      "artist      57876 non-null object\n",
      "genre       63881 non-null object\n",
      "  City      65079 non-null object\n",
      "time        65079 non-null object\n",
      "Day         65079 non-null object\n",
      "dtypes: object(7)\n",
      "memory usage: 3.5+ MB\n"
     ]
    }
   ],
   "source": [
    "df.info()"
   ]
  },
  {
   "cell_type": "markdown",
   "metadata": {
    "id": "TaQ2Iwbr_Zct"
   },
   "source": [
    "\n",
    "\n",
    "В названиях колонок видны три нарушения стиля:\n",
    "1. Строчные буквы сочетаются с прописными.\n",
    "2. Встречаются пробелы.\n",
    "3. Найдите ещё одну проблему в названии колонок и опишите её в этом пункте.\n",
    "\n",
    "\n",
    "\n",
    "\n",
    "Количество значений в столбцах различается. Значит, в данных есть пропущенные значения.\n",
    "*Вывод:*\n",
    "Названия столбцов расположены не правильно\n",
    "Есть пропуски\n"
   ]
  },
  {
   "cell_type": "markdown",
   "metadata": {
    "id": "MCB6-dXG_Zct"
   },
   "source": [
    "**Выводы**\n",
    "\n",
    "В каждой строке таблицы — данные о прослушанном треке. Часть колонок описывает саму композицию: название, исполнителя и жанр. Остальные данные рассказывают о пользователе: из какого он города, когда он слушал музыку. \n",
    "\n",
    "Предварительно можно утверждать, что, данных достаточно для проверки гипотез. Но встречаются пропуски в данных, а в названиях колонок — расхождения с хорошим стилем.\n",
    "\n",
    "Чтобы двигаться дальше, нужно устранить проблемы в данных."
   ]
  },
  {
   "cell_type": "markdown",
   "metadata": {
    "id": "SjYF6Ub9_Zct"
   },
   "source": [
    "## Предобработка данных\n",
    "Исправьте стиль в заголовках столбцов, исключите пропуски. Затем проверьте данные на дубликаты."
   ]
  },
  {
   "cell_type": "markdown",
   "metadata": {
    "id": "dIaKXr29_Zct"
   },
   "source": [
    "### Стиль заголовков\n",
    "Выведите на экран названия столбцов:"
   ]
  },
  {
   "cell_type": "code",
   "execution_count": 8,
   "metadata": {
    "id": "oKOTdF_Q_Zct"
   },
   "outputs": [
    {
     "data": {
      "text/plain": [
       "Index(['  userID', 'Track', 'artist', 'genre', '  City  ', 'time', 'Day'], dtype='object')"
      ]
     },
     "execution_count": 8,
     "metadata": {},
     "output_type": "execute_result"
    }
   ],
   "source": [
    "df.columns\n"
   ]
  },
  {
   "cell_type": "code",
   "execution_count": 9,
   "metadata": {
    "id": "ISlFqs5y_Zct"
   },
   "outputs": [],
   "source": [
    "df = df.rename(columns = {'  userID' :'user_id' , 'Track':'track','  City  ':'city','Day' : 'day'})"
   ]
  },
  {
   "cell_type": "code",
   "execution_count": 10,
   "metadata": {
    "id": "d4NOAmTW_Zct"
   },
   "outputs": [
    {
     "data": {
      "text/plain": [
       "Index(['user_id', 'track', 'artist', 'genre', 'city', 'time', 'day'], dtype='object')"
      ]
     },
     "execution_count": 10,
     "metadata": {},
     "output_type": "execute_result"
    }
   ],
   "source": [
    "df.columns"
   ]
  },
  {
   "cell_type": "markdown",
   "metadata": {
    "id": "5ISfbcfY_Zct"
   },
   "source": [
    "### Пропуски значений\n",
    "Сначала посчитайте, сколько в таблице пропущенных значений. Для этого достаточно двух методов `pandas`:"
   ]
  },
  {
   "cell_type": "code",
   "execution_count": 11,
   "metadata": {
    "id": "RskX29qr_Zct"
   },
   "outputs": [
    {
     "data": {
      "text/plain": [
       "user_id       0\n",
       "track      1231\n",
       "artist     7203\n",
       "genre      1198\n",
       "city          0\n",
       "time          0\n",
       "day           0\n",
       "dtype: int64"
      ]
     },
     "execution_count": 11,
     "metadata": {},
     "output_type": "execute_result"
    }
   ],
   "source": [
    "df.isnull().sum()"
   ]
  },
  {
   "cell_type": "markdown",
   "metadata": {
    "id": "qubhgnlO_Zct"
   },
   "source": [
    "Не все пропущенные значения влияют на исследование. Так в `track` и `artist` пропуски не важны для вашей работы. Достаточно заменить их явными обозначениями.\n",
    "\n",
    "Но пропуски в `genre` могут помешать сравнению музыкальных вкусов в Москве и Санкт-Петербурге. На практике было бы правильно установить причину пропусков и восстановить данные. Такой возможности нет в учебном проекте. Придётся:\n",
    "* заполнить и эти пропуски явными обозначениями,\n",
    "* оценить, насколько они повредят расчётам. "
   ]
  },
  {
   "cell_type": "markdown",
   "metadata": {
    "id": "fSv2laPA_Zct"
   },
   "source": [
    "Заменим пропущенные значения в столбцах `track`, `artist` и `genre` на строку `'unknown'`. Для этого создадим список `columns_to_replace`, переберем его элементы циклом `for` и для каждого столбца выполним замену пропущенных значений:"
   ]
  },
  {
   "cell_type": "code",
   "execution_count": 12,
   "metadata": {
    "id": "KplB5qWs_Zct"
   },
   "outputs": [],
   "source": [
    "columns_to_replace = ['track', 'artist', 'genre']\n",
    " \n",
    "for column in columns_to_replace:\n",
    "    df[column] = df[column].fillna('unknown')\n",
    "    \n",
    "    "
   ]
  },
  {
   "cell_type": "code",
   "execution_count": 13,
   "metadata": {
    "id": "Tq4nYRX4_Zct"
   },
   "outputs": [
    {
     "data": {
      "text/plain": [
       "user_id    0\n",
       "track      0\n",
       "artist     0\n",
       "genre      0\n",
       "city       0\n",
       "time       0\n",
       "day        0\n",
       "dtype: int64"
      ]
     },
     "execution_count": 13,
     "metadata": {},
     "output_type": "execute_result"
    }
   ],
   "source": [
    "df.isnull().sum()"
   ]
  },
  {
   "cell_type": "markdown",
   "metadata": {
    "id": "BWKRtBJ3_Zct"
   },
   "source": [
    "### Дубликаты\n",
    "Посчитайте явные дубликаты в таблице одной командой:"
   ]
  },
  {
   "cell_type": "code",
   "execution_count": 14,
   "metadata": {
    "id": "36eES_S0_Zct"
   },
   "outputs": [
    {
     "data": {
      "text/plain": [
       "3826"
      ]
     },
     "execution_count": 14,
     "metadata": {},
     "output_type": "execute_result"
    }
   ],
   "source": [
    "df.duplicated().sum()"
   ]
  },
  {
   "cell_type": "code",
   "execution_count": 15,
   "metadata": {
    "id": "exFHq6tt_Zct"
   },
   "outputs": [],
   "source": [
    "df = df.drop_duplicates().reset_index(drop=True)"
   ]
  },
  {
   "cell_type": "code",
   "execution_count": 16,
   "metadata": {
    "id": "-8PuNWQ0_Zct"
   },
   "outputs": [
    {
     "data": {
      "text/plain": [
       "0"
      ]
     },
     "execution_count": 16,
     "metadata": {},
     "output_type": "execute_result"
    }
   ],
   "source": [
    "df.duplicated().sum()"
   ]
  },
  {
   "cell_type": "code",
   "execution_count": 17,
   "metadata": {
    "id": "JIUcqzZN_Zct"
   },
   "outputs": [
    {
     "data": {
      "text/plain": [
       "array(['rock', 'pop', 'folk', 'dance', 'rusrap', 'ruspop', 'world',\n",
       "       'electronic', 'unknown', 'alternative', 'children', 'rnb', 'hip',\n",
       "       'jazz', 'postrock', 'latin', 'classical', 'metal', 'reggae',\n",
       "       'tatar', 'blues', 'instrumental', 'rusrock', 'dnb', 'türk', 'post',\n",
       "       'country', 'psychedelic', 'conjazz', 'indie', 'posthardcore',\n",
       "       'local', 'avantgarde', 'punk', 'videogame', 'techno', 'house',\n",
       "       'christmas', 'melodic', 'caucasian', 'reggaeton', 'soundtrack',\n",
       "       'singer', 'ska', 'shanson', 'ambient', 'film', 'western', 'rap',\n",
       "       'beats', \"hard'n'heavy\", 'progmetal', 'minimal', 'contemporary',\n",
       "       'new', 'soul', 'holiday', 'german', 'tropical', 'fairytail',\n",
       "       'spiritual', 'urban', 'gospel', 'nujazz', 'folkmetal', 'trance',\n",
       "       'miscellaneous', 'anime', 'hardcore', 'progressive', 'chanson',\n",
       "       'numetal', 'vocal', 'estrada', 'russian', 'classicmetal',\n",
       "       'dubstep', 'club', 'deep', 'southern', 'black', 'folkrock',\n",
       "       'fitness', 'french', 'disco', 'religious', 'hiphop', 'drum',\n",
       "       'extrememetal', 'türkçe', 'experimental', 'easy', 'metalcore',\n",
       "       'modern', 'argentinetango', 'old', 'breaks', 'eurofolk',\n",
       "       'stonerrock', 'industrial', 'funk', 'jpop', 'middle', 'variété',\n",
       "       'other', 'adult', 'christian', 'gothic', 'international', 'muslim',\n",
       "       'relax', 'schlager', 'caribbean', 'ukrrock', 'nu', 'breakbeat',\n",
       "       'comedy', 'chill', 'newage', 'specialty', 'uzbek', 'k-pop',\n",
       "       'balkan', 'chinese', 'meditative', 'dub', 'power', 'death',\n",
       "       'grime', 'arabesk', 'romance', 'flamenco', 'leftfield', 'european',\n",
       "       'tech', 'newwave', 'dancehall', 'mpb', 'piano', 'top', 'bigroom',\n",
       "       'opera', 'celtic', 'tradjazz', 'acoustic', 'epicmetal', 'hip-hop',\n",
       "       'historisch', 'downbeat', 'downtempo', 'africa', 'audiobook',\n",
       "       'jewish', 'sängerportrait', 'deutschrock', 'eastern', 'action',\n",
       "       'future', 'electropop', 'folklore', 'bollywood', 'marschmusik',\n",
       "       'rnr', 'karaoke', 'indian', 'rancheras', 'электроника',\n",
       "       'afrikaans', 'tango', 'rhythm', 'sound', 'deutschspr', 'trip',\n",
       "       'lovers', 'choral', 'dancepop', 'podcasts', 'retro', 'smooth',\n",
       "       'mexican', 'brazilian', 'ïîï', 'mood', 'surf', 'author', 'gangsta',\n",
       "       'triphop', 'inspirational', 'idm', 'ethnic', 'bluegrass',\n",
       "       'broadway', 'animated', 'americana', 'karadeniz', 'rockabilly',\n",
       "       'colombian', 'self', 'hop', 'synthrock', 'sertanejo', 'japanese',\n",
       "       'canzone', 'swing', 'lounge', 'sport', 'korean', 'ragga',\n",
       "       'traditional', 'gitarre', 'frankreich', 'alternativepunk', 'emo',\n",
       "       'laiko', 'cantopop', 'glitch', 'documentary', 'rockalternative',\n",
       "       'thrash', 'hymn', 'oceania', 'rockother', 'popeurodance', 'dark',\n",
       "       'vi', 'grunge', 'hardstyle', 'samba', 'garage', 'soft', 'art',\n",
       "       'folktronica', 'entehno', 'mediterranean', 'chamber', 'cuban',\n",
       "       'taraftar', 'rockindie', 'gypsy', 'hardtechno', 'shoegazing',\n",
       "       'skarock', 'bossa', 'salsa', 'latino', 'worldbeat', 'malaysian',\n",
       "       'baile', 'ghazal', 'loungeelectronic', 'arabic', 'popelectronic',\n",
       "       'acid', 'kayokyoku', 'neoklassik', 'tribal', 'tanzorchester',\n",
       "       'native', 'independent', 'cantautori', 'handsup', 'poprussian',\n",
       "       'punjabi', 'synthpop', 'rave', 'französisch', 'quebecois',\n",
       "       'speech', 'soulful', 'teen', 'jam', 'ram', 'horror', 'scenic',\n",
       "       'orchestral', 'neue', 'roots', 'slow', 'jungle', 'indipop', 'axé',\n",
       "       'fado', 'showtunes', 'arena', 'irish', 'mandopop', 'forró',\n",
       "       'popdance', 'dirty', 'regional'], dtype=object)"
      ]
     },
     "execution_count": 17,
     "metadata": {},
     "output_type": "execute_result"
    }
   ],
   "source": [
    "df['genre'].unique()"
   ]
  },
  {
   "cell_type": "markdown",
   "metadata": {
    "id": "qej-Qmuo_Zct"
   },
   "source": [
    "Просмотрим список и найдем неявные дубликаты названия `hiphop`. Это могут быть названия с ошибками или альтернативные названия того же жанра.\n",
    "\n",
    "мы увидим следующие неявные дубликаты:\n",
    "* *hip*,\n",
    "* *hop*,\n",
    "* *hip-hop*.\n",
    "\n",
    "Чтобы очистить от них таблицу, напишим функцию `replace_wrong_genres()` с двумя параметрами: \n",
    "* `wrong_genres` — список дубликатов,\n",
    "* `correct_genre` — строка с правильным значением.\n",
    "\n",
    "Функция должна исправить колонку `genre` в таблице `df`: заменить каждое значение из списка `wrong_genres` на значение из `correct_genre`."
   ]
  },
  {
   "cell_type": "code",
   "execution_count": 18,
   "metadata": {
    "id": "ErNDkmns_Zct"
   },
   "outputs": [],
   "source": [
    "replace_wrong_genres = ('wrong_genres', 'correct_genre')\n",
    "for columns in (df, 'genre'):\n",
    "    df['genre'] = df['genre'].replace('wrong_genres', 'correct_genre')\n",
    "    \n",
    "    "
   ]
  },
  {
   "cell_type": "code",
   "execution_count": 19,
   "metadata": {
    "id": "YN5i2hpmSo09"
   },
   "outputs": [],
   "source": [
    "df['genre'] = df['genre'].replace('hop','hiphop')\n",
    "df['genre'] = df['genre'].replace('hip','hiphop')"
   ]
  },
  {
   "cell_type": "code",
   "execution_count": 21,
   "metadata": {
    "id": "wvixALnFG15m"
   },
   "outputs": [
    {
     "data": {
      "text/plain": [
       "array(['hip-hop', 'hiphop'], dtype=object)"
      ]
     },
     "metadata": {},
     "output_type": "display_data"
    }
   ],
   "source": [
    "display(df[df['genre'].isin(['hip'\n",
    "                             , 'hop'\n",
    "                             , 'hip-hop'\n",
    "                             , 'hiphop'])]['genre'].sort_values().unique())"
   ]
  },
  {
   "cell_type": "markdown",
   "metadata": {
    "id": "jz6a9-7HQUDd"
   },
   "source": [
    "**Выводы**\n",
    "\n",
    "Предобработка обнаружила три проблемы в данных:\n",
    "\n",
    "- нарушения в стиле заголовков,\n",
    "- пропущенные значения,\n",
    "- дубликаты — явные и неявные.\n",
    "\n",
    "мы исправили заголовки, чтобы упростить работу с таблицей. Без дубликатов исследование станет более точным.\n",
    "\n",
    "Пропущенные значения вы заменили на `'unknown'`. Ещё предстоит увидеть, не повредят ли исследованию пропуски в колонке `genre`.\n",
    "\n",
    "Теперь можно перейти к проверке гипотез. "
   ]
  },
  {
   "cell_type": "markdown",
   "metadata": {
    "id": "WttZHXH0SqKk"
   },
   "source": [
    "## Проверка гипотез"
   ]
  },
  {
   "cell_type": "markdown",
   "metadata": {
    "id": "Im936VVi_Zcu"
   },
   "source": [
    "### Сравнение поведения пользователей двух столиц"
   ]
  },
  {
   "cell_type": "markdown",
   "metadata": {
    "id": "nwt_MuaL_Zcu"
   },
   "source": [
    "Первая гипотеза утверждает, что пользователи по-разному слушают музыку в Москве и Санкт-Петербурге. Проверьте это предположение по данным о трёх днях недели — понедельнике, среде и пятнице. Для этого:\n",
    "\n",
    "* Разделим пользователей Москвы и Санкт-Петербурга\n",
    "* Сравним, сколько треков послушала каждая группа пользователей в понедельник, среду и пятницу.\n"
   ]
  },
  {
   "cell_type": "markdown",
   "metadata": {
    "id": "8Dw_YMmT_Zcu"
   },
   "source": [
    "\n",
    "\n",
    "Оценим активность пользователей в каждом городе. Сгруппируем данные по городу и посчитайте прослушивания в каждой группе.\n",
    "\n"
   ]
  },
  {
   "cell_type": "code",
   "execution_count": 18,
   "metadata": {
    "id": "0_Qs96oh_Zcu"
   },
   "outputs": [
    {
     "data": {
      "text/plain": [
       "city\n",
       "Moscow              42741\n",
       "Saint-Petersburg    18512\n",
       "Name: genre, dtype: int64"
      ]
     },
     "execution_count": 18,
     "metadata": {},
     "output_type": "execute_result"
    }
   ],
   "source": [
    "df.groupby('city')['genre'].count()"
   ]
  },
  {
   "cell_type": "markdown",
   "metadata": {
    "id": "dzli3w8o_Zcu"
   },
   "source": [
    "В Москве прослушиваний больше, чем в Петербурге. Из этого не следует, что московские пользователи чаще слушают музыку. Просто самих пользователей в Москве больше.\n",
    "\n",
    "Теперь сгруппируем данные по дню недели и подсчитаем прослушивания в понедельник, среду и пятницу. Учтите, что в данных есть информация только о прослушиваниях только за эти дни.\n"
   ]
  },
  {
   "cell_type": "code",
   "execution_count": 19,
   "metadata": {
    "id": "uZMKjiJz_Zcu"
   },
   "outputs": [
    {
     "data": {
      "text/plain": [
       "day\n",
       "Friday       21840\n",
       "Monday       21354\n",
       "Wednesday    18059\n",
       "Name: genre, dtype: int64"
      ]
     },
     "execution_count": 19,
     "metadata": {},
     "output_type": "execute_result"
    }
   ],
   "source": [
    "df.groupby('day')['genre'].count()"
   ]
  },
  {
   "cell_type": "markdown",
   "metadata": {
    "id": "cC2tNrlL_Zcu"
   },
   "source": [
    "В среднем пользователи из двух городов менее активны по средам. Но картина может измениться, если рассмотреть каждый город в отдельности."
   ]
  },
  {
   "cell_type": "code",
   "execution_count": 1,
   "metadata": {
    "id": "Nz3GdQB1_Zcu"
   },
   "outputs": [],
   "source": [
    "\n",
    "def number_tracks(day, city):\n",
    "    track_list = df.loc[(df.loc[:,'day']==day) & (df.loc[:,'city']==city)]\n",
    "    track_list_count = track_list.loc[track_list.loc[:,'user_id']!='unknown']['user_id'].count()\n",
    "    return track_list_count\n",
    "\n",
    "\n"
   ]
  },
  {
   "cell_type": "code",
   "execution_count": 21,
   "metadata": {
    "id": "rJcRATNQ_Zcu"
   },
   "outputs": [
    {
     "name": "stdout",
     "output_type": "stream",
     "text": [
      "15740\n"
     ]
    }
   ],
   "source": [
    "day = 'Monday'\n",
    "city = 'Moscow'\n",
    "print(number_tracks(day,city))"
   ]
  },
  {
   "cell_type": "code",
   "execution_count": 22,
   "metadata": {
    "id": "hq_ncZ5T_Zcu"
   },
   "outputs": [
    {
     "data": {
      "text/plain": [
       "5614"
      ]
     },
     "execution_count": 22,
     "metadata": {},
     "output_type": "execute_result"
    }
   ],
   "source": [
    "number_tracks('Monday','Saint-Petersburg')"
   ]
  },
  {
   "cell_type": "code",
   "execution_count": 23,
   "metadata": {
    "id": "_NTy2VPU_Zcu"
   },
   "outputs": [
    {
     "data": {
      "text/plain": [
       "11056"
      ]
     },
     "execution_count": 23,
     "metadata": {},
     "output_type": "execute_result"
    }
   ],
   "source": [
    "number_tracks('Wednesday','Moscow')"
   ]
  },
  {
   "cell_type": "code",
   "execution_count": 24,
   "metadata": {
    "id": "j2y3TAwo_Zcu"
   },
   "outputs": [
    {
     "data": {
      "text/plain": [
       "7003"
      ]
     },
     "execution_count": 24,
     "metadata": {},
     "output_type": "execute_result"
    }
   ],
   "source": [
    "number_tracks('Wednesday', 'Saint-Petersburg')"
   ]
  },
  {
   "cell_type": "code",
   "execution_count": 25,
   "metadata": {
    "id": "vYDw5u_K_Zcu"
   },
   "outputs": [
    {
     "data": {
      "text/plain": [
       "15945"
      ]
     },
     "execution_count": 25,
     "metadata": {},
     "output_type": "execute_result"
    }
   ],
   "source": [
    "number_tracks('Friday', 'Moscow')"
   ]
  },
  {
   "cell_type": "code",
   "execution_count": 26,
   "metadata": {
    "id": "8_yzFtW3_Zcu"
   },
   "outputs": [
    {
     "data": {
      "text/plain": [
       "5895"
      ]
     },
     "execution_count": 26,
     "metadata": {},
     "output_type": "execute_result"
    }
   ],
   "source": [
    "number_tracks('Friday', 'Saint-Petersburg')"
   ]
  },
  {
   "cell_type": "code",
   "execution_count": 27,
   "metadata": {
    "id": "APAcLpOr_Zcu"
   },
   "outputs": [],
   "source": [
    "columns = ['city', 'monday', 'wednesday', 'friday']\n",
    "data=[['Moscow', 15740, 11056, 15945],\n",
    "     ['Saint-Petersburg', 5614, 7003, 5895]]\n",
    "table = pd.DataFrame(data=data, columns=columns)\n"
   ]
  },
  {
   "cell_type": "markdown",
   "metadata": {
    "id": "-EgPIHYu_Zcu"
   },
   "source": [
    "**Выводы**\n",
    "\n",
    "Данные показывают разницу поведения пользователей:\n",
    "\n",
    "- В Москве пик прослушиваний приходится на понедельник и пятницу, а в среду заметен спад.\n",
    "- В Петербурге, наоборот, больше слушают музыку по средам. Активность в понедельник и пятницу здесь почти в равной мере уступает среде.\n",
    "\n",
    "Значит, данные говорят в пользу первой гипотезы."
   ]
  },
  {
   "cell_type": "markdown",
   "metadata": {
    "id": "atZAxtq4_Zcu"
   },
   "source": [
    "### Музыка в начале и в конце недели"
   ]
  },
  {
   "cell_type": "markdown",
   "metadata": {
    "id": "eXrQqXFH_Zcu"
   },
   "source": [
    "Согласно второй гипотезе, утром в понедельник в Москве преобладают одни жанры, а в Петербурге — другие. Так же и вечером пятницы преобладают разные жанры — в зависимости от города."
   ]
  },
  {
   "cell_type": "code",
   "execution_count": 28,
   "metadata": {
    "id": "qeaFfM_P_Zcu"
   },
   "outputs": [],
   "source": [
    "# получение таблицы moscow_general из тех строк таблицы df, \n",
    "# для которых значение в столбце 'city' равно 'Moscow'\n",
    "moscow_general = df.loc[df.loc[:,'city']=='Moscow']"
   ]
  },
  {
   "cell_type": "code",
   "execution_count": 29,
   "metadata": {
    "id": "ORaVRKto_Zcu"
   },
   "outputs": [],
   "source": [
    "# получение таблицы spb_general из тех строк таблицы df,\n",
    "# для которых значение в столбце 'city' равно 'Saint-Petersburg'\n",
    "spb_general = df.loc[df.loc[:,'city']== 'Saint-Petersburg']"
   ]
  },
  {
   "cell_type": "markdown",
   "metadata": {
    "id": "MEJV-CX2_Zcu"
   },
   "source": [
    "Создадим функцию genre_weekday() с четырьмя параметрами:\n",
    "* таблица (датафрейм) с данными,\n",
    "* день недели,\n",
    "* начальная временная метка в формате 'hh:mm', \n",
    "* последняя временная метка в формате 'hh:mm'.\n",
    "\n",
    "Функция должна вернуть информацию о топ-10 жанров тех треков, которые прослушивали в указанный день, в промежутке между двумя отметками времени."
   ]
  },
  {
   "cell_type": "code",
   "execution_count": 2,
   "metadata": {
    "id": "laJT9BYl_Zcu"
   },
   "outputs": [],
   "source": [
    "\n",
    "def genre_weekday(table, day, time1, time2):\n",
    "    genre_df = table[table['day'] == day]\n",
    "    genre_df =  genre_df[ genre_df['time'] > time1]\n",
    "    genre_df = genre_df[genre_df['time'] < time2]\n",
    "    genre_df_count = genre_df.groupby('genre')['track'].count()\n",
    "    genre_df_sorted = genre_df_count.sort_values(ascending=False)\n",
    "    return pd.DataFrame(genre_df_sorted.head(10))\n",
    "                     "
   ]
  },
  {
   "cell_type": "markdown",
   "metadata": {
    "id": "la2s2_PF_Zcu"
   },
   "source": [
    "Cравните результаты функции `genre_weekday()` для Москвы и Санкт-Петербурга в понедельник утром (с 7:00 до 11:00) и в пятницу вечером (с 17:00 до 23:00):"
   ]
  },
  {
   "cell_type": "code",
   "execution_count": 31,
   "metadata": {
    "id": "yz7itPUQ_Zcu"
   },
   "outputs": [
    {
     "data": {
      "text/html": [
       "<div>\n",
       "<style scoped>\n",
       "    .dataframe tbody tr th:only-of-type {\n",
       "        vertical-align: middle;\n",
       "    }\n",
       "\n",
       "    .dataframe tbody tr th {\n",
       "        vertical-align: top;\n",
       "    }\n",
       "\n",
       "    .dataframe thead th {\n",
       "        text-align: right;\n",
       "    }\n",
       "</style>\n",
       "<table border=\"1\" class=\"dataframe\">\n",
       "  <thead>\n",
       "    <tr style=\"text-align: right;\">\n",
       "      <th></th>\n",
       "      <th>track</th>\n",
       "    </tr>\n",
       "    <tr>\n",
       "      <th>genre</th>\n",
       "      <th></th>\n",
       "    </tr>\n",
       "  </thead>\n",
       "  <tbody>\n",
       "    <tr>\n",
       "      <td>pop</td>\n",
       "      <td>781</td>\n",
       "    </tr>\n",
       "    <tr>\n",
       "      <td>dance</td>\n",
       "      <td>549</td>\n",
       "    </tr>\n",
       "    <tr>\n",
       "      <td>electronic</td>\n",
       "      <td>480</td>\n",
       "    </tr>\n",
       "    <tr>\n",
       "      <td>rock</td>\n",
       "      <td>474</td>\n",
       "    </tr>\n",
       "    <tr>\n",
       "      <td>hiphop</td>\n",
       "      <td>286</td>\n",
       "    </tr>\n",
       "    <tr>\n",
       "      <td>ruspop</td>\n",
       "      <td>186</td>\n",
       "    </tr>\n",
       "    <tr>\n",
       "      <td>world</td>\n",
       "      <td>181</td>\n",
       "    </tr>\n",
       "    <tr>\n",
       "      <td>rusrap</td>\n",
       "      <td>175</td>\n",
       "    </tr>\n",
       "    <tr>\n",
       "      <td>alternative</td>\n",
       "      <td>164</td>\n",
       "    </tr>\n",
       "    <tr>\n",
       "      <td>unknown</td>\n",
       "      <td>161</td>\n",
       "    </tr>\n",
       "  </tbody>\n",
       "</table>\n",
       "</div>"
      ],
      "text/plain": [
       "             track\n",
       "genre             \n",
       "pop            781\n",
       "dance          549\n",
       "electronic     480\n",
       "rock           474\n",
       "hiphop         286\n",
       "ruspop         186\n",
       "world          181\n",
       "rusrap         175\n",
       "alternative    164\n",
       "unknown        161"
      ]
     },
     "execution_count": 31,
     "metadata": {},
     "output_type": "execute_result"
    }
   ],
   "source": [
    "genre_weekday(moscow_general, 'Monday', '07:00:00', '11:00:00')"
   ]
  },
  {
   "cell_type": "code",
   "execution_count": 32,
   "metadata": {
    "id": "kwUcHPdy_Zcu"
   },
   "outputs": [
    {
     "data": {
      "text/html": [
       "<div>\n",
       "<style scoped>\n",
       "    .dataframe tbody tr th:only-of-type {\n",
       "        vertical-align: middle;\n",
       "    }\n",
       "\n",
       "    .dataframe tbody tr th {\n",
       "        vertical-align: top;\n",
       "    }\n",
       "\n",
       "    .dataframe thead th {\n",
       "        text-align: right;\n",
       "    }\n",
       "</style>\n",
       "<table border=\"1\" class=\"dataframe\">\n",
       "  <thead>\n",
       "    <tr style=\"text-align: right;\">\n",
       "      <th></th>\n",
       "      <th>track</th>\n",
       "    </tr>\n",
       "    <tr>\n",
       "      <th>genre</th>\n",
       "      <th></th>\n",
       "    </tr>\n",
       "  </thead>\n",
       "  <tbody>\n",
       "    <tr>\n",
       "      <td>pop</td>\n",
       "      <td>218</td>\n",
       "    </tr>\n",
       "    <tr>\n",
       "      <td>dance</td>\n",
       "      <td>182</td>\n",
       "    </tr>\n",
       "    <tr>\n",
       "      <td>rock</td>\n",
       "      <td>162</td>\n",
       "    </tr>\n",
       "    <tr>\n",
       "      <td>electronic</td>\n",
       "      <td>147</td>\n",
       "    </tr>\n",
       "    <tr>\n",
       "      <td>hiphop</td>\n",
       "      <td>80</td>\n",
       "    </tr>\n",
       "    <tr>\n",
       "      <td>ruspop</td>\n",
       "      <td>64</td>\n",
       "    </tr>\n",
       "    <tr>\n",
       "      <td>alternative</td>\n",
       "      <td>58</td>\n",
       "    </tr>\n",
       "    <tr>\n",
       "      <td>rusrap</td>\n",
       "      <td>55</td>\n",
       "    </tr>\n",
       "    <tr>\n",
       "      <td>jazz</td>\n",
       "      <td>44</td>\n",
       "    </tr>\n",
       "    <tr>\n",
       "      <td>classical</td>\n",
       "      <td>40</td>\n",
       "    </tr>\n",
       "  </tbody>\n",
       "</table>\n",
       "</div>"
      ],
      "text/plain": [
       "             track\n",
       "genre             \n",
       "pop            218\n",
       "dance          182\n",
       "rock           162\n",
       "electronic     147\n",
       "hiphop          80\n",
       "ruspop          64\n",
       "alternative     58\n",
       "rusrap          55\n",
       "jazz            44\n",
       "classical       40"
      ]
     },
     "execution_count": 32,
     "metadata": {},
     "output_type": "execute_result"
    }
   ],
   "source": [
    "genre_weekday(spb_general, 'Monday', '07:00:00', '11:00:00')\n"
   ]
  },
  {
   "cell_type": "code",
   "execution_count": 33,
   "metadata": {
    "id": "EzXVRE1o_Zcu"
   },
   "outputs": [
    {
     "data": {
      "text/html": [
       "<div>\n",
       "<style scoped>\n",
       "    .dataframe tbody tr th:only-of-type {\n",
       "        vertical-align: middle;\n",
       "    }\n",
       "\n",
       "    .dataframe tbody tr th {\n",
       "        vertical-align: top;\n",
       "    }\n",
       "\n",
       "    .dataframe thead th {\n",
       "        text-align: right;\n",
       "    }\n",
       "</style>\n",
       "<table border=\"1\" class=\"dataframe\">\n",
       "  <thead>\n",
       "    <tr style=\"text-align: right;\">\n",
       "      <th></th>\n",
       "      <th>track</th>\n",
       "    </tr>\n",
       "    <tr>\n",
       "      <th>genre</th>\n",
       "      <th></th>\n",
       "    </tr>\n",
       "  </thead>\n",
       "  <tbody>\n",
       "    <tr>\n",
       "      <td>pop</td>\n",
       "      <td>713</td>\n",
       "    </tr>\n",
       "    <tr>\n",
       "      <td>rock</td>\n",
       "      <td>517</td>\n",
       "    </tr>\n",
       "    <tr>\n",
       "      <td>dance</td>\n",
       "      <td>495</td>\n",
       "    </tr>\n",
       "    <tr>\n",
       "      <td>electronic</td>\n",
       "      <td>482</td>\n",
       "    </tr>\n",
       "    <tr>\n",
       "      <td>hiphop</td>\n",
       "      <td>273</td>\n",
       "    </tr>\n",
       "    <tr>\n",
       "      <td>world</td>\n",
       "      <td>208</td>\n",
       "    </tr>\n",
       "    <tr>\n",
       "      <td>ruspop</td>\n",
       "      <td>170</td>\n",
       "    </tr>\n",
       "    <tr>\n",
       "      <td>alternative</td>\n",
       "      <td>163</td>\n",
       "    </tr>\n",
       "    <tr>\n",
       "      <td>classical</td>\n",
       "      <td>163</td>\n",
       "    </tr>\n",
       "    <tr>\n",
       "      <td>rusrap</td>\n",
       "      <td>142</td>\n",
       "    </tr>\n",
       "  </tbody>\n",
       "</table>\n",
       "</div>"
      ],
      "text/plain": [
       "             track\n",
       "genre             \n",
       "pop            713\n",
       "rock           517\n",
       "dance          495\n",
       "electronic     482\n",
       "hiphop         273\n",
       "world          208\n",
       "ruspop         170\n",
       "alternative    163\n",
       "classical      163\n",
       "rusrap         142"
      ]
     },
     "execution_count": 33,
     "metadata": {},
     "output_type": "execute_result"
    }
   ],
   "source": [
    "genre_weekday(moscow_general, 'Friday', '17:00:00', '23:00:00')"
   ]
  },
  {
   "cell_type": "code",
   "execution_count": 34,
   "metadata": {
    "id": "JZaEKu5v_Zcu"
   },
   "outputs": [
    {
     "data": {
      "text/html": [
       "<div>\n",
       "<style scoped>\n",
       "    .dataframe tbody tr th:only-of-type {\n",
       "        vertical-align: middle;\n",
       "    }\n",
       "\n",
       "    .dataframe tbody tr th {\n",
       "        vertical-align: top;\n",
       "    }\n",
       "\n",
       "    .dataframe thead th {\n",
       "        text-align: right;\n",
       "    }\n",
       "</style>\n",
       "<table border=\"1\" class=\"dataframe\">\n",
       "  <thead>\n",
       "    <tr style=\"text-align: right;\">\n",
       "      <th></th>\n",
       "      <th>track</th>\n",
       "    </tr>\n",
       "    <tr>\n",
       "      <th>genre</th>\n",
       "      <th></th>\n",
       "    </tr>\n",
       "  </thead>\n",
       "  <tbody>\n",
       "    <tr>\n",
       "      <td>pop</td>\n",
       "      <td>256</td>\n",
       "    </tr>\n",
       "    <tr>\n",
       "      <td>rock</td>\n",
       "      <td>216</td>\n",
       "    </tr>\n",
       "    <tr>\n",
       "      <td>electronic</td>\n",
       "      <td>216</td>\n",
       "    </tr>\n",
       "    <tr>\n",
       "      <td>dance</td>\n",
       "      <td>210</td>\n",
       "    </tr>\n",
       "    <tr>\n",
       "      <td>hiphop</td>\n",
       "      <td>97</td>\n",
       "    </tr>\n",
       "    <tr>\n",
       "      <td>alternative</td>\n",
       "      <td>63</td>\n",
       "    </tr>\n",
       "    <tr>\n",
       "      <td>jazz</td>\n",
       "      <td>61</td>\n",
       "    </tr>\n",
       "    <tr>\n",
       "      <td>classical</td>\n",
       "      <td>60</td>\n",
       "    </tr>\n",
       "    <tr>\n",
       "      <td>rusrap</td>\n",
       "      <td>59</td>\n",
       "    </tr>\n",
       "    <tr>\n",
       "      <td>world</td>\n",
       "      <td>54</td>\n",
       "    </tr>\n",
       "  </tbody>\n",
       "</table>\n",
       "</div>"
      ],
      "text/plain": [
       "             track\n",
       "genre             \n",
       "pop            256\n",
       "rock           216\n",
       "electronic     216\n",
       "dance          210\n",
       "hiphop          97\n",
       "alternative     63\n",
       "jazz            61\n",
       "classical       60\n",
       "rusrap          59\n",
       "world           54"
      ]
     },
     "execution_count": 34,
     "metadata": {},
     "output_type": "execute_result"
    }
   ],
   "source": [
    "genre_weekday(spb_general, 'Friday', '17:00:00', '23:00:00')"
   ]
  },
  {
   "cell_type": "markdown",
   "metadata": {
    "id": "wrCe4MNX_Zcu"
   },
   "source": [
    "**Выводы**\n",
    "\n",
    "Если сравнить топ-10 жанров в понедельник утром, можно сделать такие выводы:\n",
    "\n",
    "1. В Москве и Петербурге слушают похожую музыку. Единственное отличие — в московский рейтинг вошёл жанр “world”, а в петербургский — джаз и классика.\n",
    "\n",
    "2. В Москве пропущенных значений оказалось так много, что значение `'unknown'` заняло десятое место среди самых популярных жанров. Значит, пропущенные значения занимают существенную долю в данных и угрожают достоверности исследования.\n",
    "\n",
    "Вечер пятницы не меняет эту картину. Некоторые жанры поднимаются немного выше, другие спускаются, но в целом топ-10 остаётся тем же самым.\n",
    "\n",
    "Таким образом, вторая гипотеза подтвердилась лишь частично:\n",
    "* Пользователи слушают похожую музыку в начале недели и в конце.\n",
    "* Разница между Москвой и Петербургом не слишком выражена. В Москве чаще слушают русскую популярную музыку, в Петербурге — джаз.\n",
    "\n",
    "Однако пропуски в данных ставят под сомнение этот результат. В Москве их так много, что рейтинг топ-10 мог бы выглядеть иначе, если бы не утерянные  данные о жанрах."
   ]
  },
  {
   "cell_type": "markdown",
   "metadata": {
    "id": "JolODAqr_Zcu"
   },
   "source": [
    "### Жанровые предпочтения в Москве и Петербурге\n",
    "\n",
    "Гипотеза: Петербург — столица рэпа, музыку этого жанра там слушают чаще, чем в Москве.  А Москва — город контрастов, в котором, тем не менее, преобладает поп-музыка."
   ]
  },
  {
   "cell_type": "code",
   "execution_count": 35,
   "metadata": {
    "id": "r19lIPke_Zcu"
   },
   "outputs": [],
   "source": [
    "# одной строкой: группировка таблицы moscow_general по столбцу 'genre', \n",
    "# подсчёт числа значений 'genre' в этой группировке методом count(), \n",
    "# сортировка получившегося Series в порядке убывания и сохранение в moscow_genres\n",
    "moscow_genres = moscow_general.groupby('genre')['genre'].count().sort_values(ascending = False)"
   ]
  },
  {
   "cell_type": "code",
   "execution_count": 36,
   "metadata": {
    "id": "WhCSooF8_Zcv"
   },
   "outputs": [
    {
     "data": {
      "text/plain": [
       "genre\n",
       "pop            5892\n",
       "dance          4435\n",
       "rock           3965\n",
       "electronic     3786\n",
       "hiphop         2095\n",
       "classical      1616\n",
       "world          1432\n",
       "alternative    1379\n",
       "ruspop         1372\n",
       "rusrap         1161\n",
       "Name: genre, dtype: int64"
      ]
     },
     "execution_count": 36,
     "metadata": {},
     "output_type": "execute_result"
    }
   ],
   "source": [
    "moscow_genres.head(10)"
   ]
  },
  {
   "cell_type": "code",
   "execution_count": 37,
   "metadata": {
    "id": "gluLIpE7_Zcv"
   },
   "outputs": [],
   "source": [
    "# одной строкой: группировка таблицы spb_general по столбцу 'genre', \n",
    "# подсчёт числа значений 'genre' в этой группировке методом count(), \n",
    "# сортировка получившегося Series в порядке убывания и сохранение в spb_genres\n",
    "spb_genres = spb_general.groupby('genre')['genre'].count().sort_values(ascending = False)"
   ]
  },
  {
   "cell_type": "code",
   "execution_count": 38,
   "metadata": {
    "id": "uaGJHjVU_Zcv"
   },
   "outputs": [
    {
     "data": {
      "text/plain": [
       "genre\n",
       "pop            2431\n",
       "dance          1932\n",
       "rock           1879\n",
       "electronic     1736\n",
       "hiphop          960\n",
       "alternative     649\n",
       "classical       646\n",
       "rusrap          564\n",
       "ruspop          538\n",
       "world           515\n",
       "Name: genre, dtype: int64"
      ]
     },
     "execution_count": 38,
     "metadata": {},
     "output_type": "execute_result"
    }
   ],
   "source": [
    "spb_genres.head(10)"
   ]
  },
  {
   "cell_type": "markdown",
   "metadata": {
    "id": "RY51YJYu_Zcv"
   },
   "source": [
    "**Выводы**"
   ]
  },
  {
   "cell_type": "markdown",
   "metadata": {
    "id": "nVhnJEm__Zcv"
   },
   "source": [
    "Гипотеза частично подтвердилась:\n",
    "* Поп-музыка — самый популярный жанр в Москве, как и предполагала гипотеза. Более того, в топ-10 жанров встречается близкий жанр — русская популярная музыка.\n",
    "* Вопреки ожиданиям, рэп одинаково популярен в Москве и Петербурге. \n"
   ]
  },
  {
   "cell_type": "markdown",
   "metadata": {
    "id": "ykKQ0N65_Zcv"
   },
   "source": [
    "## Итоги исследования"
   ]
  },
  {
   "cell_type": "markdown",
   "metadata": {
    "id": "tjUwbHb3_Zcv"
   },
   "source": [
    "Вы проверили три гипотезы и установили:\n",
    "\n",
    "1. День недели по-разному влияет на активность пользователей в Москве и Петербурге. \n",
    "\n",
    "Первая гипотеза полностью подтвердилась.\n",
    "\n",
    "2. Музыкальные предпочтения не сильно меняются в течение недели — будь то Москва или Петербург. Небольшие различия заметны в начале недели, по понедельникам:\n",
    "* в Москве слушают музыку жанра “world”,\n",
    "* в Петербурге — джаз и классику.\n",
    "\n",
    "Таким образом, вторая гипотеза подтвердилась лишь отчасти. Этот результат мог оказаться иным, если бы не пропуски в данных.\n",
    "\n",
    "3. Во вкусах пользователей Москвы и Петербурга больше общего чем различий. Вопреки ожиданиям, предпочтения жанров в Петербурге напоминают московские.\n",
    "\n",
    "Третья гипотеза не подтвердилась. Если различия в предпочтениях и существуют, на основной массе пользователей они незаметны.\n",
    "\n",
    "**На практике исследования содержат проверки статистических гипотез.**\n",
    "Из данных одного сервиса не всегда можно сделать вывод о всех жителях города.\n",
    "Проверки статистических гипотез покажут, насколько они достоверны, исходя из имеющихся данных. \n",
    "С методами проверок гипотез вы ещё познакомитесь в следующих темах."
   ]
  },
  {
   "cell_type": "code",
   "execution_count": null,
   "metadata": {},
   "outputs": [],
   "source": []
  },
  {
   "cell_type": "code",
   "execution_count": null,
   "metadata": {},
   "outputs": [],
   "source": []
  }
 ],
 "metadata": {
  "ExecuteTimeLog": [
   {
    "duration": 305,
    "start_time": "2021-11-08T07:44:17.463Z"
   },
   {
    "duration": 260,
    "start_time": "2021-11-08T07:44:34.033Z"
   },
   {
    "duration": 273,
    "start_time": "2021-11-08T07:44:45.982Z"
   },
   {
    "duration": 256,
    "start_time": "2021-11-08T07:46:54.333Z"
   },
   {
    "duration": 280,
    "start_time": "2021-11-08T07:48:19.943Z"
   },
   {
    "duration": 297,
    "start_time": "2021-11-08T07:48:32.625Z"
   },
   {
    "duration": 254,
    "start_time": "2021-11-08T07:50:05.642Z"
   },
   {
    "duration": 137,
    "start_time": "2021-11-08T07:52:08.082Z"
   },
   {
    "duration": 260,
    "start_time": "2021-11-08T07:52:18.632Z"
   },
   {
    "duration": 589,
    "start_time": "2021-11-08T07:52:45.982Z"
   },
   {
    "duration": 140,
    "start_time": "2021-11-08T07:52:50.242Z"
   },
   {
    "duration": 17,
    "start_time": "2021-11-08T07:52:55.123Z"
   },
   {
    "duration": 9,
    "start_time": "2021-11-08T07:53:19.794Z"
   },
   {
    "duration": 255,
    "start_time": "2021-11-08T15:32:57.778Z"
   },
   {
    "duration": 231,
    "start_time": "2021-11-08T15:33:10.159Z"
   },
   {
    "duration": 245,
    "start_time": "2021-11-08T15:33:20.750Z"
   },
   {
    "duration": 265,
    "start_time": "2021-11-08T15:33:28.745Z"
   },
   {
    "duration": 230,
    "start_time": "2021-11-08T15:33:52.212Z"
   },
   {
    "duration": 233,
    "start_time": "2021-11-08T15:34:02.858Z"
   },
   {
    "duration": 222,
    "start_time": "2021-11-08T15:34:24.984Z"
   },
   {
    "duration": 232,
    "start_time": "2021-11-08T15:34:29.463Z"
   },
   {
    "duration": 255,
    "start_time": "2021-11-08T15:34:31.571Z"
   },
   {
    "duration": 234,
    "start_time": "2021-11-08T15:34:39.176Z"
   },
   {
    "duration": 295,
    "start_time": "2021-11-08T15:35:03.827Z"
   },
   {
    "duration": 227,
    "start_time": "2021-11-08T15:35:12.826Z"
   },
   {
    "duration": 593,
    "start_time": "2021-11-08T15:35:18.265Z"
   },
   {
    "duration": 138,
    "start_time": "2021-11-08T15:35:21.161Z"
   },
   {
    "duration": 16,
    "start_time": "2021-11-08T15:35:24.913Z"
   },
   {
    "duration": 8,
    "start_time": "2021-11-08T15:35:28.859Z"
   },
   {
    "duration": 4,
    "start_time": "2021-11-08T15:35:33.643Z"
   },
   {
    "duration": 137,
    "start_time": "2021-11-08T15:36:27.317Z"
   },
   {
    "duration": 136,
    "start_time": "2021-11-08T15:37:30.038Z"
   },
   {
    "duration": 323,
    "start_time": "2021-11-08T15:39:40.149Z"
   },
   {
    "duration": 356,
    "start_time": "2021-11-08T15:40:01.713Z"
   },
   {
    "duration": 25,
    "start_time": "2021-11-08T16:23:20.126Z"
   },
   {
    "duration": 4,
    "start_time": "2021-11-08T16:23:41.093Z"
   },
   {
    "duration": 29,
    "start_time": "2021-11-08T16:25:26.210Z"
   },
   {
    "duration": 26,
    "start_time": "2021-11-08T16:26:02.621Z"
   },
   {
    "duration": 23,
    "start_time": "2021-11-08T16:26:21.694Z"
   },
   {
    "duration": 258,
    "start_time": "2021-11-08T16:43:29.067Z"
   },
   {
    "duration": 1212,
    "start_time": "2021-11-08T16:44:37.172Z"
   },
   {
    "duration": 241,
    "start_time": "2021-11-08T16:44:40.525Z"
   },
   {
    "duration": 262,
    "start_time": "2021-11-08T16:45:02.269Z"
   },
   {
    "duration": 259,
    "start_time": "2021-11-08T16:45:08.356Z"
   },
   {
    "duration": 23,
    "start_time": "2021-11-08T16:45:16.347Z"
   },
   {
    "duration": 4,
    "start_time": "2021-11-08T16:45:19.525Z"
   },
   {
    "duration": 3,
    "start_time": "2021-11-08T16:48:20.960Z"
   },
   {
    "duration": 248,
    "start_time": "2021-11-08T16:48:38.658Z"
   },
   {
    "duration": 86,
    "start_time": "2021-11-08T16:51:38.403Z"
   },
   {
    "duration": 5723,
    "start_time": "2021-11-08T16:51:48.714Z"
   },
   {
    "duration": 78,
    "start_time": "2021-11-08T16:53:21.314Z"
   },
   {
    "duration": 25,
    "start_time": "2021-11-08T16:53:58.093Z"
   },
   {
    "duration": 23,
    "start_time": "2021-11-08T16:56:49.533Z"
   },
   {
    "duration": 16,
    "start_time": "2021-11-08T16:57:07.260Z"
   },
   {
    "duration": 18,
    "start_time": "2021-11-08T16:57:20.491Z"
   },
   {
    "duration": 45,
    "start_time": "2021-11-08T16:57:26.217Z"
   },
   {
    "duration": 19,
    "start_time": "2021-11-08T16:57:30.962Z"
   },
   {
    "duration": 12,
    "start_time": "2021-11-08T16:57:38.475Z"
   },
   {
    "duration": 36,
    "start_time": "2021-11-08T16:57:46.416Z"
   },
   {
    "duration": 66,
    "start_time": "2021-11-08T17:22:44.922Z"
   },
   {
    "duration": 67,
    "start_time": "2021-11-08T17:23:11.691Z"
   },
   {
    "duration": 65,
    "start_time": "2021-11-08T17:23:17.202Z"
   },
   {
    "duration": 7990,
    "start_time": "2021-11-08T17:27:05.815Z"
   },
   {
    "duration": 6351,
    "start_time": "2021-11-08T17:29:05.051Z"
   },
   {
    "duration": 7,
    "start_time": "2021-11-08T17:29:30.083Z"
   },
   {
    "duration": 421,
    "start_time": "2021-11-08T19:29:34.399Z"
   },
   {
    "duration": 369,
    "start_time": "2021-11-08T19:30:08.456Z"
   },
   {
    "duration": 404,
    "start_time": "2021-11-08T19:30:14.156Z"
   },
   {
    "duration": 459,
    "start_time": "2021-11-08T19:30:25.220Z"
   },
   {
    "duration": 653,
    "start_time": "2021-11-08T19:30:31.306Z"
   },
   {
    "duration": 370,
    "start_time": "2021-11-08T19:30:37.041Z"
   },
   {
    "duration": 385,
    "start_time": "2021-11-08T19:30:38.777Z"
   },
   {
    "duration": 1059,
    "start_time": "2021-11-08T19:32:09.509Z"
   },
   {
    "duration": 261,
    "start_time": "2021-11-08T19:32:13.774Z"
   },
   {
    "duration": 25,
    "start_time": "2021-11-08T19:32:14.949Z"
   },
   {
    "duration": 11,
    "start_time": "2021-11-08T19:32:17.073Z"
   },
   {
    "duration": 6,
    "start_time": "2021-11-08T19:32:17.907Z"
   },
   {
    "duration": 31,
    "start_time": "2021-11-08T19:32:18.394Z"
   },
   {
    "duration": 5,
    "start_time": "2021-11-08T19:32:18.716Z"
   },
   {
    "duration": 31,
    "start_time": "2021-11-08T19:32:19.029Z"
   },
   {
    "duration": 10459,
    "start_time": "2021-11-08T19:32:19.630Z"
   },
   {
    "duration": -88,
    "start_time": "2021-11-08T19:32:30.181Z"
   },
   {
    "duration": -95,
    "start_time": "2021-11-08T19:32:30.190Z"
   },
   {
    "duration": 32,
    "start_time": "2021-11-08T19:32:32.973Z"
   },
   {
    "duration": -112,
    "start_time": "2021-11-08T19:37:24.860Z"
   },
   {
    "duration": -116,
    "start_time": "2021-11-08T19:37:24.866Z"
   },
   {
    "duration": -119,
    "start_time": "2021-11-08T19:37:24.870Z"
   },
   {
    "duration": 29,
    "start_time": "2021-11-08T19:37:26.790Z"
   },
   {
    "duration": 34,
    "start_time": "2021-11-08T19:37:35.216Z"
   },
   {
    "duration": 32,
    "start_time": "2021-11-08T19:37:37.905Z"
   },
   {
    "duration": 25,
    "start_time": "2021-11-08T19:37:42.344Z"
   },
   {
    "duration": 23,
    "start_time": "2021-11-08T19:37:47.296Z"
   },
   {
    "duration": 58,
    "start_time": "2021-11-08T19:37:50.067Z"
   },
   {
    "duration": 151,
    "start_time": "2021-11-08T19:37:57.046Z"
   },
   {
    "duration": 14,
    "start_time": "2021-11-08T19:38:00.511Z"
   },
   {
    "duration": 387,
    "start_time": "2021-11-08T19:38:04.596Z"
   },
   {
    "duration": 440,
    "start_time": "2021-11-08T19:40:14.155Z"
   },
   {
    "duration": 424,
    "start_time": "2021-11-08T19:40:21.660Z"
   },
   {
    "duration": 421,
    "start_time": "2021-11-08T19:46:13.448Z"
   },
   {
    "duration": 381,
    "start_time": "2021-11-08T19:46:41.553Z"
   },
   {
    "duration": 101,
    "start_time": "2021-11-09T07:33:36.625Z"
   },
   {
    "duration": 344,
    "start_time": "2021-11-09T07:33:45.064Z"
   },
   {
    "duration": 294,
    "start_time": "2021-11-09T07:34:14.864Z"
   },
   {
    "duration": 88,
    "start_time": "2021-11-09T07:37:38.864Z"
   },
   {
    "duration": 275,
    "start_time": "2021-11-09T07:37:50.063Z"
   },
   {
    "duration": 731,
    "start_time": "2021-11-09T07:37:58.024Z"
   },
   {
    "duration": 180,
    "start_time": "2021-11-09T07:37:58.758Z"
   },
   {
    "duration": 25,
    "start_time": "2021-11-09T07:37:58.941Z"
   },
   {
    "duration": 12,
    "start_time": "2021-11-09T07:37:58.983Z"
   },
   {
    "duration": 5,
    "start_time": "2021-11-09T07:38:00.947Z"
   },
   {
    "duration": 33,
    "start_time": "2021-11-09T07:38:00.955Z"
   },
   {
    "duration": 16,
    "start_time": "2021-11-09T07:38:00.991Z"
   },
   {
    "duration": 30,
    "start_time": "2021-11-09T07:38:01.032Z"
   },
   {
    "duration": 23,
    "start_time": "2021-11-09T07:38:01.514Z"
   },
   {
    "duration": 31,
    "start_time": "2021-11-09T07:38:01.863Z"
   },
   {
    "duration": 83,
    "start_time": "2021-11-09T07:38:02.224Z"
   },
   {
    "duration": 105,
    "start_time": "2021-11-09T07:38:02.552Z"
   },
   {
    "duration": 79,
    "start_time": "2021-11-09T07:38:02.904Z"
   },
   {
    "duration": 9,
    "start_time": "2021-11-09T07:38:03.393Z"
   },
   {
    "duration": 6716,
    "start_time": "2021-11-09T07:38:03.911Z"
   },
   {
    "duration": 11,
    "start_time": "2021-11-09T07:38:14.504Z"
   },
   {
    "duration": 11,
    "start_time": "2021-11-09T07:38:16.355Z"
   },
   {
    "duration": 6,
    "start_time": "2021-11-09T07:38:21.711Z"
   },
   {
    "duration": 15,
    "start_time": "2021-11-09T07:38:26.023Z"
   },
   {
    "duration": 5,
    "start_time": "2021-11-09T07:38:28.063Z"
   },
   {
    "duration": 30,
    "start_time": "2021-11-09T07:38:28.464Z"
   },
   {
    "duration": 23,
    "start_time": "2021-11-09T07:38:29.655Z"
   },
   {
    "duration": 28,
    "start_time": "2021-11-09T07:38:30.704Z"
   },
   {
    "duration": 76,
    "start_time": "2021-11-09T07:38:32.351Z"
   },
   {
    "duration": 91,
    "start_time": "2021-11-09T07:38:33.583Z"
   },
   {
    "duration": 77,
    "start_time": "2021-11-09T07:38:34.343Z"
   },
   {
    "duration": 12,
    "start_time": "2021-11-09T07:38:35.663Z"
   },
   {
    "duration": -184,
    "start_time": "2021-11-09T07:38:45.716Z"
   },
   {
    "duration": -114,
    "start_time": "2021-11-09T07:38:58.627Z"
   },
   {
    "duration": 6823,
    "start_time": "2021-11-09T07:40:06.424Z"
   },
   {
    "duration": 7063,
    "start_time": "2021-11-09T07:40:17.631Z"
   },
   {
    "duration": 7505,
    "start_time": "2021-11-09T07:40:47.903Z"
   },
   {
    "duration": 95,
    "start_time": "2021-11-09T07:40:56.663Z"
   },
   {
    "duration": 633,
    "start_time": "2021-11-09T07:41:06.264Z"
   },
   {
    "duration": 123,
    "start_time": "2021-11-09T07:41:16.783Z"
   },
   {
    "duration": 110,
    "start_time": "2021-11-09T07:41:27.583Z"
   },
   {
    "duration": 7907,
    "start_time": "2021-11-09T07:41:40.553Z"
   },
   {
    "duration": 5,
    "start_time": "2021-11-09T07:42:43.223Z"
   },
   {
    "duration": 4,
    "start_time": "2021-11-09T07:42:49.463Z"
   },
   {
    "duration": 5,
    "start_time": "2021-11-09T07:43:27.543Z"
   },
   {
    "duration": 93,
    "start_time": "2021-11-09T07:44:05.103Z"
   },
   {
    "duration": 92,
    "start_time": "2021-11-09T07:44:14.463Z"
   },
   {
    "duration": 94,
    "start_time": "2021-11-09T07:44:20.823Z"
   },
   {
    "duration": 4,
    "start_time": "2021-11-09T07:44:31.584Z"
   },
   {
    "duration": 267,
    "start_time": "2021-11-09T07:45:10.311Z"
   },
   {
    "duration": 285,
    "start_time": "2021-11-09T07:46:01.183Z"
   },
   {
    "duration": 293,
    "start_time": "2021-11-09T07:46:27.543Z"
   },
   {
    "duration": 5,
    "start_time": "2021-11-09T07:46:53.591Z"
   },
   {
    "duration": 5,
    "start_time": "2021-11-09T07:47:56.943Z"
   },
   {
    "duration": 104,
    "start_time": "2021-11-09T07:48:52.753Z"
   },
   {
    "duration": 97,
    "start_time": "2021-11-09T07:49:04.823Z"
   },
   {
    "duration": 102,
    "start_time": "2021-11-09T07:49:24.238Z"
   },
   {
    "duration": 299,
    "start_time": "2021-11-09T07:49:34.911Z"
   },
   {
    "duration": 265,
    "start_time": "2021-11-09T07:49:44.520Z"
   },
   {
    "duration": 288,
    "start_time": "2021-11-09T07:49:58.232Z"
   },
   {
    "duration": 8346,
    "start_time": "2021-11-09T07:50:05.784Z"
   },
   {
    "duration": 284,
    "start_time": "2021-11-09T07:50:38.463Z"
   },
   {
    "duration": 289,
    "start_time": "2021-11-09T07:51:08.864Z"
   },
   {
    "duration": 11,
    "start_time": "2021-11-09T07:51:43.183Z"
   },
   {
    "duration": 717,
    "start_time": "2021-11-09T07:57:35.352Z"
   },
   {
    "duration": 9039,
    "start_time": "2021-11-09T07:57:58.743Z"
   },
   {
    "duration": 412,
    "start_time": "2021-11-09T07:58:31.184Z"
   },
   {
    "duration": 269,
    "start_time": "2021-11-09T07:59:14.712Z"
   },
   {
    "duration": 10,
    "start_time": "2021-11-09T07:59:56.311Z"
   },
   {
    "duration": 15,
    "start_time": "2021-11-09T08:01:15.344Z"
   },
   {
    "duration": 14,
    "start_time": "2021-11-09T08:01:20.744Z"
   },
   {
    "duration": 14,
    "start_time": "2021-11-09T08:01:28.743Z"
   },
   {
    "duration": 15,
    "start_time": "2021-11-09T08:01:31.425Z"
   },
   {
    "duration": 10,
    "start_time": "2021-11-09T08:02:06.144Z"
   },
   {
    "duration": 12,
    "start_time": "2021-11-09T08:02:11.582Z"
   },
   {
    "duration": 11,
    "start_time": "2021-11-09T08:02:18.981Z"
   },
   {
    "duration": 15,
    "start_time": "2021-11-09T08:05:32.663Z"
   },
   {
    "duration": 267,
    "start_time": "2021-11-09T08:06:46.796Z"
   },
   {
    "duration": 262,
    "start_time": "2021-11-09T08:06:53.021Z"
   },
   {
    "duration": 277,
    "start_time": "2021-11-09T08:07:30.262Z"
   },
   {
    "duration": 273,
    "start_time": "2021-11-09T08:08:59.061Z"
   },
   {
    "duration": 2003,
    "start_time": "2021-11-09T08:11:32.623Z"
   },
   {
    "duration": 13,
    "start_time": "2021-11-09T08:12:24.062Z"
   },
   {
    "duration": 3,
    "start_time": "2021-11-09T08:17:21.700Z"
   },
   {
    "duration": 5,
    "start_time": "2021-11-09T08:20:34.803Z"
   },
   {
    "duration": 406,
    "start_time": "2021-11-09T08:54:15.540Z"
   },
   {
    "duration": 275,
    "start_time": "2021-11-09T08:54:17.630Z"
   },
   {
    "duration": 267,
    "start_time": "2021-11-09T08:54:19.262Z"
   },
   {
    "duration": 270,
    "start_time": "2021-11-09T08:54:21.742Z"
   },
   {
    "duration": 367,
    "start_time": "2021-11-09T08:54:23.796Z"
   },
   {
    "duration": 300,
    "start_time": "2021-11-09T08:54:27.711Z"
   },
   {
    "duration": 341,
    "start_time": "2021-11-09T08:54:33.182Z"
   },
   {
    "duration": 5,
    "start_time": "2021-11-09T08:54:39.302Z"
   },
   {
    "duration": 337,
    "start_time": "2021-11-09T08:55:18.390Z"
   },
   {
    "duration": -110,
    "start_time": "2021-11-09T08:56:10.034Z"
   },
   {
    "duration": 7064,
    "start_time": "2021-11-09T08:56:24.828Z"
   },
   {
    "duration": 7197,
    "start_time": "2021-11-09T08:57:09.543Z"
   },
   {
    "duration": -145,
    "start_time": "2021-11-09T08:57:16.887Z"
   },
   {
    "duration": 90,
    "start_time": "2021-11-09T08:57:28.478Z"
   },
   {
    "duration": 272,
    "start_time": "2021-11-09T08:57:34.024Z"
   },
   {
    "duration": 7483,
    "start_time": "2021-11-09T08:57:38.422Z"
   },
   {
    "duration": -144,
    "start_time": "2021-11-09T08:58:42.812Z"
   },
   {
    "duration": -148,
    "start_time": "2021-11-09T08:58:42.817Z"
   },
   {
    "duration": -150,
    "start_time": "2021-11-09T08:58:42.821Z"
   },
   {
    "duration": 7460,
    "start_time": "2021-11-09T08:59:27.262Z"
   },
   {
    "duration": 8151,
    "start_time": "2021-11-09T08:59:50.952Z"
   },
   {
    "duration": 5,
    "start_time": "2021-11-09T09:00:23.030Z"
   },
   {
    "duration": 410,
    "start_time": "2021-11-10T15:26:32.210Z"
   },
   {
    "duration": 350,
    "start_time": "2021-11-10T15:26:38.412Z"
   },
   {
    "duration": 812,
    "start_time": "2021-11-10T15:26:40.798Z"
   },
   {
    "duration": 168,
    "start_time": "2021-11-10T15:26:41.613Z"
   },
   {
    "duration": 25,
    "start_time": "2021-11-10T15:26:41.784Z"
   },
   {
    "duration": 14,
    "start_time": "2021-11-10T15:26:41.811Z"
   },
   {
    "duration": 6,
    "start_time": "2021-11-10T15:26:42.578Z"
   },
   {
    "duration": 24,
    "start_time": "2021-11-10T15:26:43.065Z"
   },
   {
    "duration": 4,
    "start_time": "2021-11-10T15:26:43.386Z"
   },
   {
    "duration": 28,
    "start_time": "2021-11-10T15:26:43.703Z"
   },
   {
    "duration": 21,
    "start_time": "2021-11-10T15:26:44.198Z"
   },
   {
    "duration": 28,
    "start_time": "2021-11-10T15:26:44.521Z"
   },
   {
    "duration": 80,
    "start_time": "2021-11-10T15:26:44.857Z"
   },
   {
    "duration": 96,
    "start_time": "2021-11-10T15:26:45.184Z"
   },
   {
    "duration": 5,
    "start_time": "2021-11-10T15:26:48.677Z"
   },
   {
    "duration": 5,
    "start_time": "2021-11-10T15:26:50.826Z"
   },
   {
    "duration": 5,
    "start_time": "2021-11-10T15:26:53.303Z"
   },
   {
    "duration": 14,
    "start_time": "2021-11-10T15:26:58.962Z"
   },
   {
    "duration": 5,
    "start_time": "2021-11-10T15:27:03.618Z"
   },
   {
    "duration": 19,
    "start_time": "2021-11-10T15:27:04.862Z"
   },
   {
    "duration": 5,
    "start_time": "2021-11-10T15:27:05.227Z"
   },
   {
    "duration": 29,
    "start_time": "2021-11-10T15:27:05.563Z"
   },
   {
    "duration": 22,
    "start_time": "2021-11-10T15:27:06.403Z"
   },
   {
    "duration": 30,
    "start_time": "2021-11-10T15:27:06.734Z"
   },
   {
    "duration": 76,
    "start_time": "2021-11-10T15:27:07.095Z"
   },
   {
    "duration": 86,
    "start_time": "2021-11-10T15:27:07.455Z"
   },
   {
    "duration": 77,
    "start_time": "2021-11-10T15:27:07.824Z"
   },
   {
    "duration": 9,
    "start_time": "2021-11-10T15:27:08.353Z"
   },
   {
    "duration": 11,
    "start_time": "2021-11-10T15:27:08.712Z"
   },
   {
    "duration": 11,
    "start_time": "2021-11-10T15:27:09.073Z"
   },
   {
    "duration": 10,
    "start_time": "2021-11-10T15:27:09.546Z"
   },
   {
    "duration": 15,
    "start_time": "2021-11-10T15:27:10.646Z"
   },
   {
    "duration": 15,
    "start_time": "2021-11-10T15:27:11.087Z"
   },
   {
    "duration": 5,
    "start_time": "2021-11-10T15:27:12.974Z"
   },
   {
    "duration": 9708,
    "start_time": "2021-11-10T15:27:13.483Z"
   },
   {
    "duration": -129,
    "start_time": "2021-11-10T15:27:23.323Z"
   },
   {
    "duration": -134,
    "start_time": "2021-11-10T15:27:23.330Z"
   },
   {
    "duration": -138,
    "start_time": "2021-11-10T15:27:23.335Z"
   },
   {
    "duration": -141,
    "start_time": "2021-11-10T15:27:23.340Z"
   },
   {
    "duration": -146,
    "start_time": "2021-11-10T15:27:23.346Z"
   },
   {
    "duration": -149,
    "start_time": "2021-11-10T15:27:23.350Z"
   },
   {
    "duration": 3,
    "start_time": "2021-11-10T15:27:31.759Z"
   },
   {
    "duration": 170,
    "start_time": "2021-11-10T15:27:32.295Z"
   },
   {
    "duration": 15,
    "start_time": "2021-11-10T15:27:33.669Z"
   },
   {
    "duration": 12,
    "start_time": "2021-11-10T15:27:35.619Z"
   },
   {
    "duration": 5,
    "start_time": "2021-11-10T15:27:38.067Z"
   },
   {
    "duration": 17,
    "start_time": "2021-11-10T15:27:40.149Z"
   },
   {
    "duration": 7,
    "start_time": "2021-11-10T15:27:40.989Z"
   },
   {
    "duration": 32,
    "start_time": "2021-11-10T15:27:43.389Z"
   },
   {
    "duration": 22,
    "start_time": "2021-11-10T15:27:45.783Z"
   },
   {
    "duration": 30,
    "start_time": "2021-11-10T15:27:46.785Z"
   },
   {
    "duration": 79,
    "start_time": "2021-11-10T15:27:51.271Z"
   },
   {
    "duration": 90,
    "start_time": "2021-11-10T15:27:52.253Z"
   },
   {
    "duration": 72,
    "start_time": "2021-11-10T15:27:53.624Z"
   },
   {
    "duration": 9,
    "start_time": "2021-11-10T15:27:57.419Z"
   },
   {
    "duration": 11,
    "start_time": "2021-11-10T15:28:02.000Z"
   },
   {
    "duration": 11,
    "start_time": "2021-11-10T15:28:04.777Z"
   },
   {
    "duration": 10,
    "start_time": "2021-11-10T15:28:08.320Z"
   },
   {
    "duration": 14,
    "start_time": "2021-11-10T15:28:13.375Z"
   },
   {
    "duration": 14,
    "start_time": "2021-11-10T15:28:16.679Z"
   },
   {
    "duration": 5,
    "start_time": "2021-11-10T15:28:22.129Z"
   },
   {
    "duration": 13293,
    "start_time": "2021-11-10T15:28:23.428Z"
   },
   {
    "duration": 5,
    "start_time": "2021-11-10T15:33:40.229Z"
   },
   {
    "duration": 13726,
    "start_time": "2021-11-10T15:33:42.628Z"
   },
   {
    "duration": 131,
    "start_time": "2021-11-10T15:34:03.240Z"
   },
   {
    "duration": 444,
    "start_time": "2021-11-10T15:34:09.439Z"
   },
   {
    "duration": 12209,
    "start_time": "2021-11-10T15:34:24.490Z"
   },
   {
    "duration": 9522,
    "start_time": "2021-11-10T15:36:32.163Z"
   },
   {
    "duration": 10123,
    "start_time": "2021-11-10T15:42:00.432Z"
   },
   {
    "duration": 10604,
    "start_time": "2021-11-10T15:51:33.954Z"
   },
   {
    "duration": -144,
    "start_time": "2021-11-10T15:51:44.705Z"
   },
   {
    "duration": -150,
    "start_time": "2021-11-10T15:51:44.712Z"
   },
   {
    "duration": 382,
    "start_time": "2021-11-10T15:52:01.024Z"
   },
   {
    "duration": 378,
    "start_time": "2021-11-10T15:52:04.517Z"
   },
   {
    "duration": 383,
    "start_time": "2021-11-10T15:52:45.433Z"
   },
   {
    "duration": 349,
    "start_time": "2021-11-10T15:52:55.631Z"
   },
   {
    "duration": 357,
    "start_time": "2021-11-10T15:53:11.129Z"
   },
   {
    "duration": 9437,
    "start_time": "2021-11-10T15:53:18.491Z"
   },
   {
    "duration": 10023,
    "start_time": "2021-11-10T16:09:26.053Z"
   },
   {
    "duration": 5,
    "start_time": "2021-11-10T16:16:39.564Z"
   },
   {
    "duration": -107,
    "start_time": "2021-11-10T16:16:51.896Z"
   },
   {
    "duration": 10101,
    "start_time": "2021-11-10T16:17:01.901Z"
   },
   {
    "duration": 10265,
    "start_time": "2021-11-10T16:17:31.868Z"
   },
   {
    "duration": 422,
    "start_time": "2021-11-10T16:21:28.698Z"
   },
   {
    "duration": 114,
    "start_time": "2021-11-10T16:37:40.415Z"
   },
   {
    "duration": 435,
    "start_time": "2021-11-10T16:37:50.837Z"
   },
   {
    "duration": 120,
    "start_time": "2021-11-10T16:39:41.271Z"
   },
   {
    "duration": 372,
    "start_time": "2021-11-10T16:39:54.503Z"
   },
   {
    "duration": 380,
    "start_time": "2021-11-10T16:40:46.911Z"
   },
   {
    "duration": 5,
    "start_time": "2021-11-10T16:40:52.278Z"
   },
   {
    "duration": 10193,
    "start_time": "2021-11-10T16:40:55.481Z"
   },
   {
    "duration": 6,
    "start_time": "2021-11-10T16:42:03.274Z"
   },
   {
    "duration": 10649,
    "start_time": "2021-11-10T16:42:07.243Z"
   },
   {
    "duration": 10343,
    "start_time": "2021-11-10T16:42:52.298Z"
   },
   {
    "duration": -142,
    "start_time": "2021-11-10T16:43:02.786Z"
   },
   {
    "duration": 3,
    "start_time": "2021-11-10T16:43:17.443Z"
   },
   {
    "duration": 175,
    "start_time": "2021-11-10T16:43:17.796Z"
   },
   {
    "duration": 23,
    "start_time": "2021-11-10T16:43:18.082Z"
   },
   {
    "duration": 12,
    "start_time": "2021-11-10T16:43:18.417Z"
   },
   {
    "duration": 12,
    "start_time": "2021-11-10T16:43:24.720Z"
   },
   {
    "duration": 15,
    "start_time": "2021-11-10T16:43:28.416Z"
   },
   {
    "duration": 189,
    "start_time": "2021-11-10T16:43:31.163Z"
   },
   {
    "duration": 16,
    "start_time": "2021-11-10T16:43:32.122Z"
   },
   {
    "duration": 13,
    "start_time": "2021-11-10T16:43:33.104Z"
   },
   {
    "duration": 5,
    "start_time": "2021-11-10T16:43:35.746Z"
   },
   {
    "duration": 25,
    "start_time": "2021-11-10T16:43:37.190Z"
   },
   {
    "duration": 4,
    "start_time": "2021-11-10T16:43:38.111Z"
   },
   {
    "duration": 5,
    "start_time": "2021-11-10T16:43:43.947Z"
   },
   {
    "duration": 21,
    "start_time": "2021-11-10T16:44:17.873Z"
   },
   {
    "duration": 5,
    "start_time": "2021-11-10T16:44:20.384Z"
   },
   {
    "duration": 5,
    "start_time": "2021-11-10T16:44:43.277Z"
   },
   {
    "duration": 4,
    "start_time": "2021-11-10T16:44:45.592Z"
   },
   {
    "duration": 48,
    "start_time": "2021-11-10T16:45:06.389Z"
   },
   {
    "duration": 21,
    "start_time": "2021-11-10T16:45:23.974Z"
   },
   {
    "duration": 5,
    "start_time": "2021-11-10T16:45:26.140Z"
   },
   {
    "duration": 4,
    "start_time": "2021-11-10T16:45:29.532Z"
   },
   {
    "duration": 5,
    "start_time": "2021-11-10T16:46:21.566Z"
   },
   {
    "duration": 4,
    "start_time": "2021-11-10T16:46:24.247Z"
   },
   {
    "duration": 19,
    "start_time": "2021-11-10T16:46:36.171Z"
   },
   {
    "duration": 4,
    "start_time": "2021-11-10T16:46:38.541Z"
   },
   {
    "duration": 17,
    "start_time": "2021-11-10T16:47:03.065Z"
   },
   {
    "duration": 5,
    "start_time": "2021-11-10T16:47:07.500Z"
   },
   {
    "duration": 17,
    "start_time": "2021-11-10T16:47:44.538Z"
   },
   {
    "duration": 17,
    "start_time": "2021-11-10T16:47:48.888Z"
   },
   {
    "duration": 31,
    "start_time": "2021-11-10T16:48:17.577Z"
   },
   {
    "duration": 5,
    "start_time": "2021-11-10T16:48:23.241Z"
   },
   {
    "duration": 28,
    "start_time": "2021-11-10T16:48:28.341Z"
   },
   {
    "duration": 23,
    "start_time": "2021-11-10T16:48:28.972Z"
   },
   {
    "duration": 28,
    "start_time": "2021-11-10T16:48:29.342Z"
   },
   {
    "duration": 74,
    "start_time": "2021-11-10T16:48:29.717Z"
   },
   {
    "duration": 29,
    "start_time": "2021-11-10T16:48:33.008Z"
   },
   {
    "duration": 22,
    "start_time": "2021-11-10T16:48:36.091Z"
   },
   {
    "duration": 30,
    "start_time": "2021-11-10T16:48:38.110Z"
   },
   {
    "duration": 30,
    "start_time": "2021-11-10T16:48:44.289Z"
   },
   {
    "duration": 84,
    "start_time": "2021-11-10T16:48:54.007Z"
   },
   {
    "duration": 89,
    "start_time": "2021-11-10T16:48:57.130Z"
   },
   {
    "duration": 74,
    "start_time": "2021-11-10T16:48:59.609Z"
   },
   {
    "duration": 10,
    "start_time": "2021-11-10T16:49:03.584Z"
   },
   {
    "duration": 10,
    "start_time": "2021-11-10T16:49:08.381Z"
   },
   {
    "duration": 11,
    "start_time": "2021-11-10T16:49:10.607Z"
   },
   {
    "duration": 15,
    "start_time": "2021-11-10T16:49:12.240Z"
   },
   {
    "duration": 14,
    "start_time": "2021-11-10T16:49:14.509Z"
   },
   {
    "duration": 14,
    "start_time": "2021-11-10T16:49:15.476Z"
   },
   {
    "duration": 5,
    "start_time": "2021-11-10T16:49:17.242Z"
   },
   {
    "duration": 782,
    "start_time": "2021-11-10T16:49:18.485Z"
   },
   {
    "duration": 728,
    "start_time": "2021-11-10T16:49:27.345Z"
   },
   {
    "duration": 368,
    "start_time": "2021-11-10T16:49:31.436Z"
   },
   {
    "duration": 771,
    "start_time": "2021-11-10T16:49:48.395Z"
   },
   {
    "duration": 750,
    "start_time": "2021-11-10T16:50:30.640Z"
   },
   {
    "duration": 740,
    "start_time": "2021-11-10T16:50:37.459Z"
   },
   {
    "duration": 5,
    "start_time": "2021-11-10T16:51:01.704Z"
   },
   {
    "duration": 829,
    "start_time": "2021-11-10T16:51:04.060Z"
   },
   {
    "duration": 6,
    "start_time": "2021-11-10T16:51:41.657Z"
   },
   {
    "duration": 22,
    "start_time": "2021-11-10T16:51:43.581Z"
   },
   {
    "duration": 21,
    "start_time": "2021-11-10T16:51:52.249Z"
   },
   {
    "duration": 371,
    "start_time": "2021-11-10T16:51:55.027Z"
   },
   {
    "duration": 18,
    "start_time": "2021-11-10T16:52:02.358Z"
   },
   {
    "duration": 16,
    "start_time": "2021-11-10T16:52:11.999Z"
   },
   {
    "duration": 22,
    "start_time": "2021-11-10T16:52:18.049Z"
   },
   {
    "duration": 19,
    "start_time": "2021-11-10T16:52:24.136Z"
   },
   {
    "duration": 5,
    "start_time": "2021-11-10T16:53:39.674Z"
   },
   {
    "duration": 28,
    "start_time": "2021-11-10T16:53:41.664Z"
   },
   {
    "duration": 22,
    "start_time": "2021-11-10T16:53:45.745Z"
   },
   {
    "duration": 9,
    "start_time": "2021-11-10T16:53:57.676Z"
   },
   {
    "duration": 26,
    "start_time": "2021-11-10T16:53:59.716Z"
   },
   {
    "duration": 5,
    "start_time": "2021-11-10T16:54:04.056Z"
   },
   {
    "duration": 29,
    "start_time": "2021-11-10T16:54:06.216Z"
   },
   {
    "duration": 32,
    "start_time": "2021-11-10T16:54:09.254Z"
   },
   {
    "duration": 28,
    "start_time": "2021-11-10T16:54:15.068Z"
   },
   {
    "duration": 17,
    "start_time": "2021-11-10T16:54:18.889Z"
   },
   {
    "duration": 26,
    "start_time": "2021-11-10T16:54:20.946Z"
   },
   {
    "duration": 32,
    "start_time": "2021-11-10T16:54:24.541Z"
   },
   {
    "duration": 18,
    "start_time": "2021-11-10T16:54:26.633Z"
   },
   {
    "duration": 24,
    "start_time": "2021-11-10T16:54:30.948Z"
   },
   {
    "duration": 22,
    "start_time": "2021-11-10T16:54:31.168Z"
   },
   {
    "duration": 18,
    "start_time": "2021-11-10T16:54:32.648Z"
   },
   {
    "duration": 19,
    "start_time": "2021-11-10T16:54:32.669Z"
   },
   {
    "duration": 27,
    "start_time": "2021-11-10T16:54:32.691Z"
   },
   {
    "duration": 48,
    "start_time": "2021-11-10T16:54:32.721Z"
   },
   {
    "duration": 27,
    "start_time": "2021-11-10T16:54:34.121Z"
   },
   {
    "duration": 33,
    "start_time": "2021-11-10T16:54:35.091Z"
   },
   {
    "duration": 18,
    "start_time": "2021-11-10T16:54:35.797Z"
   },
   {
    "duration": 19,
    "start_time": "2021-11-10T16:54:36.446Z"
   },
   {
    "duration": 27,
    "start_time": "2021-11-10T16:54:37.221Z"
   },
   {
    "duration": 23,
    "start_time": "2021-11-10T16:54:38.024Z"
   },
   {
    "duration": 4,
    "start_time": "2021-11-10T16:54:52.822Z"
   },
   {
    "duration": 182,
    "start_time": "2021-11-10T16:54:53.168Z"
   },
   {
    "duration": 15,
    "start_time": "2021-11-10T16:54:53.510Z"
   },
   {
    "duration": 11,
    "start_time": "2021-11-10T16:54:53.854Z"
   },
   {
    "duration": 6,
    "start_time": "2021-11-10T16:54:54.729Z"
   },
   {
    "duration": 19,
    "start_time": "2021-11-10T16:54:55.277Z"
   },
   {
    "duration": 5,
    "start_time": "2021-11-10T16:54:55.636Z"
   },
   {
    "duration": 22,
    "start_time": "2021-11-10T16:55:01.593Z"
   },
   {
    "duration": 5,
    "start_time": "2021-11-10T16:55:03.264Z"
   },
   {
    "duration": 43,
    "start_time": "2021-11-10T16:55:10.886Z"
   },
   {
    "duration": 22,
    "start_time": "2021-11-10T16:55:11.469Z"
   },
   {
    "duration": 30,
    "start_time": "2021-11-10T16:55:11.817Z"
   },
   {
    "duration": 84,
    "start_time": "2021-11-10T16:55:12.170Z"
   },
   {
    "duration": 74,
    "start_time": "2021-11-10T16:55:17.111Z"
   },
   {
    "duration": 31,
    "start_time": "2021-11-10T16:55:21.125Z"
   },
   {
    "duration": 35,
    "start_time": "2021-11-10T16:55:59.486Z"
   },
   {
    "duration": 31,
    "start_time": "2021-11-10T16:56:05.073Z"
   },
   {
    "duration": 76,
    "start_time": "2021-11-10T16:56:09.649Z"
   },
   {
    "duration": 85,
    "start_time": "2021-11-10T16:56:13.752Z"
   },
   {
    "duration": 73,
    "start_time": "2021-11-10T16:56:14.603Z"
   },
   {
    "duration": 9,
    "start_time": "2021-11-10T16:56:15.684Z"
   },
   {
    "duration": 29,
    "start_time": "2021-11-10T16:56:16.077Z"
   },
   {
    "duration": 11,
    "start_time": "2021-11-10T16:56:17.136Z"
   },
   {
    "duration": 10,
    "start_time": "2021-11-10T16:56:17.635Z"
   },
   {
    "duration": 14,
    "start_time": "2021-11-10T16:56:19.402Z"
   },
   {
    "duration": 14,
    "start_time": "2021-11-10T16:56:20.073Z"
   },
   {
    "duration": 5,
    "start_time": "2021-11-10T16:56:20.597Z"
   },
   {
    "duration": 25,
    "start_time": "2021-11-10T16:56:20.963Z"
   },
   {
    "duration": 22,
    "start_time": "2021-11-10T16:56:21.130Z"
   },
   {
    "duration": 19,
    "start_time": "2021-11-10T16:56:21.296Z"
   },
   {
    "duration": 17,
    "start_time": "2021-11-10T16:56:21.480Z"
   },
   {
    "duration": 24,
    "start_time": "2021-11-10T16:56:22.395Z"
   },
   {
    "duration": 23,
    "start_time": "2021-11-10T16:56:24.897Z"
   },
   {
    "duration": 25,
    "start_time": "2021-11-10T16:56:30.252Z"
   },
   {
    "duration": 21,
    "start_time": "2021-11-10T16:56:30.843Z"
   },
   {
    "duration": 17,
    "start_time": "2021-11-10T16:56:33.438Z"
   },
   {
    "duration": 23,
    "start_time": "2021-11-10T16:56:33.457Z"
   },
   {
    "duration": 43,
    "start_time": "2021-11-10T16:56:33.483Z"
   },
   {
    "duration": 17,
    "start_time": "2021-11-10T16:56:36.611Z"
   },
   {
    "duration": 16,
    "start_time": "2021-11-10T16:57:02.626Z"
   },
   {
    "duration": 137,
    "start_time": "2021-11-10T16:57:37.048Z"
   },
   {
    "duration": 122,
    "start_time": "2021-11-10T16:57:43.810Z"
   },
   {
    "duration": 17,
    "start_time": "2021-11-10T16:57:46.295Z"
   },
   {
    "duration": 27,
    "start_time": "2021-11-10T16:58:04.521Z"
   },
   {
    "duration": 21,
    "start_time": "2021-11-10T16:58:07.039Z"
   },
   {
    "duration": 21,
    "start_time": "2021-11-10T16:58:20.728Z"
   },
   {
    "duration": 25,
    "start_time": "2021-11-10T16:58:23.009Z"
   },
   {
    "duration": 20,
    "start_time": "2021-11-10T17:04:03.620Z"
   },
   {
    "duration": 6,
    "start_time": "2021-11-10T17:04:48.153Z"
   },
   {
    "duration": 118,
    "start_time": "2021-11-10T17:08:07.728Z"
   },
   {
    "duration": 16,
    "start_time": "2021-11-10T17:08:09.724Z"
   },
   {
    "duration": 142,
    "start_time": "2021-11-10T17:08:17.058Z"
   },
   {
    "duration": 12,
    "start_time": "2021-11-10T17:08:22.722Z"
   },
   {
    "duration": 57,
    "start_time": "2021-11-10T20:14:00.712Z"
   },
   {
    "duration": 60,
    "start_time": "2021-11-10T20:15:07.942Z"
   },
   {
    "duration": 59,
    "start_time": "2021-11-10T20:15:38.430Z"
   },
   {
    "duration": 59,
    "start_time": "2021-11-10T20:15:45.682Z"
   },
   {
    "duration": 215,
    "start_time": "2021-11-10T20:16:54.731Z"
   },
   {
    "duration": 511,
    "start_time": "2021-11-10T20:17:04.852Z"
   },
   {
    "duration": 128,
    "start_time": "2021-11-10T20:17:05.365Z"
   },
   {
    "duration": 16,
    "start_time": "2021-11-10T20:17:05.512Z"
   },
   {
    "duration": 9,
    "start_time": "2021-11-10T20:17:05.865Z"
   },
   {
    "duration": 4,
    "start_time": "2021-11-10T20:17:06.723Z"
   },
   {
    "duration": 20,
    "start_time": "2021-11-10T20:17:07.248Z"
   },
   {
    "duration": 3,
    "start_time": "2021-11-10T20:17:07.608Z"
   },
   {
    "duration": 21,
    "start_time": "2021-11-10T20:17:07.954Z"
   },
   {
    "duration": 17,
    "start_time": "2021-11-10T20:17:08.486Z"
   },
   {
    "duration": 23,
    "start_time": "2021-11-10T20:17:08.827Z"
   },
   {
    "duration": 55,
    "start_time": "2021-11-10T20:17:09.175Z"
   },
   {
    "duration": 65,
    "start_time": "2021-11-10T20:17:09.529Z"
   },
   {
    "duration": 49,
    "start_time": "2021-11-10T20:17:09.873Z"
   },
   {
    "duration": 6,
    "start_time": "2021-11-10T20:17:10.401Z"
   },
   {
    "duration": 7,
    "start_time": "2021-11-10T20:17:10.755Z"
   },
   {
    "duration": 8,
    "start_time": "2021-11-10T20:17:11.097Z"
   },
   {
    "duration": 7,
    "start_time": "2021-11-10T20:17:11.460Z"
   },
   {
    "duration": 10,
    "start_time": "2021-11-10T20:17:12.524Z"
   },
   {
    "duration": 10,
    "start_time": "2021-11-10T20:17:12.865Z"
   },
   {
    "duration": 4,
    "start_time": "2021-11-10T20:17:13.391Z"
   },
   {
    "duration": 19,
    "start_time": "2021-11-10T20:17:13.747Z"
   },
   {
    "duration": 15,
    "start_time": "2021-11-10T20:17:13.915Z"
   },
   {
    "duration": 18,
    "start_time": "2021-11-10T20:17:14.087Z"
   },
   {
    "duration": 16,
    "start_time": "2021-11-10T20:17:14.273Z"
   },
   {
    "duration": 20,
    "start_time": "2021-11-10T20:17:14.449Z"
   },
   {
    "duration": 17,
    "start_time": "2021-11-10T20:17:14.626Z"
   },
   {
    "duration": 5,
    "start_time": "2021-11-10T20:17:14.971Z"
   },
   {
    "duration": 15,
    "start_time": "2021-11-10T20:17:15.855Z"
   },
   {
    "duration": 9,
    "start_time": "2021-11-10T20:17:16.024Z"
   },
   {
    "duration": 57,
    "start_time": "2021-11-10T20:17:16.385Z"
   },
   {
    "duration": 217,
    "start_time": "2021-11-10T20:17:16.733Z"
   },
   {
    "duration": -29,
    "start_time": "2021-11-10T20:17:16.981Z"
   },
   {
    "duration": 3,
    "start_time": "2021-11-10T20:17:17.088Z"
   },
   {
    "duration": 2,
    "start_time": "2021-11-10T20:17:17.246Z"
   },
   {
    "duration": 2,
    "start_time": "2021-11-10T20:17:17.936Z"
   },
   {
    "duration": 3,
    "start_time": "2021-11-10T20:17:18.290Z"
   },
   {
    "duration": 3,
    "start_time": "2021-11-10T20:17:18.665Z"
   },
   {
    "duration": 3,
    "start_time": "2021-11-10T20:17:19.017Z"
   },
   {
    "duration": 3,
    "start_time": "2021-11-10T20:17:22.590Z"
   },
   {
    "duration": 133,
    "start_time": "2021-11-10T20:17:22.934Z"
   },
   {
    "duration": 10,
    "start_time": "2021-11-10T20:17:23.286Z"
   },
   {
    "duration": 8,
    "start_time": "2021-11-10T20:17:23.630Z"
   },
   {
    "duration": 4,
    "start_time": "2021-11-10T20:17:24.536Z"
   },
   {
    "duration": 16,
    "start_time": "2021-11-10T20:17:25.070Z"
   },
   {
    "duration": 3,
    "start_time": "2021-11-10T20:17:25.423Z"
   },
   {
    "duration": 24,
    "start_time": "2021-11-10T20:17:25.791Z"
   },
   {
    "duration": 27,
    "start_time": "2021-11-10T20:17:26.327Z"
   },
   {
    "duration": 24,
    "start_time": "2021-11-10T20:17:26.700Z"
   },
   {
    "duration": 53,
    "start_time": "2021-11-10T20:17:27.044Z"
   },
   {
    "duration": 59,
    "start_time": "2021-11-10T20:17:27.379Z"
   },
   {
    "duration": 51,
    "start_time": "2021-11-10T20:17:27.746Z"
   },
   {
    "duration": 8,
    "start_time": "2021-11-10T20:17:28.278Z"
   },
   {
    "duration": 8,
    "start_time": "2021-11-10T20:17:28.619Z"
   },
   {
    "duration": 8,
    "start_time": "2021-11-10T20:17:28.956Z"
   },
   {
    "duration": 8,
    "start_time": "2021-11-10T20:17:29.333Z"
   },
   {
    "duration": 11,
    "start_time": "2021-11-10T20:17:30.402Z"
   },
   {
    "duration": 10,
    "start_time": "2021-11-10T20:17:30.759Z"
   },
   {
    "duration": 4,
    "start_time": "2021-11-10T20:17:31.312Z"
   },
   {
    "duration": 19,
    "start_time": "2021-11-10T20:17:31.672Z"
   },
   {
    "duration": 16,
    "start_time": "2021-11-10T20:17:31.848Z"
   },
   {
    "duration": 18,
    "start_time": "2021-11-10T20:17:32.016Z"
   },
   {
    "duration": 16,
    "start_time": "2021-11-10T20:17:32.206Z"
   },
   {
    "duration": 20,
    "start_time": "2021-11-10T20:17:32.386Z"
   },
   {
    "duration": 16,
    "start_time": "2021-11-10T20:17:32.576Z"
   },
   {
    "duration": 5,
    "start_time": "2021-11-10T20:17:32.949Z"
   },
   {
    "duration": 12,
    "start_time": "2021-11-10T20:17:34.097Z"
   },
   {
    "duration": 10,
    "start_time": "2021-11-10T20:17:34.321Z"
   },
   {
    "duration": 57,
    "start_time": "2021-11-10T20:17:34.602Z"
   },
   {
    "duration": 1097,
    "start_time": "2021-11-10T20:17:35.044Z"
   },
   {
    "duration": -67,
    "start_time": "2021-11-10T20:17:36.210Z"
   },
   {
    "duration": -71,
    "start_time": "2021-11-10T20:17:36.215Z"
   },
   {
    "duration": -75,
    "start_time": "2021-11-10T20:17:36.220Z"
   },
   {
    "duration": 57,
    "start_time": "2021-11-10T20:18:24.188Z"
   },
   {
    "duration": 762,
    "start_time": "2021-11-11T15:57:58.210Z"
   },
   {
    "duration": 176,
    "start_time": "2021-11-11T15:57:58.975Z"
   },
   {
    "duration": 25,
    "start_time": "2021-11-11T15:57:59.154Z"
   },
   {
    "duration": 11,
    "start_time": "2021-11-11T15:57:59.246Z"
   },
   {
    "duration": 6,
    "start_time": "2021-11-11T15:58:00.121Z"
   },
   {
    "duration": 28,
    "start_time": "2021-11-11T15:58:00.650Z"
   },
   {
    "duration": 5,
    "start_time": "2021-11-11T15:58:01.009Z"
   },
   {
    "duration": 29,
    "start_time": "2021-11-11T15:58:01.365Z"
   },
   {
    "duration": 24,
    "start_time": "2021-11-11T15:58:01.886Z"
   },
   {
    "duration": 30,
    "start_time": "2021-11-11T15:58:02.237Z"
   },
   {
    "duration": 84,
    "start_time": "2021-11-11T15:58:02.590Z"
   },
   {
    "duration": 100,
    "start_time": "2021-11-11T15:58:02.958Z"
   },
   {
    "duration": 76,
    "start_time": "2021-11-11T15:58:03.321Z"
   },
   {
    "duration": 10,
    "start_time": "2021-11-11T15:58:03.867Z"
   },
   {
    "duration": 10,
    "start_time": "2021-11-11T15:58:04.224Z"
   },
   {
    "duration": 11,
    "start_time": "2021-11-11T15:58:04.575Z"
   },
   {
    "duration": 10,
    "start_time": "2021-11-11T15:58:04.944Z"
   },
   {
    "duration": 15,
    "start_time": "2021-11-11T15:58:06.034Z"
   },
   {
    "duration": 15,
    "start_time": "2021-11-11T15:58:06.420Z"
   },
   {
    "duration": 6,
    "start_time": "2021-11-11T15:58:06.948Z"
   },
   {
    "duration": 24,
    "start_time": "2021-11-11T15:58:07.317Z"
   },
   {
    "duration": 22,
    "start_time": "2021-11-11T15:58:07.490Z"
   },
   {
    "duration": 23,
    "start_time": "2021-11-11T15:58:07.665Z"
   },
   {
    "duration": 21,
    "start_time": "2021-11-11T15:58:07.847Z"
   },
   {
    "duration": 26,
    "start_time": "2021-11-11T15:58:08.019Z"
   },
   {
    "duration": 21,
    "start_time": "2021-11-11T15:58:09.123Z"
   },
   {
    "duration": 6,
    "start_time": "2021-11-11T15:58:10.750Z"
   },
   {
    "duration": 14,
    "start_time": "2021-11-11T15:58:11.982Z"
   },
   {
    "duration": 12,
    "start_time": "2021-11-11T15:58:12.171Z"
   },
   {
    "duration": 98,
    "start_time": "2021-11-11T15:58:12.673Z"
   },
   {
    "duration": 339,
    "start_time": "2021-11-11T16:05:50.364Z"
   },
   {
    "duration": 101,
    "start_time": "2021-11-11T16:06:05.411Z"
   },
   {
    "duration": 279,
    "start_time": "2021-11-11T16:09:20.541Z"
   },
   {
    "duration": 281,
    "start_time": "2021-11-11T16:09:42.248Z"
   },
   {
    "duration": 272,
    "start_time": "2021-11-11T16:11:31.530Z"
   },
   {
    "duration": 263,
    "start_time": "2021-11-11T16:11:33.728Z"
   },
   {
    "duration": 99,
    "start_time": "2021-11-11T16:11:37.539Z"
   },
   {
    "duration": 14,
    "start_time": "2021-11-11T16:11:43.673Z"
   },
   {
    "duration": 17,
    "start_time": "2021-11-11T16:11:46.004Z"
   },
   {
    "duration": 264,
    "start_time": "2021-11-11T16:13:24.110Z"
   },
   {
    "duration": 87,
    "start_time": "2021-11-11T16:14:55.834Z"
   },
   {
    "duration": 5,
    "start_time": "2021-11-11T16:17:45.862Z"
   },
   {
    "duration": 28,
    "start_time": "2021-11-11T16:17:51.836Z"
   },
   {
    "duration": 21,
    "start_time": "2021-11-11T16:17:56.052Z"
   },
   {
    "duration": 21,
    "start_time": "2021-11-11T16:17:58.736Z"
   },
   {
    "duration": 23,
    "start_time": "2021-11-11T16:18:01.899Z"
   },
   {
    "duration": 16,
    "start_time": "2021-11-11T16:18:04.370Z"
   },
   {
    "duration": 18,
    "start_time": "2021-11-11T16:19:31.387Z"
   },
   {
    "duration": 22,
    "start_time": "2021-11-11T16:19:35.038Z"
   },
   {
    "duration": 6,
    "start_time": "2021-11-11T16:21:00.770Z"
   },
   {
    "duration": 5,
    "start_time": "2021-11-11T16:21:03.268Z"
   },
   {
    "duration": 27,
    "start_time": "2021-11-11T16:21:06.706Z"
   },
   {
    "duration": 26,
    "start_time": "2021-11-11T16:21:09.343Z"
   },
   {
    "duration": 25,
    "start_time": "2021-11-11T16:21:12.243Z"
   },
   {
    "duration": 20,
    "start_time": "2021-11-11T16:21:15.431Z"
   },
   {
    "duration": 266,
    "start_time": "2021-11-11T16:30:25.322Z"
   },
   {
    "duration": 277,
    "start_time": "2021-11-11T16:30:39.956Z"
   },
   {
    "duration": 275,
    "start_time": "2021-11-11T16:30:48.412Z"
   },
   {
    "duration": 279,
    "start_time": "2021-11-11T16:31:44.022Z"
   },
   {
    "duration": 5,
    "start_time": "2021-11-11T16:32:01.612Z"
   },
   {
    "duration": 190,
    "start_time": "2021-11-11T16:32:01.937Z"
   },
   {
    "duration": 17,
    "start_time": "2021-11-11T16:32:02.258Z"
   },
   {
    "duration": 12,
    "start_time": "2021-11-11T16:32:02.581Z"
   },
   {
    "duration": 5,
    "start_time": "2021-11-11T16:32:03.412Z"
   },
   {
    "duration": 25,
    "start_time": "2021-11-11T16:32:03.925Z"
   },
   {
    "duration": 5,
    "start_time": "2021-11-11T16:32:04.267Z"
   },
   {
    "duration": 33,
    "start_time": "2021-11-11T16:32:04.605Z"
   },
   {
    "duration": 22,
    "start_time": "2021-11-11T16:32:05.123Z"
   },
   {
    "duration": 33,
    "start_time": "2021-11-11T16:32:05.454Z"
   },
   {
    "duration": 83,
    "start_time": "2021-11-11T16:32:05.810Z"
   },
   {
    "duration": 88,
    "start_time": "2021-11-11T16:32:06.141Z"
   },
   {
    "duration": 80,
    "start_time": "2021-11-11T16:32:06.497Z"
   },
   {
    "duration": 10,
    "start_time": "2021-11-11T16:32:07.009Z"
   },
   {
    "duration": 11,
    "start_time": "2021-11-11T16:32:07.355Z"
   },
   {
    "duration": 11,
    "start_time": "2021-11-11T16:32:07.704Z"
   },
   {
    "duration": 10,
    "start_time": "2021-11-11T16:32:08.064Z"
   },
   {
    "duration": 16,
    "start_time": "2021-11-11T16:32:09.074Z"
   },
   {
    "duration": 14,
    "start_time": "2021-11-11T16:32:09.434Z"
   },
   {
    "duration": 5,
    "start_time": "2021-11-11T16:32:09.965Z"
   },
   {
    "duration": 23,
    "start_time": "2021-11-11T16:32:10.314Z"
   },
   {
    "duration": 21,
    "start_time": "2021-11-11T16:32:10.508Z"
   },
   {
    "duration": 22,
    "start_time": "2021-11-11T16:32:10.668Z"
   },
   {
    "duration": 22,
    "start_time": "2021-11-11T16:32:10.867Z"
   },
   {
    "duration": 26,
    "start_time": "2021-11-11T16:32:11.036Z"
   },
   {
    "duration": 21,
    "start_time": "2021-11-11T16:32:11.209Z"
   },
   {
    "duration": 6,
    "start_time": "2021-11-11T16:32:11.559Z"
   },
   {
    "duration": 15,
    "start_time": "2021-11-11T16:32:12.444Z"
   },
   {
    "duration": 13,
    "start_time": "2021-11-11T16:32:12.629Z"
   },
   {
    "duration": 5,
    "start_time": "2021-11-11T16:32:12.982Z"
   },
   {
    "duration": 27,
    "start_time": "2021-11-11T16:32:13.336Z"
   },
   {
    "duration": 20,
    "start_time": "2021-11-11T16:32:13.509Z"
   },
   {
    "duration": 25,
    "start_time": "2021-11-11T16:32:13.687Z"
   },
   {
    "duration": 27,
    "start_time": "2021-11-11T16:32:13.852Z"
   },
   {
    "duration": 11,
    "start_time": "2021-11-11T16:32:14.554Z"
   },
   {
    "duration": 7,
    "start_time": "2021-11-11T16:32:15.057Z"
   },
   {
    "duration": 8,
    "start_time": "2021-11-11T16:34:19.484Z"
   },
   {
    "duration": 6,
    "start_time": "2021-11-11T16:34:22.815Z"
   },
   {
    "duration": 813,
    "start_time": "2021-11-12T05:02:10.272Z"
   },
   {
    "duration": 179,
    "start_time": "2021-11-12T05:02:11.087Z"
   },
   {
    "duration": 30,
    "start_time": "2021-11-12T05:02:11.269Z"
   },
   {
    "duration": 11,
    "start_time": "2021-11-12T05:02:11.302Z"
   },
   {
    "duration": 6,
    "start_time": "2021-11-12T05:02:11.316Z"
   },
   {
    "duration": 62,
    "start_time": "2021-11-12T05:02:11.325Z"
   },
   {
    "duration": 6,
    "start_time": "2021-11-12T05:02:11.390Z"
   },
   {
    "duration": 35,
    "start_time": "2021-11-12T05:02:11.399Z"
   },
   {
    "duration": 55,
    "start_time": "2021-11-12T05:02:11.439Z"
   },
   {
    "duration": 30,
    "start_time": "2021-11-12T05:02:11.498Z"
   },
   {
    "duration": 113,
    "start_time": "2021-11-12T05:02:11.530Z"
   },
   {
    "duration": 101,
    "start_time": "2021-11-12T05:02:11.645Z"
   },
   {
    "duration": 91,
    "start_time": "2021-11-12T05:02:11.748Z"
   },
   {
    "duration": 10,
    "start_time": "2021-11-12T05:02:11.841Z"
   },
   {
    "duration": 28,
    "start_time": "2021-11-12T05:02:11.854Z"
   },
   {
    "duration": 11,
    "start_time": "2021-11-12T05:02:11.885Z"
   },
   {
    "duration": 16,
    "start_time": "2021-11-12T05:02:11.898Z"
   },
   {
    "duration": 15,
    "start_time": "2021-11-12T05:02:11.916Z"
   },
   {
    "duration": 48,
    "start_time": "2021-11-12T05:02:11.934Z"
   },
   {
    "duration": 5,
    "start_time": "2021-11-12T05:02:11.985Z"
   },
   {
    "duration": 33,
    "start_time": "2021-11-12T05:02:11.992Z"
   },
   {
    "duration": 20,
    "start_time": "2021-11-12T05:02:12.027Z"
   },
   {
    "duration": 46,
    "start_time": "2021-11-12T05:02:12.049Z"
   },
   {
    "duration": 22,
    "start_time": "2021-11-12T05:02:12.097Z"
   },
   {
    "duration": 26,
    "start_time": "2021-11-12T05:02:12.121Z"
   },
   {
    "duration": 51,
    "start_time": "2021-11-12T05:02:12.150Z"
   },
   {
    "duration": 6,
    "start_time": "2021-11-12T05:02:12.207Z"
   },
   {
    "duration": 17,
    "start_time": "2021-11-12T05:02:12.216Z"
   },
   {
    "duration": 12,
    "start_time": "2021-11-12T05:02:12.236Z"
   },
   {
    "duration": 5,
    "start_time": "2021-11-12T05:02:12.283Z"
   },
   {
    "duration": 49,
    "start_time": "2021-11-12T05:02:12.291Z"
   },
   {
    "duration": 22,
    "start_time": "2021-11-12T05:02:12.342Z"
   },
   {
    "duration": 37,
    "start_time": "2021-11-12T05:02:12.366Z"
   },
   {
    "duration": 18,
    "start_time": "2021-11-12T05:02:12.406Z"
   },
   {
    "duration": 11,
    "start_time": "2021-11-12T05:02:12.426Z"
   },
   {
    "duration": 5,
    "start_time": "2021-11-12T05:02:12.440Z"
   },
   {
    "duration": 9,
    "start_time": "2021-11-12T05:02:12.482Z"
   },
   {
    "duration": 12,
    "start_time": "2021-11-12T05:02:12.493Z"
   },
   {
    "duration": 368,
    "start_time": "2021-11-12T10:16:59.092Z"
   },
   {
    "duration": 347,
    "start_time": "2021-11-12T10:17:07.185Z"
   },
   {
    "duration": 423,
    "start_time": "2021-11-12T10:24:52.301Z"
   },
   {
    "duration": 705,
    "start_time": "2021-11-12T10:24:58.867Z"
   },
   {
    "duration": 189,
    "start_time": "2021-11-12T10:24:59.575Z"
   },
   {
    "duration": 26,
    "start_time": "2021-11-12T10:24:59.877Z"
   },
   {
    "duration": 33,
    "start_time": "2021-11-12T10:25:00.346Z"
   },
   {
    "duration": 5,
    "start_time": "2021-11-12T10:25:01.475Z"
   },
   {
    "duration": 26,
    "start_time": "2021-11-12T10:25:01.972Z"
   },
   {
    "duration": 6,
    "start_time": "2021-11-12T10:25:02.458Z"
   },
   {
    "duration": 31,
    "start_time": "2021-11-12T10:25:02.941Z"
   },
   {
    "duration": 24,
    "start_time": "2021-11-12T10:25:03.583Z"
   },
   {
    "duration": 29,
    "start_time": "2021-11-12T10:25:04.062Z"
   },
   {
    "duration": 84,
    "start_time": "2021-11-12T10:25:04.389Z"
   },
   {
    "duration": 108,
    "start_time": "2021-11-12T10:25:04.883Z"
   },
   {
    "duration": 85,
    "start_time": "2021-11-12T10:25:06.377Z"
   },
   {
    "duration": 11,
    "start_time": "2021-11-12T10:25:06.465Z"
   },
   {
    "duration": 11,
    "start_time": "2021-11-12T10:25:06.479Z"
   },
   {
    "duration": 11,
    "start_time": "2021-11-12T10:25:13.580Z"
   },
   {
    "duration": 15,
    "start_time": "2021-11-12T10:25:13.957Z"
   },
   {
    "duration": 14,
    "start_time": "2021-11-12T10:25:22.926Z"
   },
   {
    "duration": 5,
    "start_time": "2022-03-13T10:43:57.393Z"
   },
   {
    "duration": 4,
    "start_time": "2022-03-13T10:44:49.496Z"
   }
  ],
  "colab": {
   "collapsed_sections": [
    "E0vqbgi9ay0H",
    "VUC88oWjTJw2"
   ],
   "name": "yandex_music_project_2021.2.ipynb",
   "provenance": []
  },
  "kernelspec": {
   "display_name": "Python 3",
   "language": "python",
   "name": "python3"
  },
  "language_info": {
   "codemirror_mode": {
    "name": "ipython",
    "version": 3
   },
   "file_extension": ".py",
   "mimetype": "text/x-python",
   "name": "python",
   "nbconvert_exporter": "python",
   "pygments_lexer": "ipython3",
   "version": "3.8.8"
  },
  "toc": {
   "base_numbering": 1,
   "nav_menu": {},
   "number_sections": true,
   "sideBar": true,
   "skip_h1_title": true,
   "title_cell": "Table of Contents",
   "title_sidebar": "Contents",
   "toc_cell": false,
   "toc_position": {},
   "toc_section_display": true,
   "toc_window_display": true
  }
 },
 "nbformat": 4,
 "nbformat_minor": 1
}
