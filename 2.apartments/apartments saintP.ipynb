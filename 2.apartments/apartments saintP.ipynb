{
 "cells": [
  {
   "cell_type": "markdown",
   "metadata": {},
   "source": [
    "# Исследование объявлений о продаже квартир\n",
    "\n",
    "В вашем распоряжении данные сервиса Яндекс.Недвижимость — архив объявлений о продаже квартир в Санкт-Петербурге и соседних населённых пунктах за несколько лет. Нужно научиться определять рыночную стоимость объектов недвижимости. Цель исследования — установить параметры. Это позволит построить автоматизированную систему: она отследит аномалии и мошенническую деятельность. \n"
   ]
  },
  {
   "cell_type": "markdown",
   "metadata": {},
   "source": [
    "## Изучение данных из файла"
   ]
  },
  {
   "cell_type": "code",
   "execution_count": 88,
   "metadata": {},
   "outputs": [
    {
     "name": "stdout",
     "output_type": "stream",
     "text": [
      "<class 'pandas.core.frame.DataFrame'>\n",
      "RangeIndex: 23699 entries, 0 to 23698\n",
      "Data columns (total 22 columns):\n",
      "total_images            23699 non-null int64\n",
      "last_price              23699 non-null float64\n",
      "total_area              23699 non-null float64\n",
      "first_day_exposition    23699 non-null object\n",
      "rooms                   23699 non-null int64\n",
      "ceiling_height          14504 non-null float64\n",
      "floors_total            23613 non-null float64\n",
      "living_area             21796 non-null float64\n",
      "floor                   23699 non-null int64\n",
      "is_apartment            2775 non-null object\n",
      "studio                  23699 non-null bool\n",
      "open_plan               23699 non-null bool\n",
      "kitchen_area            21421 non-null float64\n",
      "balcony                 12180 non-null float64\n",
      "locality_name           23650 non-null object\n",
      "airports_nearest        18157 non-null float64\n",
      "cityCenters_nearest     18180 non-null float64\n",
      "parks_around3000        18181 non-null float64\n",
      "parks_nearest           8079 non-null float64\n",
      "ponds_around3000        18181 non-null float64\n",
      "ponds_nearest           9110 non-null float64\n",
      "days_exposition         20518 non-null float64\n",
      "dtypes: bool(2), float64(14), int64(3), object(3)\n",
      "memory usage: 3.7+ MB\n"
     ]
    },
    {
     "data": {
      "text/html": [
       "<div>\n",
       "<style scoped>\n",
       "    .dataframe tbody tr th:only-of-type {\n",
       "        vertical-align: middle;\n",
       "    }\n",
       "\n",
       "    .dataframe tbody tr th {\n",
       "        vertical-align: top;\n",
       "    }\n",
       "\n",
       "    .dataframe thead th {\n",
       "        text-align: right;\n",
       "    }\n",
       "</style>\n",
       "<table border=\"1\" class=\"dataframe\">\n",
       "  <thead>\n",
       "    <tr style=\"text-align: right;\">\n",
       "      <th></th>\n",
       "      <th>total_images</th>\n",
       "      <th>last_price</th>\n",
       "      <th>total_area</th>\n",
       "      <th>first_day_exposition</th>\n",
       "      <th>rooms</th>\n",
       "      <th>ceiling_height</th>\n",
       "      <th>floors_total</th>\n",
       "      <th>living_area</th>\n",
       "      <th>floor</th>\n",
       "      <th>is_apartment</th>\n",
       "      <th>...</th>\n",
       "      <th>kitchen_area</th>\n",
       "      <th>balcony</th>\n",
       "      <th>locality_name</th>\n",
       "      <th>airports_nearest</th>\n",
       "      <th>cityCenters_nearest</th>\n",
       "      <th>parks_around3000</th>\n",
       "      <th>parks_nearest</th>\n",
       "      <th>ponds_around3000</th>\n",
       "      <th>ponds_nearest</th>\n",
       "      <th>days_exposition</th>\n",
       "    </tr>\n",
       "  </thead>\n",
       "  <tbody>\n",
       "    <tr>\n",
       "      <td>0</td>\n",
       "      <td>20</td>\n",
       "      <td>13000000.0</td>\n",
       "      <td>108.00</td>\n",
       "      <td>2019-03-07T00:00:00</td>\n",
       "      <td>3</td>\n",
       "      <td>2.70</td>\n",
       "      <td>16.0</td>\n",
       "      <td>51.00</td>\n",
       "      <td>8</td>\n",
       "      <td>NaN</td>\n",
       "      <td>...</td>\n",
       "      <td>25.00</td>\n",
       "      <td>NaN</td>\n",
       "      <td>Санкт-Петербург</td>\n",
       "      <td>18863.0</td>\n",
       "      <td>16028.0</td>\n",
       "      <td>1.0</td>\n",
       "      <td>482.0</td>\n",
       "      <td>2.0</td>\n",
       "      <td>755.0</td>\n",
       "      <td>NaN</td>\n",
       "    </tr>\n",
       "    <tr>\n",
       "      <td>1</td>\n",
       "      <td>7</td>\n",
       "      <td>3350000.0</td>\n",
       "      <td>40.40</td>\n",
       "      <td>2018-12-04T00:00:00</td>\n",
       "      <td>1</td>\n",
       "      <td>NaN</td>\n",
       "      <td>11.0</td>\n",
       "      <td>18.60</td>\n",
       "      <td>1</td>\n",
       "      <td>NaN</td>\n",
       "      <td>...</td>\n",
       "      <td>11.00</td>\n",
       "      <td>2.0</td>\n",
       "      <td>посёлок Шушары</td>\n",
       "      <td>12817.0</td>\n",
       "      <td>18603.0</td>\n",
       "      <td>0.0</td>\n",
       "      <td>NaN</td>\n",
       "      <td>0.0</td>\n",
       "      <td>NaN</td>\n",
       "      <td>81.0</td>\n",
       "    </tr>\n",
       "    <tr>\n",
       "      <td>2</td>\n",
       "      <td>10</td>\n",
       "      <td>5196000.0</td>\n",
       "      <td>56.00</td>\n",
       "      <td>2015-08-20T00:00:00</td>\n",
       "      <td>2</td>\n",
       "      <td>NaN</td>\n",
       "      <td>5.0</td>\n",
       "      <td>34.30</td>\n",
       "      <td>4</td>\n",
       "      <td>NaN</td>\n",
       "      <td>...</td>\n",
       "      <td>8.30</td>\n",
       "      <td>0.0</td>\n",
       "      <td>Санкт-Петербург</td>\n",
       "      <td>21741.0</td>\n",
       "      <td>13933.0</td>\n",
       "      <td>1.0</td>\n",
       "      <td>90.0</td>\n",
       "      <td>2.0</td>\n",
       "      <td>574.0</td>\n",
       "      <td>558.0</td>\n",
       "    </tr>\n",
       "    <tr>\n",
       "      <td>3</td>\n",
       "      <td>0</td>\n",
       "      <td>64900000.0</td>\n",
       "      <td>159.00</td>\n",
       "      <td>2015-07-24T00:00:00</td>\n",
       "      <td>3</td>\n",
       "      <td>NaN</td>\n",
       "      <td>14.0</td>\n",
       "      <td>NaN</td>\n",
       "      <td>9</td>\n",
       "      <td>NaN</td>\n",
       "      <td>...</td>\n",
       "      <td>NaN</td>\n",
       "      <td>0.0</td>\n",
       "      <td>Санкт-Петербург</td>\n",
       "      <td>28098.0</td>\n",
       "      <td>6800.0</td>\n",
       "      <td>2.0</td>\n",
       "      <td>84.0</td>\n",
       "      <td>3.0</td>\n",
       "      <td>234.0</td>\n",
       "      <td>424.0</td>\n",
       "    </tr>\n",
       "    <tr>\n",
       "      <td>4</td>\n",
       "      <td>2</td>\n",
       "      <td>10000000.0</td>\n",
       "      <td>100.00</td>\n",
       "      <td>2018-06-19T00:00:00</td>\n",
       "      <td>2</td>\n",
       "      <td>3.03</td>\n",
       "      <td>14.0</td>\n",
       "      <td>32.00</td>\n",
       "      <td>13</td>\n",
       "      <td>NaN</td>\n",
       "      <td>...</td>\n",
       "      <td>41.00</td>\n",
       "      <td>NaN</td>\n",
       "      <td>Санкт-Петербург</td>\n",
       "      <td>31856.0</td>\n",
       "      <td>8098.0</td>\n",
       "      <td>2.0</td>\n",
       "      <td>112.0</td>\n",
       "      <td>1.0</td>\n",
       "      <td>48.0</td>\n",
       "      <td>121.0</td>\n",
       "    </tr>\n",
       "    <tr>\n",
       "      <td>5</td>\n",
       "      <td>10</td>\n",
       "      <td>2890000.0</td>\n",
       "      <td>30.40</td>\n",
       "      <td>2018-09-10T00:00:00</td>\n",
       "      <td>1</td>\n",
       "      <td>NaN</td>\n",
       "      <td>12.0</td>\n",
       "      <td>14.40</td>\n",
       "      <td>5</td>\n",
       "      <td>NaN</td>\n",
       "      <td>...</td>\n",
       "      <td>9.10</td>\n",
       "      <td>NaN</td>\n",
       "      <td>городской посёлок Янино-1</td>\n",
       "      <td>NaN</td>\n",
       "      <td>NaN</td>\n",
       "      <td>NaN</td>\n",
       "      <td>NaN</td>\n",
       "      <td>NaN</td>\n",
       "      <td>NaN</td>\n",
       "      <td>55.0</td>\n",
       "    </tr>\n",
       "    <tr>\n",
       "      <td>6</td>\n",
       "      <td>6</td>\n",
       "      <td>3700000.0</td>\n",
       "      <td>37.30</td>\n",
       "      <td>2017-11-02T00:00:00</td>\n",
       "      <td>1</td>\n",
       "      <td>NaN</td>\n",
       "      <td>26.0</td>\n",
       "      <td>10.60</td>\n",
       "      <td>6</td>\n",
       "      <td>NaN</td>\n",
       "      <td>...</td>\n",
       "      <td>14.40</td>\n",
       "      <td>1.0</td>\n",
       "      <td>посёлок Парголово</td>\n",
       "      <td>52996.0</td>\n",
       "      <td>19143.0</td>\n",
       "      <td>0.0</td>\n",
       "      <td>NaN</td>\n",
       "      <td>0.0</td>\n",
       "      <td>NaN</td>\n",
       "      <td>155.0</td>\n",
       "    </tr>\n",
       "    <tr>\n",
       "      <td>7</td>\n",
       "      <td>5</td>\n",
       "      <td>7915000.0</td>\n",
       "      <td>71.60</td>\n",
       "      <td>2019-04-18T00:00:00</td>\n",
       "      <td>2</td>\n",
       "      <td>NaN</td>\n",
       "      <td>24.0</td>\n",
       "      <td>NaN</td>\n",
       "      <td>22</td>\n",
       "      <td>NaN</td>\n",
       "      <td>...</td>\n",
       "      <td>18.90</td>\n",
       "      <td>2.0</td>\n",
       "      <td>Санкт-Петербург</td>\n",
       "      <td>23982.0</td>\n",
       "      <td>11634.0</td>\n",
       "      <td>0.0</td>\n",
       "      <td>NaN</td>\n",
       "      <td>0.0</td>\n",
       "      <td>NaN</td>\n",
       "      <td>NaN</td>\n",
       "    </tr>\n",
       "    <tr>\n",
       "      <td>8</td>\n",
       "      <td>20</td>\n",
       "      <td>2900000.0</td>\n",
       "      <td>33.16</td>\n",
       "      <td>2018-05-23T00:00:00</td>\n",
       "      <td>1</td>\n",
       "      <td>NaN</td>\n",
       "      <td>27.0</td>\n",
       "      <td>15.43</td>\n",
       "      <td>26</td>\n",
       "      <td>NaN</td>\n",
       "      <td>...</td>\n",
       "      <td>8.81</td>\n",
       "      <td>NaN</td>\n",
       "      <td>посёлок Мурино</td>\n",
       "      <td>NaN</td>\n",
       "      <td>NaN</td>\n",
       "      <td>NaN</td>\n",
       "      <td>NaN</td>\n",
       "      <td>NaN</td>\n",
       "      <td>NaN</td>\n",
       "      <td>189.0</td>\n",
       "    </tr>\n",
       "    <tr>\n",
       "      <td>9</td>\n",
       "      <td>18</td>\n",
       "      <td>5400000.0</td>\n",
       "      <td>61.00</td>\n",
       "      <td>2017-02-26T00:00:00</td>\n",
       "      <td>3</td>\n",
       "      <td>2.50</td>\n",
       "      <td>9.0</td>\n",
       "      <td>43.60</td>\n",
       "      <td>7</td>\n",
       "      <td>NaN</td>\n",
       "      <td>...</td>\n",
       "      <td>6.50</td>\n",
       "      <td>2.0</td>\n",
       "      <td>Санкт-Петербург</td>\n",
       "      <td>50898.0</td>\n",
       "      <td>15008.0</td>\n",
       "      <td>0.0</td>\n",
       "      <td>NaN</td>\n",
       "      <td>0.0</td>\n",
       "      <td>NaN</td>\n",
       "      <td>289.0</td>\n",
       "    </tr>\n",
       "    <tr>\n",
       "      <td>10</td>\n",
       "      <td>5</td>\n",
       "      <td>5050000.0</td>\n",
       "      <td>39.60</td>\n",
       "      <td>2017-11-16T00:00:00</td>\n",
       "      <td>1</td>\n",
       "      <td>2.67</td>\n",
       "      <td>12.0</td>\n",
       "      <td>20.30</td>\n",
       "      <td>3</td>\n",
       "      <td>NaN</td>\n",
       "      <td>...</td>\n",
       "      <td>8.50</td>\n",
       "      <td>NaN</td>\n",
       "      <td>Санкт-Петербург</td>\n",
       "      <td>38357.0</td>\n",
       "      <td>13878.0</td>\n",
       "      <td>1.0</td>\n",
       "      <td>310.0</td>\n",
       "      <td>2.0</td>\n",
       "      <td>553.0</td>\n",
       "      <td>137.0</td>\n",
       "    </tr>\n",
       "    <tr>\n",
       "      <td>11</td>\n",
       "      <td>9</td>\n",
       "      <td>3300000.0</td>\n",
       "      <td>44.00</td>\n",
       "      <td>2018-08-27T00:00:00</td>\n",
       "      <td>2</td>\n",
       "      <td>NaN</td>\n",
       "      <td>5.0</td>\n",
       "      <td>31.00</td>\n",
       "      <td>4</td>\n",
       "      <td>False</td>\n",
       "      <td>...</td>\n",
       "      <td>6.00</td>\n",
       "      <td>1.0</td>\n",
       "      <td>Ломоносов</td>\n",
       "      <td>48252.0</td>\n",
       "      <td>51677.0</td>\n",
       "      <td>0.0</td>\n",
       "      <td>NaN</td>\n",
       "      <td>0.0</td>\n",
       "      <td>NaN</td>\n",
       "      <td>7.0</td>\n",
       "    </tr>\n",
       "    <tr>\n",
       "      <td>12</td>\n",
       "      <td>10</td>\n",
       "      <td>3890000.0</td>\n",
       "      <td>54.00</td>\n",
       "      <td>2016-06-30T00:00:00</td>\n",
       "      <td>2</td>\n",
       "      <td>NaN</td>\n",
       "      <td>5.0</td>\n",
       "      <td>30.00</td>\n",
       "      <td>5</td>\n",
       "      <td>NaN</td>\n",
       "      <td>...</td>\n",
       "      <td>9.00</td>\n",
       "      <td>0.0</td>\n",
       "      <td>Сертолово</td>\n",
       "      <td>NaN</td>\n",
       "      <td>NaN</td>\n",
       "      <td>NaN</td>\n",
       "      <td>NaN</td>\n",
       "      <td>NaN</td>\n",
       "      <td>NaN</td>\n",
       "      <td>90.0</td>\n",
       "    </tr>\n",
       "    <tr>\n",
       "      <td>13</td>\n",
       "      <td>20</td>\n",
       "      <td>3550000.0</td>\n",
       "      <td>42.80</td>\n",
       "      <td>2017-07-01T00:00:00</td>\n",
       "      <td>2</td>\n",
       "      <td>2.56</td>\n",
       "      <td>5.0</td>\n",
       "      <td>27.00</td>\n",
       "      <td>5</td>\n",
       "      <td>NaN</td>\n",
       "      <td>...</td>\n",
       "      <td>5.20</td>\n",
       "      <td>1.0</td>\n",
       "      <td>Петергоф</td>\n",
       "      <td>37868.0</td>\n",
       "      <td>33058.0</td>\n",
       "      <td>1.0</td>\n",
       "      <td>294.0</td>\n",
       "      <td>3.0</td>\n",
       "      <td>298.0</td>\n",
       "      <td>366.0</td>\n",
       "    </tr>\n",
       "    <tr>\n",
       "      <td>14</td>\n",
       "      <td>1</td>\n",
       "      <td>4400000.0</td>\n",
       "      <td>36.00</td>\n",
       "      <td>2016-06-23T00:00:00</td>\n",
       "      <td>1</td>\n",
       "      <td>NaN</td>\n",
       "      <td>6.0</td>\n",
       "      <td>17.00</td>\n",
       "      <td>1</td>\n",
       "      <td>NaN</td>\n",
       "      <td>...</td>\n",
       "      <td>8.00</td>\n",
       "      <td>0.0</td>\n",
       "      <td>Пушкин</td>\n",
       "      <td>20782.0</td>\n",
       "      <td>30759.0</td>\n",
       "      <td>0.0</td>\n",
       "      <td>NaN</td>\n",
       "      <td>1.0</td>\n",
       "      <td>96.0</td>\n",
       "      <td>203.0</td>\n",
       "    </tr>\n",
       "  </tbody>\n",
       "</table>\n",
       "<p>15 rows × 22 columns</p>\n",
       "</div>"
      ],
      "text/plain": [
       "    total_images  last_price  total_area first_day_exposition  rooms  \\\n",
       "0             20  13000000.0      108.00  2019-03-07T00:00:00      3   \n",
       "1              7   3350000.0       40.40  2018-12-04T00:00:00      1   \n",
       "2             10   5196000.0       56.00  2015-08-20T00:00:00      2   \n",
       "3              0  64900000.0      159.00  2015-07-24T00:00:00      3   \n",
       "4              2  10000000.0      100.00  2018-06-19T00:00:00      2   \n",
       "5             10   2890000.0       30.40  2018-09-10T00:00:00      1   \n",
       "6              6   3700000.0       37.30  2017-11-02T00:00:00      1   \n",
       "7              5   7915000.0       71.60  2019-04-18T00:00:00      2   \n",
       "8             20   2900000.0       33.16  2018-05-23T00:00:00      1   \n",
       "9             18   5400000.0       61.00  2017-02-26T00:00:00      3   \n",
       "10             5   5050000.0       39.60  2017-11-16T00:00:00      1   \n",
       "11             9   3300000.0       44.00  2018-08-27T00:00:00      2   \n",
       "12            10   3890000.0       54.00  2016-06-30T00:00:00      2   \n",
       "13            20   3550000.0       42.80  2017-07-01T00:00:00      2   \n",
       "14             1   4400000.0       36.00  2016-06-23T00:00:00      1   \n",
       "\n",
       "    ceiling_height  floors_total  living_area  floor is_apartment  ...  \\\n",
       "0             2.70          16.0        51.00      8          NaN  ...   \n",
       "1              NaN          11.0        18.60      1          NaN  ...   \n",
       "2              NaN           5.0        34.30      4          NaN  ...   \n",
       "3              NaN          14.0          NaN      9          NaN  ...   \n",
       "4             3.03          14.0        32.00     13          NaN  ...   \n",
       "5              NaN          12.0        14.40      5          NaN  ...   \n",
       "6              NaN          26.0        10.60      6          NaN  ...   \n",
       "7              NaN          24.0          NaN     22          NaN  ...   \n",
       "8              NaN          27.0        15.43     26          NaN  ...   \n",
       "9             2.50           9.0        43.60      7          NaN  ...   \n",
       "10            2.67          12.0        20.30      3          NaN  ...   \n",
       "11             NaN           5.0        31.00      4        False  ...   \n",
       "12             NaN           5.0        30.00      5          NaN  ...   \n",
       "13            2.56           5.0        27.00      5          NaN  ...   \n",
       "14             NaN           6.0        17.00      1          NaN  ...   \n",
       "\n",
       "    kitchen_area  balcony              locality_name  airports_nearest  \\\n",
       "0          25.00      NaN            Санкт-Петербург           18863.0   \n",
       "1          11.00      2.0             посёлок Шушары           12817.0   \n",
       "2           8.30      0.0            Санкт-Петербург           21741.0   \n",
       "3            NaN      0.0            Санкт-Петербург           28098.0   \n",
       "4          41.00      NaN            Санкт-Петербург           31856.0   \n",
       "5           9.10      NaN  городской посёлок Янино-1               NaN   \n",
       "6          14.40      1.0          посёлок Парголово           52996.0   \n",
       "7          18.90      2.0            Санкт-Петербург           23982.0   \n",
       "8           8.81      NaN             посёлок Мурино               NaN   \n",
       "9           6.50      2.0            Санкт-Петербург           50898.0   \n",
       "10          8.50      NaN            Санкт-Петербург           38357.0   \n",
       "11          6.00      1.0                  Ломоносов           48252.0   \n",
       "12          9.00      0.0                  Сертолово               NaN   \n",
       "13          5.20      1.0                   Петергоф           37868.0   \n",
       "14          8.00      0.0                     Пушкин           20782.0   \n",
       "\n",
       "   cityCenters_nearest  parks_around3000  parks_nearest  ponds_around3000  \\\n",
       "0              16028.0               1.0          482.0               2.0   \n",
       "1              18603.0               0.0            NaN               0.0   \n",
       "2              13933.0               1.0           90.0               2.0   \n",
       "3               6800.0               2.0           84.0               3.0   \n",
       "4               8098.0               2.0          112.0               1.0   \n",
       "5                  NaN               NaN            NaN               NaN   \n",
       "6              19143.0               0.0            NaN               0.0   \n",
       "7              11634.0               0.0            NaN               0.0   \n",
       "8                  NaN               NaN            NaN               NaN   \n",
       "9              15008.0               0.0            NaN               0.0   \n",
       "10             13878.0               1.0          310.0               2.0   \n",
       "11             51677.0               0.0            NaN               0.0   \n",
       "12                 NaN               NaN            NaN               NaN   \n",
       "13             33058.0               1.0          294.0               3.0   \n",
       "14             30759.0               0.0            NaN               1.0   \n",
       "\n",
       "    ponds_nearest  days_exposition  \n",
       "0           755.0              NaN  \n",
       "1             NaN             81.0  \n",
       "2           574.0            558.0  \n",
       "3           234.0            424.0  \n",
       "4            48.0            121.0  \n",
       "5             NaN             55.0  \n",
       "6             NaN            155.0  \n",
       "7             NaN              NaN  \n",
       "8             NaN            189.0  \n",
       "9             NaN            289.0  \n",
       "10          553.0            137.0  \n",
       "11            NaN              7.0  \n",
       "12            NaN             90.0  \n",
       "13          298.0            366.0  \n",
       "14           96.0            203.0  \n",
       "\n",
       "[15 rows x 22 columns]"
      ]
     },
     "execution_count": 88,
     "metadata": {},
     "output_type": "execute_result"
    }
   ],
   "source": [
    "import pandas as pd\n",
    "df = pd.read_csv('/datasets/real_estate_data.csv', sep = '\\t')\n",
    "df.info()\n",
    "df.head(15)\n"
   ]
  },
  {
   "cell_type": "markdown",
   "metadata": {},
   "source": [
    "### Вывод\n",
    "\n",
    "1.first_day_exposition object - должен быть тип datetime\n",
    "2.ceiling_height - пропущенные значения\n",
    "3.floors_total - должен быть тип int, т.к. количество этажей - целое значение \n",
    "4.is_apartment - должен быть тип bool + пропущенные значения\n",
    "5.living_area - есть пропущенные значения\n",
    "6.kitchen_area - пропущенные значения\n",
    "7.balcony - пропущенные значения\n",
    "8.locality_name - пропущенные значения\n",
    "9.airports_nearest - пропущенные значения\n",
    "10.cityCenters_nearest - пропущенные значения\n",
    "11.parks_around3000 - тип должен быть int + нулевые значения\n",
    "12.parks_nearest - пропущенные значения\n",
    "13.ponds_around3000 - тип должен быть int + пропущенные значения\n",
    "14.ponds_nearest - пропущенные значения\n",
    "15.days_exposition - тип должен быть int + пропущенные значения"
   ]
  },
  {
   "cell_type": "markdown",
   "metadata": {},
   "source": [
    "## Предобработка данных"
   ]
  },
  {
   "cell_type": "code",
   "execution_count": 89,
   "metadata": {},
   "outputs": [
    {
     "name": "stdout",
     "output_type": "stream",
     "text": [
      "Index(['total_images', 'last_price', 'total_area', 'first_day_exposition',\n",
      "       'rooms', 'ceiling_height', 'floors_total', 'living_area', 'floor',\n",
      "       'is_apartment', 'studio', 'open_plan', 'kitchen_area', 'balcony',\n",
      "       'locality_name', 'airports_nearest', 'cityCenters_nearest',\n",
      "       'parks_around3000', 'parks_nearest', 'ponds_around3000',\n",
      "       'ponds_nearest', 'days_exposition'],\n",
      "      dtype='object')\n"
     ]
    },
    {
     "data": {
      "text/plain": [
       "0.0    9071\n",
       "1.0    5717\n",
       "2.0    1892\n",
       "3.0    1501\n",
       "Name: ponds_around3000, dtype: int64"
      ]
     },
     "execution_count": 89,
     "metadata": {},
     "output_type": "execute_result"
    }
   ],
   "source": [
    "#посмотрим значения в столбцах для выявления нестандартных значений  и ошибок\n",
    "print(df.columns)\n",
    "df['days_exposition'].value_counts()\n",
    "df['total_images'].value_counts()\n",
    "df['ceiling_height'].value_counts()\n",
    "df['floor'].value_counts()\n",
    "df['is_apartment'].value_counts()\n",
    "df['total_area'].value_counts()\n",
    "df['rooms'].value_counts()\n",
    "df['airports_nearest'].value_counts()\n",
    "df['cityCenters_nearest'].value_counts()\n",
    "df['parks_around3000'].value_counts()\n",
    "df['parks_nearest'].value_counts()\n",
    "df['ponds_around3000'].value_counts()\n"
   ]
  },
  {
   "cell_type": "code",
   "execution_count": 90,
   "metadata": {},
   "outputs": [],
   "source": [
    "#заменим пропуски в days_exposition и заменим тип данных\n",
    "df['days_exposition'] = df['days_exposition'].fillna(0).astype('int')"
   ]
  },
  {
   "cell_type": "code",
   "execution_count": 91,
   "metadata": {},
   "outputs": [
    {
     "data": {
      "text/plain": [
       "Санкт-Петербург            15721\n",
       "посёлок Мурино               522\n",
       "посёлок Шушары               440\n",
       "Всеволожск                   398\n",
       "Пушкин                       369\n",
       "                           ...  \n",
       "поселок станции Корнево        1\n",
       "село Никольское                1\n",
       "деревня Пельгора               1\n",
       "поселок Коробицыно             1\n",
       "посёлок Дзержинского           1\n",
       "Name: locality_name, Length: 364, dtype: int64"
      ]
     },
     "execution_count": 91,
     "metadata": {},
     "output_type": "execute_result"
    }
   ],
   "source": [
    "df['locality_name'].value_counts()"
   ]
  },
  {
   "cell_type": "code",
   "execution_count": 92,
   "metadata": {},
   "outputs": [],
   "source": [
    "#переведем столбец с датой в формат даты без времени, т.к. время не указано в таблице\n",
    "df['first_day_exposition'] = pd.to_datetime(df['first_day_exposition'], format = '%Y-%m-%d')\n"
   ]
  },
  {
   "cell_type": "code",
   "execution_count": 93,
   "metadata": {},
   "outputs": [],
   "source": [
    "#заменим пропуски в balcony на 0 и изменим тип данных на int.Скорее всего пользователи просто не указали что балкона нет.\n",
    "df['balcony'].value_counts()\n",
    "df['balcony'] = df['balcony'].fillna(0)\n",
    "df['balcony'] = df['balcony'].astype('int')"
   ]
  },
  {
   "cell_type": "code",
   "execution_count": 94,
   "metadata": {},
   "outputs": [],
   "source": [
    "#столбец апартаменты вероятно появился не вместе с началом ведения записей, все пропущенные значения заменим на False, \n",
    "#апартаменты появились относительно недавно\n",
    "df['is_apartment'] = df['is_apartment'].fillna(False)"
   ]
  },
  {
   "cell_type": "code",
   "execution_count": 95,
   "metadata": {},
   "outputs": [
    {
     "data": {
      "text/plain": [
       "0        13000000\n",
       "1         3350000\n",
       "2         5196000\n",
       "3        64900000\n",
       "4        10000000\n",
       "           ...   \n",
       "23694     9700000\n",
       "23695     3100000\n",
       "23696     2500000\n",
       "23697    11475000\n",
       "23698     1350000\n",
       "Name: last_price, Length: 23699, dtype: int64"
      ]
     },
     "execution_count": 95,
     "metadata": {},
     "output_type": "execute_result"
    }
   ],
   "source": [
    "#изменим цену на тип int для удобства просмотра\n",
    "df['last_price'] = df['last_price'].astype('int')\n",
    "df['last_price']"
   ]
  },
  {
   "cell_type": "code",
   "execution_count": 96,
   "metadata": {},
   "outputs": [
    {
     "data": {
      "text/html": [
       "<div>\n",
       "<style scoped>\n",
       "    .dataframe tbody tr th:only-of-type {\n",
       "        vertical-align: middle;\n",
       "    }\n",
       "\n",
       "    .dataframe tbody tr th {\n",
       "        vertical-align: top;\n",
       "    }\n",
       "\n",
       "    .dataframe thead th {\n",
       "        text-align: right;\n",
       "    }\n",
       "</style>\n",
       "<table border=\"1\" class=\"dataframe\">\n",
       "  <thead>\n",
       "    <tr style=\"text-align: right;\">\n",
       "      <th></th>\n",
       "      <th>total_images</th>\n",
       "      <th>last_price</th>\n",
       "      <th>total_area</th>\n",
       "      <th>first_day_exposition</th>\n",
       "      <th>rooms</th>\n",
       "      <th>ceiling_height</th>\n",
       "      <th>floors_total</th>\n",
       "      <th>living_area</th>\n",
       "      <th>floor</th>\n",
       "      <th>is_apartment</th>\n",
       "      <th>...</th>\n",
       "      <th>kitchen_area</th>\n",
       "      <th>balcony</th>\n",
       "      <th>locality_name</th>\n",
       "      <th>airports_nearest</th>\n",
       "      <th>cityCenters_nearest</th>\n",
       "      <th>parks_around3000</th>\n",
       "      <th>parks_nearest</th>\n",
       "      <th>ponds_around3000</th>\n",
       "      <th>ponds_nearest</th>\n",
       "      <th>days_exposition</th>\n",
       "    </tr>\n",
       "  </thead>\n",
       "  <tbody>\n",
       "    <tr>\n",
       "      <td>186</td>\n",
       "      <td>12</td>\n",
       "      <td>11640000</td>\n",
       "      <td>65.2</td>\n",
       "      <td>2018-10-02</td>\n",
       "      <td>2</td>\n",
       "      <td>NaN</td>\n",
       "      <td>NaN</td>\n",
       "      <td>30.80</td>\n",
       "      <td>4</td>\n",
       "      <td>False</td>\n",
       "      <td>...</td>\n",
       "      <td>12.00</td>\n",
       "      <td>0</td>\n",
       "      <td>Санкт-Петербург</td>\n",
       "      <td>39197.0</td>\n",
       "      <td>12373.0</td>\n",
       "      <td>1.0</td>\n",
       "      <td>123.0</td>\n",
       "      <td>0.0</td>\n",
       "      <td>NaN</td>\n",
       "      <td>49</td>\n",
       "    </tr>\n",
       "    <tr>\n",
       "      <td>237</td>\n",
       "      <td>4</td>\n",
       "      <td>2438033</td>\n",
       "      <td>28.1</td>\n",
       "      <td>2016-11-23</td>\n",
       "      <td>1</td>\n",
       "      <td>NaN</td>\n",
       "      <td>NaN</td>\n",
       "      <td>20.75</td>\n",
       "      <td>1</td>\n",
       "      <td>False</td>\n",
       "      <td>...</td>\n",
       "      <td>NaN</td>\n",
       "      <td>0</td>\n",
       "      <td>Санкт-Петербург</td>\n",
       "      <td>22041.0</td>\n",
       "      <td>17369.0</td>\n",
       "      <td>0.0</td>\n",
       "      <td>NaN</td>\n",
       "      <td>1.0</td>\n",
       "      <td>374.0</td>\n",
       "      <td>251</td>\n",
       "    </tr>\n",
       "    <tr>\n",
       "      <td>457</td>\n",
       "      <td>4</td>\n",
       "      <td>9788348</td>\n",
       "      <td>70.8</td>\n",
       "      <td>2015-08-01</td>\n",
       "      <td>2</td>\n",
       "      <td>NaN</td>\n",
       "      <td>NaN</td>\n",
       "      <td>38.40</td>\n",
       "      <td>12</td>\n",
       "      <td>False</td>\n",
       "      <td>...</td>\n",
       "      <td>10.63</td>\n",
       "      <td>0</td>\n",
       "      <td>Санкт-Петербург</td>\n",
       "      <td>37364.0</td>\n",
       "      <td>8322.0</td>\n",
       "      <td>2.0</td>\n",
       "      <td>309.0</td>\n",
       "      <td>2.0</td>\n",
       "      <td>706.0</td>\n",
       "      <td>727</td>\n",
       "    </tr>\n",
       "    <tr>\n",
       "      <td>671</td>\n",
       "      <td>4</td>\n",
       "      <td>6051191</td>\n",
       "      <td>93.6</td>\n",
       "      <td>2017-04-06</td>\n",
       "      <td>3</td>\n",
       "      <td>NaN</td>\n",
       "      <td>NaN</td>\n",
       "      <td>47.10</td>\n",
       "      <td>8</td>\n",
       "      <td>False</td>\n",
       "      <td>...</td>\n",
       "      <td>16.80</td>\n",
       "      <td>0</td>\n",
       "      <td>Санкт-Петербург</td>\n",
       "      <td>22041.0</td>\n",
       "      <td>17369.0</td>\n",
       "      <td>0.0</td>\n",
       "      <td>NaN</td>\n",
       "      <td>1.0</td>\n",
       "      <td>374.0</td>\n",
       "      <td>123</td>\n",
       "    </tr>\n",
       "    <tr>\n",
       "      <td>1757</td>\n",
       "      <td>5</td>\n",
       "      <td>3600000</td>\n",
       "      <td>39.0</td>\n",
       "      <td>2017-04-22</td>\n",
       "      <td>1</td>\n",
       "      <td>NaN</td>\n",
       "      <td>NaN</td>\n",
       "      <td>NaN</td>\n",
       "      <td>9</td>\n",
       "      <td>False</td>\n",
       "      <td>...</td>\n",
       "      <td>NaN</td>\n",
       "      <td>0</td>\n",
       "      <td>Санкт-Петербург</td>\n",
       "      <td>22735.0</td>\n",
       "      <td>11618.0</td>\n",
       "      <td>1.0</td>\n",
       "      <td>835.0</td>\n",
       "      <td>1.0</td>\n",
       "      <td>652.0</td>\n",
       "      <td>77</td>\n",
       "    </tr>\n",
       "    <tr>\n",
       "      <td>...</td>\n",
       "      <td>...</td>\n",
       "      <td>...</td>\n",
       "      <td>...</td>\n",
       "      <td>...</td>\n",
       "      <td>...</td>\n",
       "      <td>...</td>\n",
       "      <td>...</td>\n",
       "      <td>...</td>\n",
       "      <td>...</td>\n",
       "      <td>...</td>\n",
       "      <td>...</td>\n",
       "      <td>...</td>\n",
       "      <td>...</td>\n",
       "      <td>...</td>\n",
       "      <td>...</td>\n",
       "      <td>...</td>\n",
       "      <td>...</td>\n",
       "      <td>...</td>\n",
       "      <td>...</td>\n",
       "      <td>...</td>\n",
       "      <td>...</td>\n",
       "    </tr>\n",
       "    <tr>\n",
       "      <td>22542</td>\n",
       "      <td>5</td>\n",
       "      <td>8500000</td>\n",
       "      <td>63.5</td>\n",
       "      <td>2017-05-24</td>\n",
       "      <td>2</td>\n",
       "      <td>2.8</td>\n",
       "      <td>NaN</td>\n",
       "      <td>NaN</td>\n",
       "      <td>3</td>\n",
       "      <td>False</td>\n",
       "      <td>...</td>\n",
       "      <td>NaN</td>\n",
       "      <td>0</td>\n",
       "      <td>Санкт-Петербург</td>\n",
       "      <td>51340.0</td>\n",
       "      <td>15363.0</td>\n",
       "      <td>0.0</td>\n",
       "      <td>NaN</td>\n",
       "      <td>1.0</td>\n",
       "      <td>853.0</td>\n",
       "      <td>512</td>\n",
       "    </tr>\n",
       "    <tr>\n",
       "      <td>22656</td>\n",
       "      <td>4</td>\n",
       "      <td>4574160</td>\n",
       "      <td>64.5</td>\n",
       "      <td>2017-04-02</td>\n",
       "      <td>2</td>\n",
       "      <td>NaN</td>\n",
       "      <td>NaN</td>\n",
       "      <td>31.70</td>\n",
       "      <td>20</td>\n",
       "      <td>False</td>\n",
       "      <td>...</td>\n",
       "      <td>14.40</td>\n",
       "      <td>0</td>\n",
       "      <td>Санкт-Петербург</td>\n",
       "      <td>22041.0</td>\n",
       "      <td>17369.0</td>\n",
       "      <td>0.0</td>\n",
       "      <td>NaN</td>\n",
       "      <td>1.0</td>\n",
       "      <td>374.0</td>\n",
       "      <td>127</td>\n",
       "    </tr>\n",
       "    <tr>\n",
       "      <td>22808</td>\n",
       "      <td>0</td>\n",
       "      <td>14569263</td>\n",
       "      <td>110.4</td>\n",
       "      <td>2016-11-20</td>\n",
       "      <td>3</td>\n",
       "      <td>NaN</td>\n",
       "      <td>NaN</td>\n",
       "      <td>45.38</td>\n",
       "      <td>6</td>\n",
       "      <td>False</td>\n",
       "      <td>...</td>\n",
       "      <td>23.42</td>\n",
       "      <td>0</td>\n",
       "      <td>Санкт-Петербург</td>\n",
       "      <td>19095.0</td>\n",
       "      <td>4529.0</td>\n",
       "      <td>0.0</td>\n",
       "      <td>NaN</td>\n",
       "      <td>0.0</td>\n",
       "      <td>NaN</td>\n",
       "      <td>260</td>\n",
       "    </tr>\n",
       "    <tr>\n",
       "      <td>23590</td>\n",
       "      <td>0</td>\n",
       "      <td>21187872</td>\n",
       "      <td>123.3</td>\n",
       "      <td>2017-04-25</td>\n",
       "      <td>3</td>\n",
       "      <td>NaN</td>\n",
       "      <td>NaN</td>\n",
       "      <td>50.40</td>\n",
       "      <td>18</td>\n",
       "      <td>False</td>\n",
       "      <td>...</td>\n",
       "      <td>23.60</td>\n",
       "      <td>0</td>\n",
       "      <td>Санкт-Петербург</td>\n",
       "      <td>19095.0</td>\n",
       "      <td>4529.0</td>\n",
       "      <td>0.0</td>\n",
       "      <td>NaN</td>\n",
       "      <td>0.0</td>\n",
       "      <td>NaN</td>\n",
       "      <td>104</td>\n",
       "    </tr>\n",
       "    <tr>\n",
       "      <td>23658</td>\n",
       "      <td>6</td>\n",
       "      <td>3063600</td>\n",
       "      <td>43.8</td>\n",
       "      <td>2016-11-28</td>\n",
       "      <td>1</td>\n",
       "      <td>2.7</td>\n",
       "      <td>NaN</td>\n",
       "      <td>14.00</td>\n",
       "      <td>8</td>\n",
       "      <td>False</td>\n",
       "      <td>...</td>\n",
       "      <td>15.50</td>\n",
       "      <td>2</td>\n",
       "      <td>Санкт-Петербург</td>\n",
       "      <td>8426.0</td>\n",
       "      <td>12082.0</td>\n",
       "      <td>2.0</td>\n",
       "      <td>24.0</td>\n",
       "      <td>1.0</td>\n",
       "      <td>271.0</td>\n",
       "      <td>246</td>\n",
       "    </tr>\n",
       "  </tbody>\n",
       "</table>\n",
       "<p>86 rows × 22 columns</p>\n",
       "</div>"
      ],
      "text/plain": [
       "       total_images  last_price  total_area first_day_exposition  rooms  \\\n",
       "186              12    11640000        65.2           2018-10-02      2   \n",
       "237               4     2438033        28.1           2016-11-23      1   \n",
       "457               4     9788348        70.8           2015-08-01      2   \n",
       "671               4     6051191        93.6           2017-04-06      3   \n",
       "1757              5     3600000        39.0           2017-04-22      1   \n",
       "...             ...         ...         ...                  ...    ...   \n",
       "22542             5     8500000        63.5           2017-05-24      2   \n",
       "22656             4     4574160        64.5           2017-04-02      2   \n",
       "22808             0    14569263       110.4           2016-11-20      3   \n",
       "23590             0    21187872       123.3           2017-04-25      3   \n",
       "23658             6     3063600        43.8           2016-11-28      1   \n",
       "\n",
       "       ceiling_height  floors_total  living_area  floor  is_apartment  ...  \\\n",
       "186               NaN           NaN        30.80      4         False  ...   \n",
       "237               NaN           NaN        20.75      1         False  ...   \n",
       "457               NaN           NaN        38.40     12         False  ...   \n",
       "671               NaN           NaN        47.10      8         False  ...   \n",
       "1757              NaN           NaN          NaN      9         False  ...   \n",
       "...               ...           ...          ...    ...           ...  ...   \n",
       "22542             2.8           NaN          NaN      3         False  ...   \n",
       "22656             NaN           NaN        31.70     20         False  ...   \n",
       "22808             NaN           NaN        45.38      6         False  ...   \n",
       "23590             NaN           NaN        50.40     18         False  ...   \n",
       "23658             2.7           NaN        14.00      8         False  ...   \n",
       "\n",
       "       kitchen_area  balcony    locality_name  airports_nearest  \\\n",
       "186           12.00        0  Санкт-Петербург           39197.0   \n",
       "237             NaN        0  Санкт-Петербург           22041.0   \n",
       "457           10.63        0  Санкт-Петербург           37364.0   \n",
       "671           16.80        0  Санкт-Петербург           22041.0   \n",
       "1757            NaN        0  Санкт-Петербург           22735.0   \n",
       "...             ...      ...              ...               ...   \n",
       "22542           NaN        0  Санкт-Петербург           51340.0   \n",
       "22656         14.40        0  Санкт-Петербург           22041.0   \n",
       "22808         23.42        0  Санкт-Петербург           19095.0   \n",
       "23590         23.60        0  Санкт-Петербург           19095.0   \n",
       "23658         15.50        2  Санкт-Петербург            8426.0   \n",
       "\n",
       "      cityCenters_nearest  parks_around3000  parks_nearest  ponds_around3000  \\\n",
       "186               12373.0               1.0          123.0               0.0   \n",
       "237               17369.0               0.0            NaN               1.0   \n",
       "457                8322.0               2.0          309.0               2.0   \n",
       "671               17369.0               0.0            NaN               1.0   \n",
       "1757              11618.0               1.0          835.0               1.0   \n",
       "...                   ...               ...            ...               ...   \n",
       "22542             15363.0               0.0            NaN               1.0   \n",
       "22656             17369.0               0.0            NaN               1.0   \n",
       "22808              4529.0               0.0            NaN               0.0   \n",
       "23590              4529.0               0.0            NaN               0.0   \n",
       "23658             12082.0               2.0           24.0               1.0   \n",
       "\n",
       "       ponds_nearest  days_exposition  \n",
       "186              NaN               49  \n",
       "237            374.0              251  \n",
       "457            706.0              727  \n",
       "671            374.0              123  \n",
       "1757           652.0               77  \n",
       "...              ...              ...  \n",
       "22542          853.0              512  \n",
       "22656          374.0              127  \n",
       "22808            NaN              260  \n",
       "23590            NaN              104  \n",
       "23658          271.0              246  \n",
       "\n",
       "[86 rows x 22 columns]"
      ]
     },
     "execution_count": 96,
     "metadata": {},
     "output_type": "execute_result"
    }
   ],
   "source": [
    "#посмотрим данные с пропущенными значениями в floors_total- ничего общего между ними нет, оставим как есть\n",
    "df[df['floors_total'].isna()]"
   ]
  },
  {
   "cell_type": "code",
   "execution_count": 97,
   "metadata": {},
   "outputs": [
    {
     "data": {
      "image/png": "[encoded data removed]",
      "text/plain": [
       "<Figure size 432x288 with 1 Axes>"
      ]
     },
     "metadata": {
      "needs_background": "light"
     },
     "output_type": "display_data"
    },
    {
     "data": {
      "image/png": "[encoded data removed]",
      "text/plain": [
       "<Figure size 432x288 with 1 Axes>"
      ]
     },
     "metadata": {
      "needs_background": "light"
     },
     "output_type": "display_data"
    }
   ],
   "source": [
    "#посмотрим параметр ceiling_height, видим что есть необоснованно большие значения \n",
    "#медиана от среднего отличается не сильно из-за этих выбросов во всей выборке\n",
    "import numpy as np\n",
    "import matplotlib.pyplot as plt\n",
    "df['ceiling_height'].sort_values().plot(y = 'ceiling_height', kind = 'hist', bins = 30, range=(2,5))\n",
    "df['ceiling_height'].value_counts()\n",
    "df['ceiling_height'].describe()\n",
    "df[df['ceiling_height'] > 4].sort_values('ceiling_height').tail(20)\n",
    "df = np.random.normal(0, 1, 10000)\n",
    "\n",
    "fig, ax = plt.subplots()\n",
    "\n",
    "ax.hist(df, bins = 50, rwidth = 0.4)\n",
    "\n",
    "ax.set_title('Нормальное распределение')\n",
    "\n",
    "plt.show()"
   ]
  },
  {
   "cell_type": "code",
   "execution_count": null,
   "metadata": {},
   "outputs": [],
   "source": [
    "df['locality_name'].value_counts()\n",
    "df['locality_name'].describe()\n",
    "df['locality_name'] = df['locality_name'].str.lower()\n",
    "df.drop_duplicates().reset_index(drop = True)"
   ]
  },
  {
   "cell_type": "code",
   "execution_count": null,
   "metadata": {},
   "outputs": [],
   "source": [
    "df.head(15)"
   ]
  },
  {
   "cell_type": "markdown",
   "metadata": {},
   "source": [
    "## Расчёты и добавление результатов в таблицу"
   ]
  },
  {
   "cell_type": "code",
   "execution_count": null,
   "metadata": {},
   "outputs": [],
   "source": [
    "#для удобства просмотра приведем к типу int\n",
    "df['price_per_square_meter'] = df['price_per_square_meter'].astype('int')"
   ]
  },
  {
   "cell_type": "code",
   "execution_count": null,
   "metadata": {},
   "outputs": [],
   "source": [
    "#создаю столбец дня недели\n",
    "df['weekday_exposition'] = df['first_day_exposition'].dt.weekday"
   ]
  },
  {
   "cell_type": "code",
   "execution_count": null,
   "metadata": {},
   "outputs": [],
   "source": [
    "#создаю столбец месяца\n",
    "df['month_exposition'] = df['first_day_exposition'].dt.month"
   ]
  },
  {
   "cell_type": "code",
   "execution_count": null,
   "metadata": {},
   "outputs": [],
   "source": [
    "#создаю столбец года\n",
    "df['year_exposition'] = df['first_day_exposition'].dt.year"
   ]
  },
  {
   "cell_type": "code",
   "execution_count": null,
   "metadata": {},
   "outputs": [],
   "source": [
    "#напишем функцию категоризации по этажам, используя метод apply применимо к каждой строке датафрейма через axis = 1\n",
    "def floor_category(row):\n",
    "    floors_total = row['floors_total']\n",
    "    floor = row['floor']\n",
    "    if floor == 1:\n",
    "        return 'первый'\n",
    "    elif floor == floors_total:\n",
    "        return 'последний'\n",
    "    elif 1 < floor < floors_total:\n",
    "        return 'другой'"
   ]
  },
  {
   "cell_type": "code",
   "execution_count": null,
   "metadata": {},
   "outputs": [],
   "source": [
    "#добавим столбец соотношения жилой плозади к общей\n",
    "df['useful_area_ratio'] = df['living_area'] / df['total_area']"
   ]
  },
  {
   "cell_type": "code",
   "execution_count": null,
   "metadata": {},
   "outputs": [],
   "source": [
    "#добавим столбец отношения площади кухни к общей\n",
    "df['kitchen_area_ratio'] = df['kitchen_area'] / df['total_area']"
   ]
  },
  {
   "cell_type": "markdown",
   "metadata": {},
   "source": [
    "## Исследовательский анализ данных"
   ]
  },
  {
   "cell_type": "code",
   "execution_count": null,
   "metadata": {},
   "outputs": [],
   "source": [
    "#изучим площадь\n",
    "df.plot(y = 'total_area', kind = 'hist', bins = 100, grid=True, figsize = (5,3), range = (0,500))\n",
    "df['total_area'].describe()"
   ]
  },
  {
   "cell_type": "code",
   "execution_count": null,
   "metadata": {},
   "outputs": [],
   "source": [
    "#изучим цену\n",
    "\n",
    "df.plot(y = 'last_price', kind = 'hist', bins = 100, grid=True, range = (0,15000000), figsize = (5,3))\n",
    "df['last_price'].describe()"
   ]
  },
  {
   "cell_type": "code",
   "execution_count": null,
   "metadata": {},
   "outputs": [],
   "source": [
    "\n",
    "#изучим число комнат\n",
    "df.plot(y = 'rooms', kind = 'hist', bins = 40, grid=True, figsize = (5,5))\n",
    "df['rooms'].describe()"
   ]
  },
  {
   "cell_type": "code",
   "execution_count": null,
   "metadata": {},
   "outputs": [],
   "source": [
    "#изучим высоту потолков\n",
    "\n",
    "df.plot(y = 'ceiling_height', kind = 'hist', bins = 30, range = (3,5), grid=True, figsize = (6,4))\n",
    "df['ceiling_height'].describe()"
   ]
  },
  {
   "cell_type": "markdown",
   "metadata": {},
   "source": [
    "Общая площадь в нашей выборке колеблется от 12 до 900 м2, среднее значение 60, а медиана 52 м2. \n",
    "\n",
    "Цены на недвижимость имеют среднее значение в 6,5 млн руб., медиана 4,6 млн руб.\n",
    "\n",
    "Количество комнат колеблется от 1 до 19. Больше всего однокомнатных квартир.\n",
    "\n",
    "Высота потолков в среднем составляет 2,77 м, медиана 2,65 м.\n",
    "\n",
    "Во всех данных есть странные или пропущенные  значения, наподобе 0 комнат, высоты потолков в 1 или 100 метров, а также цена квартиры в 12 тыс рублей. О качестве выборки значений нужно узнать  у сотрудника, который делал выборку данных, значения \"странные\" убирать не станем, что бы это не повлияло на исследование.\n"
   ]
  },
  {
   "cell_type": "code",
   "execution_count": null,
   "metadata": {},
   "outputs": [],
   "source": [
    "print(df.columns)"
   ]
  },
  {
   "cell_type": "code",
   "execution_count": null,
   "metadata": {},
   "outputs": [],
   "source": [
    "df.plot(y = 'days_exposition', kind = 'hist', bins = 30, grid = True, range = (1,1600))\n",
    "df.plot(y = 'days_exposition', kind = 'hist', bins = 100, grid = True, range = (1,200))\n",
    "df['days_exposition'].describe()\n",
    "df[df['days_exposition']!=0]['days_exposition'].value_counts()"
   ]
  },
  {
   "cell_type": "markdown",
   "metadata": {},
   "source": [
    "Среднее значение - 180 дней, а медиана - 74 дня. Сделав гистограмму со значениями от 0 до 200 с кол-вом корзин 100, обнаружили выбивающиеся значения и методом value_counts убедились в этом. Есть аномалии на 45, 60, 7, 30, 90 днях это наиболее популярное количество дней до снятия объявления.\n",
    "\n"
   ]
  },
  {
   "cell_type": "code",
   "execution_count": null,
   "metadata": {},
   "outputs": [],
   "source": [
    "#отфильтруем данные от аномалий и запишем их в новый датафрейм good_data\n",
    "good_data = df.query('days_exposition != 45 and days_exposition != 30 and days_exposition != 60 and days_exposition != 90 and days_exposition != 7 and days_exposition != 0')\n"
   ]
  },
  {
   "cell_type": "code",
   "execution_count": null,
   "metadata": {},
   "outputs": [],
   "source": [
    "good_data.plot(y = 'days_exposition', kind = 'hist', bins = 40, grid = True, range = (1,1500))\n",
    "good_data.plot(y = 'days_exposition', kind = 'hist', bins = 100, grid = True, range = (1,200))\n"
   ]
  },
  {
   "cell_type": "code",
   "execution_count": null,
   "metadata": {},
   "outputs": [],
   "source": [
    "good_data['days_exposition'].value_counts()\n"
   ]
  },
  {
   "cell_type": "code",
   "execution_count": null,
   "metadata": {},
   "outputs": [],
   "source": [
    "good_data['days_exposition'].describe()"
   ]
  },
  {
   "cell_type": "markdown",
   "metadata": {},
   "source": [
    "Вывод: В очищенных данных с аномалиями в значениях меньших медианы получаем бОльшие значения медианы и среднего значения - 114 и 195 соответственно, вместо 74 и 180."
   ]
  },
  {
   "cell_type": "code",
   "execution_count": null,
   "metadata": {},
   "outputs": [],
   "source": [
    "pivot_table_total_area = df.pivot_table(index = 'total_area', values = 'price_per_square_meter', aggfunc = ['mean', 'count', 'median'])\n",
    "pivot_table_total_area.columns = ['mean', 'count', 'median']\n",
    "pivot_table_total_area.plot(y = 'median', style = 'o')\n",
    "\n",
    "pivot_table_total_area.sort_values('median', ascending = False)\n",
    "\n",
    "df['total_area'].corr(df['price_per_square_meter'])"
   ]
  },
  {
   "cell_type": "markdown",
   "metadata": {},
   "source": [
    "Вывод: видим, что зависимость очень слабая - согласно корреляции = 0.3! Чем больше площадь тем  выше стоимость"
   ]
  },
  {
   "cell_type": "code",
   "execution_count": null,
   "metadata": {},
   "outputs": [],
   "source": [
    "pivot_table_rooms = df.pivot_table(index = 'rooms', values = 'price_per_square_meter', aggfunc = ['mean', 'count', 'median'])\n",
    "pivot_table_rooms.columns = ['mean', 'count', 'median']\n",
    "pivot_table_rooms.query('count > 50').plot(y = 'median', style = 'o')\n",
    "\n",
    "pivot_table_rooms.query('count > 50').sort_values('median', ascending = False)\n",
    "\n",
    "df['rooms'].corr(df['price_per_square_meter'])"
   ]
  },
  {
   "cell_type": "markdown",
   "metadata": {},
   "source": [
    "#чем ближе количество комнат к 3 тем ниже стоимость квадратного метра."
   ]
  },
  {
   "cell_type": "code",
   "execution_count": null,
   "metadata": {},
   "outputs": [],
   "source": [
    "pivot_table_floor_category = df.query('floor_category != \"другой\"').pivot_table(index = 'floor_category', values = 'price_per_square_meter', aggfunc = ['mean', 'count', 'median'])\n",
    "pivot_table_floor_category.columns = ['mean', 'count', 'median']\n",
    "pivot_table_floor_category.plot(y = 'median')\n",
    "pivot_table_floor_category\n",
    "#зависимость цены квадратного метра от этажа"
   ]
  },
  {
   "cell_type": "code",
   "execution_count": null,
   "metadata": {},
   "outputs": [],
   "source": [
    "#зависимость цены квадратного метра удалённости от центра\n",
    "df.plot(kind = 'scatter', y = 'price_per_square_meter', x = 'cityCenters_nearest', alpha = 0.3)\n",
    "\n",
    "df['cityCenters_nearest'].corr(df['price_per_square_meter'])\n"
   ]
  },
  {
   "cell_type": "code",
   "execution_count": null,
   "metadata": {},
   "outputs": [],
   "source": [
    "#Чем ближе к центру, тем выше стоимость"
   ]
  },
  {
   "cell_type": "code",
   "execution_count": null,
   "metadata": {},
   "outputs": [],
   "source": [
    "pivot_table_weekday_exposition = df.pivot_table(index = 'weekday_exposition', values = 'price_per_square_meter', aggfunc = ['mean', 'count', 'median'])\n",
    "pivot_table_weekday_exposition.columns = ['mean', 'count', 'median']\n",
    "pivot_table_weekday_exposition.plot(y = 'median')\n",
    "\n",
    "pivot_table_weekday_exposition.sort_values('median', ascending = False)"
   ]
  },
  {
   "cell_type": "markdown",
   "metadata": {},
   "source": [
    "Вывод: чем ближе ко вторнику выставлены объявления тем в среднем выше стоимость, но незначительно, по субботам стоимость самая низкая.\n"
   ]
  },
  {
   "cell_type": "code",
   "execution_count": null,
   "metadata": {},
   "outputs": [],
   "source": [
    "#зависимость цены квадратного метра от даты размещения: месяца.\n",
    "\n",
    "pivot_table_month_exposition = df.pivot_table(index = 'month_exposition', values = 'price_per_square_meter', aggfunc = ['mean', 'count', 'median'])\n",
    "pivot_table_month_exposition.columns = ['mean', 'count', 'median']\n",
    "pivot_table_month_exposition.plot(y = 'median')\n",
    "\n",
    "pivot_table_month_exposition.sort_values('median', ascending = False)"
   ]
  },
  {
   "cell_type": "markdown",
   "metadata": {},
   "source": [
    "Вывод:самая высокая стоимость метра в апреле и августе.Самая низкая стоимость в мае и июне. Возможно это может быть связано сс сезоном отпусков."
   ]
  },
  {
   "cell_type": "code",
   "execution_count": null,
   "metadata": {},
   "outputs": [],
   "source": [
    "#зависимость цены квадратного метра от даты размещения: года\n",
    "\n",
    "#pivot_table_year_exposition = df.pivot_table(index = 'year_exposition', values = 'price_per_square_meter', aggfunc = ['mean', 'count', 'median'])\n",
    "#pivot_table_year_exposition.columns = ['mean', 'count', 'median']\n",
    "#pivot_table_year_exposition.plot(y = 'median')\n",
    "\n",
    "#pivot_table_month_exposition.sort_values('median', ascending = False)\n",
    "import seaborn as sns\n",
    "\n",
    "sns.pairplot(df[['last_price', 'price_per_square_meter', 'total_area', 'rooms', 'cityCenters_nearest']].corr())\n",
    "\n"
   ]
  },
  {
   "cell_type": "markdown",
   "metadata": {},
   "source": [
    "Вывод: с 2014 до 2016 года цена падала, но далее начала увеличиваться"
   ]
  },
  {
   "cell_type": "code",
   "execution_count": null,
   "metadata": {},
   "outputs": [],
   "source": [
    "locality_pivot_table = df.pivot_table(index = 'locality_name', values = 'price_per_square_meter', aggfunc=['count', 'mean'])\n",
    "locality_pivot_table.columns = ['count', 'mean']\n",
    "locality_pivot_table = locality_pivot_table.sort_values('count', ascending = False).head(10)\n",
    "locality_pivot_table\n",
    "#самая высокая стоимость\n",
    "locality_pivot_table[locality_pivot_table['mean']==locality_pivot_table['mean'].max()]\n",
    "#самая низкая стоимость\n",
    "locality_pivot_table[locality_pivot_table['mean']==locality_pivot_table['mean'].min()]"
   ]
  },
  {
   "cell_type": "markdown",
   "metadata": {},
   "source": [
    "Вывод: Самая высокая стоимость жилья из 10 населённых пунктов с самым большим количеством объявлений в Санкт-Петербурге, тогда как самая низкая стоимость в Выборге."
   ]
  },
  {
   "cell_type": "code",
   "execution_count": null,
   "metadata": {},
   "outputs": [],
   "source": [
    "df['cityCenters_nearest_km'] = df['cityCenters_nearest']/1000\n",
    "df['cityCenters_nearest_km'] = df['cityCenters_nearest_km'].fillna(999999)\n",
    "df['cityCenters_nearest_km'] = df['cityCenters_nearest_km'].astype('int')\n",
    "pivot_table_km = df.query('locality_name == \"Санкт-Петербург\" and cityCenters_nearest_km !=999999').pivot_table(index = 'cityCenters_nearest_km', values = 'price_per_square_meter', aggfunc = 'mean')\n",
    "pivot_table_km.plot()\n",
    "pivot_table_km"
   ]
  },
  {
   "cell_type": "markdown",
   "metadata": {},
   "source": [
    "Вывод:судя по графику центром считать будем радиус в 3-4 километра"
   ]
  },
  {
   "cell_type": "code",
   "execution_count": null,
   "metadata": {},
   "outputs": [],
   "source": [
    "#выделим квартиры в центре, беря за радиус 3 км\n",
    "center_spb_df = df.query('cityCenters_nearest_km <= 5 and locality_name == \"Санкт-Петербург\"')"
   ]
  },
  {
   "cell_type": "code",
   "execution_count": null,
   "metadata": {},
   "outputs": [],
   "source": [
    "#Зависимость стоимости квадратного метра от количества комнат.\n",
    "\n",
    "center_spb_rooms = center_spb_df.pivot_table(index = 'rooms', values = 'price_per_square_meter', aggfunc = ['mean', 'count', 'median'])\n",
    "center_spb_rooms.columns = ['mean', 'count', 'median']\n",
    "center_spb_rooms.query('count > 50').plot(y = 'median')\n",
    "\n",
    "center_spb_rooms.query('count > 50').sort_values('median', ascending = False)\n",
    "\n",
    "center_spb_df['rooms'].corr(center_spb_df['price_per_square_meter'])"
   ]
  },
  {
   "cell_type": "markdown",
   "metadata": {},
   "source": [
    "Вывод: в центре СПБ чем меньше комнат тем дороже стоимость метра квадратного, что конечно немного не логично."
   ]
  },
  {
   "cell_type": "markdown",
   "metadata": {},
   "source": [
    "Вывод: Квартиры на первом этаже в среднем дешевле, чем на последнем"
   ]
  },
  {
   "cell_type": "code",
   "execution_count": null,
   "metadata": {},
   "outputs": [],
   "source": [
    "#Зависимость стоимости квадратного метра от удаленности от центра.\n",
    "\n",
    "center_spb_df.plot(kind = 'scatter', y = 'price_per_square_meter', x = 'cityCenters_nearest', alpha = 0.3)\n",
    "\n",
    "center_spb_df['cityCenters_nearest'].corr(center_spb_df['price_per_square_meter'])\n"
   ]
  },
  {
   "cell_type": "markdown",
   "metadata": {},
   "source": [
    "Вывод: зависимости нет"
   ]
  },
  {
   "cell_type": "code",
   "execution_count": null,
   "metadata": {},
   "outputs": [],
   "source": [
    "#Зависимость стоимости квадратного метра от дня недели размещения объявления.\n",
    "\n",
    "center_spb_weekday_exposition = center_spb_df.pivot_table(index = 'weekday_exposition', values = 'price_per_square_meter', aggfunc = ['mean', 'count', 'median'])\n",
    "center_spb_weekday_exposition.columns = ['mean', 'count', 'median']\n",
    "center_spb_weekday_exposition.plot(y = 'median')\n",
    "\n",
    "center_spb_weekday_exposition.sort_values('median', ascending = False)"
   ]
  },
  {
   "cell_type": "markdown",
   "metadata": {},
   "source": [
    "Вывод: Минимальные средние цены в четверг и воскресенье, самые высокие  в понедельник и субботу. "
   ]
  },
  {
   "cell_type": "code",
   "execution_count": null,
   "metadata": {},
   "outputs": [],
   "source": [
    "#Зависимость стоимости квадратного метра от месяца размещения объявления.\n",
    "\n",
    "center_spb_weekday_exposition = center_spb_df.pivot_table(index = 'month_exposition', values = 'price_per_square_meter', aggfunc = ['mean', 'count', 'median'])\n",
    "center_spb_weekday_exposition.columns = ['mean', 'count', 'median']\n",
    "center_spb_weekday_exposition.plot(y = 'median')\n",
    "\n",
    "center_spb_weekday_exposition.sort_values('median', ascending = False)"
   ]
  },
  {
   "cell_type": "markdown",
   "metadata": {},
   "source": [
    "Вывод:Cамая высокая стоимость метра в апреле и август а самая низкая стоимость в мае и июне"
   ]
  },
  {
   "cell_type": "code",
   "execution_count": null,
   "metadata": {},
   "outputs": [],
   "source": [
    " #Звисимость стоимости квадратного метра от года размещения объявления.\n",
    "\n",
    "center_spb_year_exposition = center_spb_df.pivot_table(index = 'year_exposition', values = 'price_per_square_meter', aggfunc = ['mean', 'count', 'median'])\n",
    "center_spb_year_exposition.columns = ['mean', 'count', 'median']\n",
    "center_spb_year_exposition.query('count > 50').plot(y = 'median')\n",
    "\n",
    "center_spb_year_exposition.query('count > 50').sort_values('median', ascending = False)"
   ]
  },
  {
   "cell_type": "markdown",
   "metadata": {},
   "source": [
    "Вывод: цены в центре d  2016-2017 годах не падали, а планомерно расли"
   ]
  },
  {
   "cell_type": "markdown",
   "metadata": {},
   "source": [
    "Общий вывод: Мы обработали полученный архив данных, обработали пропущенные значения там, где это необходимо, заменили типы данных для удобной работы. Добавили в таблицу цену квадратного метра жилья, вывели из даты дни недели, месяцы и года размещения объявлений, добавили категории по этажам квартир. Изучили  параметры на наличие выбивающихся значений таких как: площадь, цена, число комнат, высота потолков.На стоимость квадратного метра квартиры больше всего влияют количество комнат, этаж квартиры, близость к центру. Незначительно на стоимость квадратного метра влияют день, месяц, год размещения и общая площадь.В 2016-2017 годах стоимость квартир в среднем по рынку была ниже на 10-20 %, тогда как в центре Санкт-Петербурга данной зависимости от года не обнаружено.Судя, по резкости изменения цен в зависимости от удаления от центра СПБ, мы выявили центр города в радиусе 5 километров.\n"
   ]
  }
 ],
 "metadata": {
  "ExecuteTimeLog": [
   {
    "duration": 58,
    "start_time": "2021-12-12T09:15:42.862Z"
   },
   {
    "duration": 764,
    "start_time": "2021-12-12T09:15:47.924Z"
   },
   {
    "duration": 92,
    "start_time": "2021-12-12T09:16:21.474Z"
   },
   {
    "duration": 65,
    "start_time": "2021-12-12T09:16:31.785Z"
   },
   {
    "duration": 11,
    "start_time": "2021-12-12T09:18:29.834Z"
   },
   {
    "duration": 11,
    "start_time": "2021-12-12T09:18:43.400Z"
   },
   {
    "duration": 633,
    "start_time": "2021-12-12T09:19:15.287Z"
   },
   {
    "duration": 14,
    "start_time": "2021-12-12T09:19:43.239Z"
   },
   {
    "duration": 11,
    "start_time": "2021-12-12T09:19:57.268Z"
   },
   {
    "duration": 93,
    "start_time": "2021-12-12T09:20:01.507Z"
   },
   {
    "duration": 65,
    "start_time": "2021-12-12T09:20:09.105Z"
   },
   {
    "duration": 68,
    "start_time": "2021-12-12T09:20:12.248Z"
   },
   {
    "duration": 67,
    "start_time": "2021-12-12T09:20:14.941Z"
   },
   {
    "duration": 62,
    "start_time": "2021-12-12T09:36:02.966Z"
   },
   {
    "duration": 68,
    "start_time": "2021-12-12T09:36:06.445Z"
   },
   {
    "duration": 61,
    "start_time": "2021-12-12T09:36:36.078Z"
   },
   {
    "duration": 68,
    "start_time": "2021-12-12T09:36:55.117Z"
   },
   {
    "duration": 96,
    "start_time": "2021-12-12T09:37:35.312Z"
   },
   {
    "duration": 106,
    "start_time": "2021-12-12T09:42:39.954Z"
   },
   {
    "duration": 24,
    "start_time": "2021-12-12T09:50:01.322Z"
   },
   {
    "duration": 162,
    "start_time": "2021-12-12T09:50:58.890Z"
   },
   {
    "duration": 170,
    "start_time": "2021-12-12T09:51:11.873Z"
   },
   {
    "duration": 4,
    "start_time": "2021-12-12T09:51:20.439Z"
   },
   {
    "duration": 187,
    "start_time": "2021-12-12T09:51:52.098Z"
   },
   {
    "duration": 21,
    "start_time": "2021-12-12T09:52:20.717Z"
   },
   {
    "duration": 24,
    "start_time": "2021-12-12T09:54:49.766Z"
   },
   {
    "duration": 176,
    "start_time": "2021-12-12T10:02:00.069Z"
   },
   {
    "duration": 7,
    "start_time": "2021-12-12T10:02:11.418Z"
   },
   {
    "duration": 23,
    "start_time": "2021-12-12T10:05:45.390Z"
   },
   {
    "duration": 177,
    "start_time": "2021-12-12T10:06:28.647Z"
   },
   {
    "duration": 11,
    "start_time": "2021-12-12T10:06:33.248Z"
   },
   {
    "duration": 10,
    "start_time": "2021-12-12T10:07:09.159Z"
   },
   {
    "duration": 174,
    "start_time": "2021-12-12T10:08:57.500Z"
   },
   {
    "duration": 9,
    "start_time": "2021-12-12T10:09:24.324Z"
   },
   {
    "duration": 407,
    "start_time": "2021-12-12T10:11:41.838Z"
   },
   {
    "duration": 8,
    "start_time": "2021-12-12T10:11:56.820Z"
   },
   {
    "duration": 7,
    "start_time": "2021-12-12T10:12:57.869Z"
   },
   {
    "duration": 5,
    "start_time": "2021-12-12T10:13:19.275Z"
   },
   {
    "duration": 168,
    "start_time": "2021-12-12T10:13:59.734Z"
   },
   {
    "duration": 161,
    "start_time": "2021-12-12T10:14:07.871Z"
   },
   {
    "duration": 164,
    "start_time": "2021-12-12T10:14:19.888Z"
   },
   {
    "duration": 5,
    "start_time": "2021-12-12T10:14:52.513Z"
   },
   {
    "duration": 3,
    "start_time": "2021-12-12T10:15:12.470Z"
   },
   {
    "duration": 8,
    "start_time": "2021-12-12T10:15:25.532Z"
   },
   {
    "duration": 34,
    "start_time": "2021-12-12T10:15:44.932Z"
   },
   {
    "duration": 326,
    "start_time": "2021-12-12T10:17:11.199Z"
   },
   {
    "duration": 243,
    "start_time": "2021-12-12T10:17:52.789Z"
   },
   {
    "duration": 229,
    "start_time": "2021-12-12T10:18:09.048Z"
   },
   {
    "duration": 284,
    "start_time": "2021-12-12T10:18:12.528Z"
   },
   {
    "duration": 251,
    "start_time": "2021-12-12T10:18:21.799Z"
   },
   {
    "duration": 168,
    "start_time": "2021-12-12T10:18:50.614Z"
   },
   {
    "duration": 11,
    "start_time": "2021-12-12T10:18:56.659Z"
   },
   {
    "duration": 30,
    "start_time": "2021-12-12T10:19:17.142Z"
   },
   {
    "duration": 36,
    "start_time": "2021-12-12T10:19:28.402Z"
   },
   {
    "duration": 5,
    "start_time": "2021-12-12T10:22:51.943Z"
   },
   {
    "duration": 4,
    "start_time": "2021-12-12T10:22:54.926Z"
   },
   {
    "duration": 4,
    "start_time": "2021-12-12T10:23:03.792Z"
   },
   {
    "duration": 4,
    "start_time": "2021-12-12T10:23:10.804Z"
   },
   {
    "duration": 444,
    "start_time": "2021-12-12T10:23:34.835Z"
   },
   {
    "duration": 4,
    "start_time": "2021-12-12T10:23:45.864Z"
   },
   {
    "duration": 167,
    "start_time": "2021-12-12T10:25:01.041Z"
   },
   {
    "duration": 4,
    "start_time": "2021-12-12T10:25:10.032Z"
   },
   {
    "duration": 262,
    "start_time": "2021-12-12T10:25:51.640Z"
   },
   {
    "duration": 5,
    "start_time": "2021-12-12T10:26:05.067Z"
   },
   {
    "duration": 6,
    "start_time": "2021-12-12T10:27:22.356Z"
   },
   {
    "duration": 6,
    "start_time": "2021-12-12T10:27:24.790Z"
   },
   {
    "duration": 6,
    "start_time": "2021-12-12T10:27:26.483Z"
   },
   {
    "duration": 6,
    "start_time": "2021-12-12T10:28:17.873Z"
   },
   {
    "duration": 5,
    "start_time": "2021-12-12T10:28:19.169Z"
   },
   {
    "duration": 53,
    "start_time": "2021-12-12T10:30:01.904Z"
   },
   {
    "duration": 3,
    "start_time": "2021-12-12T10:30:12.957Z"
   },
   {
    "duration": 4,
    "start_time": "2021-12-12T10:31:17.214Z"
   },
   {
    "duration": 498,
    "start_time": "2021-12-12T10:31:20.015Z"
   },
   {
    "duration": 4,
    "start_time": "2021-12-12T10:31:20.590Z"
   },
   {
    "duration": 5,
    "start_time": "2021-12-12T10:31:21.107Z"
   },
   {
    "duration": 640,
    "start_time": "2021-12-13T10:03:07.878Z"
   },
   {
    "duration": 440,
    "start_time": "2021-12-13T10:03:19.975Z"
   },
   {
    "duration": 454,
    "start_time": "2021-12-13T10:03:23.973Z"
   },
   {
    "duration": 887,
    "start_time": "2021-12-13T10:03:27.999Z"
   },
   {
    "duration": 34,
    "start_time": "2021-12-13T10:03:28.888Z"
   },
   {
    "duration": 5,
    "start_time": "2021-12-13T10:03:28.925Z"
   },
   {
    "duration": 12,
    "start_time": "2021-12-13T10:03:29.016Z"
   },
   {
    "duration": 12,
    "start_time": "2021-12-13T10:03:29.182Z"
   },
   {
    "duration": 10,
    "start_time": "2021-12-13T10:03:29.342Z"
   },
   {
    "duration": 8,
    "start_time": "2021-12-13T10:03:29.515Z"
   },
   {
    "duration": 9,
    "start_time": "2021-12-13T10:03:29.685Z"
   },
   {
    "duration": 54,
    "start_time": "2021-12-13T10:03:29.864Z"
   },
   {
    "duration": 518,
    "start_time": "2021-12-13T10:03:30.030Z"
   },
   {
    "duration": 21,
    "start_time": "2021-12-13T10:03:30.551Z"
   },
   {
    "duration": 42,
    "start_time": "2021-12-13T10:03:30.576Z"
   },
   {
    "duration": 7,
    "start_time": "2021-12-13T10:03:30.716Z"
   },
   {
    "duration": 5,
    "start_time": "2021-12-13T10:03:30.871Z"
   },
   {
    "duration": 9,
    "start_time": "2021-12-13T10:03:31.037Z"
   },
   {
    "duration": 8,
    "start_time": "2021-12-13T10:03:31.239Z"
   },
   {
    "duration": 8,
    "start_time": "2021-12-13T10:03:31.408Z"
   },
   {
    "duration": 5,
    "start_time": "2021-12-13T10:03:31.573Z"
   },
   {
    "duration": 864,
    "start_time": "2021-12-13T10:03:31.756Z"
   },
   {
    "duration": 6,
    "start_time": "2021-12-13T10:03:32.624Z"
   },
   {
    "duration": 9,
    "start_time": "2021-12-13T10:03:32.633Z"
   },
   {
    "duration": 598,
    "start_time": "2021-12-13T10:03:32.780Z"
   },
   {
    "duration": 141,
    "start_time": "2021-12-13T10:03:37.534Z"
   },
   {
    "duration": 37,
    "start_time": "2021-12-13T10:03:38.332Z"
   },
   {
    "duration": 6,
    "start_time": "2021-12-13T10:03:38.513Z"
   },
   {
    "duration": 12,
    "start_time": "2021-12-13T10:03:38.689Z"
   },
   {
    "duration": 13,
    "start_time": "2021-12-13T10:03:38.873Z"
   },
   {
    "duration": 10,
    "start_time": "2021-12-13T10:03:39.040Z"
   },
   {
    "duration": 8,
    "start_time": "2021-12-13T10:03:39.185Z"
   },
   {
    "duration": 9,
    "start_time": "2021-12-13T10:03:39.357Z"
   },
   {
    "duration": 52,
    "start_time": "2021-12-13T10:03:39.534Z"
   },
   {
    "duration": 382,
    "start_time": "2021-12-13T10:03:39.708Z"
   },
   {
    "duration": 14,
    "start_time": "2021-12-13T10:03:40.093Z"
   },
   {
    "duration": 58,
    "start_time": "2021-12-13T10:03:40.110Z"
   },
   {
    "duration": 6,
    "start_time": "2021-12-13T10:03:40.391Z"
   },
   {
    "duration": 5,
    "start_time": "2021-12-13T10:03:40.570Z"
   },
   {
    "duration": 10,
    "start_time": "2021-12-13T10:03:40.735Z"
   },
   {
    "duration": 7,
    "start_time": "2021-12-13T10:03:40.907Z"
   },
   {
    "duration": 9,
    "start_time": "2021-12-13T10:03:41.080Z"
   },
   {
    "duration": 5,
    "start_time": "2021-12-13T10:03:41.251Z"
   },
   {
    "duration": 770,
    "start_time": "2021-12-13T10:03:41.418Z"
   },
   {
    "duration": 5,
    "start_time": "2021-12-13T10:03:42.190Z"
   },
   {
    "duration": 7,
    "start_time": "2021-12-13T10:03:42.198Z"
   },
   {
    "duration": 591,
    "start_time": "2021-12-13T10:03:42.426Z"
   },
   {
    "duration": 581,
    "start_time": "2021-12-13T10:03:55.974Z"
   },
   {
    "duration": 664,
    "start_time": "2021-12-13T10:04:30.574Z"
   },
   {
    "duration": 611,
    "start_time": "2021-12-13T10:05:49.877Z"
   },
   {
    "duration": 585,
    "start_time": "2021-12-13T10:09:23.097Z"
   },
   {
    "duration": 348,
    "start_time": "2021-12-13T10:09:37.877Z"
   },
   {
    "duration": 413,
    "start_time": "2021-12-13T10:09:46.537Z"
   },
   {
    "duration": 292,
    "start_time": "2021-12-13T10:09:51.729Z"
   },
   {
    "duration": 336,
    "start_time": "2021-12-13T10:09:58.374Z"
   },
   {
    "duration": 365,
    "start_time": "2021-12-13T10:10:13.854Z"
   },
   {
    "duration": 398,
    "start_time": "2021-12-13T10:10:28.974Z"
   },
   {
    "duration": 508,
    "start_time": "2021-12-13T10:10:35.019Z"
   },
   {
    "duration": 309,
    "start_time": "2021-12-13T10:10:37.994Z"
   },
   {
    "duration": 365,
    "start_time": "2021-12-13T10:10:49.220Z"
   },
   {
    "duration": 413,
    "start_time": "2021-12-13T10:11:07.006Z"
   },
   {
    "duration": 647,
    "start_time": "2021-12-13T10:11:23.901Z"
   },
   {
    "duration": 589,
    "start_time": "2021-12-13T10:11:33.351Z"
   },
   {
    "duration": 396,
    "start_time": "2021-12-13T10:11:43.010Z"
   },
   {
    "duration": 395,
    "start_time": "2021-12-13T10:12:10.426Z"
   },
   {
    "duration": 515,
    "start_time": "2021-12-13T10:12:19.609Z"
   },
   {
    "duration": 605,
    "start_time": "2021-12-13T10:12:37.049Z"
   },
   {
    "duration": 589,
    "start_time": "2021-12-13T10:13:03.914Z"
   },
   {
    "duration": 362,
    "start_time": "2021-12-13T10:13:22.623Z"
   },
   {
    "duration": 388,
    "start_time": "2021-12-13T10:13:25.559Z"
   },
   {
    "duration": 475,
    "start_time": "2021-12-13T10:13:33.987Z"
   },
   {
    "duration": 406,
    "start_time": "2021-12-13T10:13:39.944Z"
   },
   {
    "duration": 415,
    "start_time": "2021-12-13T10:13:46.609Z"
   },
   {
    "duration": 382,
    "start_time": "2021-12-13T10:13:50.998Z"
   },
   {
    "duration": 397,
    "start_time": "2021-12-13T10:13:56.852Z"
   },
   {
    "duration": 520,
    "start_time": "2021-12-13T10:17:15.859Z"
   },
   {
    "duration": 344,
    "start_time": "2021-12-13T10:17:20.145Z"
   },
   {
    "duration": 378,
    "start_time": "2021-12-13T10:17:39.053Z"
   },
   {
    "duration": 434,
    "start_time": "2021-12-13T10:17:42.493Z"
   },
   {
    "duration": 428,
    "start_time": "2021-12-13T10:38:11.167Z"
   },
   {
    "duration": 10,
    "start_time": "2021-12-13T10:38:15.070Z"
   },
   {
    "duration": 1013,
    "start_time": "2021-12-13T10:39:48.182Z"
   },
   {
    "duration": 1115,
    "start_time": "2021-12-13T10:41:03.997Z"
   },
   {
    "duration": 1121,
    "start_time": "2021-12-13T10:45:23.142Z"
   },
   {
    "duration": 353,
    "start_time": "2021-12-13T10:48:53.475Z"
   },
   {
    "duration": 17,
    "start_time": "2021-12-13T10:49:12.616Z"
   },
   {
    "duration": 1022,
    "start_time": "2021-12-13T10:49:55.711Z"
   },
   {
    "duration": 1052,
    "start_time": "2021-12-13T10:50:12.912Z"
   },
   {
    "duration": 1052,
    "start_time": "2021-12-13T10:50:28.918Z"
   },
   {
    "duration": 9,
    "start_time": "2021-12-13T10:53:03.555Z"
   },
   {
    "duration": 12,
    "start_time": "2021-12-13T10:53:07.305Z"
   },
   {
    "duration": 409,
    "start_time": "2021-12-13T11:04:57.401Z"
   },
   {
    "duration": 375,
    "start_time": "2021-12-13T11:07:03.480Z"
   },
   {
    "duration": 330,
    "start_time": "2021-12-13T11:07:20.171Z"
   },
   {
    "duration": 326,
    "start_time": "2021-12-13T11:08:42.051Z"
   },
   {
    "duration": 320,
    "start_time": "2021-12-13T11:08:47.857Z"
   },
   {
    "duration": 327,
    "start_time": "2021-12-13T11:09:06.634Z"
   },
   {
    "duration": 314,
    "start_time": "2021-12-13T11:09:11.134Z"
   },
   {
    "duration": 331,
    "start_time": "2021-12-13T11:09:17.714Z"
   },
   {
    "duration": 644,
    "start_time": "2021-12-13T11:09:45.873Z"
   },
   {
    "duration": 324,
    "start_time": "2021-12-13T11:09:57.346Z"
   },
   {
    "duration": 722,
    "start_time": "2021-12-15T20:18:08.443Z"
   },
   {
    "duration": 39,
    "start_time": "2021-12-15T20:18:09.168Z"
   },
   {
    "duration": 5,
    "start_time": "2021-12-15T20:18:09.416Z"
   },
   {
    "duration": 8,
    "start_time": "2021-12-15T20:18:09.585Z"
   },
   {
    "duration": 12,
    "start_time": "2021-12-15T20:18:09.626Z"
   },
   {
    "duration": 9,
    "start_time": "2021-12-15T20:18:09.924Z"
   },
   {
    "duration": 7,
    "start_time": "2021-12-15T20:18:09.977Z"
   },
   {
    "duration": 6,
    "start_time": "2021-12-15T20:18:10.140Z"
   },
   {
    "duration": 32,
    "start_time": "2021-12-15T20:18:10.337Z"
   },
   {
    "duration": 474,
    "start_time": "2021-12-15T20:18:10.511Z"
   },
   {
    "duration": 13,
    "start_time": "2021-12-15T20:18:10.987Z"
   },
   {
    "duration": 23,
    "start_time": "2021-12-15T20:18:11.002Z"
   },
   {
    "duration": 6,
    "start_time": "2021-12-15T20:18:11.222Z"
   },
   {
    "duration": 4,
    "start_time": "2021-12-15T20:18:11.392Z"
   },
   {
    "duration": 7,
    "start_time": "2021-12-15T20:18:11.576Z"
   },
   {
    "duration": 7,
    "start_time": "2021-12-15T20:18:11.753Z"
   },
   {
    "duration": 6,
    "start_time": "2021-12-15T20:18:11.931Z"
   },
   {
    "duration": 4,
    "start_time": "2021-12-15T20:18:12.097Z"
   },
   {
    "duration": 472,
    "start_time": "2021-12-15T20:18:12.281Z"
   },
   {
    "duration": 4,
    "start_time": "2021-12-15T20:18:12.755Z"
   },
   {
    "duration": 5,
    "start_time": "2021-12-15T20:18:12.762Z"
   },
   {
    "duration": 485,
    "start_time": "2021-12-15T20:18:13.349Z"
   },
   {
    "duration": 538,
    "start_time": "2021-12-15T20:18:13.836Z"
   },
   {
    "duration": 364,
    "start_time": "2021-12-15T20:18:14.377Z"
   },
   {
    "duration": 247,
    "start_time": "2021-12-15T20:18:14.743Z"
   },
   {
    "duration": 4,
    "start_time": "2021-12-15T20:18:14.991Z"
   },
   {
    "duration": 761,
    "start_time": "2021-12-15T20:18:14.997Z"
   },
   {
    "duration": 11,
    "start_time": "2021-12-15T20:18:15.760Z"
   },
   {
    "duration": 725,
    "start_time": "2021-12-15T20:18:15.772Z"
   },
   {
    "duration": 7,
    "start_time": "2021-12-15T20:18:16.499Z"
   },
   {
    "duration": 18,
    "start_time": "2021-12-15T20:18:16.508Z"
   },
   {
    "duration": 210,
    "start_time": "2021-12-15T20:18:16.528Z"
   },
   {
    "duration": 198,
    "start_time": "2021-12-15T20:18:16.740Z"
   },
   {
    "duration": 96,
    "start_time": "2021-12-15T20:23:26.325Z"
   },
   {
    "duration": 22,
    "start_time": "2021-12-15T20:23:27.134Z"
   },
   {
    "duration": 5,
    "start_time": "2021-12-15T20:23:27.278Z"
   },
   {
    "duration": 7,
    "start_time": "2021-12-15T20:23:27.444Z"
   },
   {
    "duration": 10,
    "start_time": "2021-12-15T20:23:27.599Z"
   },
   {
    "duration": 6,
    "start_time": "2021-12-15T20:23:27.773Z"
   },
   {
    "duration": 5,
    "start_time": "2021-12-15T20:23:27.933Z"
   },
   {
    "duration": 5,
    "start_time": "2021-12-15T20:23:28.109Z"
   },
   {
    "duration": 31,
    "start_time": "2021-12-15T20:23:28.260Z"
   },
   {
    "duration": 224,
    "start_time": "2021-12-15T20:23:28.429Z"
   },
   {
    "duration": 9,
    "start_time": "2021-12-15T20:23:28.655Z"
   },
   {
    "duration": 23,
    "start_time": "2021-12-15T20:23:28.785Z"
   },
   {
    "duration": 4,
    "start_time": "2021-12-15T20:23:29.120Z"
   },
   {
    "duration": 4,
    "start_time": "2021-12-15T20:23:29.287Z"
   },
   {
    "duration": 6,
    "start_time": "2021-12-15T20:23:29.451Z"
   },
   {
    "duration": 6,
    "start_time": "2021-12-15T20:23:29.610Z"
   },
   {
    "duration": 5,
    "start_time": "2021-12-15T20:23:29.787Z"
   },
   {
    "duration": 3,
    "start_time": "2021-12-15T20:23:29.971Z"
   },
   {
    "duration": 437,
    "start_time": "2021-12-15T20:23:30.153Z"
   },
   {
    "duration": 4,
    "start_time": "2021-12-15T20:23:30.592Z"
   },
   {
    "duration": 13,
    "start_time": "2021-12-15T20:23:30.598Z"
   },
   {
    "duration": 395,
    "start_time": "2021-12-15T20:23:31.208Z"
   },
   {
    "duration": 354,
    "start_time": "2021-12-15T20:23:31.605Z"
   },
   {
    "duration": 278,
    "start_time": "2021-12-15T20:23:31.961Z"
   },
   {
    "duration": 472,
    "start_time": "2021-12-15T20:23:32.242Z"
   },
   {
    "duration": 4,
    "start_time": "2021-12-15T20:23:32.716Z"
   },
   {
    "duration": 631,
    "start_time": "2021-12-15T20:23:32.723Z"
   },
   {
    "duration": 10,
    "start_time": "2021-12-15T20:23:33.355Z"
   },
   {
    "duration": 630,
    "start_time": "2021-12-15T20:23:33.367Z"
   },
   {
    "duration": 6,
    "start_time": "2021-12-15T20:23:33.999Z"
   },
   {
    "duration": 9,
    "start_time": "2021-12-15T20:23:34.007Z"
   },
   {
    "duration": 224,
    "start_time": "2021-12-15T20:23:34.018Z"
   },
   {
    "duration": 196,
    "start_time": "2021-12-15T20:23:34.244Z"
   },
   {
    "duration": 311,
    "start_time": "2021-12-15T20:23:50.715Z"
   },
   {
    "duration": 292,
    "start_time": "2021-12-15T20:23:58.041Z"
   },
   {
    "duration": 160,
    "start_time": "2021-12-15T20:24:23.168Z"
   },
   {
    "duration": 328,
    "start_time": "2021-12-15T20:24:39.792Z"
   },
   {
    "duration": 2,
    "start_time": "2021-12-15T20:25:10.419Z"
   },
   {
    "duration": 228,
    "start_time": "2021-12-15T20:25:29.174Z"
   },
   {
    "duration": 553,
    "start_time": "2021-12-15T20:25:40.125Z"
   },
   {
    "duration": 3,
    "start_time": "2021-12-15T20:26:06.560Z"
   },
   {
    "duration": 242,
    "start_time": "2021-12-15T20:26:34.398Z"
   },
   {
    "duration": 253,
    "start_time": "2021-12-15T20:26:43.477Z"
   },
   {
    "duration": 80,
    "start_time": "2021-12-15T20:28:07.031Z"
   },
   {
    "duration": 309,
    "start_time": "2021-12-16T15:21:07.030Z"
   },
   {
    "duration": 1180,
    "start_time": "2021-12-16T15:21:37.069Z"
   },
   {
    "duration": 55,
    "start_time": "2021-12-16T15:21:38.253Z"
   },
   {
    "duration": 18,
    "start_time": "2021-12-16T15:21:38.312Z"
   },
   {
    "duration": 54,
    "start_time": "2021-12-16T15:21:38.332Z"
   },
   {
    "duration": 46,
    "start_time": "2021-12-16T15:21:38.389Z"
   },
   {
    "duration": 23,
    "start_time": "2021-12-16T15:21:38.439Z"
   },
   {
    "duration": 15,
    "start_time": "2021-12-16T15:21:38.472Z"
   },
   {
    "duration": 9,
    "start_time": "2021-12-16T15:21:38.617Z"
   },
   {
    "duration": 72,
    "start_time": "2021-12-16T15:21:38.785Z"
   },
   {
    "duration": 562,
    "start_time": "2021-12-16T15:21:38.939Z"
   },
   {
    "duration": 15,
    "start_time": "2021-12-16T15:21:39.504Z"
   },
   {
    "duration": 70,
    "start_time": "2021-12-16T15:21:39.522Z"
   },
   {
    "duration": 7,
    "start_time": "2021-12-16T15:21:39.594Z"
   },
   {
    "duration": 5,
    "start_time": "2021-12-16T15:21:39.744Z"
   },
   {
    "duration": 8,
    "start_time": "2021-12-16T15:21:39.912Z"
   },
   {
    "duration": 10,
    "start_time": "2021-12-16T15:21:40.067Z"
   },
   {
    "duration": 8,
    "start_time": "2021-12-16T15:21:40.209Z"
   },
   {
    "duration": 5,
    "start_time": "2021-12-16T15:21:40.372Z"
   },
   {
    "duration": 967,
    "start_time": "2021-12-16T15:21:40.539Z"
   },
   {
    "duration": 6,
    "start_time": "2021-12-16T15:21:41.509Z"
   },
   {
    "duration": 12,
    "start_time": "2021-12-16T15:21:41.517Z"
   },
   {
    "duration": 861,
    "start_time": "2021-12-16T15:21:41.541Z"
   },
   {
    "duration": 677,
    "start_time": "2021-12-16T15:21:42.405Z"
   },
   {
    "duration": 704,
    "start_time": "2021-12-16T15:21:43.085Z"
   },
   {
    "duration": 468,
    "start_time": "2021-12-16T15:21:43.792Z"
   },
   {
    "duration": 5,
    "start_time": "2021-12-16T15:21:44.263Z"
   },
   {
    "duration": 1250,
    "start_time": "2021-12-16T15:21:44.271Z"
   },
   {
    "duration": 19,
    "start_time": "2021-12-16T15:21:45.524Z"
   },
   {
    "duration": 1279,
    "start_time": "2021-12-16T15:21:45.545Z"
   },
   {
    "duration": 10,
    "start_time": "2021-12-16T15:21:46.826Z"
   },
   {
    "duration": 35,
    "start_time": "2021-12-16T15:21:46.838Z"
   },
   {
    "duration": 384,
    "start_time": "2021-12-16T15:21:46.877Z"
   },
   {
    "duration": 361,
    "start_time": "2021-12-16T15:21:47.269Z"
   },
   {
    "duration": 319,
    "start_time": "2021-12-16T15:21:47.633Z"
   },
   {
    "duration": 789,
    "start_time": "2021-12-16T15:21:47.956Z"
   },
   {
    "duration": 4,
    "start_time": "2021-12-16T15:21:48.748Z"
   },
   {
    "duration": 348,
    "start_time": "2021-12-16T15:21:48.754Z"
   },
   {
    "duration": 338,
    "start_time": "2021-12-16T15:21:52.080Z"
   },
   {
    "duration": 333,
    "start_time": "2021-12-16T15:24:42.429Z"
   },
   {
    "duration": 343,
    "start_time": "2021-12-16T15:25:17.139Z"
   },
   {
    "duration": 39,
    "start_time": "2021-12-16T15:29:59.891Z"
   },
   {
    "duration": 42,
    "start_time": "2021-12-16T15:32:35.644Z"
   },
   {
    "duration": 47,
    "start_time": "2021-12-16T15:32:38.472Z"
   },
   {
    "duration": 314,
    "start_time": "2021-12-16T15:33:30.322Z"
   },
   {
    "duration": 333,
    "start_time": "2021-12-16T15:33:48.216Z"
   },
   {
    "duration": 13,
    "start_time": "2021-12-16T15:35:25.500Z"
   },
   {
    "duration": 665,
    "start_time": "2021-12-16T15:35:58.388Z"
   },
   {
    "duration": 658,
    "start_time": "2021-12-16T15:36:04.118Z"
   },
   {
    "duration": 350,
    "start_time": "2021-12-16T15:36:06.972Z"
   },
   {
    "duration": 395,
    "start_time": "2021-12-16T15:40:47.256Z"
   },
   {
    "duration": 293,
    "start_time": "2021-12-16T15:40:58.792Z"
   },
   {
    "duration": 76,
    "start_time": "2021-12-16T15:41:26.561Z"
   },
   {
    "duration": 296,
    "start_time": "2021-12-16T15:42:14.730Z"
   },
   {
    "duration": 283,
    "start_time": "2021-12-16T15:59:40.737Z"
   },
   {
    "duration": 506,
    "start_time": "2021-12-16T15:59:50.512Z"
   },
   {
    "duration": 492,
    "start_time": "2021-12-16T16:01:23.952Z"
   },
   {
    "duration": 9,
    "start_time": "2021-12-16T16:04:59.921Z"
   },
   {
    "duration": 490,
    "start_time": "2021-12-16T16:05:26.581Z"
   },
   {
    "duration": 336,
    "start_time": "2021-12-16T16:10:46.851Z"
   },
   {
    "duration": 345,
    "start_time": "2021-12-16T16:12:43.274Z"
   },
   {
    "duration": 115,
    "start_time": "2021-12-16T16:13:12.215Z"
   },
   {
    "duration": 114,
    "start_time": "2021-12-16T16:17:36.635Z"
   },
   {
    "duration": 277,
    "start_time": "2021-12-16T16:17:48.818Z"
   },
   {
    "duration": 348,
    "start_time": "2021-12-16T16:17:56.697Z"
   },
   {
    "duration": 128,
    "start_time": "2021-12-16T16:18:30.291Z"
   },
   {
    "duration": 783,
    "start_time": "2021-12-17T07:45:18.253Z"
   },
   {
    "duration": 293,
    "start_time": "2021-12-17T07:45:24.307Z"
   },
   {
    "duration": 24,
    "start_time": "2021-12-17T07:45:25.240Z"
   },
   {
    "duration": 5,
    "start_time": "2021-12-17T07:45:25.410Z"
   },
   {
    "duration": 8,
    "start_time": "2021-12-17T07:45:25.578Z"
   },
   {
    "duration": 8,
    "start_time": "2021-12-17T07:45:25.746Z"
   },
   {
    "duration": 8,
    "start_time": "2021-12-17T07:45:25.914Z"
   },
   {
    "duration": 5,
    "start_time": "2021-12-17T07:45:26.230Z"
   },
   {
    "duration": 7,
    "start_time": "2021-12-17T07:45:26.581Z"
   },
   {
    "duration": 35,
    "start_time": "2021-12-17T07:45:26.919Z"
   },
   {
    "duration": 458,
    "start_time": "2021-12-17T07:45:27.122Z"
   },
   {
    "duration": 298,
    "start_time": "2021-12-17T07:45:27.581Z"
   },
   {
    "duration": 291,
    "start_time": "2021-12-17T07:45:33.695Z"
   },
   {
    "duration": 294,
    "start_time": "2021-12-17T07:45:34.215Z"
   },
   {
    "duration": -130,
    "start_time": "2021-12-17T07:45:34.641Z"
   },
   {
    "duration": 290,
    "start_time": "2021-12-17T07:45:34.594Z"
   },
   {
    "duration": -115,
    "start_time": "2021-12-17T07:45:35.001Z"
   },
   {
    "duration": 299,
    "start_time": "2021-12-17T07:45:34.951Z"
   },
   {
    "duration": -10,
    "start_time": "2021-12-17T07:45:35.262Z"
   },
   {
    "duration": 290,
    "start_time": "2021-12-17T07:45:35.356Z"
   },
   {
    "duration": 101,
    "start_time": "2021-12-17T07:45:41.421Z"
   },
   {
    "duration": 23,
    "start_time": "2021-12-17T07:45:44.107Z"
   },
   {
    "duration": 5,
    "start_time": "2021-12-17T07:45:44.292Z"
   },
   {
    "duration": 11,
    "start_time": "2021-12-17T07:49:06.071Z"
   },
   {
    "duration": 26,
    "start_time": "2021-12-17T07:49:06.995Z"
   },
   {
    "duration": 13,
    "start_time": "2021-12-17T07:55:50.471Z"
   },
   {
    "duration": 26,
    "start_time": "2021-12-17T07:55:55.505Z"
   },
   {
    "duration": 27,
    "start_time": "2021-12-17T07:56:25.377Z"
   },
   {
    "duration": 27,
    "start_time": "2021-12-17T07:56:43.511Z"
   },
   {
    "duration": 8,
    "start_time": "2021-12-17T07:57:00.363Z"
   },
   {
    "duration": 4,
    "start_time": "2021-12-17T07:57:03.279Z"
   },
   {
    "duration": 3,
    "start_time": "2021-12-17T07:57:03.503Z"
   },
   {
    "duration": 646,
    "start_time": "2021-12-17T07:57:03.678Z"
   },
   {
    "duration": -171,
    "start_time": "2021-12-17T07:57:04.497Z"
   },
   {
    "duration": -186,
    "start_time": "2021-12-17T07:57:04.513Z"
   },
   {
    "duration": -191,
    "start_time": "2021-12-17T07:57:04.519Z"
   },
   {
    "duration": 588,
    "start_time": "2021-12-17T07:57:04.429Z"
   },
   {
    "duration": -128,
    "start_time": "2021-12-17T07:57:05.147Z"
   },
   {
    "duration": 4,
    "start_time": "2021-12-17T07:57:05.311Z"
   },
   {
    "duration": 336,
    "start_time": "2021-12-17T07:57:09.215Z"
   },
   {
    "duration": 262,
    "start_time": "2021-12-17T07:57:18.910Z"
   },
   {
    "duration": 243,
    "start_time": "2021-12-17T07:59:35.262Z"
   },
   {
    "duration": 100,
    "start_time": "2021-12-17T07:59:41.425Z"
   },
   {
    "duration": 23,
    "start_time": "2021-12-17T07:59:42.343Z"
   },
   {
    "duration": 5,
    "start_time": "2021-12-17T07:59:42.543Z"
   },
   {
    "duration": 9,
    "start_time": "2021-12-17T07:59:42.694Z"
   },
   {
    "duration": 9,
    "start_time": "2021-12-17T07:59:42.878Z"
   },
   {
    "duration": 7,
    "start_time": "2021-12-17T07:59:43.056Z"
   },
   {
    "duration": 5,
    "start_time": "2021-12-17T07:59:43.402Z"
   },
   {
    "duration": 7,
    "start_time": "2021-12-17T07:59:43.894Z"
   },
   {
    "duration": 35,
    "start_time": "2021-12-17T07:59:44.246Z"
   },
   {
    "duration": 433,
    "start_time": "2021-12-17T07:59:44.426Z"
   },
   {
    "duration": 262,
    "start_time": "2021-12-17T07:59:44.980Z"
   },
   {
    "duration": -11,
    "start_time": "2021-12-17T07:59:45.255Z"
   },
   {
    "duration": 290,
    "start_time": "2021-12-17T07:59:45.350Z"
   },
   {
    "duration": 268,
    "start_time": "2021-12-17T07:59:45.839Z"
   },
   {
    "duration": -163,
    "start_time": "2021-12-17T07:59:46.272Z"
   },
   {
    "duration": 268,
    "start_time": "2021-12-17T07:59:46.202Z"
   },
   {
    "duration": -112,
    "start_time": "2021-12-17T07:59:46.584Z"
   },
   {
    "duration": 264,
    "start_time": "2021-12-17T07:59:46.531Z"
   },
   {
    "duration": -151,
    "start_time": "2021-12-17T07:59:46.948Z"
   },
   {
    "duration": 270,
    "start_time": "2021-12-17T07:59:46.880Z"
   },
   {
    "duration": -55,
    "start_time": "2021-12-17T07:59:47.207Z"
   },
   {
    "duration": 150,
    "start_time": "2021-12-17T08:00:20.123Z"
   },
   {
    "duration": 10,
    "start_time": "2021-12-17T08:00:53.349Z"
   },
   {
    "duration": 27,
    "start_time": "2021-12-17T08:00:56.324Z"
   },
   {
    "duration": 14,
    "start_time": "2021-12-17T08:01:05.912Z"
   },
   {
    "duration": 266,
    "start_time": "2021-12-17T08:07:27.423Z"
   },
   {
    "duration": 21,
    "start_time": "2021-12-17T08:07:36.751Z"
   },
   {
    "duration": 90,
    "start_time": "2021-12-17T08:08:43.582Z"
   },
   {
    "duration": 28,
    "start_time": "2021-12-17T08:09:10.565Z"
   },
   {
    "duration": 4,
    "start_time": "2021-12-17T08:09:45.038Z"
   },
   {
    "duration": 3,
    "start_time": "2021-12-17T08:09:47.802Z"
   },
   {
    "duration": 257,
    "start_time": "2021-12-17T08:09:47.996Z"
   },
   {
    "duration": -58,
    "start_time": "2021-12-17T08:09:48.313Z"
   },
   {
    "duration": 274,
    "start_time": "2021-12-17T08:09:48.922Z"
   },
   {
    "duration": -55,
    "start_time": "2021-12-17T08:09:49.253Z"
   },
   {
    "duration": 5973,
    "start_time": "2021-12-17T08:10:11.583Z"
   },
   {
    "duration": -99,
    "start_time": "2021-12-17T08:10:17.657Z"
   },
   {
    "duration": 8243,
    "start_time": "2021-12-17T08:10:30.167Z"
   },
   {
    "duration": -148,
    "start_time": "2021-12-17T08:10:38.560Z"
   },
   {
    "duration": -152,
    "start_time": "2021-12-17T08:10:38.566Z"
   },
   {
    "duration": 278,
    "start_time": "2021-12-17T08:14:18.646Z"
   },
   {
    "duration": 265,
    "start_time": "2021-12-17T08:14:39.211Z"
   },
   {
    "duration": 269,
    "start_time": "2021-12-17T08:16:16.593Z"
   },
   {
    "duration": 12,
    "start_time": "2021-12-17T08:16:51.901Z"
   },
   {
    "duration": 86,
    "start_time": "2021-12-17T08:17:07.774Z"
   },
   {
    "duration": 290,
    "start_time": "2021-12-17T08:17:13.787Z"
   },
   {
    "duration": 436,
    "start_time": "2021-12-17T08:17:33.536Z"
   },
   {
    "duration": 13,
    "start_time": "2021-12-17T08:17:39.851Z"
   },
   {
    "duration": 318,
    "start_time": "2021-12-17T08:18:19.191Z"
   },
   {
    "duration": 752,
    "start_time": "2021-12-17T08:18:50.058Z"
   },
   {
    "duration": 10,
    "start_time": "2021-12-17T08:19:20.095Z"
   },
   {
    "duration": 9,
    "start_time": "2021-12-17T08:21:50.553Z"
   },
   {
    "duration": 1386,
    "start_time": "2021-12-17T08:23:02.564Z"
   },
   {
    "duration": 491,
    "start_time": "2021-12-17T08:23:19.368Z"
   },
   {
    "duration": 17587,
    "start_time": "2021-12-17T08:23:28.733Z"
   },
   {
    "duration": 12,
    "start_time": "2021-12-17T08:24:47.144Z"
   },
   {
    "duration": 10,
    "start_time": "2021-12-17T08:24:52.450Z"
   },
   {
    "duration": 92109,
    "start_time": "2021-12-17T08:28:55.280Z"
   },
   {
    "duration": -119,
    "start_time": "2021-12-17T08:38:39.738Z"
   },
   {
    "duration": 6702,
    "start_time": "2021-12-17T08:40:00.599Z"
   },
   {
    "duration": 1658,
    "start_time": "2021-12-17T08:41:34.325Z"
   },
   {
    "duration": 2856,
    "start_time": "2021-12-17T08:41:53.202Z"
   },
   {
    "duration": 112,
    "start_time": "2021-12-17T08:41:59.957Z"
   },
   {
    "duration": 25,
    "start_time": "2021-12-17T08:42:00.793Z"
   },
   {
    "duration": 5,
    "start_time": "2021-12-17T08:42:01.026Z"
   },
   {
    "duration": 8,
    "start_time": "2021-12-17T08:42:01.151Z"
   },
   {
    "duration": 8,
    "start_time": "2021-12-17T08:42:01.392Z"
   },
   {
    "duration": 8,
    "start_time": "2021-12-17T08:42:01.492Z"
   },
   {
    "duration": 6,
    "start_time": "2021-12-17T08:42:01.814Z"
   },
   {
    "duration": 7,
    "start_time": "2021-12-17T08:42:02.163Z"
   },
   {
    "duration": 35,
    "start_time": "2021-12-17T08:42:02.495Z"
   },
   {
    "duration": 494,
    "start_time": "2021-12-17T08:42:02.686Z"
   },
   {
    "duration": 504,
    "start_time": "2021-12-17T08:42:03.182Z"
   },
   {
    "duration": -10,
    "start_time": "2021-12-17T08:42:03.698Z"
   },
   {
    "duration": -53,
    "start_time": "2021-12-17T08:42:03.742Z"
   },
   {
    "duration": 1929,
    "start_time": "2021-12-17T08:42:04.180Z"
   },
   {
    "duration": -9368,
    "start_time": "2021-12-17T08:42:15.479Z"
   },
   {
    "duration": -9371,
    "start_time": "2021-12-17T08:42:15.484Z"
   },
   {
    "duration": -9376,
    "start_time": "2021-12-17T08:42:15.490Z"
   },
   {
    "duration": -9381,
    "start_time": "2021-12-17T08:42:15.496Z"
   },
   {
    "duration": -9383,
    "start_time": "2021-12-17T08:42:15.500Z"
   },
   {
    "duration": 4034,
    "start_time": "2021-12-17T08:42:15.264Z"
   },
   {
    "duration": -10721,
    "start_time": "2021-12-17T08:42:30.022Z"
   },
   {
    "duration": -10724,
    "start_time": "2021-12-17T08:42:30.026Z"
   },
   {
    "duration": -10727,
    "start_time": "2021-12-17T08:42:30.030Z"
   },
   {
    "duration": -10732,
    "start_time": "2021-12-17T08:42:30.035Z"
   },
   {
    "duration": -10735,
    "start_time": "2021-12-17T08:42:30.039Z"
   },
   {
    "duration": -10760,
    "start_time": "2021-12-17T08:42:30.066Z"
   },
   {
    "duration": -10775,
    "start_time": "2021-12-17T08:42:30.082Z"
   },
   {
    "duration": -10778,
    "start_time": "2021-12-17T08:42:30.086Z"
   },
   {
    "duration": -10785,
    "start_time": "2021-12-17T08:42:30.094Z"
   },
   {
    "duration": -10831,
    "start_time": "2021-12-17T08:42:30.141Z"
   },
   {
    "duration": -10838,
    "start_time": "2021-12-17T08:42:30.149Z"
   },
   {
    "duration": -10841,
    "start_time": "2021-12-17T08:42:30.153Z"
   },
   {
    "duration": -10845,
    "start_time": "2021-12-17T08:42:30.158Z"
   },
   {
    "duration": -10846,
    "start_time": "2021-12-17T08:42:30.161Z"
   },
   {
    "duration": -10860,
    "start_time": "2021-12-17T08:42:30.176Z"
   },
   {
    "duration": -10867,
    "start_time": "2021-12-17T08:42:30.184Z"
   },
   {
    "duration": -10869,
    "start_time": "2021-12-17T08:42:30.187Z"
   },
   {
    "duration": -10872,
    "start_time": "2021-12-17T08:42:30.191Z"
   },
   {
    "duration": -10875,
    "start_time": "2021-12-17T08:42:30.195Z"
   },
   {
    "duration": -10878,
    "start_time": "2021-12-17T08:42:30.199Z"
   },
   {
    "duration": -10880,
    "start_time": "2021-12-17T08:42:30.202Z"
   },
   {
    "duration": -10883,
    "start_time": "2021-12-17T08:42:30.206Z"
   },
   {
    "duration": -10887,
    "start_time": "2021-12-17T08:42:30.211Z"
   },
   {
    "duration": -10890,
    "start_time": "2021-12-17T08:42:30.215Z"
   },
   {
    "duration": 2921,
    "start_time": "2021-12-17T08:42:29.878Z"
   },
   {
    "duration": -78,
    "start_time": "2021-12-17T08:42:32.880Z"
   },
   {
    "duration": -116,
    "start_time": "2021-12-17T08:42:32.919Z"
   },
   {
    "duration": -118,
    "start_time": "2021-12-17T08:42:32.923Z"
   },
   {
    "duration": -123,
    "start_time": "2021-12-17T08:42:32.929Z"
   }
  ],
  "kernelspec": {
   "display_name": "Python 3",
   "language": "python",
   "name": "python3"
  },
  "language_info": {
   "codemirror_mode": {
    "name": "ipython",
    "version": 3
   },
   "file_extension": ".py",
   "mimetype": "text/x-python",
   "name": "python",
   "nbconvert_exporter": "python",
   "pygments_lexer": "ipython3",
   "version": "3.8.8"
  },
  "toc": {
   "base_numbering": 1,
   "nav_menu": {},
   "number_sections": true,
   "sideBar": true,
   "skip_h1_title": true,
   "title_cell": "Содержание",
   "title_sidebar": "Contents",
   "toc_cell": true,
   "toc_position": {},
   "toc_section_display": true,
   "toc_window_display": true
  }
 },
 "nbformat": 4,
 "nbformat_minor": 2
}
