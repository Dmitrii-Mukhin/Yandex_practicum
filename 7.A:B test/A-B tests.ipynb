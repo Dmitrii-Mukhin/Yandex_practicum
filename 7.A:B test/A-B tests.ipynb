{
 "cells": [
  {
   "cell_type": "markdown",
   "metadata": {},
   "source": [
    "**Описание проекта**:\n",
    "Аналитика крупного интернет-магазина. \n",
    "Приоритизируем гипотезы, запустим A/B-тест и проанализируем результаты.\n",
    "\n",
    "**Часть 1. Приоритизация гипотез.**\n",
    "\n",
    "**Часть 2. Анализ A/B-теста**\n",
    "\n"
   ]
  },
  {
   "cell_type": "code",
   "execution_count": 5,
   "metadata": {},
   "outputs": [
    {
     "name": "stdout",
     "output_type": "stream",
     "text": [
      "<class 'pandas.core.frame.DataFrame'>\n",
      "RangeIndex: 9 entries, 0 to 8\n",
      "Data columns (total 5 columns):\n",
      "Hypothesis    9 non-null object\n",
      "Reach         9 non-null int64\n",
      "Impact        9 non-null int64\n",
      "Confidence    9 non-null int64\n",
      "Efforts       9 non-null int64\n",
      "dtypes: int64(4), object(1)\n",
      "memory usage: 488.0+ bytes\n"
     ]
    },
    {
     "data": {
      "text/html": [
       "<div>\n",
       "<style scoped>\n",
       "    .dataframe tbody tr th:only-of-type {\n",
       "        vertical-align: middle;\n",
       "    }\n",
       "\n",
       "    .dataframe tbody tr th {\n",
       "        vertical-align: top;\n",
       "    }\n",
       "\n",
       "    .dataframe thead th {\n",
       "        text-align: right;\n",
       "    }\n",
       "</style>\n",
       "<table border=\"1\" class=\"dataframe\">\n",
       "  <thead>\n",
       "    <tr style=\"text-align: right;\">\n",
       "      <th></th>\n",
       "      <th>Hypothesis</th>\n",
       "      <th>Reach</th>\n",
       "      <th>Impact</th>\n",
       "      <th>Confidence</th>\n",
       "      <th>Efforts</th>\n",
       "    </tr>\n",
       "  </thead>\n",
       "  <tbody>\n",
       "    <tr>\n",
       "      <td>0</td>\n",
       "      <td>Добавить два новых канала привлечения трафика, что позволит привлекать на 30% больше пользователей</td>\n",
       "      <td>3</td>\n",
       "      <td>10</td>\n",
       "      <td>8</td>\n",
       "      <td>6</td>\n",
       "    </tr>\n",
       "    <tr>\n",
       "      <td>1</td>\n",
       "      <td>Запустить собственную службу доставки, что сократит срок доставки заказов</td>\n",
       "      <td>2</td>\n",
       "      <td>5</td>\n",
       "      <td>4</td>\n",
       "      <td>10</td>\n",
       "    </tr>\n",
       "    <tr>\n",
       "      <td>2</td>\n",
       "      <td>Добавить блоки рекомендаций товаров на сайт интернет магазина, чтобы повысить конверсию и средний чек заказа</td>\n",
       "      <td>8</td>\n",
       "      <td>3</td>\n",
       "      <td>7</td>\n",
       "      <td>3</td>\n",
       "    </tr>\n",
       "    <tr>\n",
       "      <td>3</td>\n",
       "      <td>Изменить структура категорий, что увеличит конверсию, т.к. пользователи быстрее найдут нужный товар</td>\n",
       "      <td>8</td>\n",
       "      <td>3</td>\n",
       "      <td>3</td>\n",
       "      <td>8</td>\n",
       "    </tr>\n",
       "    <tr>\n",
       "      <td>4</td>\n",
       "      <td>Изменить цвет фона главной страницы, чтобы увеличить вовлеченность пользователей</td>\n",
       "      <td>3</td>\n",
       "      <td>1</td>\n",
       "      <td>1</td>\n",
       "      <td>1</td>\n",
       "    </tr>\n",
       "    <tr>\n",
       "      <td>5</td>\n",
       "      <td>Добавить страницу отзывов клиентов о магазине, что позволит увеличить количество заказов</td>\n",
       "      <td>3</td>\n",
       "      <td>2</td>\n",
       "      <td>2</td>\n",
       "      <td>3</td>\n",
       "    </tr>\n",
       "    <tr>\n",
       "      <td>6</td>\n",
       "      <td>Показать на главной странице баннеры с актуальными акциями и распродажами, чтобы увеличить конверсию</td>\n",
       "      <td>5</td>\n",
       "      <td>3</td>\n",
       "      <td>8</td>\n",
       "      <td>3</td>\n",
       "    </tr>\n",
       "    <tr>\n",
       "      <td>7</td>\n",
       "      <td>Добавить форму подписки на все основные страницы, чтобы собрать базу клиентов для email-рассылок</td>\n",
       "      <td>10</td>\n",
       "      <td>7</td>\n",
       "      <td>8</td>\n",
       "      <td>5</td>\n",
       "    </tr>\n",
       "    <tr>\n",
       "      <td>8</td>\n",
       "      <td>Запустить акцию, дающую скидку на товар в день рождения</td>\n",
       "      <td>1</td>\n",
       "      <td>9</td>\n",
       "      <td>9</td>\n",
       "      <td>5</td>\n",
       "    </tr>\n",
       "  </tbody>\n",
       "</table>\n",
       "</div>"
      ],
      "text/plain": [
       "                                                                                                     Hypothesis  \\\n",
       "0            Добавить два новых канала привлечения трафика, что позволит привлекать на 30% больше пользователей   \n",
       "1                                     Запустить собственную службу доставки, что сократит срок доставки заказов   \n",
       "2  Добавить блоки рекомендаций товаров на сайт интернет магазина, чтобы повысить конверсию и средний чек заказа   \n",
       "3           Изменить структура категорий, что увеличит конверсию, т.к. пользователи быстрее найдут нужный товар   \n",
       "4                              Изменить цвет фона главной страницы, чтобы увеличить вовлеченность пользователей   \n",
       "5                      Добавить страницу отзывов клиентов о магазине, что позволит увеличить количество заказов   \n",
       "6          Показать на главной странице баннеры с актуальными акциями и распродажами, чтобы увеличить конверсию   \n",
       "7              Добавить форму подписки на все основные страницы, чтобы собрать базу клиентов для email-рассылок   \n",
       "8                                                       Запустить акцию, дающую скидку на товар в день рождения   \n",
       "\n",
       "   Reach  Impact  Confidence  Efforts  \n",
       "0      3      10           8        6  \n",
       "1      2       5           4       10  \n",
       "2      8       3           7        3  \n",
       "3      8       3           3        8  \n",
       "4      3       1           1        1  \n",
       "5      3       2           2        3  \n",
       "6      5       3           8        3  \n",
       "7     10       7           8        5  \n",
       "8      1       9           9        5  "
      ]
     },
     "execution_count": 5,
     "metadata": {},
     "output_type": "execute_result"
    }
   ],
   "source": [
    "import pandas as pd\n",
    "import datetime as dt\n",
    "import numpy as np\n",
    "import matplotlib.pyplot as plt\n",
    "from pandas.plotting import register_matplotlib_converters\n",
    "import warnings\n",
    "from collections import defaultdict\n",
    "import scipy.stats as stats\n",
    "import plotly.graph_objs as go\n",
    "from subprocess import Popen, PIPE\n",
    "pd.set_option('max_colwidth', 400)\n",
    "data = pd.read_csv('/datasets/hypothesis.csv')\n",
    "orders = pd.read_csv('/datasets/orders.csv')\n",
    "visitors = pd.read_csv('/datasets/visitors.csv')\n",
    "data.info()\n",
    "data.head(15)"
   ]
  },
  {
   "cell_type": "code",
   "execution_count": 6,
   "metadata": {},
   "outputs": [
    {
     "name": "stdout",
     "output_type": "stream",
     "text": [
      "<class 'pandas.core.frame.DataFrame'>\n",
      "RangeIndex: 1197 entries, 0 to 1196\n",
      "Data columns (total 5 columns):\n",
      "transactionId    1197 non-null int64\n",
      "visitorId        1197 non-null int64\n",
      "date             1197 non-null object\n",
      "revenue          1197 non-null int64\n",
      "group            1197 non-null object\n",
      "dtypes: int64(3), object(2)\n",
      "memory usage: 46.9+ KB\n"
     ]
    },
    {
     "data": {
      "text/html": [
       "<div>\n",
       "<style scoped>\n",
       "    .dataframe tbody tr th:only-of-type {\n",
       "        vertical-align: middle;\n",
       "    }\n",
       "\n",
       "    .dataframe tbody tr th {\n",
       "        vertical-align: top;\n",
       "    }\n",
       "\n",
       "    .dataframe thead th {\n",
       "        text-align: right;\n",
       "    }\n",
       "</style>\n",
       "<table border=\"1\" class=\"dataframe\">\n",
       "  <thead>\n",
       "    <tr style=\"text-align: right;\">\n",
       "      <th></th>\n",
       "      <th>transactionId</th>\n",
       "      <th>visitorId</th>\n",
       "      <th>date</th>\n",
       "      <th>revenue</th>\n",
       "      <th>group</th>\n",
       "    </tr>\n",
       "  </thead>\n",
       "  <tbody>\n",
       "    <tr>\n",
       "      <td>0</td>\n",
       "      <td>3667963787</td>\n",
       "      <td>3312258926</td>\n",
       "      <td>2019-08-15</td>\n",
       "      <td>1650</td>\n",
       "      <td>B</td>\n",
       "    </tr>\n",
       "    <tr>\n",
       "      <td>1</td>\n",
       "      <td>2804400009</td>\n",
       "      <td>3642806036</td>\n",
       "      <td>2019-08-15</td>\n",
       "      <td>730</td>\n",
       "      <td>B</td>\n",
       "    </tr>\n",
       "    <tr>\n",
       "      <td>2</td>\n",
       "      <td>2961555356</td>\n",
       "      <td>4069496402</td>\n",
       "      <td>2019-08-15</td>\n",
       "      <td>400</td>\n",
       "      <td>A</td>\n",
       "    </tr>\n",
       "    <tr>\n",
       "      <td>3</td>\n",
       "      <td>3797467345</td>\n",
       "      <td>1196621759</td>\n",
       "      <td>2019-08-15</td>\n",
       "      <td>9759</td>\n",
       "      <td>B</td>\n",
       "    </tr>\n",
       "    <tr>\n",
       "      <td>4</td>\n",
       "      <td>2282983706</td>\n",
       "      <td>2322279887</td>\n",
       "      <td>2019-08-15</td>\n",
       "      <td>2308</td>\n",
       "      <td>B</td>\n",
       "    </tr>\n",
       "    <tr>\n",
       "      <td>5</td>\n",
       "      <td>182168103</td>\n",
       "      <td>935554773</td>\n",
       "      <td>2019-08-15</td>\n",
       "      <td>2210</td>\n",
       "      <td>B</td>\n",
       "    </tr>\n",
       "    <tr>\n",
       "      <td>6</td>\n",
       "      <td>398296753</td>\n",
       "      <td>2900797465</td>\n",
       "      <td>2019-08-15</td>\n",
       "      <td>1860</td>\n",
       "      <td>B</td>\n",
       "    </tr>\n",
       "    <tr>\n",
       "      <td>7</td>\n",
       "      <td>2626614568</td>\n",
       "      <td>78758296</td>\n",
       "      <td>2019-08-15</td>\n",
       "      <td>1044</td>\n",
       "      <td>A</td>\n",
       "    </tr>\n",
       "    <tr>\n",
       "      <td>8</td>\n",
       "      <td>1576988021</td>\n",
       "      <td>295230930</td>\n",
       "      <td>2019-08-15</td>\n",
       "      <td>13710</td>\n",
       "      <td>A</td>\n",
       "    </tr>\n",
       "    <tr>\n",
       "      <td>9</td>\n",
       "      <td>1506739906</td>\n",
       "      <td>1882260405</td>\n",
       "      <td>2019-08-15</td>\n",
       "      <td>1855</td>\n",
       "      <td>B</td>\n",
       "    </tr>\n",
       "    <tr>\n",
       "      <td>10</td>\n",
       "      <td>3649131742</td>\n",
       "      <td>879864040</td>\n",
       "      <td>2019-08-15</td>\n",
       "      <td>4008</td>\n",
       "      <td>A</td>\n",
       "    </tr>\n",
       "    <tr>\n",
       "      <td>11</td>\n",
       "      <td>1919444843</td>\n",
       "      <td>927791387</td>\n",
       "      <td>2019-08-15</td>\n",
       "      <td>4499</td>\n",
       "      <td>B</td>\n",
       "    </tr>\n",
       "    <tr>\n",
       "      <td>12</td>\n",
       "      <td>2809384911</td>\n",
       "      <td>3213223594</td>\n",
       "      <td>2019-08-15</td>\n",
       "      <td>7370</td>\n",
       "      <td>A</td>\n",
       "    </tr>\n",
       "    <tr>\n",
       "      <td>13</td>\n",
       "      <td>3044797713</td>\n",
       "      <td>728063420</td>\n",
       "      <td>2019-08-15</td>\n",
       "      <td>11985</td>\n",
       "      <td>B</td>\n",
       "    </tr>\n",
       "    <tr>\n",
       "      <td>14</td>\n",
       "      <td>3859315276</td>\n",
       "      <td>1565034404</td>\n",
       "      <td>2019-08-15</td>\n",
       "      <td>10980</td>\n",
       "      <td>A</td>\n",
       "    </tr>\n",
       "  </tbody>\n",
       "</table>\n",
       "</div>"
      ],
      "text/plain": [
       "    transactionId   visitorId        date  revenue group\n",
       "0      3667963787  3312258926  2019-08-15     1650     B\n",
       "1      2804400009  3642806036  2019-08-15      730     B\n",
       "2      2961555356  4069496402  2019-08-15      400     A\n",
       "3      3797467345  1196621759  2019-08-15     9759     B\n",
       "4      2282983706  2322279887  2019-08-15     2308     B\n",
       "5       182168103   935554773  2019-08-15     2210     B\n",
       "6       398296753  2900797465  2019-08-15     1860     B\n",
       "7      2626614568    78758296  2019-08-15     1044     A\n",
       "8      1576988021   295230930  2019-08-15    13710     A\n",
       "9      1506739906  1882260405  2019-08-15     1855     B\n",
       "10     3649131742   879864040  2019-08-15     4008     A\n",
       "11     1919444843   927791387  2019-08-15     4499     B\n",
       "12     2809384911  3213223594  2019-08-15     7370     A\n",
       "13     3044797713   728063420  2019-08-15    11985     B\n",
       "14     3859315276  1565034404  2019-08-15    10980     A"
      ]
     },
     "execution_count": 6,
     "metadata": {},
     "output_type": "execute_result"
    }
   ],
   "source": [
    "orders.info()\n",
    "orders.head(15)"
   ]
  },
  {
   "cell_type": "code",
   "execution_count": 7,
   "metadata": {},
   "outputs": [
    {
     "name": "stdout",
     "output_type": "stream",
     "text": [
      "<class 'pandas.core.frame.DataFrame'>\n",
      "RangeIndex: 62 entries, 0 to 61\n",
      "Data columns (total 3 columns):\n",
      "date        62 non-null object\n",
      "group       62 non-null object\n",
      "visitors    62 non-null int64\n",
      "dtypes: int64(1), object(2)\n",
      "memory usage: 1.6+ KB\n"
     ]
    },
    {
     "data": {
      "text/html": [
       "<div>\n",
       "<style scoped>\n",
       "    .dataframe tbody tr th:only-of-type {\n",
       "        vertical-align: middle;\n",
       "    }\n",
       "\n",
       "    .dataframe tbody tr th {\n",
       "        vertical-align: top;\n",
       "    }\n",
       "\n",
       "    .dataframe thead th {\n",
       "        text-align: right;\n",
       "    }\n",
       "</style>\n",
       "<table border=\"1\" class=\"dataframe\">\n",
       "  <thead>\n",
       "    <tr style=\"text-align: right;\">\n",
       "      <th></th>\n",
       "      <th>date</th>\n",
       "      <th>group</th>\n",
       "      <th>visitors</th>\n",
       "    </tr>\n",
       "  </thead>\n",
       "  <tbody>\n",
       "    <tr>\n",
       "      <td>0</td>\n",
       "      <td>2019-08-01</td>\n",
       "      <td>A</td>\n",
       "      <td>719</td>\n",
       "    </tr>\n",
       "    <tr>\n",
       "      <td>1</td>\n",
       "      <td>2019-08-02</td>\n",
       "      <td>A</td>\n",
       "      <td>619</td>\n",
       "    </tr>\n",
       "    <tr>\n",
       "      <td>2</td>\n",
       "      <td>2019-08-03</td>\n",
       "      <td>A</td>\n",
       "      <td>507</td>\n",
       "    </tr>\n",
       "    <tr>\n",
       "      <td>3</td>\n",
       "      <td>2019-08-04</td>\n",
       "      <td>A</td>\n",
       "      <td>717</td>\n",
       "    </tr>\n",
       "    <tr>\n",
       "      <td>4</td>\n",
       "      <td>2019-08-05</td>\n",
       "      <td>A</td>\n",
       "      <td>756</td>\n",
       "    </tr>\n",
       "    <tr>\n",
       "      <td>5</td>\n",
       "      <td>2019-08-06</td>\n",
       "      <td>A</td>\n",
       "      <td>667</td>\n",
       "    </tr>\n",
       "    <tr>\n",
       "      <td>6</td>\n",
       "      <td>2019-08-07</td>\n",
       "      <td>A</td>\n",
       "      <td>644</td>\n",
       "    </tr>\n",
       "    <tr>\n",
       "      <td>7</td>\n",
       "      <td>2019-08-08</td>\n",
       "      <td>A</td>\n",
       "      <td>610</td>\n",
       "    </tr>\n",
       "    <tr>\n",
       "      <td>8</td>\n",
       "      <td>2019-08-09</td>\n",
       "      <td>A</td>\n",
       "      <td>617</td>\n",
       "    </tr>\n",
       "    <tr>\n",
       "      <td>9</td>\n",
       "      <td>2019-08-10</td>\n",
       "      <td>A</td>\n",
       "      <td>406</td>\n",
       "    </tr>\n",
       "    <tr>\n",
       "      <td>10</td>\n",
       "      <td>2019-08-11</td>\n",
       "      <td>A</td>\n",
       "      <td>718</td>\n",
       "    </tr>\n",
       "    <tr>\n",
       "      <td>11</td>\n",
       "      <td>2019-08-12</td>\n",
       "      <td>A</td>\n",
       "      <td>595</td>\n",
       "    </tr>\n",
       "    <tr>\n",
       "      <td>12</td>\n",
       "      <td>2019-08-13</td>\n",
       "      <td>A</td>\n",
       "      <td>748</td>\n",
       "    </tr>\n",
       "    <tr>\n",
       "      <td>13</td>\n",
       "      <td>2019-08-14</td>\n",
       "      <td>A</td>\n",
       "      <td>735</td>\n",
       "    </tr>\n",
       "    <tr>\n",
       "      <td>14</td>\n",
       "      <td>2019-08-15</td>\n",
       "      <td>A</td>\n",
       "      <td>628</td>\n",
       "    </tr>\n",
       "  </tbody>\n",
       "</table>\n",
       "</div>"
      ],
      "text/plain": [
       "          date group  visitors\n",
       "0   2019-08-01     A       719\n",
       "1   2019-08-02     A       619\n",
       "2   2019-08-03     A       507\n",
       "3   2019-08-04     A       717\n",
       "4   2019-08-05     A       756\n",
       "5   2019-08-06     A       667\n",
       "6   2019-08-07     A       644\n",
       "7   2019-08-08     A       610\n",
       "8   2019-08-09     A       617\n",
       "9   2019-08-10     A       406\n",
       "10  2019-08-11     A       718\n",
       "11  2019-08-12     A       595\n",
       "12  2019-08-13     A       748\n",
       "13  2019-08-14     A       735\n",
       "14  2019-08-15     A       628"
      ]
     },
     "execution_count": 7,
     "metadata": {},
     "output_type": "execute_result"
    }
   ],
   "source": [
    "visitors.info()\n",
    "visitors.head(15)"
   ]
  },
  {
   "cell_type": "markdown",
   "metadata": {},
   "source": [
    "**Взгляд на данные** :\n",
    "Нужно изменить формат даты в стобце date, проверить на наличие дубликатов.\n",
    "Датасет по обьему данных не большой. Типы данных соответствуют действительности.\n",
    "Есть два столбца group которые очевидно нужно будет обьеденить."
   ]
  },
  {
   "cell_type": "markdown",
   "metadata": {},
   "source": [
    "**Часть 1. Приоритизация гипотез.**\n"
   ]
  },
  {
   "cell_type": "code",
   "execution_count": 8,
   "metadata": {},
   "outputs": [
    {
     "name": "stdout",
     "output_type": "stream",
     "text": [
      "                                                                                                     Hypothesis  \\\n",
      "8                                                       Запустить акцию, дающую скидку на товар в день рождения   \n",
      "0            Добавить два новых канала привлечения трафика, что позволит привлекать на 30% больше пользователей   \n",
      "7              Добавить форму подписки на все основные страницы, чтобы собрать базу клиентов для email-рассылок   \n",
      "6          Показать на главной странице баннеры с актуальными акциями и распродажами, чтобы увеличить конверсию   \n",
      "2  Добавить блоки рекомендаций товаров на сайт интернет магазина, чтобы повысить конверсию и средний чек заказа   \n",
      "1                                     Запустить собственную службу доставки, что сократит срок доставки заказов   \n",
      "5                      Добавить страницу отзывов клиентов о магазине, что позволит увеличить количество заказов   \n",
      "3           Изменить структура категорий, что увеличит конверсию, т.к. пользователи быстрее найдут нужный товар   \n",
      "4                              Изменить цвет фона главной страницы, чтобы увеличить вовлеченность пользователей   \n",
      "\n",
      "         ICE  \n",
      "8  16.200000  \n",
      "0  13.333333  \n",
      "7  11.200000  \n",
      "6   8.000000  \n",
      "2   7.000000  \n",
      "1   2.000000  \n",
      "5   1.333333  \n",
      "3   1.125000  \n",
      "4   1.000000  \n"
     ]
    }
   ],
   "source": [
    "#Применим фреймворк ICE для приоритизации гипотез. Отсортируем их по убыванию приоритета.\n",
    "data['ICE'] = (data['Impact'] * data['Confidence']) / data['Efforts']\n",
    "print(data[['Hypothesis', 'ICE']].sort_values(by='ICE', ascending=False))"
   ]
  },
  {
   "cell_type": "code",
   "execution_count": 9,
   "metadata": {},
   "outputs": [
    {
     "data": {
      "text/html": [
       "<div>\n",
       "<style scoped>\n",
       "    .dataframe tbody tr th:only-of-type {\n",
       "        vertical-align: middle;\n",
       "    }\n",
       "\n",
       "    .dataframe tbody tr th {\n",
       "        vertical-align: top;\n",
       "    }\n",
       "\n",
       "    .dataframe thead th {\n",
       "        text-align: right;\n",
       "    }\n",
       "</style>\n",
       "<table border=\"1\" class=\"dataframe\">\n",
       "  <thead>\n",
       "    <tr style=\"text-align: right;\">\n",
       "      <th></th>\n",
       "      <th>Hypothesis</th>\n",
       "      <th>RICE</th>\n",
       "    </tr>\n",
       "  </thead>\n",
       "  <tbody>\n",
       "    <tr>\n",
       "      <td>7</td>\n",
       "      <td>Добавить форму подписки на все основные страницы, чтобы собрать базу клиентов для email-рассылок</td>\n",
       "      <td>112.0</td>\n",
       "    </tr>\n",
       "    <tr>\n",
       "      <td>2</td>\n",
       "      <td>Добавить блоки рекомендаций товаров на сайт интернет магазина, чтобы повысить конверсию и средний чек заказа</td>\n",
       "      <td>56.0</td>\n",
       "    </tr>\n",
       "    <tr>\n",
       "      <td>0</td>\n",
       "      <td>Добавить два новых канала привлечения трафика, что позволит привлекать на 30% больше пользователей</td>\n",
       "      <td>40.0</td>\n",
       "    </tr>\n",
       "    <tr>\n",
       "      <td>6</td>\n",
       "      <td>Показать на главной странице баннеры с актуальными акциями и распродажами, чтобы увеличить конверсию</td>\n",
       "      <td>40.0</td>\n",
       "    </tr>\n",
       "    <tr>\n",
       "      <td>8</td>\n",
       "      <td>Запустить акцию, дающую скидку на товар в день рождения</td>\n",
       "      <td>16.2</td>\n",
       "    </tr>\n",
       "    <tr>\n",
       "      <td>3</td>\n",
       "      <td>Изменить структура категорий, что увеличит конверсию, т.к. пользователи быстрее найдут нужный товар</td>\n",
       "      <td>9.0</td>\n",
       "    </tr>\n",
       "    <tr>\n",
       "      <td>1</td>\n",
       "      <td>Запустить собственную службу доставки, что сократит срок доставки заказов</td>\n",
       "      <td>4.0</td>\n",
       "    </tr>\n",
       "    <tr>\n",
       "      <td>5</td>\n",
       "      <td>Добавить страницу отзывов клиентов о магазине, что позволит увеличить количество заказов</td>\n",
       "      <td>4.0</td>\n",
       "    </tr>\n",
       "    <tr>\n",
       "      <td>4</td>\n",
       "      <td>Изменить цвет фона главной страницы, чтобы увеличить вовлеченность пользователей</td>\n",
       "      <td>3.0</td>\n",
       "    </tr>\n",
       "  </tbody>\n",
       "</table>\n",
       "</div>"
      ],
      "text/plain": [
       "                                                                                                     Hypothesis  \\\n",
       "7              Добавить форму подписки на все основные страницы, чтобы собрать базу клиентов для email-рассылок   \n",
       "2  Добавить блоки рекомендаций товаров на сайт интернет магазина, чтобы повысить конверсию и средний чек заказа   \n",
       "0            Добавить два новых канала привлечения трафика, что позволит привлекать на 30% больше пользователей   \n",
       "6          Показать на главной странице баннеры с актуальными акциями и распродажами, чтобы увеличить конверсию   \n",
       "8                                                       Запустить акцию, дающую скидку на товар в день рождения   \n",
       "3           Изменить структура категорий, что увеличит конверсию, т.к. пользователи быстрее найдут нужный товар   \n",
       "1                                     Запустить собственную службу доставки, что сократит срок доставки заказов   \n",
       "5                      Добавить страницу отзывов клиентов о магазине, что позволит увеличить количество заказов   \n",
       "4                              Изменить цвет фона главной страницы, чтобы увеличить вовлеченность пользователей   \n",
       "\n",
       "    RICE  \n",
       "7  112.0  \n",
       "2   56.0  \n",
       "0   40.0  \n",
       "6   40.0  \n",
       "8   16.2  \n",
       "3    9.0  \n",
       "1    4.0  \n",
       "5    4.0  \n",
       "4    3.0  "
      ]
     },
     "execution_count": 9,
     "metadata": {},
     "output_type": "execute_result"
    }
   ],
   "source": [
    "#Применим фреймворк RICE для приоритизации гипотез. Отсортируем их по убыванию приоритета.\n",
    "data['RICE'] = (data['Reach'] * data['Impact'] * data['Confidence']) / data[\n",
    "    'Efforts'\n",
    "]\n",
    "data[['Hypothesis', 'RICE']].sort_values(by='RICE', ascending=False)"
   ]
  },
  {
   "cell_type": "markdown",
   "metadata": {},
   "source": [
    "**Вывод**: В случае ICE наиболее перспективные гипотезы 8,0,7.\n",
    "В случае RICE наиболее перспективные гипотезы 7,2,0,6.\n",
    "Гипотеза под номер 7 вышла на первое место так получилось из за того что rich равен 10 в то время как у других гипотез он меньше.\n"
   ]
  },
  {
   "cell_type": "code",
   "execution_count": 10,
   "metadata": {},
   "outputs": [
    {
     "data": {
      "image/png": "[encoded data removed]",
      "text/plain": [
       "<Figure size 864x504 with 1 Axes>"
      ]
     },
     "metadata": {
      "needs_background": "light"
     },
     "output_type": "display_data"
    }
   ],
   "source": [
    "# Код ревьюера:\n",
    "fig, ax = plt.subplots(figsize=(12, 7))\n",
    "\n",
    "ax.set_xlabel('RICE')\n",
    "ax.set_ylabel('ICE')\n",
    "ax.set_title('ICE/RICE')\n",
    "\n",
    "for i, txt in enumerate(data.index.values):\n",
    "    legend = (str(txt) + ' - ' + str(data['Hypothesis'][i]))    \n",
    "    ax.annotate(txt, (data['ICE'][i], data['RICE'][i]), xytext=(10,10), textcoords='offset points')\n",
    "    plt.scatter(data['ICE'][i], data['RICE'][i], label = legend)\n",
    "    \n",
    "plt.grid(True)  \n",
    "plt.legend(loc=\"lower left\",  bbox_to_anchor=(0, -0.5))\n",
    "\n",
    "plt.show()"
   ]
  },
  {
   "cell_type": "markdown",
   "metadata": {},
   "source": [
    "**Часть 2. Анализ A/B-теста**\n",
    "Мы провели A/B-тест и получили результаты, которые описаны в файлах /datasets/orders.csv и /datasets/visitors.csv.\n",
    "Теперь займемся их анализом."
   ]
  },
  {
   "cell_type": "code",
   "execution_count": 11,
   "metadata": {},
   "outputs": [
    {
     "data": {
      "text/html": [
       "<div>\n",
       "<style scoped>\n",
       "    .dataframe tbody tr th:only-of-type {\n",
       "        vertical-align: middle;\n",
       "    }\n",
       "\n",
       "    .dataframe tbody tr th {\n",
       "        vertical-align: top;\n",
       "    }\n",
       "\n",
       "    .dataframe thead th {\n",
       "        text-align: right;\n",
       "    }\n",
       "</style>\n",
       "<table border=\"1\" class=\"dataframe\">\n",
       "  <thead>\n",
       "    <tr style=\"text-align: right;\">\n",
       "      <th></th>\n",
       "      <th>date</th>\n",
       "      <th>group</th>\n",
       "      <th>visitors</th>\n",
       "    </tr>\n",
       "  </thead>\n",
       "  <tbody>\n",
       "    <tr>\n",
       "      <td>0</td>\n",
       "      <td>2019-08-01</td>\n",
       "      <td>A</td>\n",
       "      <td>719</td>\n",
       "    </tr>\n",
       "    <tr>\n",
       "      <td>1</td>\n",
       "      <td>2019-08-02</td>\n",
       "      <td>A</td>\n",
       "      <td>619</td>\n",
       "    </tr>\n",
       "    <tr>\n",
       "      <td>2</td>\n",
       "      <td>2019-08-03</td>\n",
       "      <td>A</td>\n",
       "      <td>507</td>\n",
       "    </tr>\n",
       "    <tr>\n",
       "      <td>3</td>\n",
       "      <td>2019-08-04</td>\n",
       "      <td>A</td>\n",
       "      <td>717</td>\n",
       "    </tr>\n",
       "    <tr>\n",
       "      <td>4</td>\n",
       "      <td>2019-08-05</td>\n",
       "      <td>A</td>\n",
       "      <td>756</td>\n",
       "    </tr>\n",
       "  </tbody>\n",
       "</table>\n",
       "</div>"
      ],
      "text/plain": [
       "        date group  visitors\n",
       "0 2019-08-01     A       719\n",
       "1 2019-08-02     A       619\n",
       "2 2019-08-03     A       507\n",
       "3 2019-08-04     A       717\n",
       "4 2019-08-05     A       756"
      ]
     },
     "execution_count": 11,
     "metadata": {},
     "output_type": "execute_result"
    }
   ],
   "source": [
    "#Построим график кумулятивной выручки по группам\n",
    "orders['date'] = orders['date'].map(lambda x: dt.datetime.strptime(x, '%Y-%m-%d'))\n",
    "visitors['date'] = visitors['date'].map(lambda x: dt.datetime.strptime(x, '%Y-%m-%d'))\n",
    "orders.head(5)\n",
    "visitors.head(5)\n",
    "\n"
   ]
  },
  {
   "cell_type": "code",
   "execution_count": 12,
   "metadata": {},
   "outputs": [],
   "source": [
    "# создаем массив уникальных пар значений дат и групп теста и удалим дубликаты если они есть\n",
    "datesGroups = orders[['date','group','visitorId']].drop_duplicates()"
   ]
  },
  {
   "cell_type": "code",
   "execution_count": 13,
   "metadata": {},
   "outputs": [
    {
     "data": {
      "text/html": [
       "<div>\n",
       "<style scoped>\n",
       "    .dataframe tbody tr th:only-of-type {\n",
       "        vertical-align: middle;\n",
       "    }\n",
       "\n",
       "    .dataframe tbody tr th {\n",
       "        vertical-align: top;\n",
       "    }\n",
       "\n",
       "    .dataframe thead th {\n",
       "        text-align: right;\n",
       "    }\n",
       "</style>\n",
       "<table border=\"1\" class=\"dataframe\">\n",
       "  <thead>\n",
       "    <tr style=\"text-align: right;\">\n",
       "      <th></th>\n",
       "      <th>visitorId</th>\n",
       "      <th>group</th>\n",
       "      <th>count</th>\n",
       "    </tr>\n",
       "  </thead>\n",
       "  <tbody>\n",
       "    <tr>\n",
       "      <td>45</td>\n",
       "      <td>199603092</td>\n",
       "      <td>A</td>\n",
       "      <td>4</td>\n",
       "    </tr>\n",
       "    <tr>\n",
       "      <td>58</td>\n",
       "      <td>237748145</td>\n",
       "      <td>A</td>\n",
       "      <td>4</td>\n",
       "    </tr>\n",
       "    <tr>\n",
       "      <td>63</td>\n",
       "      <td>249864742</td>\n",
       "      <td>B</td>\n",
       "      <td>3</td>\n",
       "    </tr>\n",
       "    <tr>\n",
       "      <td>94</td>\n",
       "      <td>366673373</td>\n",
       "      <td>A</td>\n",
       "      <td>2</td>\n",
       "    </tr>\n",
       "    <tr>\n",
       "      <td>104</td>\n",
       "      <td>393266494</td>\n",
       "      <td>B</td>\n",
       "      <td>2</td>\n",
       "    </tr>\n",
       "    <tr>\n",
       "      <td>...</td>\n",
       "      <td>...</td>\n",
       "      <td>...</td>\n",
       "      <td>...</td>\n",
       "    </tr>\n",
       "    <tr>\n",
       "      <td>1045</td>\n",
       "      <td>4109358064</td>\n",
       "      <td>A</td>\n",
       "      <td>2</td>\n",
       "    </tr>\n",
       "    <tr>\n",
       "      <td>1050</td>\n",
       "      <td>4134830387</td>\n",
       "      <td>B</td>\n",
       "      <td>2</td>\n",
       "    </tr>\n",
       "    <tr>\n",
       "      <td>1065</td>\n",
       "      <td>4186807279</td>\n",
       "      <td>B</td>\n",
       "      <td>2</td>\n",
       "    </tr>\n",
       "    <tr>\n",
       "      <td>1079</td>\n",
       "      <td>4256040402</td>\n",
       "      <td>A</td>\n",
       "      <td>7</td>\n",
       "    </tr>\n",
       "    <tr>\n",
       "      <td>1080</td>\n",
       "      <td>4256040402</td>\n",
       "      <td>B</td>\n",
       "      <td>4</td>\n",
       "    </tr>\n",
       "  </tbody>\n",
       "</table>\n",
       "<p>64 rows × 3 columns</p>\n",
       "</div>"
      ],
      "text/plain": [
       "       visitorId group  count\n",
       "45     199603092     A      4\n",
       "58     237748145     A      4\n",
       "63     249864742     B      3\n",
       "94     366673373     A      2\n",
       "104    393266494     B      2\n",
       "...          ...   ...    ...\n",
       "1045  4109358064     A      2\n",
       "1050  4134830387     B      2\n",
       "1065  4186807279     B      2\n",
       "1079  4256040402     A      7\n",
       "1080  4256040402     B      4\n",
       "\n",
       "[64 rows x 3 columns]"
      ]
     },
     "execution_count": 13,
     "metadata": {},
     "output_type": "execute_result"
    }
   ],
   "source": [
    "#Проверим нет ли пользователей, которые оказались в обеих группах одновременно\n",
    "group_sizes = orders.groupby(['visitorId', 'group']).size().reset_index()\n",
    "group_sizes.columns = ['visitorId', 'group', 'count']\n",
    "group_sizes = group_sizes.query('count > 1').sort_values(by='visitorId')\n",
    "group_sizes"
   ]
  },
  {
   "cell_type": "code",
   "execution_count": 14,
   "metadata": {},
   "outputs": [
    {
     "data": {
      "text/html": [
       "<div>\n",
       "<style scoped>\n",
       "    .dataframe tbody tr th:only-of-type {\n",
       "        vertical-align: middle;\n",
       "    }\n",
       "\n",
       "    .dataframe tbody tr th {\n",
       "        vertical-align: top;\n",
       "    }\n",
       "\n",
       "    .dataframe thead th {\n",
       "        text-align: right;\n",
       "    }\n",
       "</style>\n",
       "<table border=\"1\" class=\"dataframe\">\n",
       "  <thead>\n",
       "    <tr style=\"text-align: right;\">\n",
       "      <th></th>\n",
       "      <th></th>\n",
       "      <th></th>\n",
       "      <th>transactionId</th>\n",
       "      <th>revenue</th>\n",
       "    </tr>\n",
       "    <tr>\n",
       "      <th>visitorId</th>\n",
       "      <th>group</th>\n",
       "      <th>date</th>\n",
       "      <th></th>\n",
       "      <th></th>\n",
       "    </tr>\n",
       "  </thead>\n",
       "  <tbody>\n",
       "    <tr>\n",
       "      <td rowspan=\"2\" valign=\"top\">1230306981</td>\n",
       "      <td>A</td>\n",
       "      <td>2019-08-09</td>\n",
       "      <td>3</td>\n",
       "      <td>18440</td>\n",
       "    </tr>\n",
       "    <tr>\n",
       "      <td>B</td>\n",
       "      <td>2019-08-09</td>\n",
       "      <td>2</td>\n",
       "      <td>12840</td>\n",
       "    </tr>\n",
       "    <tr>\n",
       "      <td rowspan=\"7\" valign=\"top\">2038680547</td>\n",
       "      <td rowspan=\"4\" valign=\"top\">A</td>\n",
       "      <td>2019-08-04</td>\n",
       "      <td>2</td>\n",
       "      <td>4070</td>\n",
       "    </tr>\n",
       "    <tr>\n",
       "      <td>2019-08-17</td>\n",
       "      <td>1</td>\n",
       "      <td>3470</td>\n",
       "    </tr>\n",
       "    <tr>\n",
       "      <td>2019-08-22</td>\n",
       "      <td>1</td>\n",
       "      <td>760</td>\n",
       "    </tr>\n",
       "    <tr>\n",
       "      <td>2019-08-25</td>\n",
       "      <td>1</td>\n",
       "      <td>270</td>\n",
       "    </tr>\n",
       "    <tr>\n",
       "      <td rowspan=\"3\" valign=\"top\">B</td>\n",
       "      <td>2019-08-04</td>\n",
       "      <td>1</td>\n",
       "      <td>2800</td>\n",
       "    </tr>\n",
       "    <tr>\n",
       "      <td>2019-08-15</td>\n",
       "      <td>1</td>\n",
       "      <td>1680</td>\n",
       "    </tr>\n",
       "    <tr>\n",
       "      <td>2019-08-29</td>\n",
       "      <td>1</td>\n",
       "      <td>2420</td>\n",
       "    </tr>\n",
       "    <tr>\n",
       "      <td rowspan=\"8\" valign=\"top\">2378935119</td>\n",
       "      <td rowspan=\"4\" valign=\"top\">A</td>\n",
       "      <td>2019-08-10</td>\n",
       "      <td>1</td>\n",
       "      <td>58220</td>\n",
       "    </tr>\n",
       "    <tr>\n",
       "      <td>2019-08-15</td>\n",
       "      <td>1</td>\n",
       "      <td>1650</td>\n",
       "    </tr>\n",
       "    <tr>\n",
       "      <td>2019-08-17</td>\n",
       "      <td>1</td>\n",
       "      <td>310</td>\n",
       "    </tr>\n",
       "    <tr>\n",
       "      <td>2019-08-22</td>\n",
       "      <td>1</td>\n",
       "      <td>3390</td>\n",
       "    </tr>\n",
       "    <tr>\n",
       "      <td rowspan=\"4\" valign=\"top\">B</td>\n",
       "      <td>2019-08-09</td>\n",
       "      <td>1</td>\n",
       "      <td>30649</td>\n",
       "    </tr>\n",
       "    <tr>\n",
       "      <td>2019-08-10</td>\n",
       "      <td>1</td>\n",
       "      <td>2640</td>\n",
       "    </tr>\n",
       "    <tr>\n",
       "      <td>2019-08-25</td>\n",
       "      <td>1</td>\n",
       "      <td>21220</td>\n",
       "    </tr>\n",
       "    <tr>\n",
       "      <td>2019-08-28</td>\n",
       "      <td>2</td>\n",
       "      <td>24860</td>\n",
       "    </tr>\n",
       "    <tr>\n",
       "      <td rowspan=\"10\" valign=\"top\">2458001652</td>\n",
       "      <td rowspan=\"5\" valign=\"top\">A</td>\n",
       "      <td>2019-08-04</td>\n",
       "      <td>1</td>\n",
       "      <td>340</td>\n",
       "    </tr>\n",
       "    <tr>\n",
       "      <td>2019-08-06</td>\n",
       "      <td>1</td>\n",
       "      <td>1620</td>\n",
       "    </tr>\n",
       "    <tr>\n",
       "      <td>2019-08-07</td>\n",
       "      <td>1</td>\n",
       "      <td>17379</td>\n",
       "    </tr>\n",
       "    <tr>\n",
       "      <td>2019-08-11</td>\n",
       "      <td>1</td>\n",
       "      <td>8280</td>\n",
       "    </tr>\n",
       "    <tr>\n",
       "      <td>2019-08-22</td>\n",
       "      <td>1</td>\n",
       "      <td>5190</td>\n",
       "    </tr>\n",
       "    <tr>\n",
       "      <td rowspan=\"5\" valign=\"top\">B</td>\n",
       "      <td>2019-08-05</td>\n",
       "      <td>1</td>\n",
       "      <td>2420</td>\n",
       "    </tr>\n",
       "    <tr>\n",
       "      <td>2019-08-06</td>\n",
       "      <td>2</td>\n",
       "      <td>14030</td>\n",
       "    </tr>\n",
       "    <tr>\n",
       "      <td>2019-08-08</td>\n",
       "      <td>1</td>\n",
       "      <td>5227</td>\n",
       "    </tr>\n",
       "    <tr>\n",
       "      <td>2019-08-09</td>\n",
       "      <td>1</td>\n",
       "      <td>5227</td>\n",
       "    </tr>\n",
       "    <tr>\n",
       "      <td>2019-08-25</td>\n",
       "      <td>1</td>\n",
       "      <td>2385</td>\n",
       "    </tr>\n",
       "    <tr>\n",
       "      <td rowspan=\"11\" valign=\"top\">4256040402</td>\n",
       "      <td rowspan=\"7\" valign=\"top\">A</td>\n",
       "      <td>2019-08-01</td>\n",
       "      <td>1</td>\n",
       "      <td>5800</td>\n",
       "    </tr>\n",
       "    <tr>\n",
       "      <td>2019-08-12</td>\n",
       "      <td>1</td>\n",
       "      <td>50</td>\n",
       "    </tr>\n",
       "    <tr>\n",
       "      <td>2019-08-17</td>\n",
       "      <td>1</td>\n",
       "      <td>1550</td>\n",
       "    </tr>\n",
       "    <tr>\n",
       "      <td>2019-08-20</td>\n",
       "      <td>1</td>\n",
       "      <td>17650</td>\n",
       "    </tr>\n",
       "    <tr>\n",
       "      <td>2019-08-23</td>\n",
       "      <td>1</td>\n",
       "      <td>16950</td>\n",
       "    </tr>\n",
       "    <tr>\n",
       "      <td>2019-08-27</td>\n",
       "      <td>1</td>\n",
       "      <td>1630</td>\n",
       "    </tr>\n",
       "    <tr>\n",
       "      <td>2019-08-31</td>\n",
       "      <td>1</td>\n",
       "      <td>5170</td>\n",
       "    </tr>\n",
       "    <tr>\n",
       "      <td rowspan=\"4\" valign=\"top\">B</td>\n",
       "      <td>2019-08-08</td>\n",
       "      <td>1</td>\n",
       "      <td>58220</td>\n",
       "    </tr>\n",
       "    <tr>\n",
       "      <td>2019-08-16</td>\n",
       "      <td>1</td>\n",
       "      <td>56650</td>\n",
       "    </tr>\n",
       "    <tr>\n",
       "      <td>2019-08-18</td>\n",
       "      <td>1</td>\n",
       "      <td>10970</td>\n",
       "    </tr>\n",
       "    <tr>\n",
       "      <td>2019-08-31</td>\n",
       "      <td>1</td>\n",
       "      <td>1850</td>\n",
       "    </tr>\n",
       "  </tbody>\n",
       "</table>\n",
       "</div>"
      ],
      "text/plain": [
       "                             transactionId  revenue\n",
       "visitorId  group date                              \n",
       "1230306981 A     2019-08-09              3    18440\n",
       "           B     2019-08-09              2    12840\n",
       "2038680547 A     2019-08-04              2     4070\n",
       "                 2019-08-17              1     3470\n",
       "                 2019-08-22              1      760\n",
       "                 2019-08-25              1      270\n",
       "           B     2019-08-04              1     2800\n",
       "                 2019-08-15              1     1680\n",
       "                 2019-08-29              1     2420\n",
       "2378935119 A     2019-08-10              1    58220\n",
       "                 2019-08-15              1     1650\n",
       "                 2019-08-17              1      310\n",
       "                 2019-08-22              1     3390\n",
       "           B     2019-08-09              1    30649\n",
       "                 2019-08-10              1     2640\n",
       "                 2019-08-25              1    21220\n",
       "                 2019-08-28              2    24860\n",
       "2458001652 A     2019-08-04              1      340\n",
       "                 2019-08-06              1     1620\n",
       "                 2019-08-07              1    17379\n",
       "                 2019-08-11              1     8280\n",
       "                 2019-08-22              1     5190\n",
       "           B     2019-08-05              1     2420\n",
       "                 2019-08-06              2    14030\n",
       "                 2019-08-08              1     5227\n",
       "                 2019-08-09              1     5227\n",
       "                 2019-08-25              1     2385\n",
       "4256040402 A     2019-08-01              1     5800\n",
       "                 2019-08-12              1       50\n",
       "                 2019-08-17              1     1550\n",
       "                 2019-08-20              1    17650\n",
       "                 2019-08-23              1    16950\n",
       "                 2019-08-27              1     1630\n",
       "                 2019-08-31              1     5170\n",
       "           B     2019-08-08              1    58220\n",
       "                 2019-08-16              1    56650\n",
       "                 2019-08-18              1    10970\n",
       "                 2019-08-31              1     1850"
      ]
     },
     "execution_count": 14,
     "metadata": {},
     "output_type": "execute_result"
    }
   ],
   "source": [
    "potentially_broken_users_list = list(zip(group_sizes['visitorId'], group_sizes['group']))\n",
    "potentially_broken_users_dict = defaultdict(list)\n",
    "for user, group in potentially_broken_users_list:\n",
    "    potentially_broken_users_dict[user].append(group)\n",
    "\n",
    "inappropriate_users = [user for user in potentially_broken_users_dict if len(potentially_broken_users_dict[user]) > 1]\n",
    "inappropriate_orders = orders.query('visitorId in @inappropriate_users')\n",
    "inappropriate_orders_grouped = (inappropriate_orders\n",
    "                        .groupby(['visitorId', 'group', 'date'])\n",
    "                        .agg({'transactionId': 'nunique', 'revenue': 'sum'})\n",
    "                   )\n",
    "inappropriate_orders_grouped"
   ]
  },
  {
   "cell_type": "markdown",
   "metadata": {},
   "source": [
    "Пять пользователей оказались в двух группах одновременно, они совершили достаточно много транзакций и принесли значимую суму выручки, поэтому нужно очистить наши таблицы от этих пользователей, для корретного А/В теста"
   ]
  },
  {
   "cell_type": "code",
   "execution_count": 15,
   "metadata": {},
   "outputs": [],
   "source": [
    "orders_filt = orders.query('visitorId not in @inappropriate_orders')"
   ]
  },
  {
   "cell_type": "code",
   "execution_count": 16,
   "metadata": {},
   "outputs": [
    {
     "data": {
      "text/html": [
       "<div>\n",
       "<style scoped>\n",
       "    .dataframe tbody tr th:only-of-type {\n",
       "        vertical-align: middle;\n",
       "    }\n",
       "\n",
       "    .dataframe tbody tr th {\n",
       "        vertical-align: top;\n",
       "    }\n",
       "\n",
       "    .dataframe thead th {\n",
       "        text-align: right;\n",
       "    }\n",
       "</style>\n",
       "<table border=\"1\" class=\"dataframe\">\n",
       "  <thead>\n",
       "    <tr style=\"text-align: right;\">\n",
       "      <th></th>\n",
       "      <th>visitorId</th>\n",
       "      <th>group</th>\n",
       "    </tr>\n",
       "  </thead>\n",
       "  <tbody>\n",
       "    <tr>\n",
       "      <td>2</td>\n",
       "      <td>8300375</td>\n",
       "      <td>2</td>\n",
       "    </tr>\n",
       "    <tr>\n",
       "      <td>44</td>\n",
       "      <td>199603092</td>\n",
       "      <td>2</td>\n",
       "    </tr>\n",
       "    <tr>\n",
       "      <td>51</td>\n",
       "      <td>232979603</td>\n",
       "      <td>2</td>\n",
       "    </tr>\n",
       "    <tr>\n",
       "      <td>55</td>\n",
       "      <td>237748145</td>\n",
       "      <td>2</td>\n",
       "    </tr>\n",
       "    <tr>\n",
       "      <td>66</td>\n",
       "      <td>276558944</td>\n",
       "      <td>2</td>\n",
       "    </tr>\n",
       "    <tr>\n",
       "      <td>84</td>\n",
       "      <td>351125977</td>\n",
       "      <td>2</td>\n",
       "    </tr>\n",
       "    <tr>\n",
       "      <td>97</td>\n",
       "      <td>393266494</td>\n",
       "      <td>2</td>\n",
       "    </tr>\n",
       "    <tr>\n",
       "      <td>114</td>\n",
       "      <td>457167155</td>\n",
       "      <td>2</td>\n",
       "    </tr>\n",
       "    <tr>\n",
       "      <td>119</td>\n",
       "      <td>471551937</td>\n",
       "      <td>2</td>\n",
       "    </tr>\n",
       "    <tr>\n",
       "      <td>122</td>\n",
       "      <td>477780734</td>\n",
       "      <td>2</td>\n",
       "    </tr>\n",
       "    <tr>\n",
       "      <td>192</td>\n",
       "      <td>818047933</td>\n",
       "      <td>2</td>\n",
       "    </tr>\n",
       "    <tr>\n",
       "      <td>236</td>\n",
       "      <td>963407295</td>\n",
       "      <td>2</td>\n",
       "    </tr>\n",
       "    <tr>\n",
       "      <td>299</td>\n",
       "      <td>1230306981</td>\n",
       "      <td>2</td>\n",
       "    </tr>\n",
       "    <tr>\n",
       "      <td>311</td>\n",
       "      <td>1294878855</td>\n",
       "      <td>2</td>\n",
       "    </tr>\n",
       "    <tr>\n",
       "      <td>316</td>\n",
       "      <td>1316129916</td>\n",
       "      <td>2</td>\n",
       "    </tr>\n",
       "    <tr>\n",
       "      <td>318</td>\n",
       "      <td>1333886533</td>\n",
       "      <td>2</td>\n",
       "    </tr>\n",
       "    <tr>\n",
       "      <td>340</td>\n",
       "      <td>1404934699</td>\n",
       "      <td>2</td>\n",
       "    </tr>\n",
       "    <tr>\n",
       "      <td>386</td>\n",
       "      <td>1602967004</td>\n",
       "      <td>2</td>\n",
       "    </tr>\n",
       "    <tr>\n",
       "      <td>393</td>\n",
       "      <td>1614305549</td>\n",
       "      <td>2</td>\n",
       "    </tr>\n",
       "    <tr>\n",
       "      <td>402</td>\n",
       "      <td>1648269707</td>\n",
       "      <td>2</td>\n",
       "    </tr>\n",
       "    <tr>\n",
       "      <td>406</td>\n",
       "      <td>1668030113</td>\n",
       "      <td>2</td>\n",
       "    </tr>\n",
       "    <tr>\n",
       "      <td>422</td>\n",
       "      <td>1738359350</td>\n",
       "      <td>2</td>\n",
       "    </tr>\n",
       "    <tr>\n",
       "      <td>436</td>\n",
       "      <td>1801183820</td>\n",
       "      <td>2</td>\n",
       "    </tr>\n",
       "    <tr>\n",
       "      <td>469</td>\n",
       "      <td>1959144690</td>\n",
       "      <td>2</td>\n",
       "    </tr>\n",
       "    <tr>\n",
       "      <td>487</td>\n",
       "      <td>2038680547</td>\n",
       "      <td>2</td>\n",
       "    </tr>\n",
       "    <tr>\n",
       "      <td>491</td>\n",
       "      <td>2044997962</td>\n",
       "      <td>2</td>\n",
       "    </tr>\n",
       "    <tr>\n",
       "      <td>569</td>\n",
       "      <td>2378935119</td>\n",
       "      <td>2</td>\n",
       "    </tr>\n",
       "    <tr>\n",
       "      <td>591</td>\n",
       "      <td>2458001652</td>\n",
       "      <td>2</td>\n",
       "    </tr>\n",
       "    <tr>\n",
       "      <td>614</td>\n",
       "      <td>2579882178</td>\n",
       "      <td>2</td>\n",
       "    </tr>\n",
       "    <tr>\n",
       "      <td>619</td>\n",
       "      <td>2587333274</td>\n",
       "      <td>2</td>\n",
       "    </tr>\n",
       "    <tr>\n",
       "      <td>622</td>\n",
       "      <td>2600415354</td>\n",
       "      <td>2</td>\n",
       "    </tr>\n",
       "    <tr>\n",
       "      <td>639</td>\n",
       "      <td>2654030115</td>\n",
       "      <td>2</td>\n",
       "    </tr>\n",
       "    <tr>\n",
       "      <td>648</td>\n",
       "      <td>2686716486</td>\n",
       "      <td>2</td>\n",
       "    </tr>\n",
       "    <tr>\n",
       "      <td>661</td>\n",
       "      <td>2712142231</td>\n",
       "      <td>2</td>\n",
       "    </tr>\n",
       "    <tr>\n",
       "      <td>662</td>\n",
       "      <td>2716752286</td>\n",
       "      <td>2</td>\n",
       "    </tr>\n",
       "    <tr>\n",
       "      <td>677</td>\n",
       "      <td>2780786433</td>\n",
       "      <td>2</td>\n",
       "    </tr>\n",
       "    <tr>\n",
       "      <td>710</td>\n",
       "      <td>2927087541</td>\n",
       "      <td>2</td>\n",
       "    </tr>\n",
       "    <tr>\n",
       "      <td>715</td>\n",
       "      <td>2949041841</td>\n",
       "      <td>2</td>\n",
       "    </tr>\n",
       "    <tr>\n",
       "      <td>718</td>\n",
       "      <td>2954449915</td>\n",
       "      <td>2</td>\n",
       "    </tr>\n",
       "    <tr>\n",
       "      <td>744</td>\n",
       "      <td>3062433592</td>\n",
       "      <td>2</td>\n",
       "    </tr>\n",
       "    <tr>\n",
       "      <td>784</td>\n",
       "      <td>3202540741</td>\n",
       "      <td>2</td>\n",
       "    </tr>\n",
       "    <tr>\n",
       "      <td>792</td>\n",
       "      <td>3234906277</td>\n",
       "      <td>2</td>\n",
       "    </tr>\n",
       "    <tr>\n",
       "      <td>884</td>\n",
       "      <td>3656415546</td>\n",
       "      <td>2</td>\n",
       "    </tr>\n",
       "    <tr>\n",
       "      <td>897</td>\n",
       "      <td>3717692402</td>\n",
       "      <td>2</td>\n",
       "    </tr>\n",
       "    <tr>\n",
       "      <td>909</td>\n",
       "      <td>3766097110</td>\n",
       "      <td>2</td>\n",
       "    </tr>\n",
       "    <tr>\n",
       "      <td>917</td>\n",
       "      <td>3803269165</td>\n",
       "      <td>2</td>\n",
       "    </tr>\n",
       "    <tr>\n",
       "      <td>932</td>\n",
       "      <td>3891541246</td>\n",
       "      <td>2</td>\n",
       "    </tr>\n",
       "    <tr>\n",
       "      <td>950</td>\n",
       "      <td>3941795274</td>\n",
       "      <td>2</td>\n",
       "    </tr>\n",
       "    <tr>\n",
       "      <td>954</td>\n",
       "      <td>3951559397</td>\n",
       "      <td>2</td>\n",
       "    </tr>\n",
       "    <tr>\n",
       "      <td>957</td>\n",
       "      <td>3957174400</td>\n",
       "      <td>2</td>\n",
       "    </tr>\n",
       "    <tr>\n",
       "      <td>958</td>\n",
       "      <td>3963646447</td>\n",
       "      <td>2</td>\n",
       "    </tr>\n",
       "    <tr>\n",
       "      <td>960</td>\n",
       "      <td>3972127743</td>\n",
       "      <td>2</td>\n",
       "    </tr>\n",
       "    <tr>\n",
       "      <td>963</td>\n",
       "      <td>3984495233</td>\n",
       "      <td>2</td>\n",
       "    </tr>\n",
       "    <tr>\n",
       "      <td>984</td>\n",
       "      <td>4069496402</td>\n",
       "      <td>2</td>\n",
       "    </tr>\n",
       "    <tr>\n",
       "      <td>992</td>\n",
       "      <td>4120364173</td>\n",
       "      <td>2</td>\n",
       "    </tr>\n",
       "    <tr>\n",
       "      <td>1009</td>\n",
       "      <td>4186807279</td>\n",
       "      <td>2</td>\n",
       "    </tr>\n",
       "    <tr>\n",
       "      <td>1023</td>\n",
       "      <td>4256040402</td>\n",
       "      <td>2</td>\n",
       "    </tr>\n",
       "    <tr>\n",
       "      <td>1026</td>\n",
       "      <td>4266935830</td>\n",
       "      <td>2</td>\n",
       "    </tr>\n",
       "  </tbody>\n",
       "</table>\n",
       "</div>"
      ],
      "text/plain": [
       "       visitorId  group\n",
       "2        8300375      2\n",
       "44     199603092      2\n",
       "51     232979603      2\n",
       "55     237748145      2\n",
       "66     276558944      2\n",
       "84     351125977      2\n",
       "97     393266494      2\n",
       "114    457167155      2\n",
       "119    471551937      2\n",
       "122    477780734      2\n",
       "192    818047933      2\n",
       "236    963407295      2\n",
       "299   1230306981      2\n",
       "311   1294878855      2\n",
       "316   1316129916      2\n",
       "318   1333886533      2\n",
       "340   1404934699      2\n",
       "386   1602967004      2\n",
       "393   1614305549      2\n",
       "402   1648269707      2\n",
       "406   1668030113      2\n",
       "422   1738359350      2\n",
       "436   1801183820      2\n",
       "469   1959144690      2\n",
       "487   2038680547      2\n",
       "491   2044997962      2\n",
       "569   2378935119      2\n",
       "591   2458001652      2\n",
       "614   2579882178      2\n",
       "619   2587333274      2\n",
       "622   2600415354      2\n",
       "639   2654030115      2\n",
       "648   2686716486      2\n",
       "661   2712142231      2\n",
       "662   2716752286      2\n",
       "677   2780786433      2\n",
       "710   2927087541      2\n",
       "715   2949041841      2\n",
       "718   2954449915      2\n",
       "744   3062433592      2\n",
       "784   3202540741      2\n",
       "792   3234906277      2\n",
       "884   3656415546      2\n",
       "897   3717692402      2\n",
       "909   3766097110      2\n",
       "917   3803269165      2\n",
       "932   3891541246      2\n",
       "950   3941795274      2\n",
       "954   3951559397      2\n",
       "957   3957174400      2\n",
       "958   3963646447      2\n",
       "960   3972127743      2\n",
       "963   3984495233      2\n",
       "984   4069496402      2\n",
       "992   4120364173      2\n",
       "1009  4186807279      2\n",
       "1023  4256040402      2\n",
       "1026  4266935830      2"
      ]
     },
     "execution_count": 16,
     "metadata": {},
     "output_type": "execute_result"
    }
   ],
   "source": [
    "orders.groupby('visitorId').agg({'group' : 'nunique'}).reset_index().query('group > 1')"
   ]
  },
  {
   "cell_type": "code",
   "execution_count": 17,
   "metadata": {},
   "outputs": [],
   "source": [
    "#Теперь отфильтруем таблицу visitors\n",
    "inappropriate_orders_grouped = inappropriate_orders_grouped.reset_index()\n",
    "inappropriate_orders_grouped['count'] = -1\n",
    "inappropriate_orders_grouped = inappropriate_orders_grouped[['group', 'date', 'count']]\n",
    "visitors_filt = visitors.merge(inappropriate_orders_grouped, on=['date', 'group'], how='left').fillna(0)\n",
    "visitors_filt['visitors_'] = visitors_filt['visitors'] + visitors_filt['count']\n",
    "visitors_filt = visitors_filt.drop(['visitors', 'count'], axis=1)\n",
    "visitors_filt.columns = ['date', 'group', 'visitors']\n",
    "visitors_filt['visitors'] = visitors_filt['visitors'].astype(int)"
   ]
  },
  {
   "cell_type": "code",
   "execution_count": 18,
   "metadata": {},
   "outputs": [],
   "source": [
    "# получаем агрегированные кумулятивные по дням данные о заказах \n",
    "ordersAggregated = datesGroups.apply(\n",
    "        lambda x: orders[np.logical_and(orders['date'] <= x['date'], orders['group'] == x['group']\n",
    "                                       )]\n",
    "                                     .agg({'date' : 'max', 'group' : 'max', 'transactionId' : 'nunique', 'visitorId' : 'nunique', 'revenue' : 'sum'}),\n",
    "                                     axis=1).sort_values(by=['date','group'])"
   ]
  },
  {
   "cell_type": "code",
   "execution_count": 19,
   "metadata": {},
   "outputs": [],
   "source": [
    "visitorsAggregated = datesGroups.apply(\n",
    "    lambda x: visitors[\n",
    "        np.logical_and(\n",
    "            visitors['date'] <= x['date'], visitors['group'] == x['group']\n",
    "        )\n",
    "    ].agg({'date': 'max', 'group': 'max', 'visitors': 'sum'}),\n",
    "    axis=1,\n",
    ").sort_values(by=['date', 'group'])\n"
   ]
  },
  {
   "cell_type": "code",
   "execution_count": 20,
   "metadata": {},
   "outputs": [],
   "source": [
    "cumulativeData = ordersAggregated.merge(\n",
    "    visitorsAggregated, left_on=['date', 'group'], right_on=['date', 'group']\n",
    ")\n",
    "cumulativeData.columns = [\n",
    "    'date',\n",
    "    'group',\n",
    "    'orders',\n",
    "    'buyers',\n",
    "    'revenue',\n",
    "    'visitors',\n",
    "]"
   ]
  },
  {
   "cell_type": "code",
   "execution_count": 21,
   "metadata": {},
   "outputs": [],
   "source": [
    "# датафрейм с кумулятивным количеством заказов и кумулятивной выручкой по дням в группе А\n",
    "cumulativeRevenueA = cumulativeData[cumulativeData['group']=='A'][['date','revenue', 'orders']]\n",
    "\n",
    "# датафрейм с кумулятивным количеством заказов и кумулятивной выручкой по дням в группе B\n",
    "cumulativeRevenueB = cumulativeData[cumulativeData['group']=='B'][['date','revenue', 'orders']]"
   ]
  },
  {
   "cell_type": "code",
   "execution_count": 22,
   "metadata": {},
   "outputs": [
    {
     "name": "stderr",
     "output_type": "stream",
     "text": [
      "/opt/conda/lib/python3.7/site-packages/pandas/plotting/_matplotlib/converter.py:103: FutureWarning:\n",
      "\n",
      "Using an implicitly registered datetime converter for a matplotlib plotting method. The converter was registered by pandas on import. Future versions of pandas will require you to explicitly register matplotlib converters.\n",
      "\n",
      "To register the converters:\n",
      "\t>>> from pandas.plotting import register_matplotlib_converters\n",
      "\t>>> register_matplotlib_converters()\n",
      "\n"
     ]
    },
    {
     "data": {
      "image/png": "[encoded data removed]",
      "text/plain": [
       "<Figure size 1440x720 with 1 Axes>"
      ]
     },
     "metadata": {
      "needs_background": "light"
     },
     "output_type": "display_data"
    }
   ],
   "source": [
    "plt.figure(figsize=(20, 10))\n",
    "plt.title('График кумулятивной выручки по группам', fontsize=18)\n",
    "plt.xlabel(\"Дата\",fontsize=18)\n",
    "plt.ylabel(\"Средний чек\",fontsize=18)\n",
    "  \n",
    "# Строим график выручки группы А\n",
    "plt.plot(cumulativeRevenueA['date'], cumulativeRevenueA['revenue'], label='A')\n",
    "# Строим график выручки группы B\n",
    "plt.plot(cumulativeRevenueB['date'], cumulativeRevenueB['revenue'], label='B')\n",
    "plt.legend(('A', 'B'),fontsize=20)\n",
    "plt.grid()\n",
    "plt.show()"
   ]
  },
  {
   "cell_type": "markdown",
   "metadata": {},
   "source": [
    "По графику можно сказать что сегмент B  вырвался вперед и продолжил лидировать весь остаток теста. Похоже что аномально большие заказы влияют на результаты теста."
   ]
  },
  {
   "cell_type": "code",
   "execution_count": 23,
   "metadata": {},
   "outputs": [
    {
     "data": {
      "image/png": "[encoded data removed]",
      "text/plain": [
       "<Figure size 1440x720 with 1 Axes>"
      ]
     },
     "metadata": {
      "needs_background": "light"
     },
     "output_type": "display_data"
    }
   ],
   "source": [
    "#Построим график кумулятивного среднего чека по группам\n",
    "mean_check = orders_filt.groupby(['group','date'])['revenue'].mean().groupby(level=[0]).cumsum().to_frame().reset_index().round(1)\n",
    "mean_check\n",
    "mean_check_A = mean_check[mean_check['group']=='A']\n",
    "mean_check_B = mean_check[mean_check['group']=='B']\n",
    "\n",
    "\n",
    "plt.figure(figsize=(20, 10))\n",
    "plt.title('График кумулятивного среднего чека по группам', fontsize=18)\n",
    "plt.xlabel(\"Дата\",fontsize=18)\n",
    "plt.ylabel(\"Средний чек\",fontsize=18)\n",
    "# Строим график выручки группы А\n",
    "plt.plot(mean_check_A['date'], mean_check_A['revenue'], label='A')\n",
    "# Строим график выручки группы B\n",
    "plt.plot(mean_check_B ['date'], mean_check_B ['revenue'], label='B')\n",
    "plt.legend(('A', 'B'),fontsize=20)\n",
    "plt.grid()\n",
    "plt.show()"
   ]
  },
  {
   "cell_type": "markdown",
   "metadata": {},
   "source": [
    "Значение среднего чека продолжает колебаться, делать выводы по такому графику еще рано."
   ]
  },
  {
   "cell_type": "code",
   "execution_count": 38,
   "metadata": {},
   "outputs": [
    {
     "data": {
      "image/png": "[encoded data removed]",
      "text/plain": [
       "<Figure size 1440x720 with 1 Axes>"
      ]
     },
     "metadata": {
      "needs_background": "light"
     },
     "output_type": "display_data"
    }
   ],
   "source": [
    "#Построим график относительного изменения кумулятивного среднего чека группы B к группе A\n",
    "# собираем данные в одном датафрейме\n",
    "plt.figure(figsize=(20, 10))\n",
    "plt.title('График относительного изменения кумулятивного среднего чека группы B к группе A', fontsize=18)\n",
    "\n",
    "mergedCumulativeRevenue = cumulativeRevenueA.merge(cumulativeRevenueB, left_on='date', right_on='date', how='left', suffixes=['A', 'B'])\n",
    "\n",
    "# cтроим отношение средних чеков\n",
    "plt.plot(mergedCumulativeRevenue['date'], (mergedCumulativeRevenue['revenueB']/mergedCumulativeRevenue['ordersB'])/(mergedCumulativeRevenue['revenueA']/mergedCumulativeRevenue['ordersA'])-1)\n",
    "plt.xlabel('Дата', fontsize=18)\n",
    "plt.ylabel('Кумулятивный ср чек', fontsize=18)\n",
    "# добавляем ось X\n",
    "plt.axhline(y=0, color='black', linestyle='--')\n",
    "plt.show()"
   ]
  },
  {
   "cell_type": "markdown",
   "metadata": {},
   "source": [
    "Значения тест менялись резко в несколько дат, видимо именно тогда были совершены аномальные заказы"
   ]
  },
  {
   "cell_type": "code",
   "execution_count": 39,
   "metadata": {},
   "outputs": [
    {
     "data": {
      "image/png": "[encoded data removed]",
      "text/plain": [
       "<Figure size 1440x720 with 1 Axes>"
      ]
     },
     "metadata": {
      "needs_background": "light"
     },
     "output_type": "display_data"
    }
   ],
   "source": [
    "#Построим график кумулятивной конверсии по группам\n",
    "# считаем кумулятивную конверсию\n",
    "cumulativeData['conversion'] = cumulativeData['orders']/cumulativeData['visitors']\n",
    "\n",
    "# отделяем данные по группе A\n",
    "cumulativeDataA = cumulativeData[cumulativeData['group']=='A']\n",
    "\n",
    "# отделяем данные по группе B\n",
    "cumulativeDataB = cumulativeData[cumulativeData['group']=='B']\n",
    "# строим графики\n",
    "plt.figure(figsize=(20, 10))\n",
    "plt.plot(cumulativeDataA['date'], cumulativeDataA['conversion'], label='A')\n",
    "plt.plot(cumulativeDataB['date'], cumulativeDataB['conversion'], label='B')\n",
    "plt.legend()\n",
    "\n",
    "# задаем масштаб осей\n",
    "plt.axis([dt.datetime(2019, 8, 1), dt.datetime(2019, 9, 2), 0, 0.05])\n",
    "plt.title('Uрафик кумулятивной конверсии по группам', fontsize=20)\n",
    "plt.legend(('A', 'B'),fontsize=15)\n",
    "plt.xlabel('Дата', fontsize=18)\n",
    "plt.ylabel('Кумулятивная конверсия', fontsize=18)\n",
    "plt.show()\n",
    "\n"
   ]
  },
  {
   "cell_type": "markdown",
   "metadata": {},
   "source": [
    "В начале теста сегмент А имел большую конверсию, постепенно сегмент В выровнялся и зафиксировался больше значения сегмента В. Колебание с начале и в конце теста не слишком большое."
   ]
  },
  {
   "cell_type": "code",
   "execution_count": 40,
   "metadata": {},
   "outputs": [
    {
     "data": {
      "text/plain": [
       "['2019-08-01', '2019-09-02', -0.5, 0.5]"
      ]
     },
     "execution_count": 40,
     "metadata": {},
     "output_type": "execute_result"
    },
    {
     "data": {
      "image/png": "[encoded data removed]",
      "text/plain": [
       "<Figure size 1440x720 with 1 Axes>"
      ]
     },
     "metadata": {
      "needs_background": "light"
     },
     "output_type": "display_data"
    }
   ],
   "source": [
    "#Построим график относительного изменения кумулятивной конверсии группы B к группе A\n",
    "plt.figure(figsize=(20, 10))\n",
    "plt.title('График относительного изменения кумулятивной конверсии группы B к группе A', fontsize=18)\n",
    "cumulativeData['conversion'] = (\n",
    "    cumulativeData['orders'] / cumulativeData['visitors']\n",
    ")\n",
    "\n",
    "cumulativeDataA = cumulativeData[cumulativeData['group'] == 'A']\n",
    "cumulativeDataB = cumulativeData[cumulativeData['group'] == 'B']\n",
    "mergedCumulativeConversions = cumulativeDataA[['date','conversion']].merge(cumulativeDataB[['date','conversion']], left_on='date', right_on='date', how='left', suffixes=['A', 'B'])\n",
    "plt.plot(mergedCumulativeConversions['date'], mergedCumulativeConversions['conversionB']/mergedCumulativeConversions['conversionA']-1, label=\"Относительный прирост конверсии группы B относительно группы A\")\n",
    "\n",
    "\n",
    "\n",
    "plt.axhline(y=0, color='black', linestyle='--')\n",
    "plt.axhline(y=0.2, color='grey', linestyle='--')\n",
    "plt.xlabel('Дата', fontsize=18)\n",
    "plt.ylabel('Кумулятивная конверсия', fontsize=18)\n",
    "plt.axis([\"2019-08-01\", '2019-09-02', -0.5, 0.5]) "
   ]
  },
  {
   "cell_type": "markdown",
   "metadata": {},
   "source": [
    "Почти с самого начала теста группа B лидирует по конверсии: есть прирост 20% относительно группы А."
   ]
  },
  {
   "cell_type": "code",
   "execution_count": 27,
   "metadata": {},
   "outputs": [
    {
     "data": {
      "image/png": "[encoded data removed]",
      "text/plain": [
       "<Figure size 1440x720 with 1 Axes>"
      ]
     },
     "metadata": {
      "needs_background": "light"
     },
     "output_type": "display_data"
    }
   ],
   "source": [
    "#Построим точечный график количества заказов по пользователям.\n",
    "ordersByUsers = (\n",
    "    orders.groupby('visitorId', as_index=False)\n",
    "    .agg({'transactionId': pd.Series.nunique})\n",
    ")\n",
    "ordersByUsers.columns = ['visitorId', 'orders']\n",
    "\n",
    "ordersByUsers.sort_values(by='orders', ascending=False)\n",
    "\n",
    "\n",
    "# серия из чисел от 0 до количества наблюдений в ordersByUsers\n",
    "plt.figure(figsize=(20, 10))\n",
    "plt.title('Точечный график количества заказов по пользователям', fontsize=18)\n",
    "plt.xlabel('Пользователи', fontsize=18)\n",
    "plt.ylabel('Количество заказов', fontsize=18)\n",
    "x_values = pd.Series(range(0,len(ordersByUsers)))\n",
    "plt.scatter(x_values,ordersByUsers['orders'])\n",
    "plt.show()\n",
    "\n",
    "\n",
    "\n",
    "\n"
   ]
  },
  {
   "cell_type": "code",
   "execution_count": 28,
   "metadata": {},
   "outputs": [
    {
     "data": {
      "image/png": "[encoded data removed]",
      "text/plain": [
       "<Figure size 1440x720 with 1 Axes>"
      ]
     },
     "metadata": {
      "needs_background": "light"
     },
     "output_type": "display_data"
    }
   ],
   "source": [
    "# Ячейка ревьюера: построим точечный график количества заказов на одного покупателя\n",
    "# выделим данные для групп А и В:\n",
    "ordersByUsers_a = orders.query('group == \"A\"').groupby('visitorId', as_index=False).agg({'transactionId': pd.Series.nunique})\n",
    "ordersByUsers_b = orders.query('group == \"B\"').groupby('visitorId', as_index=False).agg({'transactionId': pd.Series.nunique})\n",
    "x_values_a = pd.Series(range(0,len(ordersByUsers_a)))\n",
    "x_values_b = pd.Series(range(0,len(ordersByUsers_b)))\n",
    "\n",
    "plt.figure(figsize=(20, 10))\n",
    "plt.title('Точечный график количества заказов по пользователям', fontsize=18)\n",
    "plt.xlabel('Пользователи', fontsize=18)\n",
    "plt.ylabel('Количество заказов', fontsize=18)\n",
    "plt.scatter(x_values_a, ordersByUsers_a['transactionId'], label=\"Группа A\", alpha=0.5, s = 50)\n",
    "plt.scatter(x_values_b, ordersByUsers_b['transactionId'], label=\"Группа B\", alpha=0.5)\n",
    "plt.legend()\n",
    "plt.show()"
   ]
  },
  {
   "cell_type": "markdown",
   "metadata": {},
   "source": [
    "Спасибо за пример! Смотрю на код и понимаю что при попытках сделать самому мыслил в верном направлении но не дожал в конце"
   ]
  },
  {
   "cell_type": "markdown",
   "metadata": {},
   "source": [
    "Пользователей заказавших более двух раз мало, они могут быть аномальными"
   ]
  },
  {
   "cell_type": "code",
   "execution_count": 29,
   "metadata": {},
   "outputs": [
    {
     "data": {
      "text/plain": [
       "array([2., 4.])"
      ]
     },
     "execution_count": 29,
     "metadata": {},
     "output_type": "execute_result"
    }
   ],
   "source": [
    "#Посчитаем 95-й и 99-й перцентили количества заказов на пользователя\n",
    "ordersByUsers.sort_values(by='orders', ascending=False).head(10)\n",
    "np.percentile(ordersByUsers['orders'], [95, 99])\n"
   ]
  },
  {
   "cell_type": "markdown",
   "metadata": {},
   "source": [
    "99-му персентилю соотвествует значение 4, то есть больше 4 заказов сделали меньше 1% пользователей, 95-му персентилю соотвестует число 2, то есть больше 2 заказов совершили меньше 5% пользователей."
   ]
  },
  {
   "cell_type": "code",
   "execution_count": 30,
   "metadata": {},
   "outputs": [
    {
     "data": {
      "image/png": "[encoded data removed]",
      "text/plain": [
       "<Figure size 1440x720 with 1 Axes>"
      ]
     },
     "metadata": {
      "needs_background": "light"
     },
     "output_type": "display_data"
    }
   ],
   "source": [
    "\n",
    "#Построим точечный график стоимостей заказов по пользователям.\n",
    "plt.figure(figsize=(20, 10))\n",
    "plt.title('Точечный график стоимостей заказов по пользователям', fontsize=18)\n",
    "plt.xlabel('Пользователи', fontsize=18)\n",
    "plt.ylabel('Количество заказов', fontsize=18)\n",
    "x_values = pd.Series(range(0,len(orders['revenue'])))\n",
    "plt.scatter(x_values, orders['revenue'])\n",
    "\n",
    "plt.show()"
   ]
  },
  {
   "cell_type": "markdown",
   "metadata": {},
   "source": [
    "Есть немного дорогих заказов. По графику можно выбрать границу аномальных заказов между 20 000 и 120 000 рублей. Однако принято отсеивать от 1% до 5% наблюдений с крайними значениями."
   ]
  },
  {
   "cell_type": "code",
   "execution_count": 31,
   "metadata": {},
   "outputs": [
    {
     "data": {
      "text/plain": [
       "array([28000. , 58233.2])"
      ]
     },
     "execution_count": 31,
     "metadata": {},
     "output_type": "execute_result"
    }
   ],
   "source": [
    "#Посчитаем 95-й и 99-й перцентили стоимости заказов на пользователя.\n",
    "orders.sort_values(by='revenue', ascending=False).head(10)\n",
    "np.percentile(orders['revenue'], [95, 99])"
   ]
  },
  {
   "cell_type": "markdown",
   "metadata": {},
   "source": [
    "99-му персентилю соотвествует значение 58233, то есть стоимость заказа больше 58233 у 1% пользователей, 95-му персентилю соотвестует число 28000, то есть сумма заказа больше 28 тысяч у 5% пользователей"
   ]
  },
  {
   "cell_type": "code",
   "execution_count": 32,
   "metadata": {},
   "outputs": [
    {
     "name": "stdout",
     "output_type": "stream",
     "text": [
      "        date  ordersPerDateA  revenuePerDateA  ordersPerDateB  \\\n",
      "0 2019-08-01              24           148579              21   \n",
      "1 2019-08-02              20            93822              24   \n",
      "2 2019-08-03              24           112473              16   \n",
      "3 2019-08-04              16            70825              17   \n",
      "4 2019-08-05              25           124218              23   \n",
      "\n",
      "   revenuePerDateB  ordersCummulativeA  revenueCummulativeA  \\\n",
      "0           101217                  24               148579   \n",
      "1           165531                  44               242401   \n",
      "2           114248                  68               354874   \n",
      "3           108571                  84               425699   \n",
      "4            92428                 109               549917   \n",
      "\n",
      "   ordersCummulativeB  revenueCummulativeB  visitorsPerDateA  \\\n",
      "0                  21               101217               719   \n",
      "1                  45               266748               619   \n",
      "2                  61               380996               507   \n",
      "3                  78               489567               717   \n",
      "4                 101               581995               756   \n",
      "\n",
      "   visitorsPerDateB  visitorsCummulativeA  visitorsCummulativeB  \n",
      "0               713                   719                   713  \n",
      "1               581                  1338                  1294  \n",
      "2               509                  1845                  1803  \n",
      "3               770                  2562                  2573  \n",
      "4               707                  3318                  3280  \n"
     ]
    }
   ],
   "source": [
    "\n",
    "#соберем данные по заказам и визитам в одну таблицу. \n",
    "#для этого создадим несколько таблиц и затем объединим их\n",
    "visitorsADaily = visitors[visitors['group'] == 'A'][['date', 'visitors']]\n",
    "visitorsADaily.columns = ['date', 'visitorsPerDateA']\n",
    "visitorsACummulative = visitorsADaily.apply(\n",
    "    lambda x: visitorsADaily[visitorsADaily['date'] <= x['date']].agg(\n",
    "        {'date': 'max', 'visitorsPerDateA': 'sum'}\n",
    "    ),\n",
    "    axis=1,\n",
    ")\n",
    "visitorsACummulative.columns = ['date', 'visitorsCummulativeA']\n",
    "\n",
    "visitorsBDaily = visitors[visitors['group'] == 'B'][['date', 'visitors']]\n",
    "visitorsBDaily.columns = ['date', 'visitorsPerDateB']\n",
    "visitorsBCummulative = visitorsBDaily.apply(\n",
    "    lambda x: visitorsBDaily[visitorsBDaily['date'] <= x['date']].agg(\n",
    "        {'date': 'max', 'visitorsPerDateB': 'sum'}\n",
    "    ),\n",
    "    axis=1,\n",
    ")\n",
    "visitorsBCummulative.columns = ['date', 'visitorsCummulativeB']\n",
    "\n",
    "ordersADaily = (\n",
    "    orders[orders['group'] == 'A'][['date', 'transactionId', 'visitorId', 'revenue']]\n",
    "    .groupby('date', as_index=False)\n",
    "    .agg({'transactionId': pd.Series.nunique, 'revenue': 'sum'})\n",
    ")\n",
    "ordersADaily.columns = ['date', 'ordersPerDateA', 'revenuePerDateA']\n",
    "\n",
    "ordersACummulative = ordersADaily.apply(\n",
    "    lambda x: ordersADaily[ordersADaily['date'] <= x['date']].agg(\n",
    "        {'date': 'max', 'ordersPerDateA': 'sum', 'revenuePerDateA': 'sum'}\n",
    "    ),\n",
    "    axis=1,\n",
    ").sort_values(by=['date'])\n",
    "ordersACummulative.columns = [\n",
    "    'date',\n",
    "    'ordersCummulativeA',\n",
    "    'revenueCummulativeA',\n",
    "]\n",
    "\n",
    "ordersBDaily = (\n",
    "    orders[orders['group'] == 'B'][['date', 'transactionId', 'visitorId', 'revenue']]\n",
    "    .groupby('date', as_index=False)\n",
    "    .agg({'transactionId': pd.Series.nunique, 'revenue': 'sum'})\n",
    ")\n",
    "ordersBDaily.columns = ['date', 'ordersPerDateB', 'revenuePerDateB']\n",
    "ordersBCummulative = ordersBDaily.apply(\n",
    "    lambda x: ordersBDaily[ordersBDaily['date'] <= x['date']].agg(\n",
    "        {'date': 'max', 'ordersPerDateB': 'sum', 'revenuePerDateB': 'sum'}\n",
    "    ),\n",
    "    axis=1,\n",
    ").sort_values(by=['date'])\n",
    "ordersBCummulative.columns = [\n",
    "    'date',\n",
    "    'ordersCummulativeB',\n",
    "    'revenueCummulativeB',\n",
    "]\n",
    "\n",
    "data = (\n",
    "    ordersADaily.merge(\n",
    "        ordersBDaily, left_on='date', right_on='date', how='left'\n",
    "    )\n",
    "    .merge(ordersACummulative, left_on='date', right_on='date', how='left')\n",
    "    .merge(ordersBCummulative, left_on='date', right_on='date', how='left')\n",
    "    .merge(visitorsADaily, left_on='date', right_on='date', how='left')\n",
    "    .merge(visitorsBDaily, left_on='date', right_on='date', how='left')\n",
    "    .merge(visitorsACummulative, left_on='date', right_on='date', how='left')\n",
    "    .merge(visitorsBCummulative, left_on='date', right_on='date', how='left')\n",
    ")\n",
    "\n",
    "print(data.head(5))\n",
    "\n"
   ]
  },
  {
   "cell_type": "markdown",
   "metadata": {},
   "source": [
    "Для расчета р-value, я решил использовать напараметрический тест Уилкоксона-Манна-Уитни, так как у нас имеются выбросы, а сам тест работает с рангами, не учитывая сами значения. Так же сформирую нулевую и альтернативную гипотезы. Нулевая гипотеза говорит о том, что статистическая значимость не значительна и сделать вывод о различии нельзя, альтернативная гипотеза говорит о том, что статистическая значимость значитаельная и между выборками имеется статистическая значимость. Порогом статистической значимости установим alpha=.05"
   ]
  },
  {
   "cell_type": "code",
   "execution_count": 33,
   "metadata": {
    "scrolled": false
   },
   "outputs": [
    {
     "name": "stdout",
     "output_type": "stream",
     "text": [
      "P-value по конверсии до очистки данных: 0.0084\n",
      "Отвергаем нулевую гипотезу\n",
      "Относительный показатель 'B' и 'A' = 0.14\n"
     ]
    }
   ],
   "source": [
    "#Посчитаем статистическую значимость различий в конверсии между группами по «сырым» данным\n",
    "ordersByUsersA = (\n",
    "    orders[orders['group'] == 'A']\n",
    "    .groupby('visitorId', as_index=False)\n",
    "    .agg({'transactionId': pd.Series.nunique})\n",
    ")\n",
    "ordersByUsersA.columns = ['visitorId', 'orders']\n",
    " \n",
    "ordersByUsersB = (\n",
    "    orders[orders['group'] == 'B']\n",
    "    .groupby('visitorId', as_index=False)\n",
    "    .agg({'transactionId': pd.Series.nunique})\n",
    ")\n",
    "ordersByUsersB.columns = ['visitorId', 'orders']\n",
    " \n",
    "pd.Series(0, index=np.arange(data['visitorsPerDateA'].sum() - len(ordersByUsersA['orders'])), name='orders')\n",
    " \n",
    "sampleA = pd.concat([ordersByUsersA['orders'],pd.Series(0, index=np.arange(data['visitorsPerDateA'].sum() - len(ordersByUsersA['orders'])), name='orders')],axis=0)\n",
    " \n",
    "sampleB = pd.concat([ordersByUsersB['orders'],pd.Series(0, index=np.arange(data['visitorsPerDateB'].sum() - len(ordersByUsersB['orders'])), name='orders')],axis=0)\n",
    " \n",
    "ordersByUsersA = (\n",
    "    orders[orders['group'] == 'A']\n",
    "    .groupby('visitorId', as_index=False)\n",
    "    .agg({'transactionId': pd.Series.nunique})\n",
    ")\n",
    "ordersByUsersA.columns = ['visitorId', 'orders']\n",
    " \n",
    "ordersByUsersB = (\n",
    "    orders[orders['group'] == 'B']\n",
    "    .groupby('visitorId', as_index=False)\n",
    "    .agg({'transactionId': pd.Series.nunique})\n",
    ")\n",
    "ordersByUsersB.columns = ['visitorId', 'orders']\n",
    " \n",
    "sampleA = pd.concat(\n",
    "    [\n",
    "        ordersByUsersA['orders'],\n",
    "        pd.Series(\n",
    "            0,\n",
    "            index=np.arange(\n",
    "                data['visitorsPerDateA'].sum() - len(ordersByUsersA['orders'])\n",
    "            ),\n",
    "            name='orders',\n",
    "        ),\n",
    "    ],\n",
    "    axis=0,\n",
    ")\n",
    " \n",
    "sampleB = pd.concat(\n",
    "    [\n",
    "        ordersByUsersB['orders'],\n",
    "        pd.Series(\n",
    "            0,\n",
    "            index=np.arange(\n",
    "                data['visitorsPerDateB'].sum() - len(ordersByUsersB['orders'])\n",
    "            ),\n",
    "            name='orders',\n",
    "        ),\n",
    "    ],\n",
    "    axis=0,\n",
    ")\n",
    "\n",
    "alpha = .05\n",
    "p_val_conv = stats.mannwhitneyu(sampleA, sampleB)[1].round(5)\n",
    "\n",
    "print('P-value по конверсии до очистки данных: {}'.format(p_val_conv))\n",
    "if (p_val_conv < alpha):\n",
    "    print(\"Отвергаем нулевую гипотезу\")\n",
    "else:\n",
    "    print(\"Не получилось отвергнуть нулевую гипотезу\")\n",
    "print(\"Относительный показатель 'B' и 'A' = {0:.2f}\".format(sampleB.mean()/sampleA.mean()-1)) "
   ]
  },
  {
   "cell_type": "markdown",
   "metadata": {},
   "source": [
    "p-value значительно меньше 0.05 поэтому нулевую гепотизу отвергаем и  подтверждаем, что в среднем чеке между группами есть статистически значимая разница. Анализ сырых данных показывает что в конверсии  между группами есть статистически значемые различия. Относительный прирост группы В к группе А равен 14%\n"
   ]
  },
  {
   "cell_type": "code",
   "execution_count": 34,
   "metadata": {},
   "outputs": [
    {
     "name": "stdout",
     "output_type": "stream",
     "text": [
      "alpha = 0.05\n",
      "Cтатистически значемых значений между группами = 0.36\n",
      "Относительное различие среднего чека между группами = 0.26\n"
     ]
    }
   ],
   "source": [
    "#Посчитаем статистическую значимость различий в среднем чеке заказа между группами по «сырым» данным\n",
    "print(\"alpha =\",0.05)\n",
    "print(\"Cтатистически значемых значений между группами = {0:.2f}\".format(\n",
    "        stats.mannwhitneyu(\n",
    "            orders[\n",
    "                np.logical_and(\n",
    "                    orders['group'] == 'A',\n",
    "                    np.logical_not(orders['visitorId'].isin(ordersADaily)),\n",
    "                )\n",
    "            ]['revenue'],\n",
    "            orders[\n",
    "                np.logical_and(\n",
    "                    orders['group'] == 'B',\n",
    "                    np.logical_not(orders['visitorId'].isin(ordersBDaily)),\n",
    "                )\n",
    "            ]['revenue'],\n",
    "        )[1]\n",
    "    )\n",
    ")\n",
    "print(\"Относительное различие среднего чека между группами = {0:.2f}\".format(\n",
    "        orders[\n",
    "            np.logical_and(\n",
    "                orders['group'] == 'B',\n",
    "                np.logical_not(orders['visitorId'].isin(ordersBDaily)),\n",
    "            )\n",
    "        ]['revenue'].mean()\n",
    "        / orders[\n",
    "            np.logical_and(\n",
    "                orders['group'] == 'A',\n",
    "                np.logical_not(orders['visitorId'].isin(ordersADaily)),\n",
    ")\n",
    "        ]['revenue'].mean()\n",
    "        - 1\n",
    "    )\n",
    ") \n",
    "\n",
    "\n"
   ]
  },
  {
   "cell_type": "markdown",
   "metadata": {},
   "source": [
    "Относительное различие среднего чека между группами = 26%, но поскольку p-value < alpha выборки не показывают статистически значимое различие, а именно  наблюдаемое нами отношение между группами, равно 26, было получено случайным образом.\n",
    "\n"
   ]
  },
  {
   "cell_type": "code",
   "execution_count": 35,
   "metadata": {},
   "outputs": [
    {
     "data": {
      "text/plain": [
       "60     4256040402\n",
       "73     2947100995\n",
       "77      787824685\n",
       "78     3288820196\n",
       "131    2254586615\n",
       "Name: visitorId, dtype: int64"
      ]
     },
     "execution_count": 35,
     "metadata": {},
     "output_type": "execute_result"
    }
   ],
   "source": [
    "#Подготовим очищенные данные\n",
    "ordersByUsersA = (\n",
    "    orders[orders['group'] == 'A']\n",
    "    .groupby('visitorId', as_index=False)\n",
    "    .agg({'transactionId': pd.Series.nunique})\n",
    ")\n",
    "ordersByUsersA.columns = ['visitorId', 'orders']\n",
    "\n",
    "ordersByUsersB = (\n",
    "    orders[orders['group'] == 'B']\n",
    "    .groupby('visitorId', as_index=False)\n",
    "    .agg({'transactionId': pd.Series.nunique})\n",
    ")\n",
    "ordersByUsersB.columns = ['visitorId', 'orders']\n",
    "\n",
    "\n",
    "usersWithManyOrders = pd.concat(\n",
    "    [\n",
    "        ordersByUsersA[ordersByUsersA['orders'] > 2]['visitorId'],\n",
    "        ordersByUsersB[ordersByUsersB['orders'] > 2]['visitorId'],\n",
    "    ],\n",
    "    axis=0,\n",
    ")\n",
    "\n",
    "revenue_lim = np.percentile(orders['revenue'], 95)\n",
    "usersWithExpensiveOrders = orders[orders['revenue'] > revenue_lim]['visitorId']\n",
    "abnormalUsers = usersWithExpensiveOrders\n",
    "abnormalUsers.head(5)"
   ]
  },
  {
   "cell_type": "code",
   "execution_count": 36,
   "metadata": {},
   "outputs": [
    {
     "name": "stdout",
     "output_type": "stream",
     "text": [
      "P-value по конверсии после очистки данных: 0.0094\n",
      "Отвергаем нулевую гипотезу\n",
      "Относительный показатель 'B' и 'A' по очищеным данным= 0.14\n"
     ]
    }
   ],
   "source": [
    "#Посчитаем статистическую значимость различий в конверсии между группами по «очищенным» данным\n",
    "sampleAFiltered = pd.concat(\n",
    "    [\n",
    "        ordersByUsersA[\n",
    "            np.logical_not(ordersByUsersA['visitorId'].isin(abnormalUsers))\n",
    "        ]['orders'],\n",
    "        pd.Series(\n",
    "            0,\n",
    "            index=np.arange(\n",
    "                data['visitorsPerDateA'].sum() - len(ordersByUsersA['orders'])\n",
    "            ),\n",
    "            name='orders',\n",
    "        ),\n",
    "    ],\n",
    "    axis=0,\n",
    ")\n",
    "sampleBFiltered = pd.concat(\n",
    "    [\n",
    "        ordersByUsersB[\n",
    "            np.logical_not(ordersByUsersB['visitorId'].isin(abnormalUsers))\n",
    "        ]['orders'],\n",
    "        pd.Series(\n",
    "            0,\n",
    "            index=np.arange(\n",
    "                data['visitorsPerDateB'].sum() - len(ordersByUsersB['orders'])\n",
    "            ),\n",
    "            name='orders',\n",
    "        ),\n",
    "    ],\n",
    "    axis=0,\n",
    ")\n",
    "\n",
    "alpha = .05\n",
    "p_val_conv = stats.mannwhitneyu(sampleAFiltered,sampleBFiltered)[1]\n",
    "\n",
    "print('P-value по конверсии после очистки данных: {0:.4f}'.format(p_val_conv))\n",
    "if (p_val_conv < alpha):\n",
    "    print(\"Отвергаем нулевую гипотезу\")\n",
    "else:\n",
    "    print(\"Не получилось отвергнуть нулевую гипотезу\")\n",
    "print(\"Относительный показатель 'B' и 'A' по очищеным данным= {0:.2f}\".format(sampleBFiltered.mean() / sampleAFiltered.mean() - 1)) "
   ]
  },
  {
   "cell_type": "markdown",
   "metadata": {},
   "source": [
    "Сегмент В лучше сегмента А, статистическая значимость достигнута."
   ]
  },
  {
   "cell_type": "code",
   "execution_count": 45,
   "metadata": {},
   "outputs": [
    {
     "name": "stdout",
     "output_type": "stream",
     "text": [
      "alpha = 0.05\n",
      "Cтатистически значемых значений между группами = 0.43\n",
      "Относительное различие среднего чека между группами по очищенным данным = -0.013\n"
     ]
    }
   ],
   "source": [
    "#Посчитаем статистическую значимость различий в среднем чеке заказа между группами по «очищенным» данным.\n",
    "print(\"alpha =\",0.05)\n",
    "print(\"Cтатистически значемых значений между группами = {0:.2f}\".\n",
    "    format(\n",
    "        stats.mannwhitneyu(\n",
    "            orders[\n",
    "                np.logical_and(\n",
    "                    orders['group'] == 'A',\n",
    "                    np.logical_not(orders['visitorId'].isin(abnormalUsers)),\n",
    "                )\n",
    "            ]['revenue'],\n",
    "            orders[\n",
    "                np.logical_and(\n",
    "                    orders['group'] == 'B',\n",
    "                    np.logical_not(orders['visitorId'].isin(abnormalUsers)),\n",
    "                )\n",
    "            ]['revenue'],\n",
    "        )[1]\n",
    "    )\n",
    ")\n",
    "\n",
    "print(\"Относительное различие среднего чека между группами по очищенным данным = {0:.3f}\".\n",
    "    format(\n",
    "        orders[\n",
    "            np.logical_and(\n",
    "                orders['group'] == 'B',\n",
    "                np.logical_not(orders['visitorId'].isin(abnormalUsers)),\n",
    "            )\n",
    "        ]['revenue'].mean()\n",
    "        / orders[\n",
    "            np.logical_and(\n",
    "                orders['group'] == 'A',\n",
    "                np.logical_not(orders['visitorId'].isin(abnormalUsers)),\n",
    "            )\n",
    "        ]['revenue'].mean()\n",
    "        - 1\n",
    "    )\n",
    ")"
   ]
  },
  {
   "cell_type": "markdown",
   "metadata": {},
   "source": [
    "\n",
    "По очищенным данным при сравнении среднего чека между группами мы получили значение p-value = 0.43, что больше, чем уровень стат. значимости - alpha = 0.05. В этом случае мы можем говорить о том, что между группами мы не наблюдаем статически значимых различий."
   ]
  },
  {
   "cell_type": "markdown",
   "metadata": {},
   "source": [
    "ВЫВОД:\n",
    "\n",
    "   Остановим тест, зафиксируем отсутствие различий между группами.\n",
    " В течении всего анализа мы видим, что группа В является более успешной, конверсия из пользователя в покупателя у группы В выше чем у группы А, хотя конверсия по среднему чеку не имеет значимых различий между группами НО По очищенным данным при сравнении среднего чека между группами  мы не наблюдаем статически значимых различий.\n",
    " "
   ]
  },
  {
   "cell_type": "code",
   "execution_count": null,
   "metadata": {},
   "outputs": [],
   "source": []
  },
  {
   "cell_type": "code",
   "execution_count": null,
   "metadata": {},
   "outputs": [],
   "source": []
  },
  {
   "cell_type": "code",
   "execution_count": null,
   "metadata": {},
   "outputs": [],
   "source": []
  },
  {
   "cell_type": "code",
   "execution_count": null,
   "metadata": {},
   "outputs": [],
   "source": []
  }
 ],
 "metadata": {
  "ExecuteTimeLog": [
   {
    "duration": 1608,
    "start_time": "2022-03-05T09:21:34.014Z"
   },
   {
    "duration": 30,
    "start_time": "2022-03-05T09:21:52.563Z"
   },
   {
    "duration": 20,
    "start_time": "2022-03-05T09:22:17.287Z"
   },
   {
    "duration": 173,
    "start_time": "2022-03-05T09:22:58.682Z"
   },
   {
    "duration": 36,
    "start_time": "2022-03-05T09:23:06.670Z"
   },
   {
    "duration": 2,
    "start_time": "2022-03-05T09:29:28.110Z"
   },
   {
    "duration": 125,
    "start_time": "2022-03-05T09:30:35.190Z"
   },
   {
    "duration": 25,
    "start_time": "2022-03-05T09:30:51.144Z"
   },
   {
    "duration": 9,
    "start_time": "2022-03-05T09:30:53.968Z"
   },
   {
    "duration": 2,
    "start_time": "2022-03-05T09:32:54.577Z"
   },
   {
    "duration": 9,
    "start_time": "2022-03-05T09:33:09.592Z"
   },
   {
    "duration": 24,
    "start_time": "2022-03-05T09:45:38.906Z"
   },
   {
    "duration": 636,
    "start_time": "2022-03-05T09:46:56.694Z"
   },
   {
    "duration": 5,
    "start_time": "2022-03-05T09:49:17.547Z"
   },
   {
    "duration": 16,
    "start_time": "2022-03-05T09:50:14.390Z"
   },
   {
    "duration": 7,
    "start_time": "2022-03-05T09:50:19.600Z"
   },
   {
    "duration": 3288,
    "start_time": "2022-03-05T09:51:05.804Z"
   },
   {
    "duration": 4104,
    "start_time": "2022-03-05T09:51:40.080Z"
   },
   {
    "duration": 3332,
    "start_time": "2022-03-05T09:52:53.767Z"
   },
   {
    "duration": 3372,
    "start_time": "2022-03-05T09:53:52.440Z"
   },
   {
    "duration": 182,
    "start_time": "2022-03-05T09:55:07.683Z"
   },
   {
    "duration": 675,
    "start_time": "2022-03-05T09:57:53.169Z"
   },
   {
    "duration": 596,
    "start_time": "2022-03-05T09:58:01.990Z"
   },
   {
    "duration": 634,
    "start_time": "2022-03-05T09:58:14.051Z"
   },
   {
    "duration": 602,
    "start_time": "2022-03-05T09:58:36.839Z"
   },
   {
    "duration": 21,
    "start_time": "2022-03-05T09:58:46.234Z"
   },
   {
    "duration": 40,
    "start_time": "2022-03-05T09:58:46.807Z"
   },
   {
    "duration": 2,
    "start_time": "2022-03-05T09:58:47.146Z"
   },
   {
    "duration": 9,
    "start_time": "2022-03-05T09:58:47.306Z"
   },
   {
    "duration": 3,
    "start_time": "2022-03-05T09:58:47.480Z"
   },
   {
    "duration": 9,
    "start_time": "2022-03-05T09:58:47.647Z"
   },
   {
    "duration": 2,
    "start_time": "2022-03-05T09:58:48.158Z"
   },
   {
    "duration": 15,
    "start_time": "2022-03-05T09:58:48.350Z"
   },
   {
    "duration": 6,
    "start_time": "2022-03-05T09:58:48.511Z"
   },
   {
    "duration": 177,
    "start_time": "2022-03-05T09:58:48.675Z"
   },
   {
    "duration": 226,
    "start_time": "2022-03-05T09:59:17.412Z"
   },
   {
    "duration": 95,
    "start_time": "2022-03-05T10:13:47.117Z"
   },
   {
    "duration": 174,
    "start_time": "2022-03-05T10:13:49.850Z"
   },
   {
    "duration": 453,
    "start_time": "2022-03-05T10:14:56.779Z"
   },
   {
    "duration": 137,
    "start_time": "2022-03-05T10:15:28.125Z"
   },
   {
    "duration": 153,
    "start_time": "2022-03-05T10:16:15.485Z"
   },
   {
    "duration": 626,
    "start_time": "2022-03-05T10:40:02.356Z"
   },
   {
    "duration": 598,
    "start_time": "2022-03-05T10:40:07.107Z"
   },
   {
    "duration": 125,
    "start_time": "2022-03-05T10:40:46.018Z"
   },
   {
    "duration": 21,
    "start_time": "2022-03-05T10:43:46.479Z"
   },
   {
    "duration": 30,
    "start_time": "2022-03-05T10:43:47.141Z"
   },
   {
    "duration": 3,
    "start_time": "2022-03-05T10:43:48.438Z"
   },
   {
    "duration": 8,
    "start_time": "2022-03-05T10:43:48.881Z"
   },
   {
    "duration": 9,
    "start_time": "2022-03-05T10:43:52.709Z"
   },
   {
    "duration": 15,
    "start_time": "2022-03-05T10:43:55.869Z"
   },
   {
    "duration": 6,
    "start_time": "2022-03-05T10:43:58.448Z"
   },
   {
    "duration": 181,
    "start_time": "2022-03-05T10:43:59.023Z"
   },
   {
    "duration": 142,
    "start_time": "2022-03-05T10:44:03.059Z"
   },
   {
    "duration": 24,
    "start_time": "2022-03-05T10:52:39.057Z"
   },
   {
    "duration": 602,
    "start_time": "2022-03-05T10:54:24.903Z"
   },
   {
    "duration": 597,
    "start_time": "2022-03-05T10:54:33.874Z"
   },
   {
    "duration": 595,
    "start_time": "2022-03-05T10:54:38.477Z"
   },
   {
    "duration": 710,
    "start_time": "2022-03-05T10:55:12.105Z"
   },
   {
    "duration": 20,
    "start_time": "2022-03-05T10:55:16.345Z"
   },
   {
    "duration": 46,
    "start_time": "2022-03-05T10:55:16.486Z"
   },
   {
    "duration": 22,
    "start_time": "2022-03-05T10:55:16.639Z"
   },
   {
    "duration": 3,
    "start_time": "2022-03-05T10:55:16.976Z"
   },
   {
    "duration": 8,
    "start_time": "2022-03-05T10:55:17.126Z"
   },
   {
    "duration": 2,
    "start_time": "2022-03-05T10:55:17.292Z"
   },
   {
    "duration": 10,
    "start_time": "2022-03-05T10:55:17.458Z"
   },
   {
    "duration": 2,
    "start_time": "2022-03-05T10:55:18.020Z"
   },
   {
    "duration": 144,
    "start_time": "2022-03-05T10:55:18.223Z"
   },
   {
    "duration": 582,
    "start_time": "2022-03-05T10:55:23.275Z"
   },
   {
    "duration": 604,
    "start_time": "2022-03-05T10:55:36.733Z"
   },
   {
    "duration": 606,
    "start_time": "2022-03-05T10:57:17.063Z"
   },
   {
    "duration": 184,
    "start_time": "2022-03-05T10:57:29.137Z"
   },
   {
    "duration": 20,
    "start_time": "2022-03-05T10:59:59.133Z"
   },
   {
    "duration": 36,
    "start_time": "2022-03-05T10:59:59.954Z"
   },
   {
    "duration": 20,
    "start_time": "2022-03-05T11:00:00.629Z"
   },
   {
    "duration": 2,
    "start_time": "2022-03-05T11:00:01.794Z"
   },
   {
    "duration": 9,
    "start_time": "2022-03-05T11:00:02.211Z"
   },
   {
    "duration": 3,
    "start_time": "2022-03-05T11:00:02.769Z"
   },
   {
    "duration": 8,
    "start_time": "2022-03-05T11:00:03.371Z"
   },
   {
    "duration": 2,
    "start_time": "2022-03-05T11:00:05.313Z"
   },
   {
    "duration": 18,
    "start_time": "2022-03-05T11:00:05.963Z"
   },
   {
    "duration": 7,
    "start_time": "2022-03-05T11:00:09.280Z"
   },
   {
    "duration": 179,
    "start_time": "2022-03-05T11:00:09.794Z"
   },
   {
    "duration": 152,
    "start_time": "2022-03-05T11:00:10.445Z"
   },
   {
    "duration": 128,
    "start_time": "2022-03-05T11:00:11.279Z"
   },
   {
    "duration": 460,
    "start_time": "2022-03-05T11:00:12.363Z"
   },
   {
    "duration": 7,
    "start_time": "2022-03-05T11:00:44.701Z"
   },
   {
    "duration": 514,
    "start_time": "2022-03-05T11:01:09.710Z"
   },
   {
    "duration": 163,
    "start_time": "2022-03-05T11:01:10.769Z"
   },
   {
    "duration": 483,
    "start_time": "2022-03-05T11:01:12.347Z"
   },
   {
    "duration": 482,
    "start_time": "2022-03-05T11:02:57.598Z"
   },
   {
    "duration": 7,
    "start_time": "2022-03-05T11:04:44.006Z"
   },
   {
    "duration": 8,
    "start_time": "2022-03-05T11:04:47.933Z"
   },
   {
    "duration": 421,
    "start_time": "2022-03-05T11:04:51.730Z"
   },
   {
    "duration": 872,
    "start_time": "2022-03-07T07:11:40.410Z"
   },
   {
    "duration": 34,
    "start_time": "2022-03-07T07:11:41.284Z"
   },
   {
    "duration": 25,
    "start_time": "2022-03-07T07:11:41.321Z"
   },
   {
    "duration": 16,
    "start_time": "2022-03-07T07:11:41.348Z"
   },
   {
    "duration": 36,
    "start_time": "2022-03-07T07:11:41.366Z"
   },
   {
    "duration": 8,
    "start_time": "2022-03-07T07:11:41.404Z"
   },
   {
    "duration": 13,
    "start_time": "2022-03-07T07:11:41.500Z"
   },
   {
    "duration": 3,
    "start_time": "2022-03-07T07:11:41.978Z"
   },
   {
    "duration": 28,
    "start_time": "2022-03-07T07:11:42.146Z"
   },
   {
    "duration": 9,
    "start_time": "2022-03-07T07:11:42.298Z"
   },
   {
    "duration": 310,
    "start_time": "2022-03-07T07:11:42.540Z"
   },
   {
    "duration": 270,
    "start_time": "2022-03-07T07:11:42.853Z"
   },
   {
    "duration": 10,
    "start_time": "2022-03-07T07:11:43.127Z"
   },
   {
    "duration": 14,
    "start_time": "2022-03-07T07:11:43.140Z"
   },
   {
    "duration": 708,
    "start_time": "2022-03-07T07:11:43.158Z"
   },
   {
    "duration": 3,
    "start_time": "2022-03-07T07:22:04.875Z"
   },
   {
    "duration": 300,
    "start_time": "2022-03-07T07:25:56.615Z"
   },
   {
    "duration": 855,
    "start_time": "2022-03-07T07:27:37.294Z"
   },
   {
    "duration": 459,
    "start_time": "2022-03-07T07:32:11.748Z"
   },
   {
    "duration": 3,
    "start_time": "2022-03-07T07:34:26.628Z"
   },
   {
    "duration": 286,
    "start_time": "2022-03-07T07:41:30.803Z"
   },
   {
    "duration": 291,
    "start_time": "2022-03-07T07:42:29.529Z"
   },
   {
    "duration": 411,
    "start_time": "2022-03-07T08:55:56.876Z"
   },
   {
    "duration": 443,
    "start_time": "2022-03-07T08:59:05.246Z"
   },
   {
    "duration": 195,
    "start_time": "2022-03-07T09:10:54.970Z"
   },
   {
    "duration": 202,
    "start_time": "2022-03-07T09:11:49.564Z"
   },
   {
    "duration": 187,
    "start_time": "2022-03-07T09:26:32.374Z"
   },
   {
    "duration": 198,
    "start_time": "2022-03-07T09:27:29.272Z"
   },
   {
    "duration": 198,
    "start_time": "2022-03-07T09:30:36.201Z"
   },
   {
    "duration": 4854,
    "start_time": "2022-03-07T09:33:53.171Z"
   },
   {
    "duration": 4661,
    "start_time": "2022-03-07T09:34:41.517Z"
   },
   {
    "duration": 396,
    "start_time": "2022-03-07T09:34:55.170Z"
   },
   {
    "duration": 413,
    "start_time": "2022-03-07T09:36:22.940Z"
   },
   {
    "duration": 392,
    "start_time": "2022-03-07T09:36:44.915Z"
   },
   {
    "duration": 12,
    "start_time": "2022-03-07T09:36:48.332Z"
   },
   {
    "duration": 420,
    "start_time": "2022-03-07T09:37:05.738Z"
   },
   {
    "duration": 419,
    "start_time": "2022-03-07T09:47:06.466Z"
   },
   {
    "duration": 4900,
    "start_time": "2022-03-07T09:52:20.560Z"
   },
   {
    "duration": 4599,
    "start_time": "2022-03-07T09:52:27.744Z"
   },
   {
    "duration": 393,
    "start_time": "2022-03-07T09:53:22.916Z"
   },
   {
    "duration": 7,
    "start_time": "2022-03-07T09:56:30.406Z"
   },
   {
    "duration": 9,
    "start_time": "2022-03-07T09:57:03.644Z"
   },
   {
    "duration": 13,
    "start_time": "2022-03-07T09:57:09.449Z"
   },
   {
    "duration": 9,
    "start_time": "2022-03-07T10:04:34.192Z"
   },
   {
    "duration": 398,
    "start_time": "2022-03-07T10:08:34.068Z"
   },
   {
    "duration": 9,
    "start_time": "2022-03-07T10:08:37.997Z"
   },
   {
    "duration": 660,
    "start_time": "2022-03-07T11:55:58.698Z"
   },
   {
    "duration": 625,
    "start_time": "2022-03-07T11:56:37.726Z"
   },
   {
    "duration": 8,
    "start_time": "2022-03-07T11:56:46.397Z"
   },
   {
    "duration": 4682,
    "start_time": "2022-03-07T12:51:23.259Z"
   },
   {
    "duration": 274,
    "start_time": "2022-03-07T12:51:55.597Z"
   },
   {
    "duration": 360,
    "start_time": "2022-03-07T12:53:48.248Z"
   },
   {
    "duration": 285,
    "start_time": "2022-03-07T12:54:57.383Z"
   },
   {
    "duration": 276,
    "start_time": "2022-03-07T12:55:03.806Z"
   },
   {
    "duration": 290,
    "start_time": "2022-03-07T12:55:09.398Z"
   },
   {
    "duration": 848,
    "start_time": "2022-03-07T12:55:15.911Z"
   },
   {
    "duration": 276,
    "start_time": "2022-03-07T12:55:24.429Z"
   },
   {
    "duration": 65,
    "start_time": "2022-03-07T12:55:52.829Z"
   },
   {
    "duration": 4846,
    "start_time": "2022-03-07T12:55:56.939Z"
   },
   {
    "duration": 273,
    "start_time": "2022-03-07T12:57:09.193Z"
   },
   {
    "duration": 4948,
    "start_time": "2022-03-07T12:58:15.872Z"
   },
   {
    "duration": 262,
    "start_time": "2022-03-07T12:58:57.254Z"
   },
   {
    "duration": 5096,
    "start_time": "2022-03-07T13:01:54.745Z"
   },
   {
    "duration": 4852,
    "start_time": "2022-03-07T13:02:32.447Z"
   },
   {
    "duration": 453,
    "start_time": "2022-03-07T13:05:05.026Z"
   },
   {
    "duration": 62,
    "start_time": "2022-03-07T13:05:26.485Z"
   },
   {
    "duration": 619,
    "start_time": "2022-03-08T07:32:06.949Z"
   },
   {
    "duration": 47,
    "start_time": "2022-03-08T07:32:07.569Z"
   },
   {
    "duration": 23,
    "start_time": "2022-03-08T07:32:07.618Z"
   },
   {
    "duration": 2,
    "start_time": "2022-03-08T07:32:07.675Z"
   },
   {
    "duration": 8,
    "start_time": "2022-03-08T07:32:07.833Z"
   },
   {
    "duration": 2,
    "start_time": "2022-03-08T07:32:08.006Z"
   },
   {
    "duration": 8,
    "start_time": "2022-03-08T07:32:08.174Z"
   },
   {
    "duration": 2,
    "start_time": "2022-03-08T07:32:08.716Z"
   },
   {
    "duration": 18,
    "start_time": "2022-03-08T07:32:08.905Z"
   },
   {
    "duration": 6,
    "start_time": "2022-03-08T07:32:09.086Z"
   },
   {
    "duration": 187,
    "start_time": "2022-03-08T07:32:09.261Z"
   },
   {
    "duration": 135,
    "start_time": "2022-03-08T07:32:09.450Z"
   },
   {
    "duration": 5,
    "start_time": "2022-03-08T07:32:09.619Z"
   },
   {
    "duration": 7,
    "start_time": "2022-03-08T07:32:09.808Z"
   },
   {
    "duration": 372,
    "start_time": "2022-03-08T07:32:09.985Z"
   },
   {
    "duration": 360,
    "start_time": "2022-03-08T07:32:10.370Z"
   },
   {
    "duration": 256,
    "start_time": "2022-03-08T07:32:10.735Z"
   },
   {
    "duration": 217,
    "start_time": "2022-03-08T07:32:11.093Z"
   },
   {
    "duration": 260,
    "start_time": "2022-03-08T07:32:11.453Z"
   },
   {
    "duration": 354,
    "start_time": "2022-03-08T07:32:11.828Z"
   },
   {
    "duration": 7,
    "start_time": "2022-03-08T07:32:12.199Z"
   },
   {
    "duration": 83,
    "start_time": "2022-03-08T07:32:12.582Z"
   },
   {
    "duration": 25,
    "start_time": "2022-03-08T07:32:20.928Z"
   },
   {
    "duration": 47,
    "start_time": "2022-03-08T07:32:21.839Z"
   },
   {
    "duration": 24,
    "start_time": "2022-03-08T07:32:22.518Z"
   },
   {
    "duration": 3,
    "start_time": "2022-03-08T07:32:23.384Z"
   },
   {
    "duration": 7,
    "start_time": "2022-03-08T07:32:23.570Z"
   },
   {
    "duration": 2,
    "start_time": "2022-03-08T07:32:23.711Z"
   },
   {
    "duration": 7,
    "start_time": "2022-03-08T07:32:23.887Z"
   },
   {
    "duration": 2,
    "start_time": "2022-03-08T07:32:24.376Z"
   },
   {
    "duration": 16,
    "start_time": "2022-03-08T07:32:24.544Z"
   },
   {
    "duration": 6,
    "start_time": "2022-03-08T07:32:24.717Z"
   },
   {
    "duration": 165,
    "start_time": "2022-03-08T07:32:24.884Z"
   },
   {
    "duration": 150,
    "start_time": "2022-03-08T07:32:25.051Z"
   },
   {
    "duration": 6,
    "start_time": "2022-03-08T07:32:25.225Z"
   },
   {
    "duration": 7,
    "start_time": "2022-03-08T07:32:25.392Z"
   },
   {
    "duration": 368,
    "start_time": "2022-03-08T07:32:25.568Z"
   },
   {
    "duration": 366,
    "start_time": "2022-03-08T07:32:25.938Z"
   },
   {
    "duration": 276,
    "start_time": "2022-03-08T07:32:26.306Z"
   },
   {
    "duration": 163,
    "start_time": "2022-03-08T07:32:26.647Z"
   },
   {
    "duration": 297,
    "start_time": "2022-03-08T07:32:26.986Z"
   },
   {
    "duration": 374,
    "start_time": "2022-03-08T07:32:27.327Z"
   },
   {
    "duration": 6,
    "start_time": "2022-03-08T07:32:27.704Z"
   },
   {
    "duration": 74,
    "start_time": "2022-03-08T07:32:28.019Z"
   },
   {
    "duration": 7926,
    "start_time": "2022-03-08T07:41:55.992Z"
   },
   {
    "duration": 6219,
    "start_time": "2022-03-08T07:42:20.311Z"
   },
   {
    "duration": 265,
    "start_time": "2022-03-08T07:43:00.347Z"
   },
   {
    "duration": 247,
    "start_time": "2022-03-08T07:46:45.398Z"
   },
   {
    "duration": 235,
    "start_time": "2022-03-08T07:46:54.194Z"
   },
   {
    "duration": 264,
    "start_time": "2022-03-08T07:47:22.380Z"
   },
   {
    "duration": 5,
    "start_time": "2022-03-08T07:47:37.794Z"
   },
   {
    "duration": 6,
    "start_time": "2022-03-08T07:48:40.297Z"
   },
   {
    "duration": 254,
    "start_time": "2022-03-08T07:48:50.759Z"
   },
   {
    "duration": 262,
    "start_time": "2022-03-08T07:49:37.429Z"
   },
   {
    "duration": 333,
    "start_time": "2022-03-08T07:49:40.742Z"
   },
   {
    "duration": 6,
    "start_time": "2022-03-08T07:49:57.161Z"
   },
   {
    "duration": 6,
    "start_time": "2022-03-08T07:50:11.514Z"
   },
   {
    "duration": 9,
    "start_time": "2022-03-08T07:50:17.160Z"
   },
   {
    "duration": 291,
    "start_time": "2022-03-08T07:50:45.636Z"
   },
   {
    "duration": 6,
    "start_time": "2022-03-08T07:50:54.868Z"
   },
   {
    "duration": 2,
    "start_time": "2022-03-08T07:55:11.806Z"
   },
   {
    "duration": 107,
    "start_time": "2022-03-08T08:11:19.310Z"
   },
   {
    "duration": 6862,
    "start_time": "2022-03-08T08:20:27.339Z"
   },
   {
    "duration": 8295,
    "start_time": "2022-03-08T08:34:39.464Z"
   },
   {
    "duration": 369,
    "start_time": "2022-03-08T08:38:44.589Z"
   },
   {
    "duration": 5,
    "start_time": "2022-03-08T08:40:35.682Z"
   },
   {
    "duration": 78,
    "start_time": "2022-03-08T08:40:59.159Z"
   },
   {
    "duration": 115,
    "start_time": "2022-03-08T08:41:15.600Z"
   },
   {
    "duration": 392,
    "start_time": "2022-03-08T08:41:42.263Z"
   },
   {
    "duration": 170,
    "start_time": "2022-03-08T08:42:20.723Z"
   },
   {
    "duration": 258,
    "start_time": "2022-03-08T08:43:15.313Z"
   },
   {
    "duration": 253,
    "start_time": "2022-03-08T08:43:27.189Z"
   },
   {
    "duration": 471,
    "start_time": "2022-03-08T08:46:26.457Z"
   },
   {
    "duration": 500,
    "start_time": "2022-03-08T08:52:40.882Z"
   },
   {
    "duration": 393,
    "start_time": "2022-03-08T08:53:01.352Z"
   },
   {
    "duration": 6883,
    "start_time": "2022-03-08T08:53:07.041Z"
   },
   {
    "duration": 92,
    "start_time": "2022-03-08T08:58:02.105Z"
   },
   {
    "duration": 6283,
    "start_time": "2022-03-08T08:58:02.948Z"
   },
   {
    "duration": 85,
    "start_time": "2022-03-08T08:58:21.895Z"
   },
   {
    "duration": 6397,
    "start_time": "2022-03-08T08:58:26.367Z"
   },
   {
    "duration": 6581,
    "start_time": "2022-03-08T08:59:25.659Z"
   },
   {
    "duration": 247,
    "start_time": "2022-03-08T09:01:05.488Z"
   },
   {
    "duration": 210,
    "start_time": "2022-03-08T09:01:14.018Z"
   },
   {
    "duration": 258,
    "start_time": "2022-03-08T09:01:51.907Z"
   },
   {
    "duration": 212,
    "start_time": "2022-03-08T09:01:52.717Z"
   },
   {
    "duration": 207,
    "start_time": "2022-03-08T09:02:00.310Z"
   },
   {
    "duration": 6339,
    "start_time": "2022-03-08T09:05:46.194Z"
   },
   {
    "duration": 14,
    "start_time": "2022-03-08T09:06:24.122Z"
   },
   {
    "duration": 14,
    "start_time": "2022-03-08T09:06:58.504Z"
   },
   {
    "duration": 81,
    "start_time": "2022-03-08T09:09:04.334Z"
   },
   {
    "duration": 152,
    "start_time": "2022-03-08T09:12:32.280Z"
   },
   {
    "duration": 8083,
    "start_time": "2022-03-08T09:14:17.291Z"
   },
   {
    "duration": 6352,
    "start_time": "2022-03-08T09:16:33.338Z"
   },
   {
    "duration": 12,
    "start_time": "2022-03-08T09:17:43.587Z"
   },
   {
    "duration": 13,
    "start_time": "2022-03-08T09:19:31.978Z"
   },
   {
    "duration": 1132,
    "start_time": "2022-03-09T06:45:43.953Z"
   },
   {
    "duration": 43,
    "start_time": "2022-03-09T06:45:45.086Z"
   },
   {
    "duration": 24,
    "start_time": "2022-03-09T06:45:45.133Z"
   },
   {
    "duration": 2,
    "start_time": "2022-03-09T06:45:45.159Z"
   },
   {
    "duration": 11,
    "start_time": "2022-03-09T06:45:45.163Z"
   },
   {
    "duration": 2,
    "start_time": "2022-03-09T06:45:45.176Z"
   },
   {
    "duration": 18,
    "start_time": "2022-03-09T06:45:45.180Z"
   },
   {
    "duration": 9,
    "start_time": "2022-03-09T06:45:45.200Z"
   },
   {
    "duration": 25,
    "start_time": "2022-03-09T06:45:45.210Z"
   },
   {
    "duration": 11,
    "start_time": "2022-03-09T06:45:45.237Z"
   },
   {
    "duration": 207,
    "start_time": "2022-03-09T06:45:45.250Z"
   },
   {
    "duration": 166,
    "start_time": "2022-03-09T06:45:45.459Z"
   },
   {
    "duration": 6,
    "start_time": "2022-03-09T06:45:45.627Z"
   },
   {
    "duration": 12,
    "start_time": "2022-03-09T06:45:45.635Z"
   },
   {
    "duration": 489,
    "start_time": "2022-03-09T06:45:45.649Z"
   },
   {
    "duration": 442,
    "start_time": "2022-03-09T06:45:46.140Z"
   },
   {
    "duration": 346,
    "start_time": "2022-03-09T06:45:46.584Z"
   },
   {
    "duration": 233,
    "start_time": "2022-03-09T06:45:46.932Z"
   },
   {
    "duration": 343,
    "start_time": "2022-03-09T06:45:47.167Z"
   },
   {
    "duration": 465,
    "start_time": "2022-03-09T06:45:47.512Z"
   },
   {
    "duration": 7,
    "start_time": "2022-03-09T06:45:47.978Z"
   },
   {
    "duration": 319,
    "start_time": "2022-03-09T06:45:47.988Z"
   },
   {
    "duration": 6,
    "start_time": "2022-03-09T06:45:48.309Z"
   },
   {
    "duration": 291,
    "start_time": "2022-03-09T06:45:48.317Z"
   },
   {
    "duration": 245,
    "start_time": "2022-03-09T06:45:48.609Z"
   },
   {
    "duration": 24,
    "start_time": "2022-03-09T06:45:48.856Z"
   },
   {
    "duration": 142,
    "start_time": "2022-03-09T06:45:48.882Z"
   },
   {
    "duration": 14,
    "start_time": "2022-03-09T06:45:49.025Z"
   },
   {
    "duration": 14,
    "start_time": "2022-03-09T06:45:49.041Z"
   },
   {
    "duration": 1074,
    "start_time": "2022-03-09T07:27:38.918Z"
   },
   {
    "duration": 44,
    "start_time": "2022-03-09T07:27:39.994Z"
   },
   {
    "duration": 23,
    "start_time": "2022-03-09T07:27:40.040Z"
   },
   {
    "duration": 5,
    "start_time": "2022-03-09T07:27:40.065Z"
   },
   {
    "duration": 12,
    "start_time": "2022-03-09T07:27:40.072Z"
   },
   {
    "duration": 2,
    "start_time": "2022-03-09T07:27:40.085Z"
   },
   {
    "duration": 19,
    "start_time": "2022-03-09T07:27:40.089Z"
   },
   {
    "duration": 4,
    "start_time": "2022-03-09T07:27:40.111Z"
   },
   {
    "duration": 22,
    "start_time": "2022-03-09T07:27:40.117Z"
   },
   {
    "duration": 10,
    "start_time": "2022-03-09T07:27:40.141Z"
   },
   {
    "duration": 212,
    "start_time": "2022-03-09T07:27:40.153Z"
   },
   {
    "duration": 177,
    "start_time": "2022-03-09T07:27:40.367Z"
   },
   {
    "duration": 8,
    "start_time": "2022-03-09T07:27:40.546Z"
   },
   {
    "duration": 21,
    "start_time": "2022-03-09T07:27:40.556Z"
   },
   {
    "duration": 458,
    "start_time": "2022-03-09T07:27:40.579Z"
   },
   {
    "duration": 445,
    "start_time": "2022-03-09T07:27:41.039Z"
   },
   {
    "duration": 327,
    "start_time": "2022-03-09T07:27:41.486Z"
   },
   {
    "duration": 234,
    "start_time": "2022-03-09T07:27:41.815Z"
   },
   {
    "duration": 360,
    "start_time": "2022-03-09T07:27:42.051Z"
   },
   {
    "duration": 381,
    "start_time": "2022-03-09T07:27:42.413Z"
   },
   {
    "duration": 8,
    "start_time": "2022-03-09T07:27:42.796Z"
   },
   {
    "duration": 307,
    "start_time": "2022-03-09T07:27:42.806Z"
   },
   {
    "duration": 7,
    "start_time": "2022-03-09T07:27:43.116Z"
   },
   {
    "duration": 298,
    "start_time": "2022-03-09T07:27:43.125Z"
   },
   {
    "duration": 260,
    "start_time": "2022-03-09T07:27:43.425Z"
   },
   {
    "duration": 15,
    "start_time": "2022-03-09T07:27:43.687Z"
   },
   {
    "duration": 144,
    "start_time": "2022-03-09T07:27:43.704Z"
   },
   {
    "duration": 12,
    "start_time": "2022-03-09T07:27:43.850Z"
   },
   {
    "duration": 33,
    "start_time": "2022-03-09T07:27:43.864Z"
   },
   {
    "duration": 129,
    "start_time": "2022-03-09T13:33:07.314Z"
   },
   {
    "duration": 2205,
    "start_time": "2022-03-09T13:40:12.240Z"
   },
   {
    "duration": 18,
    "start_time": "2022-03-09T13:40:18.628Z"
   },
   {
    "duration": 28,
    "start_time": "2022-03-09T13:40:18.649Z"
   },
   {
    "duration": 3,
    "start_time": "2022-03-09T13:40:19.327Z"
   },
   {
    "duration": 23,
    "start_time": "2022-03-09T13:40:19.457Z"
   },
   {
    "duration": 3,
    "start_time": "2022-03-09T13:40:20.093Z"
   },
   {
    "duration": 37,
    "start_time": "2022-03-09T13:40:20.098Z"
   },
   {
    "duration": 19,
    "start_time": "2022-03-09T13:40:50.956Z"
   },
   {
    "duration": 20,
    "start_time": "2022-03-09T13:40:55.139Z"
   },
   {
    "duration": 95,
    "start_time": "2022-03-09T13:41:24.711Z"
   },
   {
    "duration": 13,
    "start_time": "2022-03-09T13:43:34.942Z"
   },
   {
    "duration": 21,
    "start_time": "2022-03-09T13:46:20.781Z"
   },
   {
    "duration": 113,
    "start_time": "2022-03-09T13:46:55.988Z"
   },
   {
    "duration": 14,
    "start_time": "2022-03-09T13:47:48.236Z"
   },
   {
    "duration": 68,
    "start_time": "2022-03-09T13:50:02.953Z"
   },
   {
    "duration": 25,
    "start_time": "2022-03-09T13:50:11.335Z"
   },
   {
    "duration": 18,
    "start_time": "2022-03-09T13:50:11.642Z"
   },
   {
    "duration": 13,
    "start_time": "2022-03-09T13:50:13.299Z"
   },
   {
    "duration": 105,
    "start_time": "2022-03-09T13:50:20.088Z"
   },
   {
    "duration": 24,
    "start_time": "2022-03-09T13:50:20.500Z"
   },
   {
    "duration": 109,
    "start_time": "2022-03-09T13:50:57.790Z"
   },
   {
    "duration": 96,
    "start_time": "2022-03-09T13:54:44.234Z"
   },
   {
    "duration": 31,
    "start_time": "2022-03-09T13:55:05.900Z"
   },
   {
    "duration": 9,
    "start_time": "2022-03-09T13:55:44.062Z"
   },
   {
    "duration": 8,
    "start_time": "2022-03-09T13:57:32.119Z"
   },
   {
    "duration": 1558,
    "start_time": "2022-03-09T13:57:34.196Z"
   },
   {
    "duration": 1624,
    "start_time": "2022-03-09T13:57:54.984Z"
   },
   {
    "duration": 1558,
    "start_time": "2022-03-09T13:58:05.059Z"
   },
   {
    "duration": 54,
    "start_time": "2022-03-09T13:58:22.336Z"
   },
   {
    "duration": 19,
    "start_time": "2022-03-09T13:58:22.867Z"
   },
   {
    "duration": 18,
    "start_time": "2022-03-09T13:58:22.937Z"
   },
   {
    "duration": 12,
    "start_time": "2022-03-09T13:58:24.241Z"
   },
   {
    "duration": 17,
    "start_time": "2022-03-09T13:58:24.684Z"
   },
   {
    "duration": 29,
    "start_time": "2022-03-09T13:58:26.127Z"
   },
   {
    "duration": 9,
    "start_time": "2022-03-09T13:58:26.565Z"
   },
   {
    "duration": 320,
    "start_time": "2022-03-09T13:58:26.576Z"
   },
   {
    "duration": 292,
    "start_time": "2022-03-09T13:58:26.899Z"
   },
   {
    "duration": 334,
    "start_time": "2022-03-09T15:29:15.967Z"
   },
   {
    "duration": 14,
    "start_time": "2022-03-09T15:29:44.375Z"
   },
   {
    "duration": 24,
    "start_time": "2022-03-09T15:31:06.804Z"
   },
   {
    "duration": 24,
    "start_time": "2022-03-09T15:31:55.417Z"
   },
   {
    "duration": 17,
    "start_time": "2022-03-09T15:34:53.015Z"
   },
   {
    "duration": 10,
    "start_time": "2022-03-09T15:35:53.495Z"
   },
   {
    "duration": 26,
    "start_time": "2022-03-09T15:40:48.465Z"
   },
   {
    "duration": 300,
    "start_time": "2022-03-09T15:41:19.659Z"
   },
   {
    "duration": 67,
    "start_time": "2022-03-09T15:41:49.530Z"
   },
   {
    "duration": 30,
    "start_time": "2022-03-09T15:41:55.162Z"
   },
   {
    "duration": 7,
    "start_time": "2022-03-09T15:42:56.396Z"
   },
   {
    "duration": 23,
    "start_time": "2022-03-09T15:43:44.711Z"
   },
   {
    "duration": 938,
    "start_time": "2022-03-09T15:47:12.042Z"
   },
   {
    "duration": 861,
    "start_time": "2022-03-09T15:47:28.773Z"
   },
   {
    "duration": 308,
    "start_time": "2022-03-09T15:47:48.670Z"
   },
   {
    "duration": 652,
    "start_time": "2022-03-09T15:48:28.546Z"
   },
   {
    "duration": 503,
    "start_time": "2022-03-09T15:48:35.664Z"
   },
   {
    "duration": 311,
    "start_time": "2022-03-09T15:48:46.684Z"
   },
   {
    "duration": 381,
    "start_time": "2022-03-09T15:48:47.944Z"
   },
   {
    "duration": 62,
    "start_time": "2022-03-09T15:49:00.418Z"
   },
   {
    "duration": 19,
    "start_time": "2022-03-09T15:49:00.514Z"
   },
   {
    "duration": 17,
    "start_time": "2022-03-09T15:49:00.700Z"
   },
   {
    "duration": 12,
    "start_time": "2022-03-09T15:49:01.944Z"
   },
   {
    "duration": 16,
    "start_time": "2022-03-09T15:49:02.183Z"
   },
   {
    "duration": 32,
    "start_time": "2022-03-09T15:49:03.669Z"
   },
   {
    "duration": 9,
    "start_time": "2022-03-09T15:49:04.164Z"
   },
   {
    "duration": 119,
    "start_time": "2022-03-09T15:49:04.624Z"
   },
   {
    "duration": 35,
    "start_time": "2022-03-09T15:49:04.746Z"
   },
   {
    "duration": 9,
    "start_time": "2022-03-09T15:49:04.784Z"
   },
   {
    "duration": 24,
    "start_time": "2022-03-09T15:49:05.232Z"
   },
   {
    "duration": 5774,
    "start_time": "2022-03-09T15:49:05.259Z"
   },
   {
    "duration": 4511,
    "start_time": "2022-03-09T15:49:11.036Z"
   },
   {
    "duration": 24,
    "start_time": "2022-03-09T15:49:15.549Z"
   },
   {
    "duration": 15,
    "start_time": "2022-03-09T15:49:15.575Z"
   },
   {
    "duration": 732,
    "start_time": "2022-03-09T15:49:15.593Z"
   },
   {
    "duration": 681,
    "start_time": "2022-03-09T15:49:34.763Z"
   },
   {
    "duration": 871,
    "start_time": "2022-03-09T15:50:06.835Z"
   },
   {
    "duration": 860,
    "start_time": "2022-03-09T15:50:20.716Z"
   },
   {
    "duration": 795,
    "start_time": "2022-03-09T15:51:05.892Z"
   },
   {
    "duration": 697,
    "start_time": "2022-03-09T15:51:25.534Z"
   },
   {
    "duration": 691,
    "start_time": "2022-03-09T15:54:43.205Z"
   },
   {
    "duration": 1194,
    "start_time": "2022-03-09T15:55:24.047Z"
   },
   {
    "duration": 982,
    "start_time": "2022-03-09T15:55:56.325Z"
   },
   {
    "duration": 714,
    "start_time": "2022-03-09T15:56:32.697Z"
   },
   {
    "duration": 352,
    "start_time": "2022-03-09T15:57:52.447Z"
   },
   {
    "duration": 339,
    "start_time": "2022-03-09T15:58:04.313Z"
   },
   {
    "duration": 704,
    "start_time": "2022-03-09T16:00:02.760Z"
   },
   {
    "duration": 104,
    "start_time": "2022-03-09T16:00:57.966Z"
   },
   {
    "duration": 2693,
    "start_time": "2022-03-09T16:02:18.380Z"
   },
   {
    "duration": 2808,
    "start_time": "2022-03-09T16:03:16.254Z"
   },
   {
    "duration": 454,
    "start_time": "2022-03-09T16:03:45.807Z"
   },
   {
    "duration": 410,
    "start_time": "2022-03-09T16:04:00.691Z"
   },
   {
    "duration": 888,
    "start_time": "2022-03-09T16:04:41.284Z"
   },
   {
    "duration": 1052,
    "start_time": "2022-03-09T16:04:54.538Z"
   },
   {
    "duration": 1211,
    "start_time": "2022-03-09T16:05:01.882Z"
   },
   {
    "duration": 371,
    "start_time": "2022-03-09T16:05:07.348Z"
   },
   {
    "duration": 355,
    "start_time": "2022-03-09T16:05:15.826Z"
   },
   {
    "duration": 490,
    "start_time": "2022-03-09T16:05:52.965Z"
   },
   {
    "duration": 1327,
    "start_time": "2022-03-09T16:06:03.212Z"
   },
   {
    "duration": 367,
    "start_time": "2022-03-09T16:06:41.625Z"
   },
   {
    "duration": 376,
    "start_time": "2022-03-09T16:06:51.989Z"
   },
   {
    "duration": 356,
    "start_time": "2022-03-09T16:07:05.591Z"
   },
   {
    "duration": 633,
    "start_time": "2022-03-09T16:07:23.718Z"
   },
   {
    "duration": 360,
    "start_time": "2022-03-09T16:07:36.047Z"
   },
   {
    "duration": 380,
    "start_time": "2022-03-09T16:09:59.556Z"
   },
   {
    "duration": 381,
    "start_time": "2022-03-09T16:10:09.946Z"
   },
   {
    "duration": 366,
    "start_time": "2022-03-09T16:10:20.483Z"
   },
   {
    "duration": 394,
    "start_time": "2022-03-09T16:10:46.668Z"
   },
   {
    "duration": 106,
    "start_time": "2022-03-09T16:11:37.253Z"
   },
   {
    "duration": 578,
    "start_time": "2022-03-09T16:11:50.960Z"
   },
   {
    "duration": 359,
    "start_time": "2022-03-09T16:12:17.262Z"
   },
   {
    "duration": 641,
    "start_time": "2022-03-09T16:13:15.982Z"
   },
   {
    "duration": 5093,
    "start_time": "2022-03-09T16:14:03.416Z"
   },
   {
    "duration": 4887,
    "start_time": "2022-03-09T16:14:24.396Z"
   },
   {
    "duration": 4647,
    "start_time": "2022-03-09T16:14:36.720Z"
   },
   {
    "duration": 4892,
    "start_time": "2022-03-09T16:14:45.197Z"
   },
   {
    "duration": 650,
    "start_time": "2022-03-09T16:15:06.853Z"
   },
   {
    "duration": 5930,
    "start_time": "2022-03-09T16:15:37.090Z"
   },
   {
    "duration": 1656,
    "start_time": "2022-03-09T16:16:06.047Z"
   },
   {
    "duration": 4803,
    "start_time": "2022-03-09T16:16:17.246Z"
   },
   {
    "duration": 5228,
    "start_time": "2022-03-09T16:17:29.169Z"
   },
   {
    "duration": 5160,
    "start_time": "2022-03-09T16:17:43.054Z"
   },
   {
    "duration": 2451,
    "start_time": "2022-03-09T16:18:02.278Z"
   },
   {
    "duration": 889,
    "start_time": "2022-03-09T16:19:26.592Z"
   },
   {
    "duration": 1488,
    "start_time": "2022-03-09T19:45:23.600Z"
   },
   {
    "duration": 13,
    "start_time": "2022-03-09T19:45:26.944Z"
   },
   {
    "duration": 12,
    "start_time": "2022-03-09T19:45:27.097Z"
   },
   {
    "duration": 9,
    "start_time": "2022-03-09T19:45:28.140Z"
   },
   {
    "duration": 11,
    "start_time": "2022-03-09T19:45:28.674Z"
   },
   {
    "duration": 20,
    "start_time": "2022-03-09T19:45:30.078Z"
   },
   {
    "duration": 7,
    "start_time": "2022-03-09T19:45:30.599Z"
   },
   {
    "duration": 19,
    "start_time": "2022-03-09T19:45:30.775Z"
   },
   {
    "duration": 23,
    "start_time": "2022-03-09T19:45:30.965Z"
   },
   {
    "duration": 8,
    "start_time": "2022-03-09T19:45:31.308Z"
   },
   {
    "duration": 15,
    "start_time": "2022-03-09T19:45:31.501Z"
   },
   {
    "duration": 3383,
    "start_time": "2022-03-09T19:45:31.694Z"
   },
   {
    "duration": 2618,
    "start_time": "2022-03-09T19:45:35.079Z"
   },
   {
    "duration": 9,
    "start_time": "2022-03-09T19:45:37.699Z"
   },
   {
    "duration": 11,
    "start_time": "2022-03-09T19:45:37.710Z"
   },
   {
    "duration": 523,
    "start_time": "2022-03-09T19:45:37.723Z"
   },
   {
    "duration": 474,
    "start_time": "2022-03-09T19:45:38.248Z"
   },
   {
    "duration": 1845,
    "start_time": "2022-03-09T19:45:38.724Z"
   },
   {
    "duration": 508,
    "start_time": "2022-03-09T19:45:40.571Z"
   },
   {
    "duration": 1945,
    "start_time": "2022-03-09T19:45:41.081Z"
   },
   {
    "duration": 602,
    "start_time": "2022-03-09T19:45:43.028Z"
   },
   {
    "duration": 7,
    "start_time": "2022-03-09T19:45:43.631Z"
   },
   {
    "duration": 606,
    "start_time": "2022-03-09T19:46:13.876Z"
   },
   {
    "duration": 429,
    "start_time": "2022-03-09T19:46:25.128Z"
   },
   {
    "duration": 1875,
    "start_time": "2022-03-09T19:46:31.880Z"
   },
   {
    "duration": 1133,
    "start_time": "2022-03-09T19:50:10.095Z"
   },
   {
    "duration": 655,
    "start_time": "2022-03-09T19:53:17.936Z"
   },
   {
    "duration": 803,
    "start_time": "2022-03-09T19:54:49.475Z"
   },
   {
    "duration": 695,
    "start_time": "2022-03-09T19:54:56.199Z"
   },
   {
    "duration": 715,
    "start_time": "2022-03-09T19:55:04.949Z"
   },
   {
    "duration": 723,
    "start_time": "2022-03-09T19:57:05.362Z"
   },
   {
    "duration": 649,
    "start_time": "2022-03-09T19:57:24.151Z"
   },
   {
    "duration": 634,
    "start_time": "2022-03-09T19:58:08.053Z"
   },
   {
    "duration": 755,
    "start_time": "2022-03-09T19:59:00.397Z"
   },
   {
    "duration": 834,
    "start_time": "2022-03-09T19:59:19.449Z"
   },
   {
    "duration": 631,
    "start_time": "2022-03-09T19:59:27.979Z"
   },
   {
    "duration": 702,
    "start_time": "2022-03-09T20:04:08.116Z"
   },
   {
    "duration": 714,
    "start_time": "2022-03-09T20:04:22.493Z"
   },
   {
    "duration": 538,
    "start_time": "2022-03-09T20:04:41.667Z"
   },
   {
    "duration": 640,
    "start_time": "2022-03-09T20:09:28.449Z"
   },
   {
    "duration": 335,
    "start_time": "2022-03-09T20:18:50.724Z"
   },
   {
    "duration": 734,
    "start_time": "2022-03-09T20:20:21.218Z"
   },
   {
    "duration": 741,
    "start_time": "2022-03-09T20:20:39.197Z"
   },
   {
    "duration": 816,
    "start_time": "2022-03-09T20:21:52.819Z"
   },
   {
    "duration": 663,
    "start_time": "2022-03-09T20:22:12.662Z"
   },
   {
    "duration": 602,
    "start_time": "2022-03-09T20:22:18.703Z"
   },
   {
    "duration": 1326,
    "start_time": "2022-03-10T09:29:14.813Z"
   },
   {
    "duration": 12,
    "start_time": "2022-03-10T09:29:17.726Z"
   },
   {
    "duration": 11,
    "start_time": "2022-03-10T09:29:17.886Z"
   },
   {
    "duration": 9,
    "start_time": "2022-03-10T09:29:18.916Z"
   },
   {
    "duration": 11,
    "start_time": "2022-03-10T09:29:19.472Z"
   },
   {
    "duration": 19,
    "start_time": "2022-03-10T09:29:20.881Z"
   },
   {
    "duration": 6,
    "start_time": "2022-03-10T09:29:21.393Z"
   },
   {
    "duration": 16,
    "start_time": "2022-03-10T09:29:21.551Z"
   },
   {
    "duration": 20,
    "start_time": "2022-03-10T09:29:21.723Z"
   },
   {
    "duration": 7,
    "start_time": "2022-03-10T09:29:22.087Z"
   },
   {
    "duration": 14,
    "start_time": "2022-03-10T09:29:22.252Z"
   },
   {
    "duration": 3011,
    "start_time": "2022-03-10T09:29:22.422Z"
   },
   {
    "duration": 2300,
    "start_time": "2022-03-10T09:29:25.434Z"
   },
   {
    "duration": 8,
    "start_time": "2022-03-10T09:29:27.736Z"
   },
   {
    "duration": 17,
    "start_time": "2022-03-10T09:29:27.746Z"
   },
   {
    "duration": 419,
    "start_time": "2022-03-10T09:29:27.765Z"
   },
   {
    "duration": 400,
    "start_time": "2022-03-10T09:29:28.186Z"
   },
   {
    "duration": 1578,
    "start_time": "2022-03-10T09:29:28.587Z"
   },
   {
    "duration": 426,
    "start_time": "2022-03-10T09:29:30.167Z"
   },
   {
    "duration": 1559,
    "start_time": "2022-03-10T09:29:30.595Z"
   },
   {
    "duration": 555,
    "start_time": "2022-03-10T09:29:32.156Z"
   },
   {
    "duration": 6,
    "start_time": "2022-03-10T09:29:32.713Z"
   },
   {
    "duration": 482,
    "start_time": "2022-03-10T09:29:32.721Z"
   },
   {
    "duration": 7,
    "start_time": "2022-03-10T09:29:33.205Z"
   },
   {
    "duration": 263,
    "start_time": "2022-03-10T09:29:33.214Z"
   },
   {
    "duration": 232,
    "start_time": "2022-03-10T09:29:33.479Z"
   },
   {
    "duration": 26,
    "start_time": "2022-03-10T09:29:33.713Z"
   },
   {
    "duration": 129,
    "start_time": "2022-03-10T09:29:33.742Z"
   },
   {
    "duration": 12,
    "start_time": "2022-03-10T09:29:33.873Z"
   },
   {
    "duration": 12,
    "start_time": "2022-03-10T09:29:33.886Z"
   },
   {
    "duration": 13,
    "start_time": "2022-03-10T09:39:58.017Z"
   },
   {
    "duration": 42,
    "start_time": "2022-03-10T09:59:56.909Z"
   },
   {
    "duration": 447,
    "start_time": "2022-03-10T10:09:54.014Z"
   },
   {
    "duration": 233,
    "start_time": "2022-03-10T10:11:47.033Z"
   },
   {
    "duration": 14,
    "start_time": "2022-03-10T10:12:20.772Z"
   },
   {
    "duration": 12,
    "start_time": "2022-03-10T10:13:43.643Z"
   },
   {
    "duration": 11,
    "start_time": "2022-03-10T10:13:46.710Z"
   },
   {
    "duration": 364,
    "start_time": "2022-03-10T10:25:11.531Z"
   },
   {
    "duration": 268,
    "start_time": "2022-03-10T10:25:36.312Z"
   },
   {
    "duration": 220,
    "start_time": "2022-03-10T10:27:34.890Z"
   },
   {
    "duration": 16,
    "start_time": "2022-03-10T10:31:08.187Z"
   },
   {
    "duration": 513,
    "start_time": "2022-03-10T10:35:13.247Z"
   },
   {
    "duration": 48,
    "start_time": "2022-03-10T10:35:23.678Z"
   },
   {
    "duration": 52,
    "start_time": "2022-03-10T10:35:26.968Z"
   },
   {
    "duration": 52,
    "start_time": "2022-03-10T10:35:46.630Z"
   },
   {
    "duration": 83,
    "start_time": "2022-03-10T10:35:52.172Z"
   },
   {
    "duration": 13,
    "start_time": "2022-03-10T10:36:05.323Z"
   },
   {
    "duration": 13,
    "start_time": "2022-03-10T10:36:44.815Z"
   },
   {
    "duration": 15,
    "start_time": "2022-03-10T10:37:18.700Z"
   },
   {
    "duration": 13,
    "start_time": "2022-03-10T10:37:28.022Z"
   },
   {
    "duration": 113,
    "start_time": "2022-03-10T10:38:21.857Z"
   },
   {
    "duration": 135,
    "start_time": "2022-03-10T10:38:41.061Z"
   },
   {
    "duration": 52,
    "start_time": "2022-03-10T10:39:13.600Z"
   },
   {
    "duration": 60,
    "start_time": "2022-03-10T10:42:32.131Z"
   },
   {
    "duration": 15,
    "start_time": "2022-03-10T10:42:50.995Z"
   },
   {
    "duration": 14,
    "start_time": "2022-03-10T10:43:24.463Z"
   },
   {
    "duration": 14,
    "start_time": "2022-03-10T10:43:28.560Z"
   },
   {
    "duration": 14,
    "start_time": "2022-03-10T10:43:54.779Z"
   },
   {
    "duration": 54,
    "start_time": "2022-03-10T10:45:37.864Z"
   },
   {
    "duration": 15,
    "start_time": "2022-03-10T10:45:54.913Z"
   },
   {
    "duration": 50,
    "start_time": "2022-03-10T10:46:19.614Z"
   },
   {
    "duration": 50,
    "start_time": "2022-03-10T12:41:45.743Z"
   },
   {
    "duration": 12,
    "start_time": "2022-03-10T12:41:46.775Z"
   },
   {
    "duration": 11,
    "start_time": "2022-03-10T12:41:46.933Z"
   },
   {
    "duration": 8,
    "start_time": "2022-03-10T12:41:47.951Z"
   },
   {
    "duration": 12,
    "start_time": "2022-03-10T12:41:48.476Z"
   },
   {
    "duration": 18,
    "start_time": "2022-03-10T12:41:49.860Z"
   },
   {
    "duration": 6,
    "start_time": "2022-03-10T12:41:50.366Z"
   },
   {
    "duration": 16,
    "start_time": "2022-03-10T12:41:50.551Z"
   },
   {
    "duration": 18,
    "start_time": "2022-03-10T12:41:50.727Z"
   },
   {
    "duration": 6,
    "start_time": "2022-03-10T12:41:51.074Z"
   },
   {
    "duration": 14,
    "start_time": "2022-03-10T12:41:51.248Z"
   },
   {
    "duration": 3105,
    "start_time": "2022-03-10T12:41:51.433Z"
   },
   {
    "duration": 2357,
    "start_time": "2022-03-10T12:41:54.539Z"
   },
   {
    "duration": 8,
    "start_time": "2022-03-10T12:41:56.897Z"
   },
   {
    "duration": 11,
    "start_time": "2022-03-10T12:41:56.907Z"
   },
   {
    "duration": 414,
    "start_time": "2022-03-10T12:41:56.920Z"
   },
   {
    "duration": 452,
    "start_time": "2022-03-10T12:41:57.336Z"
   },
   {
    "duration": 1564,
    "start_time": "2022-03-10T12:41:57.790Z"
   },
   {
    "duration": 360,
    "start_time": "2022-03-10T12:41:59.357Z"
   },
   {
    "duration": 1592,
    "start_time": "2022-03-10T12:41:59.718Z"
   },
   {
    "duration": 561,
    "start_time": "2022-03-10T12:42:01.311Z"
   },
   {
    "duration": 6,
    "start_time": "2022-03-10T12:42:01.873Z"
   },
   {
    "duration": 433,
    "start_time": "2022-03-10T12:42:01.881Z"
   },
   {
    "duration": 5,
    "start_time": "2022-03-10T12:42:02.316Z"
   },
   {
    "duration": 252,
    "start_time": "2022-03-10T12:42:02.333Z"
   },
   {
    "duration": 254,
    "start_time": "2022-03-10T12:42:02.587Z"
   },
   {
    "duration": 42,
    "start_time": "2022-03-10T13:04:34.376Z"
   },
   {
    "duration": 44,
    "start_time": "2022-03-10T13:04:47.152Z"
   },
   {
    "duration": 50,
    "start_time": "2022-03-10T13:04:51.748Z"
   },
   {
    "duration": 108,
    "start_time": "2022-03-10T13:05:15.397Z"
   },
   {
    "duration": 4042,
    "start_time": "2022-03-10T13:05:55.449Z"
   },
   {
    "duration": 4445,
    "start_time": "2022-03-10T13:06:06.261Z"
   },
   {
    "duration": 539,
    "start_time": "2022-03-10T13:08:16.126Z"
   },
   {
    "duration": 8,
    "start_time": "2022-03-10T13:10:11.111Z"
   },
   {
    "duration": 578,
    "start_time": "2022-03-10T13:10:37.830Z"
   },
   {
    "duration": 20618,
    "start_time": "2022-03-10T13:55:43.685Z"
   },
   {
    "duration": 18,
    "start_time": "2022-03-10T13:56:04.305Z"
   },
   {
    "duration": 15,
    "start_time": "2022-03-10T13:56:04.326Z"
   },
   {
    "duration": 13,
    "start_time": "2022-03-10T13:56:04.344Z"
   },
   {
    "duration": 16,
    "start_time": "2022-03-10T13:56:04.359Z"
   },
   {
    "duration": 57,
    "start_time": "2022-03-10T13:56:04.377Z"
   },
   {
    "duration": 8,
    "start_time": "2022-03-10T13:56:04.437Z"
   },
   {
    "duration": 26,
    "start_time": "2022-03-10T13:56:04.449Z"
   },
   {
    "duration": 59,
    "start_time": "2022-03-10T13:56:04.478Z"
   },
   {
    "duration": 9,
    "start_time": "2022-03-10T13:56:04.540Z"
   },
   {
    "duration": 22,
    "start_time": "2022-03-10T13:56:04.552Z"
   },
   {
    "duration": 5453,
    "start_time": "2022-03-10T13:56:04.576Z"
   },
   {
    "duration": 4276,
    "start_time": "2022-03-10T13:56:10.033Z"
   },
   {
    "duration": 24,
    "start_time": "2022-03-10T13:56:14.311Z"
   },
   {
    "duration": 15,
    "start_time": "2022-03-10T13:56:14.338Z"
   },
   {
    "duration": 748,
    "start_time": "2022-03-10T13:56:14.356Z"
   },
   {
    "duration": 680,
    "start_time": "2022-03-10T13:56:15.107Z"
   },
   {
    "duration": 2331,
    "start_time": "2022-03-10T13:56:15.789Z"
   },
   {
    "duration": 699,
    "start_time": "2022-03-10T13:56:18.123Z"
   },
   {
    "duration": 2315,
    "start_time": "2022-03-10T13:56:18.832Z"
   },
   {
    "duration": 861,
    "start_time": "2022-03-10T13:56:21.149Z"
   },
   {
    "duration": 20,
    "start_time": "2022-03-10T13:56:22.013Z"
   },
   {
    "duration": 716,
    "start_time": "2022-03-10T13:56:22.038Z"
   },
   {
    "duration": 11,
    "start_time": "2022-03-10T13:56:22.758Z"
   },
   {
    "duration": 491,
    "start_time": "2022-03-10T13:56:22.772Z"
   },
   {
    "duration": 454,
    "start_time": "2022-03-10T13:56:23.266Z"
   },
   {
    "duration": 25,
    "start_time": "2022-03-10T13:56:23.722Z"
   },
   {
    "duration": 734,
    "start_time": "2022-03-10T13:56:23.749Z"
   },
   {
    "duration": -1153,
    "start_time": "2022-03-10T13:56:25.639Z"
   },
   {
    "duration": -1157,
    "start_time": "2022-03-10T13:56:25.644Z"
   },
   {
    "duration": 18,
    "start_time": "2022-03-10T14:20:18.750Z"
   },
   {
    "duration": 18,
    "start_time": "2022-03-10T14:20:54.299Z"
   },
   {
    "duration": 18,
    "start_time": "2022-03-10T14:21:13.395Z"
   },
   {
    "duration": 21,
    "start_time": "2022-03-10T14:22:40.774Z"
   },
   {
    "duration": 555,
    "start_time": "2022-03-10T14:30:40.392Z"
   },
   {
    "duration": 12,
    "start_time": "2022-03-10T14:30:53.908Z"
   },
   {
    "duration": 12,
    "start_time": "2022-03-10T14:31:18.038Z"
   },
   {
    "duration": 19,
    "start_time": "2022-03-10T14:31:26.843Z"
   },
   {
    "duration": 809,
    "start_time": "2022-03-10T14:33:40.660Z"
   },
   {
    "duration": 876,
    "start_time": "2022-03-10T14:33:53.045Z"
   },
   {
    "duration": 720,
    "start_time": "2022-03-10T14:34:28.299Z"
   },
   {
    "duration": 1017,
    "start_time": "2022-03-10T14:34:37.963Z"
   },
   {
    "duration": 1003,
    "start_time": "2022-03-10T14:34:45.291Z"
   },
   {
    "duration": 953,
    "start_time": "2022-03-10T14:34:59.793Z"
   },
   {
    "duration": 941,
    "start_time": "2022-03-10T14:35:05.544Z"
   },
   {
    "duration": 985,
    "start_time": "2022-03-10T14:35:08.873Z"
   },
   {
    "duration": 983,
    "start_time": "2022-03-10T14:35:12.785Z"
   },
   {
    "duration": 866,
    "start_time": "2022-03-10T14:39:48.687Z"
   },
   {
    "duration": 232,
    "start_time": "2022-03-10T14:40:04.791Z"
   },
   {
    "duration": 858,
    "start_time": "2022-03-10T14:40:33.205Z"
   },
   {
    "duration": 920,
    "start_time": "2022-03-10T14:40:40.701Z"
   },
   {
    "duration": 230,
    "start_time": "2022-03-10T14:41:10.834Z"
   },
   {
    "duration": 20,
    "start_time": "2022-03-10T14:41:14.370Z"
   },
   {
    "duration": 20,
    "start_time": "2022-03-10T14:41:18.154Z"
   },
   {
    "duration": 844,
    "start_time": "2022-03-10T14:47:16.926Z"
   },
   {
    "duration": 8745,
    "start_time": "2022-03-10T14:47:32.795Z"
   },
   {
    "duration": 8864,
    "start_time": "2022-03-10T14:47:44.204Z"
   },
   {
    "duration": -1337,
    "start_time": "2022-03-10T14:47:54.408Z"
   },
   {
    "duration": 28,
    "start_time": "2022-03-10T14:47:54.721Z"
   },
   {
    "duration": 94,
    "start_time": "2022-03-10T14:48:08.679Z"
   },
   {
    "duration": 18,
    "start_time": "2022-03-10T14:48:09.200Z"
   },
   {
    "duration": 17,
    "start_time": "2022-03-10T14:48:09.368Z"
   },
   {
    "duration": 12,
    "start_time": "2022-03-10T14:48:10.664Z"
   },
   {
    "duration": 18,
    "start_time": "2022-03-10T14:48:11.752Z"
   },
   {
    "duration": 14,
    "start_time": "2022-03-10T14:48:13.880Z"
   },
   {
    "duration": 804,
    "start_time": "2022-03-10T14:48:14.265Z"
   },
   {
    "duration": 1296,
    "start_time": "2022-03-10T20:17:23.170Z"
   },
   {
    "duration": 54,
    "start_time": "2022-03-10T20:32:18.581Z"
   },
   {
    "duration": 1414,
    "start_time": "2022-03-11T16:39:25.205Z"
   },
   {
    "duration": 19,
    "start_time": "2022-03-11T16:41:36.645Z"
   },
   {
    "duration": 53,
    "start_time": "2022-03-11T16:43:36.072Z"
   },
   {
    "duration": 568,
    "start_time": "2022-03-11T16:46:07.374Z"
   },
   {
    "duration": 73,
    "start_time": "2022-03-11T16:47:31.091Z"
   },
   {
    "duration": 12,
    "start_time": "2022-03-11T16:47:31.543Z"
   },
   {
    "duration": 11,
    "start_time": "2022-03-11T16:47:31.701Z"
   },
   {
    "duration": 9,
    "start_time": "2022-03-11T16:47:32.861Z"
   },
   {
    "duration": 11,
    "start_time": "2022-03-11T16:47:33.717Z"
   },
   {
    "duration": 557,
    "start_time": "2022-03-11T16:47:34.738Z"
   },
   {
    "duration": 19,
    "start_time": "2022-03-11T16:47:36.087Z"
   },
   {
    "duration": 7,
    "start_time": "2022-03-11T16:47:36.611Z"
   },
   {
    "duration": 17,
    "start_time": "2022-03-11T16:47:36.780Z"
   },
   {
    "duration": 19,
    "start_time": "2022-03-11T16:47:36.948Z"
   },
   {
    "duration": 7,
    "start_time": "2022-03-11T16:47:37.323Z"
   },
   {
    "duration": 13,
    "start_time": "2022-03-11T16:47:37.509Z"
   },
   {
    "duration": 15,
    "start_time": "2022-03-11T16:47:38.023Z"
   },
   {
    "duration": 3093,
    "start_time": "2022-03-11T16:47:38.198Z"
   },
   {
    "duration": 2397,
    "start_time": "2022-03-11T16:47:41.293Z"
   },
   {
    "duration": 8,
    "start_time": "2022-03-11T16:47:43.692Z"
   },
   {
    "duration": 10,
    "start_time": "2022-03-11T16:47:43.702Z"
   },
   {
    "duration": 448,
    "start_time": "2022-03-11T16:47:43.714Z"
   },
   {
    "duration": 420,
    "start_time": "2022-03-11T16:47:44.164Z"
   },
   {
    "duration": 1837,
    "start_time": "2022-03-11T16:47:44.586Z"
   },
   {
    "duration": 386,
    "start_time": "2022-03-11T16:47:46.426Z"
   },
   {
    "duration": 1655,
    "start_time": "2022-03-11T16:47:46.814Z"
   },
   {
    "duration": 543,
    "start_time": "2022-03-11T16:47:48.470Z"
   },
   {
    "duration": 630,
    "start_time": "2022-03-11T16:47:49.015Z"
   },
   {
    "duration": 5,
    "start_time": "2022-03-11T16:47:49.647Z"
   },
   {
    "duration": 488,
    "start_time": "2022-03-11T16:47:49.654Z"
   },
   {
    "duration": 7,
    "start_time": "2022-03-11T16:47:50.144Z"
   },
   {
    "duration": 295,
    "start_time": "2022-03-11T16:47:50.152Z"
   },
   {
    "duration": 246,
    "start_time": "2022-03-11T16:47:50.450Z"
   },
   {
    "duration": 15,
    "start_time": "2022-03-11T16:47:50.698Z"
   },
   {
    "duration": 159,
    "start_time": "2022-03-11T16:47:50.714Z"
   },
   {
    "duration": 13,
    "start_time": "2022-03-11T16:47:50.875Z"
   },
   {
    "duration": 14,
    "start_time": "2022-03-11T16:47:50.889Z"
   },
   {
    "duration": 1706,
    "start_time": "2022-03-11T16:48:43.873Z"
   },
   {
    "duration": 400,
    "start_time": "2022-03-11T16:49:51.945Z"
   },
   {
    "duration": 1691,
    "start_time": "2022-03-11T16:50:22.022Z"
   },
   {
    "duration": 46,
    "start_time": "2022-03-11T16:52:37.874Z"
   },
   {
    "duration": 42,
    "start_time": "2022-03-11T16:55:25.888Z"
   },
   {
    "duration": 15,
    "start_time": "2022-03-11T16:57:38.818Z"
   },
   {
    "duration": 43,
    "start_time": "2022-03-11T17:00:57.088Z"
   },
   {
    "duration": 16,
    "start_time": "2022-03-11T17:01:17.226Z"
   }
  ],
  "kernelspec": {
   "display_name": "Python 3",
   "language": "python",
   "name": "python3"
  },
  "language_info": {
   "codemirror_mode": {
    "name": "ipython",
    "version": 3
   },
   "file_extension": ".py",
   "mimetype": "text/x-python",
   "name": "python",
   "nbconvert_exporter": "python",
   "pygments_lexer": "ipython3",
   "version": "3.8.8"
  },
  "toc": {
   "base_numbering": 1,
   "nav_menu": {},
   "number_sections": true,
   "sideBar": true,
   "skip_h1_title": true,
   "title_cell": "Table of Contents",
   "title_sidebar": "Contents",
   "toc_cell": false,
   "toc_position": {},
   "toc_section_display": true,
   "toc_window_display": false
  }
 },
 "nbformat": 4,
 "nbformat_minor": 2
}
