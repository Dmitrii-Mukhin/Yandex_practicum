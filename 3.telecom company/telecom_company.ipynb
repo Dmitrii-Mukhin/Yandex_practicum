{
 "cells": [
  {
   "cell_type": "markdown",
   "metadata": {},
   "source": [
    "# Этим проектом выявляем наиболее перспективный тариф для телеком компании\n",
    "Описание проекта:\n",
    "\n",
    "В компании федерального оператора сотовой связи клиентам предлагают два тарифных плана: «Смарт» и «Ультра».\n",
    "Необходимо сделать предварительный анализ тарифов на небольшой выборке клиентов.\n",
    "Проанализируем поведение клиентов, сделаем вывод — какой тариф лучше оставить для дальнейшего развития компании.\n",
    "\n"
   ]
  },
  {
   "cell_type": "markdown",
   "metadata": {},
   "source": [
    "\n",
    "\n",
    "\n",
    "\n",
    "Шаг 1. Изучить общую информацию;\n",
    "Шаг 2. Подготовить данные;\n",
    "Шаг 3. Проанализировать данные;\n",
    "Шаг 4. Проверить гипотезы;\n",
    "Шаг 5. Напишите общий вывод;\n",
    "\n",
    "\n",
    "\n",
    "\n"
   ]
  },
  {
   "cell_type": "code",
   "execution_count": 1,
   "metadata": {},
   "outputs": [],
   "source": [
    "import pandas as pd\n",
    "import numpy as np\n",
    "from IPython.display import display\n",
    "import matplotlib.pyplot as plt\n",
    "from scipy import stats as st\n",
    "import seaborn as sns"
   ]
  },
  {
   "cell_type": "code",
   "execution_count": 2,
   "metadata": {},
   "outputs": [
    {
     "name": "stdout",
     "output_type": "stream",
     "text": [
      "<class 'pandas.core.frame.DataFrame'>\n",
      "RangeIndex: 202607 entries, 0 to 202606\n",
      "Data columns (total 4 columns):\n",
      "id           202607 non-null object\n",
      "call_date    202607 non-null object\n",
      "duration     202607 non-null float64\n",
      "user_id      202607 non-null int64\n",
      "dtypes: float64(1), int64(1), object(2)\n",
      "memory usage: 6.2+ MB\n"
     ]
    }
   ],
   "source": [
    "calls = pd.read_csv('/datasets/calls.csv')\n",
    "calls.info()\n",
    "\n",
    "\n",
    "#имеем 4 колонки и 3 разных типа данных"
   ]
  },
  {
   "cell_type": "code",
   "execution_count": 3,
   "metadata": {},
   "outputs": [
    {
     "name": "stdout",
     "output_type": "stream",
     "text": [
      "<class 'pandas.core.frame.DataFrame'>\n",
      "RangeIndex: 149396 entries, 0 to 149395\n",
      "Data columns (total 5 columns):\n",
      "Unnamed: 0      149396 non-null int64\n",
      "id              149396 non-null object\n",
      "mb_used         149396 non-null float64\n",
      "session_date    149396 non-null object\n",
      "user_id         149396 non-null int64\n",
      "dtypes: float64(1), int64(2), object(2)\n",
      "memory usage: 5.7+ MB\n"
     ]
    }
   ],
   "source": [
    "internet = pd.read_csv('/datasets/internet.csv')\n",
    "internet.info()\n",
    "\n",
    "#имеем 5 колонок и 3 разных типа данных"
   ]
  },
  {
   "cell_type": "code",
   "execution_count": 4,
   "metadata": {},
   "outputs": [
    {
     "name": "stdout",
     "output_type": "stream",
     "text": [
      "<class 'pandas.core.frame.DataFrame'>\n",
      "RangeIndex: 123036 entries, 0 to 123035\n",
      "Data columns (total 3 columns):\n",
      "id              123036 non-null object\n",
      "message_date    123036 non-null object\n",
      "user_id         123036 non-null int64\n",
      "dtypes: int64(1), object(2)\n",
      "memory usage: 2.8+ MB\n"
     ]
    }
   ],
   "source": [
    "messeges = pd.read_csv('/datasets/messages.csv')\n",
    "messeges.info()\n",
    "\n",
    "# 3 колонки и 2 типа данных"
   ]
  },
  {
   "cell_type": "code",
   "execution_count": 5,
   "metadata": {},
   "outputs": [
    {
     "name": "stdout",
     "output_type": "stream",
     "text": [
      "<class 'pandas.core.frame.DataFrame'>\n",
      "RangeIndex: 2 entries, 0 to 1\n",
      "Data columns (total 8 columns):\n",
      "messages_included        2 non-null int64\n",
      "mb_per_month_included    2 non-null int64\n",
      "minutes_included         2 non-null int64\n",
      "rub_monthly_fee          2 non-null int64\n",
      "rub_per_gb               2 non-null int64\n",
      "rub_per_message          2 non-null int64\n",
      "rub_per_minute           2 non-null int64\n",
      "tariff_name              2 non-null object\n",
      "dtypes: int64(7), object(1)\n",
      "memory usage: 256.0+ bytes\n"
     ]
    },
    {
     "data": {
      "text/html": [
       "<div>\n",
       "<style scoped>\n",
       "    .dataframe tbody tr th:only-of-type {\n",
       "        vertical-align: middle;\n",
       "    }\n",
       "\n",
       "    .dataframe tbody tr th {\n",
       "        vertical-align: top;\n",
       "    }\n",
       "\n",
       "    .dataframe thead th {\n",
       "        text-align: right;\n",
       "    }\n",
       "</style>\n",
       "<table border=\"1\" class=\"dataframe\">\n",
       "  <thead>\n",
       "    <tr style=\"text-align: right;\">\n",
       "      <th></th>\n",
       "      <th>messages_included</th>\n",
       "      <th>mb_per_month_included</th>\n",
       "      <th>minutes_included</th>\n",
       "      <th>rub_monthly_fee</th>\n",
       "      <th>rub_per_gb</th>\n",
       "      <th>rub_per_message</th>\n",
       "      <th>rub_per_minute</th>\n",
       "      <th>tariff_name</th>\n",
       "    </tr>\n",
       "  </thead>\n",
       "  <tbody>\n",
       "    <tr>\n",
       "      <td>0</td>\n",
       "      <td>50</td>\n",
       "      <td>15360</td>\n",
       "      <td>500</td>\n",
       "      <td>550</td>\n",
       "      <td>200</td>\n",
       "      <td>3</td>\n",
       "      <td>3</td>\n",
       "      <td>smart</td>\n",
       "    </tr>\n",
       "    <tr>\n",
       "      <td>1</td>\n",
       "      <td>1000</td>\n",
       "      <td>30720</td>\n",
       "      <td>3000</td>\n",
       "      <td>1950</td>\n",
       "      <td>150</td>\n",
       "      <td>1</td>\n",
       "      <td>1</td>\n",
       "      <td>ultra</td>\n",
       "    </tr>\n",
       "  </tbody>\n",
       "</table>\n",
       "</div>"
      ],
      "text/plain": [
       "   messages_included  mb_per_month_included  minutes_included  \\\n",
       "0                 50                  15360               500   \n",
       "1               1000                  30720              3000   \n",
       "\n",
       "   rub_monthly_fee  rub_per_gb  rub_per_message  rub_per_minute tariff_name  \n",
       "0              550         200                3               3       smart  \n",
       "1             1950         150                1               1       ultra  "
      ]
     },
     "execution_count": 5,
     "metadata": {},
     "output_type": "execute_result"
    }
   ],
   "source": [
    "tariffs = pd.read_csv('/datasets/tariffs.csv')\n",
    "tariffs.info()\n",
    "tariffs.head(5)\n",
    "# 8 колонок и 2 типа данных"
   ]
  },
  {
   "cell_type": "code",
   "execution_count": 6,
   "metadata": {},
   "outputs": [
    {
     "name": "stdout",
     "output_type": "stream",
     "text": [
      "<class 'pandas.core.frame.DataFrame'>\n",
      "RangeIndex: 500 entries, 0 to 499\n",
      "Data columns (total 8 columns):\n",
      "user_id       500 non-null int64\n",
      "age           500 non-null int64\n",
      "churn_date    38 non-null object\n",
      "city          500 non-null object\n",
      "first_name    500 non-null object\n",
      "last_name     500 non-null object\n",
      "reg_date      500 non-null object\n",
      "tariff        500 non-null object\n",
      "dtypes: int64(2), object(6)\n",
      "memory usage: 31.4+ KB\n"
     ]
    },
    {
     "data": {
      "text/html": [
       "<div>\n",
       "<style scoped>\n",
       "    .dataframe tbody tr th:only-of-type {\n",
       "        vertical-align: middle;\n",
       "    }\n",
       "\n",
       "    .dataframe tbody tr th {\n",
       "        vertical-align: top;\n",
       "    }\n",
       "\n",
       "    .dataframe thead th {\n",
       "        text-align: right;\n",
       "    }\n",
       "</style>\n",
       "<table border=\"1\" class=\"dataframe\">\n",
       "  <thead>\n",
       "    <tr style=\"text-align: right;\">\n",
       "      <th></th>\n",
       "      <th>user_id</th>\n",
       "      <th>age</th>\n",
       "      <th>churn_date</th>\n",
       "      <th>city</th>\n",
       "      <th>first_name</th>\n",
       "      <th>last_name</th>\n",
       "      <th>reg_date</th>\n",
       "      <th>tariff</th>\n",
       "    </tr>\n",
       "  </thead>\n",
       "  <tbody>\n",
       "    <tr>\n",
       "      <td>0</td>\n",
       "      <td>1000</td>\n",
       "      <td>52</td>\n",
       "      <td>NaN</td>\n",
       "      <td>Краснодар</td>\n",
       "      <td>Рафаил</td>\n",
       "      <td>Верещагин</td>\n",
       "      <td>2018-05-25</td>\n",
       "      <td>ultra</td>\n",
       "    </tr>\n",
       "    <tr>\n",
       "      <td>1</td>\n",
       "      <td>1001</td>\n",
       "      <td>41</td>\n",
       "      <td>NaN</td>\n",
       "      <td>Москва</td>\n",
       "      <td>Иван</td>\n",
       "      <td>Ежов</td>\n",
       "      <td>2018-11-01</td>\n",
       "      <td>smart</td>\n",
       "    </tr>\n",
       "    <tr>\n",
       "      <td>2</td>\n",
       "      <td>1002</td>\n",
       "      <td>59</td>\n",
       "      <td>NaN</td>\n",
       "      <td>Стерлитамак</td>\n",
       "      <td>Евгений</td>\n",
       "      <td>Абрамович</td>\n",
       "      <td>2018-06-17</td>\n",
       "      <td>smart</td>\n",
       "    </tr>\n",
       "    <tr>\n",
       "      <td>3</td>\n",
       "      <td>1003</td>\n",
       "      <td>23</td>\n",
       "      <td>NaN</td>\n",
       "      <td>Москва</td>\n",
       "      <td>Белла</td>\n",
       "      <td>Белякова</td>\n",
       "      <td>2018-08-17</td>\n",
       "      <td>ultra</td>\n",
       "    </tr>\n",
       "    <tr>\n",
       "      <td>4</td>\n",
       "      <td>1004</td>\n",
       "      <td>68</td>\n",
       "      <td>NaN</td>\n",
       "      <td>Новокузнецк</td>\n",
       "      <td>Татьяна</td>\n",
       "      <td>Авдеенко</td>\n",
       "      <td>2018-05-14</td>\n",
       "      <td>ultra</td>\n",
       "    </tr>\n",
       "    <tr>\n",
       "      <td>5</td>\n",
       "      <td>1005</td>\n",
       "      <td>67</td>\n",
       "      <td>NaN</td>\n",
       "      <td>Набережные Челны</td>\n",
       "      <td>Афанасий</td>\n",
       "      <td>Горлов</td>\n",
       "      <td>2018-01-25</td>\n",
       "      <td>smart</td>\n",
       "    </tr>\n",
       "    <tr>\n",
       "      <td>6</td>\n",
       "      <td>1006</td>\n",
       "      <td>21</td>\n",
       "      <td>NaN</td>\n",
       "      <td>Ульяновск</td>\n",
       "      <td>Леонид</td>\n",
       "      <td>Ермолаев</td>\n",
       "      <td>2018-02-26</td>\n",
       "      <td>smart</td>\n",
       "    </tr>\n",
       "    <tr>\n",
       "      <td>7</td>\n",
       "      <td>1007</td>\n",
       "      <td>65</td>\n",
       "      <td>NaN</td>\n",
       "      <td>Москва</td>\n",
       "      <td>Юна</td>\n",
       "      <td>Березина</td>\n",
       "      <td>2018-04-19</td>\n",
       "      <td>smart</td>\n",
       "    </tr>\n",
       "    <tr>\n",
       "      <td>8</td>\n",
       "      <td>1008</td>\n",
       "      <td>63</td>\n",
       "      <td>NaN</td>\n",
       "      <td>Челябинск</td>\n",
       "      <td>Рустэм</td>\n",
       "      <td>Пономарёв</td>\n",
       "      <td>2018-12-19</td>\n",
       "      <td>smart</td>\n",
       "    </tr>\n",
       "    <tr>\n",
       "      <td>9</td>\n",
       "      <td>1009</td>\n",
       "      <td>24</td>\n",
       "      <td>NaN</td>\n",
       "      <td>Пермь</td>\n",
       "      <td>Василиса</td>\n",
       "      <td>Блинова</td>\n",
       "      <td>2018-03-22</td>\n",
       "      <td>smart</td>\n",
       "    </tr>\n",
       "    <tr>\n",
       "      <td>10</td>\n",
       "      <td>1010</td>\n",
       "      <td>26</td>\n",
       "      <td>NaN</td>\n",
       "      <td>Тюмень</td>\n",
       "      <td>Эдуард</td>\n",
       "      <td>Кононов</td>\n",
       "      <td>2018-08-05</td>\n",
       "      <td>smart</td>\n",
       "    </tr>\n",
       "    <tr>\n",
       "      <td>11</td>\n",
       "      <td>1011</td>\n",
       "      <td>44</td>\n",
       "      <td>NaN</td>\n",
       "      <td>Самара</td>\n",
       "      <td>Веселина</td>\n",
       "      <td>Алёшко</td>\n",
       "      <td>2018-03-19</td>\n",
       "      <td>smart</td>\n",
       "    </tr>\n",
       "    <tr>\n",
       "      <td>12</td>\n",
       "      <td>1012</td>\n",
       "      <td>38</td>\n",
       "      <td>NaN</td>\n",
       "      <td>Санкт-Петербург</td>\n",
       "      <td>Варлам</td>\n",
       "      <td>Соловьев</td>\n",
       "      <td>2018-03-28</td>\n",
       "      <td>smart</td>\n",
       "    </tr>\n",
       "    <tr>\n",
       "      <td>13</td>\n",
       "      <td>1013</td>\n",
       "      <td>36</td>\n",
       "      <td>NaN</td>\n",
       "      <td>Иваново</td>\n",
       "      <td>Борис</td>\n",
       "      <td>Андреенко</td>\n",
       "      <td>2018-11-14</td>\n",
       "      <td>ultra</td>\n",
       "    </tr>\n",
       "    <tr>\n",
       "      <td>14</td>\n",
       "      <td>1014</td>\n",
       "      <td>64</td>\n",
       "      <td>NaN</td>\n",
       "      <td>Чебоксары</td>\n",
       "      <td>Яков</td>\n",
       "      <td>Акинфьев</td>\n",
       "      <td>2018-05-15</td>\n",
       "      <td>smart</td>\n",
       "    </tr>\n",
       "  </tbody>\n",
       "</table>\n",
       "</div>"
      ],
      "text/plain": [
       "    user_id  age churn_date              city first_name  last_name  \\\n",
       "0      1000   52        NaN         Краснодар     Рафаил  Верещагин   \n",
       "1      1001   41        NaN            Москва       Иван       Ежов   \n",
       "2      1002   59        NaN       Стерлитамак    Евгений  Абрамович   \n",
       "3      1003   23        NaN            Москва      Белла   Белякова   \n",
       "4      1004   68        NaN       Новокузнецк    Татьяна   Авдеенко   \n",
       "5      1005   67        NaN  Набережные Челны   Афанасий     Горлов   \n",
       "6      1006   21        NaN         Ульяновск     Леонид   Ермолаев   \n",
       "7      1007   65        NaN            Москва        Юна   Березина   \n",
       "8      1008   63        NaN         Челябинск     Рустэм  Пономарёв   \n",
       "9      1009   24        NaN             Пермь   Василиса    Блинова   \n",
       "10     1010   26        NaN            Тюмень     Эдуард    Кононов   \n",
       "11     1011   44        NaN            Самара   Веселина     Алёшко   \n",
       "12     1012   38        NaN   Санкт-Петербург     Варлам   Соловьев   \n",
       "13     1013   36        NaN           Иваново      Борис  Андреенко   \n",
       "14     1014   64        NaN         Чебоксары       Яков   Акинфьев   \n",
       "\n",
       "      reg_date tariff  \n",
       "0   2018-05-25  ultra  \n",
       "1   2018-11-01  smart  \n",
       "2   2018-06-17  smart  \n",
       "3   2018-08-17  ultra  \n",
       "4   2018-05-14  ultra  \n",
       "5   2018-01-25  smart  \n",
       "6   2018-02-26  smart  \n",
       "7   2018-04-19  smart  \n",
       "8   2018-12-19  smart  \n",
       "9   2018-03-22  smart  \n",
       "10  2018-08-05  smart  \n",
       "11  2018-03-19  smart  \n",
       "12  2018-03-28  smart  \n",
       "13  2018-11-14  ultra  \n",
       "14  2018-05-15  smart  "
      ]
     },
     "execution_count": 6,
     "metadata": {},
     "output_type": "execute_result"
    }
   ],
   "source": [
    "users = pd.read_csv('/datasets/users.csv')\n",
    "users.info()\n",
    "users.head(15)\n",
    "\n",
    "#8 колонок и 2 типа данных"
   ]
  },
  {
   "cell_type": "code",
   "execution_count": 7,
   "metadata": {},
   "outputs": [
    {
     "data": {
      "text/plain": [
       "0         False\n",
       "1         False\n",
       "2         False\n",
       "3         False\n",
       "4         False\n",
       "          ...  \n",
       "123031    False\n",
       "123032    False\n",
       "123033    False\n",
       "123034    False\n",
       "123035    False\n",
       "Length: 123036, dtype: bool"
      ]
     },
     "execution_count": 7,
     "metadata": {},
     "output_type": "execute_result"
    }
   ],
   "source": [
    "#users.duplicated()\n",
    "#calls.duplicated()\n",
    "#internet.duplicated()\n",
    "#tariffs.duplicated()\n",
    "messeges.duplicated()\n",
    "\n",
    "#дубликаты не найдены"
   ]
  },
  {
   "cell_type": "code",
   "execution_count": 8,
   "metadata": {},
   "outputs": [
    {
     "name": "stdout",
     "output_type": "stream",
     "text": [
      "<class 'pandas.core.frame.DataFrame'>\n",
      "RangeIndex: 202607 entries, 0 to 202606\n",
      "Data columns (total 5 columns):\n",
      "id           202607 non-null object\n",
      "call_date    202607 non-null datetime64[ns]\n",
      "duration     202607 non-null float64\n",
      "user_id      202607 non-null int64\n",
      "month        202607 non-null int64\n",
      "dtypes: datetime64[ns](1), float64(1), int64(2), object(1)\n",
      "memory usage: 7.7+ MB\n"
     ]
    },
    {
     "data": {
      "text/html": [
       "<div>\n",
       "<style scoped>\n",
       "    .dataframe tbody tr th:only-of-type {\n",
       "        vertical-align: middle;\n",
       "    }\n",
       "\n",
       "    .dataframe tbody tr th {\n",
       "        vertical-align: top;\n",
       "    }\n",
       "\n",
       "    .dataframe thead th {\n",
       "        text-align: right;\n",
       "    }\n",
       "</style>\n",
       "<table border=\"1\" class=\"dataframe\">\n",
       "  <thead>\n",
       "    <tr style=\"text-align: right;\">\n",
       "      <th></th>\n",
       "      <th>id</th>\n",
       "      <th>call_date</th>\n",
       "      <th>duration</th>\n",
       "      <th>user_id</th>\n",
       "      <th>month</th>\n",
       "    </tr>\n",
       "  </thead>\n",
       "  <tbody>\n",
       "    <tr>\n",
       "      <td>0</td>\n",
       "      <td>1000_0</td>\n",
       "      <td>2018-07-25</td>\n",
       "      <td>0.0</td>\n",
       "      <td>1000</td>\n",
       "      <td>7</td>\n",
       "    </tr>\n",
       "    <tr>\n",
       "      <td>1</td>\n",
       "      <td>1000_1</td>\n",
       "      <td>2018-08-17</td>\n",
       "      <td>0.0</td>\n",
       "      <td>1000</td>\n",
       "      <td>8</td>\n",
       "    </tr>\n",
       "    <tr>\n",
       "      <td>2</td>\n",
       "      <td>1000_2</td>\n",
       "      <td>2018-06-11</td>\n",
       "      <td>3.0</td>\n",
       "      <td>1000</td>\n",
       "      <td>6</td>\n",
       "    </tr>\n",
       "    <tr>\n",
       "      <td>3</td>\n",
       "      <td>1000_3</td>\n",
       "      <td>2018-09-21</td>\n",
       "      <td>14.0</td>\n",
       "      <td>1000</td>\n",
       "      <td>9</td>\n",
       "    </tr>\n",
       "    <tr>\n",
       "      <td>4</td>\n",
       "      <td>1000_4</td>\n",
       "      <td>2018-12-15</td>\n",
       "      <td>6.0</td>\n",
       "      <td>1000</td>\n",
       "      <td>12</td>\n",
       "    </tr>\n",
       "    <tr>\n",
       "      <td>5</td>\n",
       "      <td>1000_5</td>\n",
       "      <td>2018-11-02</td>\n",
       "      <td>0.0</td>\n",
       "      <td>1000</td>\n",
       "      <td>11</td>\n",
       "    </tr>\n",
       "    <tr>\n",
       "      <td>6</td>\n",
       "      <td>1000_6</td>\n",
       "      <td>2018-10-18</td>\n",
       "      <td>0.0</td>\n",
       "      <td>1000</td>\n",
       "      <td>10</td>\n",
       "    </tr>\n",
       "    <tr>\n",
       "      <td>7</td>\n",
       "      <td>1000_7</td>\n",
       "      <td>2018-08-22</td>\n",
       "      <td>19.0</td>\n",
       "      <td>1000</td>\n",
       "      <td>8</td>\n",
       "    </tr>\n",
       "    <tr>\n",
       "      <td>8</td>\n",
       "      <td>1000_8</td>\n",
       "      <td>2018-09-15</td>\n",
       "      <td>19.0</td>\n",
       "      <td>1000</td>\n",
       "      <td>9</td>\n",
       "    </tr>\n",
       "    <tr>\n",
       "      <td>9</td>\n",
       "      <td>1000_9</td>\n",
       "      <td>2018-08-15</td>\n",
       "      <td>0.0</td>\n",
       "      <td>1000</td>\n",
       "      <td>8</td>\n",
       "    </tr>\n",
       "    <tr>\n",
       "      <td>10</td>\n",
       "      <td>1000_10</td>\n",
       "      <td>2018-08-22</td>\n",
       "      <td>6.0</td>\n",
       "      <td>1000</td>\n",
       "      <td>8</td>\n",
       "    </tr>\n",
       "    <tr>\n",
       "      <td>11</td>\n",
       "      <td>1000_11</td>\n",
       "      <td>2018-05-28</td>\n",
       "      <td>19.0</td>\n",
       "      <td>1000</td>\n",
       "      <td>5</td>\n",
       "    </tr>\n",
       "    <tr>\n",
       "      <td>12</td>\n",
       "      <td>1000_12</td>\n",
       "      <td>2018-07-05</td>\n",
       "      <td>3.0</td>\n",
       "      <td>1000</td>\n",
       "      <td>7</td>\n",
       "    </tr>\n",
       "    <tr>\n",
       "      <td>13</td>\n",
       "      <td>1000_13</td>\n",
       "      <td>2018-09-29</td>\n",
       "      <td>8.0</td>\n",
       "      <td>1000</td>\n",
       "      <td>9</td>\n",
       "    </tr>\n",
       "    <tr>\n",
       "      <td>14</td>\n",
       "      <td>1000_14</td>\n",
       "      <td>2018-12-11</td>\n",
       "      <td>10.0</td>\n",
       "      <td>1000</td>\n",
       "      <td>12</td>\n",
       "    </tr>\n",
       "  </tbody>\n",
       "</table>\n",
       "</div>"
      ],
      "text/plain": [
       "         id  call_date  duration  user_id  month\n",
       "0    1000_0 2018-07-25       0.0     1000      7\n",
       "1    1000_1 2018-08-17       0.0     1000      8\n",
       "2    1000_2 2018-06-11       3.0     1000      6\n",
       "3    1000_3 2018-09-21      14.0     1000      9\n",
       "4    1000_4 2018-12-15       6.0     1000     12\n",
       "5    1000_5 2018-11-02       0.0     1000     11\n",
       "6    1000_6 2018-10-18       0.0     1000     10\n",
       "7    1000_7 2018-08-22      19.0     1000      8\n",
       "8    1000_8 2018-09-15      19.0     1000      9\n",
       "9    1000_9 2018-08-15       0.0     1000      8\n",
       "10  1000_10 2018-08-22       6.0     1000      8\n",
       "11  1000_11 2018-05-28      19.0     1000      5\n",
       "12  1000_12 2018-07-05       3.0     1000      7\n",
       "13  1000_13 2018-09-29       8.0     1000      9\n",
       "14  1000_14 2018-12-11      10.0     1000     12"
      ]
     },
     "execution_count": 8,
     "metadata": {},
     "output_type": "execute_result"
    }
   ],
   "source": [
    "#приведем даты к соотвествующему типу данных\n",
    "calls['call_date'] = pd.to_datetime(calls['call_date'], format='%Y-%m-%d')\n",
    " \n",
    "    \n",
    "calls['duration'] = calls['duration'].apply(np.ceil)\n",
    "\n",
    "#создадим доп столбец с месяцем\n",
    "calls['month'] = pd.DatetimeIndex(calls['call_date']).month\n",
    "\n",
    "calls.info()\n",
    "calls.head(15)"
   ]
  },
  {
   "cell_type": "code",
   "execution_count": 9,
   "metadata": {},
   "outputs": [
    {
     "data": {
      "text/html": [
       "<div>\n",
       "<style scoped>\n",
       "    .dataframe tbody tr th:only-of-type {\n",
       "        vertical-align: middle;\n",
       "    }\n",
       "\n",
       "    .dataframe tbody tr th {\n",
       "        vertical-align: top;\n",
       "    }\n",
       "\n",
       "    .dataframe thead th {\n",
       "        text-align: right;\n",
       "    }\n",
       "</style>\n",
       "<table border=\"1\" class=\"dataframe\">\n",
       "  <thead>\n",
       "    <tr style=\"text-align: right;\">\n",
       "      <th></th>\n",
       "      <th>Unnamed: 0</th>\n",
       "      <th>id</th>\n",
       "      <th>mb_used</th>\n",
       "      <th>session_date</th>\n",
       "      <th>user_id</th>\n",
       "      <th>month</th>\n",
       "    </tr>\n",
       "  </thead>\n",
       "  <tbody>\n",
       "    <tr>\n",
       "      <td>0</td>\n",
       "      <td>0</td>\n",
       "      <td>1000_0</td>\n",
       "      <td>112.95</td>\n",
       "      <td>2018-11-25</td>\n",
       "      <td>1000</td>\n",
       "      <td>11</td>\n",
       "    </tr>\n",
       "    <tr>\n",
       "      <td>1</td>\n",
       "      <td>1</td>\n",
       "      <td>1000_1</td>\n",
       "      <td>1052.81</td>\n",
       "      <td>2018-09-07</td>\n",
       "      <td>1000</td>\n",
       "      <td>9</td>\n",
       "    </tr>\n",
       "    <tr>\n",
       "      <td>2</td>\n",
       "      <td>2</td>\n",
       "      <td>1000_2</td>\n",
       "      <td>1197.26</td>\n",
       "      <td>2018-06-25</td>\n",
       "      <td>1000</td>\n",
       "      <td>6</td>\n",
       "    </tr>\n",
       "    <tr>\n",
       "      <td>3</td>\n",
       "      <td>3</td>\n",
       "      <td>1000_3</td>\n",
       "      <td>550.27</td>\n",
       "      <td>2018-08-22</td>\n",
       "      <td>1000</td>\n",
       "      <td>8</td>\n",
       "    </tr>\n",
       "    <tr>\n",
       "      <td>4</td>\n",
       "      <td>4</td>\n",
       "      <td>1000_4</td>\n",
       "      <td>302.56</td>\n",
       "      <td>2018-09-24</td>\n",
       "      <td>1000</td>\n",
       "      <td>9</td>\n",
       "    </tr>\n",
       "    <tr>\n",
       "      <td>5</td>\n",
       "      <td>5</td>\n",
       "      <td>1000_5</td>\n",
       "      <td>399.97</td>\n",
       "      <td>2018-10-02</td>\n",
       "      <td>1000</td>\n",
       "      <td>10</td>\n",
       "    </tr>\n",
       "    <tr>\n",
       "      <td>6</td>\n",
       "      <td>6</td>\n",
       "      <td>1000_6</td>\n",
       "      <td>540.08</td>\n",
       "      <td>2018-09-07</td>\n",
       "      <td>1000</td>\n",
       "      <td>9</td>\n",
       "    </tr>\n",
       "    <tr>\n",
       "      <td>7</td>\n",
       "      <td>7</td>\n",
       "      <td>1000_7</td>\n",
       "      <td>415.70</td>\n",
       "      <td>2018-07-11</td>\n",
       "      <td>1000</td>\n",
       "      <td>7</td>\n",
       "    </tr>\n",
       "    <tr>\n",
       "      <td>8</td>\n",
       "      <td>8</td>\n",
       "      <td>1000_8</td>\n",
       "      <td>505.40</td>\n",
       "      <td>2018-10-08</td>\n",
       "      <td>1000</td>\n",
       "      <td>10</td>\n",
       "    </tr>\n",
       "    <tr>\n",
       "      <td>9</td>\n",
       "      <td>9</td>\n",
       "      <td>1000_9</td>\n",
       "      <td>345.54</td>\n",
       "      <td>2018-09-03</td>\n",
       "      <td>1000</td>\n",
       "      <td>9</td>\n",
       "    </tr>\n",
       "    <tr>\n",
       "      <td>10</td>\n",
       "      <td>10</td>\n",
       "      <td>1000_10</td>\n",
       "      <td>385.14</td>\n",
       "      <td>2018-09-27</td>\n",
       "      <td>1000</td>\n",
       "      <td>9</td>\n",
       "    </tr>\n",
       "    <tr>\n",
       "      <td>11</td>\n",
       "      <td>11</td>\n",
       "      <td>1000_11</td>\n",
       "      <td>0.00</td>\n",
       "      <td>2018-08-28</td>\n",
       "      <td>1000</td>\n",
       "      <td>8</td>\n",
       "    </tr>\n",
       "    <tr>\n",
       "      <td>12</td>\n",
       "      <td>12</td>\n",
       "      <td>1000_12</td>\n",
       "      <td>375.87</td>\n",
       "      <td>2018-06-20</td>\n",
       "      <td>1000</td>\n",
       "      <td>6</td>\n",
       "    </tr>\n",
       "    <tr>\n",
       "      <td>13</td>\n",
       "      <td>13</td>\n",
       "      <td>1000_13</td>\n",
       "      <td>393.83</td>\n",
       "      <td>2018-08-09</td>\n",
       "      <td>1000</td>\n",
       "      <td>8</td>\n",
       "    </tr>\n",
       "    <tr>\n",
       "      <td>14</td>\n",
       "      <td>14</td>\n",
       "      <td>1000_14</td>\n",
       "      <td>180.64</td>\n",
       "      <td>2018-08-11</td>\n",
       "      <td>1000</td>\n",
       "      <td>8</td>\n",
       "    </tr>\n",
       "  </tbody>\n",
       "</table>\n",
       "</div>"
      ],
      "text/plain": [
       "    Unnamed: 0       id  mb_used session_date  user_id  month\n",
       "0            0   1000_0   112.95   2018-11-25     1000     11\n",
       "1            1   1000_1  1052.81   2018-09-07     1000      9\n",
       "2            2   1000_2  1197.26   2018-06-25     1000      6\n",
       "3            3   1000_3   550.27   2018-08-22     1000      8\n",
       "4            4   1000_4   302.56   2018-09-24     1000      9\n",
       "5            5   1000_5   399.97   2018-10-02     1000     10\n",
       "6            6   1000_6   540.08   2018-09-07     1000      9\n",
       "7            7   1000_7   415.70   2018-07-11     1000      7\n",
       "8            8   1000_8   505.40   2018-10-08     1000     10\n",
       "9            9   1000_9   345.54   2018-09-03     1000      9\n",
       "10          10  1000_10   385.14   2018-09-27     1000      9\n",
       "11          11  1000_11     0.00   2018-08-28     1000      8\n",
       "12          12  1000_12   375.87   2018-06-20     1000      6\n",
       "13          13  1000_13   393.83   2018-08-09     1000      8\n",
       "14          14  1000_14   180.64   2018-08-11     1000      8"
      ]
     },
     "execution_count": 9,
     "metadata": {},
     "output_type": "execute_result"
    }
   ],
   "source": [
    "#приведем даты к соотвествующему типу данных\n",
    "internet['session_date'] = pd.to_datetime(internet['session_date'], format='%Y-%m-%d')\n",
    "\n",
    "#создадим доп столбец с месяцем\n",
    "internet['month'] = pd.DatetimeIndex(internet['session_date']).month\n",
    "internet.head(15)"
   ]
  },
  {
   "cell_type": "code",
   "execution_count": 10,
   "metadata": {},
   "outputs": [
    {
     "data": {
      "text/html": [
       "<div>\n",
       "<style scoped>\n",
       "    .dataframe tbody tr th:only-of-type {\n",
       "        vertical-align: middle;\n",
       "    }\n",
       "\n",
       "    .dataframe tbody tr th {\n",
       "        vertical-align: top;\n",
       "    }\n",
       "\n",
       "    .dataframe thead th {\n",
       "        text-align: right;\n",
       "    }\n",
       "</style>\n",
       "<table border=\"1\" class=\"dataframe\">\n",
       "  <thead>\n",
       "    <tr style=\"text-align: right;\">\n",
       "      <th></th>\n",
       "      <th>id</th>\n",
       "      <th>message_date</th>\n",
       "      <th>user_id</th>\n",
       "      <th>month</th>\n",
       "    </tr>\n",
       "  </thead>\n",
       "  <tbody>\n",
       "    <tr>\n",
       "      <td>0</td>\n",
       "      <td>1000_0</td>\n",
       "      <td>2018-06-27</td>\n",
       "      <td>1000</td>\n",
       "      <td>6</td>\n",
       "    </tr>\n",
       "    <tr>\n",
       "      <td>1</td>\n",
       "      <td>1000_1</td>\n",
       "      <td>2018-10-08</td>\n",
       "      <td>1000</td>\n",
       "      <td>10</td>\n",
       "    </tr>\n",
       "    <tr>\n",
       "      <td>2</td>\n",
       "      <td>1000_2</td>\n",
       "      <td>2018-08-04</td>\n",
       "      <td>1000</td>\n",
       "      <td>8</td>\n",
       "    </tr>\n",
       "    <tr>\n",
       "      <td>3</td>\n",
       "      <td>1000_3</td>\n",
       "      <td>2018-06-16</td>\n",
       "      <td>1000</td>\n",
       "      <td>6</td>\n",
       "    </tr>\n",
       "    <tr>\n",
       "      <td>4</td>\n",
       "      <td>1000_4</td>\n",
       "      <td>2018-12-05</td>\n",
       "      <td>1000</td>\n",
       "      <td>12</td>\n",
       "    </tr>\n",
       "    <tr>\n",
       "      <td>5</td>\n",
       "      <td>1000_5</td>\n",
       "      <td>2018-06-20</td>\n",
       "      <td>1000</td>\n",
       "      <td>6</td>\n",
       "    </tr>\n",
       "    <tr>\n",
       "      <td>6</td>\n",
       "      <td>1000_6</td>\n",
       "      <td>2018-11-19</td>\n",
       "      <td>1000</td>\n",
       "      <td>11</td>\n",
       "    </tr>\n",
       "    <tr>\n",
       "      <td>7</td>\n",
       "      <td>1000_7</td>\n",
       "      <td>2018-10-29</td>\n",
       "      <td>1000</td>\n",
       "      <td>10</td>\n",
       "    </tr>\n",
       "    <tr>\n",
       "      <td>8</td>\n",
       "      <td>1000_8</td>\n",
       "      <td>2018-06-25</td>\n",
       "      <td>1000</td>\n",
       "      <td>6</td>\n",
       "    </tr>\n",
       "    <tr>\n",
       "      <td>9</td>\n",
       "      <td>1000_9</td>\n",
       "      <td>2018-12-18</td>\n",
       "      <td>1000</td>\n",
       "      <td>12</td>\n",
       "    </tr>\n",
       "  </tbody>\n",
       "</table>\n",
       "</div>"
      ],
      "text/plain": [
       "       id message_date  user_id  month\n",
       "0  1000_0   2018-06-27     1000      6\n",
       "1  1000_1   2018-10-08     1000     10\n",
       "2  1000_2   2018-08-04     1000      8\n",
       "3  1000_3   2018-06-16     1000      6\n",
       "4  1000_4   2018-12-05     1000     12\n",
       "5  1000_5   2018-06-20     1000      6\n",
       "6  1000_6   2018-11-19     1000     11\n",
       "7  1000_7   2018-10-29     1000     10\n",
       "8  1000_8   2018-06-25     1000      6\n",
       "9  1000_9   2018-12-18     1000     12"
      ]
     },
     "execution_count": 10,
     "metadata": {},
     "output_type": "execute_result"
    }
   ],
   "source": [
    "#изменим тип данных в user_id - приведём его к int\n",
    "messeges['user_id'] = messeges['user_id'].astype('int')\n",
    "\n",
    "#приведем даты к соотвествующему типу данных\n",
    "messeges['message_date'] = pd.to_datetime(messeges['message_date'], format='%Y-%m-%d')\n",
    "\n",
    "#создадим доп столбец с месяцем\n",
    "messeges['month'] = pd.DatetimeIndex(messeges['message_date']).month\n",
    "messeges.head(10)"
   ]
  },
  {
   "cell_type": "code",
   "execution_count": 11,
   "metadata": {},
   "outputs": [],
   "source": [
    "#приведем даты в столбцах churn_date и reg_date к соответствующим форматам\n",
    "users['reg_date'] = pd.to_datetime(users['reg_date'], format='%Y-%m-%d')\n",
    "users['churn_date'] = pd.to_datetime(users['churn_date'], format='%Y-%m-%d')\n",
    "\n"
   ]
  },
  {
   "cell_type": "code",
   "execution_count": 12,
   "metadata": {
    "scrolled": true
   },
   "outputs": [
    {
     "data": {
      "text/html": [
       "<div>\n",
       "<style scoped>\n",
       "    .dataframe tbody tr th:only-of-type {\n",
       "        vertical-align: middle;\n",
       "    }\n",
       "\n",
       "    .dataframe tbody tr th {\n",
       "        vertical-align: top;\n",
       "    }\n",
       "\n",
       "    .dataframe thead th {\n",
       "        text-align: right;\n",
       "    }\n",
       "</style>\n",
       "<table border=\"1\" class=\"dataframe\">\n",
       "  <thead>\n",
       "    <tr style=\"text-align: right;\">\n",
       "      <th></th>\n",
       "      <th>user_id</th>\n",
       "      <th>age</th>\n",
       "      <th>churn_date</th>\n",
       "      <th>city</th>\n",
       "      <th>first_name</th>\n",
       "      <th>last_name</th>\n",
       "      <th>reg_date</th>\n",
       "      <th>tariff</th>\n",
       "      <th>messages_included</th>\n",
       "      <th>mb_per_month_included</th>\n",
       "      <th>minutes_included</th>\n",
       "      <th>rub_monthly_fee</th>\n",
       "      <th>rub_per_gb</th>\n",
       "      <th>rub_per_message</th>\n",
       "      <th>rub_per_minute</th>\n",
       "    </tr>\n",
       "  </thead>\n",
       "  <tbody>\n",
       "    <tr>\n",
       "      <td>0</td>\n",
       "      <td>1000</td>\n",
       "      <td>52</td>\n",
       "      <td>NaT</td>\n",
       "      <td>Краснодар</td>\n",
       "      <td>Рафаил</td>\n",
       "      <td>Верещагин</td>\n",
       "      <td>2018-05-25</td>\n",
       "      <td>ultra</td>\n",
       "      <td>1000</td>\n",
       "      <td>30720</td>\n",
       "      <td>3000</td>\n",
       "      <td>1950</td>\n",
       "      <td>150</td>\n",
       "      <td>1</td>\n",
       "      <td>1</td>\n",
       "    </tr>\n",
       "    <tr>\n",
       "      <td>1</td>\n",
       "      <td>1001</td>\n",
       "      <td>41</td>\n",
       "      <td>NaT</td>\n",
       "      <td>Москва</td>\n",
       "      <td>Иван</td>\n",
       "      <td>Ежов</td>\n",
       "      <td>2018-11-01</td>\n",
       "      <td>smart</td>\n",
       "      <td>50</td>\n",
       "      <td>15360</td>\n",
       "      <td>500</td>\n",
       "      <td>550</td>\n",
       "      <td>200</td>\n",
       "      <td>3</td>\n",
       "      <td>3</td>\n",
       "    </tr>\n",
       "    <tr>\n",
       "      <td>2</td>\n",
       "      <td>1002</td>\n",
       "      <td>59</td>\n",
       "      <td>NaT</td>\n",
       "      <td>Стерлитамак</td>\n",
       "      <td>Евгений</td>\n",
       "      <td>Абрамович</td>\n",
       "      <td>2018-06-17</td>\n",
       "      <td>smart</td>\n",
       "      <td>50</td>\n",
       "      <td>15360</td>\n",
       "      <td>500</td>\n",
       "      <td>550</td>\n",
       "      <td>200</td>\n",
       "      <td>3</td>\n",
       "      <td>3</td>\n",
       "    </tr>\n",
       "    <tr>\n",
       "      <td>3</td>\n",
       "      <td>1003</td>\n",
       "      <td>23</td>\n",
       "      <td>NaT</td>\n",
       "      <td>Москва</td>\n",
       "      <td>Белла</td>\n",
       "      <td>Белякова</td>\n",
       "      <td>2018-08-17</td>\n",
       "      <td>ultra</td>\n",
       "      <td>1000</td>\n",
       "      <td>30720</td>\n",
       "      <td>3000</td>\n",
       "      <td>1950</td>\n",
       "      <td>150</td>\n",
       "      <td>1</td>\n",
       "      <td>1</td>\n",
       "    </tr>\n",
       "    <tr>\n",
       "      <td>4</td>\n",
       "      <td>1004</td>\n",
       "      <td>68</td>\n",
       "      <td>NaT</td>\n",
       "      <td>Новокузнецк</td>\n",
       "      <td>Татьяна</td>\n",
       "      <td>Авдеенко</td>\n",
       "      <td>2018-05-14</td>\n",
       "      <td>ultra</td>\n",
       "      <td>1000</td>\n",
       "      <td>30720</td>\n",
       "      <td>3000</td>\n",
       "      <td>1950</td>\n",
       "      <td>150</td>\n",
       "      <td>1</td>\n",
       "      <td>1</td>\n",
       "    </tr>\n",
       "  </tbody>\n",
       "</table>\n",
       "</div>"
      ],
      "text/plain": [
       "   user_id  age churn_date         city first_name  last_name   reg_date  \\\n",
       "0     1000   52        NaT    Краснодар     Рафаил  Верещагин 2018-05-25   \n",
       "1     1001   41        NaT       Москва       Иван       Ежов 2018-11-01   \n",
       "2     1002   59        NaT  Стерлитамак    Евгений  Абрамович 2018-06-17   \n",
       "3     1003   23        NaT       Москва      Белла   Белякова 2018-08-17   \n",
       "4     1004   68        NaT  Новокузнецк    Татьяна   Авдеенко 2018-05-14   \n",
       "\n",
       "  tariff  messages_included  mb_per_month_included  minutes_included  \\\n",
       "0  ultra               1000                  30720              3000   \n",
       "1  smart                 50                  15360               500   \n",
       "2  smart                 50                  15360               500   \n",
       "3  ultra               1000                  30720              3000   \n",
       "4  ultra               1000                  30720              3000   \n",
       "\n",
       "   rub_monthly_fee  rub_per_gb  rub_per_message  rub_per_minute  \n",
       "0             1950         150                1               1  \n",
       "1              550         200                3               3  \n",
       "2              550         200                3               3  \n",
       "3             1950         150                1               1  \n",
       "4             1950         150                1               1  "
      ]
     },
     "execution_count": 12,
     "metadata": {},
     "output_type": "execute_result"
    }
   ],
   "source": [
    "#Склеили таблицу users и  tariffs и удалили задвоенный столбец с тарифами\n",
    "users_tariffs = users.merge(tariffs, left_on = 'tariff',right_on = 'tariff_name' ,how = 'left')\n",
    "users_tariffs.drop([\"tariff_name\"], axis = 1, inplace = True)\n",
    "users_tariffs.head(5)"
   ]
  },
  {
   "cell_type": "code",
   "execution_count": 13,
   "metadata": {},
   "outputs": [
    {
     "data": {
      "text/html": [
       "<div>\n",
       "<style scoped>\n",
       "    .dataframe tbody tr th:only-of-type {\n",
       "        vertical-align: middle;\n",
       "    }\n",
       "\n",
       "    .dataframe tbody tr th {\n",
       "        vertical-align: top;\n",
       "    }\n",
       "\n",
       "    .dataframe thead th {\n",
       "        text-align: right;\n",
       "    }\n",
       "</style>\n",
       "<table border=\"1\" class=\"dataframe\">\n",
       "  <thead>\n",
       "    <tr style=\"text-align: right;\">\n",
       "      <th></th>\n",
       "      <th>user_id</th>\n",
       "      <th>month</th>\n",
       "      <th>min_sum</th>\n",
       "      <th>calls_count</th>\n",
       "    </tr>\n",
       "  </thead>\n",
       "  <tbody>\n",
       "    <tr>\n",
       "      <td>0</td>\n",
       "      <td>1000</td>\n",
       "      <td>5</td>\n",
       "      <td>159.0</td>\n",
       "      <td>22</td>\n",
       "    </tr>\n",
       "    <tr>\n",
       "      <td>1</td>\n",
       "      <td>1000</td>\n",
       "      <td>6</td>\n",
       "      <td>172.0</td>\n",
       "      <td>43</td>\n",
       "    </tr>\n",
       "    <tr>\n",
       "      <td>2</td>\n",
       "      <td>1000</td>\n",
       "      <td>7</td>\n",
       "      <td>340.0</td>\n",
       "      <td>47</td>\n",
       "    </tr>\n",
       "    <tr>\n",
       "      <td>3</td>\n",
       "      <td>1000</td>\n",
       "      <td>8</td>\n",
       "      <td>408.0</td>\n",
       "      <td>52</td>\n",
       "    </tr>\n",
       "    <tr>\n",
       "      <td>4</td>\n",
       "      <td>1000</td>\n",
       "      <td>9</td>\n",
       "      <td>466.0</td>\n",
       "      <td>58</td>\n",
       "    </tr>\n",
       "    <tr>\n",
       "      <td>5</td>\n",
       "      <td>1000</td>\n",
       "      <td>10</td>\n",
       "      <td>350.0</td>\n",
       "      <td>57</td>\n",
       "    </tr>\n",
       "    <tr>\n",
       "      <td>6</td>\n",
       "      <td>1000</td>\n",
       "      <td>11</td>\n",
       "      <td>338.0</td>\n",
       "      <td>43</td>\n",
       "    </tr>\n",
       "    <tr>\n",
       "      <td>7</td>\n",
       "      <td>1000</td>\n",
       "      <td>12</td>\n",
       "      <td>333.0</td>\n",
       "      <td>46</td>\n",
       "    </tr>\n",
       "    <tr>\n",
       "      <td>8</td>\n",
       "      <td>1001</td>\n",
       "      <td>11</td>\n",
       "      <td>430.0</td>\n",
       "      <td>59</td>\n",
       "    </tr>\n",
       "    <tr>\n",
       "      <td>9</td>\n",
       "      <td>1001</td>\n",
       "      <td>12</td>\n",
       "      <td>414.0</td>\n",
       "      <td>63</td>\n",
       "    </tr>\n",
       "  </tbody>\n",
       "</table>\n",
       "</div>"
      ],
      "text/plain": [
       "   user_id  month  min_sum  calls_count\n",
       "0     1000      5    159.0           22\n",
       "1     1000      6    172.0           43\n",
       "2     1000      7    340.0           47\n",
       "3     1000      8    408.0           52\n",
       "4     1000      9    466.0           58\n",
       "5     1000     10    350.0           57\n",
       "6     1000     11    338.0           43\n",
       "7     1000     12    333.0           46\n",
       "8     1001     11    430.0           59\n",
       "9     1001     12    414.0           63"
      ]
     },
     "execution_count": 13,
     "metadata": {},
     "output_type": "execute_result"
    }
   ],
   "source": [
    "#количество сделанных звонков и израсходованных минут разговора по месяцам\n",
    "calls_month = calls.groupby(['user_id', 'month']).agg({'duration' : 'sum','id':'count'}).reset_index().query('month != 0')\n",
    "calls_month.rename(columns = {'duration': 'min_sum', 'id': 'calls_count'}, inplace=True)\n",
    "calls_month.head(10)\n",
    "\n"
   ]
  },
  {
   "cell_type": "code",
   "execution_count": 14,
   "metadata": {},
   "outputs": [
    {
     "data": {
      "text/html": [
       "<div>\n",
       "<style scoped>\n",
       "    .dataframe tbody tr th:only-of-type {\n",
       "        vertical-align: middle;\n",
       "    }\n",
       "\n",
       "    .dataframe tbody tr th {\n",
       "        vertical-align: top;\n",
       "    }\n",
       "\n",
       "    .dataframe thead th {\n",
       "        text-align: right;\n",
       "    }\n",
       "</style>\n",
       "<table border=\"1\" class=\"dataframe\">\n",
       "  <thead>\n",
       "    <tr style=\"text-align: right;\">\n",
       "      <th></th>\n",
       "      <th>user_id</th>\n",
       "      <th>month</th>\n",
       "      <th>messeges_count</th>\n",
       "    </tr>\n",
       "  </thead>\n",
       "  <tbody>\n",
       "    <tr>\n",
       "      <td>0</td>\n",
       "      <td>1000</td>\n",
       "      <td>5</td>\n",
       "      <td>22</td>\n",
       "    </tr>\n",
       "    <tr>\n",
       "      <td>1</td>\n",
       "      <td>1000</td>\n",
       "      <td>6</td>\n",
       "      <td>60</td>\n",
       "    </tr>\n",
       "    <tr>\n",
       "      <td>2</td>\n",
       "      <td>1000</td>\n",
       "      <td>7</td>\n",
       "      <td>75</td>\n",
       "    </tr>\n",
       "    <tr>\n",
       "      <td>3</td>\n",
       "      <td>1000</td>\n",
       "      <td>8</td>\n",
       "      <td>81</td>\n",
       "    </tr>\n",
       "    <tr>\n",
       "      <td>4</td>\n",
       "      <td>1000</td>\n",
       "      <td>9</td>\n",
       "      <td>57</td>\n",
       "    </tr>\n",
       "    <tr>\n",
       "      <td>5</td>\n",
       "      <td>1000</td>\n",
       "      <td>10</td>\n",
       "      <td>73</td>\n",
       "    </tr>\n",
       "    <tr>\n",
       "      <td>6</td>\n",
       "      <td>1000</td>\n",
       "      <td>11</td>\n",
       "      <td>58</td>\n",
       "    </tr>\n",
       "    <tr>\n",
       "      <td>7</td>\n",
       "      <td>1000</td>\n",
       "      <td>12</td>\n",
       "      <td>70</td>\n",
       "    </tr>\n",
       "    <tr>\n",
       "      <td>8</td>\n",
       "      <td>1002</td>\n",
       "      <td>6</td>\n",
       "      <td>4</td>\n",
       "    </tr>\n",
       "    <tr>\n",
       "      <td>9</td>\n",
       "      <td>1002</td>\n",
       "      <td>7</td>\n",
       "      <td>11</td>\n",
       "    </tr>\n",
       "  </tbody>\n",
       "</table>\n",
       "</div>"
      ],
      "text/plain": [
       "   user_id  month  messeges_count\n",
       "0     1000      5              22\n",
       "1     1000      6              60\n",
       "2     1000      7              75\n",
       "3     1000      8              81\n",
       "4     1000      9              57\n",
       "5     1000     10              73\n",
       "6     1000     11              58\n",
       "7     1000     12              70\n",
       "8     1002      6               4\n",
       "9     1002      7              11"
      ]
     },
     "execution_count": 14,
     "metadata": {},
     "output_type": "execute_result"
    }
   ],
   "source": [
    "#количество отправленных сообщений по месяцам;\n",
    "messeges_month = messeges.groupby(['user_id','month']).agg({'id':'count'}).reset_index()\n",
    "messeges_month.rename(columns = {'id': 'messeges_count'}, inplace=True)\n",
    "messeges_month.head(10)"
   ]
  },
  {
   "cell_type": "code",
   "execution_count": 15,
   "metadata": {},
   "outputs": [
    {
     "data": {
      "text/html": [
       "<div>\n",
       "<style scoped>\n",
       "    .dataframe tbody tr th:only-of-type {\n",
       "        vertical-align: middle;\n",
       "    }\n",
       "\n",
       "    .dataframe tbody tr th {\n",
       "        vertical-align: top;\n",
       "    }\n",
       "\n",
       "    .dataframe thead th {\n",
       "        text-align: right;\n",
       "    }\n",
       "</style>\n",
       "<table border=\"1\" class=\"dataframe\">\n",
       "  <thead>\n",
       "    <tr style=\"text-align: right;\">\n",
       "      <th></th>\n",
       "      <th>user_id</th>\n",
       "      <th>month</th>\n",
       "      <th>mb_used</th>\n",
       "    </tr>\n",
       "  </thead>\n",
       "  <tbody>\n",
       "    <tr>\n",
       "      <td>0</td>\n",
       "      <td>1000</td>\n",
       "      <td>5</td>\n",
       "      <td>2253.49</td>\n",
       "    </tr>\n",
       "    <tr>\n",
       "      <td>1</td>\n",
       "      <td>1000</td>\n",
       "      <td>6</td>\n",
       "      <td>23233.77</td>\n",
       "    </tr>\n",
       "    <tr>\n",
       "      <td>2</td>\n",
       "      <td>1000</td>\n",
       "      <td>7</td>\n",
       "      <td>14003.64</td>\n",
       "    </tr>\n",
       "    <tr>\n",
       "      <td>3</td>\n",
       "      <td>1000</td>\n",
       "      <td>8</td>\n",
       "      <td>14055.93</td>\n",
       "    </tr>\n",
       "    <tr>\n",
       "      <td>4</td>\n",
       "      <td>1000</td>\n",
       "      <td>9</td>\n",
       "      <td>14568.91</td>\n",
       "    </tr>\n",
       "    <tr>\n",
       "      <td>5</td>\n",
       "      <td>1000</td>\n",
       "      <td>10</td>\n",
       "      <td>14702.49</td>\n",
       "    </tr>\n",
       "    <tr>\n",
       "      <td>6</td>\n",
       "      <td>1000</td>\n",
       "      <td>11</td>\n",
       "      <td>14756.47</td>\n",
       "    </tr>\n",
       "    <tr>\n",
       "      <td>7</td>\n",
       "      <td>1000</td>\n",
       "      <td>12</td>\n",
       "      <td>9817.61</td>\n",
       "    </tr>\n",
       "    <tr>\n",
       "      <td>8</td>\n",
       "      <td>1001</td>\n",
       "      <td>11</td>\n",
       "      <td>18429.34</td>\n",
       "    </tr>\n",
       "    <tr>\n",
       "      <td>9</td>\n",
       "      <td>1001</td>\n",
       "      <td>12</td>\n",
       "      <td>14036.66</td>\n",
       "    </tr>\n",
       "  </tbody>\n",
       "</table>\n",
       "</div>"
      ],
      "text/plain": [
       "   user_id  month   mb_used\n",
       "0     1000      5   2253.49\n",
       "1     1000      6  23233.77\n",
       "2     1000      7  14003.64\n",
       "3     1000      8  14055.93\n",
       "4     1000      9  14568.91\n",
       "5     1000     10  14702.49\n",
       "6     1000     11  14756.47\n",
       "7     1000     12   9817.61\n",
       "8     1001     11  18429.34\n",
       "9     1001     12  14036.66"
      ]
     },
     "execution_count": 15,
     "metadata": {},
     "output_type": "execute_result"
    }
   ],
   "source": [
    "#объем израсходованного интернет-трафика по месяцам\n",
    "\n",
    "internet_month = internet.groupby(['user_id','month']).agg({'mb_used':'sum'}).reset_index()\n",
    "internet_month.head(10)"
   ]
  },
  {
   "cell_type": "code",
   "execution_count": 16,
   "metadata": {},
   "outputs": [],
   "source": [
    "#Помесячная выручка\n",
    "# Объеденим звонки минуты гигобайты каждого пользователя, и добавим тарифный план\n",
    "total_users = calls_month.merge(messeges_month,  on=['user_id', 'month'], how='outer')\n",
    "total_users = total_users.merge(internet_month,  on=['user_id', 'month'], how='outer')\n",
    "total_users = total_users.reset_index(drop=False)\n",
    "total_users = total_users.merge(users[['user_id', 'tariff','city']], on='user_id', how='left')"
   ]
  },
  {
   "cell_type": "code",
   "execution_count": 17,
   "metadata": {},
   "outputs": [
    {
     "data": {
      "text/html": [
       "<div>\n",
       "<style scoped>\n",
       "    .dataframe tbody tr th:only-of-type {\n",
       "        vertical-align: middle;\n",
       "    }\n",
       "\n",
       "    .dataframe tbody tr th {\n",
       "        vertical-align: top;\n",
       "    }\n",
       "\n",
       "    .dataframe thead th {\n",
       "        text-align: right;\n",
       "    }\n",
       "</style>\n",
       "<table border=\"1\" class=\"dataframe\">\n",
       "  <thead>\n",
       "    <tr style=\"text-align: right;\">\n",
       "      <th></th>\n",
       "      <th>index</th>\n",
       "      <th>user_id</th>\n",
       "      <th>month</th>\n",
       "      <th>min_sum</th>\n",
       "      <th>calls_count</th>\n",
       "      <th>messeges_count</th>\n",
       "      <th>mb_used</th>\n",
       "      <th>tariff</th>\n",
       "      <th>city</th>\n",
       "    </tr>\n",
       "  </thead>\n",
       "  <tbody>\n",
       "    <tr>\n",
       "      <td>0</td>\n",
       "      <td>0</td>\n",
       "      <td>1000</td>\n",
       "      <td>5</td>\n",
       "      <td>159.0</td>\n",
       "      <td>22.0</td>\n",
       "      <td>22.0</td>\n",
       "      <td>2253.49</td>\n",
       "      <td>ultra</td>\n",
       "      <td>Краснодар</td>\n",
       "    </tr>\n",
       "    <tr>\n",
       "      <td>1</td>\n",
       "      <td>1</td>\n",
       "      <td>1000</td>\n",
       "      <td>6</td>\n",
       "      <td>172.0</td>\n",
       "      <td>43.0</td>\n",
       "      <td>60.0</td>\n",
       "      <td>23233.77</td>\n",
       "      <td>ultra</td>\n",
       "      <td>Краснодар</td>\n",
       "    </tr>\n",
       "    <tr>\n",
       "      <td>2</td>\n",
       "      <td>2</td>\n",
       "      <td>1000</td>\n",
       "      <td>7</td>\n",
       "      <td>340.0</td>\n",
       "      <td>47.0</td>\n",
       "      <td>75.0</td>\n",
       "      <td>14003.64</td>\n",
       "      <td>ultra</td>\n",
       "      <td>Краснодар</td>\n",
       "    </tr>\n",
       "    <tr>\n",
       "      <td>3</td>\n",
       "      <td>3</td>\n",
       "      <td>1000</td>\n",
       "      <td>8</td>\n",
       "      <td>408.0</td>\n",
       "      <td>52.0</td>\n",
       "      <td>81.0</td>\n",
       "      <td>14055.93</td>\n",
       "      <td>ultra</td>\n",
       "      <td>Краснодар</td>\n",
       "    </tr>\n",
       "    <tr>\n",
       "      <td>4</td>\n",
       "      <td>4</td>\n",
       "      <td>1000</td>\n",
       "      <td>9</td>\n",
       "      <td>466.0</td>\n",
       "      <td>58.0</td>\n",
       "      <td>57.0</td>\n",
       "      <td>14568.91</td>\n",
       "      <td>ultra</td>\n",
       "      <td>Краснодар</td>\n",
       "    </tr>\n",
       "  </tbody>\n",
       "</table>\n",
       "</div>"
      ],
      "text/plain": [
       "   index  user_id  month  min_sum  calls_count  messeges_count   mb_used  \\\n",
       "0      0     1000      5    159.0         22.0            22.0   2253.49   \n",
       "1      1     1000      6    172.0         43.0            60.0  23233.77   \n",
       "2      2     1000      7    340.0         47.0            75.0  14003.64   \n",
       "3      3     1000      8    408.0         52.0            81.0  14055.93   \n",
       "4      4     1000      9    466.0         58.0            57.0  14568.91   \n",
       "\n",
       "  tariff       city  \n",
       "0  ultra  Краснодар  \n",
       "1  ultra  Краснодар  \n",
       "2  ultra  Краснодар  \n",
       "3  ultra  Краснодар  \n",
       "4  ultra  Краснодар  "
      ]
     },
     "execution_count": 17,
     "metadata": {},
     "output_type": "execute_result"
    }
   ],
   "source": [
    "# Заменю пропущенные значения на нули\n",
    "total_users.loc[total_users['min_sum'].isna(), 'min_sum'] = 0\n",
    "total_users.loc[total_users['calls_count'].isna(), 'calls_count'] = 0\n",
    "total_users.loc[total_users['messeges_count'].isna(), 'messeges_count'] = 0\n",
    "total_users.loc[total_users['mb_used'].isna(), 'mb_used'] = 0\n",
    "total_users.head(5)"
   ]
  },
  {
   "cell_type": "markdown",
   "metadata": {},
   "source": [
    "Вычтите бесплатный лимит из суммарного количества звонков, сообщений и интернет-трафика; остаток умножьте на значение из тарифного плана; прибавьте абонентскую плату, соответствующую тарифноve плану\n"
   ]
  },
  {
   "cell_type": "code",
   "execution_count": 18,
   "metadata": {},
   "outputs": [],
   "source": [
    "\n",
    "def revenue_calc(row):\n",
    "    duration = row['min_sum']\n",
    "    calls = row['calls_count']\n",
    "    num_messages = row['messeges_count']\n",
    "    mb = row['mb_used']\n",
    "    tariff = row['tariff']\n",
    "    \n",
    "    if tariff == 'smart':\n",
    "        over_duration = duration - tariffs.loc[0, 'minutes_included']\n",
    "        over_mb = mb - tariffs.loc[0, 'mb_per_month_included']\n",
    "        over_messages = num_messages - tariffs.loc[0, 'messages_included']\n",
    "        \n",
    "        if over_duration < 0:\n",
    "            over_duration = 0\n",
    "        if over_mb < 0:\n",
    "            over_mb = 0\n",
    "        if over_messages < 0:\n",
    "            over_messages = 0\n",
    "        \n",
    "        return (tariffs.loc[0, 'rub_per_message'] * over_messages + \n",
    "                   tariffs.loc[0, 'rub_per_gb'] * ((over_mb - 1)//1024+1) + \n",
    "                   tariffs.loc[0, 'rub_per_minute'] * over_duration + \n",
    "                   tariffs.loc[0, 'rub_monthly_fee']\n",
    "                  ) \n",
    "    else:\n",
    "        over_duration = duration - tariffs.loc[1, 'minutes_included']\n",
    "        over_mb = mb - tariffs.loc[1, 'mb_per_month_included']\n",
    "        over_messages = num_messages - tariffs.loc[1, 'messages_included']\n",
    "        \n",
    "        if over_duration < 0:\n",
    "            over_duration = 0\n",
    "        if over_mb < 0:\n",
    "            over_mb = 0\n",
    "        if over_messages < 0:\n",
    "            over_messages = 0\n",
    "        \n",
    "        return (tariffs.loc[1, 'rub_per_message'] * over_messages + \n",
    "                   tariffs.loc[1, 'rub_per_gb'] * ((over_mb - 1)//1024+1) + \n",
    "                   tariffs.loc[1, 'rub_per_minute'] * over_duration + \n",
    "                   tariffs.loc[1, 'rub_monthly_fee']\n",
    "                  )"
   ]
  },
  {
   "cell_type": "code",
   "execution_count": 19,
   "metadata": {},
   "outputs": [
    {
     "data": {
      "text/html": [
       "<div>\n",
       "<style scoped>\n",
       "    .dataframe tbody tr th:only-of-type {\n",
       "        vertical-align: middle;\n",
       "    }\n",
       "\n",
       "    .dataframe tbody tr th {\n",
       "        vertical-align: top;\n",
       "    }\n",
       "\n",
       "    .dataframe thead th {\n",
       "        text-align: right;\n",
       "    }\n",
       "</style>\n",
       "<table border=\"1\" class=\"dataframe\">\n",
       "  <thead>\n",
       "    <tr style=\"text-align: right;\">\n",
       "      <th></th>\n",
       "      <th>index</th>\n",
       "      <th>user_id</th>\n",
       "      <th>month</th>\n",
       "      <th>min_sum</th>\n",
       "      <th>calls_count</th>\n",
       "      <th>messeges_count</th>\n",
       "      <th>mb_used</th>\n",
       "      <th>tariff</th>\n",
       "      <th>city</th>\n",
       "      <th>revenue</th>\n",
       "    </tr>\n",
       "  </thead>\n",
       "  <tbody>\n",
       "    <tr>\n",
       "      <td>0</td>\n",
       "      <td>0</td>\n",
       "      <td>1000</td>\n",
       "      <td>5</td>\n",
       "      <td>159.0</td>\n",
       "      <td>22.0</td>\n",
       "      <td>22.0</td>\n",
       "      <td>2253.49</td>\n",
       "      <td>ultra</td>\n",
       "      <td>Краснодар</td>\n",
       "      <td>1950.0</td>\n",
       "    </tr>\n",
       "    <tr>\n",
       "      <td>1</td>\n",
       "      <td>1</td>\n",
       "      <td>1000</td>\n",
       "      <td>6</td>\n",
       "      <td>172.0</td>\n",
       "      <td>43.0</td>\n",
       "      <td>60.0</td>\n",
       "      <td>23233.77</td>\n",
       "      <td>ultra</td>\n",
       "      <td>Краснодар</td>\n",
       "      <td>1950.0</td>\n",
       "    </tr>\n",
       "    <tr>\n",
       "      <td>2</td>\n",
       "      <td>2</td>\n",
       "      <td>1000</td>\n",
       "      <td>7</td>\n",
       "      <td>340.0</td>\n",
       "      <td>47.0</td>\n",
       "      <td>75.0</td>\n",
       "      <td>14003.64</td>\n",
       "      <td>ultra</td>\n",
       "      <td>Краснодар</td>\n",
       "      <td>1950.0</td>\n",
       "    </tr>\n",
       "    <tr>\n",
       "      <td>3</td>\n",
       "      <td>3</td>\n",
       "      <td>1000</td>\n",
       "      <td>8</td>\n",
       "      <td>408.0</td>\n",
       "      <td>52.0</td>\n",
       "      <td>81.0</td>\n",
       "      <td>14055.93</td>\n",
       "      <td>ultra</td>\n",
       "      <td>Краснодар</td>\n",
       "      <td>1950.0</td>\n",
       "    </tr>\n",
       "    <tr>\n",
       "      <td>4</td>\n",
       "      <td>4</td>\n",
       "      <td>1000</td>\n",
       "      <td>9</td>\n",
       "      <td>466.0</td>\n",
       "      <td>58.0</td>\n",
       "      <td>57.0</td>\n",
       "      <td>14568.91</td>\n",
       "      <td>ultra</td>\n",
       "      <td>Краснодар</td>\n",
       "      <td>1950.0</td>\n",
       "    </tr>\n",
       "  </tbody>\n",
       "</table>\n",
       "</div>"
      ],
      "text/plain": [
       "   index  user_id  month  min_sum  calls_count  messeges_count   mb_used  \\\n",
       "0      0     1000      5    159.0         22.0            22.0   2253.49   \n",
       "1      1     1000      6    172.0         43.0            60.0  23233.77   \n",
       "2      2     1000      7    340.0         47.0            75.0  14003.64   \n",
       "3      3     1000      8    408.0         52.0            81.0  14055.93   \n",
       "4      4     1000      9    466.0         58.0            57.0  14568.91   \n",
       "\n",
       "  tariff       city  revenue  \n",
       "0  ultra  Краснодар   1950.0  \n",
       "1  ultra  Краснодар   1950.0  \n",
       "2  ultra  Краснодар   1950.0  \n",
       "3  ultra  Краснодар   1950.0  \n",
       "4  ultra  Краснодар   1950.0  "
      ]
     },
     "execution_count": 19,
     "metadata": {},
     "output_type": "execute_result"
    }
   ],
   "source": [
    "total_users['revenue'] = total_users.apply(revenue_calc, axis=1)\n",
    "total_users.head(5)"
   ]
  },
  {
   "cell_type": "code",
   "execution_count": 20,
   "metadata": {},
   "outputs": [],
   "source": [
    "#создадим две таблицы по тарифам\n",
    "smart = total_users.query('tariff == \"smart\"')\n",
    "ultra= total_users.query('tariff == \"ultra\"')"
   ]
  },
  {
   "cell_type": "code",
   "execution_count": 21,
   "metadata": {},
   "outputs": [
    {
     "data": {
      "text/html": [
       "<div>\n",
       "<style scoped>\n",
       "    .dataframe tbody tr th:only-of-type {\n",
       "        vertical-align: middle;\n",
       "    }\n",
       "\n",
       "    .dataframe tbody tr th {\n",
       "        vertical-align: top;\n",
       "    }\n",
       "\n",
       "    .dataframe thead th {\n",
       "        text-align: right;\n",
       "    }\n",
       "</style>\n",
       "<table border=\"1\" class=\"dataframe\">\n",
       "  <thead>\n",
       "    <tr style=\"text-align: right;\">\n",
       "      <th></th>\n",
       "      <th>index</th>\n",
       "      <th>user_id</th>\n",
       "      <th>month</th>\n",
       "      <th>min_sum</th>\n",
       "      <th>calls_count</th>\n",
       "      <th>messeges_count</th>\n",
       "      <th>mb_used</th>\n",
       "      <th>tariff</th>\n",
       "      <th>city</th>\n",
       "      <th>revenue</th>\n",
       "    </tr>\n",
       "  </thead>\n",
       "  <tbody>\n",
       "    <tr>\n",
       "      <td>8</td>\n",
       "      <td>8</td>\n",
       "      <td>1001</td>\n",
       "      <td>11</td>\n",
       "      <td>430.0</td>\n",
       "      <td>59.0</td>\n",
       "      <td>0.0</td>\n",
       "      <td>18429.34</td>\n",
       "      <td>smart</td>\n",
       "      <td>Москва</td>\n",
       "      <td>1150.0</td>\n",
       "    </tr>\n",
       "    <tr>\n",
       "      <td>9</td>\n",
       "      <td>9</td>\n",
       "      <td>1001</td>\n",
       "      <td>12</td>\n",
       "      <td>414.0</td>\n",
       "      <td>63.0</td>\n",
       "      <td>0.0</td>\n",
       "      <td>14036.66</td>\n",
       "      <td>smart</td>\n",
       "      <td>Москва</td>\n",
       "      <td>550.0</td>\n",
       "    </tr>\n",
       "    <tr>\n",
       "      <td>10</td>\n",
       "      <td>10</td>\n",
       "      <td>1002</td>\n",
       "      <td>6</td>\n",
       "      <td>117.0</td>\n",
       "      <td>15.0</td>\n",
       "      <td>4.0</td>\n",
       "      <td>10856.82</td>\n",
       "      <td>smart</td>\n",
       "      <td>Стерлитамак</td>\n",
       "      <td>550.0</td>\n",
       "    </tr>\n",
       "    <tr>\n",
       "      <td>11</td>\n",
       "      <td>11</td>\n",
       "      <td>1002</td>\n",
       "      <td>7</td>\n",
       "      <td>214.0</td>\n",
       "      <td>26.0</td>\n",
       "      <td>11.0</td>\n",
       "      <td>17580.10</td>\n",
       "      <td>smart</td>\n",
       "      <td>Стерлитамак</td>\n",
       "      <td>1150.0</td>\n",
       "    </tr>\n",
       "    <tr>\n",
       "      <td>12</td>\n",
       "      <td>12</td>\n",
       "      <td>1002</td>\n",
       "      <td>8</td>\n",
       "      <td>289.0</td>\n",
       "      <td>42.0</td>\n",
       "      <td>13.0</td>\n",
       "      <td>20319.26</td>\n",
       "      <td>smart</td>\n",
       "      <td>Стерлитамак</td>\n",
       "      <td>1550.0</td>\n",
       "    </tr>\n",
       "    <tr>\n",
       "      <td>13</td>\n",
       "      <td>13</td>\n",
       "      <td>1002</td>\n",
       "      <td>9</td>\n",
       "      <td>206.0</td>\n",
       "      <td>36.0</td>\n",
       "      <td>4.0</td>\n",
       "      <td>16691.08</td>\n",
       "      <td>smart</td>\n",
       "      <td>Стерлитамак</td>\n",
       "      <td>950.0</td>\n",
       "    </tr>\n",
       "    <tr>\n",
       "      <td>14</td>\n",
       "      <td>14</td>\n",
       "      <td>1002</td>\n",
       "      <td>10</td>\n",
       "      <td>212.0</td>\n",
       "      <td>33.0</td>\n",
       "      <td>10.0</td>\n",
       "      <td>13888.25</td>\n",
       "      <td>smart</td>\n",
       "      <td>Стерлитамак</td>\n",
       "      <td>550.0</td>\n",
       "    </tr>\n",
       "    <tr>\n",
       "      <td>15</td>\n",
       "      <td>15</td>\n",
       "      <td>1002</td>\n",
       "      <td>11</td>\n",
       "      <td>243.0</td>\n",
       "      <td>32.0</td>\n",
       "      <td>16.0</td>\n",
       "      <td>18587.28</td>\n",
       "      <td>smart</td>\n",
       "      <td>Стерлитамак</td>\n",
       "      <td>1350.0</td>\n",
       "    </tr>\n",
       "    <tr>\n",
       "      <td>16</td>\n",
       "      <td>16</td>\n",
       "      <td>1002</td>\n",
       "      <td>12</td>\n",
       "      <td>236.0</td>\n",
       "      <td>33.0</td>\n",
       "      <td>12.0</td>\n",
       "      <td>18113.73</td>\n",
       "      <td>smart</td>\n",
       "      <td>Стерлитамак</td>\n",
       "      <td>1150.0</td>\n",
       "    </tr>\n",
       "    <tr>\n",
       "      <td>30</td>\n",
       "      <td>30</td>\n",
       "      <td>1005</td>\n",
       "      <td>1</td>\n",
       "      <td>95.0</td>\n",
       "      <td>15.0</td>\n",
       "      <td>7.0</td>\n",
       "      <td>2727.97</td>\n",
       "      <td>smart</td>\n",
       "      <td>Набережные Челны</td>\n",
       "      <td>550.0</td>\n",
       "    </tr>\n",
       "  </tbody>\n",
       "</table>\n",
       "</div>"
      ],
      "text/plain": [
       "    index  user_id  month  min_sum  calls_count  messeges_count   mb_used  \\\n",
       "8       8     1001     11    430.0         59.0             0.0  18429.34   \n",
       "9       9     1001     12    414.0         63.0             0.0  14036.66   \n",
       "10     10     1002      6    117.0         15.0             4.0  10856.82   \n",
       "11     11     1002      7    214.0         26.0            11.0  17580.10   \n",
       "12     12     1002      8    289.0         42.0            13.0  20319.26   \n",
       "13     13     1002      9    206.0         36.0             4.0  16691.08   \n",
       "14     14     1002     10    212.0         33.0            10.0  13888.25   \n",
       "15     15     1002     11    243.0         32.0            16.0  18587.28   \n",
       "16     16     1002     12    236.0         33.0            12.0  18113.73   \n",
       "30     30     1005      1     95.0         15.0             7.0   2727.97   \n",
       "\n",
       "   tariff              city  revenue  \n",
       "8   smart            Москва   1150.0  \n",
       "9   smart            Москва    550.0  \n",
       "10  smart       Стерлитамак    550.0  \n",
       "11  smart       Стерлитамак   1150.0  \n",
       "12  smart       Стерлитамак   1550.0  \n",
       "13  smart       Стерлитамак    950.0  \n",
       "14  smart       Стерлитамак    550.0  \n",
       "15  smart       Стерлитамак   1350.0  \n",
       "16  smart       Стерлитамак   1150.0  \n",
       "30  smart  Набережные Челны    550.0  "
      ]
     },
     "execution_count": 21,
     "metadata": {},
     "output_type": "execute_result"
    }
   ],
   "source": [
    "smart.head(10)"
   ]
  },
  {
   "cell_type": "code",
   "execution_count": 22,
   "metadata": {},
   "outputs": [
    {
     "name": "stdout",
     "output_type": "stream",
     "text": [
      "SMART, в среднем за месяц:\n",
      "\n",
      "Минут разговора: 417.9349484073576\n",
      "Сообщений: 33.384028712427096\n",
      "Мегабайт интернета: 16208.386989681472\n",
      "\n",
      "Стандартное отклонение минут разговора: 190.31372988921288\n",
      "Стандартное отклонение сообщений: 28.22787555676141\n",
      "Стандартное отклонение мегабайт интернета: 5870.476681049199\n",
      "\n",
      "Дисперсия минут разговора: 36219.31578434428\n",
      "Дисперсия сообщений: 796.8129584480083\n",
      "Дисперсия мегабайт интернета: 34462496.46274242\n",
      "\n",
      "Лимит минут в среднем превышен на: 2.404\n",
      "Лимит сообщений в среднем превышен на: 2.404\n",
      "Лимит мегабайт в среднем превышен на: 185.1\n",
      "\n",
      "ULTRA, в среднем за месяц:\n",
      "\n",
      "Минут разговора: 526.6233502538071\n",
      "Сообщений: 49.36345177664975\n",
      "Мегабайт интернета: 19468.805208121827\n",
      "\n",
      "Стандартное отклонение минут разговора: 317.6060978591264\n",
      "Стандартное отклонение сообщений: 47.804457350174715\n",
      "Стандартное отклонение мегабайт интернета: 10087.170752166034\n",
      "\n",
      "Дисперсия минут разговора: 100873.63339730098\n",
      "Дисперсия сообщений: 2285.266142544673\n",
      "Дисперсия мегабайт интернета: 101751013.78335387\n",
      "\n",
      "Лимит минут в среднем превышен на: 1245.0\n",
      "Лимит сообщений в среднем превышен на: 333.1\n",
      "Лимит мегабайт в среднем превышен на: 185.1\n"
     ]
    }
   ],
   "source": [
    "print('SMART, в среднем за месяц:')\n",
    "print('')\n",
    "print('Минут разговора:', smart['min_sum'].describe()['mean'])\n",
    "print('Сообщений:', smart['messeges_count'].describe()['mean'])\n",
    "print('Мегабайт интернета:', smart['mb_used'].describe()['mean'])\n",
    "print('')\n",
    "print('Стандартное отклонение минут разговора:', smart['min_sum'].describe()['std'])\n",
    "print('Стандартное отклонение сообщений:', smart['messeges_count'].describe()['std'])\n",
    "print('Стандартное отклонение мегабайт интернета:', smart['mb_used'].describe()['std'])\n",
    "print('')\n",
    "print('Дисперсия минут разговора:', smart['min_sum'].describe()['std'] ** 2)\n",
    "print('Дисперсия сообщений:', smart['messeges_count'].describe()['std'] ** 2)\n",
    "print('Дисперсия мегабайт интернета:', smart['mb_used'].describe()['std'] ** 2)\n",
    "print('')\n",
    "print('Лимит минут в среднем превышен на:', users_tariffs['rub_per_minute'].describe()['mean'])\n",
    "print('Лимит сообщений в среднем превышен на:', users_tariffs['rub_per_message'].describe()['mean'])\n",
    "print('Лимит мегабайт в среднем превышен на:', users_tariffs['rub_per_gb'].describe()['mean'])\n",
    "print('')\n",
    "print('ULTRA, в среднем за месяц:')\n",
    "print('')\n",
    "print('Минут разговора:', ultra['min_sum'].describe()['mean'])\n",
    "print('Сообщений:', ultra['messeges_count'].describe()['mean'])\n",
    "print('Мегабайт интернета:', ultra['mb_used'].describe()['mean'])\n",
    "print('')\n",
    "print('Стандартное отклонение минут разговора:', ultra['min_sum'].describe()['std'])\n",
    "print('Стандартное отклонение сообщений:', ultra['messeges_count'].describe()['std'])\n",
    "print('Стандартное отклонение мегабайт интернета:', ultra['mb_used'].describe()['std'])\n",
    "print('')\n",
    "print('Дисперсия минут разговора:', ultra['min_sum'].describe()['std'] ** 2)\n",
    "print('Дисперсия сообщений:', ultra['messeges_count'].describe()['std'] ** 2)\n",
    "print('Дисперсия мегабайт интернета:', ultra['mb_used'].describe()['std'] ** 2)\n",
    "print('')\n",
    "print('Лимит минут в среднем превышен на:', users_tariffs['minutes_included'].describe()['mean'])\n",
    "print('Лимит сообщений в среднем превышен на:', users_tariffs['messages_included'].describe()['mean'])\n",
    "print('Лимит мегабайт в среднем превышен на:', users_tariffs['rub_per_gb'].describe()['mean'])\n",
    "\n"
   ]
  },
  {
   "cell_type": "code",
   "execution_count": 23,
   "metadata": {},
   "outputs": [
    {
     "data": {
      "image/png": "[encoded data removed]",
      "text/plain": [
       "<Figure size 360x360 with 1 Axes>"
      ]
     },
     "metadata": {
      "needs_background": "light"
     },
     "output_type": "display_data"
    },
    {
     "data": {
      "image/png": "[encoded data removed]",
      "text/plain": [
       "<Figure size 360x360 with 1 Axes>"
      ]
     },
     "metadata": {
      "needs_background": "light"
     },
     "output_type": "display_data"
    },
    {
     "data": {
      "image/png": "[encoded data removed]",
      "text/plain": [
       "<Figure size 360x360 with 1 Axes>"
      ]
     },
     "metadata": {
      "needs_background": "light"
     },
     "output_type": "display_data"
    }
   ],
   "source": [
    "for column in ['min_sum', 'mb_used', 'messeges_count']:    \n",
    "    sns.catplot(x='tariff', y=column, kind=\"box\", data=total_users, orient='v')"
   ]
  },
  {
   "cell_type": "code",
   "execution_count": 24,
   "metadata": {},
   "outputs": [
    {
     "data": {
      "text/plain": [
       "Text(0.5, 1.0, 'Гистограмма звонков')"
      ]
     },
     "execution_count": 24,
     "metadata": {},
     "output_type": "execute_result"
    },
    {
     "data": {
      "image/png": "[encoded data removed]",
      "text/plain": [
       "<Figure size 432x288 with 1 Axes>"
      ]
     },
     "metadata": {
      "needs_background": "light"
     },
     "output_type": "display_data"
    }
   ],
   "source": [
    "smart = total_users.query(\"tariff == 'smart'\")\n",
    "ultra = total_users.query(\"tariff == 'ultra'\")\n",
    "sns.distplot(smart['min_sum'], kde=False)\n",
    "sns.distplot(ultra['min_sum'], kde=False)\n",
    "plt.legend(['smart', 'ultra'])\n",
    "plt.xlabel('количество минут')\n",
    "plt.ylabel('количество пользователей')\n",
    "plt.title('Гистограмма звонков')\n"
   ]
  },
  {
   "cell_type": "code",
   "execution_count": 25,
   "metadata": {},
   "outputs": [
    {
     "data": {
      "text/plain": [
       "Text(0.5, 1.0, 'Гистограмма интернет траффика')"
      ]
     },
     "execution_count": 25,
     "metadata": {},
     "output_type": "execute_result"
    },
    {
     "data": {
      "image/png": "[encoded data removed]",
      "text/plain": [
       "<Figure size 432x288 with 1 Axes>"
      ]
     },
     "metadata": {
      "needs_background": "light"
     },
     "output_type": "display_data"
    }
   ],
   "source": [
    "smart = total_users.query(\"tariff == 'smart'\")\n",
    "ultra = total_users.query(\"tariff == 'ultra'\")\n",
    "sns.distplot(smart['mb_used'], kde=False)\n",
    "sns.distplot(ultra['mb_used'], kde=False)\n",
    "plt.legend(['smart', 'ultra'])\n",
    "plt.xlabel('количество мегабайт')\n",
    "plt.ylabel('количество пользователей')\n",
    "plt.title('Гистограмма интернет траффика')"
   ]
  },
  {
   "cell_type": "code",
   "execution_count": 26,
   "metadata": {},
   "outputs": [
    {
     "data": {
      "text/plain": [
       "Text(0.5, 1.0, 'Гистограмма сообщений')"
      ]
     },
     "execution_count": 26,
     "metadata": {},
     "output_type": "execute_result"
    },
    {
     "data": {
      "image/png": "[encoded data removed]",
      "text/plain": [
       "<Figure size 432x288 with 1 Axes>"
      ]
     },
     "metadata": {
      "needs_background": "light"
     },
     "output_type": "display_data"
    }
   ],
   "source": [
    "smart = total_users.query(\"tariff == 'smart'\")\n",
    "ultra = total_users.query(\"tariff == 'ultra'\")\n",
    "sns.distplot(smart['messeges_count'], kde=False)\n",
    "sns.distplot(ultra['messeges_count'], kde=False)\n",
    "plt.legend(['smart', 'ultra'])\n",
    "plt.xlabel('количество минут')\n",
    "plt.ylabel('количество пользователей')\n",
    "plt.title('Гистограмма сообщений')"
   ]
  },
  {
   "cell_type": "markdown",
   "metadata": {},
   "source": [
    "Вывод:Гистаграммы показывают, что дисперсия по \"Ультра\" больше, чем у пользователей с тарифом \"Смарт\". Пользователи тарифа Ультра имеют больше возможностей.\n"
   ]
  },
  {
   "cell_type": "markdown",
   "metadata": {},
   "source": [
    "Гипотеза 1. Средняя выручка пользователей тарифов «Ультра» и «Смарт» различается.\n",
    "Нулевой гипотезой будет гипотеза о том, что средние наших выборок равны. Альтернативной гипотезой будет наша гипотеза \"Средняя выручка пользователей тарифов «Ультра» и «Смарт» различается\".\n"
   ]
  },
  {
   "cell_type": "code",
   "execution_count": 27,
   "metadata": {},
   "outputs": [
    {
     "name": "stdout",
     "output_type": "stream",
     "text": [
      "P-value: 4.2606313931076085e-250\n",
      "Отвергаем нулевую гипотезу\n"
     ]
    }
   ],
   "source": [
    "alpha = 0.05 \n",
    "results = st.ttest_ind(smart['revenue'], ultra['revenue'], equal_var = False)\n",
    "print('P-value:', results.pvalue)\n",
    "\n",
    "if (results.pvalue < alpha):\n",
    "    print(\"Отвергаем нулевую гипотезу\")\n",
    "else:\n",
    "    print(\"Не получилось отвергнуть нулевую гипотезу\")"
   ]
  },
  {
   "cell_type": "markdown",
   "metadata": {},
   "source": [
    "Гипотеза 2. Средняя выручка пользователей из Москвы отличается от выручки пользователей из других регионов.\n",
    "Для проверки гипотезы создадим две соответствующие таблицы moscow и regions.\n",
    "H0 - Средняя выручка пользователей из Москвы отличается от выручки пользователей из других регионов\n",
    "H1 - Средняя выручка пользователей из Москвы не отличается от выручки пользователей из других регионов\n",
    "\n",
    "\n"
   ]
  },
  {
   "cell_type": "code",
   "execution_count": 35,
   "metadata": {},
   "outputs": [],
   "source": [
    "#создадим две таблицы, в одной будут все клиенты из москвы, во второй - все остальные\n",
    "moscow = total_users[total_users['city'] == 'Москва']\n",
    "regions = total_users[total_users['city'] != 'Москва']"
   ]
  },
  {
   "cell_type": "code",
   "execution_count": 36,
   "metadata": {},
   "outputs": [
    {
     "data": {
      "text/html": [
       "<div>\n",
       "<style scoped>\n",
       "    .dataframe tbody tr th:only-of-type {\n",
       "        vertical-align: middle;\n",
       "    }\n",
       "\n",
       "    .dataframe tbody tr th {\n",
       "        vertical-align: top;\n",
       "    }\n",
       "\n",
       "    .dataframe thead th {\n",
       "        text-align: right;\n",
       "    }\n",
       "</style>\n",
       "<table border=\"1\" class=\"dataframe\">\n",
       "  <thead>\n",
       "    <tr style=\"text-align: right;\">\n",
       "      <th></th>\n",
       "      <th>user_id</th>\n",
       "    </tr>\n",
       "    <tr>\n",
       "      <th>tariff</th>\n",
       "      <th></th>\n",
       "    </tr>\n",
       "  </thead>\n",
       "  <tbody>\n",
       "    <tr>\n",
       "      <td>smart</td>\n",
       "      <td>1843</td>\n",
       "    </tr>\n",
       "    <tr>\n",
       "      <td>ultra</td>\n",
       "      <td>760</td>\n",
       "    </tr>\n",
       "  </tbody>\n",
       "</table>\n",
       "</div>"
      ],
      "text/plain": [
       "        user_id\n",
       "tariff         \n",
       "smart      1843\n",
       "ultra       760"
      ]
     },
     "execution_count": 36,
     "metadata": {},
     "output_type": "execute_result"
    }
   ],
   "source": [
    "\n",
    "#проверим соотношения пользователей разных тарифов в наших выборках\n",
    "moscow.pivot_table(index = 'tariff', values = 'user_id', aggfunc = 'count')\n",
    "regions.pivot_table(index = 'tariff', values = 'user_id', aggfunc = 'count')\n"
   ]
  },
  {
   "cell_type": "code",
   "execution_count": 37,
   "metadata": {},
   "outputs": [
    {
     "name": "stdout",
     "output_type": "stream",
     "text": [
      "P-value: 0.5257376663729298\n",
      "Не получилось отвергнуть нулевую гипотезу\n"
     ]
    }
   ],
   "source": [
    "alpha = 0.05\n",
    "results = st.ttest_ind(moscow['revenue'], regions['revenue'], equal_var = False)\n",
    "print('P-value:', results.pvalue)\n",
    "\n",
    "if (results.pvalue < alpha):\n",
    "    print(\"Отвергаем нулевую гипотезу\")\n",
    "else:\n",
    "    print(\"Не получилось отвергнуть нулевую гипотезу\")"
   ]
  },
  {
   "cell_type": "markdown",
   "metadata": {},
   "source": [
    "Вывод по гипотезе 2:\n",
    "\n",
    "Соотношение в двух наших таблицах клиентов с разными тарифами примерно одинаковое.\n"
   ]
  },
  {
   "cell_type": "markdown",
   "metadata": {},
   "source": [
    "\n",
    "1.По результатам анализа, доходы от тарифа ультра больше чем от тарифа смарт.\n",
    "2.Судя по гистограммам не все пользователи тарифа «Ультра» используют весь доступный лимит.\n",
    "3.Доплат по тарифу «Ультра» очень мало. В тарифе «Смарт» часто доплачивают за дополнительные пакеты гигобайт\n",
    "4.Средние доходы от пользователей в Москве не отличаются от доходов в других городах.\n",
    "5.Отвечая на вопрос какой тариф лучше для оператора, это тариф Ультра."
   ]
  },
  {
   "cell_type": "code",
   "execution_count": null,
   "metadata": {},
   "outputs": [],
   "source": []
  },
  {
   "cell_type": "code",
   "execution_count": null,
   "metadata": {},
   "outputs": [],
   "source": []
  }
 ],
 "metadata": {
  "ExecuteTimeLog": [
   {
    "duration": 582,
    "start_time": "2022-01-13T14:24:06.566Z"
   },
   {
    "duration": 98,
    "start_time": "2022-01-13T14:25:50.469Z"
   },
   {
    "duration": 284,
    "start_time": "2022-01-13T14:25:54.299Z"
   },
   {
    "duration": 211,
    "start_time": "2022-01-13T14:26:09.267Z"
   },
   {
    "duration": 3,
    "start_time": "2022-01-13T14:26:19.366Z"
   },
   {
    "duration": 224,
    "start_time": "2022-01-13T14:26:21.206Z"
   },
   {
    "duration": 1916,
    "start_time": "2022-01-13T14:27:18.317Z"
   },
   {
    "duration": 183,
    "start_time": "2022-01-13T14:27:30.636Z"
   },
   {
    "duration": 408,
    "start_time": "2022-01-13T14:29:21.377Z"
   },
   {
    "duration": 544,
    "start_time": "2022-01-13T14:31:50.177Z"
   },
   {
    "duration": 465,
    "start_time": "2022-01-13T14:32:15.108Z"
   },
   {
    "duration": 447,
    "start_time": "2022-01-13T14:32:45.875Z"
   },
   {
    "duration": 441,
    "start_time": "2022-01-13T14:33:37.957Z"
   },
   {
    "duration": 463,
    "start_time": "2022-01-13T14:37:58.307Z"
   },
   {
    "duration": 519,
    "start_time": "2022-01-13T14:38:22.667Z"
   },
   {
    "duration": 482,
    "start_time": "2022-01-13T14:39:35.878Z"
   },
   {
    "duration": 459,
    "start_time": "2022-01-13T14:39:49.466Z"
   },
   {
    "duration": 461,
    "start_time": "2022-01-13T14:40:31.443Z"
   },
   {
    "duration": 503,
    "start_time": "2022-01-13T14:40:58.327Z"
   },
   {
    "duration": 399,
    "start_time": "2022-01-13T14:44:20.716Z"
   },
   {
    "duration": 382,
    "start_time": "2022-01-13T14:44:32.048Z"
   },
   {
    "duration": 179,
    "start_time": "2022-01-13T14:44:41.676Z"
   },
   {
    "duration": 185,
    "start_time": "2022-01-13T14:46:41.765Z"
   },
   {
    "duration": 42,
    "start_time": "2022-01-13T14:46:57.837Z"
   },
   {
    "duration": 3,
    "start_time": "2022-01-13T14:47:42.658Z"
   },
   {
    "duration": 161,
    "start_time": "2022-01-13T14:47:42.816Z"
   },
   {
    "duration": 184,
    "start_time": "2022-01-13T14:47:43.509Z"
   },
   {
    "duration": 110,
    "start_time": "2022-01-13T14:47:43.695Z"
   },
   {
    "duration": 42,
    "start_time": "2022-01-13T14:47:43.809Z"
   },
   {
    "duration": 43,
    "start_time": "2022-01-13T14:47:43.971Z"
   },
   {
    "duration": 504,
    "start_time": "2022-01-14T10:40:20.775Z"
   },
   {
    "duration": 137,
    "start_time": "2022-01-14T10:42:03.444Z"
   },
   {
    "duration": 115,
    "start_time": "2022-01-14T10:42:40.412Z"
   },
   {
    "duration": 134,
    "start_time": "2022-01-14T10:42:43.910Z"
   },
   {
    "duration": 81,
    "start_time": "2022-01-14T10:43:32.158Z"
   },
   {
    "duration": 1403,
    "start_time": "2022-01-14T10:44:31.594Z"
   },
   {
    "duration": 18,
    "start_time": "2022-01-14T10:44:42.680Z"
   },
   {
    "duration": 30,
    "start_time": "2022-01-14T10:45:04.696Z"
   },
   {
    "duration": 118,
    "start_time": "2022-01-14T10:45:08.823Z"
   },
   {
    "duration": 150,
    "start_time": "2022-01-14T10:45:41.458Z"
   },
   {
    "duration": 140,
    "start_time": "2022-01-14T10:45:55.360Z"
   },
   {
    "duration": 280,
    "start_time": "2022-01-14T10:46:06.878Z"
   },
   {
    "duration": 94,
    "start_time": "2022-01-14T10:46:11.792Z"
   },
   {
    "duration": 20,
    "start_time": "2022-01-14T10:46:19.259Z"
   },
   {
    "duration": 32,
    "start_time": "2022-01-14T10:46:26.139Z"
   },
   {
    "duration": 150,
    "start_time": "2022-01-14T10:47:46.575Z"
   },
   {
    "duration": 125,
    "start_time": "2022-01-14T10:48:29.343Z"
   },
   {
    "duration": 89,
    "start_time": "2022-01-14T10:49:05.028Z"
   },
   {
    "duration": 141,
    "start_time": "2022-01-14T10:50:14.945Z"
   },
   {
    "duration": 21,
    "start_time": "2022-01-14T11:00:49.576Z"
   },
   {
    "duration": 33,
    "start_time": "2022-01-14T11:01:10.454Z"
   },
   {
    "duration": 2,
    "start_time": "2022-01-14T11:02:21.287Z"
   },
   {
    "duration": 158,
    "start_time": "2022-01-14T11:38:10.192Z"
   },
   {
    "duration": 134,
    "start_time": "2022-01-14T11:38:42.114Z"
   },
   {
    "duration": 126,
    "start_time": "2022-01-14T11:38:56.757Z"
   },
   {
    "duration": 98,
    "start_time": "2022-01-14T11:39:17.900Z"
   },
   {
    "duration": 24,
    "start_time": "2022-01-14T11:39:31.511Z"
   },
   {
    "duration": 38,
    "start_time": "2022-01-14T11:39:50.727Z"
   },
   {
    "duration": 27,
    "start_time": "2022-01-14T11:46:05.163Z"
   },
   {
    "duration": 24,
    "start_time": "2022-01-14T11:46:24.131Z"
   },
   {
    "duration": 156,
    "start_time": "2022-01-14T11:47:20.861Z"
   },
   {
    "duration": 1110,
    "start_time": "2022-01-14T11:55:51.602Z"
   },
   {
    "duration": 910,
    "start_time": "2022-01-14T11:56:17.047Z"
   },
   {
    "duration": 52,
    "start_time": "2022-01-14T11:57:17.995Z"
   },
   {
    "duration": 206,
    "start_time": "2022-01-14T12:03:17.601Z"
   },
   {
    "duration": 246,
    "start_time": "2022-01-14T12:03:26.304Z"
   },
   {
    "duration": 3,
    "start_time": "2022-01-14T12:03:49.595Z"
   },
   {
    "duration": 54,
    "start_time": "2022-01-14T12:03:53.835Z"
   },
   {
    "duration": 34,
    "start_time": "2022-01-14T12:06:21.865Z"
   },
   {
    "duration": 30,
    "start_time": "2022-01-14T12:06:35.523Z"
   },
   {
    "duration": 198,
    "start_time": "2022-01-14T12:24:13.991Z"
   },
   {
    "duration": 149,
    "start_time": "2022-01-14T12:24:38.610Z"
   },
   {
    "duration": 138,
    "start_time": "2022-01-14T12:24:45.621Z"
   },
   {
    "duration": 95,
    "start_time": "2022-01-14T12:24:48.961Z"
   },
   {
    "duration": 100,
    "start_time": "2022-01-14T12:25:32.121Z"
   },
   {
    "duration": 3,
    "start_time": "2022-01-14T12:25:38.317Z"
   },
   {
    "duration": 151,
    "start_time": "2022-01-14T12:25:38.494Z"
   },
   {
    "duration": 132,
    "start_time": "2022-01-14T12:25:38.672Z"
   },
   {
    "duration": 96,
    "start_time": "2022-01-14T12:25:38.855Z"
   },
   {
    "duration": 25,
    "start_time": "2022-01-14T12:25:39.016Z"
   },
   {
    "duration": 46,
    "start_time": "2022-01-14T12:25:39.206Z"
   },
   {
    "duration": 64,
    "start_time": "2022-01-14T12:25:39.346Z"
   },
   {
    "duration": 40,
    "start_time": "2022-01-14T12:25:39.522Z"
   },
   {
    "duration": 189,
    "start_time": "2022-01-14T12:25:39.692Z"
   },
   {
    "duration": 183,
    "start_time": "2022-01-14T12:27:02.584Z"
   },
   {
    "duration": 99,
    "start_time": "2022-01-14T12:27:15.632Z"
   },
   {
    "duration": 199,
    "start_time": "2022-01-14T12:27:26.845Z"
   },
   {
    "duration": 193,
    "start_time": "2022-01-14T12:27:31.109Z"
   },
   {
    "duration": 210,
    "start_time": "2022-01-14T12:27:39.890Z"
   },
   {
    "duration": 192,
    "start_time": "2022-01-14T12:27:48.479Z"
   },
   {
    "duration": 209,
    "start_time": "2022-01-14T12:27:55.384Z"
   },
   {
    "duration": 24,
    "start_time": "2022-01-14T12:28:00.893Z"
   },
   {
    "duration": 8,
    "start_time": "2022-01-14T13:52:16.646Z"
   },
   {
    "duration": 8,
    "start_time": "2022-01-14T13:52:36.526Z"
   },
   {
    "duration": 7,
    "start_time": "2022-01-14T13:52:49.326Z"
   },
   {
    "duration": 6,
    "start_time": "2022-01-14T13:58:15.928Z"
   },
   {
    "duration": 635,
    "start_time": "2022-01-16T10:21:24.242Z"
   },
   {
    "duration": 176,
    "start_time": "2022-01-16T10:21:24.879Z"
   },
   {
    "duration": 123,
    "start_time": "2022-01-16T10:21:25.057Z"
   },
   {
    "duration": 86,
    "start_time": "2022-01-16T10:21:25.182Z"
   },
   {
    "duration": 30,
    "start_time": "2022-01-16T10:21:25.269Z"
   },
   {
    "duration": 53,
    "start_time": "2022-01-16T10:21:25.301Z"
   },
   {
    "duration": 66,
    "start_time": "2022-01-16T10:21:25.356Z"
   },
   {
    "duration": 40,
    "start_time": "2022-01-16T10:21:25.433Z"
   },
   {
    "duration": 42,
    "start_time": "2022-01-16T10:21:25.595Z"
   },
   {
    "duration": 6,
    "start_time": "2022-01-16T10:21:25.770Z"
   },
   {
    "duration": 6,
    "start_time": "2022-01-16T10:24:08.746Z"
   },
   {
    "duration": 488,
    "start_time": "2022-01-16T10:26:43.424Z"
   },
   {
    "duration": 140,
    "start_time": "2022-01-16T10:27:24.082Z"
   },
   {
    "duration": 301,
    "start_time": "2022-01-16T10:28:03.648Z"
   },
   {
    "duration": 183,
    "start_time": "2022-01-16T10:28:24.533Z"
   },
   {
    "duration": 298,
    "start_time": "2022-01-16T10:28:56.646Z"
   },
   {
    "duration": 24,
    "start_time": "2022-01-16T10:29:01.128Z"
   },
   {
    "duration": 24,
    "start_time": "2022-01-16T10:30:43.466Z"
   },
   {
    "duration": 31,
    "start_time": "2022-01-16T10:31:23.717Z"
   },
   {
    "duration": 21,
    "start_time": "2022-01-16T10:31:31.810Z"
   },
   {
    "duration": 96,
    "start_time": "2022-01-16T10:31:54.119Z"
   },
   {
    "duration": 2,
    "start_time": "2022-01-16T11:00:33.454Z"
   },
   {
    "duration": 3,
    "start_time": "2022-01-16T11:00:52.593Z"
   },
   {
    "duration": 2,
    "start_time": "2022-01-16T11:01:04.301Z"
   },
   {
    "duration": 2,
    "start_time": "2022-01-16T11:01:16.892Z"
   },
   {
    "duration": 597,
    "start_time": "2022-01-16T14:02:10.990Z"
   },
   {
    "duration": 165,
    "start_time": "2022-01-16T14:02:12.531Z"
   },
   {
    "duration": 140,
    "start_time": "2022-01-16T14:02:13.423Z"
   },
   {
    "duration": 98,
    "start_time": "2022-01-16T14:02:15.680Z"
   },
   {
    "duration": 32,
    "start_time": "2022-01-16T14:02:16.699Z"
   },
   {
    "duration": 48,
    "start_time": "2022-01-16T14:02:18.928Z"
   },
   {
    "duration": 193,
    "start_time": "2022-01-16T14:03:51.442Z"
   },
   {
    "duration": 129,
    "start_time": "2022-01-16T14:03:55.129Z"
   },
   {
    "duration": 2,
    "start_time": "2022-01-16T14:03:59.479Z"
   },
   {
    "duration": 162,
    "start_time": "2022-01-16T14:03:59.615Z"
   },
   {
    "duration": 136,
    "start_time": "2022-01-16T14:03:59.803Z"
   },
   {
    "duration": 105,
    "start_time": "2022-01-16T14:03:59.964Z"
   },
   {
    "duration": 28,
    "start_time": "2022-01-16T14:04:00.121Z"
   },
   {
    "duration": 48,
    "start_time": "2022-01-16T14:04:00.275Z"
   },
   {
    "duration": 72,
    "start_time": "2022-01-16T14:04:00.448Z"
   },
   {
    "duration": 44,
    "start_time": "2022-01-16T14:04:00.617Z"
   },
   {
    "duration": 37,
    "start_time": "2022-01-16T14:04:00.753Z"
   },
   {
    "duration": 7,
    "start_time": "2022-01-16T14:04:00.913Z"
   },
   {
    "duration": 170,
    "start_time": "2022-01-16T14:04:01.085Z"
   },
   {
    "duration": 431,
    "start_time": "2022-01-16T14:04:01.257Z"
   },
   {
    "duration": 36,
    "start_time": "2022-01-16T14:04:01.690Z"
   },
   {
    "duration": 116,
    "start_time": "2022-01-16T14:04:01.728Z"
   },
   {
    "duration": 3,
    "start_time": "2022-01-16T14:04:01.914Z"
   },
   {
    "duration": 9,
    "start_time": "2022-01-16T14:32:02.648Z"
   },
   {
    "duration": 12,
    "start_time": "2022-01-16T14:32:20.835Z"
   },
   {
    "duration": 128,
    "start_time": "2022-01-16T14:33:23.263Z"
   },
   {
    "duration": 8,
    "start_time": "2022-01-16T14:33:41.684Z"
   },
   {
    "duration": 7,
    "start_time": "2022-01-16T14:33:47.350Z"
   },
   {
    "duration": 6,
    "start_time": "2022-01-16T14:38:34.651Z"
   },
   {
    "duration": 18,
    "start_time": "2022-01-16T14:38:45.685Z"
   },
   {
    "duration": 18,
    "start_time": "2022-01-16T14:39:02.337Z"
   },
   {
    "duration": 20,
    "start_time": "2022-01-16T14:39:22.380Z"
   },
   {
    "duration": 18,
    "start_time": "2022-01-16T14:39:32.291Z"
   },
   {
    "duration": 19,
    "start_time": "2022-01-16T14:39:41.545Z"
   },
   {
    "duration": 13,
    "start_time": "2022-01-16T14:42:22.242Z"
   },
   {
    "duration": 10,
    "start_time": "2022-01-16T14:42:29.518Z"
   },
   {
    "duration": 130,
    "start_time": "2022-01-16T14:47:11.677Z"
   },
   {
    "duration": 180,
    "start_time": "2022-01-16T14:47:27.954Z"
   },
   {
    "duration": 147,
    "start_time": "2022-01-16T14:48:19.345Z"
   },
   {
    "duration": 15,
    "start_time": "2022-01-16T14:49:11.497Z"
   },
   {
    "duration": 9,
    "start_time": "2022-01-16T14:49:17.691Z"
   },
   {
    "duration": 29,
    "start_time": "2022-01-16T14:52:40.975Z"
   },
   {
    "duration": 30,
    "start_time": "2022-01-16T14:53:35.070Z"
   },
   {
    "duration": 32,
    "start_time": "2022-01-16T14:57:09.638Z"
   },
   {
    "duration": 29,
    "start_time": "2022-01-16T14:57:41.353Z"
   },
   {
    "duration": 31,
    "start_time": "2022-01-16T14:58:04.523Z"
   },
   {
    "duration": 54,
    "start_time": "2022-01-16T14:59:35.892Z"
   },
   {
    "duration": 31,
    "start_time": "2022-01-16T15:00:00.883Z"
   },
   {
    "duration": 30,
    "start_time": "2022-01-16T15:00:07.283Z"
   },
   {
    "duration": 3,
    "start_time": "2022-01-16T15:00:19.837Z"
   },
   {
    "duration": 29,
    "start_time": "2022-01-16T15:00:27.849Z"
   },
   {
    "duration": 24,
    "start_time": "2022-01-16T15:01:22.251Z"
   },
   {
    "duration": 29,
    "start_time": "2022-01-16T15:01:33.332Z"
   },
   {
    "duration": 26,
    "start_time": "2022-01-16T15:01:46.072Z"
   },
   {
    "duration": 30,
    "start_time": "2022-01-16T15:01:51.926Z"
   },
   {
    "duration": 8,
    "start_time": "2022-01-16T15:02:43.776Z"
   },
   {
    "duration": 21,
    "start_time": "2022-01-16T15:06:02.289Z"
   },
   {
    "duration": 9,
    "start_time": "2022-01-16T15:06:30.772Z"
   },
   {
    "duration": 19,
    "start_time": "2022-01-16T15:07:26.048Z"
   },
   {
    "duration": 32,
    "start_time": "2022-01-16T15:11:16.478Z"
   },
   {
    "duration": 30,
    "start_time": "2022-01-16T15:11:36.410Z"
   },
   {
    "duration": 29,
    "start_time": "2022-01-16T15:12:37.482Z"
   },
   {
    "duration": 9,
    "start_time": "2022-01-16T15:14:10.353Z"
   },
   {
    "duration": 31,
    "start_time": "2022-01-16T15:14:24.803Z"
   },
   {
    "duration": 67,
    "start_time": "2022-01-16T15:16:44.965Z"
   },
   {
    "duration": 22,
    "start_time": "2022-01-16T15:18:23.021Z"
   },
   {
    "duration": 24,
    "start_time": "2022-01-16T15:18:29.659Z"
   },
   {
    "duration": 7,
    "start_time": "2022-01-16T15:18:52.517Z"
   },
   {
    "duration": 171,
    "start_time": "2022-01-16T15:26:56.968Z"
   },
   {
    "duration": 28,
    "start_time": "2022-01-16T15:27:52.343Z"
   },
   {
    "duration": 21,
    "start_time": "2022-01-16T15:29:35.934Z"
   },
   {
    "duration": 16,
    "start_time": "2022-01-16T15:31:24.702Z"
   },
   {
    "duration": 19,
    "start_time": "2022-01-16T15:31:37.463Z"
   },
   {
    "duration": 44,
    "start_time": "2022-01-16T15:35:16.350Z"
   },
   {
    "duration": 24,
    "start_time": "2022-01-16T15:35:26.490Z"
   },
   {
    "duration": 23,
    "start_time": "2022-01-16T15:39:51.536Z"
   },
   {
    "duration": 24,
    "start_time": "2022-01-16T15:40:03.128Z"
   },
   {
    "duration": 22,
    "start_time": "2022-01-16T15:58:04.542Z"
   },
   {
    "duration": 3,
    "start_time": "2022-01-16T15:58:49.876Z"
   },
   {
    "duration": 24,
    "start_time": "2022-01-16T15:59:12.494Z"
   },
   {
    "duration": 229,
    "start_time": "2022-01-16T16:13:44.696Z"
   },
   {
    "duration": 135,
    "start_time": "2022-01-16T16:14:10.010Z"
   },
   {
    "duration": 58,
    "start_time": "2022-01-16T16:14:56.783Z"
   },
   {
    "duration": 106,
    "start_time": "2022-01-16T16:15:12.489Z"
   },
   {
    "duration": 43,
    "start_time": "2022-01-16T16:15:47.821Z"
   },
   {
    "duration": 44,
    "start_time": "2022-01-16T16:16:08.368Z"
   },
   {
    "duration": 4,
    "start_time": "2022-01-16T16:16:26.645Z"
   },
   {
    "duration": 5,
    "start_time": "2022-01-16T16:19:11.456Z"
   },
   {
    "duration": 770,
    "start_time": "2022-01-17T15:38:12.236Z"
   },
   {
    "duration": 225,
    "start_time": "2022-01-17T15:38:13.008Z"
   },
   {
    "duration": 193,
    "start_time": "2022-01-17T15:38:13.236Z"
   },
   {
    "duration": 127,
    "start_time": "2022-01-17T15:38:13.432Z"
   },
   {
    "duration": 43,
    "start_time": "2022-01-17T15:38:13.561Z"
   },
   {
    "duration": 51,
    "start_time": "2022-01-17T15:38:13.606Z"
   },
   {
    "duration": 113,
    "start_time": "2022-01-17T15:38:13.660Z"
   },
   {
    "duration": 64,
    "start_time": "2022-01-17T15:38:13.776Z"
   },
   {
    "duration": 69,
    "start_time": "2022-01-17T15:38:13.843Z"
   },
   {
    "duration": 9,
    "start_time": "2022-01-17T15:38:13.915Z"
   },
   {
    "duration": 56,
    "start_time": "2022-01-17T15:38:13.926Z"
   },
   {
    "duration": 47,
    "start_time": "2022-01-17T15:38:13.990Z"
   },
   {
    "duration": 32,
    "start_time": "2022-01-17T15:38:14.144Z"
   },
   {
    "duration": 33,
    "start_time": "2022-01-17T15:38:14.314Z"
   },
   {
    "duration": 29,
    "start_time": "2022-01-17T15:38:14.483Z"
   },
   {
    "duration": 36,
    "start_time": "2022-01-17T15:38:14.655Z"
   },
   {
    "duration": 80,
    "start_time": "2022-01-17T15:38:14.818Z"
   },
   {
    "duration": 5,
    "start_time": "2022-01-17T15:38:27.497Z"
   },
   {
    "duration": -117,
    "start_time": "2022-01-17T15:44:46.867Z"
   },
   {
    "duration": 6387,
    "start_time": "2022-01-17T15:46:09.298Z"
   },
   {
    "duration": 4,
    "start_time": "2022-01-17T15:47:05.318Z"
   },
   {
    "duration": 5,
    "start_time": "2022-01-17T15:47:36.739Z"
   },
   {
    "duration": 254,
    "start_time": "2022-01-17T15:55:40.858Z"
   },
   {
    "duration": 275,
    "start_time": "2022-01-17T15:56:22.062Z"
   },
   {
    "duration": 244,
    "start_time": "2022-01-17T15:56:54.282Z"
   },
   {
    "duration": 253,
    "start_time": "2022-01-17T15:57:09.402Z"
   },
   {
    "duration": 260,
    "start_time": "2022-01-17T15:57:51.083Z"
   },
   {
    "duration": 5898,
    "start_time": "2022-01-17T15:58:09.392Z"
   },
   {
    "duration": 20,
    "start_time": "2022-01-17T15:58:47.540Z"
   },
   {
    "duration": 44,
    "start_time": "2022-01-17T16:11:40.735Z"
   },
   {
    "duration": 45,
    "start_time": "2022-01-17T16:12:09.978Z"
   },
   {
    "duration": 7268,
    "start_time": "2022-01-17T16:14:04.279Z"
   },
   {
    "duration": 7439,
    "start_time": "2022-01-17T16:16:05.954Z"
   },
   {
    "duration": 35,
    "start_time": "2022-01-17T16:18:00.454Z"
   },
   {
    "duration": 24,
    "start_time": "2022-01-17T16:19:17.949Z"
   },
   {
    "duration": 24,
    "start_time": "2022-01-17T17:13:41.200Z"
   },
   {
    "duration": 23,
    "start_time": "2022-01-17T17:16:07.076Z"
   },
   {
    "duration": 113,
    "start_time": "2022-01-17T17:16:46.618Z"
   },
   {
    "duration": 82,
    "start_time": "2022-01-17T17:17:01.489Z"
   },
   {
    "duration": 79,
    "start_time": "2022-01-17T17:17:25.751Z"
   },
   {
    "duration": 23,
    "start_time": "2022-01-17T17:17:36.330Z"
   },
   {
    "duration": 23,
    "start_time": "2022-01-17T17:17:49.298Z"
   },
   {
    "duration": 6830,
    "start_time": "2022-01-17T17:27:53.183Z"
   },
   {
    "duration": 7081,
    "start_time": "2022-01-17T17:28:27.521Z"
   },
   {
    "duration": 7414,
    "start_time": "2022-01-17T17:29:14.036Z"
   },
   {
    "duration": 24,
    "start_time": "2022-01-17T17:32:34.431Z"
   },
   {
    "duration": 853,
    "start_time": "2022-01-18T14:20:48.401Z"
   },
   {
    "duration": 246,
    "start_time": "2022-01-18T14:20:49.257Z"
   },
   {
    "duration": 206,
    "start_time": "2022-01-18T14:20:49.506Z"
   },
   {
    "duration": 138,
    "start_time": "2022-01-18T14:20:49.716Z"
   },
   {
    "duration": 37,
    "start_time": "2022-01-18T14:20:49.857Z"
   },
   {
    "duration": 66,
    "start_time": "2022-01-18T14:20:49.897Z"
   },
   {
    "duration": 114,
    "start_time": "2022-01-18T14:20:50.001Z"
   },
   {
    "duration": 65,
    "start_time": "2022-01-18T14:20:50.158Z"
   },
   {
    "duration": 60,
    "start_time": "2022-01-18T14:20:50.331Z"
   },
   {
    "duration": 9,
    "start_time": "2022-01-18T14:20:50.491Z"
   },
   {
    "duration": 34,
    "start_time": "2022-01-18T14:20:50.642Z"
   },
   {
    "duration": 53,
    "start_time": "2022-01-18T14:20:50.819Z"
   },
   {
    "duration": 32,
    "start_time": "2022-01-18T14:20:50.991Z"
   },
   {
    "duration": 32,
    "start_time": "2022-01-18T14:20:51.152Z"
   },
   {
    "duration": 34,
    "start_time": "2022-01-18T14:20:51.311Z"
   },
   {
    "duration": 53,
    "start_time": "2022-01-18T14:20:51.481Z"
   },
   {
    "duration": 31,
    "start_time": "2022-01-18T14:20:51.651Z"
   },
   {
    "duration": 29,
    "start_time": "2022-01-18T14:20:51.810Z"
   },
   {
    "duration": 24,
    "start_time": "2022-01-18T14:20:51.981Z"
   },
   {
    "duration": 21,
    "start_time": "2022-01-18T14:24:51.571Z"
   },
   {
    "duration": 8516,
    "start_time": "2022-01-18T14:26:47.419Z"
   },
   {
    "duration": 39,
    "start_time": "2022-01-18T14:27:25.050Z"
   },
   {
    "duration": 29,
    "start_time": "2022-01-18T14:34:35.183Z"
   },
   {
    "duration": 379,
    "start_time": "2022-01-18T14:35:35.355Z"
   },
   {
    "duration": 29,
    "start_time": "2022-01-18T14:35:57.661Z"
   },
   {
    "duration": 9253,
    "start_time": "2022-01-18T14:39:06.601Z"
   },
   {
    "duration": 8628,
    "start_time": "2022-01-18T14:41:20.547Z"
   },
   {
    "duration": 9904,
    "start_time": "2022-01-18T14:42:17.413Z"
   },
   {
    "duration": 461,
    "start_time": "2022-01-18T14:43:30.913Z"
   },
   {
    "duration": 49,
    "start_time": "2022-01-18T14:43:41.653Z"
   },
   {
    "duration": 33,
    "start_time": "2022-01-18T14:43:54.447Z"
   },
   {
    "duration": 33,
    "start_time": "2022-01-18T14:44:00.612Z"
   },
   {
    "duration": 27,
    "start_time": "2022-01-18T14:44:09.987Z"
   },
   {
    "duration": 40,
    "start_time": "2022-01-18T14:44:15.931Z"
   },
   {
    "duration": 52,
    "start_time": "2022-01-18T14:45:04.009Z"
   },
   {
    "duration": 350,
    "start_time": "2022-01-18T14:46:09.662Z"
   },
   {
    "duration": 508,
    "start_time": "2022-01-18T14:46:24.887Z"
   },
   {
    "duration": 371,
    "start_time": "2022-01-18T14:46:51.071Z"
   },
   {
    "duration": 698,
    "start_time": "2022-01-18T14:47:05.576Z"
   },
   {
    "duration": 367,
    "start_time": "2022-01-18T14:47:48.291Z"
   },
   {
    "duration": 152,
    "start_time": "2022-01-18T14:49:03.401Z"
   },
   {
    "duration": 131,
    "start_time": "2022-01-18T14:49:30.080Z"
   },
   {
    "duration": 369,
    "start_time": "2022-01-18T14:50:28.320Z"
   },
   {
    "duration": 331,
    "start_time": "2022-01-18T14:50:38.387Z"
   },
   {
    "duration": 362,
    "start_time": "2022-01-18T14:50:48.244Z"
   },
   {
    "duration": 44,
    "start_time": "2022-01-18T14:50:52.931Z"
   },
   {
    "duration": 49,
    "start_time": "2022-01-18T14:51:02.142Z"
   },
   {
    "duration": 361,
    "start_time": "2022-01-18T14:53:40.147Z"
   },
   {
    "duration": 327,
    "start_time": "2022-01-18T14:53:53.952Z"
   },
   {
    "duration": 120,
    "start_time": "2022-01-18T14:55:21.011Z"
   },
   {
    "duration": 349,
    "start_time": "2022-01-18T14:55:33.687Z"
   },
   {
    "duration": 355,
    "start_time": "2022-01-18T14:55:53.057Z"
   },
   {
    "duration": 353,
    "start_time": "2022-01-18T14:56:45.624Z"
   },
   {
    "duration": 5,
    "start_time": "2022-01-18T14:57:00.433Z"
   },
   {
    "duration": 234,
    "start_time": "2022-01-18T14:57:00.748Z"
   },
   {
    "duration": 210,
    "start_time": "2022-01-18T14:57:00.985Z"
   },
   {
    "duration": 151,
    "start_time": "2022-01-18T14:57:01.198Z"
   },
   {
    "duration": 30,
    "start_time": "2022-01-18T14:57:01.379Z"
   },
   {
    "duration": 44,
    "start_time": "2022-01-18T14:57:01.649Z"
   },
   {
    "duration": 108,
    "start_time": "2022-01-18T14:57:01.861Z"
   },
   {
    "duration": 69,
    "start_time": "2022-01-18T14:57:02.110Z"
   },
   {
    "duration": 55,
    "start_time": "2022-01-18T14:57:02.278Z"
   },
   {
    "duration": 13,
    "start_time": "2022-01-18T14:57:02.531Z"
   },
   {
    "duration": 29,
    "start_time": "2022-01-18T14:57:03.151Z"
   },
   {
    "duration": 464,
    "start_time": "2022-01-18T14:57:04.695Z"
   },
   {
    "duration": 29,
    "start_time": "2022-01-18T14:57:05.589Z"
   },
   {
    "duration": 29,
    "start_time": "2022-01-18T14:57:07.999Z"
   },
   {
    "duration": 351,
    "start_time": "2022-01-18T14:57:29.893Z"
   },
   {
    "duration": 10010,
    "start_time": "2022-01-18T14:58:14.471Z"
   },
   {
    "duration": 414,
    "start_time": "2022-01-18T14:59:11.441Z"
   },
   {
    "duration": 452,
    "start_time": "2022-01-18T14:59:20.182Z"
   },
   {
    "duration": 113,
    "start_time": "2022-01-18T14:59:31.101Z"
   },
   {
    "duration": 398,
    "start_time": "2022-01-18T14:59:36.577Z"
   },
   {
    "duration": 385,
    "start_time": "2022-01-18T15:00:10.661Z"
   },
   {
    "duration": 392,
    "start_time": "2022-01-18T15:00:21.706Z"
   },
   {
    "duration": 368,
    "start_time": "2022-01-18T15:04:00.343Z"
   },
   {
    "duration": 334,
    "start_time": "2022-01-18T15:04:13.535Z"
   },
   {
    "duration": 759,
    "start_time": "2022-01-18T15:04:18.337Z"
   },
   {
    "duration": 374,
    "start_time": "2022-01-18T15:04:26.827Z"
   },
   {
    "duration": 123,
    "start_time": "2022-01-18T15:05:12.118Z"
   },
   {
    "duration": 50,
    "start_time": "2022-01-18T15:05:17.890Z"
   },
   {
    "duration": 186,
    "start_time": "2022-01-18T15:08:03.000Z"
   },
   {
    "duration": 193,
    "start_time": "2022-01-18T15:08:39.632Z"
   },
   {
    "duration": 355,
    "start_time": "2022-01-18T15:08:49.864Z"
   },
   {
    "duration": 351,
    "start_time": "2022-01-18T15:08:55.985Z"
   },
   {
    "duration": 400,
    "start_time": "2022-01-18T15:09:14.044Z"
   },
   {
    "duration": 403,
    "start_time": "2022-01-18T15:10:08.998Z"
   },
   {
    "duration": 359,
    "start_time": "2022-01-18T15:10:39.543Z"
   },
   {
    "duration": 108,
    "start_time": "2022-01-18T15:17:12.720Z"
   },
   {
    "duration": 111,
    "start_time": "2022-01-18T15:17:18.750Z"
   },
   {
    "duration": 117,
    "start_time": "2022-01-18T15:17:27.553Z"
   },
   {
    "duration": 109,
    "start_time": "2022-01-18T15:17:31.284Z"
   },
   {
    "duration": 126,
    "start_time": "2022-01-18T15:18:01.193Z"
   },
   {
    "duration": 384,
    "start_time": "2022-01-18T15:18:09.184Z"
   },
   {
    "duration": 406,
    "start_time": "2022-01-18T15:18:30.042Z"
   },
   {
    "duration": 118,
    "start_time": "2022-01-18T15:20:07.264Z"
   },
   {
    "duration": 363,
    "start_time": "2022-01-18T15:20:13.765Z"
   },
   {
    "duration": 430,
    "start_time": "2022-01-18T15:21:08.895Z"
   },
   {
    "duration": 125,
    "start_time": "2022-01-18T15:21:54.113Z"
   },
   {
    "duration": 29,
    "start_time": "2022-01-18T15:21:57.935Z"
   },
   {
    "duration": 370,
    "start_time": "2022-01-18T15:22:39.594Z"
   },
   {
    "duration": 379,
    "start_time": "2022-01-18T15:25:17.774Z"
   },
   {
    "duration": 44,
    "start_time": "2022-01-18T15:27:12.526Z"
   },
   {
    "duration": 27,
    "start_time": "2022-01-18T15:28:36.153Z"
   },
   {
    "duration": 30,
    "start_time": "2022-01-18T15:30:28.683Z"
   },
   {
    "duration": 24,
    "start_time": "2022-01-18T15:30:48.653Z"
   },
   {
    "duration": 386,
    "start_time": "2022-01-18T15:31:36.764Z"
   },
   {
    "duration": 361,
    "start_time": "2022-01-18T15:31:51.606Z"
   },
   {
    "duration": 487,
    "start_time": "2022-01-18T15:32:40.625Z"
   },
   {
    "duration": 456,
    "start_time": "2022-01-18T15:35:48.104Z"
   },
   {
    "duration": 114,
    "start_time": "2022-01-18T15:39:44.508Z"
   },
   {
    "duration": -11,
    "start_time": "2022-01-18T15:40:09.161Z"
   },
   {
    "duration": 204,
    "start_time": "2022-01-18T15:40:25.692Z"
   },
   {
    "duration": 544,
    "start_time": "2022-01-18T15:40:31.869Z"
   },
   {
    "duration": 477,
    "start_time": "2022-01-18T15:42:14.604Z"
   },
   {
    "duration": 41,
    "start_time": "2022-01-18T15:44:49.959Z"
   },
   {
    "duration": 41,
    "start_time": "2022-01-18T15:45:30.557Z"
   },
   {
    "duration": 3,
    "start_time": "2022-01-18T15:46:02.395Z"
   },
   {
    "duration": 229,
    "start_time": "2022-01-18T15:46:02.553Z"
   },
   {
    "duration": 210,
    "start_time": "2022-01-18T15:46:02.785Z"
   },
   {
    "duration": 181,
    "start_time": "2022-01-18T15:46:02.998Z"
   },
   {
    "duration": 30,
    "start_time": "2022-01-18T15:46:03.182Z"
   },
   {
    "duration": 68,
    "start_time": "2022-01-18T15:46:03.215Z"
   },
   {
    "duration": 116,
    "start_time": "2022-01-18T15:46:03.359Z"
   },
   {
    "duration": 80,
    "start_time": "2022-01-18T15:46:03.503Z"
   },
   {
    "duration": 56,
    "start_time": "2022-01-18T15:46:03.673Z"
   },
   {
    "duration": 10,
    "start_time": "2022-01-18T15:46:03.850Z"
   },
   {
    "duration": 26,
    "start_time": "2022-01-18T15:46:03.989Z"
   },
   {
    "duration": 52,
    "start_time": "2022-01-18T15:46:04.324Z"
   },
   {
    "duration": 29,
    "start_time": "2022-01-18T15:46:04.484Z"
   },
   {
    "duration": 27,
    "start_time": "2022-01-18T15:46:04.683Z"
   },
   {
    "duration": 42,
    "start_time": "2022-01-18T15:46:04.803Z"
   },
   {
    "duration": 26,
    "start_time": "2022-01-18T15:46:04.968Z"
   },
   {
    "duration": 32,
    "start_time": "2022-01-18T15:46:05.136Z"
   },
   {
    "duration": 31,
    "start_time": "2022-01-18T15:46:05.324Z"
   },
   {
    "duration": 24,
    "start_time": "2022-01-18T15:46:05.474Z"
   },
   {
    "duration": 322,
    "start_time": "2022-01-18T15:49:54.874Z"
   },
   {
    "duration": 362,
    "start_time": "2022-01-18T15:50:21.540Z"
   },
   {
    "duration": 354,
    "start_time": "2022-01-18T15:50:27.783Z"
   },
   {
    "duration": 9112,
    "start_time": "2022-01-18T15:50:49.534Z"
   },
   {
    "duration": 44,
    "start_time": "2022-01-18T15:51:48.163Z"
   },
   {
    "duration": 20,
    "start_time": "2022-01-18T15:54:35.634Z"
   },
   {
    "duration": 18,
    "start_time": "2022-01-18T15:55:03.187Z"
   },
   {
    "duration": 21,
    "start_time": "2022-01-18T15:55:11.773Z"
   },
   {
    "duration": 329,
    "start_time": "2022-01-18T15:58:49.083Z"
   },
   {
    "duration": 130,
    "start_time": "2022-01-18T16:00:15.356Z"
   },
   {
    "duration": 110,
    "start_time": "2022-01-18T16:01:10.613Z"
   },
   {
    "duration": 132,
    "start_time": "2022-01-18T16:01:18.438Z"
   },
   {
    "duration": 42,
    "start_time": "2022-01-18T16:01:37.875Z"
   },
   {
    "duration": 21,
    "start_time": "2022-01-18T16:05:19.869Z"
   },
   {
    "duration": 35,
    "start_time": "2022-01-18T16:05:41.446Z"
   },
   {
    "duration": 4,
    "start_time": "2022-01-18T16:20:18.245Z"
   },
   {
    "duration": 231,
    "start_time": "2022-01-18T16:20:18.395Z"
   },
   {
    "duration": 184,
    "start_time": "2022-01-18T16:20:18.629Z"
   },
   {
    "duration": 144,
    "start_time": "2022-01-18T16:20:18.823Z"
   },
   {
    "duration": 31,
    "start_time": "2022-01-18T16:20:18.970Z"
   },
   {
    "duration": 43,
    "start_time": "2022-01-18T16:20:19.033Z"
   },
   {
    "duration": 101,
    "start_time": "2022-01-18T16:20:19.195Z"
   },
   {
    "duration": 67,
    "start_time": "2022-01-18T16:20:19.333Z"
   },
   {
    "duration": 53,
    "start_time": "2022-01-18T16:20:19.527Z"
   },
   {
    "duration": 8,
    "start_time": "2022-01-18T16:20:19.675Z"
   },
   {
    "duration": 27,
    "start_time": "2022-01-18T16:20:19.866Z"
   },
   {
    "duration": 46,
    "start_time": "2022-01-18T16:20:20.191Z"
   },
   {
    "duration": 32,
    "start_time": "2022-01-18T16:20:20.343Z"
   },
   {
    "duration": 27,
    "start_time": "2022-01-18T16:20:20.569Z"
   },
   {
    "duration": 3,
    "start_time": "2022-01-18T16:20:20.773Z"
   },
   {
    "duration": 4,
    "start_time": "2022-01-18T16:20:20.806Z"
   },
   {
    "duration": 3,
    "start_time": "2022-01-18T16:20:21.040Z"
   },
   {
    "duration": 3,
    "start_time": "2022-01-18T16:20:21.139Z"
   },
   {
    "duration": 3,
    "start_time": "2022-01-18T16:20:21.306Z"
   },
   {
    "duration": 326,
    "start_time": "2022-01-18T16:22:42.175Z"
   },
   {
    "duration": 355,
    "start_time": "2022-01-18T16:22:55.148Z"
   },
   {
    "duration": 37,
    "start_time": "2022-01-18T16:23:07.526Z"
   },
   {
    "duration": 8004,
    "start_time": "2022-01-18T16:23:40.864Z"
   },
   {
    "duration": 7985,
    "start_time": "2022-01-18T16:24:19.665Z"
   },
   {
    "duration": 9675,
    "start_time": "2022-01-18T16:25:32.925Z"
   },
   {
    "duration": 27,
    "start_time": "2022-01-18T16:26:01.251Z"
   },
   {
    "duration": 28,
    "start_time": "2022-01-18T16:26:53.637Z"
   },
   {
    "duration": 28,
    "start_time": "2022-01-18T16:27:11.019Z"
   },
   {
    "duration": 10,
    "start_time": "2022-01-18T16:31:45.836Z"
   },
   {
    "duration": 574,
    "start_time": "2022-01-18T16:32:10.108Z"
   },
   {
    "duration": 614,
    "start_time": "2022-01-19T09:07:42.072Z"
   },
   {
    "duration": 169,
    "start_time": "2022-01-19T09:07:42.688Z"
   },
   {
    "duration": 152,
    "start_time": "2022-01-19T09:07:42.859Z"
   },
   {
    "duration": 100,
    "start_time": "2022-01-19T09:07:43.013Z"
   },
   {
    "duration": 31,
    "start_time": "2022-01-19T09:07:43.115Z"
   },
   {
    "duration": 38,
    "start_time": "2022-01-19T09:07:43.148Z"
   },
   {
    "duration": 82,
    "start_time": "2022-01-19T09:07:43.188Z"
   },
   {
    "duration": 55,
    "start_time": "2022-01-19T09:07:43.272Z"
   },
   {
    "duration": 38,
    "start_time": "2022-01-19T09:07:43.342Z"
   },
   {
    "duration": 3,
    "start_time": "2022-01-19T09:07:51.831Z"
   },
   {
    "duration": 171,
    "start_time": "2022-01-19T09:07:51.983Z"
   },
   {
    "duration": 144,
    "start_time": "2022-01-19T09:07:52.156Z"
   },
   {
    "duration": 98,
    "start_time": "2022-01-19T09:07:52.310Z"
   },
   {
    "duration": 24,
    "start_time": "2022-01-19T09:07:52.502Z"
   },
   {
    "duration": 37,
    "start_time": "2022-01-19T09:07:52.628Z"
   },
   {
    "duration": 68,
    "start_time": "2022-01-19T09:07:52.831Z"
   },
   {
    "duration": 43,
    "start_time": "2022-01-19T09:07:52.969Z"
   },
   {
    "duration": 37,
    "start_time": "2022-01-19T09:07:53.112Z"
   },
   {
    "duration": 6,
    "start_time": "2022-01-19T09:07:53.281Z"
   },
   {
    "duration": 18,
    "start_time": "2022-01-19T09:07:53.443Z"
   },
   {
    "duration": 35,
    "start_time": "2022-01-19T09:07:53.779Z"
   },
   {
    "duration": 22,
    "start_time": "2022-01-19T09:07:53.971Z"
   },
   {
    "duration": 21,
    "start_time": "2022-01-19T09:07:54.134Z"
   },
   {
    "duration": 3,
    "start_time": "2022-01-19T09:07:54.350Z"
   },
   {
    "duration": 3,
    "start_time": "2022-01-19T09:07:54.530Z"
   },
   {
    "duration": 2,
    "start_time": "2022-01-19T09:07:54.682Z"
   },
   {
    "duration": 2,
    "start_time": "2022-01-19T09:07:54.861Z"
   },
   {
    "duration": 2,
    "start_time": "2022-01-19T09:07:55.429Z"
   },
   {
    "duration": 20,
    "start_time": "2022-01-19T09:07:55.581Z"
   },
   {
    "duration": 281,
    "start_time": "2022-01-19T09:07:55.754Z"
   },
   {
    "duration": 6,
    "start_time": "2022-01-19T09:07:56.131Z"
   },
   {
    "duration": 291,
    "start_time": "2022-01-19T09:07:56.290Z"
   },
   {
    "duration": 335,
    "start_time": "2022-01-19T09:08:10.841Z"
   },
   {
    "duration": 349,
    "start_time": "2022-01-19T09:08:26.313Z"
   },
   {
    "duration": 336,
    "start_time": "2022-01-19T09:08:31.321Z"
   },
   {
    "duration": 2,
    "start_time": "2022-01-19T09:09:06.811Z"
   },
   {
    "duration": 166,
    "start_time": "2022-01-19T09:09:06.971Z"
   },
   {
    "duration": 153,
    "start_time": "2022-01-19T09:09:07.140Z"
   },
   {
    "duration": 99,
    "start_time": "2022-01-19T09:09:07.330Z"
   },
   {
    "duration": 23,
    "start_time": "2022-01-19T09:09:07.450Z"
   },
   {
    "duration": 53,
    "start_time": "2022-01-19T09:09:07.666Z"
   },
   {
    "duration": 70,
    "start_time": "2022-01-19T09:09:07.809Z"
   },
   {
    "duration": 41,
    "start_time": "2022-01-19T09:09:07.961Z"
   },
   {
    "duration": 38,
    "start_time": "2022-01-19T09:09:08.178Z"
   },
   {
    "duration": 7,
    "start_time": "2022-01-19T09:09:08.310Z"
   },
   {
    "duration": 17,
    "start_time": "2022-01-19T09:09:08.431Z"
   },
   {
    "duration": 30,
    "start_time": "2022-01-19T09:09:09.161Z"
   },
   {
    "duration": 21,
    "start_time": "2022-01-19T09:09:09.713Z"
   },
   {
    "duration": 19,
    "start_time": "2022-01-19T09:09:10.231Z"
   },
   {
    "duration": 2,
    "start_time": "2022-01-19T09:09:11.032Z"
   },
   {
    "duration": 20,
    "start_time": "2022-01-19T09:09:15.409Z"
   },
   {
    "duration": 220,
    "start_time": "2022-01-19T09:09:15.611Z"
   },
   {
    "duration": 6,
    "start_time": "2022-01-19T09:09:17.468Z"
   },
   {
    "duration": 17223,
    "start_time": "2022-01-19T09:10:29.027Z"
   },
   {
    "duration": 345,
    "start_time": "2022-01-19T09:11:06.051Z"
   },
   {
    "duration": 357,
    "start_time": "2022-01-19T09:12:04.056Z"
   },
   {
    "duration": 6714,
    "start_time": "2022-01-19T09:13:30.802Z"
   },
   {
    "duration": 19,
    "start_time": "2022-01-19T09:14:17.999Z"
   },
   {
    "duration": 2,
    "start_time": "2022-01-19T09:14:23.561Z"
   },
   {
    "duration": 158,
    "start_time": "2022-01-19T09:14:24.071Z"
   },
   {
    "duration": 137,
    "start_time": "2022-01-19T09:14:24.661Z"
   },
   {
    "duration": 94,
    "start_time": "2022-01-19T09:14:25.231Z"
   },
   {
    "duration": 24,
    "start_time": "2022-01-19T09:14:25.971Z"
   },
   {
    "duration": 37,
    "start_time": "2022-01-19T09:14:26.893Z"
   },
   {
    "duration": 74,
    "start_time": "2022-01-19T09:14:30.823Z"
   },
   {
    "duration": 46,
    "start_time": "2022-01-19T09:14:33.731Z"
   },
   {
    "duration": 41,
    "start_time": "2022-01-19T09:14:35.469Z"
   },
   {
    "duration": 6,
    "start_time": "2022-01-19T09:14:39.179Z"
   },
   {
    "duration": 21,
    "start_time": "2022-01-19T09:14:40.021Z"
   },
   {
    "duration": 35,
    "start_time": "2022-01-19T09:14:43.281Z"
   },
   {
    "duration": 25,
    "start_time": "2022-01-19T09:14:44.210Z"
   },
   {
    "duration": 21,
    "start_time": "2022-01-19T09:14:45.024Z"
   },
   {
    "duration": 2,
    "start_time": "2022-01-19T09:14:46.561Z"
   },
   {
    "duration": 20,
    "start_time": "2022-01-19T09:14:50.592Z"
   },
   {
    "duration": 6068,
    "start_time": "2022-01-19T09:14:50.951Z"
   },
   {
    "duration": -127,
    "start_time": "2022-01-19T09:14:57.148Z"
   },
   {
    "duration": 333,
    "start_time": "2022-01-19T09:14:58.251Z"
   },
   {
    "duration": 240,
    "start_time": "2022-01-19T09:16:17.264Z"
   },
   {
    "duration": 225,
    "start_time": "2022-01-19T09:16:33.129Z"
   },
   {
    "duration": 224,
    "start_time": "2022-01-19T09:16:51.241Z"
   },
   {
    "duration": 11,
    "start_time": "2022-01-19T09:17:00.871Z"
   },
   {
    "duration": 17,
    "start_time": "2022-01-19T09:17:22.730Z"
   },
   {
    "duration": 19,
    "start_time": "2022-01-19T09:20:09.998Z"
   },
   {
    "duration": 9,
    "start_time": "2022-01-19T09:20:11.741Z"
   },
   {
    "duration": 19,
    "start_time": "2022-01-19T09:20:14.648Z"
   },
   {
    "duration": 10,
    "start_time": "2022-01-19T09:20:30.470Z"
   },
   {
    "duration": 18,
    "start_time": "2022-01-19T09:20:33.701Z"
   },
   {
    "duration": 10,
    "start_time": "2022-01-19T09:20:44.079Z"
   },
   {
    "duration": 27,
    "start_time": "2022-01-19T09:20:44.090Z"
   },
   {
    "duration": 16,
    "start_time": "2022-01-19T09:21:21.141Z"
   },
   {
    "duration": 16,
    "start_time": "2022-01-19T09:21:28.801Z"
   },
   {
    "duration": 9,
    "start_time": "2022-01-19T09:21:31.281Z"
   },
   {
    "duration": 16,
    "start_time": "2022-01-19T09:21:31.960Z"
   },
   {
    "duration": 341,
    "start_time": "2022-01-19T09:22:10.630Z"
   },
   {
    "duration": 5409,
    "start_time": "2022-01-19T09:22:20.271Z"
   },
   {
    "duration": 336,
    "start_time": "2022-01-19T09:23:57.921Z"
   },
   {
    "duration": 10,
    "start_time": "2022-01-19T09:24:06.971Z"
   },
   {
    "duration": 18,
    "start_time": "2022-01-19T09:24:07.721Z"
   },
   {
    "duration": 6055,
    "start_time": "2022-01-19T09:26:26.810Z"
   },
   {
    "duration": 28,
    "start_time": "2022-01-19T09:27:48.338Z"
   },
   {
    "duration": 18,
    "start_time": "2022-01-19T09:28:30.321Z"
   },
   {
    "duration": 5486,
    "start_time": "2022-01-19T09:30:48.451Z"
   },
   {
    "duration": 17,
    "start_time": "2022-01-19T09:31:47.401Z"
   },
   {
    "duration": 6,
    "start_time": "2022-01-19T09:31:57.492Z"
   },
   {
    "duration": 330,
    "start_time": "2022-01-19T09:31:59.941Z"
   },
   {
    "duration": 379,
    "start_time": "2022-01-19T09:32:04.891Z"
   },
   {
    "duration": 10,
    "start_time": "2022-01-19T09:32:05.272Z"
   },
   {
    "duration": 16,
    "start_time": "2022-01-19T09:32:05.301Z"
   },
   {
    "duration": 9,
    "start_time": "2022-01-19T09:32:22.021Z"
   },
   {
    "duration": 15,
    "start_time": "2022-01-19T09:32:22.651Z"
   },
   {
    "duration": 25,
    "start_time": "2022-01-19T09:32:52.201Z"
   },
   {
    "duration": 10,
    "start_time": "2022-01-19T09:33:08.291Z"
   },
   {
    "duration": 6,
    "start_time": "2022-01-19T09:33:12.157Z"
   },
   {
    "duration": 326,
    "start_time": "2022-01-19T09:33:16.945Z"
   },
   {
    "duration": 10,
    "start_time": "2022-01-19T09:33:26.161Z"
   },
   {
    "duration": 17,
    "start_time": "2022-01-19T09:33:26.550Z"
   },
   {
    "duration": 16,
    "start_time": "2022-01-19T09:33:31.601Z"
   },
   {
    "duration": 3,
    "start_time": "2022-01-19T09:33:49.301Z"
   },
   {
    "duration": 159,
    "start_time": "2022-01-19T09:33:49.461Z"
   },
   {
    "duration": 143,
    "start_time": "2022-01-19T09:33:50.755Z"
   },
   {
    "duration": 98,
    "start_time": "2022-01-19T09:33:50.900Z"
   },
   {
    "duration": 25,
    "start_time": "2022-01-19T09:33:51.000Z"
   },
   {
    "duration": 46,
    "start_time": "2022-01-19T09:33:51.030Z"
   },
   {
    "duration": 71,
    "start_time": "2022-01-19T09:33:51.171Z"
   },
   {
    "duration": 45,
    "start_time": "2022-01-19T09:33:51.331Z"
   },
   {
    "duration": 37,
    "start_time": "2022-01-19T09:33:51.501Z"
   },
   {
    "duration": 6,
    "start_time": "2022-01-19T09:33:51.683Z"
   },
   {
    "duration": 18,
    "start_time": "2022-01-19T09:33:52.276Z"
   },
   {
    "duration": 32,
    "start_time": "2022-01-19T09:33:53.511Z"
   },
   {
    "duration": 23,
    "start_time": "2022-01-19T09:33:54.421Z"
   },
   {
    "duration": 21,
    "start_time": "2022-01-19T09:33:55.151Z"
   },
   {
    "duration": 2,
    "start_time": "2022-01-19T09:33:55.950Z"
   },
   {
    "duration": 19,
    "start_time": "2022-01-19T09:33:59.689Z"
   },
   {
    "duration": 11,
    "start_time": "2022-01-19T09:33:59.861Z"
   },
   {
    "duration": 7,
    "start_time": "2022-01-19T09:34:00.192Z"
   },
   {
    "duration": 347,
    "start_time": "2022-01-19T09:34:00.352Z"
   },
   {
    "duration": 9,
    "start_time": "2022-01-19T09:34:00.701Z"
   },
   {
    "duration": 41,
    "start_time": "2022-01-19T09:34:00.712Z"
   },
   {
    "duration": 332,
    "start_time": "2022-01-19T09:34:38.981Z"
   },
   {
    "duration": 335,
    "start_time": "2022-01-19T09:34:42.051Z"
   },
   {
    "duration": 16,
    "start_time": "2022-01-19T09:34:48.191Z"
   },
   {
    "duration": 17,
    "start_time": "2022-01-19T09:35:33.812Z"
   },
   {
    "duration": 26,
    "start_time": "2022-01-19T09:35:53.871Z"
   },
   {
    "duration": 385,
    "start_time": "2022-01-19T09:36:06.171Z"
   },
   {
    "duration": 12,
    "start_time": "2022-01-19T09:36:10.033Z"
   },
   {
    "duration": 23,
    "start_time": "2022-01-19T09:36:47.951Z"
   },
   {
    "duration": 24,
    "start_time": "2022-01-19T11:23:26.900Z"
   },
   {
    "duration": 339,
    "start_time": "2022-01-19T11:23:56.469Z"
   },
   {
    "duration": 24,
    "start_time": "2022-01-19T11:24:01.575Z"
   },
   {
    "duration": 24,
    "start_time": "2022-01-19T11:25:19.342Z"
   },
   {
    "duration": 221,
    "start_time": "2022-01-19T11:48:23.749Z"
   },
   {
    "duration": 231,
    "start_time": "2022-01-19T11:49:11.050Z"
   },
   {
    "duration": 266,
    "start_time": "2022-01-19T11:49:17.698Z"
   },
   {
    "duration": 18,
    "start_time": "2022-01-19T11:49:23.242Z"
   },
   {
    "duration": 2,
    "start_time": "2022-01-19T14:29:35.526Z"
   },
   {
    "duration": 178,
    "start_time": "2022-01-19T14:29:36.003Z"
   },
   {
    "duration": 149,
    "start_time": "2022-01-19T14:29:36.257Z"
   },
   {
    "duration": 102,
    "start_time": "2022-01-19T14:29:36.687Z"
   },
   {
    "duration": 24,
    "start_time": "2022-01-19T14:29:37.526Z"
   },
   {
    "duration": 58,
    "start_time": "2022-01-19T14:29:38.194Z"
   },
   {
    "duration": 76,
    "start_time": "2022-01-19T14:29:38.947Z"
   },
   {
    "duration": 45,
    "start_time": "2022-01-19T14:29:39.762Z"
   },
   {
    "duration": 41,
    "start_time": "2022-01-19T14:29:40.644Z"
   },
   {
    "duration": 6,
    "start_time": "2022-01-19T14:29:41.411Z"
   },
   {
    "duration": 17,
    "start_time": "2022-01-19T14:29:42.641Z"
   },
   {
    "duration": 35,
    "start_time": "2022-01-19T14:29:47.872Z"
   },
   {
    "duration": 22,
    "start_time": "2022-01-19T14:29:48.545Z"
   },
   {
    "duration": 20,
    "start_time": "2022-01-19T14:29:49.424Z"
   },
   {
    "duration": 19,
    "start_time": "2022-01-19T14:29:57.908Z"
   },
   {
    "duration": 22,
    "start_time": "2022-01-19T14:29:58.566Z"
   },
   {
    "duration": 7,
    "start_time": "2022-01-19T14:30:00.050Z"
   },
   {
    "duration": 345,
    "start_time": "2022-01-19T14:30:00.835Z"
   },
   {
    "duration": 23,
    "start_time": "2022-01-19T14:30:01.374Z"
   },
   {
    "duration": 18,
    "start_time": "2022-01-19T14:30:02.080Z"
   },
   {
    "duration": 657,
    "start_time": "2022-01-20T09:11:16.248Z"
   },
   {
    "duration": 150,
    "start_time": "2022-01-20T09:11:16.907Z"
   },
   {
    "duration": 126,
    "start_time": "2022-01-20T09:11:17.059Z"
   },
   {
    "duration": 86,
    "start_time": "2022-01-20T09:11:17.187Z"
   },
   {
    "duration": 29,
    "start_time": "2022-01-20T09:11:17.274Z"
   },
   {
    "duration": 58,
    "start_time": "2022-01-20T09:11:17.304Z"
   },
   {
    "duration": 73,
    "start_time": "2022-01-20T09:11:17.416Z"
   },
   {
    "duration": 44,
    "start_time": "2022-01-20T09:11:17.590Z"
   },
   {
    "duration": 36,
    "start_time": "2022-01-20T09:11:17.785Z"
   },
   {
    "duration": 6,
    "start_time": "2022-01-20T09:11:17.968Z"
   },
   {
    "duration": 17,
    "start_time": "2022-01-20T09:11:18.175Z"
   },
   {
    "duration": 40,
    "start_time": "2022-01-20T09:11:18.366Z"
   },
   {
    "duration": 25,
    "start_time": "2022-01-20T09:11:18.549Z"
   },
   {
    "duration": 23,
    "start_time": "2022-01-20T09:11:18.723Z"
   },
   {
    "duration": 20,
    "start_time": "2022-01-20T09:11:18.897Z"
   },
   {
    "duration": 22,
    "start_time": "2022-01-20T09:11:19.100Z"
   },
   {
    "duration": 6,
    "start_time": "2022-01-20T09:11:19.490Z"
   },
   {
    "duration": 323,
    "start_time": "2022-01-20T09:11:19.686Z"
   },
   {
    "duration": 374,
    "start_time": "2022-01-20T09:11:20.011Z"
   },
   {
    "duration": -381,
    "start_time": "2022-01-20T09:11:20.768Z"
   },
   {
    "duration": 2,
    "start_time": "2022-01-20T09:11:25.754Z"
   },
   {
    "duration": 361,
    "start_time": "2022-01-20T09:11:25.928Z"
   },
   {
    "duration": 136,
    "start_time": "2022-01-20T09:11:26.291Z"
   },
   {
    "duration": 96,
    "start_time": "2022-01-20T09:11:26.429Z"
   },
   {
    "duration": 25,
    "start_time": "2022-01-20T09:11:26.544Z"
   },
   {
    "duration": 74,
    "start_time": "2022-01-20T09:11:26.743Z"
   },
   {
    "duration": 67,
    "start_time": "2022-01-20T09:11:26.942Z"
   },
   {
    "duration": 42,
    "start_time": "2022-01-20T09:11:27.127Z"
   },
   {
    "duration": 36,
    "start_time": "2022-01-20T09:11:27.316Z"
   },
   {
    "duration": 6,
    "start_time": "2022-01-20T09:11:27.509Z"
   },
   {
    "duration": 17,
    "start_time": "2022-01-20T09:11:27.694Z"
   },
   {
    "duration": 29,
    "start_time": "2022-01-20T09:11:27.883Z"
   },
   {
    "duration": 21,
    "start_time": "2022-01-20T09:11:28.058Z"
   },
   {
    "duration": 19,
    "start_time": "2022-01-20T09:11:28.234Z"
   },
   {
    "duration": 19,
    "start_time": "2022-01-20T09:11:28.397Z"
   },
   {
    "duration": 22,
    "start_time": "2022-01-20T09:11:28.573Z"
   },
   {
    "duration": 7,
    "start_time": "2022-01-20T09:11:28.919Z"
   },
   {
    "duration": 325,
    "start_time": "2022-01-20T09:11:29.081Z"
   },
   {
    "duration": 279,
    "start_time": "2022-01-20T09:11:29.408Z"
   },
   {
    "duration": 269,
    "start_time": "2022-01-20T09:11:29.815Z"
   },
   {
    "duration": 308,
    "start_time": "2022-01-20T09:13:28.153Z"
   },
   {
    "duration": 343,
    "start_time": "2022-01-20T09:13:37.569Z"
   },
   {
    "duration": 286,
    "start_time": "2022-01-20T09:13:41.709Z"
   },
   {
    "duration": 262,
    "start_time": "2022-01-20T09:13:44.943Z"
   },
   {
    "duration": 2,
    "start_time": "2022-01-20T09:13:52.591Z"
   },
   {
    "duration": 154,
    "start_time": "2022-01-20T09:13:53.079Z"
   },
   {
    "duration": 131,
    "start_time": "2022-01-20T09:13:54.502Z"
   },
   {
    "duration": 92,
    "start_time": "2022-01-20T09:13:55.514Z"
   },
   {
    "duration": 24,
    "start_time": "2022-01-20T09:13:56.638Z"
   },
   {
    "duration": 59,
    "start_time": "2022-01-20T09:13:57.856Z"
   },
   {
    "duration": 72,
    "start_time": "2022-01-20T09:13:58.860Z"
   },
   {
    "duration": 44,
    "start_time": "2022-01-20T09:13:59.679Z"
   },
   {
    "duration": 39,
    "start_time": "2022-01-20T09:14:00.687Z"
   },
   {
    "duration": 6,
    "start_time": "2022-01-20T09:14:02.145Z"
   },
   {
    "duration": 18,
    "start_time": "2022-01-20T09:14:03.184Z"
   },
   {
    "duration": 30,
    "start_time": "2022-01-20T09:14:04.327Z"
   },
   {
    "duration": 22,
    "start_time": "2022-01-20T09:14:06.418Z"
   },
   {
    "duration": 17,
    "start_time": "2022-01-20T09:14:07.233Z"
   },
   {
    "duration": 19,
    "start_time": "2022-01-20T09:14:08.727Z"
   },
   {
    "duration": 20,
    "start_time": "2022-01-20T09:14:09.661Z"
   },
   {
    "duration": 8,
    "start_time": "2022-01-20T09:14:13.771Z"
   },
   {
    "duration": 328,
    "start_time": "2022-01-20T09:14:15.811Z"
   },
   {
    "duration": 289,
    "start_time": "2022-01-20T09:14:17.163Z"
   },
   {
    "duration": 275,
    "start_time": "2022-01-20T09:14:18.057Z"
   },
   {
    "duration": 269,
    "start_time": "2022-01-20T09:14:32.700Z"
   },
   {
    "duration": 264,
    "start_time": "2022-01-20T09:14:38.986Z"
   },
   {
    "duration": 847,
    "start_time": "2022-01-20T09:15:55.352Z"
   },
   {
    "duration": 309,
    "start_time": "2022-01-20T09:16:47.170Z"
   },
   {
    "duration": 11,
    "start_time": "2022-01-20T09:16:51.725Z"
   },
   {
    "duration": 267,
    "start_time": "2022-01-20T09:17:02.749Z"
   },
   {
    "duration": 298,
    "start_time": "2022-01-20T09:29:33.652Z"
   },
   {
    "duration": 3,
    "start_time": "2022-01-20T09:30:13.154Z"
   },
   {
    "duration": 221,
    "start_time": "2022-01-20T09:30:13.299Z"
   },
   {
    "duration": 189,
    "start_time": "2022-01-20T09:30:13.522Z"
   },
   {
    "duration": 132,
    "start_time": "2022-01-20T09:30:13.713Z"
   },
   {
    "duration": 30,
    "start_time": "2022-01-20T09:30:13.847Z"
   },
   {
    "duration": 66,
    "start_time": "2022-01-20T09:30:13.954Z"
   },
   {
    "duration": 72,
    "start_time": "2022-01-20T09:30:14.123Z"
   },
   {
    "duration": 43,
    "start_time": "2022-01-20T09:30:14.255Z"
   },
   {
    "duration": 35,
    "start_time": "2022-01-20T09:30:14.399Z"
   },
   {
    "duration": 6,
    "start_time": "2022-01-20T09:30:14.558Z"
   },
   {
    "duration": 17,
    "start_time": "2022-01-20T09:30:14.732Z"
   },
   {
    "duration": 33,
    "start_time": "2022-01-20T09:30:14.891Z"
   },
   {
    "duration": 23,
    "start_time": "2022-01-20T09:30:15.067Z"
   },
   {
    "duration": 19,
    "start_time": "2022-01-20T09:30:15.209Z"
   },
   {
    "duration": 18,
    "start_time": "2022-01-20T09:30:15.377Z"
   },
   {
    "duration": 19,
    "start_time": "2022-01-20T09:30:15.531Z"
   },
   {
    "duration": 7,
    "start_time": "2022-01-20T09:30:15.829Z"
   },
   {
    "duration": 326,
    "start_time": "2022-01-20T09:30:15.971Z"
   },
   {
    "duration": 323,
    "start_time": "2022-01-20T09:30:16.299Z"
   },
   {
    "duration": 271,
    "start_time": "2022-01-20T09:30:17.049Z"
   },
   {
    "duration": 13,
    "start_time": "2022-01-20T09:30:32.171Z"
   },
   {
    "duration": 265,
    "start_time": "2022-01-20T09:30:42.431Z"
   },
   {
    "duration": 544,
    "start_time": "2022-01-20T09:43:29.482Z"
   },
   {
    "duration": 267,
    "start_time": "2022-01-20T09:45:34.073Z"
   },
   {
    "duration": 276,
    "start_time": "2022-01-20T09:45:50.249Z"
   },
   {
    "duration": 261,
    "start_time": "2022-01-20T09:46:44.287Z"
   },
   {
    "duration": 20,
    "start_time": "2022-01-20T09:47:40.383Z"
   },
   {
    "duration": 20,
    "start_time": "2022-01-20T09:48:33.760Z"
   },
   {
    "duration": 20,
    "start_time": "2022-01-20T09:48:54.213Z"
   },
   {
    "duration": 21,
    "start_time": "2022-01-20T09:49:06.424Z"
   },
   {
    "duration": 22,
    "start_time": "2022-01-20T09:49:16.783Z"
   },
   {
    "duration": 30,
    "start_time": "2022-01-20T09:50:58.962Z"
   },
   {
    "duration": 17,
    "start_time": "2022-01-20T09:51:35.182Z"
   },
   {
    "duration": 24,
    "start_time": "2022-01-20T09:51:45.003Z"
   },
   {
    "duration": 20,
    "start_time": "2022-01-20T09:55:25.096Z"
   },
   {
    "duration": 319,
    "start_time": "2022-01-20T09:55:30.807Z"
   },
   {
    "duration": 318,
    "start_time": "2022-01-20T09:58:52.840Z"
   },
   {
    "duration": 21,
    "start_time": "2022-01-20T09:58:57.479Z"
   },
   {
    "duration": 3,
    "start_time": "2022-01-20T09:59:04.375Z"
   },
   {
    "duration": 149,
    "start_time": "2022-01-20T09:59:04.544Z"
   },
   {
    "duration": 136,
    "start_time": "2022-01-20T09:59:04.730Z"
   },
   {
    "duration": 96,
    "start_time": "2022-01-20T09:59:04.878Z"
   },
   {
    "duration": 24,
    "start_time": "2022-01-20T09:59:05.064Z"
   },
   {
    "duration": 51,
    "start_time": "2022-01-20T09:59:05.230Z"
   },
   {
    "duration": 68,
    "start_time": "2022-01-20T09:59:05.395Z"
   },
   {
    "duration": 42,
    "start_time": "2022-01-20T09:59:05.568Z"
   },
   {
    "duration": 36,
    "start_time": "2022-01-20T09:59:05.720Z"
   },
   {
    "duration": 6,
    "start_time": "2022-01-20T09:59:05.892Z"
   },
   {
    "duration": 18,
    "start_time": "2022-01-20T09:59:06.047Z"
   },
   {
    "duration": 35,
    "start_time": "2022-01-20T09:59:06.216Z"
   },
   {
    "duration": 20,
    "start_time": "2022-01-20T09:59:06.379Z"
   },
   {
    "duration": 22,
    "start_time": "2022-01-20T09:59:06.539Z"
   },
   {
    "duration": 17,
    "start_time": "2022-01-20T09:59:06.697Z"
   },
   {
    "duration": 19,
    "start_time": "2022-01-20T09:59:06.879Z"
   },
   {
    "duration": 6,
    "start_time": "2022-01-20T09:59:07.219Z"
   },
   {
    "duration": 309,
    "start_time": "2022-01-20T09:59:07.397Z"
   },
   {
    "duration": 21,
    "start_time": "2022-01-20T09:59:07.707Z"
   },
   {
    "duration": 338,
    "start_time": "2022-01-20T09:59:07.741Z"
   },
   {
    "duration": 21,
    "start_time": "2022-01-20T09:59:59.789Z"
   },
   {
    "duration": 6,
    "start_time": "2022-01-20T10:01:40.464Z"
   },
   {
    "duration": 16,
    "start_time": "2022-01-20T10:01:40.936Z"
   },
   {
    "duration": 28,
    "start_time": "2022-01-20T10:01:41.618Z"
   },
   {
    "duration": 18,
    "start_time": "2022-01-20T10:01:42.087Z"
   },
   {
    "duration": 15,
    "start_time": "2022-01-20T10:01:42.611Z"
   },
   {
    "duration": 17,
    "start_time": "2022-01-20T10:01:43.240Z"
   },
   {
    "duration": 19,
    "start_time": "2022-01-20T10:01:43.773Z"
   },
   {
    "duration": 7,
    "start_time": "2022-01-20T10:01:45.341Z"
   },
   {
    "duration": 321,
    "start_time": "2022-01-20T10:01:45.980Z"
   },
   {
    "duration": 22,
    "start_time": "2022-01-20T10:01:46.633Z"
   },
   {
    "duration": 258,
    "start_time": "2022-01-20T10:01:53.747Z"
   },
   {
    "duration": 23,
    "start_time": "2022-01-20T10:01:59.814Z"
   },
   {
    "duration": 17,
    "start_time": "2022-01-20T10:02:17.521Z"
   },
   {
    "duration": 21,
    "start_time": "2022-01-20T10:05:53.239Z"
   },
   {
    "duration": 22,
    "start_time": "2022-01-20T10:10:14.984Z"
   },
   {
    "duration": 11,
    "start_time": "2022-01-20T10:11:01.583Z"
   },
   {
    "duration": 956,
    "start_time": "2022-01-20T10:11:07.860Z"
   },
   {
    "duration": 19,
    "start_time": "2022-01-20T10:11:30.369Z"
   },
   {
    "duration": 461,
    "start_time": "2022-01-20T10:11:34.219Z"
   },
   {
    "duration": 3,
    "start_time": "2022-01-20T10:11:58.112Z"
   },
   {
    "duration": 262,
    "start_time": "2022-01-20T10:12:03.012Z"
   },
   {
    "duration": 265,
    "start_time": "2022-01-20T10:15:02.169Z"
   },
   {
    "duration": 253,
    "start_time": "2022-01-20T10:15:18.455Z"
   },
   {
    "duration": 311,
    "start_time": "2022-01-20T10:15:40.726Z"
   },
   {
    "duration": 260,
    "start_time": "2022-01-20T10:15:59.911Z"
   },
   {
    "duration": 331,
    "start_time": "2022-01-20T10:16:43.865Z"
   },
   {
    "duration": 500,
    "start_time": "2022-01-20T10:21:08.667Z"
   },
   {
    "duration": 4,
    "start_time": "2022-01-20T10:21:32.469Z"
   },
   {
    "duration": 3,
    "start_time": "2022-01-20T10:21:34.543Z"
   },
   {
    "duration": 6,
    "start_time": "2022-01-20T10:21:38.085Z"
   },
   {
    "duration": 5,
    "start_time": "2022-01-20T10:24:03.459Z"
   },
   {
    "duration": 7,
    "start_time": "2022-01-20T10:26:57.643Z"
   },
   {
    "duration": 10,
    "start_time": "2022-01-20T10:27:20.715Z"
   },
   {
    "duration": 5,
    "start_time": "2022-01-20T10:27:42.465Z"
   },
   {
    "duration": 336,
    "start_time": "2022-01-24T16:50:51.247Z"
   },
   {
    "duration": 609,
    "start_time": "2022-01-24T16:52:20.357Z"
   },
   {
    "duration": 1044,
    "start_time": "2022-01-24T16:52:40.778Z"
   },
   {
    "duration": 168,
    "start_time": "2022-01-24T16:52:41.824Z"
   },
   {
    "duration": 148,
    "start_time": "2022-01-24T16:52:45.239Z"
   },
   {
    "duration": 104,
    "start_time": "2022-01-24T16:52:45.587Z"
   },
   {
    "duration": 27,
    "start_time": "2022-01-24T16:52:48.862Z"
   },
   {
    "duration": 48,
    "start_time": "2022-01-24T16:52:49.080Z"
   },
   {
    "duration": 7,
    "start_time": "2022-01-24T16:52:57.094Z"
   },
   {
    "duration": 6,
    "start_time": "2022-01-24T16:53:29.631Z"
   },
   {
    "duration": 7,
    "start_time": "2022-01-24T16:53:45.150Z"
   },
   {
    "duration": 104,
    "start_time": "2022-01-24T16:54:00.440Z"
   },
   {
    "duration": 153,
    "start_time": "2022-01-24T16:54:19.581Z"
   },
   {
    "duration": 47,
    "start_time": "2022-01-24T16:54:53.600Z"
   },
   {
    "duration": 43,
    "start_time": "2022-01-24T16:55:09.193Z"
   },
   {
    "duration": 310,
    "start_time": "2022-01-24T16:55:44.061Z"
   },
   {
    "duration": 53,
    "start_time": "2022-01-24T16:55:55.288Z"
   },
   {
    "duration": 85,
    "start_time": "2022-01-24T16:55:55.388Z"
   },
   {
    "duration": 44,
    "start_time": "2022-01-24T16:55:55.753Z"
   },
   {
    "duration": 36,
    "start_time": "2022-01-24T16:55:55.927Z"
   },
   {
    "duration": 6,
    "start_time": "2022-01-24T16:55:56.087Z"
   },
   {
    "duration": 18,
    "start_time": "2022-01-24T16:55:56.242Z"
   },
   {
    "duration": 36,
    "start_time": "2022-01-24T16:55:56.410Z"
   },
   {
    "duration": 21,
    "start_time": "2022-01-24T16:55:56.597Z"
   },
   {
    "duration": 19,
    "start_time": "2022-01-24T16:55:57.300Z"
   },
   {
    "duration": 18,
    "start_time": "2022-01-24T16:55:58.583Z"
   },
   {
    "duration": 20,
    "start_time": "2022-01-24T16:55:59.473Z"
   },
   {
    "duration": 8,
    "start_time": "2022-01-24T16:56:05.093Z"
   },
   {
    "duration": 339,
    "start_time": "2022-01-24T16:56:05.840Z"
   },
   {
    "duration": 28,
    "start_time": "2022-01-24T16:56:07.957Z"
   },
   {
    "duration": 79,
    "start_time": "2022-01-24T16:57:06.974Z"
   },
   {
    "duration": 962,
    "start_time": "2022-01-24T16:57:13.824Z"
   },
   {
    "duration": 979,
    "start_time": "2022-01-24T17:03:21.148Z"
   },
   {
    "duration": 268,
    "start_time": "2022-01-24T17:03:50.355Z"
   },
   {
    "duration": 319,
    "start_time": "2022-01-24T17:03:51.772Z"
   },
   {
    "duration": 152,
    "start_time": "2022-01-25T11:29:33.552Z"
   },
   {
    "duration": 399,
    "start_time": "2022-01-25T13:25:57.012Z"
   },
   {
    "duration": 327,
    "start_time": "2022-01-25T13:26:30.499Z"
   },
   {
    "duration": 337,
    "start_time": "2022-01-25T13:26:31.093Z"
   },
   {
    "duration": 1540,
    "start_time": "2022-01-25T13:26:49.365Z"
   },
   {
    "duration": 253,
    "start_time": "2022-01-25T13:26:50.908Z"
   },
   {
    "duration": 183,
    "start_time": "2022-01-25T13:26:51.169Z"
   },
   {
    "duration": 130,
    "start_time": "2022-01-25T13:26:51.355Z"
   },
   {
    "duration": 33,
    "start_time": "2022-01-25T13:26:51.487Z"
   },
   {
    "duration": 52,
    "start_time": "2022-01-25T13:26:51.685Z"
   },
   {
    "duration": 66,
    "start_time": "2022-01-25T13:26:52.565Z"
   },
   {
    "duration": 111,
    "start_time": "2022-01-25T13:26:52.735Z"
   },
   {
    "duration": 63,
    "start_time": "2022-01-25T13:26:53.049Z"
   },
   {
    "duration": 53,
    "start_time": "2022-01-25T13:26:53.197Z"
   },
   {
    "duration": 9,
    "start_time": "2022-01-25T13:26:53.381Z"
   },
   {
    "duration": 27,
    "start_time": "2022-01-25T13:26:53.565Z"
   },
   {
    "duration": 54,
    "start_time": "2022-01-25T13:26:53.691Z"
   },
   {
    "duration": 32,
    "start_time": "2022-01-25T13:26:53.869Z"
   },
   {
    "duration": 31,
    "start_time": "2022-01-25T13:26:54.046Z"
   },
   {
    "duration": 31,
    "start_time": "2022-01-25T13:26:54.366Z"
   },
   {
    "duration": 30,
    "start_time": "2022-01-25T13:26:54.685Z"
   },
   {
    "duration": 10,
    "start_time": "2022-01-25T13:26:55.246Z"
   },
   {
    "duration": 610,
    "start_time": "2022-01-25T13:26:55.408Z"
   },
   {
    "duration": 3,
    "start_time": "2022-01-25T13:26:56.021Z"
   },
   {
    "duration": 394,
    "start_time": "2022-01-25T13:26:56.026Z"
   },
   {
    "duration": -54,
    "start_time": "2022-01-25T13:26:56.477Z"
   },
   {
    "duration": 609,
    "start_time": "2022-01-25T13:27:13.127Z"
   },
   {
    "duration": 7695,
    "start_time": "2022-01-25T13:27:34.941Z"
   },
   {
    "duration": -358,
    "start_time": "2022-01-25T13:27:42.996Z"
   },
   {
    "duration": 6,
    "start_time": "2022-01-25T13:27:56.685Z"
   },
   {
    "duration": 8424,
    "start_time": "2022-01-25T13:28:00.047Z"
   },
   {
    "duration": 363,
    "start_time": "2022-01-25T13:30:37.326Z"
   },
   {
    "duration": 26,
    "start_time": "2022-01-25T13:34:59.005Z"
   },
   {
    "duration": 10,
    "start_time": "2022-01-25T13:47:30.805Z"
   },
   {
    "duration": 33,
    "start_time": "2022-01-25T13:47:31.375Z"
   },
   {
    "duration": 10,
    "start_time": "2022-01-25T13:50:45.073Z"
   },
   {
    "duration": 608,
    "start_time": "2022-01-25T13:50:45.689Z"
   },
   {
    "duration": 7,
    "start_time": "2022-01-25T13:50:50.361Z"
   },
   {
    "duration": 26,
    "start_time": "2022-01-25T13:50:50.828Z"
   },
   {
    "duration": 7,
    "start_time": "2022-01-25T13:51:56.392Z"
   },
   {
    "duration": 13,
    "start_time": "2022-01-25T13:52:13.603Z"
   },
   {
    "duration": 11,
    "start_time": "2022-01-25T13:52:22.198Z"
   },
   {
    "duration": 10,
    "start_time": "2022-01-25T14:00:55.450Z"
   },
   {
    "duration": 17,
    "start_time": "2022-01-25T14:00:55.996Z"
   },
   {
    "duration": 34,
    "start_time": "2022-01-25T14:00:57.196Z"
   },
   {
    "duration": 18,
    "start_time": "2022-01-25T14:01:21.497Z"
   },
   {
    "duration": 391,
    "start_time": "2022-01-25T14:06:35.318Z"
   },
   {
    "duration": 341,
    "start_time": "2022-01-25T14:08:02.968Z"
   },
   {
    "duration": 321,
    "start_time": "2022-01-25T14:08:39.220Z"
   },
   {
    "duration": 355,
    "start_time": "2022-01-25T14:10:39.240Z"
   },
   {
    "duration": 344,
    "start_time": "2022-01-25T14:10:53.437Z"
   },
   {
    "duration": 354,
    "start_time": "2022-01-25T14:11:25.842Z"
   },
   {
    "duration": 343,
    "start_time": "2022-01-25T14:11:38.152Z"
   },
   {
    "duration": 17,
    "start_time": "2022-01-25T14:11:48.713Z"
   },
   {
    "duration": 340,
    "start_time": "2022-01-25T14:12:47.656Z"
   },
   {
    "duration": 19,
    "start_time": "2022-01-25T14:12:49.426Z"
   },
   {
    "duration": 32,
    "start_time": "2022-01-25T14:13:19.570Z"
   },
   {
    "duration": 17,
    "start_time": "2022-01-25T14:14:14.417Z"
   },
   {
    "duration": 35,
    "start_time": "2022-01-25T14:14:21.114Z"
   },
   {
    "duration": 10,
    "start_time": "2022-01-25T14:15:29.467Z"
   },
   {
    "duration": 18,
    "start_time": "2022-01-25T14:15:31.230Z"
   },
   {
    "duration": 33,
    "start_time": "2022-01-25T14:15:32.031Z"
   },
   {
    "duration": 427,
    "start_time": "2022-01-25T14:29:11.122Z"
   },
   {
    "duration": 560,
    "start_time": "2022-01-25T14:29:25.676Z"
   },
   {
    "duration": 535,
    "start_time": "2022-01-25T14:29:39.971Z"
   },
   {
    "duration": 1406,
    "start_time": "2022-01-25T14:29:58.204Z"
   },
   {
    "duration": 9663,
    "start_time": "2022-01-25T14:58:45.667Z"
   },
   {
    "duration": 215,
    "start_time": "2022-01-25T14:59:22.671Z"
   },
   {
    "duration": 152,
    "start_time": "2022-01-25T14:59:44.935Z"
   },
   {
    "duration": 7977,
    "start_time": "2022-01-25T14:59:53.788Z"
   },
   {
    "duration": 1292,
    "start_time": "2022-01-26T08:24:55.846Z"
   },
   {
    "duration": 224,
    "start_time": "2022-01-26T08:24:57.141Z"
   },
   {
    "duration": 160,
    "start_time": "2022-01-26T08:24:57.367Z"
   },
   {
    "duration": 113,
    "start_time": "2022-01-26T08:24:57.529Z"
   },
   {
    "duration": 32,
    "start_time": "2022-01-26T08:24:58.127Z"
   },
   {
    "duration": 44,
    "start_time": "2022-01-26T08:24:59.604Z"
   },
   {
    "duration": 58,
    "start_time": "2022-01-26T08:24:59.819Z"
   },
   {
    "duration": 84,
    "start_time": "2022-01-26T08:25:00.364Z"
   },
   {
    "duration": 49,
    "start_time": "2022-01-26T08:25:02.144Z"
   },
   {
    "duration": 45,
    "start_time": "2022-01-26T08:25:02.313Z"
   },
   {
    "duration": 8,
    "start_time": "2022-01-26T08:25:02.494Z"
   },
   {
    "duration": 21,
    "start_time": "2022-01-26T08:25:02.620Z"
   },
   {
    "duration": 53,
    "start_time": "2022-01-26T08:25:02.788Z"
   },
   {
    "duration": 27,
    "start_time": "2022-01-26T08:25:02.951Z"
   },
   {
    "duration": 26,
    "start_time": "2022-01-26T08:25:03.111Z"
   },
   {
    "duration": 22,
    "start_time": "2022-01-26T08:25:03.429Z"
   },
   {
    "duration": 24,
    "start_time": "2022-01-26T08:25:03.757Z"
   },
   {
    "duration": 8,
    "start_time": "2022-01-26T08:25:04.269Z"
   },
   {
    "duration": 341,
    "start_time": "2022-01-26T08:25:04.443Z"
   },
   {
    "duration": 9,
    "start_time": "2022-01-26T08:25:05.329Z"
   },
   {
    "duration": 14,
    "start_time": "2022-01-26T08:25:05.510Z"
   },
   {
    "duration": 23,
    "start_time": "2022-01-26T08:25:05.694Z"
   },
   {
    "duration": 5520,
    "start_time": "2022-01-26T08:25:05.893Z"
   },
   {
    "duration": -86,
    "start_time": "2022-01-26T08:25:11.502Z"
   },
   {
    "duration": -88,
    "start_time": "2022-01-26T08:25:11.506Z"
   },
   {
    "duration": -108,
    "start_time": "2022-01-26T08:25:11.527Z"
   },
   {
    "duration": -113,
    "start_time": "2022-01-26T08:25:11.533Z"
   },
   {
    "duration": -117,
    "start_time": "2022-01-26T08:25:11.538Z"
   },
   {
    "duration": -134,
    "start_time": "2022-01-26T08:25:11.556Z"
   },
   {
    "duration": -138,
    "start_time": "2022-01-26T08:25:11.561Z"
   },
   {
    "duration": -145,
    "start_time": "2022-01-26T08:25:11.569Z"
   },
   {
    "duration": 14,
    "start_time": "2022-01-26T08:29:11.274Z"
   },
   {
    "duration": 4828,
    "start_time": "2022-01-26T08:35:10.006Z"
   },
   {
    "duration": 5268,
    "start_time": "2022-01-26T08:36:30.555Z"
   },
   {
    "duration": 15,
    "start_time": "2022-01-26T08:36:53.768Z"
   },
   {
    "duration": 222,
    "start_time": "2022-01-26T08:47:14.991Z"
   },
   {
    "duration": 203,
    "start_time": "2022-01-26T08:47:24.283Z"
   },
   {
    "duration": 4914,
    "start_time": "2022-01-26T08:50:07.194Z"
   },
   {
    "duration": 5699,
    "start_time": "2022-01-26T08:50:27.678Z"
   },
   {
    "duration": 5089,
    "start_time": "2022-01-26T08:51:39.125Z"
   },
   {
    "duration": 81,
    "start_time": "2022-01-26T09:07:24.299Z"
   },
   {
    "duration": 6,
    "start_time": "2022-01-26T09:08:54.739Z"
   },
   {
    "duration": 7,
    "start_time": "2022-01-26T09:11:11.994Z"
   },
   {
    "duration": 1015,
    "start_time": "2022-01-26T09:17:15.949Z"
   },
   {
    "duration": 386,
    "start_time": "2022-01-26T09:17:16.966Z"
   },
   {
    "duration": 354,
    "start_time": "2022-01-26T09:17:17.355Z"
   },
   {
    "duration": 300,
    "start_time": "2022-01-26T09:17:17.711Z"
   },
   {
    "duration": 202,
    "start_time": "2022-01-26T09:17:48.105Z"
   },
   {
    "duration": 204,
    "start_time": "2022-01-26T09:18:11.496Z"
   },
   {
    "duration": 4963,
    "start_time": "2022-01-26T09:18:23.628Z"
   },
   {
    "duration": -78,
    "start_time": "2022-01-26T09:18:28.671Z"
   },
   {
    "duration": 6,
    "start_time": "2022-01-26T09:19:10.465Z"
   },
   {
    "duration": 264,
    "start_time": "2022-01-26T09:19:13.123Z"
   },
   {
    "duration": 206,
    "start_time": "2022-01-26T09:19:39.284Z"
   },
   {
    "duration": 250,
    "start_time": "2022-01-26T09:19:44.336Z"
   },
   {
    "duration": 5037,
    "start_time": "2022-01-26T09:20:14.298Z"
   },
   {
    "duration": 7,
    "start_time": "2022-01-26T09:20:29.044Z"
   },
   {
    "duration": 284,
    "start_time": "2022-01-26T09:24:14.057Z"
   },
   {
    "duration": 6,
    "start_time": "2022-01-26T09:24:18.043Z"
   },
   {
    "duration": 19,
    "start_time": "2022-01-26T09:24:18.694Z"
   },
   {
    "duration": 4810,
    "start_time": "2022-01-26T09:24:43.411Z"
   },
   {
    "duration": 348,
    "start_time": "2022-01-26T09:26:16.307Z"
   },
   {
    "duration": 3,
    "start_time": "2022-01-26T09:26:51.745Z"
   },
   {
    "duration": 340,
    "start_time": "2022-01-26T09:26:57.922Z"
   },
   {
    "duration": 6,
    "start_time": "2022-01-26T09:28:45.826Z"
   },
   {
    "duration": 341,
    "start_time": "2022-01-26T09:28:48.924Z"
   },
   {
    "duration": 20,
    "start_time": "2022-01-26T09:30:29.205Z"
   },
   {
    "duration": 368,
    "start_time": "2022-01-26T09:31:31.272Z"
   },
   {
    "duration": 21,
    "start_time": "2022-01-26T09:35:07.411Z"
   },
   {
    "duration": 265,
    "start_time": "2022-01-26T09:35:47.858Z"
   },
   {
    "duration": 230,
    "start_time": "2022-01-26T09:36:27.385Z"
   },
   {
    "duration": 252,
    "start_time": "2022-01-26T09:37:17.518Z"
   },
   {
    "duration": 23,
    "start_time": "2022-01-26T09:38:06.251Z"
   },
   {
    "duration": 21,
    "start_time": "2022-01-26T09:38:11.635Z"
   },
   {
    "duration": 3,
    "start_time": "2022-01-26T09:38:28.830Z"
   },
   {
    "duration": 229,
    "start_time": "2022-01-26T09:38:29.237Z"
   },
   {
    "duration": 160,
    "start_time": "2022-01-26T09:38:29.729Z"
   },
   {
    "duration": 108,
    "start_time": "2022-01-26T09:38:30.237Z"
   },
   {
    "duration": 29,
    "start_time": "2022-01-26T09:38:30.885Z"
   },
   {
    "duration": 45,
    "start_time": "2022-01-26T09:38:31.415Z"
   },
   {
    "duration": 48,
    "start_time": "2022-01-26T09:38:32.631Z"
   },
   {
    "duration": 77,
    "start_time": "2022-01-26T09:38:33.615Z"
   },
   {
    "duration": 47,
    "start_time": "2022-01-26T09:38:36.425Z"
   },
   {
    "duration": 41,
    "start_time": "2022-01-26T09:38:38.995Z"
   },
   {
    "duration": 8,
    "start_time": "2022-01-26T09:38:40.023Z"
   },
   {
    "duration": 20,
    "start_time": "2022-01-26T09:38:40.661Z"
   },
   {
    "duration": 53,
    "start_time": "2022-01-26T09:38:41.393Z"
   },
   {
    "duration": 25,
    "start_time": "2022-01-26T09:38:42.338Z"
   },
   {
    "duration": 22,
    "start_time": "2022-01-26T09:38:43.313Z"
   },
   {
    "duration": 23,
    "start_time": "2022-01-26T09:38:45.160Z"
   },
   {
    "duration": 21,
    "start_time": "2022-01-26T09:38:46.851Z"
   },
   {
    "duration": 11,
    "start_time": "2022-01-26T09:38:49.335Z"
   },
   {
    "duration": 369,
    "start_time": "2022-01-26T09:38:50.071Z"
   },
   {
    "duration": 10,
    "start_time": "2022-01-26T09:38:55.617Z"
   },
   {
    "duration": 14,
    "start_time": "2022-01-26T09:38:56.585Z"
   },
   {
    "duration": 102,
    "start_time": "2022-01-26T09:38:58.008Z"
   },
   {
    "duration": 1007,
    "start_time": "2022-01-26T09:39:03.757Z"
   },
   {
    "duration": 353,
    "start_time": "2022-01-26T09:39:04.766Z"
   },
   {
    "duration": 335,
    "start_time": "2022-01-26T09:39:06.093Z"
   },
   {
    "duration": 290,
    "start_time": "2022-01-26T09:39:06.939Z"
   },
   {
    "duration": 7,
    "start_time": "2022-01-26T09:39:11.770Z"
   },
   {
    "duration": 6,
    "start_time": "2022-01-26T09:39:15.232Z"
   },
   {
    "duration": 18,
    "start_time": "2022-01-26T09:39:25.266Z"
   },
   {
    "duration": 337,
    "start_time": "2022-01-26T09:39:34.002Z"
   },
   {
    "duration": 6,
    "start_time": "2022-01-26T09:41:53.000Z"
   },
   {
    "duration": 1147,
    "start_time": "2022-01-27T09:09:09.234Z"
   },
   {
    "duration": 178,
    "start_time": "2022-01-27T09:09:10.383Z"
   },
   {
    "duration": 143,
    "start_time": "2022-01-27T09:09:10.563Z"
   },
   {
    "duration": 102,
    "start_time": "2022-01-27T09:09:11.352Z"
   },
   {
    "duration": 29,
    "start_time": "2022-01-27T09:09:12.583Z"
   },
   {
    "duration": 50,
    "start_time": "2022-01-27T09:09:13.335Z"
   },
   {
    "duration": 54,
    "start_time": "2022-01-27T09:09:14.833Z"
   },
   {
    "duration": 113,
    "start_time": "2022-01-27T09:09:16.191Z"
   },
   {
    "duration": 46,
    "start_time": "2022-01-27T09:09:16.688Z"
   },
   {
    "duration": 48,
    "start_time": "2022-01-27T09:09:17.471Z"
   },
   {
    "duration": 6,
    "start_time": "2022-01-27T09:09:18.151Z"
   },
   {
    "duration": 22,
    "start_time": "2022-01-27T09:09:18.784Z"
   },
   {
    "duration": 38,
    "start_time": "2022-01-27T09:09:19.431Z"
   },
   {
    "duration": 24,
    "start_time": "2022-01-27T09:09:20.231Z"
   },
   {
    "duration": 22,
    "start_time": "2022-01-27T09:09:20.911Z"
   },
   {
    "duration": 19,
    "start_time": "2022-01-27T09:09:22.295Z"
   },
   {
    "duration": 20,
    "start_time": "2022-01-27T09:09:23.393Z"
   },
   {
    "duration": 6,
    "start_time": "2022-01-27T09:09:25.360Z"
   },
   {
    "duration": 313,
    "start_time": "2022-01-27T09:09:27.805Z"
   },
   {
    "duration": 9,
    "start_time": "2022-01-27T09:09:29.440Z"
   },
   {
    "duration": 15,
    "start_time": "2022-01-27T09:09:29.990Z"
   },
   {
    "duration": 74,
    "start_time": "2022-01-27T09:09:31.034Z"
   },
   {
    "duration": 934,
    "start_time": "2022-01-27T09:09:32.120Z"
   },
   {
    "duration": 355,
    "start_time": "2022-01-27T09:09:33.056Z"
   },
   {
    "duration": 453,
    "start_time": "2022-01-27T09:09:33.413Z"
   },
   {
    "duration": 294,
    "start_time": "2022-01-27T09:09:33.868Z"
   },
   {
    "duration": 6,
    "start_time": "2022-01-27T09:09:34.164Z"
   },
   {
    "duration": 6,
    "start_time": "2022-01-27T09:09:34.558Z"
   },
   {
    "duration": 17,
    "start_time": "2022-01-27T09:09:34.713Z"
   },
   {
    "duration": 6,
    "start_time": "2022-01-27T09:09:34.887Z"
   },
   {
    "duration": 3441,
    "start_time": "2022-01-27T09:30:55.319Z"
   },
   {
    "duration": 13,
    "start_time": "2022-01-27T09:32:33.437Z"
   },
   {
    "duration": 12,
    "start_time": "2022-01-27T09:33:55.598Z"
   },
   {
    "duration": 98,
    "start_time": "2022-01-27T09:34:07.838Z"
   },
   {
    "duration": 7,
    "start_time": "2022-01-27T09:35:21.078Z"
   },
   {
    "duration": 19,
    "start_time": "2022-01-27T09:35:22.717Z"
   },
   {
    "duration": 6,
    "start_time": "2022-01-27T09:35:29.837Z"
   }
  ],
  "kernelspec": {
   "display_name": "Python 3",
   "language": "python",
   "name": "python3"
  },
  "language_info": {
   "codemirror_mode": {
    "name": "ipython",
    "version": 3
   },
   "file_extension": ".py",
   "mimetype": "text/x-python",
   "name": "python",
   "nbconvert_exporter": "python",
   "pygments_lexer": "ipython3",
   "version": "3.8.8"
  },
  "toc": {
   "base_numbering": 1,
   "nav_menu": {},
   "number_sections": true,
   "sideBar": true,
   "skip_h1_title": true,
   "title_cell": "Table of Contents",
   "title_sidebar": "Contents",
   "toc_cell": false,
   "toc_position": {},
   "toc_section_display": true,
   "toc_window_display": false
  }
 },
 "nbformat": 4,
 "nbformat_minor": 2
}
